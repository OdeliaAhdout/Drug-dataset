{
  "cells": [
    {
      "cell_type": "markdown",
      "metadata": {
        "id": "view-in-github",
        "colab_type": "text"
      },
      "source": [
        "<a href=\"https://colab.research.google.com/github/OdeliaAhdout/Drug-dataset/blob/main/meds25_LLM.ipynb\" target=\"_parent\"><img src=\"https://colab.research.google.com/assets/colab-badge.svg\" alt=\"Open In Colab\"/></a>"
      ]
    },
    {
      "cell_type": "markdown",
      "metadata": {
        "id": "nbJC72SrMrZQ"
      },
      "source": [
        "Using BERT on a corpora of reviews encompassing medicine and corresponding health condition, cf. ."
      ]
    },
    {
      "cell_type": "code",
      "execution_count": null,
      "metadata": {
        "colab": {
          "base_uri": "https://localhost:8080/"
        },
        "id": "tFb7LllJimoQ",
        "outputId": "555449e3-a1dc-4726-a0cd-3a412a4add17"
      },
      "outputs": [
        {
          "name": "stdout",
          "output_type": "stream",
          "text": [
            "Requirement already satisfied: transformers in /usr/local/lib/python3.10/dist-packages (4.47.1)\n",
            "Requirement already satisfied: torch in /usr/local/lib/python3.10/dist-packages (2.5.1+cu121)\n",
            "Requirement already satisfied: scikit-learn in /usr/local/lib/python3.10/dist-packages (1.6.0)\n",
            "Requirement already satisfied: filelock in /usr/local/lib/python3.10/dist-packages (from transformers) (3.16.1)\n",
            "Requirement already satisfied: huggingface-hub<1.0,>=0.24.0 in /usr/local/lib/python3.10/dist-packages (from transformers) (0.27.0)\n",
            "Requirement already satisfied: numpy>=1.17 in /usr/local/lib/python3.10/dist-packages (from transformers) (1.26.4)\n",
            "Requirement already satisfied: packaging>=20.0 in /usr/local/lib/python3.10/dist-packages (from transformers) (24.2)\n",
            "Requirement already satisfied: pyyaml>=5.1 in /usr/local/lib/python3.10/dist-packages (from transformers) (6.0.2)\n",
            "Requirement already satisfied: regex!=2019.12.17 in /usr/local/lib/python3.10/dist-packages (from transformers) (2024.11.6)\n",
            "Requirement already satisfied: requests in /usr/local/lib/python3.10/dist-packages (from transformers) (2.32.3)\n",
            "Requirement already satisfied: tokenizers<0.22,>=0.21 in /usr/local/lib/python3.10/dist-packages (from transformers) (0.21.0)\n",
            "Requirement already satisfied: safetensors>=0.4.1 in /usr/local/lib/python3.10/dist-packages (from transformers) (0.4.5)\n",
            "Requirement already satisfied: tqdm>=4.27 in /usr/local/lib/python3.10/dist-packages (from transformers) (4.67.1)\n",
            "Requirement already satisfied: typing-extensions>=4.8.0 in /usr/local/lib/python3.10/dist-packages (from torch) (4.12.2)\n",
            "Requirement already satisfied: networkx in /usr/local/lib/python3.10/dist-packages (from torch) (3.4.2)\n",
            "Requirement already satisfied: jinja2 in /usr/local/lib/python3.10/dist-packages (from torch) (3.1.4)\n",
            "Requirement already satisfied: fsspec in /usr/local/lib/python3.10/dist-packages (from torch) (2024.10.0)\n",
            "Requirement already satisfied: sympy==1.13.1 in /usr/local/lib/python3.10/dist-packages (from torch) (1.13.1)\n",
            "Requirement already satisfied: mpmath<1.4,>=1.1.0 in /usr/local/lib/python3.10/dist-packages (from sympy==1.13.1->torch) (1.3.0)\n",
            "Requirement already satisfied: scipy>=1.6.0 in /usr/local/lib/python3.10/dist-packages (from scikit-learn) (1.13.1)\n",
            "Requirement already satisfied: joblib>=1.2.0 in /usr/local/lib/python3.10/dist-packages (from scikit-learn) (1.4.2)\n",
            "Requirement already satisfied: threadpoolctl>=3.1.0 in /usr/local/lib/python3.10/dist-packages (from scikit-learn) (3.5.0)\n",
            "Requirement already satisfied: MarkupSafe>=2.0 in /usr/local/lib/python3.10/dist-packages (from jinja2->torch) (3.0.2)\n",
            "Requirement already satisfied: charset-normalizer<4,>=2 in /usr/local/lib/python3.10/dist-packages (from requests->transformers) (3.4.0)\n",
            "Requirement already satisfied: idna<4,>=2.5 in /usr/local/lib/python3.10/dist-packages (from requests->transformers) (3.10)\n",
            "Requirement already satisfied: urllib3<3,>=1.21.1 in /usr/local/lib/python3.10/dist-packages (from requests->transformers) (2.2.3)\n",
            "Requirement already satisfied: certifi>=2017.4.17 in /usr/local/lib/python3.10/dist-packages (from requests->transformers) (2024.12.14)\n"
          ]
        }
      ],
      "source": [
        "pip install transformers torch scikit-learn"
      ]
    },
    {
      "cell_type": "code",
      "execution_count": null,
      "metadata": {
        "colab": {
          "base_uri": "https://localhost:8080/"
        },
        "id": "B9BL1cssje2-",
        "outputId": "4a79dd62-b390-4b08-bd46-81dce96d89c8"
      },
      "outputs": [
        {
          "name": "stdout",
          "output_type": "stream",
          "text": [
            "Collecting datasets\n",
            "  Downloading datasets-3.2.0-py3-none-any.whl.metadata (20 kB)\n",
            "Requirement already satisfied: filelock in /usr/local/lib/python3.10/dist-packages (from datasets) (3.16.1)\n",
            "Requirement already satisfied: numpy>=1.17 in /usr/local/lib/python3.10/dist-packages (from datasets) (1.26.4)\n",
            "Requirement already satisfied: pyarrow>=15.0.0 in /usr/local/lib/python3.10/dist-packages (from datasets) (17.0.0)\n",
            "Collecting dill<0.3.9,>=0.3.0 (from datasets)\n",
            "  Downloading dill-0.3.8-py3-none-any.whl.metadata (10 kB)\n",
            "Requirement already satisfied: pandas in /usr/local/lib/python3.10/dist-packages (from datasets) (2.2.2)\n",
            "Requirement already satisfied: requests>=2.32.2 in /usr/local/lib/python3.10/dist-packages (from datasets) (2.32.3)\n",
            "Requirement already satisfied: tqdm>=4.66.3 in /usr/local/lib/python3.10/dist-packages (from datasets) (4.67.1)\n",
            "Collecting xxhash (from datasets)\n",
            "  Downloading xxhash-3.5.0-cp310-cp310-manylinux_2_17_x86_64.manylinux2014_x86_64.whl.metadata (12 kB)\n",
            "Collecting multiprocess<0.70.17 (from datasets)\n",
            "  Downloading multiprocess-0.70.16-py310-none-any.whl.metadata (7.2 kB)\n",
            "Collecting fsspec<=2024.9.0,>=2023.1.0 (from fsspec[http]<=2024.9.0,>=2023.1.0->datasets)\n",
            "  Downloading fsspec-2024.9.0-py3-none-any.whl.metadata (11 kB)\n",
            "Requirement already satisfied: aiohttp in /usr/local/lib/python3.10/dist-packages (from datasets) (3.11.10)\n",
            "Requirement already satisfied: huggingface-hub>=0.23.0 in /usr/local/lib/python3.10/dist-packages (from datasets) (0.27.0)\n",
            "Requirement already satisfied: packaging in /usr/local/lib/python3.10/dist-packages (from datasets) (24.2)\n",
            "Requirement already satisfied: pyyaml>=5.1 in /usr/local/lib/python3.10/dist-packages (from datasets) (6.0.2)\n",
            "Requirement already satisfied: aiohappyeyeballs>=2.3.0 in /usr/local/lib/python3.10/dist-packages (from aiohttp->datasets) (2.4.4)\n",
            "Requirement already satisfied: aiosignal>=1.1.2 in /usr/local/lib/python3.10/dist-packages (from aiohttp->datasets) (1.3.2)\n",
            "Requirement already satisfied: async-timeout<6.0,>=4.0 in /usr/local/lib/python3.10/dist-packages (from aiohttp->datasets) (4.0.3)\n",
            "Requirement already satisfied: attrs>=17.3.0 in /usr/local/lib/python3.10/dist-packages (from aiohttp->datasets) (24.3.0)\n",
            "Requirement already satisfied: frozenlist>=1.1.1 in /usr/local/lib/python3.10/dist-packages (from aiohttp->datasets) (1.5.0)\n",
            "Requirement already satisfied: multidict<7.0,>=4.5 in /usr/local/lib/python3.10/dist-packages (from aiohttp->datasets) (6.1.0)\n",
            "Requirement already satisfied: propcache>=0.2.0 in /usr/local/lib/python3.10/dist-packages (from aiohttp->datasets) (0.2.1)\n",
            "Requirement already satisfied: yarl<2.0,>=1.17.0 in /usr/local/lib/python3.10/dist-packages (from aiohttp->datasets) (1.18.3)\n",
            "Requirement already satisfied: typing-extensions>=3.7.4.3 in /usr/local/lib/python3.10/dist-packages (from huggingface-hub>=0.23.0->datasets) (4.12.2)\n",
            "Requirement already satisfied: charset-normalizer<4,>=2 in /usr/local/lib/python3.10/dist-packages (from requests>=2.32.2->datasets) (3.4.0)\n",
            "Requirement already satisfied: idna<4,>=2.5 in /usr/local/lib/python3.10/dist-packages (from requests>=2.32.2->datasets) (3.10)\n",
            "Requirement already satisfied: urllib3<3,>=1.21.1 in /usr/local/lib/python3.10/dist-packages (from requests>=2.32.2->datasets) (2.2.3)\n",
            "Requirement already satisfied: certifi>=2017.4.17 in /usr/local/lib/python3.10/dist-packages (from requests>=2.32.2->datasets) (2024.12.14)\n",
            "Requirement already satisfied: python-dateutil>=2.8.2 in /usr/local/lib/python3.10/dist-packages (from pandas->datasets) (2.8.2)\n",
            "Requirement already satisfied: pytz>=2020.1 in /usr/local/lib/python3.10/dist-packages (from pandas->datasets) (2024.2)\n",
            "Requirement already satisfied: tzdata>=2022.7 in /usr/local/lib/python3.10/dist-packages (from pandas->datasets) (2024.2)\n",
            "Requirement already satisfied: six>=1.5 in /usr/local/lib/python3.10/dist-packages (from python-dateutil>=2.8.2->pandas->datasets) (1.17.0)\n",
            "Downloading datasets-3.2.0-py3-none-any.whl (480 kB)\n",
            "\u001b[2K   \u001b[90m━━━━━━━━━━━━━━━━━━━━━━━━━━━━━━━━━━━━━━━━\u001b[0m \u001b[32m480.6/480.6 kB\u001b[0m \u001b[31m23.2 MB/s\u001b[0m eta \u001b[36m0:00:00\u001b[0m\n",
            "\u001b[?25hDownloading dill-0.3.8-py3-none-any.whl (116 kB)\n",
            "\u001b[2K   \u001b[90m━━━━━━━━━━━━━━━━━━━━━━━━━━━━━━━━━━━━━━━━\u001b[0m \u001b[32m116.3/116.3 kB\u001b[0m \u001b[31m8.6 MB/s\u001b[0m eta \u001b[36m0:00:00\u001b[0m\n",
            "\u001b[?25hDownloading fsspec-2024.9.0-py3-none-any.whl (179 kB)\n",
            "\u001b[2K   \u001b[90m━━━━━━━━━━━━━━━━━━━━━━━━━━━━━━━━━━━━━━━━\u001b[0m \u001b[32m179.3/179.3 kB\u001b[0m \u001b[31m10.8 MB/s\u001b[0m eta \u001b[36m0:00:00\u001b[0m\n",
            "\u001b[?25hDownloading multiprocess-0.70.16-py310-none-any.whl (134 kB)\n",
            "\u001b[2K   \u001b[90m━━━━━━━━━━━━━━━━━━━━━━━━━━━━━━━━━━━━━━━━\u001b[0m \u001b[32m134.8/134.8 kB\u001b[0m \u001b[31m10.2 MB/s\u001b[0m eta \u001b[36m0:00:00\u001b[0m\n",
            "\u001b[?25hDownloading xxhash-3.5.0-cp310-cp310-manylinux_2_17_x86_64.manylinux2014_x86_64.whl (194 kB)\n",
            "\u001b[2K   \u001b[90m━━━━━━━━━━━━━━━━━━━━━━━━━━━━━━━━━━━━━━━━\u001b[0m \u001b[32m194.1/194.1 kB\u001b[0m \u001b[31m14.1 MB/s\u001b[0m eta \u001b[36m0:00:00\u001b[0m\n",
            "\u001b[?25hInstalling collected packages: xxhash, fsspec, dill, multiprocess, datasets\n",
            "  Attempting uninstall: fsspec\n",
            "    Found existing installation: fsspec 2024.10.0\n",
            "    Uninstalling fsspec-2024.10.0:\n",
            "      Successfully uninstalled fsspec-2024.10.0\n",
            "\u001b[31mERROR: pip's dependency resolver does not currently take into account all the packages that are installed. This behaviour is the source of the following dependency conflicts.\n",
            "gcsfs 2024.10.0 requires fsspec==2024.10.0, but you have fsspec 2024.9.0 which is incompatible.\u001b[0m\u001b[31m\n",
            "\u001b[0mSuccessfully installed datasets-3.2.0 dill-0.3.8 fsspec-2024.9.0 multiprocess-0.70.16 xxhash-3.5.0\n"
          ]
        }
      ],
      "source": [
        "pip install datasets"
      ]
    },
    {
      "cell_type": "code",
      "execution_count": null,
      "metadata": {
        "colab": {
          "base_uri": "https://localhost:8080/"
        },
        "id": "QilPbYyVi78A",
        "outputId": "e2966d07-aa35-465e-a26a-b1f6294e3067"
      },
      "outputs": [
        {
          "name": "stdout",
          "output_type": "stream",
          "text": [
            "Collecting fsspec==2024.10.0\n",
            "  Downloading fsspec-2024.10.0-py3-none-any.whl.metadata (11 kB)\n",
            "Downloading fsspec-2024.10.0-py3-none-any.whl (179 kB)\n",
            "\u001b[2K   \u001b[90m━━━━━━━━━━━━━━━━━━━━━━━━━━━━━━━━━━━━━━━━\u001b[0m \u001b[32m179.6/179.6 kB\u001b[0m \u001b[31m7.7 MB/s\u001b[0m eta \u001b[36m0:00:00\u001b[0m\n",
            "\u001b[?25hInstalling collected packages: fsspec\n",
            "  Attempting uninstall: fsspec\n",
            "    Found existing installation: fsspec 2024.9.0\n",
            "    Uninstalling fsspec-2024.9.0:\n",
            "      Successfully uninstalled fsspec-2024.9.0\n",
            "\u001b[31mERROR: pip's dependency resolver does not currently take into account all the packages that are installed. This behaviour is the source of the following dependency conflicts.\n",
            "datasets 3.2.0 requires fsspec[http]<=2024.9.0,>=2023.1.0, but you have fsspec 2024.10.0 which is incompatible.\u001b[0m\u001b[31m\n",
            "\u001b[0mSuccessfully installed fsspec-2024.10.0\n"
          ]
        }
      ],
      "source": [
        "pip install fsspec==2024.10.0"
      ]
    },
    {
      "cell_type": "code",
      "execution_count": null,
      "metadata": {
        "colab": {
          "base_uri": "https://localhost:8080/"
        },
        "id": "I3qx1i7DitfA",
        "outputId": "f400c619-cc07-4d69-98e5-051e35a266a5"
      },
      "outputs": [
        {
          "name": "stdout",
          "output_type": "stream",
          "text": [
            "Requirement already satisfied: tensorflow in /usr/local/lib/python3.10/dist-packages (2.17.1)\n",
            "Requirement already satisfied: absl-py>=1.0.0 in /usr/local/lib/python3.10/dist-packages (from tensorflow) (1.4.0)\n",
            "Requirement already satisfied: astunparse>=1.6.0 in /usr/local/lib/python3.10/dist-packages (from tensorflow) (1.6.3)\n",
            "Requirement already satisfied: flatbuffers>=24.3.25 in /usr/local/lib/python3.10/dist-packages (from tensorflow) (24.3.25)\n",
            "Requirement already satisfied: gast!=0.5.0,!=0.5.1,!=0.5.2,>=0.2.1 in /usr/local/lib/python3.10/dist-packages (from tensorflow) (0.6.0)\n",
            "Requirement already satisfied: google-pasta>=0.1.1 in /usr/local/lib/python3.10/dist-packages (from tensorflow) (0.2.0)\n",
            "Requirement already satisfied: h5py>=3.10.0 in /usr/local/lib/python3.10/dist-packages (from tensorflow) (3.12.1)\n",
            "Requirement already satisfied: libclang>=13.0.0 in /usr/local/lib/python3.10/dist-packages (from tensorflow) (18.1.1)\n",
            "Requirement already satisfied: ml-dtypes<0.5.0,>=0.3.1 in /usr/local/lib/python3.10/dist-packages (from tensorflow) (0.4.1)\n",
            "Requirement already satisfied: opt-einsum>=2.3.2 in /usr/local/lib/python3.10/dist-packages (from tensorflow) (3.4.0)\n",
            "Requirement already satisfied: packaging in /usr/local/lib/python3.10/dist-packages (from tensorflow) (24.2)\n",
            "Requirement already satisfied: protobuf!=4.21.0,!=4.21.1,!=4.21.2,!=4.21.3,!=4.21.4,!=4.21.5,<5.0.0dev,>=3.20.3 in /usr/local/lib/python3.10/dist-packages (from tensorflow) (4.25.5)\n",
            "Requirement already satisfied: requests<3,>=2.21.0 in /usr/local/lib/python3.10/dist-packages (from tensorflow) (2.32.3)\n",
            "Requirement already satisfied: setuptools in /usr/local/lib/python3.10/dist-packages (from tensorflow) (75.1.0)\n",
            "Requirement already satisfied: six>=1.12.0 in /usr/local/lib/python3.10/dist-packages (from tensorflow) (1.17.0)\n",
            "Requirement already satisfied: termcolor>=1.1.0 in /usr/local/lib/python3.10/dist-packages (from tensorflow) (2.5.0)\n",
            "Requirement already satisfied: typing-extensions>=3.6.6 in /usr/local/lib/python3.10/dist-packages (from tensorflow) (4.12.2)\n",
            "Requirement already satisfied: wrapt>=1.11.0 in /usr/local/lib/python3.10/dist-packages (from tensorflow) (1.17.0)\n",
            "Requirement already satisfied: grpcio<2.0,>=1.24.3 in /usr/local/lib/python3.10/dist-packages (from tensorflow) (1.68.1)\n",
            "Requirement already satisfied: tensorboard<2.18,>=2.17 in /usr/local/lib/python3.10/dist-packages (from tensorflow) (2.17.1)\n",
            "Requirement already satisfied: keras>=3.2.0 in /usr/local/lib/python3.10/dist-packages (from tensorflow) (3.5.0)\n",
            "Requirement already satisfied: tensorflow-io-gcs-filesystem>=0.23.1 in /usr/local/lib/python3.10/dist-packages (from tensorflow) (0.37.1)\n",
            "Requirement already satisfied: numpy<2.0.0,>=1.23.5 in /usr/local/lib/python3.10/dist-packages (from tensorflow) (1.26.4)\n",
            "Requirement already satisfied: wheel<1.0,>=0.23.0 in /usr/local/lib/python3.10/dist-packages (from astunparse>=1.6.0->tensorflow) (0.45.1)\n",
            "Requirement already satisfied: rich in /usr/local/lib/python3.10/dist-packages (from keras>=3.2.0->tensorflow) (13.9.4)\n",
            "Requirement already satisfied: namex in /usr/local/lib/python3.10/dist-packages (from keras>=3.2.0->tensorflow) (0.0.8)\n",
            "Requirement already satisfied: optree in /usr/local/lib/python3.10/dist-packages (from keras>=3.2.0->tensorflow) (0.13.1)\n",
            "Requirement already satisfied: charset-normalizer<4,>=2 in /usr/local/lib/python3.10/dist-packages (from requests<3,>=2.21.0->tensorflow) (3.4.0)\n",
            "Requirement already satisfied: idna<4,>=2.5 in /usr/local/lib/python3.10/dist-packages (from requests<3,>=2.21.0->tensorflow) (3.10)\n",
            "Requirement already satisfied: urllib3<3,>=1.21.1 in /usr/local/lib/python3.10/dist-packages (from requests<3,>=2.21.0->tensorflow) (2.2.3)\n",
            "Requirement already satisfied: certifi>=2017.4.17 in /usr/local/lib/python3.10/dist-packages (from requests<3,>=2.21.0->tensorflow) (2024.12.14)\n",
            "Requirement already satisfied: markdown>=2.6.8 in /usr/local/lib/python3.10/dist-packages (from tensorboard<2.18,>=2.17->tensorflow) (3.7)\n",
            "Requirement already satisfied: tensorboard-data-server<0.8.0,>=0.7.0 in /usr/local/lib/python3.10/dist-packages (from tensorboard<2.18,>=2.17->tensorflow) (0.7.2)\n",
            "Requirement already satisfied: werkzeug>=1.0.1 in /usr/local/lib/python3.10/dist-packages (from tensorboard<2.18,>=2.17->tensorflow) (3.1.3)\n",
            "Requirement already satisfied: MarkupSafe>=2.1.1 in /usr/local/lib/python3.10/dist-packages (from werkzeug>=1.0.1->tensorboard<2.18,>=2.17->tensorflow) (3.0.2)\n",
            "Requirement already satisfied: markdown-it-py>=2.2.0 in /usr/local/lib/python3.10/dist-packages (from rich->keras>=3.2.0->tensorflow) (3.0.0)\n",
            "Requirement already satisfied: pygments<3.0.0,>=2.13.0 in /usr/local/lib/python3.10/dist-packages (from rich->keras>=3.2.0->tensorflow) (2.18.0)\n",
            "Requirement already satisfied: mdurl~=0.1 in /usr/local/lib/python3.10/dist-packages (from markdown-it-py>=2.2.0->rich->keras>=3.2.0->tensorflow) (0.1.2)\n"
          ]
        }
      ],
      "source": [
        "pip install tensorflow"
      ]
    },
    {
      "cell_type": "code",
      "execution_count": null,
      "metadata": {
        "id": "FQEY1OjSiwEq"
      },
      "outputs": [],
      "source": [
        "from transformers import pipeline"
      ]
    },
    {
      "cell_type": "code",
      "execution_count": null,
      "metadata": {
        "colab": {
          "base_uri": "https://localhost:8080/",
          "height": 294,
          "referenced_widgets": [
            "81033c604f9d4e3a92f64e35db77a388",
            "1bbac05a81ea485f8434dfc13b75f1f3",
            "cf9f497ffb0145e0abf30305adf78b42",
            "132e487f196643b7b880783f9a3fdd82",
            "f044df18b3a047daab5f6fced799d943",
            "bf75de5483914889a4a3c6794b25679e",
            "205833cf0aa141309713d9f1975790b5",
            "d77075569f094a38bae817a062ce67ff",
            "d3b7c0f7be2646f8a340c8d7eac185de",
            "a7feec18f76b48e3a83a29d77073a921",
            "b2e9af2e6fb747b09982574b23f38dbd",
            "1a5b629ee35a4197a12b5d6fdce7f6a3",
            "6370dfcfca174ff18eecc5fcdc048248",
            "3f05c73e191642bb829dbf3fa384174c",
            "964e01fcffc64af3b917ce5fedb57748",
            "54cf60967cbf4f389a1aa41968d4dc9a",
            "ce76e512a0a042be907c19d741f3dc29",
            "cf7aeddbd55348acb9ec2407a9575ba9",
            "a97a2004ac854b0d99c62cd673d411db",
            "19bcf9b53c4f43c6bdb7466434a158fd",
            "b060f7480f844c35bb9144a8545aa7e6",
            "84855dfb8f9645f2bffa11f0ed991fd7",
            "3bf725d0736c45d49d669f4b88bf6f3f",
            "69698057a22243be92910b06d7c340bb",
            "575d169cb8c642bba9735467d3065387",
            "59eb76d884bc4b2abfd7cb50aba3fdb7",
            "4d0df47e2b864781883901feef1a701b",
            "bbdace57030a43aca499b6577f3cdaae",
            "4289a2a3039e4127b95e67f1e38d7e27",
            "acea1d962a9048ec852bf3e4847efcbd",
            "6d5f744a65ab4311a40a760a7bc8ce5a",
            "49602f4c08ee4547b9953e77d7838cd8",
            "ac02157ed4ce43838e45b548f070f6e6",
            "7daf56ea971f4eceab3e6fc02d2184f7",
            "dafdf83263a74fcea91d329e6911cbe0",
            "833b28c77bca4146ac8809e55f6b7b62",
            "d24f48067a3c4568aa14d97de242998f",
            "cab05b2c10b14028bfa924ea63332042",
            "c3a74577539f499bac0a5f176af2b51a",
            "82d7c157d9e142c084fe717fa8ecd6e7",
            "1becbce208984d8794e39cc2fab4a27e",
            "9fe2e3124e4d4865b6cacf48c5324ccb",
            "e4ac8a23c29946c6a371313552735e12",
            "9e3a73d61bb34b70813271bfb3ab0c26"
          ]
        },
        "id": "Ara7pON4kUrI",
        "outputId": "1deb16bf-beff-4884-f29d-af03eaf34dfa"
      },
      "outputs": [
        {
          "name": "stderr",
          "output_type": "stream",
          "text": [
            "/usr/local/lib/python3.10/dist-packages/huggingface_hub/utils/_auth.py:94: UserWarning: \n",
            "The secret `HF_TOKEN` does not exist in your Colab secrets.\n",
            "To authenticate with the Hugging Face Hub, create a token in your settings tab (https://huggingface.co/settings/tokens), set it as secret in your Google Colab and restart your session.\n",
            "You will be able to reuse this secret in all of your notebooks.\n",
            "Please note that authentication is recommended but still optional to access public models or datasets.\n",
            "  warnings.warn(\n"
          ]
        },
        {
          "data": {
            "application/vnd.jupyter.widget-view+json": {
              "model_id": "81033c604f9d4e3a92f64e35db77a388",
              "version_major": 2,
              "version_minor": 0
            },
            "text/plain": [
              "config.json:   0%|          | 0.00/629 [00:00<?, ?B/s]"
            ]
          },
          "metadata": {},
          "output_type": "display_data"
        },
        {
          "data": {
            "application/vnd.jupyter.widget-view+json": {
              "model_id": "1a5b629ee35a4197a12b5d6fdce7f6a3",
              "version_major": 2,
              "version_minor": 0
            },
            "text/plain": [
              "model.safetensors:   0%|          | 0.00/268M [00:00<?, ?B/s]"
            ]
          },
          "metadata": {},
          "output_type": "display_data"
        },
        {
          "data": {
            "application/vnd.jupyter.widget-view+json": {
              "model_id": "3bf725d0736c45d49d669f4b88bf6f3f",
              "version_major": 2,
              "version_minor": 0
            },
            "text/plain": [
              "tokenizer_config.json:   0%|          | 0.00/48.0 [00:00<?, ?B/s]"
            ]
          },
          "metadata": {},
          "output_type": "display_data"
        },
        {
          "data": {
            "application/vnd.jupyter.widget-view+json": {
              "model_id": "7daf56ea971f4eceab3e6fc02d2184f7",
              "version_major": 2,
              "version_minor": 0
            },
            "text/plain": [
              "vocab.txt:   0%|          | 0.00/232k [00:00<?, ?B/s]"
            ]
          },
          "metadata": {},
          "output_type": "display_data"
        },
        {
          "name": "stderr",
          "output_type": "stream",
          "text": [
            "Device set to use cpu\n"
          ]
        }
      ],
      "source": [
        "sentiment_analyzer = pipeline(\"sentiment-analysis\", model=\"distilbert-base-uncased-finetuned-sst-2-english\")"
      ]
    },
    {
      "cell_type": "code",
      "execution_count": null,
      "metadata": {
        "colab": {
          "base_uri": "https://localhost:8080/"
        },
        "id": "VftfVWSIkfRo",
        "outputId": "959f67dc-1aad-49b0-bc1b-8c1c6d972020"
      },
      "outputs": [
        {
          "data": {
            "text/plain": [
              "[{'label': 'NEGATIVE', 'score': 0.999485969543457}]"
            ]
          },
          "execution_count": 7,
          "metadata": {},
          "output_type": "execute_result"
        }
      ],
      "source": [
        "sentiment_analyzer(\"The medicine caused me a persistent rash, i had to switch to an alternative one and my original symptoms were not elleviated\")"
      ]
    },
    {
      "cell_type": "code",
      "execution_count": null,
      "metadata": {
        "colab": {
          "base_uri": "https://localhost:8080/",
          "height": 343
        },
        "id": "OJdRvo0Yur5K",
        "outputId": "6356369c-f7e0-4120-ef84-b6e72d62d8d1"
      },
      "outputs": [
        {
          "data": {
            "text/html": [
              "<div style=\"max-width:800px; border: 1px solid var(--colab-border-color);\"><style>\n",
              "      pre.function-repr-contents {\n",
              "        overflow-x: auto;\n",
              "        padding: 8px 12px;\n",
              "        max-height: 500px;\n",
              "      }\n",
              "\n",
              "      pre.function-repr-contents.function-repr-contents-collapsed {\n",
              "        cursor: pointer;\n",
              "        max-height: 100px;\n",
              "      }\n",
              "    </style>\n",
              "    <pre style=\"white-space: initial; background:\n",
              "         var(--colab-secondary-surface-color); padding: 8px 12px;\n",
              "         border-bottom: 1px solid var(--colab-border-color);\"><b>transformers.pipelines.pipeline</b><br/>def pipeline(task: str=None, model: Optional[Union[str, &#x27;PreTrainedModel&#x27;, &#x27;TFPreTrainedModel&#x27;]]=None, config: Optional[Union[str, PretrainedConfig]]=None, tokenizer: Optional[Union[str, PreTrainedTokenizer, &#x27;PreTrainedTokenizerFast&#x27;]]=None, feature_extractor: Optional[Union[str, PreTrainedFeatureExtractor]]=None, image_processor: Optional[Union[str, BaseImageProcessor]]=None, processor: Optional[Union[str, ProcessorMixin]]=None, framework: Optional[str]=None, revision: Optional[str]=None, use_fast: bool=True, token: Optional[Union[str, bool]]=None, device: Optional[Union[int, str, &#x27;torch.device&#x27;]]=None, device_map=None, torch_dtype=None, trust_remote_code: Optional[bool]=None, model_kwargs: Dict[str, Any]=None, pipeline_class: Optional[Any]=None, **kwargs) -&gt; Pipeline</pre><pre class=\"function-repr-contents function-repr-contents-collapsed\" style=\"\"><a class=\"filepath\" style=\"display:none\" href=\"#\">/usr/local/lib/python3.10/dist-packages/transformers/pipelines/__init__.py</a>Utility factory method to build a [`Pipeline`].\n",
              "\n",
              "A pipeline consists of:\n",
              "\n",
              "    - One or more components for pre-processing model inputs, such as a [tokenizer](tokenizer),\n",
              "    [image_processor](image_processor), [feature_extractor](feature_extractor), or [processor](processors).\n",
              "    - A [model](model) that generates predictions from the inputs.\n",
              "    - Optional post-processing steps to refine the model&#x27;s output, which can also be handled by processors.\n",
              "\n",
              "&lt;Tip&gt;\n",
              "While there are such optional arguments as `tokenizer`, `feature_extractor`, `image_processor`, and `processor`,\n",
              "they shouldn&#x27;t be specified all at once. If these components are not provided, `pipeline` will try to load\n",
              "required ones automatically. In case you want to provide these components explicitly, please refer to a\n",
              "specific pipeline in order to get more details regarding what components are required.\n",
              "&lt;/Tip&gt;\n",
              "\n",
              "Args:\n",
              "    task (`str`):\n",
              "        The task defining which pipeline will be returned. Currently accepted tasks are:\n",
              "\n",
              "        - `&quot;audio-classification&quot;`: will return a [`AudioClassificationPipeline`].\n",
              "        - `&quot;automatic-speech-recognition&quot;`: will return a [`AutomaticSpeechRecognitionPipeline`].\n",
              "        - `&quot;depth-estimation&quot;`: will return a [`DepthEstimationPipeline`].\n",
              "        - `&quot;document-question-answering&quot;`: will return a [`DocumentQuestionAnsweringPipeline`].\n",
              "        - `&quot;feature-extraction&quot;`: will return a [`FeatureExtractionPipeline`].\n",
              "        - `&quot;fill-mask&quot;`: will return a [`FillMaskPipeline`]:.\n",
              "        - `&quot;image-classification&quot;`: will return a [`ImageClassificationPipeline`].\n",
              "        - `&quot;image-feature-extraction&quot;`: will return an [`ImageFeatureExtractionPipeline`].\n",
              "        - `&quot;image-segmentation&quot;`: will return a [`ImageSegmentationPipeline`].\n",
              "        - `&quot;image-text-to-text&quot;`: will return a [`ImageTextToTextPipeline`].\n",
              "        - `&quot;image-to-image&quot;`: will return a [`ImageToImagePipeline`].\n",
              "        - `&quot;image-to-text&quot;`: will return a [`ImageToTextPipeline`].\n",
              "        - `&quot;mask-generation&quot;`: will return a [`MaskGenerationPipeline`].\n",
              "        - `&quot;object-detection&quot;`: will return a [`ObjectDetectionPipeline`].\n",
              "        - `&quot;question-answering&quot;`: will return a [`QuestionAnsweringPipeline`].\n",
              "        - `&quot;summarization&quot;`: will return a [`SummarizationPipeline`].\n",
              "        - `&quot;table-question-answering&quot;`: will return a [`TableQuestionAnsweringPipeline`].\n",
              "        - `&quot;text2text-generation&quot;`: will return a [`Text2TextGenerationPipeline`].\n",
              "        - `&quot;text-classification&quot;` (alias `&quot;sentiment-analysis&quot;` available): will return a\n",
              "          [`TextClassificationPipeline`].\n",
              "        - `&quot;text-generation&quot;`: will return a [`TextGenerationPipeline`]:.\n",
              "        - `&quot;text-to-audio&quot;` (alias `&quot;text-to-speech&quot;` available): will return a [`TextToAudioPipeline`]:.\n",
              "        - `&quot;token-classification&quot;` (alias `&quot;ner&quot;` available): will return a [`TokenClassificationPipeline`].\n",
              "        - `&quot;translation&quot;`: will return a [`TranslationPipeline`].\n",
              "        - `&quot;translation_xx_to_yy&quot;`: will return a [`TranslationPipeline`].\n",
              "        - `&quot;video-classification&quot;`: will return a [`VideoClassificationPipeline`].\n",
              "        - `&quot;visual-question-answering&quot;`: will return a [`VisualQuestionAnsweringPipeline`].\n",
              "        - `&quot;zero-shot-classification&quot;`: will return a [`ZeroShotClassificationPipeline`].\n",
              "        - `&quot;zero-shot-image-classification&quot;`: will return a [`ZeroShotImageClassificationPipeline`].\n",
              "        - `&quot;zero-shot-audio-classification&quot;`: will return a [`ZeroShotAudioClassificationPipeline`].\n",
              "        - `&quot;zero-shot-object-detection&quot;`: will return a [`ZeroShotObjectDetectionPipeline`].\n",
              "\n",
              "    model (`str` or [`PreTrainedModel`] or [`TFPreTrainedModel`], *optional*):\n",
              "        The model that will be used by the pipeline to make predictions. This can be a model identifier or an\n",
              "        actual instance of a pretrained model inheriting from [`PreTrainedModel`] (for PyTorch) or\n",
              "        [`TFPreTrainedModel`] (for TensorFlow).\n",
              "\n",
              "        If not provided, the default for the `task` will be loaded.\n",
              "    config (`str` or [`PretrainedConfig`], *optional*):\n",
              "        The configuration that will be used by the pipeline to instantiate the model. This can be a model\n",
              "        identifier or an actual pretrained model configuration inheriting from [`PretrainedConfig`].\n",
              "\n",
              "        If not provided, the default configuration file for the requested model will be used. That means that if\n",
              "        `model` is given, its default configuration will be used. However, if `model` is not supplied, this\n",
              "        `task`&#x27;s default model&#x27;s config is used instead.\n",
              "    tokenizer (`str` or [`PreTrainedTokenizer`], *optional*):\n",
              "        The tokenizer that will be used by the pipeline to encode data for the model. This can be a model\n",
              "        identifier or an actual pretrained tokenizer inheriting from [`PreTrainedTokenizer`].\n",
              "\n",
              "        If not provided, the default tokenizer for the given `model` will be loaded (if it is a string). If `model`\n",
              "        is not specified or not a string, then the default tokenizer for `config` is loaded (if it is a string).\n",
              "        However, if `config` is also not given or not a string, then the default tokenizer for the given `task`\n",
              "        will be loaded.\n",
              "    feature_extractor (`str` or [`PreTrainedFeatureExtractor`], *optional*):\n",
              "        The feature extractor that will be used by the pipeline to encode data for the model. This can be a model\n",
              "        identifier or an actual pretrained feature extractor inheriting from [`PreTrainedFeatureExtractor`].\n",
              "\n",
              "        Feature extractors are used for non-NLP models, such as Speech or Vision models as well as multi-modal\n",
              "        models. Multi-modal models will also require a tokenizer to be passed.\n",
              "\n",
              "        If not provided, the default feature extractor for the given `model` will be loaded (if it is a string). If\n",
              "        `model` is not specified or not a string, then the default feature extractor for `config` is loaded (if it\n",
              "        is a string). However, if `config` is also not given or not a string, then the default feature extractor\n",
              "        for the given `task` will be loaded.\n",
              "    image_processor (`str` or [`BaseImageProcessor`], *optional*):\n",
              "        The image processor that will be used by the pipeline to preprocess images for the model. This can be a\n",
              "        model identifier or an actual image processor inheriting from [`BaseImageProcessor`].\n",
              "\n",
              "        Image processors are used for Vision models and multi-modal models that require image inputs. Multi-modal\n",
              "        models will also require a tokenizer to be passed.\n",
              "\n",
              "        If not provided, the default image processor for the given `model` will be loaded (if it is a string). If\n",
              "        `model` is not specified or not a string, then the default image processor for `config` is loaded (if it is\n",
              "        a string).\n",
              "    processor (`str` or [`ProcessorMixin`], *optional*):\n",
              "        The processor that will be used by the pipeline to preprocess data for the model. This can be a model\n",
              "        identifier or an actual processor inheriting from [`ProcessorMixin`].\n",
              "\n",
              "        Processors are used for multi-modal models that require multi-modal inputs, for example, a model that\n",
              "        requires both text and image inputs.\n",
              "\n",
              "        If not provided, the default processor for the given `model` will be loaded (if it is a string). If `model`\n",
              "        is not specified or not a string, then the default processor for `config` is loaded (if it is a string).\n",
              "    framework (`str`, *optional*):\n",
              "        The framework to use, either `&quot;pt&quot;` for PyTorch or `&quot;tf&quot;` for TensorFlow. The specified framework must be\n",
              "        installed.\n",
              "\n",
              "        If no framework is specified, will default to the one currently installed. If no framework is specified and\n",
              "        both frameworks are installed, will default to the framework of the `model`, or to PyTorch if no model is\n",
              "        provided.\n",
              "    revision (`str`, *optional*, defaults to `&quot;main&quot;`):\n",
              "        When passing a task name or a string model identifier: The specific model version to use. It can be a\n",
              "        branch name, a tag name, or a commit id, since we use a git-based system for storing models and other\n",
              "        artifacts on huggingface.co, so `revision` can be any identifier allowed by git.\n",
              "    use_fast (`bool`, *optional*, defaults to `True`):\n",
              "        Whether or not to use a Fast tokenizer if possible (a [`PreTrainedTokenizerFast`]).\n",
              "    use_auth_token (`str` or *bool*, *optional*):\n",
              "        The token to use as HTTP bearer authorization for remote files. If `True`, will use the token generated\n",
              "        when running `huggingface-cli login` (stored in `~/.huggingface`).\n",
              "    device (`int` or `str` or `torch.device`):\n",
              "        Defines the device (*e.g.*, `&quot;cpu&quot;`, `&quot;cuda:1&quot;`, `&quot;mps&quot;`, or a GPU ordinal rank like `1`) on which this\n",
              "        pipeline will be allocated.\n",
              "    device_map (`str` or `Dict[str, Union[int, str, torch.device]`, *optional*):\n",
              "        Sent directly as `model_kwargs` (just a simpler shortcut). When `accelerate` library is present, set\n",
              "        `device_map=&quot;auto&quot;` to compute the most optimized `device_map` automatically (see\n",
              "        [here](https://huggingface.co/docs/accelerate/main/en/package_reference/big_modeling#accelerate.cpu_offload)\n",
              "        for more information).\n",
              "\n",
              "        &lt;Tip warning={true}&gt;\n",
              "\n",
              "        Do not use `device_map` AND `device` at the same time as they will conflict\n",
              "\n",
              "        &lt;/Tip&gt;\n",
              "\n",
              "    torch_dtype (`str` or `torch.dtype`, *optional*):\n",
              "        Sent directly as `model_kwargs` (just a simpler shortcut) to use the available precision for this model\n",
              "        (`torch.float16`, `torch.bfloat16`, ... or `&quot;auto&quot;`).\n",
              "    trust_remote_code (`bool`, *optional*, defaults to `False`):\n",
              "        Whether or not to allow for custom code defined on the Hub in their own modeling, configuration,\n",
              "        tokenization or even pipeline files. This option should only be set to `True` for repositories you trust\n",
              "        and in which you have read the code, as it will execute code present on the Hub on your local machine.\n",
              "    model_kwargs (`Dict[str, Any]`, *optional*):\n",
              "        Additional dictionary of keyword arguments passed along to the model&#x27;s `from_pretrained(...,\n",
              "        **model_kwargs)` function.\n",
              "    kwargs (`Dict[str, Any]`, *optional*):\n",
              "        Additional keyword arguments passed along to the specific pipeline init (see the documentation for the\n",
              "        corresponding pipeline class for possible values).\n",
              "\n",
              "Returns:\n",
              "    [`Pipeline`]: A suitable pipeline for the task.\n",
              "\n",
              "Examples:\n",
              "\n",
              "```python\n",
              "&gt;&gt;&gt; from transformers import pipeline, AutoModelForTokenClassification, AutoTokenizer\n",
              "\n",
              "&gt;&gt;&gt; # Sentiment analysis pipeline\n",
              "&gt;&gt;&gt; analyzer = pipeline(&quot;sentiment-analysis&quot;)\n",
              "\n",
              "&gt;&gt;&gt; # Question answering pipeline, specifying the checkpoint identifier\n",
              "&gt;&gt;&gt; oracle = pipeline(\n",
              "...     &quot;question-answering&quot;, model=&quot;distilbert/distilbert-base-cased-distilled-squad&quot;, tokenizer=&quot;google-bert/bert-base-cased&quot;\n",
              "... )\n",
              "\n",
              "&gt;&gt;&gt; # Named entity recognition pipeline, passing in a specific model and tokenizer\n",
              "&gt;&gt;&gt; model = AutoModelForTokenClassification.from_pretrained(&quot;dbmdz/bert-large-cased-finetuned-conll03-english&quot;)\n",
              "&gt;&gt;&gt; tokenizer = AutoTokenizer.from_pretrained(&quot;google-bert/bert-base-cased&quot;)\n",
              "&gt;&gt;&gt; recognizer = pipeline(&quot;ner&quot;, model=model, tokenizer=tokenizer)\n",
              "```</pre>\n",
              "      <script>\n",
              "      if (google.colab.kernel.accessAllowed && google.colab.files && google.colab.files.view) {\n",
              "        for (const element of document.querySelectorAll('.filepath')) {\n",
              "          element.style.display = 'block'\n",
              "          element.onclick = (event) => {\n",
              "            event.preventDefault();\n",
              "            event.stopPropagation();\n",
              "            google.colab.files.view(element.textContent, 567);\n",
              "          };\n",
              "        }\n",
              "      }\n",
              "      for (const element of document.querySelectorAll('.function-repr-contents')) {\n",
              "        element.onclick = (event) => {\n",
              "          event.preventDefault();\n",
              "          event.stopPropagation();\n",
              "          element.classList.toggle('function-repr-contents-collapsed');\n",
              "        };\n",
              "      }\n",
              "      </script>\n",
              "      </div>"
            ],
            "text/plain": [
              "<function transformers.pipelines.pipeline(task: str = None, model: Union[str, ForwardRef('PreTrainedModel'), ForwardRef('TFPreTrainedModel'), NoneType] = None, config: Union[str, transformers.configuration_utils.PretrainedConfig, NoneType] = None, tokenizer: Union[str, transformers.tokenization_utils.PreTrainedTokenizer, ForwardRef('PreTrainedTokenizerFast'), NoneType] = None, feature_extractor: Union[str, ForwardRef('SequenceFeatureExtractor'), NoneType] = None, image_processor: Union[str, transformers.image_processing_utils.BaseImageProcessor, NoneType] = None, processor: Union[str, transformers.processing_utils.ProcessorMixin, NoneType] = None, framework: Optional[str] = None, revision: Optional[str] = None, use_fast: bool = True, token: Union[str, bool, NoneType] = None, device: Union[int, str, ForwardRef('torch.device'), NoneType] = None, device_map=None, torch_dtype=None, trust_remote_code: Optional[bool] = None, model_kwargs: Dict[str, Any] = None, pipeline_class: Optional[Any] = None, **kwargs) -> transformers.pipelines.base.Pipeline>"
            ]
          },
          "execution_count": 8,
          "metadata": {},
          "output_type": "execute_result"
        }
      ],
      "source": [
        "pipeline"
      ]
    },
    {
      "cell_type": "markdown",
      "metadata": {
        "id": "emLK_H-uzDz7"
      },
      "source": [
        "drug dataset"
      ]
    },
    {
      "cell_type": "code",
      "execution_count": 1,
      "metadata": {
        "colab": {
          "base_uri": "https://localhost:8080/"
        },
        "id": "XRbxHNBbz-hY",
        "outputId": "a1ff9c81-404d-468a-8402-98b0d5c594d5"
      },
      "outputs": [
        {
          "output_type": "stream",
          "name": "stdout",
          "text": [
            "Drive already mounted at /content/drive; to attempt to forcibly remount, call drive.mount(\"/content/drive\", force_remount=True).\n"
          ]
        }
      ],
      "source": [
        "from google.colab import drive\n",
        "drive.mount('/content/drive')"
      ]
    },
    {
      "cell_type": "code",
      "execution_count": 1,
      "metadata": {
        "id": "nH-sZVyH1O7v"
      },
      "outputs": [],
      "source": [
        "import pandas as pd\n",
        "import numpy as np\n",
        "import sklearn"
      ]
    },
    {
      "cell_type": "code",
      "execution_count": 2,
      "metadata": {
        "id": "oQSp1Uv10dn2"
      },
      "outputs": [],
      "source": [
        "df = pd.read_csv('drive/My Drive/Colab Notebooks/drugs25/data25/df25.csv',index_col = [0])"
      ]
    },
    {
      "cell_type": "code",
      "execution_count": 3,
      "metadata": {
        "id": "96962CRbJIOl"
      },
      "outputs": [],
      "source": [
        "df['rating'] = df.rating.apply(lambda x: 0 if x <= 4 else 1 if 4<x<=6 else 2)\n"
      ]
    },
    {
      "cell_type": "code",
      "execution_count": 4,
      "metadata": {
        "colab": {
          "base_uri": "https://localhost:8080/",
          "height": 424
        },
        "id": "nQHlyF3f3v7w",
        "outputId": "52122e34-56f6-4691-8252-dda1f61e1476"
      },
      "outputs": [
        {
          "output_type": "execute_result",
          "data": {
            "text/plain": [
              "                        drugName               condition_clean  \\\n",
              "0                      Valsartan  Left Ventricular Dysfunction   \n",
              "1                     Guanfacine                          ADHD   \n",
              "2                         Lybrel                 Birth Control   \n",
              "3                     Ortho Evra                 Birth Control   \n",
              "4       Buprenorphine / naloxone             Opiate Dependence   \n",
              "...                          ...                           ...   \n",
              "130280                 Methadone                          Pain   \n",
              "130281              Clomipramine                 Panic Disorde   \n",
              "130282             Levetiracetam                      Epilepsy   \n",
              "130283                 Tamoxifen     Breast Cancer, Prevention   \n",
              "130284              Escitalopram                       Anxiety   \n",
              "\n",
              "                                                   review  usefulCount  rating  \n",
              "0       \"it has no side effect, i take it in combinati...           27       2  \n",
              "1       \"my son is halfway through his fourth week of ...          192       2  \n",
              "2       \"i used to take another oral contraceptive, wh...           17       1  \n",
              "3       \"this is my first time using any form of birth...           10       2  \n",
              "4       \"suboxone has completely turned my life around...           37       2  \n",
              "...                                                   ...          ...     ...  \n",
              "130280  \"have been taking it for 6 years (120 milligra...           16       2  \n",
              "130281  \"ive been on clomipramine 15 years now and bas...           28       2  \n",
              "130282  \"i now suffer from excessive tiredness and lac...            5       2  \n",
              "130283  \"i have taken tamoxifen for 5 years. side effe...           43       2  \n",
              "130284  \"ive been taking lexapro (escitaploprgram) sin...           11       2  \n",
              "\n",
              "[130285 rows x 5 columns]"
            ],
            "text/html": [
              "\n",
              "  <div id=\"df-0692421a-c02b-422d-8db3-7051ef975f76\" class=\"colab-df-container\">\n",
              "    <div>\n",
              "<style scoped>\n",
              "    .dataframe tbody tr th:only-of-type {\n",
              "        vertical-align: middle;\n",
              "    }\n",
              "\n",
              "    .dataframe tbody tr th {\n",
              "        vertical-align: top;\n",
              "    }\n",
              "\n",
              "    .dataframe thead th {\n",
              "        text-align: right;\n",
              "    }\n",
              "</style>\n",
              "<table border=\"1\" class=\"dataframe\">\n",
              "  <thead>\n",
              "    <tr style=\"text-align: right;\">\n",
              "      <th></th>\n",
              "      <th>drugName</th>\n",
              "      <th>condition_clean</th>\n",
              "      <th>review</th>\n",
              "      <th>usefulCount</th>\n",
              "      <th>rating</th>\n",
              "    </tr>\n",
              "  </thead>\n",
              "  <tbody>\n",
              "    <tr>\n",
              "      <th>0</th>\n",
              "      <td>Valsartan</td>\n",
              "      <td>Left Ventricular Dysfunction</td>\n",
              "      <td>\"it has no side effect, i take it in combinati...</td>\n",
              "      <td>27</td>\n",
              "      <td>2</td>\n",
              "    </tr>\n",
              "    <tr>\n",
              "      <th>1</th>\n",
              "      <td>Guanfacine</td>\n",
              "      <td>ADHD</td>\n",
              "      <td>\"my son is halfway through his fourth week of ...</td>\n",
              "      <td>192</td>\n",
              "      <td>2</td>\n",
              "    </tr>\n",
              "    <tr>\n",
              "      <th>2</th>\n",
              "      <td>Lybrel</td>\n",
              "      <td>Birth Control</td>\n",
              "      <td>\"i used to take another oral contraceptive, wh...</td>\n",
              "      <td>17</td>\n",
              "      <td>1</td>\n",
              "    </tr>\n",
              "    <tr>\n",
              "      <th>3</th>\n",
              "      <td>Ortho Evra</td>\n",
              "      <td>Birth Control</td>\n",
              "      <td>\"this is my first time using any form of birth...</td>\n",
              "      <td>10</td>\n",
              "      <td>2</td>\n",
              "    </tr>\n",
              "    <tr>\n",
              "      <th>4</th>\n",
              "      <td>Buprenorphine / naloxone</td>\n",
              "      <td>Opiate Dependence</td>\n",
              "      <td>\"suboxone has completely turned my life around...</td>\n",
              "      <td>37</td>\n",
              "      <td>2</td>\n",
              "    </tr>\n",
              "    <tr>\n",
              "      <th>...</th>\n",
              "      <td>...</td>\n",
              "      <td>...</td>\n",
              "      <td>...</td>\n",
              "      <td>...</td>\n",
              "      <td>...</td>\n",
              "    </tr>\n",
              "    <tr>\n",
              "      <th>130280</th>\n",
              "      <td>Methadone</td>\n",
              "      <td>Pain</td>\n",
              "      <td>\"have been taking it for 6 years (120 milligra...</td>\n",
              "      <td>16</td>\n",
              "      <td>2</td>\n",
              "    </tr>\n",
              "    <tr>\n",
              "      <th>130281</th>\n",
              "      <td>Clomipramine</td>\n",
              "      <td>Panic Disorde</td>\n",
              "      <td>\"ive been on clomipramine 15 years now and bas...</td>\n",
              "      <td>28</td>\n",
              "      <td>2</td>\n",
              "    </tr>\n",
              "    <tr>\n",
              "      <th>130282</th>\n",
              "      <td>Levetiracetam</td>\n",
              "      <td>Epilepsy</td>\n",
              "      <td>\"i now suffer from excessive tiredness and lac...</td>\n",
              "      <td>5</td>\n",
              "      <td>2</td>\n",
              "    </tr>\n",
              "    <tr>\n",
              "      <th>130283</th>\n",
              "      <td>Tamoxifen</td>\n",
              "      <td>Breast Cancer, Prevention</td>\n",
              "      <td>\"i have taken tamoxifen for 5 years. side effe...</td>\n",
              "      <td>43</td>\n",
              "      <td>2</td>\n",
              "    </tr>\n",
              "    <tr>\n",
              "      <th>130284</th>\n",
              "      <td>Escitalopram</td>\n",
              "      <td>Anxiety</td>\n",
              "      <td>\"ive been taking lexapro (escitaploprgram) sin...</td>\n",
              "      <td>11</td>\n",
              "      <td>2</td>\n",
              "    </tr>\n",
              "  </tbody>\n",
              "</table>\n",
              "<p>130285 rows × 5 columns</p>\n",
              "</div>\n",
              "    <div class=\"colab-df-buttons\">\n",
              "\n",
              "  <div class=\"colab-df-container\">\n",
              "    <button class=\"colab-df-convert\" onclick=\"convertToInteractive('df-0692421a-c02b-422d-8db3-7051ef975f76')\"\n",
              "            title=\"Convert this dataframe to an interactive table.\"\n",
              "            style=\"display:none;\">\n",
              "\n",
              "  <svg xmlns=\"http://www.w3.org/2000/svg\" height=\"24px\" viewBox=\"0 -960 960 960\">\n",
              "    <path d=\"M120-120v-720h720v720H120Zm60-500h600v-160H180v160Zm220 220h160v-160H400v160Zm0 220h160v-160H400v160ZM180-400h160v-160H180v160Zm440 0h160v-160H620v160ZM180-180h160v-160H180v160Zm440 0h160v-160H620v160Z\"/>\n",
              "  </svg>\n",
              "    </button>\n",
              "\n",
              "  <style>\n",
              "    .colab-df-container {\n",
              "      display:flex;\n",
              "      gap: 12px;\n",
              "    }\n",
              "\n",
              "    .colab-df-convert {\n",
              "      background-color: #E8F0FE;\n",
              "      border: none;\n",
              "      border-radius: 50%;\n",
              "      cursor: pointer;\n",
              "      display: none;\n",
              "      fill: #1967D2;\n",
              "      height: 32px;\n",
              "      padding: 0 0 0 0;\n",
              "      width: 32px;\n",
              "    }\n",
              "\n",
              "    .colab-df-convert:hover {\n",
              "      background-color: #E2EBFA;\n",
              "      box-shadow: 0px 1px 2px rgba(60, 64, 67, 0.3), 0px 1px 3px 1px rgba(60, 64, 67, 0.15);\n",
              "      fill: #174EA6;\n",
              "    }\n",
              "\n",
              "    .colab-df-buttons div {\n",
              "      margin-bottom: 4px;\n",
              "    }\n",
              "\n",
              "    [theme=dark] .colab-df-convert {\n",
              "      background-color: #3B4455;\n",
              "      fill: #D2E3FC;\n",
              "    }\n",
              "\n",
              "    [theme=dark] .colab-df-convert:hover {\n",
              "      background-color: #434B5C;\n",
              "      box-shadow: 0px 1px 3px 1px rgba(0, 0, 0, 0.15);\n",
              "      filter: drop-shadow(0px 1px 2px rgba(0, 0, 0, 0.3));\n",
              "      fill: #FFFFFF;\n",
              "    }\n",
              "  </style>\n",
              "\n",
              "    <script>\n",
              "      const buttonEl =\n",
              "        document.querySelector('#df-0692421a-c02b-422d-8db3-7051ef975f76 button.colab-df-convert');\n",
              "      buttonEl.style.display =\n",
              "        google.colab.kernel.accessAllowed ? 'block' : 'none';\n",
              "\n",
              "      async function convertToInteractive(key) {\n",
              "        const element = document.querySelector('#df-0692421a-c02b-422d-8db3-7051ef975f76');\n",
              "        const dataTable =\n",
              "          await google.colab.kernel.invokeFunction('convertToInteractive',\n",
              "                                                    [key], {});\n",
              "        if (!dataTable) return;\n",
              "\n",
              "        const docLinkHtml = 'Like what you see? Visit the ' +\n",
              "          '<a target=\"_blank\" href=https://colab.research.google.com/notebooks/data_table.ipynb>data table notebook</a>'\n",
              "          + ' to learn more about interactive tables.';\n",
              "        element.innerHTML = '';\n",
              "        dataTable['output_type'] = 'display_data';\n",
              "        await google.colab.output.renderOutput(dataTable, element);\n",
              "        const docLink = document.createElement('div');\n",
              "        docLink.innerHTML = docLinkHtml;\n",
              "        element.appendChild(docLink);\n",
              "      }\n",
              "    </script>\n",
              "  </div>\n",
              "\n",
              "\n",
              "<div id=\"df-8dad62f7-9f1b-4b7a-ab24-bfdbc7cda358\">\n",
              "  <button class=\"colab-df-quickchart\" onclick=\"quickchart('df-8dad62f7-9f1b-4b7a-ab24-bfdbc7cda358')\"\n",
              "            title=\"Suggest charts\"\n",
              "            style=\"display:none;\">\n",
              "\n",
              "<svg xmlns=\"http://www.w3.org/2000/svg\" height=\"24px\"viewBox=\"0 0 24 24\"\n",
              "     width=\"24px\">\n",
              "    <g>\n",
              "        <path d=\"M19 3H5c-1.1 0-2 .9-2 2v14c0 1.1.9 2 2 2h14c1.1 0 2-.9 2-2V5c0-1.1-.9-2-2-2zM9 17H7v-7h2v7zm4 0h-2V7h2v10zm4 0h-2v-4h2v4z\"/>\n",
              "    </g>\n",
              "</svg>\n",
              "  </button>\n",
              "\n",
              "<style>\n",
              "  .colab-df-quickchart {\n",
              "      --bg-color: #E8F0FE;\n",
              "      --fill-color: #1967D2;\n",
              "      --hover-bg-color: #E2EBFA;\n",
              "      --hover-fill-color: #174EA6;\n",
              "      --disabled-fill-color: #AAA;\n",
              "      --disabled-bg-color: #DDD;\n",
              "  }\n",
              "\n",
              "  [theme=dark] .colab-df-quickchart {\n",
              "      --bg-color: #3B4455;\n",
              "      --fill-color: #D2E3FC;\n",
              "      --hover-bg-color: #434B5C;\n",
              "      --hover-fill-color: #FFFFFF;\n",
              "      --disabled-bg-color: #3B4455;\n",
              "      --disabled-fill-color: #666;\n",
              "  }\n",
              "\n",
              "  .colab-df-quickchart {\n",
              "    background-color: var(--bg-color);\n",
              "    border: none;\n",
              "    border-radius: 50%;\n",
              "    cursor: pointer;\n",
              "    display: none;\n",
              "    fill: var(--fill-color);\n",
              "    height: 32px;\n",
              "    padding: 0;\n",
              "    width: 32px;\n",
              "  }\n",
              "\n",
              "  .colab-df-quickchart:hover {\n",
              "    background-color: var(--hover-bg-color);\n",
              "    box-shadow: 0 1px 2px rgba(60, 64, 67, 0.3), 0 1px 3px 1px rgba(60, 64, 67, 0.15);\n",
              "    fill: var(--button-hover-fill-color);\n",
              "  }\n",
              "\n",
              "  .colab-df-quickchart-complete:disabled,\n",
              "  .colab-df-quickchart-complete:disabled:hover {\n",
              "    background-color: var(--disabled-bg-color);\n",
              "    fill: var(--disabled-fill-color);\n",
              "    box-shadow: none;\n",
              "  }\n",
              "\n",
              "  .colab-df-spinner {\n",
              "    border: 2px solid var(--fill-color);\n",
              "    border-color: transparent;\n",
              "    border-bottom-color: var(--fill-color);\n",
              "    animation:\n",
              "      spin 1s steps(1) infinite;\n",
              "  }\n",
              "\n",
              "  @keyframes spin {\n",
              "    0% {\n",
              "      border-color: transparent;\n",
              "      border-bottom-color: var(--fill-color);\n",
              "      border-left-color: var(--fill-color);\n",
              "    }\n",
              "    20% {\n",
              "      border-color: transparent;\n",
              "      border-left-color: var(--fill-color);\n",
              "      border-top-color: var(--fill-color);\n",
              "    }\n",
              "    30% {\n",
              "      border-color: transparent;\n",
              "      border-left-color: var(--fill-color);\n",
              "      border-top-color: var(--fill-color);\n",
              "      border-right-color: var(--fill-color);\n",
              "    }\n",
              "    40% {\n",
              "      border-color: transparent;\n",
              "      border-right-color: var(--fill-color);\n",
              "      border-top-color: var(--fill-color);\n",
              "    }\n",
              "    60% {\n",
              "      border-color: transparent;\n",
              "      border-right-color: var(--fill-color);\n",
              "    }\n",
              "    80% {\n",
              "      border-color: transparent;\n",
              "      border-right-color: var(--fill-color);\n",
              "      border-bottom-color: var(--fill-color);\n",
              "    }\n",
              "    90% {\n",
              "      border-color: transparent;\n",
              "      border-bottom-color: var(--fill-color);\n",
              "    }\n",
              "  }\n",
              "</style>\n",
              "\n",
              "  <script>\n",
              "    async function quickchart(key) {\n",
              "      const quickchartButtonEl =\n",
              "        document.querySelector('#' + key + ' button');\n",
              "      quickchartButtonEl.disabled = true;  // To prevent multiple clicks.\n",
              "      quickchartButtonEl.classList.add('colab-df-spinner');\n",
              "      try {\n",
              "        const charts = await google.colab.kernel.invokeFunction(\n",
              "            'suggestCharts', [key], {});\n",
              "      } catch (error) {\n",
              "        console.error('Error during call to suggestCharts:', error);\n",
              "      }\n",
              "      quickchartButtonEl.classList.remove('colab-df-spinner');\n",
              "      quickchartButtonEl.classList.add('colab-df-quickchart-complete');\n",
              "    }\n",
              "    (() => {\n",
              "      let quickchartButtonEl =\n",
              "        document.querySelector('#df-8dad62f7-9f1b-4b7a-ab24-bfdbc7cda358 button');\n",
              "      quickchartButtonEl.style.display =\n",
              "        google.colab.kernel.accessAllowed ? 'block' : 'none';\n",
              "    })();\n",
              "  </script>\n",
              "</div>\n",
              "\n",
              "  <div id=\"id_34c4a6d2-03d3-4d9c-a65f-ab2bbc723d78\">\n",
              "    <style>\n",
              "      .colab-df-generate {\n",
              "        background-color: #E8F0FE;\n",
              "        border: none;\n",
              "        border-radius: 50%;\n",
              "        cursor: pointer;\n",
              "        display: none;\n",
              "        fill: #1967D2;\n",
              "        height: 32px;\n",
              "        padding: 0 0 0 0;\n",
              "        width: 32px;\n",
              "      }\n",
              "\n",
              "      .colab-df-generate:hover {\n",
              "        background-color: #E2EBFA;\n",
              "        box-shadow: 0px 1px 2px rgba(60, 64, 67, 0.3), 0px 1px 3px 1px rgba(60, 64, 67, 0.15);\n",
              "        fill: #174EA6;\n",
              "      }\n",
              "\n",
              "      [theme=dark] .colab-df-generate {\n",
              "        background-color: #3B4455;\n",
              "        fill: #D2E3FC;\n",
              "      }\n",
              "\n",
              "      [theme=dark] .colab-df-generate:hover {\n",
              "        background-color: #434B5C;\n",
              "        box-shadow: 0px 1px 3px 1px rgba(0, 0, 0, 0.15);\n",
              "        filter: drop-shadow(0px 1px 2px rgba(0, 0, 0, 0.3));\n",
              "        fill: #FFFFFF;\n",
              "      }\n",
              "    </style>\n",
              "    <button class=\"colab-df-generate\" onclick=\"generateWithVariable('df')\"\n",
              "            title=\"Generate code using this dataframe.\"\n",
              "            style=\"display:none;\">\n",
              "\n",
              "  <svg xmlns=\"http://www.w3.org/2000/svg\" height=\"24px\"viewBox=\"0 0 24 24\"\n",
              "       width=\"24px\">\n",
              "    <path d=\"M7,19H8.4L18.45,9,17,7.55,7,17.6ZM5,21V16.75L18.45,3.32a2,2,0,0,1,2.83,0l1.4,1.43a1.91,1.91,0,0,1,.58,1.4,1.91,1.91,0,0,1-.58,1.4L9.25,21ZM18.45,9,17,7.55Zm-12,3A5.31,5.31,0,0,0,4.9,8.1,5.31,5.31,0,0,0,1,6.5,5.31,5.31,0,0,0,4.9,4.9,5.31,5.31,0,0,0,6.5,1,5.31,5.31,0,0,0,8.1,4.9,5.31,5.31,0,0,0,12,6.5,5.46,5.46,0,0,0,6.5,12Z\"/>\n",
              "  </svg>\n",
              "    </button>\n",
              "    <script>\n",
              "      (() => {\n",
              "      const buttonEl =\n",
              "        document.querySelector('#id_34c4a6d2-03d3-4d9c-a65f-ab2bbc723d78 button.colab-df-generate');\n",
              "      buttonEl.style.display =\n",
              "        google.colab.kernel.accessAllowed ? 'block' : 'none';\n",
              "\n",
              "      buttonEl.onclick = () => {\n",
              "        google.colab.notebook.generateWithVariable('df');\n",
              "      }\n",
              "      })();\n",
              "    </script>\n",
              "  </div>\n",
              "\n",
              "    </div>\n",
              "  </div>\n"
            ],
            "application/vnd.google.colaboratory.intrinsic+json": {
              "type": "dataframe",
              "variable_name": "df"
            }
          },
          "metadata": {},
          "execution_count": 4
        }
      ],
      "source": [
        "df"
      ]
    },
    {
      "cell_type": "code",
      "execution_count": 4,
      "metadata": {
        "id": "6O8JuzBy4p-h"
      },
      "outputs": [],
      "source": [
        "#train/test split\n",
        "X = df.review\n",
        "y = df['rating']"
      ]
    },
    {
      "cell_type": "code",
      "execution_count": 5,
      "metadata": {
        "id": "8gz6xeVx47L3"
      },
      "outputs": [],
      "source": [
        "from sklearn.model_selection import train_test_split\n",
        "\n",
        "X_train, X_test, y_train, y_test = train_test_split(X, y, test_size=0.20, random_state=42)\n",
        "\n",
        "#X_train = pd.DataFrame(X_train), columns=X.columns)\n",
        "#X_test  = pd.DataFrame(X_test), columns=X.columns)\n",
        "\n",
        "#y_train = pd.DataFrame(y_train, columns =['rating'])\n",
        "#y_test  = pd.DataFrame(y_test, columns =['rating'])"
      ]
    },
    {
      "cell_type": "code",
      "source": [
        "X_test.to_csv('drive/My Drive/Colab Notebooks/drugs25/data25/X_test.csv')\n",
        "X_train.to_csv('drive/My Drive/Colab Notebooks/drugs25/data25/X_train.csv')\n",
        "y_test.to_csv('drive/My Drive/Colab Notebooks/drugs25/data25/y_test.csv')\n",
        "y_train.to_csv('drive/My Drive/Colab Notebooks/drugs25/data25/y_train.csv')"
      ],
      "metadata": {
        "id": "0EsnqWdpSedx"
      },
      "execution_count": 35,
      "outputs": []
    },
    {
      "cell_type": "code",
      "source": [
        "X_test"
      ],
      "metadata": {
        "colab": {
          "base_uri": "https://localhost:8080/",
          "height": 459
        },
        "id": "4Q1gSOSCl8cT",
        "outputId": "cc583bab-cfaa-4d78-cfc9-d528dd341fd3"
      },
      "execution_count": 6,
      "outputs": [
        {
          "output_type": "execute_result",
          "data": {
            "text/plain": [
              "85458     \"i was on this medicine for almost three years...\n",
              "111555    \"i had terrible sleep waking many times an hou...\n",
              "39444     \"trying this birth control has forever changed...\n",
              "91073     \"im on 2.5mg twice a night. it puts me to slee...\n",
              "48813     \"my bmi was 38 so i tried it. i hated the side...\n",
              "                                ...                        \n",
              "58000     \"i felt better with in the first week, it was ...\n",
              "85393     \"i am currently taking celebrex and prednisone...\n",
              "95578     \"i felt 1000 mg of excedrin in morning helped ...\n",
              "66238             \"good relief without being too wiped out\"\n",
              "15274     \"i was on prozac for a month &amp; i got super...\n",
              "Name: review, Length: 26057, dtype: object"
            ],
            "text/html": [
              "<div>\n",
              "<style scoped>\n",
              "    .dataframe tbody tr th:only-of-type {\n",
              "        vertical-align: middle;\n",
              "    }\n",
              "\n",
              "    .dataframe tbody tr th {\n",
              "        vertical-align: top;\n",
              "    }\n",
              "\n",
              "    .dataframe thead th {\n",
              "        text-align: right;\n",
              "    }\n",
              "</style>\n",
              "<table border=\"1\" class=\"dataframe\">\n",
              "  <thead>\n",
              "    <tr style=\"text-align: right;\">\n",
              "      <th></th>\n",
              "      <th>review</th>\n",
              "    </tr>\n",
              "  </thead>\n",
              "  <tbody>\n",
              "    <tr>\n",
              "      <th>85458</th>\n",
              "      <td>\"i was on this medicine for almost three years...</td>\n",
              "    </tr>\n",
              "    <tr>\n",
              "      <th>111555</th>\n",
              "      <td>\"i had terrible sleep waking many times an hou...</td>\n",
              "    </tr>\n",
              "    <tr>\n",
              "      <th>39444</th>\n",
              "      <td>\"trying this birth control has forever changed...</td>\n",
              "    </tr>\n",
              "    <tr>\n",
              "      <th>91073</th>\n",
              "      <td>\"im on 2.5mg twice a night. it puts me to slee...</td>\n",
              "    </tr>\n",
              "    <tr>\n",
              "      <th>48813</th>\n",
              "      <td>\"my bmi was 38 so i tried it. i hated the side...</td>\n",
              "    </tr>\n",
              "    <tr>\n",
              "      <th>...</th>\n",
              "      <td>...</td>\n",
              "    </tr>\n",
              "    <tr>\n",
              "      <th>58000</th>\n",
              "      <td>\"i felt better with in the first week, it was ...</td>\n",
              "    </tr>\n",
              "    <tr>\n",
              "      <th>85393</th>\n",
              "      <td>\"i am currently taking celebrex and prednisone...</td>\n",
              "    </tr>\n",
              "    <tr>\n",
              "      <th>95578</th>\n",
              "      <td>\"i felt 1000 mg of excedrin in morning helped ...</td>\n",
              "    </tr>\n",
              "    <tr>\n",
              "      <th>66238</th>\n",
              "      <td>\"good relief without being too wiped out\"</td>\n",
              "    </tr>\n",
              "    <tr>\n",
              "      <th>15274</th>\n",
              "      <td>\"i was on prozac for a month &amp;amp; i got super...</td>\n",
              "    </tr>\n",
              "  </tbody>\n",
              "</table>\n",
              "<p>26057 rows × 1 columns</p>\n",
              "</div><br><label><b>dtype:</b> object</label>"
            ]
          },
          "metadata": {},
          "execution_count": 6
        }
      ]
    },
    {
      "cell_type": "code",
      "source": [
        "print(X_test.shape)"
      ],
      "metadata": {
        "colab": {
          "base_uri": "https://localhost:8080/"
        },
        "id": "4XZk2t5SngnI",
        "outputId": "1ec94d09-ed08-4218-9fef-657fe43de1e3"
      },
      "execution_count": 7,
      "outputs": [
        {
          "output_type": "stream",
          "name": "stdout",
          "text": [
            "(26057,)\n"
          ]
        }
      ]
    },
    {
      "cell_type": "code",
      "execution_count": 8,
      "metadata": {
        "id": "neR075sttKg3",
        "colab": {
          "base_uri": "https://localhost:8080/"
        },
        "outputId": "4a6d2024-0fd1-4ad5-9a0c-48a2c37f9ea2"
      },
      "outputs": [
        {
          "output_type": "execute_result",
          "data": {
            "text/plain": [
              "['\"i was on this medicine for almost three years and went off of it cold turkey because i thought i was better. worst mistake of my life in 2013! a month or so ago i was put back on the medicine, just not quite as a high of a dose (800mg). i am now on 300mg and it has once again changed my life. i am happy again, feel like me, dont crave alcohol or other pills, and the mood swings have pretty much dissipated. this medicine is amazing and a life saver.\"',\n",
              " '\"i had terrible sleep waking many times an hour. doctor prescribed ambien and it helped but i sleept only about 3 hours. he changed to lunesta which had longer half life and sleept about 5 hours give or take. no real side effects that i could tell. i started taking ionized magnesium powder from whole foods in water for general health reasons and found that i did not need lunesta any longer. i sleep soundly for 8 hours or more if schedule permits. i suggest that if you try magnesium start with a smaller amount that recommended and add benefiber because magnesium tends to loosen the bowel somewhat. magnesium is great for overall nerves health and i have not needed sleep aid since starting. whole foods has 365 brand or try calm.\"',\n",
              " '\"trying this birth control has forever changed my life. each person is different and may experience different things however unfortunately i experienced the worst  extreme hair loss. i have now been diagnosed with alopecia because nobody wants to own that this was the cause. do your research before getting on this, unfortunately i failed to do so. i trusted my obgyn and its now put me in a very emotional and low place. i do not wish this upon anybody else.\"',\n",
              " '\"im on 2.5mg twice a night. it puts me to sleep for two hours but its the best two hours of sleep i get. unfortunately, i dont sleep long while on it and i am wide awake after four hour for about two hours in the morning.\"',\n",
              " '\"my bmi was 38 so i tried it. i hated the side effects. they were bad. it even hurt when i went to the bathroom! no pounds lost either after 3 weeks. its expensive too.\"',\n",
              " '\"was given 5mg to take up to 3 times per day for anxiety. didn&rsquo;t use it each day, only when really necessary. initially worked well, but extreme fatigue was a problem. within a few weeks i was only taking it on 2 or 3 days per week, up to 2 doses. sometimes i would half the tablets. by that time it was only helping for an hour or two so i stopped taking it. the withdrawal anxiety has been horrendous. my gp didn&rsquo;t even talk about withdrawal to me. i won&rsquo;t be recommending this to anyone apart from for emergency use. i am angry that i was prescribed this so easily with no advice given.\"',\n",
              " '\"the first time i was prescribed olanzapine i was on it for about 5-6 months. the tics were reduced by about half which was great for me. however i soon realized that there were subtle side effects which had horrible results. the medicine made me very hungry which meant i ate a lot more and as a result i gained around 20 pounds in a very short period of time. another side effect was drowsiness and lethargy. i slept a lot and took naps during the day. i trialed the medicine again recently and the same side effects occurred so i have had to stop this medicine and try something else.\"',\n",
              " '\"i had juvederm in my cheeks and love the results! reduced many other wrinkles. this product/ procedure is pricey but happy with the results!\"',\n",
              " '\"loose bowels all the time, my stool smells horrible all.\"',\n",
              " '\"pt. 2: my face still hasnt calmed down. the last bad side effect  ive gained weight. in the matter of 3 weeks idk how it can work so fast but my mother sat me down one day and asked me why do i look like a balloon and i just started crying. on the other hand, i had no spotting, my sex drive was still fine. i wish i could rate this -2000 and not just a 1. \"',\n",
              " '\"thank god for this medication. it has allowed me to have a life. initially there was some nausea, but after a couple of days it subsided. before i was honestly suicidal because i could not get relief from my back/hip pain. now, most of the time, im able to function like a normal person. \"',\n",
              " '\"on day two of an intense infection that has left me unable to swallow and thus sleep. got chloroseptic - only brand offered. it was nigh on useless. one squirt - the recommended dose - barely made an impression. i waited 10 minutes, did three squirts - marginal improvement, perhaps a 5 minute slight numbing. there is no way i can get relief with this product without going well over the guidelines and based on what i read elsewhere, swallowing it is dangerous. so, back to spitting in a cup for the next couple of days  waste of money.\"',\n",
              " '\"for several years my bph had me urinating several times a night, like every hour; not good for mental or physical health. after much complaining to my urologist, i finally got a resident that put me on uroxatral and detrol. i now get 6 hours of uninterrupted sleep, twilight morning enjoyment of the morning chorus, and a much improved outlook. spring helps, too.\"',\n",
              " '\"ive been using this drug for 3 months now (200 mg). it works great but makes it a bit hard to fall asleep.\"',\n",
              " '\"i use it, have for a real long time. i am on maintenance, i dont need one daily, have in the past and know that i may again. well either maintenance or regular it has always been a big part of my life and it works very well. where would i be without it?\"',\n",
              " '\"been taking the 10mg until it got discontinued and now have the 5mg. i take a whole mg with a half 5mg and this works perfectly for me. i havent had any weird side effects and have been on this med for 12 years. i take it on a totally empty stomach and after about 15 minutes i have a snack before bed if i happened to have missed dinner, after snack, off to bed. ambien is my best friend. i am in my late 60s.\"',\n",
              " '\"if you are scrolling through 1000s of reviews like i was, this one is for you. i started zoloft three weeks ago for major depression and overwhelming anxiety and panic attacks. i started at 25mg for a week, then up to 50mg. initially, i felt a million times worse, constant panic attacks, increase in suicidal intrusive thoughts, deep depression. but, after just 1 week at 50mg, i noticed a difference in mood, and its been better and better since. fight through the initial worsening of symptoms if you can! i asked for xanax to help me get through it. it definitely gets worse before it gets better for some people, but it was 100% worth it for me! i also had slight nausea, a sore neck, and some dizziness that all seem to be subsiding.\"',\n",
              " '\"cough and rash side effects annoying.\"',\n",
              " '\"i have bipolar i disorder, usually mixed episodes. ive been on lithium for about 14 years. lithium controls the cycling, keeps me free from mania, and causes absolutely no side-effects whatsoever. my lab tests have always been fine. i take 1200 mg a day. i also take quetiapine 300 mg and risperidone 2 mg a day.\"',\n",
              " '\"talk about induced anxiety!!! i have never felt so absolutely horrific as i did when using this medication. my doctor prescribed it one week after shoulder surgery when i was having severe stomach problems and constipation. i had already stopped taking percocet when i started taking it. and when i still wasnt pooping you guessed it, doctor prescribed additional dosage! i was crying, in a state of panic, unable to sleep---i never ever want to feel this way again. after reading up on it, you are not supposed to take movantik if you are not taking opiods!!!! thank you for the medically induced anxiety horror show.\"',\n",
              " '\"i got my first y.i so i took moms advice and went to by monistat 7  i gotta insert what? where? within 5 minutes i was so itchy  no burning but i want to cry!!! i am currently laying with an ice pack between my legs \"',\n",
              " '\"i have been using adipex for four days now and have lost eight pounds  i love it! i have had no insomnia. i have eaten ten times healthier in the past few days and i already feel better about myself.\"',\n",
              " '\"i started otezla nov 2016. i dont find it effective for my moderate to severe psoriasis at all in fact im having breakouts in places that never had them before and to make my issues worse im riddled with pain unlike anything i had ever felt in my 42 yrs of being a psoriasis suffer. the worse pains happen when walking and i can only pin point 2 possible reasons for the pain otezla or synthroid or combo of both. i started otezla and synthroid roughly same time but after reading many post the pain seems common with both meds. personally i could try and deal with pain if otezla worked better or at least not break me out in areas that never had them. i eat a little before and after taking the pill and have not suffered diarrhea or nausea all.\"',\n",
              " '\"stopped the symptoms (heartburn and reflux) immediately and completely. no side effects. for me, a wonder pill.\"',\n",
              " '\"first time with bv, got prescribed flagyl 2x for 7 days. how i took my antibiotics/probiotics: 1. antibiotic after breakfast 2. probiotic right before or with lunch 3. antibiotic after dinner tips: -take the antibiotic with food in your stomach to avoid naseua. -drink green tea and exercise daily to increase energy and reduce tiredness, which was a common symptom. -use vagisil body wash down there to help balance your vagina ph levels and keep it fresh. -wear cotton undies. -take probiotics supplements or eat yogurt. (continue to take them after your antibiotics are finished to replenish your good gut bacteria and avoid future infections!!!)\"',\n",
              " '\"not a bad anti-inflamatory. better if taking it with a vicodin or percocet.\"',\n",
              " '\"doctor suggested cymbalta in coping with lifes ups/downs. worked very well. 30mg works perfect. only side effect personally, erection/ejaculation. \"',\n",
              " '\"i had to use this for a colonoscopy. i was given a choice of 4 flavor packets, i chose the cherry. it didnt taste bad at all. ive spoken to people who said this started working within 30 minutes after beginning to take it. for me it took almost 2 hours. since it took so long i was able to finish the entire container before i began having movements. because of this i felt very bloated but that diminished once it started working. its very thorough but theres no discomfort with it. it also didnt keep me up all night. it started working around 7 pm and stopped by bedtime so i was able to get a good nights sleep with no getting up during the night. however, from 7 to 10 i was going every 15-20 minutes. it was much better than i expected.\"',\n",
              " '\"i started this pill and have noticed serious changes. moodiness, very snappy, depressed, thinking negative. although i dont feel nauseous or dizziness.\"',\n",
              " '\"weight gain &amp; bloating like never before cramping pains migranes dizziness massive hair loss  no period or pregnancy is the only good things\"',\n",
              " '\"ive had mine since april 2015, its now october 2015, and 1 month after having implanon inserted i have been bleeding ever since. 7 months of period with only 2 weeks break from it! its ridiculous! i travel for work its so friggin annoying to have to worry about what plane seats are going to look like! i had this inserted purely for the fact i was over period pain (my family has bad ovaries so period pain is 1000x worse) i was aware there would be spotting and occasionally period, but jeez 7 months?? its a really good method of birth control, you cant get pregnant, why? because you bleed to much, so sex is out of the question.\"',\n",
              " '\"i have depression and anxiety, lately more depression, from being 40, with kids, uncomfortable marriage. lexapro has suppressed things but i had become unemotional. on 50mg for a week now of zoloft and the difference is incredible! i have reasonable emotions, and more energy to want to do the things i planned on but didnt do before. sleeping is off and on a problem, has always been, but dreams are waking me up for being so vivid. appetite is down, im glad. i had been steadily gaining weight because i didnt want to do anything, but now stomach is bad and im scared to go anywhere. hoping that will go away. cant say much about sex, not having any.\"',\n",
              " '\"i have had migraines for over 30 years. have tried everything. this works the best almost every time. id say 9 out of 10 times it cures the migraine and is a winner in my book.\"',\n",
              " '\"been on it for three day, and feel like myself again. decompression, fusion, injection therapy, muscle relaxers, opiates, nerve blockers, nsaids. nothing has given me long term relief the way ultram er has. aside from the dependence issues, i think i found my wonder drug. i have degenerative disk disease and spinal stenosis.\"',\n",
              " '\"i had taxol and cisplatin for stage 3 ovarian cancer. after 6 treatments, each 3 weeks apart, a second surgery to check for residual cancer cells, i was declared cancer free. the taxol severely damaged my nerves in fingers and feet, but now after 16 yrs, i have no residual damage. i am proud to say i am a 16 year cancer survivor.\"',\n",
              " '\"ive been on yaz for a year and a half. before i was ever on birth control i was very calm and a very easy going person. ever since i went on yaz ive been overly moody and angry all the time. ive lost my interest in doing anything new and now my husband and i fight all the time. i also bleed irregularly and have constant random spotting. on top of that i developed gallstones and had to have my gall bladder removed. the only good thing that yaz has done for me is prevent pregnancy. the only reason i havent changed to a different birth control is because i have been overseas until a few weeks ago and the birth control i want was not available there. i have an appointment to change birth control this week.\"',\n",
              " '\"i started this medicine about three months ago. at first it worked great, after 2-3 weeks it does little to none. i have 2 degenerated disc and severe nerve pain down my neck and shoulder. im also prescribed tramadol which works better and that says enough. i have been on hydrocodone which works way better then this medicine. disappointed. my doctor said it was 4x the strength of a norco. lie.\"',\n",
              " '\"the day one two pills does tend to wipe out the bacteria in my gut. after having stomach issues on the first night of the first time, i do take a probiotic and one immodium at night. first time i took this it wiped the infection in 48 hours. second time 11 months later it did not work quite so well. infection greatly decreased but did come back 5 days later. i think part of the problem was that i still had a virus and mold allergy problems from rain as well as an infection so had trouble eliminating congestion. i took a 5 day dosage and did have symptoms reoccur in a week. i do think it would have worked better if i had not had these additional issues related to a virus and allergies.\"',\n",
              " '\"i had been taking this medication for over active bladder. i tried this medication for 3 months 50 mg . no side effects but no improvement for my overactive bladder. \"',\n",
              " '\"i take 50 mg of spironolactone twice daily for acne. my experience is very positive. initially, i noticed light-headedness and pronounced diuretic effects. lost a couple of pounds of water weight. appetite and weight gain/loss are not affected. my skin cleared within two to three weeks. i occasionally have a small pimple or blackhead that goes away in a day or two. my periods are very irregular. i think since i started taking this drug ive had one &quot;real&quot; period requiring the use of tampons. i do randomly spot/bleed from time to time. no mental health effects so far. if anything, i feel more stable due to the lack of periods and pms.\"',\n",
              " '\"age 63, using finasteride for 2 years and no other medications. took many months for improvement in urination and now much improved though definitely not what it was when i was young. i am no longer scouting for spots to stop in a 30 minute walk. i typically sleep about 5 hours at night before having to get up. other changes since beginning dosage: ejaculation volume has decreased, occasional but rare loss of erection during intercourse. no other changes noticed, in particular no loss of libido, and no mental changes noticed. after doing the research physiological effects seem to be the same at 1mg (for hair loss) as 5mg (for bph) so i quarter the 5mg pills and take a 1/4 pill per day.\"',\n",
              " '\"it did do okay for my seizures but i ended up with so many of the side effects it was unbelievable. they had to take me off i still have seizures to this day because they havent found the right medicines. i have had a vns inplant though but still having seizures.\"',\n",
              " '\"i had nexplanon for 6 years total, i have mixed reviews on it. it was extremely effective at preventing pregnancy, and i didnt have periods at all while i had it! my only negative points would be horrible weight gain during the duration of having it and the weight was near impossible to lose. i recently had nexplanon removed and immediately experienced mood swings and drop in my sex drive. hopefully after my hormones rebalance i will feel normal! other than that, no complaints! definitely recommend for someone who does not want children for 3+ years\"',\n",
              " '\"had horrible side effects from lialda and sulfasalazine, and no response from enemas incl cortifoam. on day 4 of bud and see no relief from urgency, blood or mucous. i was told to take one 3 mg/ day even tho uceris script for 9mg. will check with md when they open. uceris after insurance was $1,000. generic was $250--which i thought was better, but not if i have to take 3 pills /day instead of one!! how does anyone find this affordable?\"',\n",
              " '\"i have been taking this medicine for over 6 years now. i was diagnosed with adhd at the age of nine (now 24) and have taken numerous other adhd meds. i feel out of all of them concerta has been the most successful. i do however feel it makes me zone out and am quiet at times. most think something is wrong with me but i feel its the medication. i am typically chatty and friendly most times. it tends to happen when im one on one with people rather than a group setting.\"',\n",
              " '\"lesion on elbow, area of rough scaly skin, itchy. doctor didnt know what it was, but had lesion surgically removed. it returned even bigger, about 20mm diameter. saw specialist who did biopsy. non malignant. treated with solaraze. lesion changed to open sore. stopped treatment until sore healed. used paw paw ointment to soften it. that worked. resumed solaraze. other smaller lesions have appeared close by. will see specialist soon for assessment.\"',\n",
              " '\"the side effects are horrible and i still have my migraines. dont do it.\"',\n",
              " '\"im 28 yrs. old. ive been pregnant and delivered without complication. i have used birth control in the past but not for over 7 years. i just finished my 1st pack of loestrin 24 fe, i try to take it after 7pm. i spotted twice and had a very light period for 3 days. im into pack 2, not pregnant (my goal) and i feel fine.\"',\n",
              " '\"ive had this for a little over two years now. right away my mood swings were awful but i didnt bleed which was great. occasionally i have pain in my arm where it is located. my periods happen about every 6 months and it wasnt until january that my period lasted for almost 3 months with horrible cramps. i plan on taking it out soon. i would say the only good thing is i have not been pregnant. i would not recommend this or any birth control (besides condoms) in the future.\"',\n",
              " '\"before i got on the pill, my cramps used to be horrible. i started the pill a year ago and havent had any cramps since. i love it and dont plan on getting off until im ready to have kids.\"',\n",
              " '\"since starting levora 3 months ago, ive had severe panic attacks, fatigue, nausea, and awful mood swings. off it as of today. i suggest taking it, then re-evaluating how you feel after 90 days. i can honestly say, its turned me into a raging lunatic with no control over my emotions. this has been my worst experience on birth control yet. the anxiety is overwhelming which causes hostility and depression. please be careful, ladies!\"',\n",
              " '\"i just started the patch 2 weeks ago &amp; about 4 days ago i started getting unbearable cramps, that last about 5 minutes, every 20 minutes or so. i have never been in this much pain. i finally took it off &amp; the cramps stopped about an hour later. not using this ever again.\"',\n",
              " '\"i have been taking this for a week now. it worked the first time i took it. but now 6 days later, i still cant go. i take it at the same time daily, with water, and before meals to no avail. i am disappointed it doesnt work as i am running out of options.\"',\n",
              " '\"the side effects are brutal. stomach aches, nausea, bloody stools, headache, diarrhea, increased blood pressure just to name a few. this medicine did give me some relief from pain at the cost of the side effects. be careful with this medicine, i wont take this med anymore.\"',\n",
              " '\"i think most people expect changes in body too quickly. i have been on alli for three weeks i am down 4 lbs. i am eating smaller meals and in a consistent exercise plan. i never expected alli to make me rock hard after a month. i plan to use for 2 months to help kick start my second 15 lbs. alli works if you follow restrictions not going to work with an extremely fat meal. this is supposed to supplement a new life style change. if i only lose 3 to 4 pounds more i will be happy. i am not expecting alli to work after 3rd month. i have 6 more pounds to lose before vacation and another 8 to 10 this year. the lesson is you still need to watch how much you eat. you also need to be active 3 to 4 days a week period. 15 lbs this year and 15 next\"',\n",
              " '\"struggled with mdd and gen. anxiety dis. and self harming habits. wellbutrin has changed my life. its definitely a noticeable chemical adjustment for the first few weeks. once i adjusted though, it was a miracle. im calm, dont have anger or outbursts, no anxiety, no obsessive thoughts or ruminating. i havent been depressed in over 3 months and i started wellbutrin in feb. of 2015. ive had no side effects besides the first few weeks. you will feel very weird for two weeks. stick with it. no weight fluctuations, dry mouth went away, no sexual side effects and i have more energy but i dont feel artificially stimulated (you will for about a month though) i give this medicine a 10. my doctor says im textbook mdd. runs heavy in my family\"',\n",
              " '\"i have had quite remarkable relief of severe bloating and sluggish bowel motility. this had continued for three full months without relief. i was even begging for surgery to find out what was wrong. my abdomen was so distended that my lung capacity (per spirometer) was 1/3 to 1/2 of normal, i got winded just climbing stairs at home and i could not sing (im a choir director). i could not sit upright in a chair or car and i felt about 10 1/2 months pregnant! i had been on antibiotics for several weeks before this problem started. within 3 days of starting prescription strength lactobacillus, i was back to wearing most of my regular clothes, was able to do a full day of errands without stopping, and could sing again and dropped 6.5 pounds.\"',\n",
              " '\"dealing with arthritis over 20 years; first ran the gamut of all the meds, was lambasted when i suggested old fashioned pain meds. finally told nothing more rheumatology could do for me; that i should try pain mgmt. that equals opioid therapy; was a godsend for me. 8 years now, no problems/side effects; take as prescribed; rarely asked for increase. i take as prescribed responsibly. with the climate how it is today theres a stigma if you are on opioid therapy you are addicted. bs! after 8 years if i was going to have problems they would have happened by now. belbuca imo is using devious marketing ploys; it does not work. maybe a minority, but what about honest law abiding patients who benefit from opioids taking it responsibly?\"',\n",
              " '\"by the time i was prescribed this medication, i was at the tail end of a two week old. the doctor saw some spots on my throat and prescribed it. the medication has made me more miserable than the actual disease. i cant keep any food in my stomach, and i have constant headaches as well as lingering nausea. constantly sleepy and tired. its been four days at this time and i think i will have to stop early. my doctor prescribed 875 mg two times a day for 10 days.\"',\n",
              " '\"went on starter pack of otezla. am on second week now and hands are again horrible, swelling splitting open and bleeding on almost every finger and one palm. have it on feet also but not nearly as bad. i am trying to hang on to see if it will turn around. i did have headache and diarrhea last week, eating more before taking it. i am back on tapering dose of prednisone to help with the horrible symptoms. trying to last a month with otezla to see if it will, in fact, work for me, but trying to go on trips or be seen out and about is not easy when everyone focuses on your hands and their leprosy-like appearance. luckily my work friends are very supportive, even bringing in lotions they made and holistic medicines for me.\"',\n",
              " '\"i ran out of my prescription and hadnt been on the nuva ring for months. i started back on it two weeks ago and ive been an emotional wreck ever since. my boyfriend even noticed how weird it was that i was happy all the time when i wasnt on birth control and since i started back on it ive been upset and crying every day. i feel so bad for him having to deal with me because the smallest thing will set me off and then im just irrationally angry. i hate feeling this way. going to have to go back to the doctor to get a different bc.\"',\n",
              " '\"i started using this 2 weeks ago for rocacea pimples on my nose. the bumps disappeared after the first couple of days but then came back worse then ever a few days later. i continued using the product to give it a chance but more bumps appeared. i have stopped using it now and my rocacea has improved. i do not recommend this product\"',\n",
              " '\"i do not recommend this mediacation at all. totally overpriced rubbish. made me feel nauseous straight after taking them to the extent i vomited.\"',\n",
              " '\"absolutely did not work! waste of $20 and theres no way to get a refund!\"',\n",
              " '\"i cannot really say if this medication works, as i had to stop it due to side effects. i began to experience tinnitus day 1, mild at first. by day two it was much more noticeable and unbearable. i have been off the contrave for three days now and still have tinnitus. my doctor advised it could take up to a week or longer for the tinnitus to subside. im hoping it goes away soon, it is very unpleasant!\"',\n",
              " '\"i got the nexplanon put in novemeber 2016 and for a while, it was fantastic. i didnt get my period which was great because i always got really bad migraines on my period and those stopped, didnt really experience acne and i actually lost 20 pounds which was fantastic. i did however experience severe anxiety but ive always had it so i dont think it was due to the nexplanon. it is now august and i am starting to gain weight, am left with acne and acne scars and have been experience bleeding for a few weeks now which is a huge pain. i called my doctor and she said it that its all normal but whats the point in having the birth control if i cant have sex because im constantly bleeding? gonna stick with it for another couple months and see\"',\n",
              " '\"i have been taking prednisone for about 6 weeks - 40mg per day. i think the side effects are directly related to the dosage. i read so much about this drug and the awful side effects before taking it and was scared to death to start. it actually hasnt been as bad as what i read. the biggest issue is sleepliness at night - def have trouble sleeping but have tons of energy. a little face swelling too but not the &quot;moon face&quot; i read about. and its working for my autoimmune disorder.\"',\n",
              " '\"so far is the 3rd day of taking 10mg of ritalin ir. so far i feel i can finally get work done, less tapping of the feet and less fidgety, talk a lot more, can start conversations, etc. i can think before i act but sometimes i act out but not as much. but however my hands shake a little. and takes longer to kick in it takes 40 mins to an hour a half. but when it kicks in it lasts up to 4-5 hours. it really does help with my moderate adhd.\"',\n",
              " '\"i promised to come back and do a review of the medicine if it had worked for me. about a year ago i had constant panic attacks which eventually became fear to drive, fear to be at a restaurant, waking up and feeling that it would be my last day on this world. doctor said i have anxiety disorder. after trying another medicine with no results started me on 0.5mg sertraline. after a year i can honestly say that i am 98% &quot;panic free&quot;. huge relief within the first couple weeks but give it some time to experience the full medicine effect (couple months). noticeable side effects: sometimes i need to focus on remembering simple things, weight loss (at the beginning) now im normal again. \"',\n",
              " '\"ive been on zoloft for a few months and i havent had an anxiety attack the whole time. its a great med, my only few issues were feeling very fatigued, barely have a sex drive, short term memory is horrible, and sometimes feel foggy. i have tried paxil and prozac and they had the same effect on me bottom line, zoloft is an amazing ssri for anxiety, with no weight gain for me. unfortunately ive switched to lexapro, only because im hoping i wont be as tired and maybe get my sex drive back a bit. if this doesnt work, ill definitely go back to zoloft and probably add a small dose of wellbutrin. that combination made me feel the most normal but my doc wanted me to try lexapro 1st.\"',\n",
              " '\"contrary to what a subject said , claiming this medicine got him depressed, i would say that my life before it was of depression, loneliness, extremely low self-esteem and self-worth. after i started taking it, my hopes were raised up. the results were amazing just after one month. unfortunately i had to redo the treatment. today i still take one box or two now and then. had it not been for this medicine, my face skin would be now badly damaged and id still be covered in grade 3 and even grade 4 acne. my life, i dont even want to think about what it would be like now if i hadnt done these treatments. i do recommend roacutan. endure the side effects no matter how harsh they may be in your body. it will pay off eventually.\"',\n",
              " '\"this product does not work instead i got pimples all over my chest, had terrible vivid nightmares , body ache and dry skin and lips. was taking it for 2 months. not even the slighest improvement.\"',\n",
              " '\"this is my first birth control ever - after i had an abortion on july. decided to take on the patch because it is easy and convenient and you dont have to remember to take everyday, just once a week and my change patch day is every monday. on my patch-free week today, menses came. tomorrow will be my second month wearing it and so far so good. side effects are mainly headache and a big appetite however no weight gain, no breakouts and some spotting in between. cons, will be lint adhere to the patch and it could be itchy for me once in a while.\"',\n",
              " '\"this is my first line of defense when my allergy induced asthma is out of control. rescue inhalers have not worked for me; i cannot pull the medicine into my lungs when i am constricted. by day 2 of the dosepak, i have significant relief and can usually go off of routine nebulized bronchodilators within 6 days. unfortunately, my doctors do not like to prescribe steroids 3-4 times/year as needed even though i have shown them it works for me.\"',\n",
              " '\"i have had constipation my entire life (im nearly 64). my father (deceased) was a physician &amp; kept things working with various medications. as an adult, and after being diagnosed with lupus in 84, it gradually worsened. i had tried everything. my normal routine was a bowel movement every 5-7 days, and then it was difficult. i have been hospitalized for impaction.in the more recent years i have been on a miralax type product twice a day &amp; 24mcg of amitiza (once or twice a day). amitiza is the only thing that has ever worked. i cant remember how long it took to kick in, but after decades of food not transitioning through my system, i was patient. i couldnt function without it. i feel somewhat normal now. amazing!\"',\n",
              " '\"i love this medicine. i have chronic end stage interstitial cystitis. ive had it bad for 24 years and nothing worked but the uribel. i have taken urelle and utira-c and none of them worked. but this one takes away my bladder pressure &amp; pain. i can immediately tell when it wears off. i am taking every 6 hours (4 times per day). i have medicare and it doesnt cover it, but the relief from pain is well worth it.\"',\n",
              " '\"i just started contrave 1 week ago. i have been taking one pill in the morning and yesterday was my first evening pill. so far i have not lost anything. my doctor said it takes a month for it to kick in. i think i am eating more things i never eat, but love (candy etc.)because i am hoping the contrave will stop me soon. after reading all these reviews, i have decided to go on the 1200 calorie diet and get some exercise to give the contrave a hand. side effects are dry mouth, a little dizziness, and some stomach gramps the first few days.\"',\n",
              " '\"i have being using monistat for 8 years. i have never experienced any thing like this. i have scarred my lady parts for life. the burning and itching was so strong that i washed it out and it still feels like fire. everything is swollen. i mean everything. i dont know what is happening but monistat needs to fix this now. i used the 3 days.\"',\n",
              " '\"got prescribed zoloft after my 20 year relationship ended after my ex husband became addicted to meth. i was very depressed and couldnt control my thoughts about the situation, i had a hard time sleeping, zoning out, focusing, and adjusting to my normal everyday life. i started on 25 mg for about 3 weeks then increased to 50 mg. ive been on 50mg for a couple months and feel so much better. i can focus on my life again and never break down crying anymore etc. i had no side effects besides loose stool here and there. i like how there were no real side effects for me and it did what i was seeking. i would recommend to try zoloft before other medications. i will not increase my dosage.\"',\n",
              " '\"i was taking lamictal and klonopin for a long time and doing very well on it. in 2010 i had to have a lumbar disk replacement from an old hockey injury in college. sadly i got hooked on pain pills and when i finally stopped i was spending about 5k to 6k a month on pills which indicates how much i was taking. since about xmas of 2013 i have been going through a period of major depression and severe anxiety. i just kept getting worse and worse and the klonopin/lamictal stopped working. i had a prescription of gabapentin sitting in my drawer that i had been prescribed but stopped using because it was making me dizzy. i decided to try it our of desperation and all i can say is wow. my anxiety has gone from a 10 to a 2 and no side effects.\"',\n",
              " '\"kept me calm and less stressed and less irritable.\"',\n",
              " '\"orange flavor wasnt bad but a little orange food coloring might have made the illusion a bit more convincing. medium thick but went down without much problem. technician assured me it was light years better than the chalky mix they used to use. then got an injection of an unnamed diuretic and urination every 5 minutes began. not sure if it was completely the diuretic or the barium was a contributor but it continued right up to pet time. i warned them so they procured a plastic urinal and wrapped an diaper around me on the table. neither got used during the 15 minute scan but it took a lot of clenched sphincter action to prevent a mess. ten seconds off the table the urinal got used.\"',\n",
              " '\"i had already been prescribed protonix 40 mgs twice a day from my regular doctor, and when i went to my gi gastroparesis motility specialist, he found that i needed another gerd medicine as well so he prescribed me 150 mgs of zantac to take at night before bed. it was controlled well, i thought, with the protonix, but its gotten even better with the zantac. i hardly ever have food creep back up now and i dont burp nearly as much as i used to.\"',\n",
              " '\"ive had some trouble doing a bm so i decided to take this pill. took two, not much happened (a small bm) and i went to bed. 2:00 am rolls around and i have incredible stomach cramps and pain coming in and out-- i felt like i was giving birth! tried to do it on my own but to no avail, ran out to the cabinet and got a third pill. worked well in the end, but i just wonder if the two before bed was the cause of my upset stomach and crampage! in the end, it was totally worth it. im at ease for the night and thats all that matters.\"',\n",
              " '\"i am 21 and have not had kids. it was just in and out of the office. it wasnt too bad of an experience for me. i just didnt think about it while it was being put in. it went smooth and fairly well! it also helps that i have an awesome doctor who talked to me step by step. i bled for maybe a couple days if that and had minimal cramping. its been a little over a week and i dont even notice or feel it! i guess im one of the lucky ones!\"',\n",
              " '\"i went on this medication as a last resort, i was at a point i couldnt leave my house, i cried all day and i had anxiety 24/7. i have just started taking the medication, the first day was terrible, cold sweats, brain zaps. i found i could not sleep. now 3 days into the medication, i find i am much happier, perhaps im being optimistic but the constant torture of obsessive thoughts and not being able to let the little things go has gone down. i would recommend this if you are at a last resort. the past 2 days have been days that remind me of how my life was like before the year and a half of constant agony.\"',\n",
              " '\"i started on the oral contraceptive pill but got horrible nausea and vomiting, so this was my next option. nuvaring has been fantastic, it has a fraction of the hormones and i get no nausea. insertion and removing is really not a hassle, and you cannot feel it at all. for me, it beats the pill and vomiting, along with all the other symptoms. i havent had any noticeable mood issues or migraines. i would recommend it to anyone!\"',\n",
              " '\"overall the drug worked exceptional reducing the swelling of my eye, almost immediately but as with other users the main side effect was chronic tiredness.\"',\n",
              " '\"i used this earlier this afternoon and had a little itching and burning but for only a couple hours. i am already feeling so much better! everyone reacts differently to medications so if youre weary dont go on others opinions, just go to the doctor. but, this worked just fine for me.\"',\n",
              " '\"pain problems started around 2005. waking up one night with excruciating pain, crawling on the floor to get around in morning. it got better through out the day, but it reset over night. i dealt with this my last year in high school and a few years through college till i could finally afford some insurance and see a doctor. turns out i had a really huge herniated disc in my l-6/l-7. scared to get a surgery, since so &quot;young&quot; theyd only prescribed low dose pain killers. desperate i got surgery. life was great since, however, id suffered some nerve damage. now take the 7,5 vicoprofen for chronic headaches due to nerve damage, and its amazingly quick to work and slow for tolerance, though its inevitable. i now take 2 every 4-6 hour.\"',\n",
              " '\"ive been on 10 mg for over a month. it has made a huge difference in my bs levels. my fasting and evening bs was in the 200s now its 120-170. ive lost 12 pounds but i am dieting too. ive noticed only a slight increase in urination and im definitely more thirsty. i think the drug makes me tired though. im hoping that gets better as time goes on. i havent had any other side effects.\"',\n",
              " '\"i always have had psoriasis of the scalp but recently it has started on one armpit. it is very uncomfortable so my mom who is a nurse gave me a tube of this. it worked within a day but i lost out and it broke out terribly bad like i thought nothing could help it. i found the tube and it looked awesome after just one day. just finished my second day and it had faded quite a bit more. im sure it wont be long till its completely gone. cant wait. its the summer and i cant always keep my arms down.\"',\n",
              " '\"i have been taking zoloft for a few months now. i started taking it for anxiety. i was having panic attacks while driving. it is a lot better now that i am on zoloft. i no longer get panic attacks while driving. im glad i started taking it. i even pass up the big trucks which is something i would not do before i was on zoloft. im definitely happy with the medication.\"',\n",
              " '\"i started contrave in august 2015 and lost 21lbs in three months. though i wish it was more, it was a healthy rhythm of weight loss. i changed health insurance and the new one doesnt cover it despite it being tier 3. i was eventually able to get the discount card to start back around christmas but i waited till january. i also got the offer to take part in the scaledown program so i wanted to wait for the scale. ill be honest, having to weigh in every day is counter productive and working against me, im on week 3 of starting back and havent lost but also see my weight fluctuations on a daily basis and i do not like it one bit. my advice to anyone out there - contrave is great. only weigh once a week, dont do the scale program.\"',\n",
              " '\"ive been on this medicine for five years and is the best pain relief for my knees and back. still cant do much on this medicine but it takes away the pain. lay down after taking for best results.\"',\n",
              " '\"better than lupron for side effects. im not a smoker and i dont have family history of blood clots, so this is a good pain control method for endometriosis &amp; pelvic pain. over 5 years my breast size got too big, so big my back is sore and i have 2 bulging discs. went from 36d to 36g. sex drive is fine, first month only is bad side effects (moody, moody, moody). lighter periods. lost 10 pounds over 5 years (not patch related, im guessing). happy with this drug except for breast size problem.\"',\n",
              " '\"i have been on lutera for 8 months now and so far my experience has been great! my obgyn switched me from safyral to this because it was over $100 a month. but my periods are only 5 days long with a medium to light flow. i bled extremely heavy before ever on the pill. i have had no weight gain, actually lost 2 pants sizes, no unusual mood swings, breasts went down a cup size but seem perkier, and no babies. the only thing i have noticed is a little bit of breast tenderness before my period and i only get slightly moody at pms time. it has been a good pill for me so far. every woman is different, but i highly recommend this pill.\"',\n",
              " '\"my acne got worse and so did my moods. the only thing that was good about it is i was less hungry. i wouldnt recommend it for acne, but for birth control i would.\"',\n",
              " '\"i been taking a combination of exforge 10 mg/320 mg and a prescription diuretic for about 7 months and it works great together with very little side effects.\"',\n",
              " '\"i choose liletta after having my 1st child baby girl. it has been nerve wrecking since day 1. first of all i bled for all of 4 months straight i dont know if breastfeeding had something to do with it but even after the 4 months i was only blood free for a few days at a time. here i am at 7 months and ive been bleeding for going on 3 weeks! i hate it tried to hang in there but will be calling doctor in the morning!\"',\n",
              " '\"ive been having some discomfort that my doctor felt could be prostatitis. so, until i could get in for a ct scan and also see a urologist, he put me on septra ds. everything was going fine until day 6. i was on my 23 anniversary weekend and i got up that morning to take a nice hot bath in the hot tub in our room. when i got out of the hot tub and started to dry off i noticed hives on my inner thighs. looking in the mirror, i noticed that i was also covered in hives from my armpit to my waist on both sides. the culprit? septra ds. within the next few hours i was covered on my back, stomach, legs, arms, and a few on my lips. allergic reaction.\"',\n",
              " '\"oh. my. god. i am no stranger to yeast infections, i have been getting them since i was 2 months old (im more prone when on an antibiotic). i had some cream, it wasnt really working. being a teen, i tell my mom we go to our local cvs and buy their brand of miconazole nitrate insert. my first time ever using an insert. i put it in at 12:00am just before bed. i wake up at 3:00am, feeling like my vagina is on fire, the intensity so bad im sobbing and cannot stand still. glad to see many others on here who say it will subside. my mother kept saying i need the medicine, but its not worth the pain so i rinsed my vagina and may need to again. im definitely calling my doctor in the morning. do not use this product.\"',\n",
              " '\"works well for moderate pain, works in 30 minutes or so.\"',\n",
              " '\"number one, dont listen to the negativity the smaller groups of bad experiences have. skyla was never said to be for everyone. which is why i dont understand women that tell you not to get it. your best option is to try it. and to people who have certain health conditions, unless a woman has the same thing as you, dont listen either. anyway, i have a 7 yr old, and i got skyla in january and its now june. i have had bad acne and cramps and heavy bleeding since i was 11, and skyla reduced my periods and cramps. it did not do much with my acne, but thats fine  also, skyla is uncomfortable to insert, (not gonna lie) but i literally was with my ob for 10 minutes and left. its been okay since. just try it for yourself\"',\n",
              " '\"i started taking the ciprofloxacin and was very sick within hours of the first dose nauseous, dizzy ,diarrhea, shortnees of breathe and stopped taking it but still very sick with flu like symptoms! i do not recommended this antibiotic to anyone!\"',\n",
              " '\"i had the implanon for six months and had it removed today. wasnt for me. i had no sex drive whatsoever. i lost a lot of hair, constantly bleeding mood swings and i gained a few pounds.\"',\n",
              " '\"i have been taking prozac for anorexia nervosa. i started ever since i was 11. it has helped me with gaining weight. it sucks though cause i was at a normal weight. i have noticed a slight change in my mood.i used to be constantly screaming at myself, telling myself i cant have the foods i want. that voice is kinda gone although it is starting to come back i have done all i could so thats why my doctor put me on this med i am taking 10mg now they might be upping my dose soon though.\"',\n",
              " '\"i took 225mg of effexor xr for about 6 years for mdd and was doing well until i started to notice a drop in its effectiveness. i then tried lexapro (terrible) and cymbalta. the latter worked well for about a year-and-a-half, until, again, its effectiveness waned. my physician suggested that, since effexor xr had worked in the past, i give it another shot. ive been back on 150mg now for over a year-and-a-half and am doing well on it. the medicine, along with talk therapy, has helped significantly. the side effects i experience are: increased sweating, dry mouth, and loss of libido. also, missing a dose for more than a day is miserable, as it causes nausea, a &quot;disconnected head&quot; feeling and slight anxiety.\"',\n",
              " '\"tramadol saved my life. fibromyalgia had just about taken my life away. i was constantly in pain, tired, and often in a mental fog. it was causing major problems in my marriage, because the pain, fatigue, and fog made me a horrible husband and father. i wasnt doing my part around the house because of the pain, fatigue, and lack of cognitive clarity. my wife was resentful, and rightfully so. i finally ended up in a doctors office in tears - i told him i was &quot;crazy&quot;. he said i was not crazy, i was ill. he prescribed tramadol and cymbalta. my life has completely changed: no pain, no fatigue, and no fog. my life and marriage are restored, and we are happier than ever. daily, i thank god for a good, knowledgeable doctor, cymbalta and tramadol.\"',\n",
              " '\"ive been taking saxagliptin for about 10 days. ive noticed side and back aches, it is annoying and it feels like kidney pain. ive been doing pretty well with diabetes before this prescription so i will discontinue use.\"',\n",
              " '\"my boyfriend and i had sex on 2/6 around 5pm and the condom broke. i was scared that he didnt pull out fully and accidentally finished inside me. the last time i got my period was on 1/22. i wanted to purchase plan b but i didnt get the pill until the next day around 12 pm. 5 days after taking the pill i was bleeding for about 4 days (super light). i was waiting and waiting for my period to come but nothing was happening. i was getting impatient and really nervous that i was actually pregnant so i went and bought a pregnancy test and it came out negative. i finally got my period today on 2/13 around 5 pm, i could not be happier. the pill works ladies so relax.\"',\n",
              " '\"ive suffered from clinical depression and a severe explosive disorder all my life. my doctor prescribed this specificallly for my explosive disorder. since i was depressed and negative most of the the time, i was easily annoyed and angered. when angered, i became quickly stressed out and would &quot;blow up&quot; and go off &quot;like a rocket&quot; in fit or rage yelling, screaming. pounding and smashing things. the lamotrigine successfully controls my explosive disorder. it also helped my depression and improved my mood. the doctor started me off at 100 mg a day. however, i had a adverse reaction to that amount. my heart would start racing and i felt wired up and couldnt relax or sleep. so i reduced my dosage to 25 mg a day, and im able tolerate that.\"',\n",
              " '\"i started taking linzess about a week ago and im beyond thrilled. im 26 and have never been able to go to the bathroom without taking something and even then usually only every two weeks. my first day taking this medication 30 mins. before my first meal, i had no pain, no cramping, no gurgling etc. and was able to go within 4 hours. my bowel motions are not watery like some describe but actually what a normal bowel motion should be like. theres no after pain and no pain while i am going. i havent had a sudden urge to go but rather i just go when i try to. additionally, i have only gone 1-2 times per day and i am so excited about that! this is a miracle medication and i cant wait to see how much healthier my body will be. thank you for creating this!\"',\n",
              " '\"im 16, and over the course of a few months i started becoming more and more depressed and anxious, after trying a few other medications along with none at all (only therapy), i started taking zoloft as it has helped others in my family. the first 10 days (started at 25mg) were horrible, suicidal thoughts, no appetite, headaches and terrible anxiety but once i hit 2 weeks i felt so much better. im now 6 weeks in and on 75mg, i feel amazing, still get headaches but im not sure if its related, i feel almost 100% myself, ill give it a few more weeks and see if i need to maybe get to 100mg but honestly this medication saved my life.\"',\n",
              " '\"ive been taking benicar hct 40/25 for a couple of years my blood pressure has gone down. then i started having trouble with some side effects rapid heartbeat and some thyroid issues.\"',\n",
              " '\"i was on marlissa for over 6 months and loved it - my periods were regulated, no weight gain, no acne, boobs grew. and i didnt even take it at exactly the time i was supposed to every night! my only con is that my sex drive has greatly declined :( but luckily i have an amazing boyfriend to counteract that! i would definitely recommend this birth control. i had to switch this week to portia sadly  so we shall see how this one goes.\"',\n",
              " '\"i began taking tamiflu at about the 72 hr mark. they say this is borderline that it can help at this stage. i felt so bad (headache, body aches, hot/cold, cough) that the doctor decided to try it. after 2 doses, fever broke, aches are gone and only slight coughing. still a little fatigued. wasnt sure this would work  but i believe it now.\"',\n",
              " '\"i was diagnosed in 2013 with crohns. pentasa has relieved my symptoms greatly. i take 500 mg 4 times a day. i find it works better for me when i take it with food. my only side effect is night quivers. other than this, pentasa works wonders. its well worth my $55 copayment each month.\"',\n",
              " '\"59 yearold female. ive had hep c for 39years. geno type 1, cleared the virus 11years ago, after taking interpheron and riboviron. relapsed after 6months. viral load of 2,000,000 now. am now in my 2nd week of harvoni, and am hopeful. so far my side effects are irritability, fatigue, and insomnia with occasional night sweats. feels like menopause, but i know its not. so it must be the harvoni. hope side effects will diminish.\"',\n",
              " '\"i had my first experience with this today. took 20mg 2.5 hours before and 20mg 1/2 hr before. i weight about 130lbs. i have avoided all occasions where i had to speak in the past, its inavoidable at this point in my career. i would wish for awful things to happen so i wouldnt have to speak not healthy. results: i cant believe how i handled it today-no anxiety. zero signs. i felt on top of the world after. tomorrow is the big one, please please let it go as well!\"',\n",
              " '\"tri-luma is effective and it didnt irritate my skin.\"',\n",
              " '\"i have been on this drug for 2 years for abnormal bleeding. i had the oblation procedure in june of 08 and started bleeding again. my doctor prescribed norethindrone again but it has not worked. i give it a 3 because when i started taking the medication two years ago, it worked.\"',\n",
              " '\"i am 94 years old and have osteoporosis and severe scoliosis. after i had several fracture and three spontaneous fractures simultaneously, my doctor recommended forteo treatment. i received daily injections for two years ending in april,1908. since that time i have had numerous falls, none of which resulted in a fracture.\"',\n",
              " '\"i am a 57 year old male and struggled with anxiety and depression all my life but it peaked about 6 years ago. i began taking the maximum dosage of wellbutrin 450mg. i was better, but not 100%. i would still get that &quot;knot in my stomach&quot; when the anxiety would rise. i asked my psychiatrist if i could try pristiq since my mother had good results. he reduced the wellbutrin and put me on 50mg of pristiq. i started feeling better after about the 3rd week and after a month, those negative thoughts, not being able to live in the present, lack of joy all changed dramatically for the better. to me, it is a wonder pill - with no side effects at all. \"',\n",
              " '\"i suffer with severe arthritis in both my knees and both ankles, and this drug is the only one that has given me any relieve from pain. i have tried many others before this but had no success. even though i am in constant pain, this does make it bearable.\"',\n",
              " '\"my doctor put me on keppra to see if it will help with my problems of completing sentences and being at a loss of words. i havent been on the medicine long, but the side effects are very apparent. i feel almost drunk sometimes i am nauseous and dizzy and have not noticed any change in my condition. i have to be very aware and on top of my game to do my job.\"',\n",
              " '\"i had the implanon implant inserted july 2010. initially, i had a large deep purple bruise (i bruise easily and colorfully), some tenderness at the site of the implanon, and was a little moody for the first two months. afterwards, i was feeling just the same as before. now, february 2012 i am having it removed. up until recently, i have never had a problem with the implant and i would get it again. as of may 2011 i have not had a menstrual cycle. before that, i had cycles roughly every three weeks. now i am going to make an appointment to have it removed to give my body a break from hormonal birth control.\"',\n",
              " '\"while ativan definitely helped me deal with anxiety for short periods of time after administration, i found that it gave me awful rebound anxiety within 4-6 hours after as it began to wear off. it is very short acting, which can be great for taking care of acute panic / anxiety attacks, but its not a good choice for individuals who must take a it multiple times a day.\"',\n",
              " '\"after three days use i started having large red bumps on the back of my hair line and on my neck. also chest pain the three nights. i stopped using it then, hopefully it will be corrected in a few days. \"',\n",
              " '\"i wasted &pound;8.60 on this garbage. would strongly suggest antibiotics instead of wasting both time and money.\"',\n",
              " '\"i am taking xarelto for a small pe (rt. lower lobe) detected upon battery of testing for origin of a &quot;black out&quot; i experienced. (the pe just happened to be detected and is considered not to be the source of blackout.) so, i am sensitive to drugs, in general. i am on the 2nd week or so of 1/day of 30mg. i experience bizarre dreams and seem to be in a light sleep. i have insomnia w/ the drug. i also feel &quot;whacked out&quot;, post even 20 hrs. after ingesting it. in essence, i know that i have taken a drug. i sometimes have to take a nap; i feel better after doing this. i am hoping that my body acclimates to x, but am realistic. i am also hoping/praying that i only have to be on x for 6 mos. i know that there are alternatives.\"',\n",
              " '\"suffered with fibromyalgia for several years. i was asked to try all the antidepressants, etc. their side effects rendered me more useless, not able to function at all in daily life. i had taken vicoprofen 1/2 tablet (half by choice) 3-4 xs day for several years and lidoderm patch every morning on my cervical spine, hips and knees. i had no desire to live. i was going through the motions. 3 weeks ago i started savella. 1/4 the recommended dose for 10 days. then 1/4 the next dose. 1st week i felt a difference. by week 2 my husband said he hadnt heard me mention pain. i cautiously said im in no pain and on no pain pills or patches and dont need to nap and can sleep. im very active and can do anything. start very slow, with low doses. now on 25mg once in the morning with a full breakfast! \"',\n",
              " '\"in march 2016 i went withmy friend to rome. within days my face was covered in acne. i was extremely depressed and self conscious i have never had acne before. i went on 80mg and the first 1-2 months didnt notice changes. after the trial period it cleared up and ive been off for two weeks. i have a few pimples but its basically nothing. i wash my face and use a topical. it worked but unfortunately it does take time. im basically 100% clear now minus some blemishes which will go away in time. stay with it and stay positive.\"',\n",
              " '\"i have been suffering with my migraines and daily headaches since i was a child, i am now 34. i have tried tramadol (sometimes really good but other times gave me a worse headache), amitriptyline (no impact) and now nortriptyline. i started on 10mg in the morning and 20mg at night. i had to go up to 20mg twice a day to see any effect. my headaches are now down to about one a week, which i can take pain killers for, so this medication has been amazing for me. the only downside for me is the extremely dry mouth, but that pales in comparison to the positives. i have also seen that nortriptyline has lead to weight gain for some. i am fortunate in that it actually keeps hunger at bay. i have only been on the medication for 8 weeks.\"',\n",
              " '\"i am on the 3rd sheet of pills so about 3 months in  before taking i weighed 120 now i am 130  feel depressed, just this week started to get brown discharge and thick red blood clots, try to take the pill everyday with my coffee but i was an hour off a few times, my boobs grew from c to double dd i dont mind but i do feel bloated and have had a couple angry depressed days not sure its worth these symptoms but before i had such bad cramps n migraines was in bed every month for 2 days at least. plus i thought only being 29 having early menopause with hot flashes n migraines this would help me  not sure yet. staying on for another week or soo see what happens and the weight gain for me is the worst i dont fit in my pants, plus need new bras.\"',\n",
              " '\"this isnt as bad as what some others have described it to be. the medicine tastes like diluted cough syrup and doesnt taste very awful. you have to drink a lot of water within the next hour so that made me a bit nauseous. i made sure to take it slow for my second bottle. each suprep drink made me stay in the toilet for about 3 hours. so get your movie(s) ready. use wet toilet sheets and wipe prep h / diaper rash cream to keep your butt from getting sore.\"',\n",
              " '\"why would you prescribe someone with acne this medication to clear it up if it only makes it so much worse? i had a few pimples and black heads and now im covered in all sorts of acne including cystic and white heads all over my face. ive cried a lot and have been so embarrassed and im just now realizing from these reviews that its a trend to have horrible acne from taking these pills. no idea what i should do about it now except to spread the news to people that are thinking about taking this pill to not waste your time i and apparently so many others have suffered.\"',\n",
              " '\"helps with maintenance and if i forget to take it, it usually starts working relatively quickly after i have taken my normal dosage.\"',\n",
              " '\"after a couple weeks i felt no change either positive or negative. after a month to 2 months i felt somewhat better. after 3-4 months i felt better than i had in a very long time. life changing better. but now after 5-6 months my brain feels very foggy and i feel very emotionally numb. i cant feel any negative emotions at all which can actually be very frustrating and confusing. dont want to change medication as it has helped so much with mood so im hoping the numbness will subside and may be willing to tough it out since feeling numb is better than feeling depressed.\"',\n",
              " '\"i suffer with fibromyalgia mostly in my upper back and both sides of my neck. flector patches are incredible! i had been receiving pain shots for years to relieve the muscle pain that in turn caused me to have migraine/tension headaches more than 15 days per month. the major problem is that insurance does not cover these patches and i have drained my dr. of all of their samples. i highly recommend them if you can afford them!\"',\n",
              " '\"took nizoral and my gi distress symptoms resolved, all toenails cleared of fungus growth symptoms including big toenails fell off and new healthy ones replaced, and scalp cleared up from dandruff.\"',\n",
              " '\"i started using this medicine when i was 24 (three years ago), after i was diagnosed with add. up to that time i had been struggling with school and getting work done. i have always been able to compensate because of my intelligence. writing essays was a pain, because i could never sit down and focus. i feel that this is a two-edged sword. i felt i was finally able to concentrate on my written work. it works wonders on that respect. but i also feel that the side-effects can be bad, i felt anxious and my heart often started racing. regular use can reduce this, but i feel bad about relying on meds to lead a normal life. it helps me when i have to do concentrated work, but otherwise i dont take it.\"',\n",
              " '\"this is my second month on skyla, i had the mirena iud before and the depo provera in between. they are all extremely effective. i had the skyla inserted the day i was due for my depo provera shot, i was not on my period ( i thought i needed to be, gyno said no) the insertion was quite painful!! i tore into my arm with my nails trying to take the pain away from the insertion. i didnt remember it being that painful with the mirena. i started my period 2 weeks after insertion, cramps werent too bad, seemed to be normal and the period lasted a normal 6-7 days. the next month  i am having contraction like cramps and have not stopped bleeding  the cramps are horrendous and i am considering having it removed! not recommending!\"',\n",
              " '\"bad side effects. i had bad sweating, muscle stiffness, nausea that would not go away. i had to quit.\"',\n",
              " '\"on depo-provera injection for 7 years its been great but recently suffered a fractured knee due to a relatively small fall was sent for bone density test, i have osteoporosis bone density 14 % below normal, i will now change my contraception and hope that bone density gets better.\"',\n",
              " '\"works fine but the rebound insomnia can be awful. used sparingly it can be a useful medicine. once again, watch for the rebound insomnia.\"',\n",
              " '\"this drug has given me my life back. i am now emotionally balanced, it has given me back the sparkle in my eye (says my wife), i can focus and i am dealing with things i was afraid to before due to bp anxiety. i was a complete mess before lamictal, hardly able to take care of myself and had lost interest in all activities and v emotional depressed/antzy/angry despite being on lithium 1000, seroquel 100mg mirtazapine 25mg. on lamictal my brain just calmed the heck down. i feel normal, reasonable and have the energy and ability to do things again. no side effects noticed on lamictal. hope to stay on this drug for years to come. on a side note some bp groups on fb are really helpful and supportive and friendly. you are not alone with bp.\"',\n",
              " '\"my multiple sclerosis treatment: 9 years in a nutshell: copaxone = no real side effects, no real benefits. rebif = craptacular side effects, no real benefits. tysabri = no serious side effects (the odd urianary tract infection, drowsy after infusions), zero relapses since i started it in april 2012 (previously had been relapsing every six months). tysabri is awesome!\"',\n",
              " '\"i was on this medication earlier this year and had to stop it because of cost and insurance. i have since been approved for medical assistance and my doctor has once again prescribed cymbalta for my anxiety and depression. i had no side effects like i did with just about every other antidepressant under the sun. this has saved my life.\"',\n",
              " '\"ive been on aubra for the last six months. the only pro i can think of is that im not pregnant. however, the list of negatives is much longer. before getting on the pill, i had clear skin, regular periods, no pms or crazy mood swings. since i got on it though, ive noticed that my skin got worse- pimples appearing everywhere- bigger than ive ever gotten in my life. my periods have become so irregular despite following my doctors instructions and taking it religiously at the same time (i have a pill tracker app too!). pre-pill, my periods only lasted for four days and were relatively light. now though my heavy periods last for eight days and happen every two weeks. definitely gonna get off it and not recommend it to anyone\"',\n",
              " '\"i have had more utis since taking this medicine, im considering going off of it.\"',\n",
              " '\"buspirone has worked miracles for me and i did not expect it to work. multiple doctors have tried ssris for my anxiety multiple times and ssris have never, ever worked for me. the only thing that has worked were benzos, and we all know that doctors treat you like an addict if you try to take benzos without the ssris. i am so glad my current doctor tried this for me instead of trying to shove more ssris down my throat. on this medication i am more confident, have been able to enjoy situations that would have given me panic attacks a month ago, and i worry less as a result. my doctor explained this med by saying that it increases serotonin. if you have low serotonin, ssris wont help. in that case buspirone can help.\"',\n",
              " '\"i have been on lexapro 5-10 mg for 15 years and it has kept my panic attacks and gad at bay. only time i have a problem is when i decide i dont need to take the medication anymore and take myself off only to find my anxiety and panic attacks begin recurring. dumb idea! for me, its a long, difficult period of adjustment to get on lexapro after getting off because of the side effects and the anxiety symptoms, (nausea, no appetite, nervousness, heartburn ) but, its so worth it after the lexapro begins working. aaahh!\"',\n",
              " '\"i started getting tension headaches everyday for months around the same time late in the afternoon. no matter where i was, the cycle would continue and cause stress due to the headache. a gp started me in 10mg daily. it takes about two weeks to feel the effects. this drug has greatly reduced my pain and helped break the cycle. side effects are morning drowsiness, occasionally blurry vision, and sleepiness.\"',\n",
              " '\"it worked great for the first few weeks. i didnt take it every night, just the nights where i was having a hard time falling asleep. the problems stared one night when i was seeing people in my closet and my furniture seemed to be falling on top of my bed. i tired taking it again and i fell right asleep. a week later i began seeing gummy bears jumping around my room and on my bed. i went back to my doctor and told her i was seeing things and she said it was common. i stayed on the ambien, until one night my boyfriend told me that i was sitting up in bed with my eyes open, acting as if i was at work. typing in the air and i began scratching his skin very hard. i woke up in the morning not remembering a single thing. havent taken it since then.\"',\n",
              " '\"got my wisdom tooth removed. i had a surgical procedure because my tooth was impacted. i had to take 3 pills within 6 hours. it barely worked, the side of my face is still throbbing and in pain. i couldnt take more because of the acetaminophen. going back to the dentist tomorrow to get something stronger instead.\"',\n",
              " '\"ive been on the lupron shot for almost 2 years now the first six months were the hardest i woke up tired icky feeling and puked. i lost my appetite lost a lot of weight and it made my insomnia worse and my urge to pee worse especially at night. once the nausea settled and my appetite came back the other side effects were easy to cope with on top of the side effects from the implanon. i havent bleed at all and had no pain. i got off it for 3 months and some of my shooting pain came back but no bleeding so i got put back on it. i just decided to take a break and im crampy and starting to spot. my obgyn said i shouldnt have pain like i was before so we shall wait and see since the lupron is working my medicaid wont let me have a lap to see what stage my endometriosis is\"',\n",
              " '\"ciprodex was prescribed by my ent doctor in portland oregon in january 2008. immediately after using this drug i developed serious vertigo issues that resulted in a fall. i also got tinnitus, ringing in the ears which is especially annoying. \"',\n",
              " '\"i am naturally an anxious person/born worrier but i saw a dr because panic attacks were waking me in the night and my chest pain was hard to cope with. i explained to the dr that i didnt feel depressed but i worried constantly through the night about things, and would also wake suddenly with chest pain. the dr sent me for ecg but i knew the pain was linked to anxiety. anyway, after the ecg came back clear, he prescribed pregabalin (a much lower dose than most people on here) and i only take one at night. i now sleep better, i have not woken with a panic attack since taking them, and my anxiety is no longer controlling me. ive been on them 6 months.\"',\n",
              " '\"this is the best oral contraceptive ive been on thus far. in the past 7 years i have been on: tri-cyclen lo, alesse for 4 years and diane. this is the first contraceptive where i have felt like myself. no side effects, no breakthrough bleeding as long as i take it the same time everyday and only two day periods. this is such a miracle to the oc industry. i recommend it to every female i know. you cant go wrong with the lowest side effects on the market. although alesse is a house hold name- it has some of the highest side effects on the market and i never quite felt like myself on it.\"',\n",
              " '\"works great for allergies. i mean amazing. my only issue is if i miss a dose, within 12-24 hours i get symptoms of a sinus infection.\"',\n",
              " '\"i had a boyfriend for a few months and our relationship started to get serious so i decided that i needed to start some sort of birth control. i am awful with remembering to take my medicine everyday. this shot was an easy fix for that. you get a shot then dont have to think about taking anything again for three months and you just go get another shot. this birth control is very effective and easy to keep up with, but one of the side effects was weight gain. i figured that id be fine since my doctor told me it just increases your appetite so as long as you watch what you eat you would be fine. this shot made me hungry all of the time. i gained 30 pounds from september to february. i got off of the shot and the weight is not easy to lose.\"',\n",
              " '\"i am about halfway through my first pill pack and i am having pretty good success so far. this is my first time taking birth control but so far there have been no side effects and no real changes. reading the reviews here had me worried but so far for me everything seems to be fine. i guess ill have to report back in a few months.\"',\n",
              " '\"before i was on prozac,i would just feel sad all the time i had been feeling like crying alot,and just in this constant depressive state. one day,i went to the doctors office i broke down, almost cried and told the doctor what was going on. he was so understanding,and said he was gonna start me on an antidepressant. so after having been on prozac 20mg going on my 2nd week, i feel so much better. im more positive ,i dont get into hardly any depressive modes anymore ,and it feels like i finally have my life back. plus the doctor added in a daily dose of .05 mg of ativan to help ease with the panic attacks. i feel so much calmer, happier, and im able to function better at work. the combination of prozac and ativan works wonders for me:)\"',\n",
              " '\"i was given an extremely low dosage of this, dont know if that was part of the problem but it didnt do anything for me good or bad.\"',\n",
              " '\"i had ibs so bad i was living on 8 imodium a day, just to be able to function. any less than 8 tablets, and i would be on the toilet all day. i even switched from working days to working a low stress night job as a caregiver because my stomach was calmer at night. i also had really bad migraines. i was averaging 12-15 migraine days a month. finally, i went to the doctor and told him about both of my problems. he suggested amitriptyline to control both issues. within a month i could tell a major difference. ive been taking 50 mg every night for about 2 years now. my stomach still gets mildly sensitive occasionally. but i rarely get diarrhea and never have to take imodium anymore. my migraines are down to about 4 or 5 a month.\"',\n",
              " '\"i am a 56 year old rn, have smoked a total of 30 years with a 15 year break before starting again 5 years ago. i love smoking, so this has been difficult, but due to a strong family history of cancer and copd, i am going to try and stick with the chantix regimen. so far my side effects have included vivid scarey dreams, gas and bloating, distractibility/difficulty concentrating, irritability, and a 10 lb weight gain in 2 weeks on the medication. the weight gain bothers me the most, as i have gone up 2 jeans sizes in that time period, but quitting smoking highly outweighs the side effects. my goal is to quit by my sons high school graduation june 10th. good luck to all who are pursing this goal!\"',\n",
              " '\"i have had eczema all my life on my ankles and now its moved to my hands. this is the only thing i can use to be able to function daily. my hands bust open and i put this on at night and wear a pair of white cotton gloves to bed.\"',\n",
              " '\"i have been using aviane for almost 4 years. it works well for me! no mood swings, short periods, no acne. and most of all im not pregnant. my breasts never grew though.\"',\n",
              " '\"ibs-c my entire adult life (44-yr old female.) i have done it all - tried everything natural and prescribed. i cut out dairy, gluten, red meat  was drinking prune juice, using fleet supps almost daily, never having a decent or &quot;normal&quot; bm. my gi doc gave me samples of linzess yesterday; i took it this morning and exactly one hour later : wha-la. a &quot;perfect&quot; bm!!! no cramps. no diarrhea. if you have trouble going, please try this. i am absolutely thrilled! not sure what my insurance will cover, but i dont even care - this is my miracle pill, and it is going to make a huge difference in my life.\"',\n",
              " '\"when i was a young teen, i tore 90% of my low back muscles during a recreational activity. my doctor did not want to put a 16 year old on narcotics so we went through the whole loop of prescription advil, tylenol, and aleve. finally i told him none of those worked so he put me on tramadol. i am on 50mg every 4 hours as needed. i like these since they allow me to still be functional, yeah it is short term, but im functional. they do make higher doses with the extended release coating which my sister has for her back pain also. i would highly recommend this as a narcotic alternative. \"',\n",
              " '\"i love seasonique. i have only been on it for five weeks but i have an increased sex drive and i havent gained any weight i have lost weight but thats because i am on a healthy diet and workout more. the one thing i have noticed is my breasts are bigger. they are a little on the tender side but nothing too much. i have noticed i have more pimples but not too many. but yes for me seasonique has been the best i love it!\"',\n",
              " '\"was started on hydrocodone/acetaminophen 5-325 a couple weeks ago for chronic lower back pain. the first few days it worked on, about a 40% reduction in pain. after those few days the pain relief started going down. i was prescribed to take 2 pills at night as i was waking up constantly in pain. now when i take them i get maybe a 10-15% reduction in pain. not working well at all. its a shame, i was looking forward to some consistent pain relief.\"',\n",
              " '\"been on parnate (tranylcypromine) for about 17 years. like many others felt like a guinea pig when i was first diagnosed. went through about a dozen different psychiatrists. they all just tried different meds trying to find one that would work. i or anyone else could have done that. one convinced me to have ect which i did against my better judgement. it was a nightmare of torture! after the first two i lost all sense of time as well as my memory. i had 14 ect treatments and was nothing more than a zombie! to get it to stop i said i wasnt depressed any more. finally found a dr. that used parnate.\"',\n",
              " '\"i have been taking hysingla 40 er approximately 2 weeks. i am experiencing severe headache, nausea, and the pain has not subsided one bit. i have tried taking this medicine different times of day hoping it was just the time frame. i have severe withdraw symptoms and can not function. im very close to losing my job. i was not abusing my norco, why am i being punished for drug addicts??!!!\"',\n",
              " '\"i would recommend accutane to almost everyone who suffers from acne. ive had acne since i was probably 12, i am now 15 and on my 4th (and last) month of accutane. i also suffer from asthma, so my lungs were dried out more then ever since i was taking accutane, but with drinking tons and tons of water and gatorade ive been doing better then i ever thought i would. ive been able to handle our volleyball conditioning over the entire summer. i carry chapstick everywhere and ive experienced that when i scratch my arms, they would just look terrible and scab up and my skin was super sensitive and cut open for almost everything.\"',\n",
              " '\"paxil literally saved my life. i have been on paxil since i was 26 and i am now 40. out of the blue, i started having severe panic attacks. my psychiatrist gave me paxil. from that day forward, i have not had any panic attacks. the only reason i gave this medication a 9 out of 10 is because, i gained almost 100 lbs on it. i have since lost 50 lbs. it is a great medication for panic disorder; however for depression, i would take something else.\"',\n",
              " '\"i am at the end of my 3rd week on saxenda. i will increase to 2.2mg tonight. i have lost 12 lbs. i am never hungry. i have been using my fitness pal to track and count calories. i find i have to force myself to eat most days, especially the two days after an increase in med. the first couple of weeks i had a headache every morning. it has since subsided. i do take my shot at night before bed so i can sleep through any nausea i might have. no other real side effects. i pay $125 out of pocket/month.\"',\n",
              " '\"i have had horrible psoriasis since the age of 20. even as a kid i had a flakey scalp that was embarrassing. stelara for me feels like a miracle. i have been on enbrel, cyclosporine, and ive used all of the steroids. ive used the pagano diet which is very difficult. stelara is great. when i combined uvb lights at the doctors office with stelara my skin cleared up 100 percent in about 3 and a half weeks. my scalp even cleared up. this is the only medicine that works that ive used. the blood tests to stay on the medication are expensive and sadly many insurance companies wont pay for this. i hope that changes. i was so sick i could not work and got stelara through charity for 1 year. it is amazing. \"',\n",
              " '\"one negative thing, i believe it has decreased my libido. i was never one to have huge desires every single day but i noticed i have barely any drive at all. ive been on this for about 2 years. the biggest thing for me, it cleared up my awful hormonal acne. i used to be on lo lo-estrin and that ruined my skin. i still have some scars. it hasnt helped a ton with oil production on my face either. i still tend to be oily. as far as weight gain, this pill hadnt affected me that way.\"',\n",
              " '\"for those that are experiencing headaches and nausea, drink a glass of milk before taking bactrim. this always works for me.\"',\n",
              " '\"i took geodon alongside lexapro. i have already taken lexapro for this past year and never had a dystonic reaction. however, when my nurse practitioner introduced geodon i went into dystonia . dystonia is when your body begins to contort on itself involuntarily. i could literally feel my neck twisting on itself trying to snap. thankfully i was cured with benadryl, and the dystonia was not permanent. if you want to try this med, keep a supply of benadryl to stop a dystonic reaction and call an ambulance right away. even more, this is not the only medication that can cause dystonia. several others can to - like risperidone, halodol , and abilify. when they are combined with an anti depressant they can increase the risk of dystonia.goodluck\"',\n",
              " '\"i dont think i noticed this at first or even realized the pill was the cause, but this pill gave me terrible headaches for 3-4 days during my period. i am hungry and moody before my period. the period is very light, which is a plus, but i cant stand the headaches. it feels like i have a sinus infection and taking advil non stop doesnt help. its not worth it. i would love to have cramps instead of headaches.\"',\n",
              " '\"i just got my prescription yesterday. i took the pill tried smoking and already noticed my disgust in cigarettes. i really hope this will last. im 22 and have been smoking since i was 19. wish me luck! im so excited to start my journey as a nonsmoker!!\"',\n",
              " '\"before vyvance i had tried many other medications. it helped me quickly, i realized that i actually liked school and learning. within weeks i went from failing to honors. but now that im older i realize that it alters my personality and my mood alot. and i find that when i dont have it i tend to feel like i am incapable of completing simple task.\"',\n",
              " '\"ive taken 12.5 mg ambien cr on an off for 3 months now. within the last two weeks, its been more like every day. i was so groggy all day. also, im not sure i slept  it was more like just being turned off rather than in a state of recuperative sleep. i cut the pill in half last night and had only 4 hours of sleep, where i awakened twice. i still feel more refreshed than ever, probably because this is the first time in weeks i dont have an ambien hangover. its a great medicine, but id like to ween myself off of it. i suspect its either causing depression, or is amplifying a depression i didnt know i had.\"',\n",
              " '\"it worked very instantly, it was a great product. then i stopped after 2 weeks and it came back straight away. so i had to take it until the entire season finished to prevent the allergic reaction coming again. the product is good except for the horrible leak that drips down your nasal path into the back of your throat.\"',\n",
              " '\"ive had severe headaches/migraines about twice a month since i was about seven years old. as an adult, my headaches were brutal: 36 hours of feeling like id been shot in the left eye, and nothing helped. i always had low-to-normal blood pressure until it jumped up post-menopause despite my being thin, active, a non-smoker, etc. the hypertension meds i tried either made my headaches worse or made me so tired i could barely get out of bed. lisinopril also made me tired, but to a degree that i figured i could live with. a few months later, i realized i hadnt had a headache since id started taking it. fifteen months later i am still migraine-free. unbelievable!\"',\n",
              " '\"not recommending this, on 25mg, knocked me out for 12 hours and groggy for the next 12 hours. cut pill into quarters and still had strong effect causing groggyness all of next day. went to trazadone, which is perfect for me.\"',\n",
              " '\"i had implanon inserted a few months ago due to frustrations with the birth control pill and breakthrough bleeding. after reading many experience online the insertion experience and what side effect i may experience seemed daunting - however, i can confirm that the insertion process was only the discomfort of a needle to numb the area and then a feeling of pressure and it was all over. the area felt uncomfortable for about a week and now i hardly notice it at all. the biggest thing for me is that after 3 months i am yet to have a period or any break through bleeding. my experience so far is a positive one with no major side effects to note. i am grateful for no longer having to remember to take a pill everyday.\"',\n",
              " '\"incredibly helpful - short term use.\"',\n",
              " '\"i have been on symbicort inhaler for a couple of years for asthma which i seem to have picked up since our last move to vernon bc. and during this time have completely lost my taste buds. i am a retired professional chef and tasting food is important to me. i can hardly taste any salt seasonings etc . i can not smell things like peppermint, curry paprika etc. right now i am just cooking from experience and i do not like it one bit.\"',\n",
              " '\"edex began to work this first time in about 5 minutes. i took 10 mg and it produced the best erection i could manage with a pump, with sildinafil, or any other way. adding 10 mg more within 20 minutes improved the rigidity a bit, but the overall erection was probably at 80% of in my youth. i feel no burning, but i do feel what feels like a pressure in my prostate. i just got a turp and still feel the effects of that surgery a bit, since it has been 6 weeks ago. this may just be what happens with my initial dose. if 20 mg doesnt work, ill try doubling that. 20 mg would probably suffice for insertion during sex, but i doubt if if would feel good for me or her.\"',\n",
              " '\"im a 15 year old girl and have been taking 18 mg in the morning for 4 days now and 0.1mg of clonidine at night. i had a mild, lingering headache the first day, was able to focus a little more on songs i was working on the 2nd day, lost emotion and had to fake laughing and smiling with my friend the next day, and today i was able to focus a little more than usual and get some vocabulary words done. im more motivated, but my attention span isnt improved much. also, i can sit still. my psychologist doesnt think im hyperactive but my usual constantly-moving legs and fidgety hands are still. ill have to give it more time to work, and increase the dosage once my body is used to it, but i think its doing okay for only 4 days on a low dose.\"',\n",
              " '\"i have been taking this medicine for 2-3 months now and although amazing results for my condition i have had constant kidney infections. i normally have no probs there so although its amazing i have to stop taking it. please be aware anyone that takes it!\"',\n",
              " '\"awful experience!! couldnt get the cap off so i spent 30 minutes trying to get it off. after 30 mins and a bloody cut up thumb i finally just grabbed my old bottle of nostrilla (which i would have much rather bought but couldnt find any at the store. for anyone reading this nostrilla is a 10/10 for me!!) punctured a whole in the afrin bottle and squeezed the stuff into the nostrilla bottle  so nostrilla you the real mvp!!\"',\n",
              " '\"used ranitidine for years to treat heartburn. i take 150mg 2-3 times daily, and always works quickley.\"',\n",
              " '\"ive suffered from ibs-c for a few years now. normally miralax does the trick but can take a few days. i decided to try mc, drank the full 10oz of the grape flavor thinking i had to. should have stopped at 1/3 of the bottle. any who, drank it from 7:45-9:30pm after puting it in the freezer for 30 minutes. didnt feel much right away and thought it didnt work. thats until my stomach started gurgling. then came the pains and a lot of bloating. holy batman, the pains! still nothing came out after an hour filled with multiple tries. laid down hoping to sleep through the discomfort. was awaken at 4am and sprinted to the bathroom. it worked. its still working 8 hours later! solution is very effective, may take a few hours to kick in.\"',\n",
              " '\"some nausea, severe vomiting when i first began better now. it knocks me out pretty quick, so i take it at night along with 300mg of lamictal and 150mg of trazodone. the worst side effect ive noticed is extreme fatigue. i cant seem to get enough sleep. otherwise, its definitely a step in the right direction. 2 weeks and counting- if the fatigue thing doesnt let up ill probably have to stop it and move on to something else (its that bad). also curbs my appetite considerably.\"',\n",
              " '\"ive been on this medicine for about 4 months. completely changed my life\"',\n",
              " '\"58 year old with mild high blood pressure. im in very good condition but was experiencing less than perfect erections. viagra works very well for me. i typically cut a 100mg pill into 4 pieces and take a 25mg piece. it does work best on an empty stomach. for example, eat a normal lunch, come home from work at 5pm, take viagra just before eating dinner - works for the rest of the evening. seems to last longer than the stated 4 hours. for the absolute fastest results, for a little saturday morning fun, take it right after waking up, wait 15 minutes (time to drink some coffee), and have at it.\"',\n",
              " '\"about 2 weeks after starting humira, i started experiencing loss of bowel and bladder control; i could no longer walk without a rollator, could not do many daily tasks without assistance. my feet felt like i was wearing concrete blocks. rheumatologist said it was &quot;ridiculous&quot; to think these symptoms were associated with humira. well, 18 months later, i went to another dr., who said i had symptoms of &quot;transverse myelitis&quot;, associated with humira in some patients. the bowel incontinence and mobility issues plus &quot;concrete feet&quot; went away within several days.\"',\n",
              " '\"i have been on contrave for 5 days. i told my doctor that i could not take anything that would make me tired during the day or give me insomnia. score! i do have chronic headaches and currently take no meds. my doctor gave me the first starter bottle free because she wanted to make sure i could tolerate it before investing. i am currently taking one pill per day. two hours after i take it, its like a &quot;one-glass-of-wine&quot; feeling. im less stressed and have absolutely no appetite. some foods that i generally like dont even taste good. im hoping the meds will continue to be successful. my mouth is a bit dry, but nothing significant. i also have headaches, but thats typical. ive already lost weight and no fatigue!\"',\n",
              " '\"oh my! i have experienced bloating, gas and abdominal pain since taking this medicine. the infection does not seem to be clearing up and i only have one day left of a 7 day course of 500mg twice a day. i am tired, have insomnia; and will not take this again. my abdominal pain is extreme! i have been up since 3am and took it this morning; immediately took a bulking laxative after, to put something in my stomach. will see if this helps!\"',\n",
              " '\"at first i thought i loved this pill, the problem with it crept in so subtly i didnt notice it (very similar to a previous complaint on saw on here). ive never had issues with anxiety or depression before taking this. about 7 months into taking the pill my anxiety sky rocketed and i became increasingly depressed. insomnia also became a consistent problem and i seriously thought i was losing my mind. my relationship with my husband also suffered from these serious side effects as i became extremely moody and would cry for no reason and not understand why. my advice would be to seriously monitor how you feel while on this pill and note any changes in mood - becomes it definitely creeps in slowly.\"',\n",
              " '\"i did it on september 12,2016 &amp; on september 17 i recieved brown spotting slightly pickish i thought it was implantation &quot;period&quot; i started to freak out really bad but so happy it is not. i now have my heavy period with fatigue the pill works! just take it as soon as it happens or within the 24 hour range best.drink warm teas for the cramping! or hot baths. love you all! be careful!\"',\n",
              " '\"the side effects out way the benefits. vomiting for days and then joint pain , swelling and out of control pain in hand and foot for days. had to go to walk in clinic and then doctors office. had to miss work . do not take this medicine !\"',\n",
              " '\"the depression i suffered with the implanon was scary. until i had it removed i had no idea what a horrid grip it had on my emotions. i wanted to die most of the time. as soon as it came out i cried almost non stop for a few days and then started feeling better. almost back to my normal self now. thank goodness.\"',\n",
              " '\"never in my life have i written a review for anything ive taken, yet i felt the need to write this as i suffered the same symptoms as many people that has already reviewed. i only wore black t shirts or tanks, could never wear color due to sweating like a dog in my armpits for no reason. large, visible dark wet spots under my arm for no reason just sitting in class. was pessimistic about hypercare as many things havent worked in the past but take my word for it: this stuff will change your life! take your chance and free yourself of the silent trauma of sweating profusely.\"',\n",
              " '\"didnt find it a whole lot different from ssris other than a couple weeks of jitters. starts off with a contented, floaty feeling and then after a month subsides to having a minor, yet meaningful effect in helping me recover from recurrent depressive episodes. it helps, but only marginally. the withdrawal effects ive experienced going cold turkey off it numerous times are strange. a couple months of severe flu-like symptoms and ill cry very easily over anything even remotely sad. also causes me to start rapid-cycling between euphoria, mixed and extreme depression. also lasts a couple months. going off of it abruptly is quite terrifying. i recommend titrating off it.\"',\n",
              " '\"i had very bad cystic acne and had to see a dermatologist. she prescribed aczone and tazorac, it did not work, it made me breakout worse. i went back to her and she prescribed doxcycline an antibiotic and within the first week i saw an improvement. i am on antibiotics, aczone, and tazorac, which together works awesome, my dark spots and acne scarring is fading also.\"',\n",
              " '\"i decided to write about my experience because reading about other womens experiences with this type of birth control is what ultimately helped me  ive had paragard for 6 months the first 3 were rocky. i did it on a friday morning caused a huge cramp as did insertion. i took 800 mg of advil, valium and a loratab about an hour before (none of which was prescribed just extras i had around from wisdom teeth removal) after insertion there were no cramps but on the drive home they started. that friday night was terrible. i had no spotting but only a bottle of wine and lots of advil cured the cramps. 1 uti, 1 case of bv, and 1 month of constant back pain later im happy with the iud. periods do still last 7-10 days, not as heavy though.\"',\n",
              " '\"this is the worst pill ever. this pill does way more harm than good. i started this pill over a year ago and the first couple of months were totally fine. i freaking loved the thing. around the 6 month mark, i started getting my periods more frequently. after i would have sex, i would get a pretty heavy period that lasted 5 days. after about 3 months of this, i went to my obgyn. she said i was perfectly fine. everything seemed to be fine after that. now here we are present day and the same issue is back. i had to go have an endometrial biopsy because of it. i have also had weight gain, hair loss, and i am way more moody. i am switching to an iud because this pill is absolute trash. if they tell you to get on it, dont.\"',\n",
              " '\"vicoprofen was prescribed to me after a laparoscopy (removed ovarian cyst) i hardly felt anything at all. i only need to take it about once every 12 hours. please eat first. i was lightheaded and confused after taking it once on an empty stomach. also, dont drink alcohol. my surgery was a few days before thanksgiving and i had a glass of wine and felt sick to my stomach all night through the next day. never make that mistake again. overall the medication was good. like i said, i felt nothing after taking the pill.\"',\n",
              " '\"i have had trigeminal neuralgia for 20 yrs. there has been only one dr. that hit it on the nose. trileptal great medicine.\"',\n",
              " '\"i have to say this time around from the er to the overnights. i have never been more unsure as to why im taking a medication. i was told i have a partial blockage. except my wbc count was 15k. liquid diet from thanksgiving until 2dec. i lost 12 lbs. i take medicine for gerd, heartburn, bp. as you can see taken. at the hospital they gave me cipro and flagyl to take home and d/c d me. i am constantly bloated no matter what i eat or drink. fatigue or just feel like rubbish. havent felt this bad in while. i am starting to think my flora are jacked cause of these meds. going to use probiotics.\"',\n",
              " '\"this is the best prenatal pill i have ever taken. it is great for promoting hair growth for you and your baby. i didnt have any heartburn while taking this particular one. can be taken on empty stomach day or night. i have taken this throughout two pregnancies and overall healthy babies \"',\n",
              " '\"used lmx4 to numb skin prior to blood draw. did not work at all.\"',\n",
              " '\"i have been on sprintec for a month now, and have not had a problem with weight gain, but for the first 2-3 weeks my skin was terrible! it cleared up after that, however. i dont feel hungry as often because i almost constantly feel nauseous and have headaches. the most notable side effect is the cramps. even though im not on my period, i have terrible cramps that makes it feel like i am! got to my first week of white pills and no period.\"',\n",
              " '\"awful experience. i feel disconnected and struggled with derealization while on this. it made me so spacey. and my anxiety was out of control. im afraid to go anywhere and hang out with friends its awful. this is an awful drug for me. i feel like im losing my mind.\"',\n",
              " '\"i got mirena in about five months ago. it was very painful when i got it inserted, i have no children. i was bed stricken the whole day proceeding the insertion. since then i have felt great. i am pretty sure it has contributed to a little weight gain and some mood swings but nothing out of control. my partner can barely feel it. also, i do not really get my period, which freaks me out a little, but other than a few cramps (and i used to have unbearable cramps) during my period time, i love it.\"',\n",
              " '\"the cost was expensive at $38.90 in australia! no rebate. 2 drops x 5 days into my left ear. it made my hearing worse. after 5 days i have constant ringing in my left ear. i wouldnt recommend ciproxin hc ear drops for any one! i went to the doctor after 2 days and told her it was worse and she claims the inflammation was gone, keep using it!\"',\n",
              " '\"medication did not keep me asleep. no trouble falling asleep, but awoke only a few hours later. extreme exacerbation of depression occurred. loss of appetite, loss of taste, olfactory hallucinations ( the smell of burning cigars?), occurred no explanation given. only used the drug 2 nights but these experiences frightened me i will not use again.\"',\n",
              " '\"this stuff is the spawn of satan. i began using this to reduce minor sun spots and fine wrinkles. this stuff made the amazing skin i had into a housing unit for acne. it literally brings tears to my eyes the damage this has done. if it can be avoided, do not use. i would never recommend medication  ever.\"',\n",
              " '\"call me crazy but i think it worked after only one day. only mild bloating/gas as a side effect. ill finish it as prescribed but - seriously, its fine. i took it with full meals and it worked like a charm!\"',\n",
              " '\"ive had implanon since march of 2010. i have terrible headaches everyday, severe mood swings, no patience, no sex drive. i love the fact that i am having no periods but it is ruining everything. i want to have it removed but i am afraid i will get pregnant but i know its the best thing to do because i am driving everyone away from me.\"',\n",
              " '\"i have been using veltin for a few months for acne and layers of skin and ingrown hairs. it is the best topical treatment ive ever used. anyone serious about their skin has to go through the time of having ugly cystic acne come out. the reason some people dont give it 10 stars is because you breakout initially but if you are educated about skin, then you know you have to break out first for you skin to get better. i have been very depressed because my face got so bad i looked like a different person and still do, but veltin is helping me get my face back.\"',\n",
              " '\"i have been on the xulane patch for 3 months now. during the first month, i did experience some pregnancy side effects (am nausea, food/smell sensitivity, painful breasts) especially on my patch change day. i believe it is normal as your body is getting used to the amount of hormones you are receiving. when it came time for my 4th week (off week) i did have a severe migraine that lasted up until i began my period, 2-3 days after removing the patch. it was so debilitating that i did consider discontinuing the patch. however, things returned to normal with my period and i did notice a lighter period that lasted only 3 days.\"',\n",
              " '\"after being on dozens of meds for depression, anxiety, insomnia, and ptsd over the past 9 years, i have finally found a combination that works!!!!! cant speak highly enough of the drug saphris!!!! truly blessed and amazed!! i am sleeping so much better at night and my mood is so incredible. thank you god for not letting me give up, even though i tried many times. no side effects. also on effexor, propranolol, lamictal and clonazepam.\"',\n",
              " '\"i have been on portia for over a year it has made me lose weight and caused me to have crazy mood-swings. i got two benefits from the pill which is weight loss and definitely did not get pregnant. this pill works really good for me and i will continue using it until im ready to have a child in the future.\"',\n",
              " '\"i recently switched to this birth control and have nothing bad to say about it. i used to have cramps, bad acne, mood swings and back pain. my mood swings, cramps and acne went away! my period used to be 7 days and very heavy. its 5 days and light! i couldnt be happier!\"',\n",
              " '\"i have used this product for the past three years without issue until the last few weeks when the site where patch was applied became itchy. as time has gone by in few weeks time, the skin underneath gets extremely itchy. i removed it and the skin underneath was left raised, purple, and with peeling skin. it has been 2 weeks and my skin is still purple and the skin has not healed. i tried it on my back and yet again the same thing. i have a red square with leatherlike skin. i ad to call my obgyn and ask to be changed to another product. i cant walk around with damaged skin. hoping that eventually the skin will heal. horrible product!\"',\n",
              " '\"i got the birth control about three years ago, i am set to have it removed this year. it has worked wonderful as far as preventing pregnancy. i have gained weight but i also work a desk job so it goes hand in hand. my periods are terrible i have endometriosis which makes it very painful to have periods. i had a few but after the first year they stopped. i have had only spotting once or twice in three years. the negatives are lower sex drive, acne on the arm by the injection site, hair growing in places it had not before ( my chin). i am 24 and this is effective, it does effect everyone differently. i love it but it does have a lot of side effects, but i would rather live with the side effects than being pregnant or painful periods\"',\n",
              " '\"so i have had eczema hayfever and ibs. its 2 days since i started this med and all of my systoms are 80 percent disappeared.\"',\n",
              " '\"i liked the fact that this medication help me focus but it seemed as i was very &quot;distant&quot;. i didnt like how it made me just not want to move or do anything. i am 24 and just recently found out i have adhd and it is most likely i have had it all my life. i have trouble with finishing what i start and just cant stay focused! so right now it is just trying to find the right kind of medication for me before i start back up at school in january.\"',\n",
              " '\"i had a knee replacement on the right knee. in the three months since i had the replacement my left knee was worse the dr. suggested a knee replacement for the left but i couldnt as the right replacement did not go to plan and i have a bent knee for life. i came across the synvisc and asked the dr about it. he said that he has not heard of anyone that it has worked on, i went ahead and ordered it and had him inject the left knee it was good for about 4 weeks and then the pain came back with a vengence. it cost me over $400 it was money not worth spending. they say you should get up to 6 months mine was maybe one moth.\"',\n",
              " '\"been on this anatibiotic for a little over a week and has made my face look worse than it has ever before. really getting tired of acne and nothing works.\"',\n",
              " '\"this med has worked a lot better than the 10mg percocet 4 x daily that i was on before. i take 10mg percocet cut in half twice daily with the embeda, it helps while the med has a slow uptake. the first week or so, i was a little bit dizzy and tired. that went away and i have no complaints. the meds work. the narcan in the pills doesnt bother me or effect the way the meds work for me. i have had bad back problems for 25 years. my s spine and my l spine are separated on the right side 4mm and the l spine is pushed forward 2mm. i have had chronic pain half of my life due to this injury. this medicine really helps.\"',\n",
              " '\"very effective. eliminates the anxiety associated with adhd. able to process and function. none of the jittery side effects that i had with adderall, straterra or concerta. it was the smoothest thing i ever took. the only two knocks is that the medicine is off labeled and will not be covered by my insurance. out of pocket can be $3-$400 a month? i cant cover that, so my joy will be short lived. \"',\n",
              " '\"ive had nexplanon for just a few months now and my only issue is the constant bleeding. after it was inserted, i didnt bleed for about 2 weeks, then all of a sudden, i have been spotting/breakthrough bleeding for about two months now. it is really putting stain on my relationship. it can be really lite, then get heavy. im going to give it a couple more months, but if this continues, i will definitely have to reconsider it and try another bc method.\"',\n",
              " '\"ive had a migraine for 4 days straight and tried different medicines including naproxen (which helps my moms migraines), exedrin migraine, advil, etc. nothing provided any relief. this morning my doctor gave me frova and a dex shot. within 45 mins my migraine, thats been plaguing me from the moment i wake up to the minute i go to bed, is finally gone. i am so happy i can now function again without the crippling pain thats forced me stay inside all week unable to move without my head throbbing. i am so grateful for this wonder-drug. i highly recommend it. thanks frova.\"',\n",
              " '\"i have always found cephalexin to clear up my diabetic toe infections but they always recur usually days after i get done taking it.\"',\n",
              " '\"had no problem taking the drug but my treatment was stopped after 5 rounds due to severe neuropathy.\"',\n",
              " '\"premarin is great for reduction of discomforts caused by surgical menopause, hair, skin, sense of well being, sleep, moods and energy levels.\"',\n",
              " '\"this medication did nothing for me!\"',\n",
              " '\"i was on this about a month and titrated my dose slowly. it mightve started to improve my depression at first but that didnt seem to last. it also probably increased my anxiety. it caused constipation and upper gi slowness as well that took three weeks to improve. it also caused a pungent feminine odor that lasted the entire as i took it, not just before my period. \"',\n",
              " '\"i have had implanon since march 2008 and the main side effects that i have are periods that are long lasting from 10 to 21 days, no libido/sex drive, and mood swings. my partner complains because im frequently on my period, which can be very frustrating.\"',\n",
              " '\"had 2 herniated disks l4-l5 and l5-s1 one of them at 7mm and one at 9.5 mm herniation. without an operation id be wearing a bag to pee in for the rest of my life at a young age. dr. cut the disk shaved the bone on my spine. been on meds 10/325 norco for like 4yrs relieves morning wake up pain and all day on my feet night pain. they do help . before the operation nothing helped.\"',\n",
              " '\"i have been using this cream for a month now and i seen results most of my g warts are gone. it takes time and patience. i know its an embarassing disease to have but there is hope, its not a death sentence. so far this cream is working for me. i noticed it does cause irritation if you over do it but other than that i recommend it.\"',\n",
              " '\"i started nucynta 100mg 3x/day because i have severe back problems. norcos/vicodin were not working. first day i was on it, it took about an hour to kick in (about 12am i got my prescription at 11pm). i had had bizarre/violent dreams. i took it before work (i didnt drive) and i have a desk job. i spent most of the day drooling. day 2 great night sleep, no bizarre dreams fell asleep no problem. went to work and was hot and sweaty (the office was at 69 degrees and it was raining), worst dry mouth you could imagine. no appetite and drank a ton of water. day 3 diarrhea, sweaty, no appetite. as for the pain management it worked better than vicodin but i still feel a burning.\"',\n",
              " '\"ive been on this just for a week now. the first five days all i wanted to do was eat and i actually gained 1 pound. but the last two days my appetite has decreased and when i do eat i get full very fast so hopefully it stays like this. im not on any diet or exercise program which would probably help but if i go down to a 1500 calorie a day diet i wouldnt even need a pill. ill keep checking back in that to share my experience.\"',\n",
              " '\"female 57&quot; 179lbs i started contrave on 5/7/17. i am going into week 3. as of now no significant weight loss. and my appetite is not as nearly diminished as i thought i would be. the first day it did i did not eat all day till dinner and even then it was a small portion. i drink water non stop, cut the soda, still allow myself one cup of coffee mon-fri. i do get a little nausea and slight headaches, but nothing to bad. i am someone who suffers from migraines but this is pill is not adding to them at all  so that i am thankful for, no depression or anxiety so that is a plus. i have cut my food in take and i am eating smaller portions. i do go to the gym 3 times a week. i have a friend that lost 60lbs over an 8 month period. so i am hopeful\"',\n",
              " '\"i have had a very positive experience with tasigna. very little side effects compared to the gleevec. my body seems to tolerate it much better than the gleevec.\"',\n",
              " '\"ive only been taking this med for 3 days so i cannot rate it adequately nor do i know if i have lost weight with this prescription since it has been so recent that ive started using. i dont feel much different from taking it, however, i have noticed quite constant dry mouth and a feeling in my throat/back of mouth almost as though i was eating and only partially swallowed something. i have had some fatigue, though im not sure if this is related. the most important thing to know about this medication is that it is not a stimulant for your thyroid or metabolism, and will not burn&quot; your fat. the purpose of this med is to reduce cravings and desire to snack. it will not help you lose weight by speeding any body process up.\"',\n",
              " '\"i have been on zoloft for about one year. was on 25mg, i recently increased the dosage to 50mg, to help get through a stressful time. it has definitely worked for me. this increase though i am noticing more dry mouth and stomach upset decreased appetite. i have had really bad anxiety about social situations and sleep (not getting enough) i hated going places or being around people. this medication has helped me greatly. im hoping it will continue to do so on 50 mg, and i hope to step back down so i do not get the burnout effect that so many people talk about.\"',\n",
              " '\"tramadol doesnt work for me. im very sensitive to any medications but i suffer from fibromyalgia, back pain, neck pain and depression, this med. make me feel dizzy, rash on my cheeks and headaches\"',\n",
              " '\"love it.\"',\n",
              " '\"i didnt want to deal with the inconvenience of a 7 day treatment which has worked so well for me before, so i decided to try the ovule. i cried first, when it got beyond tears i used a icepack. i ended up in the er and they had to apply a numbing agent in addition to giving me an injection for the internal relief. never again!!!!!\"',\n",
              " '\"been taking 1mg of prazosin for the last 2 months for ptsd nightmares that were causing sleep problems. nightmares stopped the first day i took it but, i experienced severe headaches, dizziness, drowsiness, nausea and a lack of energy. as i got used to it, the symptoms gradually improved but did not go away completely. if ive been drinking, the symptoms will worsen but it is bearable. overall, my nightmares have become rare and i can sleep through the night; the side effects are worth it.\"',\n",
              " '\"i suffer from high anxiety and manic depression. i have had trouble getting to sleep for years and sometimes would go days without sleep causing insomnia on top of everything i deal with making me feel like im going nuts. after being up 3 days straight i broke down told my doctor i needed something to help me sleep and be gave me zaleplon. i thought sure why the hell not, worst thing that could happen is it doesnt work right? turns out it not working was the worst thing that happened. not only did the crap not work but i stayed up a 4th night waiting for it to make me tired. i might as well have taken nothing. at least with nothing youre not anticipating things that wont come. man, benadryl works better than this. waste of time and money\"',\n",
              " '\"i took amox/k clav 875-125 mg - it is the generic for augmentin it didnt start working until the 4th day, very slow working but the doctor did tell me it would work slow but it would be very affective and to make sure and take for all 10 days 12 hours apart, so i did. i did get the headaches but dont know if it was from lack of eating and lack of coffee. i did notice that my tastebuds were affected, which had never happened in the past, so i figured it would go away, it has now been 16 days since i started the medication and my test buds are getting better but things still taste like chalk, ill wait for a couple of weeks see if taste buds get better but for now i eat enough not to be hungry.\"',\n",
              " '\"ive been on this birth control for about a year and im not kidding each month have freaking sucked like im seriously on my period for 12 to even 20 days at a time on my period. my doctor told me it would get better so after a damn year it still sucks.do not get on it. i have friends who experinced this as well. it ruins my life i hate being off my period for only a week out of a damn month.\"',\n",
              " '\"back story: i am 134 lb 29 year old woman who has been drinking heavily since 19. 5-10 a day is where i have been for some years now. i tried tapering myself and was going through hell. i was in fear for my life and was terrified that if i saw a doctor they would cart me off the detox. i have been spent some time focusing on recovering and am very motivated. i am at the point where the idea of taking another drink makes me sick. i went to the emergency and they immediately gave me valium for withdrawals. i left with a prescription to librium, but my pharmacy was not open. the nurse even suggested taking some drinks until i could get the prescription, but i found a 24 hour pharm am just paid for the librium. amazing stuff. actually slept!\"',\n",
              " '\"i have only been taking acamprosate for about a week now but it works very well so far! it really quiets that craving and urge that makes you want to drink. if youre suffering or think youre on the way to becoming addicted, i highly suggest asking your doctor about acamprosate. you will feel normal again and not worrying about when your next drink will be, which becomes tiring. im thankful my doctor perscribed this and for the people who invented it.\"',\n",
              " '\"seems to help. i take 100 mg, twice a day in a combination with lortab 10. have not had any of the listed side effects other than, i tend to anger quicker, nothing that cant be controlled.\"',\n",
              " '\"i had an awesome erection, however, sexual desire has decreased even more since i havent taken it. im irritable and feeling like im going crazy.\"',\n",
              " '\"flecainide works for me but caused symptoms that mimicked ms. i was put on flecainide in october 2009 for atrial fibrillation. started having dizzy spells and vertigo soon after. then started getting migraines (never had it before in my life) and seeing flashing lights. ringing in the right ear started in november. then by february 2010 episodes of incontinence, slurred speeches, confusion, difficulty focusing on conversations, stumbling, falling, tingling in finger tips, dropping pens, dishes, anything i held. feared i had multiple sclerosis. after tests for ms - all negative - i went to my cardiologist and asked if flecainide may be the cause. he said not likely but lets stop it and see. four weeks after stopping, all symptoms cleared.\"',\n",
              " '\"after suffering vertigo for nearly a week i became very ill and spent a week at dartmouth hitchcock. i have been diagnosed with suspected anaplasmosis once and lyme disease three times, most recently on 6/16/17. i have taken four 30 day courses and one 14 day course of doxycycline hyclate 100mg, 2x daily. my physician will prescribe another 30 course of &quot;doxy&quot;. i dont feel sick and dont remember having a tick. they can be so small its very easy to miss them. and, im tired of taking antibiotics even though i know i need them. \"',\n",
              " '\"ive been taking this medicine for years now and have had very little flare ups. i feel great on this medicine\"',\n",
              " '\"i started this medicine when i was fairly young with moderate acne, i remember it doing absolutely nothing for m skin. it just made it kind of red.\"',\n",
              " '\"adderall xr has changed my life. for years, i have struggled with depression and just not feeling well. i happened across an article on adult add and recognized the symptoms. i talked to my doctor and went off effexor xr and then began taking adderall xr. before, i has lost focus by 11 a.m. and didnt even know where to begin on projects for work. everything just seemed to be too difficult to do. i couldnt make it through the day without a long nap. i feel great, am actually enjoying my work, and dont need naps anymore. always take it first thing in the morning; otherwise, it will interfere with sleep.\"',\n",
              " '\"i found this to work fairly well, but wake up with a headache next morn. i know its the tiz. because i never get headaches and it happens every time i take one.\"',\n",
              " '\"i started taking the generic version 6 months ago. i had to go to my doctor every two weeks for a weigh-in and to &quot;earn&quot; another prescription (had to show some weight loss). the first two days were the hardest with nausea. i felt tired but had insomnia. i did lose 9 lbs the first 2 weeks, but after that i have only lost about 1-1.5 lbs/week. i began working out 3-4 times a week for 30 minutes to improve muscle tone and cardio fitness. the dry mouth and constipation were bad, so i began taking the pill every other day which really helped. i did not notice any increase in appetite. so far i have lost 40 lbs. my doctor is thrilled and said i can continue with skipping 2-3 days. i plan on stopping when i hit 50 lb loss. i want to lose 100lbs total.\"',\n",
              " '\"took this medicine during chemo and radiation. did not work, may have been because of the chemo and radiation, just not sure. was given cipro and that did not work either. i am now on my 3rd of 5 day levaquin dose and passed my azo uti over the counter test this morning, yea. two months of a uti is a bit much, although, i now know what works for future.\"',\n",
              " '\"as everyone else i have a terrible problem sweating and can only wear black t shirts or tank tops. i only started using this a year ago and aside from the burning and soreness after, its great. however, i just went to refill my prescription and was told that they are no longer manufacturing it, i went to many pharmacys and was told the same thing. i dont understand why.\"',\n",
              " '\"i have been on many anti-epileptic medicines over the course of 30 years: dilantin, mysoline, klonopin, depakote, topamax, lamictal, etc. while keppra did a good job of controlling the myoclonic jerks which i often experience, it was way too sedating when combined with topamax. it wasnt uncommon for me to sleep twelve hours a day. the real problem with keppra was the mood swings, depression, anger and suicidal thoughts. its no secret that a link exists between epilepsy/seizure disorders and some (all) of these issues; however, in my case these feelings and emotions definitely intensified while taking keppra.\"',\n",
              " '\"they worked for me and i had smoked for almost 40 years. i occasionally got the hiccups, but they were better than cancer.\"',\n",
              " '\"mobic sciatica = zero relief\"',\n",
              " '\"ive only been taking aviane for 2 and a half weeks, but so far the only side effect i have had was the first 3 days or so, i had mild to severe headaches the next morning, i take my pills at night. havent had an headaches since then, i have noticed an increase in my sex drive, which isnt a bad thing\"',\n",
              " '\"i got the skyla inserted in november of 2015 due to my doctor thinking it was a better option for me since i am forgetful of the pill. the birth control part has done well but the side effects and pain of it is totally not worth 3-5 years of birth control. i have not felt myself ever since and my periods are excruciating. i used to never cramp and now i feel terrible when i am about to start and start my period. not to mention the weight i have gained on it. i have gained about 20lbs since then. i have dieted, worked out, and taken weight loss pills and nothing seems to help. i will be contacting my doctor to have it removed in the next day or two. it is not worth it in my opinion. i will be going back on the pill after i have it removed.\"',\n",
              " '\"an amazing drug finally relief! have had shots, lidocaine pads, otc, scripts nothing really provided relief! cant recall the last time i was pain free! podiatrist prescribed for plantar fasciitis relieved it as well as oa in knees small amt. twice per day, pep in,y step finally!!\"',\n",
              " '\"best thing since sliced bread. got my blood pressure down. no side effects and covered on my insurance. it works great. thanks to this company for making a winner\"',\n",
              " '\"hi ladies! i am here to update on my experience with ellaone pill. i had protected sex on 18 nov 2015. nothing spilled, nothing broke but naturally, i was still paranoid. so i decided to take ella four days after just to be safe. my last period was on 6 nov 2015 and my period came 7 dec 2015, quite on time! my next period came on 5 jan 2016 so my period has resumed back to normal. my pregnancy tests have come back negative :) however, i have suffered one side effect of ella one which is nausea. before and after my period, i would have extreme nausea. and it may last for days or be short. i have combatted that by resting or eating food to ensure that im not on empty stomach if i do vomit (i have not) i hope this helps! dont be afraid :)\"',\n",
              " '\"all of my life i have suffered from anxiety and its painful i cant function in life i am sick of my life being controlled by these issues. i was prescribed this medication for my blood pressure but my dr. mentioned it works for anxiety as well. day 2 i feel relaxed physically but my mind still races and last night i had a very vivid nightmare which hasnt happened in a while. but i can deal with the nightmares. today still day 2 i can actually speak to my family and care for my screaming newborn without wanting to run away. i like it so far. reading positive reviews helps a lot.\"',\n",
              " '\"i was told to take this 40 years ago, but didnt like the taste/texture. my pain and diarrhea got so bad i started taking 1 scant tablespoon a day and i have no more pain and only rare diarrhea. i wish i had started using it years ago.\"',\n",
              " '\"on week 3 and a half. have learned most my side effects are from being hungry from forgetting to eat, caffeine withdrawal from no longer needing 6 cups a day for a bit of energy. now, i eat small amounts of healthy foods that taste so good to me and dont make me feel sick. foods i used to eat now make me nauseous. i have plenty of energy. small amounts now give a full feeling. i enjoy slow eating now and all the tastes. i got dry mouth at first but now dont as i drink water like everyone says you should. only now i enjoy it. i was irritable the first two weeks but think that was the caffeine withdrawal. no longer need a secret sugar or pasta fix either. lost 12 pounds first two weeks. each day losing 1-3 pounds.\"',\n",
              " '\"second time taking this anabiotic, first time it wasnt bad at all. no symptoms for me. this time on the 4th or 5th day i woke with a headache then the nausea on top of all that i cant sleep at night im usually knocked out around 10ish for work in wide awake, like no sleep is in my future lol dont mean to laugh but gotta cheer up some how. i also have no appetite, &amp; its not because of the nausea. not sure whats different this time, but i dont ever want to go through this again, restless nights so tired &amp; cant sleep. not cool at all!! but i found a remedy take some pepto-bismol it coats your stomach &amp; will help with the nauseous feeling a lot. it helped me &amp; i had to make myself eat even though i had no appetite hope this was some help\"',\n",
              " '\"i had been on morphine sulphate called mscontin for 12 years along with fentynal patch. ms is slow release as is patch. i decided to end this nightmare of addiction and clean out. 3 months ago i tapered off the patch with no symptoms probably because of the mst im three days into detox after reducing dosage from 60 mg a day to 10 mg. dr gave me clonidine 0.1 and lorazepam 1 mg. both make me sleepy but i cant sleep more then 1 hr. anxiety is always there and stomach upset, diarrhea and leg cramps. i wish i could say clonidine kept withdrawals away like others stated but thats not the case. im hanging in hoping tomorrow is better.\"',\n",
              " '\"overall venlafaxine did what it was supposed to do, it kept my moods level, however; the withdrawals from having to stop it after becoming pregnant were horrible. even with titrating off of it my brain and body felt like they were going to explode. the brain shivers landed me in the hospital (hyperemesis gravidarum didnt exactly help). the withdrawals alone will stop me from ever taking venlafaxine again.\"',\n",
              " '\"this medicine is a definite winner if you want to stay clean. i find its effects almost hypnotic, i rarely think of smack any more. but ive lost over a stone in weight since starting my script 5 months ago. i want to stay on it but am afraid ill fade away.\"',\n",
              " '\"i have been on phentermine 30mg for 28 days as of today i have lost 20lbs. only side effect im having is constipation. so with that being said im very happy with outcome  exciting to see what the next month on them will bring since i can only get rx for 3 months on then 3 off. starting weight 274 currnet weight 254 goal weight 200\"',\n",
              " '\"ive had my implant for going on three years. during the first year every few months i would have urinary tract/bladder infection like symptoms. i would go to the doctor and they would prescribe me antibiotics then it would go away. by the third time having these experiences i waited to see the doctor to tell them my concerns. i felt like i was someone was squeezing my bladder it would get tight and get loose and i would have to take a moment to stop and let the pain go away. when speaking to the doctors about this they say its &quot;pelvic pain&quot; ive never experienced this in the past with any birth control ive been on the iud non estrogen and estrogen, pill, and patch. periods come around the same time every month and spotting occurs.\"',\n",
              " '\"i started taking the pill when i was 17 and began with tri-sprintec. i loved it, but after a few years i started randomly spotting so my doctor switched me to nortrel because it had higher levels of estrogen. i am now 21 and have been taking this pill for about 8 months and the experience has been awful. i have gained a ton of weight without changing my eating or exercising habits, have been getting horrible migraines, even though i had never experienced one until this pill, have been getting petechiae everywhere, and scary mood swings. \"',\n",
              " '\"this drug gave me day to day life back. pain is well controlled.\"',\n",
              " '\"dangerous drug, associated with many side effects, even after you stop taking it. i took a similar one (a quinolone) and came out in a terrible rash. had bad taste in mouth, and aches and pains. i also suffered hallucinations. all these reactions have been strongly associated with this group of antibiotics. best avoided.\"',\n",
              " '\"im on day 3 of a 5 day dose (500mg 3xs a day). nausea, dizziness, and headache, but the infection has cleared up. so, it does work, if you can stand the side effects.\"',\n",
              " '\"this cough syrup gave me the worst diarrhea ever. maybe im allergic to one of the ingredients or maybe it is a common side effect. i had bad stomach gurgling too. go with robitusin day or night, and also robitusin night formula. it worked great!!\"',\n",
              " '\"enbrel most likely saved my life. was eating less znd less due to pain in jaw. range of motion loss in neck, hip, jaw and back largely regained after taking enbrel. on it for 6 years. pain went away day after starting it. first symptom was probably iritis episode in 2000. now 53 years old and only worry is how to pay for it with all the changes in medical coverage.\"',\n",
              " '\"the first few weeks after my first shot were great. i didnt have any side effects. my period came two weeks late the first month and after that all hell broke loose. my period lasted ten days and ever since o have had a brown discharge. it hasnt stopped in two months. i also have horrible mood swings now. i havent gained weight and not having to take a pill everyday is really convenient, but overall it isnt worth it.\"',\n",
              " '\"i sleep 18-22 hours a day. dr. prescribed this medication to help me sleep less. it was a miracle at first. i started to eat like never before . it does help to stay awake (very subtle). after about 35 days on it, i started to sleep more and more. doctor changed dose to 15 mg twice a day. eating out of control and i was very unaware of my maniacs. im now on 30 mg twice a day. mania has slowed, eating is still over indulgent. \"',\n",
              " '\"fiorinal is the only pain medicine that will help my headache to any degree of satisfaction. thanking god for it.\"',\n",
              " '\"seems to be working okay. the buzz is calming after taking for 2 weeks. ill not take morning dose if i have to function during the day. does help with chronic back/cervical/knee pain. side effects are easier than morphine. that made me irritable and didnt touch the pain.\"',\n",
              " '\"worked great the first couple of days - concentrated, laser focus and able to work hard. a few days in, i felt like i was on speed - couldnt concentrate, thoughts racing, difficulty completing tasks. i couldnt stay on it, i was so anxious.\"',\n",
              " '\"i have been on the shot 11 years and until a month ago, never 1 period or even spotting. a month ago, dark brown blood, awful odor, &amp; now i have had a full blown period for 2 days. not sure what to think. i have continued the shot all of these years only because of the absent monthly.\"',\n",
              " '\"my 11 yo has been on concerta for 2 months. the first few days he did experience some nausea although went away. after the first week i could tell a huge difference in his attitude  he suddenly had a sense of humor, engaged in conversation without being distracted, and was bringing home/completing homework with no trouble! his grades have immensely improved!! i can tell a difference (not huge) on the weekend days he doesnt take it. or if he didnt sleep well the night before and when it begins to wear off in the evening he tends to be a little grouchy. only other down side ive noticed so far is that he has lost approx 4lbs/mo which is concerning if it continues. so far, happy with the results!\"',\n",
              " '\"i was diagnosed with bipolar disorder back in 2002 and ive tried every medication under the sun with no success. then in 2006 my doctor tried me on modafinil as add on to my other medications, i was really surprised at the effectiveness of modafinil. on my depressed cycle it made me get off the sofa and lessened my depression. during my mania cycle i would not have to take modafinil. it is definitely a medication worth trying as an add to as add on.\"',\n",
              " '\"i am 21 years old, i was first put on microgestion at the age of 15, my freshmen year of high school because my anxiety was so bad. when i graduated high school 4 years later i tried another pill- made me gain weight, nuva ring made me nauseous every single day for 3 months, then another pill. then i figured id just go for the iud. worst decision i ever made. getting it inserted was the most painful thing ive ever experienced and for 3 days after i literally had &quot;labor pains&quot; i stayed with it for 6 months and completely lost my sex drive and when i got it removed i had my period for 3 weeks. i went back to microgestion last week and its the best decision for me and ive never had a single problem or scare. i love it!\"',\n",
              " '\"the trade off is a few hours of real pain for 3 years of not having to worry about birth control. i have never had children and im 22 years old, so my cervix is really small according to my doctor. thats why the insertion, and the few hours after, hurt so very badly. however, since then i have felt no pain. i cant feel it ever. the best part is that my periods are incredibly light and only last one or two days! i am really glad i did this, and in three years ill probably get another one.\"',\n",
              " '\"i had kyleena inserted 8/11 and so far im not super impressed. i had it inserted a week before my period was due  ive never had kids or have been pregnant. the day of insertion, it hurt like a bad cramp being inserted and then i felt fine. i went to leave and i almost passed out by the doctors office elevators  just overcome with dizziness! i forgot to eat breakfast but the doctor told me insertion does make people dizzy. i got home and had unbearable cramping the entire day  9:30 am-8 pm. i took 800 mg for advil literally every 4 hours. fast forward a week and i got my period on time but it was heavy and long-a week- which on the pill it was short and light for me. i had sex two weeks after insertion and i felt sore and crampy.\"',\n",
              " '\"great as long as i dont forget to take it\"',\n",
              " '\"i have been taking phentermine 15mg for about 1 week now. i try to not step on the scale every morning but i cant help it. all of these veggies and calorie counting is killing me! on the bright side, it seems that i am losing a half of a pound a day so far. i am not exercising as of yet, but i will make time for it. i always keep a bottle of water near me due to the dry mouth. but i like it so far and i cant wait to see the end results!!! good luck everyone!\"',\n",
              " '\"this medication has made me extremely tired! i feel like ive lost all of my motivation. i am a teacher and a coach and find it extremely hard to get myself &quot;up&quot; to do these things. i am very tired in the morning and its not until late at night that i start to feel like myself again. only in time to take the medication again and start the process over. it has taken away some anxiety symptoms and helped me sleep (a bit too much) but i feel down a lot because i feel like i lost my passion. i am slowly coming off of it and look forward to getting back to feeling like myself again. i empathize with people on this medication.\"',\n",
              " '\"this birthcontrol is terrible! i am 28 years old was given this since i was diagnosed with pcos. i took it for 3 weeks and stopped. the 2nd week i was bleeding, bad cramping, and clotting as well i just assumed it was my body getting used to it after that i got bad bloating to the point that my bladder had pressure on it and i felt the full urgency feeling but did not have a uti! i had horrible depression and anxiety as well ( i am not a anxious or depressed person) it drove me nuts!!!!!!! i stopped taking it and it took 4 days to get out my system and have me feel back to normal! i have some zits now from it as well but thats better than all that other crazy stuff \"',\n",
              " '\"well i have been on ambien cr 12.5 mg for close to 6 years now and absolutely love it. i think it is the best thing since sliced bread. i developed insomnia when i started doing shift work and tried everything under the sun starting with melatonin, benadryl, restoril and all the new ones that have come out since and although some were helpful with helping me fall asleep, they did not keep me asleep past the 3-4 hour mark so the ambient cr has been great for me.\"',\n",
              " '\"the first 3 months on viibryd was great, was on 20 mg. had a lot of energy and felt like my old self again, then i took a turn downward. so they up the medicine to 40 mg and i had the worst side effects possible. heart pounding and palpitations, panic attacks, bad diarrhea, sleep deprived, crying, shaking, loss of appetite, bad nightmares, so they took me down to 20mg but added buspar. i have been on other antidepressants and never ever had such bad side effects  i still have diarrhea and nervousness. \"',\n",
              " '\"i have been taking savella for 2 years now. it really helps relieve my fibro pain. i was extremely reluctant at first because of the price. my dr. insisted i take it and i thought it wasnt helping at all, but i continued to take it anyway because i was desperate for relief. there was a week i forgot to put it in my weekly pill boxes. my body was in so much pain!! when i discovered that i had forgotten it, only then, did i realize how much it helped. i am thin, it doesnt cause me weight gain. i now am back to working full time and am productive again. stay strong and keep pushing fellow fibro sufferers. \"',\n",
              " '\"i have started taking lamotrigine with the intention of weaning myself off phenytoin. unfortunately after 2 weeks and 2 days i have had terrible side effects, splitting headaches, vomiting, nausea, dry mouth and extreme irritability \"',\n",
              " '\"i have been taking serax/oxazepam for 30 years for anxiety/panic attacks, works great! i started out on 10mg then after a few years was switched to 15mg. the past year or so i have been having trouble sleeping so the dr. put me on 30mg to take only at night before bed which i do and it works great for sleep. so, i take the 15mg when i need them for anxiety and the 30mg only at night.\"',\n",
              " '\"phentermine gave me ulcerative colitis. started taking them at the age of 32. a diet doctor gave them to me. within a few months my life had changed. always had to go to the bathroom. ruined my life. now i am taking pills. have to see my gastroenterologist doctor every few months. also have to have a colonoscopy every three years to make sure the pills are working.\"',\n",
              " '\"i have been taking these on and off because i injured my back awhile ago. it works great for pain. \"',\n",
              " '\"ok so i have fibromyalgia, djd, reynauds syndrome, bulging and herniated disks, possible lupus(awaiting further testing). this treats mild muscle spasms and muscle pain without making you sleepy or groggy. when in severe muscular pain i have to use soma 350 mg instead.\"',\n",
              " '\"wow, since taking nuvigil i am able to task busily all day without afternoon nap and general fatigue. it also has increased my adult cardio activity beautifully (if you know what i mean). i was a little jittery the first day and waited a week for 2nd try. now 4 days into it and awesome. hope it stays working like this.\"',\n",
              " '\"i wanted to share my review with trinessa. i came here to read some reviews about 5 months ago or so i was scared to try this birth control my insurance made me switch from orthotricyclenlo (after over 5 years). first month i immediately started breaking out like crazy and it only worsened as the time went by. by the third month i did not want to go out and show my face it was awful. but i did not want to give up on this birth control it should be almost indentical to ortho right so why wouldnt it work for me. i almost gave up on it until the fourth month my skin started to clear up. the redness is now completely gone my skin is soft glowing i am going into my 5th month now my skin feels amazing. i would suggest to give it some time.\"',\n",
              " '\"i had severe soft tissue damage. the inflammation would not subside and was creating other problems as the inflammation was choking nerves. i did a series of 11 injections in the area (12&quot;x12&quot; area) over approximately 8 weeks. it worked. it took about 2 months to feel full effects. my side effects included minimal pain at the injection point for a day or 2 after each injection and major upper body sweating. thank god for this medicine as it was the only thing that worked to minimize the inflammation.\"',\n",
              " '\"took 100mg for the first time last night. dont think i rolled over all night - my hip is aching this morning, possibly because i slept in one position. i slept through my alarm this morning. three cups of coffee later, im still groggy. ill try 50mg tonight and see if it works without the side effects. id advise starting at a low dosage and working your way up.\"',\n",
              " '\"for me this prep solution was a good alternative. i liked that it was just about like drinking water so i could just chug it down, get it over with. i bit down on a couple of lemon wedges afterward to kill the very strong after taste. it was a lot of liquid to drink in a short time and getting up in the middle of the night to do it again was not my favorite part. i am pretty certain, however, that i am well prepared for an effective scope. also, i had minimal cramping and discomfort after ingestion which was nice. overall, i much prefer it over the preparations i have used in the past.\"',\n",
              " '\"originally my doctor prescribed me klonopin (anti-anxiety medicine) and i took it for a year and started to feel very slow. i had a very blunt expression on my face and my family started to begin to think i was depressed. i saw another doctor and he prescribed me prozac. it has relieved much of my depression and anxiety. i smile more and i think a bit clearer now. i dont worry all the time and i actually feel worth something. the first 3-4 weeks you dont see much improvement but once you hit 2 months you start to feel a lot better (at least i did). however, there are some sexual side effects, and you can feel drowsy. \"',\n",
              " '\"i had recently lost just about everything i had but my truck, and was suffering from major depression. couldnt even find the strength or will to get off my grandmothers couch. the doc gave me the first 3 weeks dosage (2 20mg then up to 40). the very first day i noticed changes. i had my energy back, i wanted to do things again. the side effects didnt kick in until day 4. nausea, constipation, and overall foul stomach. my stomach made noises that ive never before heard it make. it was putting me in such a great mood that i just pushed through it and in about a week, with lots of antacid and stool softener, it subsided. this medicine has helped me tremendously so far in my battle with depression.\"',\n",
              " '\"this cream is just awesome. i started getting pimples on my face and tried several products to get rid of it. unfortunately, most of the products didnt work as per the expectation. i read about benzoyl peroxide and the wonders it can get to your skin. i went to the chemist and bought one pack of this cream. after applying this cream for almost 2 weeks all my pimples simply disappeared. i am continuing to use this cream for my skin to look healthy and glowing.\"',\n",
              " '\"i started contrave daily 3 months ago. initially, i had a bit of trouble falling asleep and felt mildly light headed and sometimes dizzy and lightheaded when i was getting out of bed or getting up up from a chair. i did not think this new pill was working for me and then,as i hung in and with patience-i began to lose weight. i am happy to report i have now lost 25 lbs. it has been so very long that i have been able to lose this kind of weight. i a very pleased. just hope contrave is safer than the last fda approved diet pill, that caused heart valve damage. lauren r\"',\n",
              " '\"worked well for a week then side effects started. tightness in chest, depression, suicidal, light sensitive, dizzy, nausea, had to stop taking it all together. took one every 12 hours per instruction. helped a lot at first then the side effects were unbearable.\"',\n",
              " '\"at 20 mg once a day, after three days lasix dropped my blood pressure 20 points, both systolic and diastolic, with no side effects. lasix is on the who list.\"',\n",
              " '\"this medication worked great for me except for some stomach upset which was i tolerating because i wanted to stay off prednisone. however, three weeks into taking the medication, i developed an allergy to it and broke out in hives all over my body. so i had to discontinue, sadly. very sorry not to be able to take this medication as it seems the best one for controlling my lupus with the least side effects.\"',\n",
              " '\"i react different than others on most meds. i took vraylar for 4 days it helped with my moods but the side effects out weighed the good to it. it made me sick to my stomach, couldnt drive, had to sleep throughout the whole day, hot flashes, dehydration. it was horrible and i couldnt handle how bad it made me feel.\"',\n",
              " '\"works good on my back pain.\"',\n",
              " '\"i am 21 years old, non-smoker, do not drink often, exercise regularly (aka. poster child of health, i was a college athlete as well i dont even have a cavity!) i recently got diagnosed with dvt (blood clot in leg) and a pulmonary embolism. i was on junel fe and the 3 doctors i saw said it was due to the birth control. do not take this! i know it is considered a &quot;rare&quot; side effect, but it can happen to you easily. apparently it is not as rare as i thought. the medication is very costly and you may have to be on blood thinners for the rest of your life. be careful.\"',\n",
              " '\"i had to take this medication for oral thrush after a couple of rounds of antibiotics. unfortunately the oral nystatin suspension gave me a terrible allergic reaction. i developed a very itchy body rash (hives) so i never got to find out if the nystatin would have worked for the oral thrush.\"',\n",
              " '\"i started taking belsomra after my ambien became not as effective. it was expensive, but i hoped it would change my life. ive had insomnia for almost 20 years. it seemed to work ok at first, but the longer you take it, the worse it gets. sleep paralysis is just the beginning. night terrors, violent dreams and very thin sleep followed. by the time i decided to go back to ambien, i hadnt had a real sleep in months. dont bother trying.\"',\n",
              " '\"i started taking tamoxifen in september of 2013. the side effects kicked in after about a week. my fingers completely seized up and if i crouched down i couldnt get up again! the joint pain was unbearable so my oncologist decided to take me off it for 6 months. he then introduced it gradually, 10mg a day instead of 20mg. so far so good! after 6 months of that he put me back up to the full dose and the pain didnt return! ive been on it ever since. my periods are here and there but are quite heavy and painful when i do get them. i wish theyd just stop. just keeping everything crossed that the cancer stays away. good luck to all you fellow survivors and keep fighting the fight! \"',\n",
              " '\"my body was so racked with pain i could hardly move in the morning. brushing my teeth and combing my hair were major and painful chores. after 4 days on prednisone i am almost pain free. i do experience side effects of insomnia and diarrhea but is worth it to be mobile again!\"',\n",
              " '\"miracle drug.\"',\n",
              " '\"i used to swear by this stuff  until today! i woke up this morning and thought i was beginning to feel it. i immediately went to the bathroom and put some on just in case. i reapplied a few times after realising it was definately a cold sore coming on. i usually can use it and they never fully develop. not this time  this thing has exploded in blisters all over the right side of my top lip and this is the most painful one i ever remember having. every time i reapply takes the pain away for a short time but then its back with a vengeance!! im not sure if because my lips were kind of chapped maybe it was able to take off or its a real aggressive one this time or my body is used to abreva and its lost its super power?\"',\n",
              " '\"amazing. 3 weeks ago my face was very red and burned like fire. i had developed deep red papules all over my nose and my upper cheeks. total strangers stared at my face and asked me if i was ok a few times. i was so embarrassed i started staying home from social activities. 3 weeks after starting doxycycline and metrogel my face is 95% healed. my normal skin tone is for the most part restored. i only have a single tiny papule on my nose that is a light red color and not deep red. the deep red color and burning sensation are gone. i still have a pink tone to my nose and cheeks, but it is not unattractive and i actually feel comfortable going out without makeup on now.\"',\n",
              " '\"i smoked for 8 years anywhere from half a pack to a pack a day, i started zyban, gave myself 1 week to tapered down then stopped smoking completely. i looked into many options and decided to try zyban as it appeared to have less severe side effects. i wasnt even sure i wanted to quit smoking and definitely thought i would struggle and just keep going back to the excuse &quot;well i tried&quot;. i took the medication for 12 weeks as advised by my doctor and have been smoke free ever since. i know some people have side effects but dont let that put you off, everybody reacts differently to medication so why not try it, as a smoker what do you have to lose. i am so happy with the results i have achieved and would recommend this to anyone.\"',\n",
              " '\"when i run out of sumatriptan, 50 mg of indomethacin, a caffeine tab, ice pack and a rest gives almost complete relief in a couple hours. much less expensive than sumatriptan. $7 co-pay for 120 which treats 60 headaches vs $7 copay for 9 sumatriptan which treats 9 headaches. sumatriptan is faster but doesnt give the added relief to my arthritis. cant take indomethacin if you havent eaten or cant eat.\"',\n",
              " '\"felt positive effects immediately at 10 mg. had one day of diarrhea and some nausea but that went away when i started taking it after dinner. im going to ask to be bumped up to 20 mg on my next appt. very happy with trintellix. works better than wellbutrin, pristiq or lexapro and side effects are much less.\"',\n",
              " '\"after just taking this for a week i am too weak and too tired cant seem to make it through a whole day without feeling like i am going to fall asleep.\"',\n",
              " '\"i have been on this bc a little over 4 months  the pill made me completely insane. so i switched  it didnt have hormones in it and i dont want kids for a while if really at all,im uncertain, first month- great no symptoms nothing. second- was bleeding every so often, hairloss, appetite change, hardly any sex drive, moodiness. and had heavy chest and heart issues (still unknown at the moment) third- bleeding got worse. would bleed for a week, stop for 1 day or 2, then start again and its been like this since, very dark blood but very light but its more than spotting. now - im very irritable, still losing hair, losing weight, no sex drive, cant sleep much at all, basically losing faith! no sex really bothers me!!\"',\n",
              " '\"this medicine saved my life. i was in pain and miserable. tried all the otc stuff zantac, pepcid, previced, and many others with no success. then i tried omeprazole and within days i was better. great medicine. would definitely recommend.\"',\n",
              " '\"i have had to have several colonoscopies over the years and have always been given picolax. i was slightly concerned with the moviprep as there was a lot to drink. however if you pace yourself over say an hour its fine make sure its cold and maybe suck a halls menthal sweet with it. it works quickly and much less pain and discomfort than with the picolax. i had it at 5pm went to the toilet a lot up until about 10pm then actually had a night sleep. next morning the same amount again, toilet for about another 4 hours then off to the hospital. i seemed to be able to keep more hydrated with this preparation than with the picolax as i did not feel so rotten and sick. much more comfortable experience all round.\"',\n",
              " '\"well i guess overall it accomplished the goal of not getting pregnant. but i have been bleeding for 80% of 14 months!!! it ranges from &quot;oh my god! i need a transfusion to damnit, more clothes ruined&quot; mood is slingshotting &amp; im completely over this entire thing. i just removed it two days ago &amp; am bleeding through super plus tampons in less than an hour. not worth it.\"',\n",
              " '\"all statins gave me severe flu-like symptoms of muscle aches, fatigue, etc. after two months using only repatha, my overall cholesterol was reduced from 248 to 82, tri-glycerides from 276 to 107 and ldl from 166 to 30 with no side effects\"',\n",
              " '\"woke up in pain with stone friday. ask my dr. to prescribe flomax and took my first dose at noon on saturday. pass the stone this morning (sun.). i experienced a stuffy nose and felt light headed, but it was well worth it. one capsule did the trick.\"',\n",
              " '\"it really surprises me when i come to know that i have to take it once day. these have 2 extra enzymes for the baby breast milk; so you can take it during pregnancy and postnatal lactating period. thirdly it doesnt leave any bad taste in the mouth nor does it upset your stomach. i am happy with it and the most important thing is that it is fda tested and there vcaps is of plant origin. vcaps shells are manufactured kosheir, halal certified and vegeterian society approved. but you can only get them through prescription not over the counter.\"',\n",
              " '\"was given in er for cramping. worked quick! lasted for several hours.\"',\n",
              " '\"effective use on 3 separate cases of suspected flu - the last of which also had augmentin for secondaries.\"',\n",
              " '\"after the side effects wore off (2-4 weeks of occasional insomnia heightened anxiety bathroom issues and no energy) my overall outlook on life was much more positive. i was laughing, taking on more work, taking care of myself and feeling good. i didn&rsquo;t notice much weight gain but working in construction between a slowed metabolism and the hard work my weight remained within 2 pounds up or down. unfortunately i had a rare side effect creep up after 3 months of use, it induced tmj in me to the point i couldn&rsquo;t eat. i switched to escitalopram and the tmj subsided but found that escitalopram did not work for me and i actually gained weight very quickly. mind you i&rsquo;ve been on wellbutrin in conjunction with these medications without issue with w.\"',\n",
              " '\"i took this for undiagnosed non specific mixed connective tissue myalgia type issues and it made the roof of my mouth and teeth ache. i stopped and the ache went away. i restarted and the ache came back after a couple of days. went like this back and forth and it was definitely the medicine. also i started to feel worse while taking it. it could be that the weather is getting colder and that always makes me feel worse. but we decided i couldnt tolerate an increase in dosage which was what would have been next on the treatment plan so we moved on to something else. still searching.\"',\n",
              " '\"one of the best for acute pain. i was suffered low back pain for nearly two years. i try lot of medicines but found no result.then my doctor advised me to use bupeonorpine patches.after three days i found myself now painless world.\"',\n",
              " '\"i have bipolar and add, the antidepressants compromised my ability to focus and think cogently. i tried ritalin and adderall but with little improvement. focalin gives me a good 4 hours of ability to concentrate on cognitively demanding tasks. im a college professor and i can vary the dosage slightly depending on the demands of my day/tasks with doctors approval. this med. works very well, but wears off after about 4 hours and can leave me feeling drained. overall, its really helpful. has not affected or caused any mania.\"',\n",
              " '\"i am new at bc. i just had a baby in nov. 2016 and got the shot in dec. 2016 by jan 16 i started spotting and i have my period now for two weeks non-stop. that has me in a terrible mood. besides this no other complaints.\"',\n",
              " '\"not sure if im pregnant yet or not, but what i do know for sure is that the day after i took plan b i felt nauseous, feverish, and i had extreme body pains. it has now been 3 days since ive taken plan b &amp; my symptoms only seem to be getting worse.\"',\n",
              " '\"month 4 of these pills  day 14 of bleeding  day 3 of a constant headache  increasing stomach issues. experienced horrible nausea and increased appetite that subsided after 3 months, but now experiencing new side effects. \"',\n",
              " '\"helped my ibs discomfort. minimum help in reducing &quot;bloating&quot; but helped in reducing colon stress. caused blurred vision, dizziness and tiredness as side effects.\"',\n",
              " '\"i took it for a week. the first time i took it, i fell asleep. but it helps me with focus and thinking clearly. still, i would go on the adderall because it lasted longer in my system and i wasnt so sleepy.\"',\n",
              " '\"i just started these pills last month i had a period for 5 days and then 2 days later i experienced heavy bleeding. this pill has been causing me to feel nauseated and having severe stomach pains. i do not recommended this prescription to anyone.\"',\n",
              " '\"at first i did not like it at all - i started off on 50mg (recommended) and found it wasnt working. i also was super spaced out, unfocused and constantly feeling like my brain was going but my body wasnt (it was weird). this went on for about a week, then it worked perfectly and i was completely normal. however the migraines started coming back so i am now on 100mg a day and the same thing happened when i upped the dosage. its working now though! i didnt notice any difference in tasting things but i did get tingles in my fingers and toes! otherwise all round amazing medicine!!\"',\n",
              " '\"do not buy this! it will burn you until your skin falls off. my yi wasnt even burning until i got monistat1. save yourself ! you will be in the e.r. begging for help !!!!!!!!\"',\n",
              " '\"ive been on this medicine 175mg per for 5 years-cyclothymia-miracle medicine. i was either angry or ecstatic on any given day. now the same guy shows up every day-so thankful for this medicine.\"',\n",
              " '\"long but important! dont take this! i absolutely hate this birth control!! it makes me so rotten! horrible mood swings to the point where i am snapping at people at work. i have gained 100 pounds being on birth control overall  thats right. 100 pounds. but this one keeps tipping the scale! my acne is terrible, i have absolutely no sex drive, and my periods are so irregular. my ankles swell to the point where i cant feel my toes, my hair is falling out in clumps, and i am absolutely miserable. please dont waste your time on camila like i did. i dont want anyone to ever experience what i am right now. i am getting it switched today. good luck ladies!!!\"',\n",
              " '\"it didnt give me any issues and i have been switching pills for over 8 months because i would breakthrough bleed. i never had any side effects from this at all.\"',\n",
              " '\"so far this medications only flaws for me are, weight gain, and lack of ability to stay asleep which was a factor prior but seems to be enhanced. well my doctor said those symptoms im experiencing are those of depression and upped my dosage to 20mg. its only been about a steady two months approx, a little less, and i feel better; i still feel anxiety which i would say comes with my depression but it doesnt bother me as much to go and be social as before.\"',\n",
              " '\"for some period of time i had a bad cough and diagnosed with chronic bronchitis and prescribed tussionex - unfortunately there was a very large tumor discovered in my right lung. i did undergo a painful surgery only to find out the condition was inoperable - i went through chemo and radiation to no avail. i, however, continued to take tussionex to cut down on coughing which was painful. now one cannot get the liquid which worked for me - i only had to take it once a day, usually in the morning. i recommend it highly.\"',\n",
              " '\"started feeling better within 48 hours of taking this medication. took a probiotic with the medication to minimize effect on digestive system.\"',\n",
              " '\"i went from being a positive, upbeat, never cry type person. im stopping it today because i have been having suicidal thoughts, huge bouts of rage, self harming behavior, anxiety, extreme irritability and horrible feelings of being worthless. i have never felt like that before until i took this for 8 months . do not take this drug\"',\n",
              " '\"ive been taking opioids for back pain for almost a year so ive been dealing with constipation for about the same length of time. i took movantik last night for the first time and within an hour i had racing heart, shortness of breath, throbbing headache. now 20 hours later im so irritable i could spit and can hardly think straight. 24 hours of anxiety and cramps and nausea! im so grateful to see these reviews because i dont feel alone and crazy.\"',\n",
              " '\"the only medication that really does the trick. i have been prescribed to it twice now due to a severe stomach virus and it gave me relief after 20 minutes! didnt throw up any more afterwards and helped me sleep after a very restless night. love it!\"',\n",
              " '\"a week after i had the h1n1 &quot;swine&quot; flu, i was having trouble breathing (bronchitis or pneumonia?) and the er doctor prescribed 400 mg avelox for six days. by the third day i was breathing much clearer, and now at day five it seems i can breathe deeper than i think i have in years. in fact, i think my lungs are a little sore from the good deep-breathing exercise! a great benefit has been that the avelox has also been clearing up a chronic sinus infection that ive had for years (even after surgery) - the pressure headache is gone, and the post-nasal drip is barely noticeable now. i am not having any side effects that i can attribute directly to the medicine that i know of. so far so good; thank you avelox!\"',\n",
              " '\"i got the kyleena iud inserted about 3 months ago and not only was it the worst pain ive ever gone through, ive had so many issues and side effects. ever since i got it inserted, there has been an annoying throbbing pain in my uterus and despite checkups and pap smears, theres nothing wrong with it. i also had a very early miscarriage on this birth control which was extremely hard on myself and my boyfriend. also i have the worst break outs of my entire life on my jaws, neck, and hips. gained 15 pounds as well. would never recommend this birth control to anyone ever. long story short, i have an appointment next week to get this demon contraption out of me and i am exploring a different type of contraceptive.\"',\n",
              " '\"tried ortho tri cyclene, i was so mentally and physically sick i had to stop on the 12th pill. have been on lutera now for 4 1/2 months. ive been in a chronic depression/anxiety for the past 2 months. the first 2 months were great. im also on other meds so im not sure if this is the cause. also have lost a lot of hair :(\"',\n",
              " '\"ive been on sprintec for about 2 weeks and havent had any spotting, my only complaint is migraines that i got 2 nights straight. but other than that ive had no bad side effects. i also feel like ive had less discharge than when i wasnt on it.\"',\n",
              " '\"i was on this medication for over 14 weeks and it made me into an unemotional zombie. my grandma literally passed away in front of me and i couldnt even shed a tear. it helped get me moving around more but, it wasnt really helping my depression. i wasnt happy at all and my anhedonia still persisted. also, on top of all that prozac made me lose my libido/sex drive even after i stopped taking it over 6 weeks ago. im scared my libido/sex drive is never going to come back. this is why i only rated this drug a 1.\"',\n",
              " '\"i feel like ive taken amphetamines and valium in one hit! im in my 3rd day  a different kind of anxiety!!!! like one minute im rushing!! the next im knackered!! does anyone get what i mean? i think im going to persevere and see how it settles\"',\n",
              " '\"the drug is working miraculously well to alleviate social anxiety disorder acquired by a traumatic brain injury. however, the nausea side-effect makes it almost worth quitting. often borderline to vomiting with it. an inadvertent side effect, this drug may improve cognition. a meta-analysis of clinical trials (rosenblat, kakar, mcintyre, 2015) posted in pubmed found that it improved psychomotor speed by 34% (p=.0001) and delayed recall by 24% (p=0.0007).\"',\n",
              " '\"i was given versed propofol to sedate me for an upper endo. i have aspergers, so i was very nervous about any sensory issues the medicines might cause, and also concerned with being nauseous, so the anesthesiologist gave me zofran to ward off any nausea. when i was taken back to the or, the crna injected me with a tiny bit of versed just to relax me. i was rolled onto my side, they put the oxygen tube in my nose, and then the crna pushed the rest of the versed and then the propofol, and i was out like a light! i woke up in the recovery area and i felt fine. i had a bit of double vision at first, but that wore off after 2-3 mins. also, i could not stop laughing. slight stuffy nose like others have mentioned. not a bad experience!\"',\n",
              " '\"i have a hip injury. i was given a high dose of hip cortisone injection. the next day i was pain free through out my body! i forgot what it felt like to be human. the systemic symptoms slowly returned after about 3-4 wks. i saw a ra doc who r/o ra. now am waiting to see fibromyalgia doctor but i am hoping to get a mediation i can take permenateoy to get this same relief. been dealing with this horrible pain since jan 2016. which a great deal stress had been thrown on me. help!!\"',\n",
              " '\"i have been on lexapro for 7 months and it has helped me greatly! i was on paxil previously and gained 20kg so asked to change medication. lexapro has stopped the panic attacks and made me feel more confident, i can now go to the shops on my own, drive places on my own and hang out with friends without thinking the worse will happen. only thing is ive gained about 8kg and i cannot lose the weight. i had no side effects what so ever when i started, maybe its because i was previously on paxil, but i didnt have any side effects apart from weight gain with that either. so if you are feeling nervous about starting this medication because of the side effects dont be, you might be one of the lucky ones who dont get side effects.\"',\n",
              " '\"i was a 2 pack a day smoker for 40 years - hopelessly addicted - until chantix. incredible - i had none of the listed side effects and only went through 4 weeks of treatment. i started chantix 1 week before quitting and never had another cigarette after i quit the first day. this is a miracle drug and should be offered for free to anyone trying to quit.\"',\n",
              " '\"i was on sprintec for about a year. it caused me to have severe depression and anxiety. it got so bad that i had to go see a therapist. my periods were still heavy and long, and my acne got worse. i gained about 10 pounds while taking it. i did have an increased sex drive though.\"',\n",
              " '\"side effects, mild, but tired. take a lot of short naps. drink water. be careful of otc drugs. at 6 wks. bloodwork 15&lt; undetected. the week after i was done meds, not detected. this site has drug interactions list. the reviews were helpful. hoping next bloodwork will be good.\"',\n",
              " '\"i guess hormonal bc isnt for me. i switched to otc lo after being on alesse 28 for 3 months. i was beginning to get acne on alesse and it was impacting my mood. my gp recommended i try this bc because apparently its good for acne. well this bc made my acne worse. literally ruined my chin with painful zits and now horrible scars. my depression has gotten worse and my anxiety is through the roof. i have an appetite that is endless and gained so much weight. also my period happens before the placebo week which is odd. i absolutely hate this pill and wish i never started birth control at all. as far as birth control it does its job but the side effects are not worth it.\"',\n",
              " '\"i didnt notice any side effects with errin until i was on it for about 5 months. thats when i realized i was depressed. cried at the drop of a hat and for no reason, got upset/angry at things that i normally wouldnt think twice about, etc. i didnt know what was causing this but decided to go off the pill to see if that would help. within a couple weeks, i was back to my old self. i also didnt realize it at the time, but errin seriously lowered my sex drive.\"',\n",
              " '\"hi\"',\n",
              " '\"i have suffered from depression since i was 14 (i am 22 now). ive tried lexapro and celexa, but lexapro was too expensive and celexa quit working for me after a few months. prozac has completely taken away all suicidal ideations (which i have had almost daily since i was 14) and has made life so much easier for me to handle. i cant believe that i have been missing out all this time! its hard to believe that other people really live this way, without constant depression and anxiety, every day! i am so happy i found this medication. i did not know if it was possible to completely get rid of those thoughts. amazing medicine.\"',\n",
              " '\"bought today read entire box and decided to look up reviews. gees, i read so many horror stories about this product. scared me so bad i spent an hour looking at reviews and reading box about 5x. twice i threw it back in the bag saying im getting a refund. but my curiosity got the best of me! i took oval out and put in applicator. i then rubbed it on outer vagina to see if i felt any tingle or burn. good good so im like ok go for it. i layed on my restroom floor and insert it pushing all way up as instructed until i could go no further. i literally felt the stopping point. released and pulled out. i called my mom asking her stay on phone with me for 30 min waiting for the worst. guess im lucky one - no problems\"',\n",
              " '\"im taking clindamycin for tooth infection  the first day i took the pill i drunk a smoothie with it and didnt lay down for a while, i didnt have any problems at all no heart burn no irritated throat and no stomach pain  its how you take the medicine and what you take it with \"',\n",
              " '\"i like this medicine very much . its a smoother form of adderal but not as habit forming . i can eat and sleep . i can concentrate better and enjoy life . it really helps me with my depression .\"',\n",
              " '\"i took lexapro for a little over a year and it worked beautifully. the only reason i weaned off was because of weight gain. my doctor prescribed 10mg of prozac and said it should not cause any weight gain. i am on it 17 days now and my only side effect is slight anxiety and a few panic attacks. i had none of this on lexapro. my question is, should i hand in there and when will i feel good?\"',\n",
              " '\"this is worst drug i ever took prescribed for schizotypal personality disorder and major depression by one of my past psychiatrists. i dont even understand how this helps other people at all. the psychiatrist thought it might help me, according to her, it was because i mentioned &quot;anger&quot;, which was very black &amp; white of her , um hello i have severe depression, yet she goes ahead &amp; prescribes me an antipsychotic that shouldnt have been prescribed to someone with depression like me, so i go on a very low dose, after three days of walking like a zombie, barely able to keep my eyes open, agitated, worse depression, i developed convulsions when trying to sleep on the 3rd night, screaming, crying in pain, barely able to breath &amp; was rushed to the hospital, given ativan to calm me down, stopped latuda entirely\"',\n",
              " '\"been on this for 3 weeka and sugars great now. has side effects of tiredness, increased pulse and severe heartburn but all gone now. lost 5kg first week but nothing since then. absolutely gutted\"',\n",
              " '\"the ring is the best birth control i have used. i had the pills but it was so hard to remember to take and i had the patch. i gained a lot of weight being on the patch but when i was on the ring, i was able to lose the weight and stay the same weight. it actually made my periods lighter and i barely have cramps. the only thing i have negative to say is i have constant discharge and it does not feel like a regular period. but i prefer the light bleeding then the harsh periods i use to have. i highly recommend but the ring is not for everyone.\"',\n",
              " '\"i am not sure which impant i got but i am sure it is the nexplanon. i got this may, 2015. i had a period for at least 2-3 months, straight. i have went from weighing 150 to 220 pounds. i have experienced major mood swings, feeling really low about life, horrible cramps, headaches all the time. i still have irregular periods. sometimes i bleed for 2 weeks or more straight or i bleed for 4 days, stop for a day and continue bleeding. sometimes i dont even have a period. everyones body is different and react to birth control differently but i recommend you not get the implant. i had an awful experience with it. i get it taken out in 7 days and i am looking forward to it. i have talked to others and they have a awful experience with it as well.\"',\n",
              " '\"when they tell you mirena can cause irregular periods, theyre not joking. i had read a review that someone wrote saying they ruined every pair of underwear that wasnt black, &amp; they definitely were not joking either! before mirena i had very heavy periods, i mean super plus in 3 hours on day 1. mirena has lightened that tremendously! although in the past 2 months, something has gone haywire! last month, i had a 3 week long period. it would stop for one day, then kick start as if its day 1 and on all over again. i am currently on my second week this month, so i called &amp; asked what i can do. they said theres nothing! it is a hormone, so it effects everyone differently. otherwise, im not pregnant, &amp; my 3 wk periods are lighter!\"',\n",
              " '\"i started taking this medication 4 days ago, i was given a prescription for 1 30mg tablet to be taken at night. i am sensitive to medication so the first night i only took 1/2 of a tablet (15mg), i couldnt sleep at all. i was up all night. finally slept about 2 hours early in the morning. on the flip side, i felt great all day. so that night i took the same dosage. slept well, and no grogginess. the next day, i took the whole tablet (30mg), and slept from 10pm until 8pm the next day!!! i could not get up. my husband was worried so he finally got me up and into the shower. i was okay after that. i took 1/2 tablet (15mg) and went back to bed that night around 2am. felt fine in the morning. proper dosage is the key with this medication!\"',\n",
              " '\"i was on a iud for 5 years prior to getting this birth control put in my arm in at first it seemed ok no periods my children are 18 years and 15 years and the thought of starting over was scary being after becoming a teen mother. after a year or so i started having problems with my arm being in so much pain (this was the same arm the birth control was in.) i consulted with my doctor she said youre fine you have no periods or acne so keep it in a while longer. less than 3 months later i was back i pleaded with her please take it out my whole arm was in so much pain she says its not the birth control. after 2 years its out i still believe to this day it was the birth control but theres no proof my arm and left side still is in so much pain dont get this birth control\"',\n",
              " '\"though i am much calmer, im so calm i dont want to do anything except sleep. the first couple weeks this medication was a god send, but not that ive been on it for a few months, i cant shake this ever so tired feeling, not even with coffee. if i cant do anything productive, i cant see being on this rx much longer.\"',\n",
              " '\"ive had allergies all my life, and they get especially bad in the summer. i get completely stuffy and i cant breathe from my nose at any time, regardless of what i am doing. if i take this, they get a better, but not completely gone. my doctor also added fluticasone and now my allergy symptoms are completely gone. claritin-d, allegra-d and zyrtec-d just didnt help.\"',\n",
              " '\"alot of stress in my life, and didnt sleep at night. always turned to alcohol to solve these problems. my doctor put me on librium and i have been on it for just over a year now, and alcohol-free. i still worry about things, but they are easy to just let go, and i sleep every night, without waking up every hour stressing over something. one thing i will say, though, is that though it has taken the anxiety out of my life, its like it has also taken away the joy, like all the color is gone, not just the darkness. i feel &quot;comfortably numb&quot; most of the time. still, better than the way it used to be! i was prescribed 25mg 3 times per day, but i take 1 pill when i get up, split the 2nd into two 1/2 doses, then 1 pill an hr before bed.\"',\n",
              " '\"i started at 25 mg for a week then went up to to 50 mg. started losing weight right away. i started at 195. lost 10 pounds the first month. started in june now its sept and i weigh 170. after 2 and 1/2 months the doc raised it to 100mg. and now it doesnt seem to be working as well. she raised it again to 150mg so ill see how that works out . i still want to lose 20 more pounds. my insurance didnt pay for it but i did find a coupon on line and it saved me aot.\"',\n",
              " '\"excellent!\"',\n",
              " '\"im currently going through nursing school at a university near me and from the start of this past semester i had a real tough time staying focused and doing my homework. went to see a nurse apr n and she gave me a script for ritalin, 10mg 2x a day. this medicine has been a god send for me, i always complete my assignments on time and have been getting as and bs on all my test. it lets me sit down and study for 6 hours at a time but if i hadnt taken the ritalin i wouldnt have half the work done that needed to be done. plus ive not had a single issue with it such as withdrawals or anxiety.\"',\n",
              " '\"i feel psychotic! i had a baby two months ago and needed a low dose estrogen pill. i feel overwhelmed, anxious, bloated and very emotional. after having an emotional breakdown over nothing, i am stopping this immediately. \"',\n",
              " '\"i was already taking topiramate for migraines, so my doctor added phentermine. i lost 7 pounds in the first week. i have lost a total of 15 pounds in the last 3 1/2 weeks. most of the side effects (dry mouth, anxiety, tingling in extremities) went away after the first two weeks or so. the only problem i have is eating enough. i document everything i eat in a app call simple diet plan. mainly to make sure i eat enough each day. exercise 3-4 days a week.\"',\n",
              " '\"im 36 years old and have never had a issue with taking any meds other than lortabs. despite all of the reviews here, i was sure that i would be okay. the first night taking it, i noticed a lingering headache. i figured, i can deal with a small headache if this is going to clear me up. well night two, the diarrhea started. the only reason why this was such a problem was because i was on my menstrual cycle as well. however, the diarrhea was not that bad, so i decided to take it again. day three, my period stopped. i normally have a 6 day cycle, but it was completely gone. i also had severe stomach pain and diarrhea like water. i was in worse pain taking this med. i do not recommend this drug to anyone!!\"',\n",
              " '\"i started this bc about 9 months ago. i did have abnormal periods one month i would start on the iron pills and the next i would start a week before. i am currently pregnant so somewhere along the line this bc failed me big time. with abnormal periods how are you really supposed to know? i took this bc religiously every night around 11 pm.\"',\n",
              " '\"very slight nausea feeling when i take it, but i learned to avoid it by taking it just before i go to sleep. it makes my breast swollen which looks good, but feels horrible. its fairly painful. it causes me to sweat more then normal and causes excessive vaginal lubrication to the extreme. some people my not mind, but when its so noticeable you feel like you peed yourself and you no longer have friction during intercourse to the point of embarrassment (a problem ive never had). i never got pregnant so thats a plus.\"',\n",
              " '\"shoulder surgery gone bad, nerve damage and arthritis pain 24/7. the pain management doctor is really a savior, helped me with opana20and even oxycodone 30 and i got my life back.\"',\n",
              " '\"i was taking hydrochlorothiazide and my blood pressure was still 190/120. doc added twynsta to it and now im literally a perfect score. 144/83. hasnt even been a month yet!\"',\n",
              " '\"this product does not work. at all. do not spend money on this product!!!!! it works no better than a .99 cent chapstick. complete waste of money!!!!!!!\"',\n",
              " '\"i used to be on tri-sprintec, my doctor recently switched me to to tri-nessa and instantly i was in love with it. i didnt have my period at all, minor cramps and my acne is disappearing so quickly. i havent had any mood swings either. thank you.\"',\n",
              " '\"its only been four days - ive been told it takes about 2 to 3 weeks for full affect. i am taking 300 mg per day. i definitely feel better, but its subtle at this point (i wanted to go outside and be part of society). what im most surprised about is the lack of side effects (other than no appetite) i have not one side effect.\"',\n",
              " '\"i was prescribed lyrica for fibromyalgia pain. it didnt really help that much but it did wonders for the neuropathy in my feet caused by botched plantar fascitis surgery. the pain in my feet was horrible and the lyrica took the sharp jabs and the feeling of nails being driven through my feet away. still have some pain in my feet but not the intense, jarring me awake type pain. on the one occasion i ran out of lyrica i got terribly sick, throwing up and diarrhea. so i dont run out!! am taking 300 mg morning and night. have recently lost 37 pounds, albeit with great effort, just like before lyrica. sometimes my vision is just a little blurry, but have learned to deal with it. i continue to take lyrica for the benefits.\"',\n",
              " '\"the medication helps my anxiety, helps when im in public, around people.\"',\n",
              " '\"well been on this a week 25 mg once a day at bedtime then will go to two tablets a day . one in am one at bed . no side effects at all yet .i hope this kicks in soon . i take wellbutrin for 10 yrs now . 150 mg a day and venlafaxine 150 mg a day - i hope this new med kicks in soon. seems pretty tame . i hope to feel better soon !!!\"',\n",
              " '\"i am 69, and because of fear of failure (wife gets sooooo angry when i fail) nothing happens any more so wife hates me more and more every day, - i went to gp and got 6 tablets of 20mg cialis (insanely expensive; approx $ 18 a piece) first tablet hardly any reaction at all; then took the second pill approx 24 hrs later and presto  very good result, could keep &quot;it&quot; up for at least 20 mins. the effect lasted at least 24 hours or even longer. cialis=brilliant. - but oh sooooo expensive that i cannot afford it more often that twice a month - and after hearing kinds of bad stories, i dont dare to buy online only with my gp. to summarise cialis is a life-saver but an expensive one.\"',\n",
              " '\"i took accutane for about 6 months, on the 5th month i noticed significant changes to my skin. by the end of the 6th month my face was completely clear and i was only left with scarring. it has been 3 and a half year since i have taken accutane, i can say with certainty that it was the best decision i made for my skin, even my scarring has almost disappeared. after my acne cleared up i was more confident and didnt even feel the need to wear any makeup like i did prior to this medication. the only bad side effect i got from this drug was extremely dry/chapped lips and skin, to the point where my lips would bleed from dryness. i would suggest putting a heavy moisturiser and chapstick on every day.\"',\n",
              " '\"i spent most of saturday in bed. i felt like someone had punched me in the gut repeatedly or like i had done an extreme ab workout. neither of those things actually took place. the pain was terrible. on sunday, i purchased a generic &quot;cherry flavored&quot; milk of magnesia. i took four tablespoons. my head began to hurt which i attribute to dehydration as i was unable to eat anything but soup while i was in pain. a couple of hours layer, i drank two more tablespoons. it seemed as if the entirety of my intestinal tract began gurgling. and the medicine started working. i,personally, did not experience any if the cramping that others are describing and am experiencing great relief. drink a lot of water with it.\"',\n",
              " '\"i am the type of person who is sensitive to chemicals, smells, sounds, etc. i rarely need meds and recently had to take bactrim ds for five days due to a uti. i was sooo nervous about taking it. i was convinced i would be allergic to it, or at least have side affects. well, all that worrying was for nothing. i took it as prescribed for five days with no problem at all! i hope you do well on it too if you need it!\"',\n",
              " '\"synthroid has changed my life -- from 16 hours/day in bed to being an active medical school student. the only side effect i have experienced is dry eye in the mornings, but that is fine with the use of artificial tears. i used synthroid for my hashimotos and now continue to use it post-thyroidectomy. i only use the synthroid name brand because generics could be made at different labs and will not be exactly the same every month. talk to your doctor about using generics. my doctors only prescribe the name brand for me because it is important to have constant thyroid hormone levels.\"',\n",
              " '\"i have been on nuvaring for 6 months now and i love the ease of it. i recently got married and tried to lose weight but ended up gaining 10 pounds and have noticed a decrease in lubrication. i have not had this problem with other contraceptives, so i think this will be the end of the nuvaring for me.\"',\n",
              " '\"i have been on these tablets for 3 days now, for border line personality. ive been so tired after i take the 100mg at night but my anger is still a problem, and im feeling a tiny bit less like im lonely and no one understands me and my emotions. but honestly not much of a change. i just still dont know if my lifes going to get any better.\"',\n",
              " '\"found this to be the best medicine for depression, i was treated with lots of different medications before i was put on 15mg of martazapine. now im on 45mg due to the level of depression i have. i would recommend this to anyone with severe depression.\"',\n",
              " '\"i got two shots and went into labor next week after i lost my son at 18 weeks n 5 days\"',\n",
              " '\"ive been on the depo shot for about 5 months, the first 2 months were great; i didnt get my period and i felt normal. ever since the 3rd month i have had spotting that comes and goes; sometimes it lasts for days and other times it is just a discharge that happens throughout the day that i can usually predict because of the cramping it comes with. i like the easiness of the shot, but the side effects are annoying and not worth the trouble. especially after reading other reviews, i think ill go back on regular birth control.\"',\n",
              " '\"i am on 600 mg a day 2x300. it is being used to help with depressive episodes of bipolar which i get more than the highs. it seems to of helped stop the very very lows but i still feel low with little energy or motivation. my appetite seems about the same although i have put on weight but thats down to me not working now. sleepwise i struggle to get to sleep but once im asleep i sleep for about 8 hours.\"',\n",
              " '\"ive been taking this for two years now and i love it! i work crazy shifts at work that dont allow me to wake up and go to sleep at the same time ever, so when i end up taking it 2 hours late i dont have to worry about it not being as effective. also, apparently if you completely miss a dose its okay too, i have yet to try this out but it seems awesome in theory. the only real side effect it has caused me is completely losing my sexdrive. i only have one the two days of the iron pills. but as i get older i find thats not really all that important to me anymore anyways! i do take sleep aids everynight to combat the sleep loss however i am not sure if its the medicine that causes this or just other mental disorders i have.\"',\n",
              " '\"i started saxenda on 6/1/17. i titrated the dose as prescribed. the first day i was overcome by chills and severe nausea. i had to sit down on a walk with my husband. i had a salad and pizza, ate my normal portion, but felt very ill afterwards i continued the 0.6 mg for a week and lost 5lbs. if i hadnt seen a significant weight loss, i doubt i would have continued this medication. i increased my medication and switched injecting in the morning to the evening, which helped me sleep through the side effects of nausea, sweats, shaking. it also helped me reduce my 3 cups of coffee to one and a much smaller breakfast than usual. end of week two, 12 lbs down. im on week 3, ive lost a total of 21 lbs and counting. i do go to the gym 3 days per week\"',\n",
              " '\"my two year old had the flu mist vaccine on a monday morning. by monday evening he had a fever, no energy or appetite and wanted to go to bed. tuesday his temperature spiked to 104.5 and he had achy arms and legs, head and tummy. still had a fever all day wednesday but started taking fluids again, still not eating. when he was one he had the shot and had no reaction. i think well stick with the injection from now on.\"',\n",
              " '\"i am 50 years old and have had severe rheumatoid arthritis for more than 6 years. i was taking advil like candy for years until i was diagnosed with arthritis. my 1st rheumatologist put me on 7.5/750s 3 times daily and it worked well. after changing doctors after major lung surgery they sent me to a pain management doctor who put me on duragesics then ms contin. that sure got rid of the pain, but the depressant effects of morphine based medications made me miserable. hydrocodone or even oxycodone work very well as long as you dont abuse them. id wish more pain management people would get off the morphine dependency. this kind of treatment makes it hard to treat pain after major surgeries.\"',\n",
              " '\"i have had psoriasis for 20 years, on my scalp and body. i have tried every cream, ointment, pill and quite a few shots. so when my doctor suggested trying cosentyx, i wasnt exactly thrilled to have to give myself shots again. but i tried it and after just the first month i could finally see my knees, i didnt have to apply and creams, ointments or scalp oils. every last bit of my psoriasis was cleared, 100%, i couldnt believe my eyes , i was amazed!!!! 20 years of putting on scalp oil, with a shower cap on and going to bed embarrassed next to my husband, and now i can get out of the shower, style my hair and go, no more shower caps!! i know every medicine works differently for every person, but you have to give it a try!\"',\n",
              " '\"works the best if you only take it once or twice a month. ive had problems with rebound headaches, even when i take this with sodium naproxen. it can also leave me feeling a bit groggy.\"',\n",
              " '\"a couple years ago i took lutera for a year and didnt have too many problems. i stopped taking it, then re-started 6 months ago. this time was bad. my mood was off - little things would make me super aggravated or want to cry, while &quot;better&quot; days made me extremely happy and hyper. also had on-off dryness down there - pretty uncomfortable, esp. sex-wise. worst part was the 2-week periods i got on this pill. for five months straight, i had my period for 1/2 the month, with cramps, lower back pain, irritability, and heavy bleeding. the gyno kept saying it was my body adjusting, but after the 5th month of this, im taking a break for birth control for a month and then switching to another pill.\"',\n",
              " '\"i am 31 yo fem 56, 115 lbs. prozac helps w/ anxiety but not insomnia. dr prescribed traz, start 50mg for few wks, move to 100mg if needed. last night was 1st 50mg dose. in 30min i was very relaxed &amp; slept really well. woke up w/ a bad head ache but its gone now. i believe this rx will work &amp; will try 25mg for a few nights as body adjusts. for ambien users, beware that your body isnt only adjusting to new rx but also you are having withdrawals which can cause sickness, nightmares, sweat, nausea, etc. maybe slowly reduce ambien and then try traz. just a suggestion, everybody is different &amp; reacts differently. very good sleep, little s/e that should lessen over the next wk of use. i have tried natural remedies over several years w/ no help.\"',\n",
              " '\"im 24 years old and i would have to say mirena is the most effective birth control. but with that, of course there are some side effects. ive gained about 30lbs, very heavy mood swings, i break out more than i normally do and im always hungry. ive had it for a year my partner loves it, no complaints from his end. it is very convenient the insertion was painful but after a month it was fine. i get a light 2-3 day period every 3 months which is great!\"',\n",
              " '\"i got my paragard 4 months ago because i cant have hormonal birth control due to clotting issues, but i also really dont want kids (short of getting my tubes tied) so i went iud. first off i love it but, insertion was a nightmare for me. i had the &quot;1%&quot; reaction where i had contractions for hours after, vomiting, and fainting. it was horrible but i stress this is a rare thing. that said, i love it. my period hasnt been much heavier than it used to be off pill, however cramps are pretty intense. theyre bad for about two days then everything is about the same as being on a hormonal pill. all things considered, side effects and all its worth not worrying for 12 years. everyone should keep in mind all experiences will vary of course!\"',\n",
              " '\"i used this medication in 94/95 and in 97/98 to treat major depressive episodes. it was the first antidepressant i ever tried, and it worked wonders the first time i used it. i could sleep and eat again, depression was gone within 2-3 weeks, no side effects. i was given amitriptyline again in 97/98 after months of trying several newer anti-depressants which doctors were convinced would be better, even though i told them amitriptyline had worked for me previously. it worked very well then too, but i developed side effects (irregular heart rhythm.) i chose to take beta blockers along with amitriptyline so i could complete the course of treatment.\"',\n",
              " '\"highly effective for joint pain. helped with muscle pain also. can cause serious gerd symptoms even with use of proton pump inhibitor and a histamine2 blocker.\"',\n",
              " '\"i took 2 dulcolax around 1030pm, for constipation, with a pint of water. i woke just around 4am and went to bathroom, cramping and felt like i wanted to vomit and had a slight headache. the only thing that scared me was my hands clammed shut and my feet went numb. i tried calling for my husband but my mouth seemed like it was also clamming shut. i tried to stand up but could not, cold sweat came over me. it lasted for about 20 minutes and now i am fine, good bowel movement. i might have to look for something a little gentler if i take a laxative again.\"',\n",
              " '\"it seemed to work well for the first year or so but i have been on it and am at the maximum dosage and now i have been on it for 10 years and it does not seem to help now.\"',\n",
              " '\"i have extreme bloating and my face has broke out terribly! i have been on it for a year and ive gained almost 60lbs! i have had a non-stop period with horrible cramps for 8 months straight.\"',\n",
              " '\"i am 35 and have been fighting what i thought was normal aging for the last few years. i have been very active my entire life. running, biking, etc. i have fought low energy levels and not wanting to do anything. my normal weight was 185 at 510&quot; and i got up to 236. i got a shot to get me going and have been taking testim for 5 weeks. i have lost 20 pounds and am up at 5am every morning and in the gym. i have never got up that early. i am in the gym morning and night doing spin and weights. i feel awesome. the smell of testim is not bad at all. if i could live for 30 more years like i was or like i feel now, i would choose this without hesitation. this has changed my life!\"',\n",
              " '\"ive had anxiety for several years now and decided to try medication (although im very anti medication) to see if it would help at all. most of my anxiety was stress/relationship related, and i just felt as if it was consuming me and i couldnt handle it anymore. ive been on citalopram about 3 months now and i noticed a slight change at first, and a little bit still, but now i feel so lifeless. i dont feel myself, my sex drive has diminished to almost nothing, i feel tired all the time, i just feel out of it, some issues remembering things, had some other side effects as well that are on and off (dizziness, etc.). i think i want to stop taking it, but i need to consult my physican first to see if i need to wean off of it or not.\"',\n",
              " '\"i had my thyroid irradiated in 2005 due to graves disease caused by hep c treatment (ribivirin &amp; interferon). at first i saw an endocrinologist that prescribed armour thyroid but loss of job and insurance forced me to go to a free clinic, where i receive synthroid. the clinic doesnt seem to understand the difference between experiencing low thyroid levels from naturally occurring hypothyroidism, &amp; complete loss of thyroid. my np says to me, incredulously, &quot;you take an awful lot of thyroid!&quot;, &amp; at that time i was only taking 75mcg a day. finally after three years of 75 to 100mcg, when i felt absolutely crazy (tired, confused, hair loss, cranky, paranoid, angry, enormous weight gain), she now has me on 150mcg which seems not perfect but better.\"',\n",
              " '\"been taking 5/40 for 3 yrs, with great results till the brand changed. my blood pressure has been dropping too much now, and i have been experiencing dizzy spells and light headedness.\"',\n",
              " '\"this drug did its job. it stopped any mood swings for the most part, but the biggest downside was that i bloated up and slept heavily. i put on maybe, 10-20kgs whilst on this drug (i was on it for 2 years). effective nontheless.\"',\n",
              " '\"i was on 400 mgs for six years. in that time it messed with my testosterone. my doctor never said anything about it. still suffered from manic depression, depression anxiety.\"',\n",
              " '\"ive been on this for close to 30 days, ive lost 13lbs, started at 225lbs. i havent had many of the side effects that others have had. i see a common theme that no one mentions whether or not they take vitamins/multivitamin to help curb the side effects. that was the very first thing my doctor told me and drink plenty of water.\"',\n",
              " '\"loestrin is about the 6th birth control pill that i have been on in the past 4 years. yaz, ortho tri, sprintec, yasmin and now loestrin. so far it has been one of my favorites. the first month i was a bit moody but that subsided. periods only last for about a 2 days at the very most. definitely increased my sex drive, no headaches or even pain around my period. the only negative is that about 2 days before i start my period i tend to get really depressed but as soon as it starts the depression is gone and im back to normal.\"',\n",
              " '\"humira is the third medicine from this group that i have taken the other two being enbrel and cimzia. it is fair to say that for me it has also been the best, but unfortunately i am going to have to stop taking it for the following. initially i had minor but long lasting mild headache on day of taking, this was followed by a urinary infection possibly caused by the humira but the reason i must stop is that i now have tinnitus. this was mild hissing at first so i tolerated it, but now and after each injection it gets measurably worse. so me and humira must regrettably part company, a great shame because it did/does make a very large improvement to my r. a.\"',\n",
              " '\"not completely pain free and stiff joint free. but the fatigue is awful. 5 inj so far, can sleep all day if my family didnt need me. very lethargic and drained.\"',\n",
              " '\"been on this for a little under a year. i have had no issues with weight gain and it took a couple months for my body to get used to it. once it did i found myself skipping periods and when i got them it was super light. freaked me out at first but realized its how this pill works.\"',\n",
              " '\"after losing a substantial amount of weight and blood, in the hospital for a week two transfusioins. diagnosed as pan colitis / ulcerative colitis. 60 mg prednizone and the bleeding stopped at day 5. i returned home and was pressured by my gi to accept remicade. i was skeptical but sold myself on the fact of the huge numbers of folks it helps. after two succesfull infusions i was set up for my third of which i expereinced an allergic reaction in this order, itchy palms , itchy feet , itchy everywhere, needed bowel movement , almost fainting , fever, chills and tightening of throat. once home extreme right leg pain, hand joint pain, loss of hair. (serum sickness) now on balsalazide , cautious diet and cannabis nightly &amp; 6 months no issues\"',\n",
              " '\"this stuff works really well. i never imagined that there was a pill that could make you stop vomiting. when i was very sick yesterday and could non stop throwing up, i took this and it stopped completely. two thumbs up.\"',\n",
              " '\"i have been on this medicine on and off for eight months now. i weighed 210lbs when i started and now weigh 163lbs. i have not changed eating habits however food portion and exercise is the key.\"',\n",
              " '\"i started this 3 weeks ago, havent seen much weight loss yet, but i feel full all of the time looking at food makes me nauseous. i have noticed my blood sugar has decreased dramatically, i may have to come off some of my diabetic meds which is a plus. im giving my body time to loose the weight gradual weight loss is the best anyway.\"',\n",
              " '\"along with celexa at 20mg, for about 5 weeks, i take 150mg of wellbutrin, and 40 mg of methadone. ive had several back surgeries so live with chronic pain. along with an improvement of depression and anxiety, i noticed that my appetite has decreased. no weight gain, maybe lost a couple pounds. i noticed improvement on the first couple days! ive tried prozac &amp; welbutrin, individually &amp; together, but not much help. i recommend giving celexa a try over any other medicines.\"',\n",
              " '\"my pain management physician had tried multiple medications to treat my severe fibromyalgia prior to savella. they decided to try savella to replace the cymbalta. while neither medication worked very well on its own, the combination of the two worked well for me. the savella alone helped with the pain, it made my mind foggy. when both were combined, i had some pain relief and better mental function. i still suffer with fibro fog and cognitive difficulties but its better than without both medications.\"',\n",
              " '\"im 23 yrs old i started taking this birth control for pain management for my endometriosis on top of my 2nd lupron injections and its totally eliminated the menopausal hot flashes which is a god send! i was very scared reading the reviews on this birth control before taking it thinking it was going to make my fibromyalgia flare up as well but not so many changes except for breast tenderness. im very happy taking this birth control so far!\"',\n",
              " '\"this medication caused my eyes to swell, sacks like fluid under each one, dried my skin all around both eyes and caused redness. after 3 days my eyes started to itch. returned to the doctor after 2 days and was told to use cold compresses and benadryl for 5 days. it has been four days and the swelling and dry skin is still around the eyes.\"',\n",
              " '\"i was given this right before (only 2 weeks before) i was diagnosed with pcos. yes, at the start i had really bad mood swings, it didnt help i was starting a new drug for stress headaches that had the same (mood swing) effect. i talked to my dr. about it and she advised me to stay on it for 3 months, then afterwards i can come back and discuss the pill and see if i need to be put on another. i have been on it for 4-5 months now, and i have little to no mood swings anymore. i love taking this, because before i wouldnt have any idea when i was about to get a period, sometimes would go for months without one. now i know exactly when it will happen. this is a huge relief to me. as for my pcos, i wont know until my next ultrasound.\"',\n",
              " '\"i have been on zoloft for about 6 weeks. i was experiencing depression which manifested itself in crying spells, anger, helplessness and loss of motivation. it took approximately 4 weeks for me to notice any changes, but i have noticed recently that i have motivation once again and i have not experienced any side effects which i was dreading such as loss of sexual desire and weight gain. i feel like my normal self again and able now to handle the issues of my life prior to this i was sad a lot and having many crying bouts. i havent noticed any negative side effects whatsoever.\"',\n",
              " '\"hello ladies, well currently i am waiting the results of plan b since i had an incident this past sun 9/10. so me and my bf always use condoms but this past sunday alcohol was involved so we went ahead and had unprotected sex, he pulled out the first time but theres the matter of precum so of course this was the stupidest decision we both couldve made, and i was expected to ovulate 3 days later. so the next morning. i went ahead and bought plan b and took it exactly at 9am (13-15 hours after). so here i am worried to the point of having a panic attack but im hopeful cause its worked for me before! ill be posting an update in 2 weeks when i take a pregnancy test. good luck!\"',\n",
              " '\"i was prescribed adderall xr for lack of focus and attention. after being on the medicine (10 mg) for 4 days i felt very confused and had trouble talking. i was stumbling over my words and second guessing myself. my appetite was altered (as expected) but i made sure i ate frequently. i also noticed i was very impulsive and short tempered, more than usually. i just wasnt my normal self on this medicine. im glad it has worked for many people, but it did not agree with me.\"',\n",
              " '\"i had implanon for 3 years and am now into my 2nd year of nexplanon. ive had major weight gain, about 30 pounds, no acne. for the first year no period and then they became irregular. same with my second one.\"',\n",
              " '\"commit is the only one that worked for me. ive been smoke-free for 13 years now! it works!!!!\"',\n",
              " '\"when i feel a cold sore coming on (tingle) i rub it on and it stops the outbreak. only thing is it tastes horrible; sometimes its hard not to rub your lips around the mouth without getting some in.\"',\n",
              " '\"ive taken this for about four years and no problem. recently i have forgotten to take it for like 3days and spotting does arrive, other than that i highly recommend. #teamzarah im 34 if that helps, but hey all bodies are different.\"',\n",
              " '\"first shot went great. i didnt really get any side-effects. i didnt have any bleeding whatsoever nor any weight gain. i was hungry often, but actually lost a couple of pounds. i did fell anxious the first few days, but that went away. havent decided if i want to get the second shot yet, but overall i did well on it.\"',\n",
              " '\"the &quot;con&quot; is that it really does take continual use for a good 6-8 weeks to see results. the &quot;pro&quot; is that when im using it my skin has never been so clear. i stopped using it a month or so ago when my skin was looking great and about a week after i stopped using it my skin broke out again (horribly) and it reminded me of what life was like before aczone. it really makes a difference!\"',\n",
              " '\"i dont have a headache or dry mouth, but i am freezing cold! i am usually just the opposite, my usual 70 degree thermostat setting is now on 75 and im still so cold. everyone else is complaining they are hot, so i know it is just me! weird  i gave it a 10, because i am not hungry at all, and since it is over 90 degrees (outside), being cold is a good thing ;-) certainly better than a headache or dry mouth.\"',\n",
              " '\"i have suffered from ibs-d for over 15 years. i tried numerous medications and nothing has ever worked .i went to a new dr and was recently prescribed xifaxan and it has changed my life completely. in the first 24 hours i felt immediate relief.i am now able to eat again and not always turn to find the nearest bathroom.i dont have to wake up two hours before work anymore because my stomach is not upset.i have not felt &quot;normal&quot; in years and its such a great feeling. i feel i can live a normal life with this medication . i am hoping some of you who suffer find relief . ibs is horrible and no one actually understands what it is like unless you have it . thank goodness something worked .\"',\n",
              " '\"i was diagnosed with stage iv breast cancer in february 2015. ten lymph nodes tested positive and it had matastized to my bones. i started taking ibrance and lotrozole in april 2015. i have no notable side effects other then after being on it for 14 months it started destroying my hair and my blood counts is always low. my scans have all been good. up until last week i still worked full time, but now that i am 65 i think it is time to go part time. i guess the fact that it isnt curable and the unknown is my worst fear. good luck to all.\"',\n",
              " '\"i have been taking 300mg twice daily to help with hot flashes from taking anastrazole following breast cancer. unfortunately, i am seeing no improvement.\"',\n",
              " '\"i got my first nexplanon in 2013, had it for three years and got my new one about 2 weeks ago. i love it. i have two week periods every other month (so the same amount as a normal cycle within a years time). before it i had heavier periods. now they are a lot lighter only downside is that i gained a few pounds (i became a lot less active also which added to the gained weight). when it was time to change it at the end of the three years my cycle stayed on for about 3weeks (not bleeding the whole time. it was the normal two weeks as stated before and then a week of discharge that i usually get after my cycles). ive read a lot of bad reviews on this, but i absolutely love it. i literally dont have to think about birth control for three year\"',\n",
              " '\"finished treatment almost a week ago. undetectable virus load two weeks into treatment. virus remains undetectable odd mild headache which lasted a couple of minutes, but took no medication whatsoever avoiding possible interaction. ive had no other side effects. i continue working and living my normal life. i eat plenty vegetables; smoothie made of fresh bananas, blackberries, blueberries, mango and kiwis. i kept the weight at bay and drink fresh beetroot with green apple. no alcohol or fried foods &amp; drunk lukewarm water mixed with fresh lemon juice &amp; swallow raw garlic with an empty stomach. contaminated illness during my childhood. dont despair. treatment works &amp; its bearable. best to you all.\"',\n",
              " '\"during acute gout attack took naproxen (500mg) for five days with very little relief. then started on sulidac (200) with almost instant relief.\"',\n",
              " '\"it works or at least is working so far. i put it on last night and it burned and itched but so worth it. it was hard using it with the top they give you for your underarms but i noticed if you tip bottle upside down couple min before you use it, it will soak top and makes it a little easier. i have not sweat at all today. i put on last night washed it off in shower and applied thin layer of my deodorant on. i have changed into shirts i know i sweat bad in and it is very noticeable but not today. i have been walking around in front of my husband saying do you see sweat and no he doesnt. i asked different doctors couple of years ago and they said there is nothing we can do but my new doctor prescribed to me. thank you\"',\n",
              " '\"i started taking celexa to help with anxiety and panic attacks. it helped with the panic attacks and made me feel numb as far as emotions. i had to change because i would have to take a nap everyday that sometimes would last 2-3 hours. i also began sleeping very late in the day which is unusual for me. the pill would cause me to have annoying headaches. also, the first few weeks on it my appetite was suppressed.\"',\n",
              " '\"i started birth control about a month ago for bad cramps and to regulate my period. i never really had bad acne before, but ive been on beyaz for a month now and my acne is bad. i have at least 4 large pimples on my face at all times, which im not used to. i dont know if i should stick it out and see if it gets better or if i should switch to a different birth control. other than the acne, beyaz is really helping with my periods. they last 3 days at the most and little to no cramps at all.\"',\n",
              " '\"day 5 and im amazed already, the depression and anxiety has been wiped away with 30mg. by far the best antidepressant ive tried in the last 2 years. feel so much better, better mood, less irritable and more energetic. wonder drug for me. id highly recommend trying it, no side effects just a slight occasional headache but otherwise no complaints here.\"',\n",
              " '\"i have suffered from anxiety and panic attacks since my 20s sporadically. now in my 40s recurrence has significantly increased due to a series of personal events to a point that i was starting to be afraid of being alone. i was hesitant to initiate medication but 3 weeks into it i feel the best i have felt in a long time. the first two weeks are tough, with nausea, dizzyness and headaches but it is worth it.\"',\n",
              " '\"ive been on losartan for about 12 months. at first this medicine lowered my bp to about 130/88. over the 12 month period, my back by my kidney area felt like someone kicked it. then, i was experiencing major depression off and on for months, nausea, extreme sensitivity to sound that i would startle easy, along with failing memory/concentration as my memory before the losartan was pretty sharp. i also found out during that 12 month period that i now have big gallstones and diverticulosis. these symptoms didnt appear until after i started taking the losartan daily for 12 months. now, the losartan is not working on my bp, so my doctor wants to try another medication on me, with of course more side effects. not recommended.\"',\n",
              " '\"two nights ago woke up to awful itching so douches with iodine and it stopped helping so i bought the miconazole 3. as soon as i inserted the first one i got immediate relief from the very very intense burning and itching. so glad i bought.\"',\n",
              " '\"another update: another month gone and i am maintaining the 31 pound weight loss i had with belviq. as i mentioned in the last update, ive taken 5 mg (thats one half of one pill) every afternoon since i hit goal. i dont want to go off completely for two reasons. one is that with the reduced dose, while i still feel the effects of reduced appetite and cravings, and not thinking much about food, i do have to put slightly more effort into staying on track. not a lot, just a little, but i can tell the difference. i think 5 mg is just right for maintenance. secondly, the good side effects, first and foremost no hot flashes, feeling nice and cool all day and night, sleeping better, and lower heart rate and b/p. great stuff! so grateful for it!\"',\n",
              " '\"i been like a lab rat for many years. have been on and off this trash hasnt ever helped me. they (different dr throughout years) will try this first. for one. i dont want to be over or under medicated. i understand everybody reacts differently to prescriptions or any thing they eat, drink, or put in body. honestly for me i believe these are placebos (like a sugar or salt pill). i do not abuse any medication. ive been up to 75 mg throughout a day. i can tell you .5mg of clonazepam 3 times a day and i function pretty well. have had valium, xanax and felt like a zombie throughout the day. do work with your dr. hopefully you have one that will listen. and offer suggestions if this doesnt work. good luck\"',\n",
              " '\"this pill is a nightmare!!!! i have had clear skin all of my life and enjoyed makeup as a hobby, now i absolutely hate it because i feel like it is an obligation to cover up the disgusting, painful cysts that this pill has caused!!! my self esteem is extremely low, i dont remember the last time i saw my real face and felt confident. i will be seeing my doctor very soon to get off of this terrible terrible terrible pill!!!\"',\n",
              " '\"i was too proud at first to try a medicine, but im so glad i did. it changed my life. my stress and anxiety stay managable and no major side effects except minor fatigue.\"',\n",
              " '\"this pill is the worst one ive taken, ive never been on such a problematic birth control like this before and its causing so much stress on my daily life. i switched from reclipsen because it gave me a migraine every day, on the bright side this pill hasnt given me any. unfortunately what it has given me is terrible acne, depression, day long lasting nausea, and the day before my period i had horrible pains in my right side from my belly button to the bottom of my pubic bone that i nearly went into the e.r. it was so debilitating that i couldnt move a muscle. now, upon my self examination ive discovered a lump and have nipple discharge, im not entirely sure if the birth control is the direct link; but my drs and i will see.\"',\n",
              " '\"i had a $1,000 dollar a month heroin habit. 3 days into withdrawal i went to a methadone clinic. was on methadone, 150 mgs for 6 months before i started a 5 month taper to jump to subutex. while methadone kept me clean, it really slowed me down, i just kept going up &amp; up in mgs. the taper off methadone was brutal. was induced onto sub last october. the first 3 weeks on 16 mgs of subs i had a lot of speedy side fx, feeling really wired, insomnia, i was nervous it wouldnt go away bc i *hate* being anxious, feeling fast. third week in the side fx just stopped. i could sleep, i was normal. im on 24 mgs sub, i had a big h habit, i feel 100% normal. i do not crave junk. it saved my life. been off h since dec 2014. i love life! miracle med!%u2661\"',\n",
              " '\"ughh im so depressed reading the positive reviews (im a bit envious i guess) but i take the adderal xr for adhd and it would work for me for only an hour and thats it after that i would be a zombie. so tired, no motivation. bed ridden to be honest. im devastated it works for so many people. i had such high hopes. back to the scratch board again. i didnt want to believe it was the medicine because of all the positivity but it definitely is. quite depressed.\"',\n",
              " '\"i was prescribed this for strep throat  it did a great job clearing up the infection i felt 100 times better after taking just two doses, but the second day of taking it i noticed i was extremely itchy all over my stomach sure enough a day later i broke out in a horrible rash all over my stomach, arms, and legs  i didnt end up finishing the rest of the antibiotic due to my doctor telling me to stop taking it. it took about two weeks for the rash to go away and i still have a patch left on my arm.\"',\n",
              " '\"i have unexplained nerve pain for about two years after trying so many pills i was at the end of my hope. all the pills either made me feel like a zombie or i gained weight. i tried 10 mg of nortriptyline and it has given me back my life! i have been on them for around 3 months now and hardly any pain.\"',\n",
              " '\"i began taking contrave almost 9 months ago. i am 5 4&quot; and started at 175 lbs. i got on the scale this morning (i rarely do now to avoid obsessing) and now weigh 144 lbs. this is a big deal for me, i have tried everything and nothing worked. the first month was absolute hell but if you push through it will work. my appetite is less and i feel full much faster. the contrave controls my eating as i clearly cannot. i go from hungry to beyond full very quickly and it lasts! crucial. good luck all.\"',\n",
              " '\"i started adipex on 9/19/2011 starting weight was 202 being 5ft tall and only 23 with five kids since my doctor started me on the pills. i now weigh 187.6 pounds. i work out monday through to friday. i love it. i feel better my goal is to lose 60 pounds and im not stopping until i get there. i drink nothing but water everyday. i get dry mouth a lot but thats about it. i recommend this pill to anyone. i used to sleep all day, now im up all day. the pill has changed me as a person. i still have a lot to lose until i reach my goal.\"',\n",
              " '\"i had had my skyla iud in for over a year and just recently had it removed because it just did not work for me. insertion was pretty uncomfortable but like previously mentioned in another post, it was doable (im sure contractions will be a lot worse than that was haha). like i said, i had it for over a year and i had a period every month, most of which my period lasted 2 weeks! cramping was worse for me while on the skyla than on any other birth control. after removal, ive been bleeding pretty steady the last few days and cramping which is supposedly normal. i loved the convenience of not having to remember the pill but i dont think ill be getting another one anytime soon.\"',\n",
              " '\"2nd time with yi, 1st time using monistat 1 used the pre-applicator bfr sleep around 10pm last nite, woke up almost every hour to pee and had excess, then at 4am my stomach did an unusual reaction so had to spent another hour in the bathroom, not long after, burning sensation until the next 12hrs didnt read the reviews til now hopefully wont hv same reaction tonite as past 24hr still doesnt feel any better on the infected area. i shouldve read these reviews in advance and might choose other medicine now i can only hope for a miracle able to sleep at least\"',\n",
              " '\"marinol is a life saver. nausea is one of the worst feelings a person can experience. marinol eases the nausea quickly and even helps create an appetite.\"',\n",
              " '\"was on gleevec when i was first diagnosed with gastrointestinal stromal tumor cancer at 17, and for me the 800 mg was unbearable. way too many side effects to handle and being brand new to the question &quot;how do you tolerate the medicine?&quot; i grew to dread gleevec and went off gleevec about 2 years and 7 long months later, and after a relapse of growths showed up, was put onto tasigna. though fairly new to it, i have had little side effects thus far and seem to tolerate 700mg much easier on this medicine than gleevec. definitely a medicine that is changing how im able to define my qaulity of life living with stage 4 cancer. hope all gist patients are able to receive the benefits of tasigna,(or gleevec if that works best for you and your cancers xenon mutation)\"',\n",
              " '\"i have been on this for two years now, and am very happy with it. im not as stressed and when im on my period, it helps with the pains, and the few times id stopped taking it, while i was on my period, my boyfriend mentioned that id turned into a little devil when id stopped taking it. \"',\n",
              " '\"**update** i have now been on saxenda since 2-19-17, april 1st ( 41 days on saxenda) i weigh 190, i started at 208, so this is a total of eighteen pounds loss in 41 days. i am not at 2.4 dose.i do walk a lot at work and do a lot of yard work, but other than that, i have not worked out or exercised. i do feel full at about 700 to 900 calories. some days i can not eat more than 500 or so calories. i also have kept it below 100 carbs per day. i feel healthy , a little tired but not so much it interferes with my day. occasional nausea, but not often at all. i do have severe constipation and sour stomach. i do not tolerate meats well , especially red meats ( but this is also not new for me). my skin is dry &amp; irritation around injection site.\"',\n",
              " '\"have been on this medication for about 5 months. this medication has been completely ineffective for me. my depression and anxiety are no better. at first i felt more depressed and have had several major depression episodes since beginning this medicine. at least i have had no side effects.\"',\n",
              " '\"this drug, along with its predecessor, acyclovir, is a godsend. if you ever suffered breakouts, you know how embarrassing it is to go about your day with a cold sore. if you have to spend the workday talking to people, its even worse. my breakouts were usually a week long, with the residual scar visible for another few weeks. i take famciclovir at the earliest opportunity. caught early, im even able to stop a full breakout, and only redness remains left to be healed. this drug works so well, i am puzzled by the &quot;remedies&quot; peddled on tv, the internet, and health food stores (abreva, bactine, essential oils, lip balms, etc.). famciclovir/acyclovir is the only thing that has worked for me.\"',\n",
              " '\"i started getting panic attacks when i was 12. every time i had to present something to my class it felt like i was having a heart attack and my hands and voice would shake uncontrollably. i couldnt get through the presentations most of the time and the kids would make fun of me. it was dreadful. finally, when i was 14 i saw the doctor that prescribed this. it was a life changer. there was a speech i had to give as an 8th grade project and while i was up at the podium i could actually organize all my thoughts. no shaking. no heart palpitations. no sweaty hands. i could have stayed up there for hours! i even remember thinking, this stuff really works!&quot; im 23 now and started taking it for work-related situations.\"',\n",
              " '\"3mg works very well for me.\"',\n",
              " '\"overall good no side effects have been taking drug for abt 3 yrs. have not had a recurrent attack. weight settled down at 100 pounds. also have insilent dependant type 2 diabetes. was 20-30 lbs overweight all my life   i have good muscle control but can no longer lift a 50# bag of anything . 25-30 # is my new limit. its a new me and im good with that.\"',\n",
              " '\"i have had rls since i was a child (now am 38). was on clonazepam 1 mg as needed. switched sleep doctors and am now under the care of a neurologist who recommended requip. i started at 0.5mg and am now at 1.5mg. i have to take it earlier and earlier because the rls is so bad. as i type this at 4:30 in the afternoon, i am ready to go get a saw and start cutting off at the knees! i think i am going to go back on the clonazepam. this is miserable.\"',\n",
              " '\"i am on day 4 of my pills and i just was telling my friend how i havent felt any side effects and how i thought some people were being over dramatic. the nausea has surfaced and i hate the feeling where you feel like youre gonna be sick. i have also been very spacey and out of it. it definitely is working cause the odor went away after day 2! thank god cause this shits embarrassing.\"',\n",
              " '\"l-trytophan feels like a bit of a lifesaver for me. having endured insomnia for 7 years and tried so many various treatments - this natural amino acid has given me back my energy and ability to sleep 7-8 hours just like other people do! the extras are that my mood is stable during pms and going through peri menopause. i feel happier, more relaxed and able to enjoy and appreciate my life so much more.\"',\n",
              " '\"i love it. my first 2-3 months were pretty terrible and i felt pretty sick, but i havent had any problems since. my periods are always same day and same time as well. my face is pretty clear of acne and my breasts are definitely bigger, which is good (!) but it also keeps babies away, so its a pro!\"',\n",
              " '\"i took requip for restless legs syndrome about 2 years ago. to this day i dont know what precipitated the condition but i was completely satisfied with requip. it is noteworthy, however, i only had to take it a dozen times in 2 years. if it were a chronic condition, i dont know if it would have been effective. best of luck. \"',\n",
              " '\"ive been on this 7-8 years and it works well. i able to maintain my idle body weight. when 1st taking it, i was starving and ate everything under the soon. after adjusting to the medicine, im able to stay at 115 lbs which is perfect for me. i also have fibromyalgia and feel tired all the time.\"',\n",
              " '\"i am 29 been suffering since i was 15. i was diagnosed with chronic cluster headaches until i was about 24. dr currently has me on verapamil 240mg 2x daily. ive been on for approx 18 months after trying other various methods and well it works excellent. i have 1 serious side effect &quot;i lost my mojo baby&quot; no but for real being 29 and having zero sex drive and impotence problems with my current girlfriend is becoming an issue. i have tried to taper off verapamil but 2-3 days later the headaches come back. verapamil is the only medication that has worked for me. i am not sure what i should do. sex vs clusters. sad to say but id rather not have the headaches.\"',\n",
              " '\"within 2 weeks, after numerous other medications, my mind came back. for me this is what i would call a miracle. it gave me energy without jitters, and has helped me think clearer. the only problem i have had is stomach, but for now i am taking only 20mg and it is better.\"',\n",
              " '\"i tried detrol for overactive bladder, and it helped that problem. however, my headache increased so my doctor changed me to vesicare which seems to be a little better.\"',\n",
              " '\"dramatic reduction in hot flushes achieved taking 1300mg evening primrose oil daily and almost eliminating dairy products from diet.\"',\n",
              " '\"it was a very effective drug, however, the side effects listed made it a bit scary to take, but it all worked out in the end.\"',\n",
              " '\"i had slight depression i was told by my councillor, she had put me on this medication to try and help lift my mood while still having meetings for the councilling! within 2 months i was down to the lowest i had ever been and attempted suicide, a few weeks after i decided to take myself off the medication as it was making me worse, i have been so much happier than i ever was while on that medication, it is such a dangerous drug not to be used for mild cases as it makes it worse in my opinion.\"',\n",
              " '\"this absolutely works. i quit twice but i needed more than 2 months (doctor did not think so). when i got a new rx last year, the cost was out of sight 185.00/month. i had hoped the cost would come down because i know it works. for now, i am in limbo \"',\n",
              " '\"ive only taken two pills. i was prescribed the 500mg for 7 days. ive already had relief in discharge and odor. from what i see i should keep taking the pills the whole 7 days so ill continue. it does have an awful taste that i cant take but i think this is a very helpful medication and i hope it prevents the infection from coming back. do not take alcohol with this medicine.\"',\n",
              " '\"i was on this birth control for about three months. the only positive thing i have to say about this pill is my breasts grew a little bit. that being said i did not like this pill otherwise, it gave me bad cramps, my breasts were very sore, and for a while thought i was pregnant because of the side effects that i was having (i wasnt pregnant). the worse side effect though was my period. my period has always been normal and comes at the same time every month for about 5-6 days. this pill made my period come every other day for the three months i was on it , and when my period stayed i would have it for about 10-14 days which absolutely sucked. i have since switched birth control and will never take this again.\"',\n",
              " '\"have applied for three weeks once a day. increased to twice this last week. my face is quite red and sore and i am amazed at how many spots have come out. will continue for a few more days. this site has encouraged me. i wasnt sure whether to keep going.\"',\n",
              " '\"great all around benzodiazepine! lasts long and is generally mild but does the job!\"',\n",
              " '\"i had mirena inserted in december 2016 due to very heavy periods. i have no children and do not intend to. im 45 years old and my periods have not been lighter and my cramps are still awful. for at least 2 full days on my period i can not sleep through the night. i have to change my clothes, tampons pad and sometimes the bed sheets. i was hoping this would work but i am losing all hope. im giving it one more month and then going to the doctor again\"',\n",
              " '\"zoloft did not help me at all. i was on it for about 3 months, worked up to 100mg. i was tired and hungry all the time. i gained 20 lbs and slept all day. i was a complete zombie. definitely made my depression worse.\"',\n",
              " '\"this medication has greatly reduced my multiple sclerosis attacks. it has really helped me in that respect.\"',\n",
              " '\"took ambien for the first time last night after not sleeping all night for months. i didnt want to wake up late or groggy. this worked wonders. took at 9ish just woke up at 6. so happy i didnt sleep in but also got a full nights rest  now lets hope i didnt do anything weird.\"',\n",
              " '\"i was on 30mg prozac daily for stress/anxiety/depression after having an eating disorder for 6 years and felt after 1 year i hit a plateau and weaned myself off of it. when i missed a dose i definitely felt the anxiety creep back and depression set it, but got sick of feeling numb with no emotions and unable to cry even when i wanted to. i however; after being off of it for a year and trying it again because i know i didnt gain weight on it which was my biggest fear. i am afraid to try another medicine and frankly dont feel like going through the weeks you have to wait to see if they work. i know i liked prozac in all when i was on it and just hope the plateau i felt is gone. \"',\n",
              " '\"i always had a stomach like a goat nothing bothered it then at 47. i had to go to er they gave me bentyl and it helped. i had another attack and screamed in pain my husband reminded me of the bentyl and i took a drink of the liquid and pain stopped right then. this is a wonderful medication i can function. i get a little loopy but no pain. i was diagnosed with ibs-c.\"',\n",
              " '\"after my bc pill that i had been taking for about 18 years was discontinued i have been searching for one that i like. my doctor suggested ortho tri-cyclen lo. its been almost 1 year and i want to change pills. every month i experience a migraine along with my period that lasts 2-3 days. i have also had nausea, mood swings, bloating and trouble losing weight. recently i have had breakthrough bleeding lasting several days. all of these symtoms are a first for me.\"',\n",
              " '\"i have been on this medicine for 3 months now, i am on 20mg per day. the first tablet i took was a complete trip, then with the other tablets i did not have any weird feelings as if i was high. i had some side effects such as light tremors in my hands and thirst. i did not drink any alcohol for 1.5 months, i discovered wine brings up my depression so i do not drink wine any more. just a glass of whisky every now and then. the first three weeks were a bit rough but things started to move forwards in a very pleasent way, family and friends noticed i smile all the time and yes i deffo feel happier. anxiety levels have come down, although i do have probably a panic attack a month. this medicine has been a life saver for me, i have no emotions\"',\n",
              " '\"im 16 and ive been taking this for about 8 months now. it works, i havent gotten pregnant, but it hasnt really regulated my period. a couple months ago, i had my period for 3 weeks straight despite taking the pill. also, it absolutely killed my sex drive which is very annoying. ive had depression for about 5 years now and i dont know if taking tri cyclen lo made it worse, but it definitely didnt help.\"',\n",
              " '\"the only thing that works for my thrombosed hemorroids. will suffer for days and then use this and roids are gone super fast and not nearly as painful. sitz bath and this cream takes care of the problem just over a couple of days.\"',\n",
              " '\"this is a miracle for me. i &quot;throw my back out&quot; about once a year. when i do it i am out of commission. only 1 or 2 positions are tolerable and those require laying down. after 2 days of the dose pack i can walk again. after 3 or 4 days i am pretty much back to normal. my only issue with this is i have to get a script from the doctor. this usually leaves me at least one day on my couch in immobilizing pain. i wish i could keep a few of these packs on hand for emergency purposes.\"',\n",
              " '\"i have suffered from bpd and depression since early adulthood. i have been seeking help for 30+ years. ive been on all kinds of medicine, but it wasnt until zyprexa was added to my antidepressant that i found complete relief of my horribly unstable mood and suicidal thoughts. i felt relief from the 2nd day of use. i never ever thought that i would feel normal, and happy. amazing! no more rage, no more depressive episodes, less compulsive thoughts, my mood is so even. so happy to have stumbled upon a medicine that works.\"',\n",
              " '\"ive been using the gel, so i dont have no taste problems with the pill. same dosage though, i inset the gel vaginally once at bedtime for 5-7 days and so far im on day 2 and no odor. ive had no side effects accept mild stomach pain and a little fatigue. so far its great but i will see as the process continues.\"',\n",
              " '\"i used to be an extremely bubbly, happy, and very sexual person. ive had the nexplanon for a little over a month and my weight has stayed almost the same (i went from 140-135). im very active and generally up for anything. after having the nexplanon implanted ive been miserable. i have at least 2/3 anxiety attacks weekly, im moody, hateful, irritable and downright not myself. my poor boyfriend is trying to be a trooper but i can barely contain my own feelings :( my sex drive is gone whereas previously i was craving sex twice a day! i dont feel like myself. i had my period for 2 straight weeks after implantation and now im bleeding very lighting continuously. im giving it a couple more weeks before i call to have it removed :(\"',\n",
              " '\"didnt work for back pain.\"',\n",
              " '\"we moved to va after 3 years on orders and my anxiety came back. my anxiety was situational. i had a refill left on my zoloft. i filled it but it didnt work like the first time. everything felt constricted. nothing seemed clear to me. i tried venlafaxine after crying to my doctor and i have been extremely happy. i will say, just like the other reviews mentioned, if you miss a dose, its horrible. the dizziness, anxiety, foggy thoughts are severe. im on 75 mg and feel great.\"',\n",
              " '\"i have been on apri since i was 18 years old i am now 24. using apri, it has always done its job in regulating my period and keeping me obviously from getting pregnant and i have been happy with that. however, if you have a sensitive stomach i recommend something else. i am going to be changing my birth control soon due to the fact that when i take my pill  couple hours later i vomit uncontrollably until its ran its course though my system. ive tried everything i also work in the medical field so i have tried things even beyond the norm. yet here i am 6 years later still with my head in the toilet. if you dont have a sensitive stomach this birth control is excellent, if you have digestive problems or sensitive stomach, i do not recommend\"',\n",
              " '\"im prescribed 3 max mg a day for 5 years and it never has worked for me . i freak out all the time but the dr i think gets some sort of deal due to they still want me to take them.\"',\n",
              " '\"ive been continuously on the depo shot since the end of my freshman year in high school, i am now and senior in high school. i have had the worst side effects, ive gained over 25 lbs, always tired, no sex drive and extremely moody all the time. the only plus to this shot is how it lasts for 3 months and how i never got my period. \"',\n",
              " '\"urgent care doc gave me colcrys and voltaren for a flare up in my kneee. first flare ever in knee, wow, i thought it was bad in the foot, but its nothing compared to the knee! the doctor gave me a 3 day supply, buy the end of day 1 i was at least 75% better, by the end of day two no pain. this worked wonders for me, good luck to you.\"',\n",
              " '\"i started treatment for depression and anxiety in 2001 - zoloft, which helped somewhat, and i continued for years until cymbalta came along. i tried it and it was better than zoloft. after a year on cymbalta i started to find it to be too expensive. im a writer, a starving writer, and $5 a dose was too dear. i asked my doctor if he could recommend something similar but cheaper. he put me on celexa. wow - what a difference - celexa was far more effective than either of the two meds i had previously used- and dirt cheap!\"',\n",
              " '\"ive been on camrese for almost a month before i was on lo seasonique which i loved better. i switched because i was told it helped better with cramps an lighten your period, but omg i been spotting every since i been on it! my period was due last week but i just been spotting. im on my last week of pills this week. i take my pill every morning on time never miss still spotting smh. im calling my doctor telling him i need to switch back over. its literally like your on your period for a whole month! i dont recommend at all!\"',\n",
              " '\"this could be an important medicine for those who dont like taking medicines. i have chronic pain, and dont sleep well for a few days, then just coma-sleep because i am so exhausted by about the third day. when i am out driving, i dont like to take much more than ibuprofen until the evening, although the menu for me includes vicodin, dilaudid, skelaxin, etc., as required. have had 4 surgeries. my pain management doctor and i go round about pain medicines, and i know i wait too long to take it, but i think nuvigil can be a great once in a while solution for when you wake up exhausted and have to be alert. i experienced no jitters or side effects, but was able to have a normal, productive day. no trouble sleeping and having some choice about my day. priceless!\"',\n",
              " '\"had sex and he didnt pull out, took plan b an hr later. 4 days after i get my period. very reliable\"',\n",
              " '\"38 years old. using for 5 years. virtually no acne. no weight gain. no pregnancies. cant imagine using another pill. perfect for me.\"',\n",
              " '\"i have attempted sobriety several times, all resulting in returning to alcohol. i attempted antabuse once and panicked. i have learned from my experiences. i have been sober for over 3 months now, started antabuse two weeks ago. now it is my system i could not rate it high enough but would stress being in the correct state of mind is essential. i have not succeeded in the past but am extremely confident that i can and will this time. side effects of antabuse tiredness headaches spots side effects of alcohol blackouts vomiting hangovers memory loss cost time in hospital loss of bladder/bowel control physical damage to self (accidents, broken bones) seizures embarrassment after effects due to behavior whilst drunk. preference?\"',\n",
              " '\"this pill works! trust it. i took it 34 hours after a condom slip. i experienced tiredness, bloating and minor abdominal discomfort, not so much as pain. i started spotting then it completely stopped for two days but nonetheless my period came! three days earlier then i expected and a lot heavier then normal but it came! trust this pill it is a miracle worker. take the pill between the 72 hour time frame, relax and hope for the best! 55 dollars is nothing compared to the cost of getting pregnant! best of luck ladies!\"',\n",
              " '\"i had been taking savella for about four years and had no idea how well it was working until i decided to go off of it, because i do not like taking any medication. within a few days, it was clear that without medication ( savella) i was going to be in pain. i saw my doctor and asked to try something else. i was put on bupropion and then later switched to adderall for the chronic fatigue and pain, caused by fibromyalgiai. the bupropion made me dopey and lethargic, even after two months. then i tried adderall, which did help with the fatigue but the pain came back and worsened over the next two months. i am totally convinced that nothing works better than savella at least for me. i started back on savella and feel great.\"',\n",
              " '\"doc gave me rx for 0.6mg 2 x daily. to start i took 2 pills and then 1 more after an hour the first day, then just 2 pills daily for the next few days until pain and inflammation is gone. this was also rxed with indomethacin - 50mg 3 x daily (along with a drug to coat the stomach 1 x daily) i would say my pain after only a few hours subsided from a 8 to a 4 and the next morning was at 2. that is where i am right now. i will try an update in a few days . . .\"',\n",
              " '\"i have taken zyprexa 2.5 with zoloft for years and couldnt function without this combination. it was prescribed because the zoloft just didnt take care of the insomnia and mood swings. zyprexa 2.5 has been a god-send.\"',\n",
              " '\"i am currently on metformin for pcos symptoms. however, blood test after blood test has shown that i do not have pcos. i have all the symptoms and metformin is working to regulate my cycles. the only downside is the weakness, light-headedness, and sleepiness i am experiencing. i have read that it is possibly from lactic acidosis, which is frightening. i am increasing my water intake and exercise and hoping that it will go away.\"',\n",
              " '\"a very effective drug. state of mind important. stress diminishes effect.\"',\n",
              " '\"the reviews ive seen arent the most accurate. of course everyone is different, but this works for me. i was originally on gildess (same dosage) and loved it. yet, it was discontinued and i was put on blisovi - which was literally the worst bc ive ever been on. i talked to my pharmacist and was switched to this. if gildess worked for you, this is the next best thing. good luck!\"',\n",
              " '\"i dont think i could make it without the patch. the pain in my back is at the point i cant live with it. the fental patch is the only think that has helped. there is no way to take that much pain.\"',\n",
              " '\"if youre looking for a birth control thats easy on your body in the sense that you dont get mood swings, no weight gain, good sex drive, etc., you might like alesse. if youre looking for all that as well as an acne treatment, beware (especially if you have adult acne)! my doctor put me on alesse because i was looking for a birth control and an acne treatment (i had moderate adult acne on my cheeks). the first three months, i thought i was in heaven. no mood swings, no weight gain, clear skin, etc. then approaching my period on the fourth month, i woke up with 6 acne cysts on my chin, jaw and lower cheek. i had never had them before. still getting pre-period cystic breakout, onto diane 35 next month.\"',\n",
              " '\"love it! immediate relief! i take 10mg of oxybutynin every morning and it gets me through the day. ive been on this approx a year and dont feel i have any side effects. i should ask my husband if he notices any differences in me  more forgetful, etc. maybe some dry mouth but nothing i cant live with. sips of water help that. i feel like i have my life again :) i have noticed that i now cant go through the night without an accident so i need to ask my dr. if i can take some in the late afternoon to get me through the night. overall  love it!!\"',\n",
              " '\"i took cymbalta for 1 year. it did help with my depression however, i became very lethargic and gained 25 lbs within 3 months. the weight gain scared me because i had never gained that much in such a short period of time. also, i did have serious constipation with cymbalta. if you can handle the wieght gain and constipation, i think cymbalta is the medication to at least try, it does work-or it at least worked with my depression.\"',\n",
              " '\"ive been on this for about 3 or 4 years now and i love it. it has worked great for me with no side effects. ive had no weight gain, no flare in acne, and not any unusual mood swings. this is the only birth control ive ever taken, and it has worked wonderfully for me!\"',\n",
              " '\"this medicine did not work for me at all. even with dietary changes i would have occasional flare ups.\"',\n",
              " '\"20 yr. i got nexplanon jan 7th about 8 days after my period. i did have the initial arm pain around the implantation site, but i didnt spot right after the implant. i started my period about 28 days later and it was mild at most, for a day. then, it was more like spotting for about 4ish days, and all i needed was panty liners. i have been taking aerobics for 10 weeks and i gained weight instead (&lt;8lbs). i have had mild mood swings that i didnt even realize until i read other reviews. i still have strong sex drive. however, i have yet to get my period this month going on 2 weeks late, so i took a pregnancy test and it was neg. overall, i really like this contraceptive. its the first one ive tried but so far it has worked pretty well.\"',\n",
              " '\"still not sure. it definitely works.\"',\n",
              " '\"i am completely satisfied with this medication. i had a few side-effects the first 4 days (a bit jittery, headache, insomnia, constipation) but all but the constipation has passed. i have been on this for 3 weeks today and am down 11.4 pounds. i am thrilled with it as i had tried phentermine and had terrible side-effects and had to quit. i am on about a 900 to 1000 calorie daily diet. drinking lots more water and walking daily. it gives me a good energy i want to be up and doing things but not like hyperactivity. its been a great experience, so far.\"',\n",
              " '\"i think this may be my third review of strattera, i still give it a high rating because all in all it has done what it was supposed to do. ive had some bad migraines, while on it, and ive gone off it a few times, because i couldnt fill the script or felt like it wasnt working, but i have always come back to taking it in the past four years. my current dose is 25mg, and i also take adderall, 10mg twice a day. if i had to describe strattera, it is a great focus/ motivation medication, but it also ups the anxiety, and adderall seems to up it even more. my doctor really doesnt have another solution than to take ativan. coffee makes strattera worse, but sometimes it wont kick in without the morning coffee.\"',\n",
              " '\"i started taking yaz as my birth control in high school (im 25 now) to prevent getting pregnant and as treatment for my moderate acne. it is my holy grail. i used to get consistent breakouts on my forehead and chin, and since using yaz my acne has completely cleared up. my skin is literally beautiful to the point that my friends will comment how good my skin is. last year, i decided to give the non-hormonal iud paragard a try because i didnt want the hassle of taking a pill every day. during that time (about 5 months) that i wasnt taking yaz, my skin broke out terribly. i thought it would calm down after a couple of months once my body had adjusted but it never did. i also started having much more dramatic mood swings during that time.\"',\n",
              " '\"ive been begging for years to take an anti anxiety medication. i was initially diagnosed with depression &amp; anxiety. my neurologist increased my effexor from 75mg to 150mg/day to treat the numbness and tingling in my feet due to diabetes. i became manic with my driving and spending habits. i was then re-diagnosed as being bipolar. i went years without anxiety medication and had several trips to the hospital with anxiety attacks that felt more like heart attacks. i was put on buspar and took my first dose last night. this morning i couldnt find my wig. i ended up late to work in hopes of locating it. its not where i left it and i wonder if i was sleep walking. anyone experience anything similar?\"',\n",
              " '\"ive been on this birth control for about 9days and have gain 5lbs. i thought i was putting on weight because of the holidays but its def the pill. ive never suffered with acne and ive been breaking out on the side of my face which is the hormonal area. when picking up my birth control at a cvs i wasnt not aware of the change. i will be contacting my doctor and letting them know how upset i am with the changes and not making me aware. i will no longer be continuing this pill and do not advise anyone else to. after reviewing the reviews everything else everyone is stating is exactly what occurring to me. stay away from this pill!\"',\n",
              " '\"celexa and zoloft were both duds for me unfortunately. moving on to wellbutrin/buspar combo, fingers crossed!\"',\n",
              " '\"i have used vesicare 5mg for 14 days and it worked well this first week. now im back to wearing pads and im experiencing cloudy urine with a hint of blood, blurred vision and a 5 lb weight gain. ive stopped this medicine, obviously its not right for me. hoping to try something else.\"',\n",
              " '\"this medication is pretty expensive but i believe it has helped shorten the duration of the flu. i started with symptoms on sunday, tested positive with the flu on monday and started tamiflu that evening. today is wednesday and i feel a lot better - no fever either. i have experienced some nasty bathroom-related side effects but ill take that over high fever, blistering headache, etc.\"',\n",
              " '\"i used verapamil for 5 years to treat supraventricular tachycardia (svt). with each visit to the doctor, they increased my dosage. i started out taking 30mg once a day, and ended with 180mg once a day. for the most part, my symptoms were never controlled. the drug caused extreme fatigue and tiredness. i often had severe headaches and was constipated. i have been switched to atenolol 50mg once a day now. hopefully i wont have as many unwanted side effects.\"',\n",
              " '\"first off, i have a history of having uti. this past one has been a real doozy and the medication was changed four times! the last antibiotic prescribed is macrobid 100 mg 2xday. the first day i was nauseated and delirious with bad nightmares. it was a sick flu like feeling along with bad chills. i kept taking them as i thought what else.?! this sick feeling calmed by third day and two more (4 pills) left. i feel better but my bladder has been through too much with so many infections with wrong medications. i really wish my dr would focus more on prevention. macrobid definitely gave me bad side effects compared to any other antibiotics but it seemed to clear the infection hopefully it doesnt return!\"',\n",
              " '\"i absolutely wouldnt survive without my gabapentin. however, im finding that anytime i miss a dose (3-800s a day) that i have bouts of rls for a few days. anyone else have this issue. mind u, to my knowledge, i never had rls before. im pretty sure this medication causes it to happen for me. but idk, im not finding many ppl online with the same problem. can someone say if they are. im 30, so medications like this has only been going on for 5 or so years. i have too many issues to list by the biggest r all but one vertibrate that are both deteriorated and herniated. and, i have a psudeo tumor of the brain (lots of spinal fluid build up, not yet fixed at all). d.j.d. and also a bad case of r.a. as well. thanks\"',\n",
              " '\"i was on bactrim for 10 days because of a bartholin cyst that tested positive for mrsa. on the 7th day i started experiencing back pain, intermittent low grade fevers, chills, complete fatigue and eyeball pain. an i.d. doctor wanted me to take it for another 7 days as a precaution but i had to force him to listen to my symptoms and he told me to stop taking the bactrim. also dont know if it matters that im not of normal weight for most woman at 55 im 109lbs - the symptoms i experienced were also listed as possible &quot;overdose&quot; stopped bactrim today - feel terrible.\"',\n",
              " '\"now i am able to break times between doses of ms-contin.\"',\n",
              " '\"i have had to be on this medicine 2 to three times a year for the last three years. i wish i was able to give it to myself instead of being admitted everytime. not sure if insurance covers it but it would be worth looking into.\"',\n",
              " '\"i liked this bc quite a bit. i was on it for five years. it did make me nauseous if i didnt eat anything beforehand, but that is easily avoidable. it helped with my acne some but not a lot which is why my doc switched me. i didnt experience any weight gain or loss. i also didnt notice any difference in sex drive or cramps increase. lastly, i didnt get pregnant on it, and thats the most important thing to me. i think if it werent a hassle for me to switch back, i would since gildess isnt helping the acne either.\"',\n",
              " '\"ive had a few times were ive had a back up of stool, i have a simple recommendation for whoever doesnt want to have the taste of the citrate become overwhelming. grab a grape mag. citrate bottle as well as a grape gatorade drink about half of the gatorade before drinking the citrate then drink the entire bottle after that drink the rest of the gatorade. thisll taste a lot better than the cherry or lime one, if anything it doesnt feel like youre even drinking a bottle of the stuff. make sure to take before 5-6pm if you want it to work properly because when you take it too late youll have to stay awake in order for it to work. i drank a bottle one time in the night, fell asleep and it didnt work too well, and no i didnt poop myself.\"',\n",
              " '\"ive been taking phentermine 37.5 for a while now, since june 7, it is now july 20 and i have only lost 8 pounds. i dont have an appetite at all, i have to force myself to eat, i think its only like 1000 calories a day if that. i have really bad heart burn and have some insomnia, other than that i havent experienced anything else. i am 56 and started off weighing 180, im down to 172. i did have an episode of jitters, tingly arms, rapid heartbeat, and cold sweats but i ate an apple and i felt much better. im not sure if the pill is actually helping me lose weight, since ive been on it for 44 days and have only lost 8 pounds.\"',\n",
              " '\"i have spinal stenosis, two herniated lumbar discs (inoperable due to location and prior surgery). this medicine allows me at least to get out of bed on most days, and use either my quad cane or walker.\"',\n",
              " '\"i recently had the skyla iud inserted while on my period was the best timers get it . i got it about a month go and so far so good! i love it! during the insertion i felt pain for like 30 seconds of cramping a bit. i recommend taking ibuprofen at 600mg-800mg before. i felt a little dizzy after the insertion and felt better. i was protected right away due to my consistency of the pills. i took ibuprofen for 3 days for the semi cramping not severe at all. ive been good ever since with no serious effects. ive have been exercising and eating clean not having a hard time losing weight, no pmsing, no acne, and emotionally normal. i love not having to worry about pills anymore. i would strongly recommend it.\"',\n",
              " '\"the drug did not work for me. i felt i was about to have a heart attack. i thought i was going to die. i was ready to call 911. i didnt realize it could have such an adverse effect on you. the doctor prescribed another drug which worked much better without giving me the feeling of an oncoming heart attack.\"',\n",
              " '\"i got my iud put in in march of 2015 after over a year of being on the depo shots. the initial insertion was pretty painful, but i was able to drive home and take some aspirin and lay around while the pain subsided after a few hours. i have pcos (poly cystic ovarian syndrome) and i wanted to try something that i could feel more like myself and have the least amount of side effects on. this has really been working out really great. i no longer have random pain that i used to get and the only negative that i have noticed is a lack of sex drive since getting it inserted, but i am going to the doctor soon to see if it is a side effect or if my hormones are off.\"',\n",
              " '\"i experienced terrible muscle cramps in my legs at night while on this pill. i took it for 2 months, it was bad enough to decide to go back to my painful, heavy periods.\"',\n",
              " '\"very positive results in the beginning but now i feel sleepy and unmotivated. my mood is stable however, keeping away the depression so far. gained weight on it.\"',\n",
              " '\"cipro is the only thing that works for me. i suffer from chronic urinary tract infections, despite my efforts of consistent 100% cranberry juice intake and using the bathroom after sex, i normally have 2-3 per year. cipro usually kicks the awful urinary tract infection symptoms within a couple hours of my first dose, and i have complete relief within the first day. im lucky enough to have the meds on-hand due to the recurrent infections - typically only take for 3 days unless im seeing blood in my urine, then i take it for 5. dose 500mg twice in the first day to kick the infection, and then i follow up with 500mg once per day through my 3 or 5 day. i dont usually have many side effects from the cipro, maybe some fatigue and mild headache for a day but thats all.\"',\n",
              " '\"first a quick rundown, im a 44yr old white male with a whole slew of physical problems. heres the short list of things hats been keeping me awake days at a time. i have crps (2012) ,degenerative disk disease c4 -c7 moderate to severe(2001 since 1.5&quot; shorter). i suffered a t.b.i.( subdural laceration .60&quot;) in 2012. both rotator cuffs that have been torn several times each both of them have slap tears and tendonitis ,arthritis in various places. 8 weeks ago i tore my left r.c. for the 3rd or 4th time this time it came with the slap tear too. ive had issues with not being able to sleep because of pain for the past 5 years, starting shortly after crps reared its ugly little head. if you arent familiar with it just imagine all ten of your toes are broken both feet being beat with a hammer repeatedly accompanied by a little fella with a flamethrower that follows you everywhere you go. this is a 24/7-365, it made me reconsider my position on voodoo dolls because at times i feel as if im being stabbed with an ice pick every 10-15 seconds then after 5-20 pokes it moves to a different joint. imaginary time over now, on the mcgill pain scale its the highest rated pain 48/50 childbirth is a 36,cancer 32 many others listed too. the only difference is those pains go away or have treatment options. recently the surgeon general changed the approved therapy from opioid pain medications to no approved therapies simply because nothing works for more than a couple of months then your body gets use to the nerve blockers and any and all types and dosages of pain meds. some choose to have thier feet amputated knowing there may still be phantom pain but thats much lower on the pain scale. okay now that you know why im not sleeping well or at all here is my experience with this rx. 8 days prior to going to see my doctor i went to my 1st p.t. session( hurt too much b4 then). during the 2hrs there she pulled and tugged on everything that hurts trying to figure out the range of motion and all that. this was 2 mondays ago from that day until the following monday i had slept a total of 9.5 hours going a minimum of 48 hrs between 1.5-2.5 hr naps before the pain would wake me the same as if someone had dumped a bucket of bricks on my head. after a week of this i saw my dr for my monthly visit and explained everything including how i tried shifting my medications around ,changing the times taken and completely stopping 1 of them for 3 days and another for 2 days with no effect what so ever. he gave me a few choices of medication to try and i choose this one because ive never seen a commercial for it on tv. i refuse to take anything thats advertised on tv. the side effects are usually a more severe of what ever you needed to take it for plus another 20 possible side effects, not 4 me no. i didnt get home until after 1pm so i planned to take it the next time i felt like i was completely drained and might be able to sleep i would take the rx then as it was the best shot for it to work. that ended up being 10am the next morning,tuesday. i took 1-25mg pill 15 minutes before i laid down and i dont remember my head hitting the pillow. in the past 15 years that has happened maybe 5-8 times. i woke up twice to use the bathroom and take my other meds for pain, less than 5 minutes after getting up to pee i was asleep again. i woke up 5:30 am wednesday morning and felt more human than i have in the past 5 years. the pain was tolerable enough that i laid there for a couple of more hours. the best sleep i can remember. since then my shoulder is feeling a little better so its not making my normally terrible situation worse and since ive learned to deal with it as best as one can im getting back to sleeping 3.5 to 4.5 hours every night. ive only needed to take 1/2 of one since the first. my situation is very unique but if spilling my guts about things i hate to talk about helps someone else get the sleep they need then it was worth it.\"',\n",
              " '\"i took oxybutynin for 2 months recently and had no luck. i didnt have any side effects, but didnt help with my oab at all. my doctor wrote me out a prescription for vesicare so hopefully that will give me some relief.\"',\n",
              " '\"oh wow, what a relief. i was on weekly injections of 17.5 mg mtx and got to feeling toxic. have switched to daily 10mg tablet of leflunemide and feel great. no more couch surfing from tiredness and depression or pain. i feel great, however my hair is falling out and has thinned to a stage of embarrassment :(\"',\n",
              " '\"i started on phentermine on june 7, 2016 at a weight of 235#. i am 5 feet 7.5 inches tall. the only side effects i have experienced are a dry mouth and increased energy (a good thing). in the first three weeks i lost 15 pounds. then the weight loss slowed a little. it took three weeks to lose the next ten pounds. my target weight is 180#, a loss of 55#, so i am about half way there. my plan is to take 90 days of phentermine, then discontinue for 90 days to figure out how to sustain the weight loss without the help of an appetite suppressant. after 90 days i will resume taking phentermine until i reach my target weight. i have never felt more optimistic about losing weight and keeping it off.\"',\n",
              " '\"this pill is really awesome i have been taking for about 1yr and1/2 i dont get periods the only thing my libido is very low other than that i love it\"',\n",
              " '\"been on these pills for 3 yrs now. started out for pain relief but soon discovered my depression fading fast. i take 200m xr in am and 200 at night also helps me wake up alot easier and happier. i went off them depression came back and suffered some withdrawals instantly and geting oit of bed was a nighmare. back on them life is great one major down fall is my sex drive these pills kill it but its worth it cause im happier on these pills with less sex then lots of sex and not happy. sacrifice i choose to make.\"',\n",
              " '\"seems to be helping after the sudden loss of my son.\"',\n",
              " '\"i had an ileostomy 34 years ago, whilst in my 20s, for severe ulcerative colitis. after many obstructions i had been left with short bowel syndrome. two years ago i was diagnosed with crohns disease after fistulas started leaking faeces through my skin. after a 6 hour surgery i was put on humira. after a year i came out of remission and was put on humira weekly. despite that i am now bleeding internally. i have only 4 foot of bowel left and have just finished 60 day diet without food. i have nowhere to go as my surgeon said further surgery isnt an option. humira has extended my life by slowing the disease im sure. every day is a blessing and im so much better than 2 years ago. i still have time to enjoy life with my family. im grateful\"',\n",
              " '\"heart palpations, dizzyness, night sweating, headaces, backpain, depressed and wanting to kill just about anybody was taking over my life at 50 ( menopause (apparently)  wellbutrin saved my life -or somebody elses (-; no side effects other than difficulty to sleep but that passed in about a month. no weird &quot;high as a kite&quot; feeling. just my normal self again. taking one (150 mg) pill only in the morning\"',\n",
              " '\"im 50 pounds overweight so they say, but i really am too big, cute face, thick in the waist. im 55 and wear 3-4 in heels so when i went to the doctor and got on the scale i told the nurse this scale is wrong, its no way im 248lbs she said, you do not look 248lbs. i just started phentermine june 12th and ive already lost 6lbs, found a skirt on sale for $5.00 but could not button it 2 weeks ago and i tried it on today just to see if the pills made a difference and it zipped up and i buttoned it with no problems yippie  need lots of water, have lots of energy and my cravings have disappeared. i have to force myself and ive eaten half of what i normally eat. looking forward to getting this fat off, 45lbs to go!\"',\n",
              " '\"it made me crazy. i couldnt eat or sleep or sit still.\"',\n",
              " '\"was started taking atenolol 25. it worked well for 7 days. then i faced side effects. i have swollen right ankle, i came to know after 12 days its side effect of atenolol. worse drug ive ever experienced. im back to amlodipine &amp; its working well now.\"',\n",
              " '\"it definitely calmed my anxiety but left me drowsy. i took 25mg once a day for two weeks and was able to function somewhat normally despite the fatigue factor. after two weeks, for some reason, it began making me so tired that i was unable to function during the day. i tried halving and even quartering the amount, but it still left me unable to stay awake during the day. when i was awake, i was lethargic and depressed.\"',\n",
              " '\"this may be a little long so i hope you took your medicines today, lol. this is my 3rd month on adderall and it is absolutely a miracle drug for me. i have suffered with extreme fatigue and excessive sleepiness since i was a teenager, im 38 now. my doctors have tried me on everything from sleeping pills, to antidepressants, nothing worked. a friend suggested adderall, i researched it, talked to my doctor about it and we tried provigil first, which did help, but i was still falling asleep driving, reading, etc. switched to adderall. i was so happy i nearly cried when i was telling my doctor how much better i feel. i wish i would have tried this years ago.\"',\n",
              " '\"i get bronchitis annually and have previously been hospitalized for it, so i know my medicine. this stuff is pathetic. i initially thought i had been given the wrong medication! compared to this, otc syrups work better at suppressing cough and letting me sleep. i returned the bottle to the pharmacy. it has no use in my home.\"',\n",
              " '\"ive been taking bupropion 150mg. for about a 2 week now ive been calm relaxed yeah awesome. i had one time when i was just extremely emotional that was the second day of taking it and my doctor told me its ok if you breastfeed - it will not affect your child. in anyway i believe its doing really good on me even though i lost a lot of weight with and then two weeks and i could have a lot to do with my breast-feeding but i will tell you i think it does some magic\"',\n",
              " '\"i got my nexplanon put in april 16th. insertion was super easy and i hardly felt a thing. i had a pretty good bruise for about 3 days and then it went away. i was supposed to get my period 2 weeks after insertion but i didnt. about 2 weeks after that i started spotting and it hasnt stopped since. ive had a two weeks where i had heavier bleeding for my normal 5 day &quot;period&quot; so i figured thats when ill get my period but ive been bleeding every day in between then and its so annoying. thats the biggest downfall to the implant is that you dont know if youre going to be someone who gets prolonged bleeding or not and when you do get it its super frustrating. plus i feel like im in a bad mood all the time, im tired, &amp; no sex drive.\"',\n",
              " '\"used with percocet it was to cure pain associated with having kidney stones. took pain level down from severe to mild. well worth it.\"',\n",
              " '\"i was prescribed metronidazole, two pills a day for 7 days. and so far it has cured my bacterial infection. and i havent had any side effects and hopefully i wont. i have three days left of taking this medication. but i am afraid that i screwed up, i forgot to take my two pills one day and im hoping that this doesnt affect it clearing up the infection for good but overall i am really happy about this medication except for the horrible taste.\"',\n",
              " '\"i found it made a huge difference the first two weeks had some side effects (just felt really yuk!) but after that i was very happy if i am late taking a dose i really feel a difference.\"',\n",
              " '\"my son took miralax for days with no success. he hates suppositories so i gave him 1 dulcolax pill around 8pm per directions. i happened to look online and saw all these horrific reviews. i had a massive panic attack realizing what my son may be facing! seriously, i had to take a xanax thinking about the horrible pain he was about to experience because of me carelessly giving him this medicine. he is only 6 and small for his age and adults suffered incredibly from the same dosage he took. i made plans to be ready to take him to the hospital that night if he woke up in agony! lo and behold, 1 hour later he had a large bm without incident and slept peacefully all night. fine the next day. zero pain/side effects. what a relief for us both \"',\n",
              " '\"i took nuvigil for a little over a year. it changed my life. i have had chronic fatigue for 13 years and the nuvigil gave me the energy to live a normal life. i had a few side effects, but being awake was more important to me. occasionally i would sleep lightly or stay up until 2 am. the more noticeable side effect was the fogginess. i would often forget what i was doing, why i walked into the other room and i couldn%u2019t get words out quick enough. i always had the %u201cit%u2019s stuck at the tip of my tongue%u201d feeling when talking because i couldn%u2019t remember certain words. overall, i was very satisfied with this medicine and it was effective. once i lost my insurance i couldn%u2019t afford to take it anymore. $565 a month is a bit much.\"',\n",
              " '\"ive been on this pill for almost a year. the first nine months (three cycles) went by without any issues. i was put on it because i get sick every time i get my period and my cramps are terrible. half way through my eleventh month, i got my period, but i figured it was just spotting, so i continued to take the normal pill. almost six week later, im still bleeding, and ive felt faint the past few days. this is hell. im switching off of it next week.\"',\n",
              " '\"im 22 and i started this pill exactly a month ago. im about to start my 2nd pack this evening. i bled all month long and with the last 4 pills i didnt even spot or cramp. so i am a little concerned. i am definitely going to take a test before i start this new pack but other than the bleeding that has now stopped i have notice my skin is much better. i used to break out on my face chest and back and now its barely noticeable. i (reluctantly) got on the pill because of very painful ovairian cysts. i do feel pain here and there but nothing like i had before. when i was 16 i got on the nuvaring and was on that awful thing for 5 years. i got off it and lost 30 pounds!!!! and im a petite person. but other then the spotting i love it!!\"',\n",
              " '\"i first started phentermine 37.5 on 5-8-2015 lost 31lbs in two months took a break in aug and tried the hcg but failed i went back on phentermine after that on september 1 also i have been on the b-12 i dont get a lot of the energy effect on phentermine plus am clinically depressed so its difficult to just get things done so the b12 helps me a lot. i only worked out until my b12 shot was out of my system when i went to the doc yesterday i was down 8lbs making my loss 39lbs in 4 mnths minus the month i tried hcg\"',\n",
              " '\"ive tried several over the counter acne medications and washes, home made applications and nothing seemed to work. i saw a commercial on differin gel and literally told myself, &quot; sure, another acne med that claims to be effective &quot; i figured, i might as well give it try considering i was beginning to accept my terrible acne. i saw results in a week or so and so did my family n friends. i am almost 2 months in and my face is practically clear, even the dark acne scars vanished. i highly recommend differin gel to everyone that is suffering from mild to severe acne, i promise!! i always apply the gel after washing my face in the evening, applying the gel all over my face and jaw bone. good luck!\"',\n",
              " '\"i am on a 1mg dose of xanax on and off for about a year for imsonia, night panics and generalized anxienty. and i can say this is the best pill. worked great for me. it helps me feel calm allday and relaxed during the night so i can get the sleep i need. gives me energy during the day when i drink green tea early morning.\"',\n",
              " '\"as a disabled person on ss, i have both medicare and true blue. when the fibromyalgia is treated with 60 mg twice a day, the symptoms were phenomenally changed for the better. however, about 3x a year the insurance makes me cut back to one tablet daily. within a week my depression worsens and my pain intensifies. its a great drug and those who take it, really need it.\"',\n",
              " '\"this medication was prescribed to me by my psychiatrist for thr chronic pain i suffer from in my legs and lower back. he doesnt prescribe opiates in his scope of practice but still wanted to help me out. this drug takes awhile to kick in. its very unfortunate especially when you have pain that needs to be relieved asap. everytime i take this pill it makes me feel emotional and physically impaired as if i had a drink. it helps a bit for my restless legs but for pain it really doesnt do anything. it definitsly does not relieve anxiety or panic disorder. keep in mind i am still on a low dose of 200 mg per day but my pcp wanted to increase it to 300 mg three times a day, which i disagreed with. its not effective for pain and anxiety for me.\"',\n",
              " '\"i have been on this medicine for almost 3 months and must say it has a really big impact on my ms. i have improved. who improves when having this disease for 10 years. i have had side effects such as nausea, malaise, headache and gi problems but worth it for the benefits.\"',\n",
              " '\"i have had terrible anxiety driven depression my entire life. effexor is an amazing medication. i waited until i was in my late 30s to do something about my anxiety/depression because of the stigma and fear of taking anything that might make me go crazy (the anxiety talking). i was a fool to wait so long. none of my fears materialized. as soon as i started the medication i began to feel better and better. i was also prescribed kolozopin to act as a bridge to get through the anxiety until everything began to work and fall into place. do note wait hoping things will pass! i was convinced i was the worst case scenario and i got better. just do it and get treated\"',\n",
              " '\"i have had kyleena for 5 or 6 months now and i think its the greatest thing ever. the first month was rough the cramps were bad all the time and same with the bleeding. after the first month i still got cramps but not as bad as the first. i still get a period but it is extremely light. the reason i rated a 9/10 is the bad cramps i still sometimes get. i love having kyleena for birth control reasons because im still young and in college and not ready for a family. i have been with my boyfriend for many years but neither of us want to start a family yet. kyleena allows us the peace of mind to practice unprotected sex without the worry of becoming pregnant. if you can or want to get kyleena i 100% reccomend.\"',\n",
              " '\"after experiencing breast cancer twice in 5 years i suffer from anxiety on a daily basis. some days are very good and productive ,others not so good. i have tried many medications and work with an excellent doctor. my only relief comes from 1 mg of xanax spread out over the course of the day. thankfully my health prognosis is excellent,but the anxiety continues. i hope to be able to use it on an as needed basis someday. but for now im thankful for this medication.\"',\n",
              " '\"hi guys, so i had sex may 5th around 1:00am( unprotected) and he used the pull out method, guys its really dumb and the stress isnt worth it- use protection, precum can get you pregnant! i freaked out because i realized i was ovulating, and bought plan b about 15 hours later. i was in a rush and took it with soda (it doesnt effect it) i got my period right on time, but those 6 days were torture, use protection to save sleepless nights, dont over research because you will convince yourself youre pregnant, it works guys\"',\n",
              " '\"i recently had a heart attack on top of my cancer and at the hospital they gave me this medicine to help control my pain. before i had used it i was using oxycodone, but that had never truly worked to control my pain. dilaudid, while also not fully relieving the pain, did a much greater job. unfortunately they would not allow me to take it at home, so now i am suffering because i know what it feels like to have my pain managed and the oxycodone just isnt enough.\"',\n",
              " '\"started taking lisinopril last fall. since then i have experienced hives, itching non-stop, leg cramps at night and occasional blurred vision. i first thought the hives and itching were allergy associated and would just go away. just today i started researching the side effects of this medicine and tomorrow i will go to see my doctor to see about getting it changed. i went from 5mg - 10mg - 20mg in about 9 mos., blood pressure is doing ok with this medicine but the side effects are just too much.\"',\n",
              " '\"continuation from previous review  been on for 5 days and have had to force myself to eat so that i have energy. its been great. i have no cravings, and i dont want to eat every second of every day. i used to eat when i was bored and even now when im bored i still dont want too eat. its awesome.\"',\n",
              " '\"i started taking this medicine a little less than a month ago and it is amazing. i have lost 13 pounds so far! i personally do not exercise while taking this pill, and i still have seen amazing results. i eat every 2 hours, whether it be an apple, trail mix, smart pop popcorn etc. i drink water throughout the day, but i occasionally will drink a diet soda. the only negative side effects that i have experienced would be nausea, taste buds change and dizziness at times. weigh every week so you dont get discouraged, and keep in mind that results differ. good luck!\"',\n",
              " '\"i decided to take the nuvaring because im an insane freak on the pill. at first i did notice being moody, crying, along with some weird discharge or itching down there. but after a week the it subsided. my moods are now normal. i barely feel it inside. my boob size definitely has increased and my weight is still fine in fact the 5lbs i put on i definitely needed. its only the first month of use so i definitely have to wait and see how it goes but overall i do love it. i absolutely hated the pill and how it made me feel and the nuvaring is nothing like that.\"',\n",
              " '\"i have severe chronic insomnia associated with fm/cfs. i have been unable to fall asleep or stay asleep for nearly 10 years. tried many other medicines for sleep that didnt work or had unacceptable side effects. sonata served me well for 5 years. was taking 10 mg to get to sleep and then another 10mg to get back to sleep during the night. our health insurer changed and they will only pay for 1 pill per night. my health and quality of life has deteriorated.\"',\n",
              " '\"have only been using now for 1 full day, and have not notice much, i no longer have pain in my eye, not as watery but still red at the bottom of my bottom lid. will continue to use and see what happens!\"',\n",
              " '\"so i had bv and got the tday vaginal treatment which i ended tuesday 3/15/16 and shortly after developed a yeast infection. i visited the doctor today and took 15mg diflucan and felt better a few hours after. no burning or itching was ever present, i noticed a change in discharge and immediately got seen by a doctor. no side affects. i caught mine the day after i noticed a change.\"',\n",
              " '\"i have been taking requip for 5 years. it took it for several months to get used to it but have been doing well. i titrated up to 14 mgs per day but found that i became restless, agitated and somewhat obsessive. i backed off to 10 mgs and feel fine. levodopa/carbidopa was added 3 years ago to control painful dystonia. i have not had any episodes of falling asleep.\"',\n",
              " '\"horrendous stuff. foul smelling, stomach-churning, nausea-inducing, ugh. it made me feel i was on board a ship in a typhoon, retching hourly. i dont know how people take this. i will never take this again if i can be prescribed something else that works. i have some positive experience with the healing of the toenail but at what foul cost?\"',\n",
              " '\"had ulcerative colitis/crohns disease for 20+ years. was on sulfasalazine, taking prednisone for flare-ups. switched to lialda 3 years ago. it had fewer side effects, but did not control my condition. after 2 serious bouts of anemia (one hospitalization and 5 units of blood), my doctor decided on humira. that was 6 months ago. no side effects at first, but recently got a sinus infection (congestion, coughing, very sore throat). took prescribed antibiotics, but it wont go away. i felt better while taking the antibiotics, but the symptoms returned after they were done. hope this is not a sign of things to come! decreased ability to fight infections, right?\"',\n",
              " '\"i have been on rapaflo for 6 months. results are mixed: some nights im up only once and others several times. consuming liquids in the evening makes little difference. sexually, the only change is no ejaculation which is ok, i guess but not great. dr. recommends avodart but the side effects of that medicine are serious in my opinion: erectile dysfunction, swollen breasts, loss of sexual interest. not going there.\"',\n",
              " '\"i started using adipex on 11/7/09. i weighed in at 161lbs. i am going in to the 3rd week and have had an average weight loss of 4 lbs a week. i love this medication. i have always worked out and watched what i ate, but still had problems losing weight. it seems now in the 3rd week that i am not as energetic and the weight is coming off slower. i did have problems sleeping the first few days and dry mouth very bad. the worst side effect for me is acne  i have never had pimples on my face and since i have taken this drug, they are popping up everywhere. i think i will stop when this months supply is gone. i am hoping to lose 20 more lbs, but i dont expect it to all happen right now. i am very satisfied! i havent been this happy in years!\"',\n",
              " '\"i started out on a quarter of a 50 mg trazadone tablet every other night at bedtime. i did this for a week then increased to a quarter tab every night. after two nights of one quarter tablets i started waking with a stuffy nose and a headache. morning 3, i was in a full blown migraine and had to take zomig. i have attempted this exact process 4 times now with weeks in between (no trazadone) to make sure it is a side effect of the medicine. now, i am sure trazadone is causing the headaches and i never have taken more than 1/4.\"',\n",
              " '\"i am currently half way through my 3rd month. i was on the nuvaring which made my skin immaculate, but because it caused low libido i stopped. after 4 months being off of the ring, i started getting acne again. i finally decided to try birth control again to help with my skin issues and my doctor recommended junel. my skin has gotten way worse than it ever was. i am getting acne on my back and neck as well. \"',\n",
              " '\"i did take it without food and my stomach did not like the pain like gas high in the stomach and right side pain. given by the va.\"',\n",
              " '\"i begun using doxycyline in december of 2014, i have been struggling with acne since the fourth grade and something needed to be done. my acne got worse the first month but the second and third was a drastic improvement. it is now july and my skin has never looked so great.\"',\n",
              " '\"i was having all the conditions above, and was miserable for 3 days. i remembered a sample of this medication. i took one and was amazed when i awoke the next day with no symptoms at all. i was so amazed, i called my doctor to see if i could get a prescription for it. she saw me and gave me the prescription for it. it is a blessing for me as long as i take it twice a day. god bless!\"',\n",
              " '\"ive been feeling the symptoms of a uti for 2 days now (it burns when i urinate and theres been a hint of blood) and good thing i had stock of this at home (500mg) since i was already prescribed this for a uti once before. just took a dose and after an hour fortunately the burning when peeing cleared but feeling slightly nauseous, confused and heavy. but i can say this works wonders for my uti, worked for me before too!\"',\n",
              " '\"i have been getting iron treatments for a few years now they have been long and drawn out, up until now. i used to have to get 3 treatments a/week for 10-12 weeks which meant my days were short and i couldnt do anything else. then the iron would last for about 4-6 months then my count would go back down to 6.9 or 7.1 and i would start all over again. my doctor tried venofer this last time and i had 2 treatments, lasting 1 to 1 and1/2 hours each and i was done wow! what a difference. i just went for a check up and my count was 11.7, and my treatment was in september. normally, im preparing to start treatments again, because my count would be down to 9 by now. im truly impressed with this treatment.\"',\n",
              " '\"this medicine was prescribed to treat allergic rhinitis and i have had terrible leg spasms and leg pain. i have eaten potassium-rich foods and have stay led hydrated but the pain will no go away. i cannot sleep due to the leg pain. i will never take this medicine again unless it is for life saving measures.\"',\n",
              " '\"i tested positive for chlamydia and was prescribed two 500mg azithromycin to treat it. i read some of these reviews and was scared about taking it because i react badly to most antibiotics i have taken in my life. i would definitely recommend taking it early in the day on a day you dont have much to do. i was extremely nauseous and puked 2 times in the first two hours after taking it but it passed after i took a nap. about 5-6 hours later i had 2 loose stools. after that i was fine, i had some gas pains the next 2 days and i was really tired but other than that i had no bad symptoms. i also took a probiotic at the same time so that may be why. hopefully me and my boyfriend will both test negative come next test(:\"',\n",
              " '\"i love this birth control. not only is it an effective contraceptive, it helped my acne, i wasnt moody, and my sex drive was great. my periods were the normal four to five days so, if youre looking for something to shorten your periods, im not sure if this is the best for you. im currently on sprintec because my pharmacist recommended it as the generic, but i dont like it. i cant wait to be back on tri-previfem!\"',\n",
              " '\"this medicine has helped me far better than any of the other concoctions, and doesnt have as much of the weight gain problem. i am on 400 mg. my insurance hates that i take it and charges me $133 for it and its worth every penny. it stops many urges that come along with mania, but it does flatten you out--those of you that are bipolar know what im talking about. this medicine helps me get into actual rem sleep and there are no nightmares; and it keeps me calm all day long. i love it.\"',\n",
              " '\"i had my mirena put in yesterday and it made me almost scream during the procedure. i have never had kids so i assume that is why it hurt. since then i have only had cramping and have been taking it easy. if i could do it again i would have asked to be numbed. i havent really had any side effects besides nausea and slight bleeding. but for the most part my period stopped on the second day. i am hoping that i will be fine without the weight gain and acne.\"',\n",
              " '\"ketoacidosis without coma. a really wonderfully emergency room trip. the doc was called 2 times before emergency and was not worried. train the docs to look for problems. the stuff i read really seems to down play the danger. this drug will kill people but dont worry, do the math it will pay back before all of the deaths. a drug that almost killed me is totally effective. my blood sugar was reduced and i lost weight\"',\n",
              " '\"so much better than the creams.\"',\n",
              " '\"micardis has stabilized my blood pressure. i cant take the micardis with hct because i have had problems with my kidneys. i do feel less patient and irritable to my wife and kids.\"',\n",
              " '\"i havent taken birth control for about 10 yrs. i decided to start because my pms is severe at times. i started sprintec and about a day later i began to feel nauseous. i was sick for 3 solid weeks. i expected some changes considering i was disrupting my body system. after the nausea ended i felt amazing for a whole week, then it got really bad. i started getting irritable, i didnt want to be around my son or husband. i didnt want to work or do anything really. everything made me angry, then i started having feelings of hopelessness. thats when i stopped taking it. i have read that it works for some people, but it did not work for me. \"',\n",
              " '\"in all honesty, this pill is the answer. i love everything about it. i have been on it for three months now and i have had no symptoms what-so-ever. there has been no weight gain, and it has only slightly changed the size of my breasts. i have had no mood swings or nausea. in the three months i have been on it, i take it every morning at 6, and it works great. the package that it comes in is perfect, it is small, easy to read, and comes with a tiny discrete black cloth pocket to hold the pack in. perfect to throw in your purse if you are spending the night somewhere else. as well i have had no period, which was scary in the beginning, but my doctor assured me everything was fine and normal. i highly recommend this pill.\"',\n",
              " '\"i take effexor 2 x daily. if i dont take it then all i get done in a day is crying. it has worked very well for me.\"',\n",
              " '\"i have taken pretty much every type of medication for adhd. dextroamphetamine, by far, works best for me. while adderall contains dextroamphetamine, the l-amphetamine and it gives me very bad anxiety. dextroamphetamine helps me focus without causing extra anxiety, and i prefer the instant release, which allows me to fall asleep. ritalin caused anxiety even worse than adderall did. one thing i recommend is to take a day or two off every week or so. if not, your tolerance might build up and you might find the medication is not working. also, you need to learn to pay attention to your bodies other signals telling you went to eat. you probably will not feel hungry and your stomach. this does not mean you dont need food, however.\"',\n",
              " '\"i got the monistat 7 and got through 2 treatments before i stopped using it. the 1st treatment i slept through the night but woke up the next day super itchy and my back door was burning. i thought that the itching was from the medicine leaking all out. i wanted to put more in since the box says it is supposed to relieve itching but i waited. that night the itching was gone so i thought the medicine was working. boy was i wrong. used 2nd dose and woke up 3 hours later itchy, burning and needing to pee really bad. it hurt to pee, which hadnt happened for a couple of days. the itching and burning was so bad i couldnt fall back asleep. after 2 hours i looked up reviews, immediately washed it out and used an ice pack. caution anyone from using!\"',\n",
              " '\"this is the second type of birth control pill that ive been testing out. the first one that i was on gave me severe headaches practically everyday. luckily with aviane my headaches are gone. this is my 3rd month on aviane and its been okay. ive been having breakthrough bleeding and a few pimples here and there whenever i am about to start my period. also whenever i am about to start my period i get depressed and i get really bad cramps. i am most likely going to switch to a different pill. hopefully i find one thats right for me.\"',\n",
              " '\"i am a 34 yr old female. 55&quot;. started contrave with scale down program on march 3, 2016. starting weight 231. today june 21, 2016 weighing in at 189. starting pants size 18. today a size 10. i have pcos with insulin resistance. i cannot take the full dosage of 4 per day, as it is increasing protein in my urine. i only take 1 per day in the morning. i had no side effects when i started this medicine. i do not exercise only increased my daily activity. i use the my fitness pal app from underarmour. i try to get 10,000 steps per day and stay below 1200 calories per day. so far i am amazed with my progress and stunned that i have made it this far with only one pill per day. i would definitely recommend.\"',\n",
              " '\"i was put on this drug for a pulmonary embolism. i had terrible reactions to this drug! fever, chills, sweating profusely, nausea, loss of appetite, aches in arms and legs, trouble sleeping, headaches, chest pain, upper back pain, extreme thirst and dry mouth. i ended back in emergency for 5 days because my triponin levels were elevated and they were worried about my heart. i would not use this drug again. i switched to enoxaparin after 9 days and was feeling much better, and the side effects went away.\"',\n",
              " '\"bystolic saved my lifei had atrial fib which was out of control. metoprolol another beta blockers and one calcium blocker didnt get me below 100 with my atrial fib. plus they had horrible side effects, depression on metoprolol. bystolic has me at 70 pulse with no mental health side effects at all. no anxiety or depression. i sleep better (although i nap still) . a miracle drug. insurance company tried for years not to pay, saying it was for high blood pressure only and i didnt have that. i could go back to work for gods sakes. im just glad i can afford it.\"',\n",
              " '\"in response to rick. i started humira had good results. then needed to come off it because i injured tendons in my foot. when i restarted humira, i have not achieved the same results. my joints are red, swelled, and remain in a lot of pain.\"',\n",
              " '\"i had possible strep throat. first day i took it my fever rose to over 102. i was shaking, chills, rash. my blood pressure (and i have high blood pressure) was 100/55 and my pulse was 50, i was not feeling well at all. i called doctor next morning and he switched me to amoxicillin. i hope it works better. now i have a under the skin rash all over and am itching. guess i am allergic to this one.\"',\n",
              " '\"just recently started taking. about 2 weeks now. im beginning to have some side effects, but,in general it has clear up some of the stomach drama except the nausea . i dont like being sleepy all the time but i feel better but not 100%\"',\n",
              " '\"ive had nexplanon in for a year now and absolutely love it! getting it in was tolerable, just a small shot of lidocaine to numb it and the rest i didnt feel at all. after about 4 days my period started and lasted about two weeks but after that i havent even spotted once. seriously, no period for a whole year is amazing. i havent had one pregnancy scare and my long term boyfriend and i use no other form of protection. my boobs have gone from a 36b to a 36d though, but thats not a bad thing! my mood is finally normal which is unusual for me on birth control, and my skin hasnot gotten any worse at all, if anything its gotten a little better! i love nexplanon! i should be the spokesperson!\"',\n",
              " '\"i got the implant may 2014. i didnt have a period until jan, which last 3 weeks. now end of may 2015 im on a second period entering the second week. its been working great thus far. i only gained 5 pounds while on it. white heads on my face, on my chin specifically have increased :( . the only other issue i have is my arm itches where the implant is at times.\"',\n",
              " '\"this is like my 5th review and still no complaints. i started taking phentermine 30 mg on 2/1/14 with a start weight of 215lbs. 12 weeks later on 4/26/14 i weighed 182.5lbs (32.5 lb loss). then i got off of it for a week because i felt i had built up a tolerance. i did eat some extra carbs during this week and worked out but i remained the same weight. then on 5/3/14 i got back on it (so this is my first week back on) after only 5 days ive dropped to 177lbs. thats 38 lbs in almost 14 weeks! i think cycling off of it was very beneficial and i might even cycle off after shorter periods of 3-4 weeks on and 1 week off. i havent had any side effects and im still very pleased with my progress.\"',\n",
              " '\"this seems to work for me, at least the nerve pain in my legs, it controls the racing, shooting pains but does not help the muscle pain or spasms at all. at least when i take it i can sit down without shaking or moving my legs. every little bit helps.\"',\n",
              " '\"has anyone taking dilantin ever experienced nipple tenderness? i have only been taking it for a month at 200mg qhs. all of the sudden a few days ago both nipples started to increase in tenderness and i have not ever experienced this. i am a 31 year old female with multiple diagnosis and was just hoping for someone to talk to. thanks.\"',\n",
              " '\"i caught a bad sinus infection/ congestion. the worst i have ever had in 33 years. i have used vicks nasal spray before but it has been many years. i went to the local pharmacy and picked some up. i used one spray in each nostril and no longer then one minute later i could breath again works amazingly i give it a 9 cause it does burn a little \"',\n",
              " '\"this medication does work great. however, the side effects are no fun. it cause weight gain, mood swings, and a host of other side effects. if the bad side effects were not there, i would definitely stay on this medication, because it helps so much with the pain and all of the other medical conditions that lupus can cause.\"',\n",
              " '\"honestly ive used this and its the 0.05% one i believe and ive been using it daily its really cleared up my acne like a lot at first i had a big break out and then i used this and once i started it the first few weeks it got worse and until 2 months later of using this its gotten so much better but the only thing is that my acne scars &quot;post hyperpigmentation&quot; is taking for ever to go away \"',\n",
              " '\"i am on my 6th week. my pharmacy changed me from gildess and before it was junel. i saw my pcp yesterday and was in tears (which is also strange that i can cry on a dime) and feared that my ra meds are killing my stomach and i was going to have to stop treatment due to the side effects. i have tried 2 different ra meds and continued to get sick. my pcp asked me about my bcps and if there were any changes. a light went off. yes! i am on my 6th week now. my hormones are wacked, i am irritable, and my stomach is in knots every day. i have been taking nausea medication almost daily. my system is a mess between not being able to go to the restroom or going too much. i am calling my mail order pharmacy and my gyn. i must change rx.\"',\n",
              " '\"im a 31 year old male who has been on axiron for a month. i noticed i was feeling tired and moody, but had no sexual side effects. i had my doc check my t levels and it came back at 179. he sent me to a urologist who checked my t levels again and it had dropped 10 points in 2 weeks to 169. he started me on axiron with 2 pumps under each arm. this made me feel like i was going to come out of my skin, much like how ephedrine makes you feel. i called my doc and he said to go to 1 pump under each arm. that seemed to work fine with no side effects. after 2 or 3 days my energy levels and mood had improved. i went back to the doc after 2 weeks on axiron to get my t level checked and it was at 1300! i go back in 3 months to get checked again.\"',\n",
              " '\"well this medication improved my mood related to possible social anxiety but on the 3 day of taking i had some psychosis related side effects in aggravation then started to get very hyper but depressed bad experience\"',\n",
              " '\"i first started depo-provera due to irregular and heavy menstruation. the first month was the worst, with several side effects that did go away after the second shot. i had severe breast tenderness, with some lymph node swelling, mood swings, and constant spotting for the first month. after the inital shot, i never had a period again, barely any spotting, and felt well. i did go off the shot for a while and now i am on it again. i am having no side effects except for the initial moodiness and decrease interest in sex. but i would still recommend this product for someone! no periods - sign me up.\"',\n",
              " '\"ive been using mirvaso since it came out. it really helps me. i use a small amount and usually mix it with moisturizer or metrogel before applying it\"',\n",
              " '\"i am using dexelant over 5 years and i keep taking every day its help me a lot i was very bad to much heartburn so sick of it but thanks to dexelant for helping me so much\"',\n",
              " '\"i have had gerd and gerd like issues since the age of 12. i have been put on every medication available on the market only to have them stop working after a few short years. finally, about 10-15 years ago i started taking aciphex - no side effects, no resistance  no problems at all. my one and only issue is the cost. i have tried every generic and over the counter (supposedly) &quot;equivalent&quot; with no success. \"',\n",
              " '\"i did the study for this drug all 3 phases and have been on it since 2015 and never dreamed it would actually work. works amazing i had to stop for the transition once the fda approved this and omg i wake up all hours of the night itching i get hot and itch. i am finally taking it again i cant imagine my life without this stuff\"',\n",
              " '\"i love this product!!! i put it in around 12pm today and now its 11pm the same day and i feel so so sooo much better!! the itch was bearable. the burning was only there when i sat down. i am having a lot of discharge but its totally unnoticeable! i would use this product again for sure. i recommend this 100%\"',\n",
              " '\"completely eradicated vagotinic atrial fibrillation. no side effects. i am a healthy, athletic, active male who has been diagnosed with lone vagotinic af. i initially tried the &quot;pill in the pocket&quot; approach. i was so good at predicting my occurrences, i coordinated with my doctor to use as prophylactic medication. i still have occasional pvcs, but they are less frequent. so far a smashing success. key point: talk with a cardiologist before embarking an any treatment!\"',\n",
              " '\"i had this in for 3 years as it worked as a contreceptive it was affective. i had no periods for 3 years. i wanted the implant taken out but i had to wait 12 months. side effects were sweating problems and loss of sex drive. once i had it taken out i felt emotional for a few days, had a period and felt human again.\"',\n",
              " '\"unfortunately, this birth control pill gave me the worst headaches! i think i had at least 2 per week. some were migraines. i was also more emotional but the headaches were the reason i stopped using this. no weight gain or acne.\"',\n",
              " '\"i had terrible anxiety and fear of flying  each 1 hour flight to europe was a major battle i would down brandy to cope. but i knew i would not be able to cope and needed professional help for the 24 hour flight to australia   i was proscribed propranolol 40 mg &amp; did not think they would work, however i was amazed   i was dead calm through out the flight and never had any of the crippling anxiety or panic attacks that had been devastating my life for the previous two years   i am amazed by this medicine   thankyou to the manufacturer \"',\n",
              " '\"i have been using phenergan to treat nausea for years. i have frequent and severe nausea associated with abdominal pain. it has been over three years and i am yet to get a diagnosis. i am grateful for this medicine. it is the only thing that stops the nausea. i would be crazy without this medicine! i was given phenergan in the er after i had a bad reaction to zofran. it worked so well i asked the doctor to send me home with a prescription for it. at my last er visit they told me they were out of phenergan and that it was in short supply. i was given bentyl instead. that also gave me a bad reaction. i do without nausea medicine in the hospital if they do not have phenergan.\"',\n",
              " '\"drug relieves shortness of breath better than anything prescription, but the device to deliver is junk also for some reason i also cough up blood. i wish i knew why. this is only time i see blood. worried since old inhaler with same medication did not do this.\"',\n",
              " '\"was prescribed cefdinir 300mg twice daily for 10 days for a sinus infection. i was having sinus headaches and mild fever prior, so at first i did not realize that the headache was from cefdinir now, and not from sinus issues. after first 5 days, severe diarrhea developed, and headaches and nausea continued. but it did seemingly clear whatever was happening in the sinuses. i am on day 6. if headaches and stomach issues dont stop, will have to stop at day 7 and see if need another antibiotic or done. its a very rough drug, and reading all the long term possible effects is a bit scary.\"',\n",
              " '\"i took this to help with period cramps and it did not help. it also made me extremely moody. \"',\n",
              " '\"no side effects after 2 weeks, and i have been taking i a day.\"',\n",
              " '\"i have finished my first pack and started on my second pack. i absolutely love this birth control. i have had no extra weight gain (im a steady 120), i have had no acne break outs, i havent spotted and my periods are light. i was so nervous to try it, but im glad i did. like they say it all depends how it interacts with your body, so try it for yourself.\"',\n",
              " '\"hi this is my second time on orlistat the first time i carried on eating all the usal rubbish and the side affects were horrendice!!! so i came of them i decided to give them another try. i stoped snacking and have stuck to low fat diet just brekfast lunch and dinner its been a week today and ive lost 10 pounds!!!!!!!!!!!!!!!!! i hope i can keep going. good luck x\"',\n",
              " '\"i just wanted to post my experience with lexapro. i have been on it for about four weeks and it has changed my life for the best. before i got prescribed this medicine i was going to bed crying and waking up crying. couldnt keep up with my mother duties cause i was scared i was going to die and was having horrible panic attacks. i have not had any panic attacks since the end of the first week and i have not had the nausea feeling since week three, so i am doing way better. didnt really have any other side effects from the medicine. i cant wait to i see my doctor so i can thank her for saving me from anxiety and depression.\"',\n",
              " '\"i had horrendous insomnia due to a medication. i would get 2 hrs. sleep and then be wide eyed and wide awake. never even yawned or wanted to sleep. the medication that did this is guanfacine, an older blood pressure medication. i am on 7 different meds to attempt to get my b/p down near the normal range. this medication works for me but to the detriment of my sleep. i tried everything from over the counter sleep meds to ambient. the last two worked but i didnt want to become dependent on them. i finally tried melatonin. even though the research shows that there is no significant difference in placebo and melatonin, i found it to work. it takes a large amt. (12g) and about a week or two, then it begins to work. yes!\"',\n",
              " '\"ive been on generess fe now for over two years, and i am switching to a different birth control. the main reason im switching is because my sex drive is virtually non-existent, and my dr. said that is because the generess levels you out (because it is super low in estrogen), so you dont get the &quot;highs&quot; you would get with some other bc pills or without bc. also, it is not covered by most insurance because it is a chewable (ive paid about $25/mo, which is not as fun as free). and i feel like it gives me uncontrollable breakouts -- i also looked into this and a lack of estrogen causes your skin to produce more oil, which causes breakouts. on the plus side, i havent had a period in over a year! time to switch for me.\"',\n",
              " '\"right after taking macrobid for my urinary tract infection i started feeling sick and really tired. when i went to lay down i had vomiting. macrobid works but the side effects are terrible.\"',\n",
              " '\"i was put onto trazadone (started on 50mg then 100mg after 2 weeks) after having 3 months of citralopram which was not working for me. the trazadone has 100% helped my sleeping as i was only sleeping 1-2 hours per night. as for my depression it seems to helped so far, im still having episodes lasting 2 days to a week however these are a lot less frequent. trazadone has helped my anxiety however i do still suffer from bouts of anxiety at least once a week (again better than before the trazadone). personally i think that trazadone is great for treating sleeping problems, anxiety and depression and hopefully i will see even better results the longer i take it for.\"',\n",
              " '\"i started out with 20 mg of saphris but stayed groggy. went down to 10 mg and have been on it for 6 months. i also take a sleep aid at night and now i sleep 6-7 hrs compared to 3-4. no running thoughts in my head. the longest time i have ever stayed out of the hospital in 12 years. i feel wonderful, when i start getting anxious, i take a 5 mg with my xanax and i am good to go. downside: gained 50 pds and cholesterol is through the roof, even though i do not eat red meat. always have the munchies though. had to start on a statin medicine. blood sugar is higher than usual but within range. keeping an eye out on this too. but this is the only medicine that has worked for me without being a zombie or continued mixed episodes.\"',\n",
              " '\"ive been on trt for 10 years, was managed well initially with injections, saw a new md who switched me to testopel. i have not had a great response, i am on maximal dosage 2 compounded pellets added. the levels of free t i achieve are only good for about a month to month and a half post implant. it has been a year since starting them, i do not like them and will request to return to injections. this is just my experience, i understand it works well for many others. my t levels total when diagnosed was 54 ng/dl. i have crashed multiple times going below 90 twice.\"',\n",
              " '\"excellent for dealing with anxiety induced panic attacks, helped regulate mood swings, and really helped with sleep. however, tolerance builds up quickly and addiction is a serious concern. as such, it helped only as a short term solution to bridge the gap into a more stable regiment of medication.\"',\n",
              " '\"gabapentin helps a lot with my fibromyalgia pain, although i find that i have to keep taking higher and higher doses to have the same effect. i also have had some weight gain, which i hate. i dont know which is better, being chubby or feeling better. for now im going to say with it.\"',\n",
              " '\"ive used this for more than a year. my acne situation has not gotten better. its a whole lot worse, with my skin also being constantly red and oily as well.\"',\n",
              " '\"since i work at an ob-gyn office, im somewhat of a birth control connoisseur. i was on nuvaring for 2 years. i didnt experience any weight gain and it gave me a regular period, my partner and i never experienced any discomfort from it, and it was definitely an improvement from the &quot;crazy moodiness&quot; i had on the depo shot. also, i loved the convenience of inserting nuvaring only once a month. the only downside was that i had absolutely no sex drive. as in, i never even thought about sex any more. if it werent for the 100% change in sex drive (and the fact theres no generic yet), id go back on nuvaring in a heartbeat.\"',\n",
              " '\"i was hesitant to take an anti-depresssant because i thought i should be able to handle my emotions without help. now i wonder why on earth i waited so long! ive been taking citalopram for a little over a month now and it has changed my life for the better. no more suicidal thoughts. no more bone-crushing fatigue. ive reconnected with friends. i am out doing things and having fun. it feels like a miracle to wake up every morning and feel good about life instead of opening my eyes first thing and thinking, &quot;my life is over. i have nothing left to live for.&quot; i had some mild side effects for the first week but i also had immediate relief from my depression and negativity the first week. all of the side effects are gone now.\"',\n",
              " '\"it helps to knock out the pain and reduce the tension in the head and eyes associated with migraine, but it appears to be somewhat of a controlled substance, or at least one that theyre wary of, so im not sure what else i can do to be migraine free. ive tried botox twice. i now know that does not work for me. i tried effexor as a prophylactic. not working. this is hormone related so theres not a heck of a lot i can do here - but just keep asking for more pills. not ideal, but worn out. my eyeball hurts right now just looking at this screen.\"',\n",
              " '\"pain would cease within 15 minutes.\"',\n",
              " '\"was put on amitryptyline (25 mg) to control tinnitus, had no effect on my pre-existing hyperhidrosis, which actually became worse while on the medication. did not work at all for me.\"',\n",
              " '\"started champix on 23rd april, by day 5 i did not like the taste of cigarettes, but persevered (you know how we do)  my husband smoked too and i hated the smell of his breath. by day 10 i could smell my own breath and have given up on day 12, this is my second day smoke free and it is easier than i thought it would be, of course there are cravings but i am managing them. side effects ive experienced are slight nausea but it passes quickly, terrible flatulance ! and some very vivid dreams, slight headache today but i think thats the nicotine withdrawal. definitely worth a go.\"',\n",
              " '\"ive been on saxenda for 1 week so far @ 0.6mg. ive lost 4lbs. ive had no side effects, only thing i can say is that my mouth is dry and im thirsty more than usual. otherwise no side effects, i take the injection around 7pm-9pm. last night i just upped the dose to 1.2mg and im more thirsty so i just carry a large water bottle with me now.\"',\n",
              " '\"i have been suffering with anxiety and depression and my dr. prescribe prozac but i dislike it. i took for a week and i have suicidal thoughts. so she prescribe me pristic i took it the first day i have jitters and feel so dehydrate. the second day i have loss appetite and also still dehydrate i was still drinking a lot of water. third day same think as the second but no suicidal thoughts. just the seven day i felt so sad i dont know if it is because i mix it with my birth control pills. i am still waiting on my next appointment with my dr. and ask her but i am happy i lost five pounds. the dr. said my loss of appetite was ok , her concern were more on suicidal thoughts.\"',\n",
              " '\"i just had the mirena inserted and although there were about two 30second moments of intense cramping it wasnt that painful at all. i think there are a lot of misleading experiences on the web. just remember that those who have had a very bad experience with a product are more likely to report it. experiences are different for everyone. there will be a feeling of having pms cramps for awhile afterwards, so a heating pad + aleve has been my best friends, and it is really manageable. plus it is good for 5 years! i am very pleased with this. i had to change because i developed a deep vein thrombosis on a long flight and was no longer allowed to take estrogen. i liked the pill too though, except for that experience.\"',\n",
              " '\"have been on cymbalta for 4 days  my pain was severe--doctor put me on methotraxate and cymbalta, and ultram. i feel fairly good today the pain in my arms went from a 10 to a 3. i will continue it for 8 days, then i see dr. again. so, maybe this one will work. i also have the itchy body and a little dizzy, no sickness today.\"',\n",
              " '\"i have been taking effexor xr for about 3 years now. while i still suffer panic attacks and suffer symptoms like rapid heart palpitations, poor blood circulation in the fingers, excessive sweating of the hands, and hyperventilation, i do find the medication limits these experiences. this medication hasnt solved all my problems, but it has been incredibly beneficial in helping me advance my career and has aided my social life.\"',\n",
              " '\"i had l4 minimal evasive surgery on a tuesday, went home wednesday and wednesday night my sciatica was killing me which was what the surgery was to correct. called the dr on friday and was prescribed to take all the 1st days dosage at once and to continue to with regular dosage. my saturday evening i was feeling 90% better, by monday i was still doing well with a bit of an ache. my biggest issue was no sleep. i was awake until 3 and 4 am during those days. i will trade the not sleeping for the reduced pain.\"',\n",
              " '\"diphenhydramine is an extremely effective sleep aid. it takes half an hour or less for 25 mg to knock me out. the biggest problem i have with diphenhydramine is that it makes me feel kinda groggy and nauseous the next day. i feel like im walking around in some weird twilight and food just doesnt taste good to me. still, out of the three sleeping pills ive tried, diphenhydramine is by far the most effective. ambien made me feel like i was on a roller coaster and melatonin mainly makes me fall asleep a little faster.\"',\n",
              " '\"have had leg/hip pain for over a year now. my doctor finally put me on oxycontin, and it works fantastic, however, i am concerned about the problem of becoming dependent on this medication. this should not be a long term medication. \"',\n",
              " '\"i have been on lexapro for about 6 months. i started on 5mg then 10mg then 15mg which is what i am on now. for the first few weeks it lowered my mood but now i am a whole new person and it was completely worth it. i am so focused on work, enjoy socializing so much more now, appreciate music, it has really lifted my mood from a 4/10 to a 10/10. i still have bad days every now and then but nothing compared to before. my social anxiety has also almost completely gone and people at work comment on how confident i am. i started my job after about 6 weeks of taking it so they never knew me before. i think its really good how it has made me so focused and goal motivated too at work and in life, i am really happy i started this medication.\"',\n",
              " '\"i have had fibromyalgia for about 8 years also develop osteoarthritis in my feet hands neck and back. just weaning myself out of prednisone and my pains are returning. have decided today i will stay on prednisone and keep the dose at ten mg. quality of life is more important to me. just to be able to move without stiffness is a relief! i am careful what i eat, very low sugar intake and moderate exercise has helped keep my body weight normal. (besides other inflammatory drugs are known to contribute to heart attacks). i know someone who have been on cortisone for many years and she is not overweight and has not got osteoporosis. she manages her doses her self carefully she is now 80 years old. if she can do it i can do it too\"',\n",
              " '\"avandia had some side effects with me that the doctors thought was cancer. they insisted it could not be the medicine but after over a year of multiple scans biopsies and bone marrow tests, i chose to quit taking the medicine on my own. my blood sugar skyrocketed but my immune system started working again. i havent had to go to the hospital since. \"',\n",
              " '\"after battling head lice for 6 months and spending hundreds of dollars and countless painful, tear filled hours, i finally was at my wits end and went to my doctor in tears. we are clean people but somehow we get rid of these awful bugs and then surprise, they are back. my doctor prescribed this medicine and i was very hesitant because i could not find any information regarding the treatment used for head lice but within 24 hrs of taking this medicine the lice bugs are just falling out and the nits will easily comb out. this is the worst thing that my 11 yr old has ever been through and i just hope it works. will continue to let you know.\"',\n",
              " '\"my doctor prescribed me this for muscle spasms in my neck and through my right shoulder/arm. and by the time i was able to take it - -the spasms had quit on their own. i never threw out the meds and recently my spasms started back up again -which they do on occasion. my spasms are severe - - literally preventing me from being functional for upwards of 3 days. robaxin actually works and releases a lot of the stress and pain from my spasms. only downside is it takes upwards of an hour and a half or longer for me to feel the effects. zero noticeable side-effects besides some mild drowsiness, which is no biggy. helps me sleep at night through the pain. id recommend this medicine.\"',\n",
              " '\"25 year old caucasian female. i got it in october; healthy weight, normal blood pressure, not on any medication. i have a history of anxiety, but it was under control. had cramping, painful breasts an irregular bleeding for weeks but i wanted to tough it out. however, around 4 months after insertion i began to have severe anxiety. this spiraled into very high blood pressure, severe heart palpitations, chest tightness, severe panic attacks, severe depression, severe brain fog, joint pain and headaches. i got referrals to a cardiologist and mirena was dismissed as the reason. after reading reviews i demanded the doctor remove it. it has been 6 days and i see a significant improvement in all of the above -- hopefully positive trend continues\"',\n",
              " '\"was prescribed robaxin for muscle spasm after vicodin failed to help. although the robaxin eliminated the muscle spasms i had nausea, lack of appetite, and insomnia.\"',\n",
              " '\"i am being weened off vicodin ( for ra joint stiffness and pain) by my &quot;pain doctor&quot; because i consume alcohol and it shows in my urine sample.so now i am not allowed my 10 year perfect solution for my ra/osteoarthritis joint pain with my 7.5/325 tablets prescribed 3x/day.i take one at 5:30 am before i walk 4.5 miles 6 days a week-its like oiling my my joints.i often dont take the others during the day.but i know i have them for backup.so, he prescribed this chlorzoxazone at 500mg.the first morning i took it, after my walk i had to sit down and couldnt get up for 4 hours;i was confused,like a zombie,and wasnt normal til 5pm.the healthcare system is wrong, and i am another victim.\"',\n",
              " '\"it is a miracle drug! after about 2 months my stools were becoming well formed but not back to the usual stool! i only go once a day and it really is amazing! although the risks seem huge i just look at it as though without imuran i could be a lot worse!\"',\n",
              " '\"wish my parents would have figured this out for me when i was in school. i found out vyvanse really helps me with my attention problems (focusing mainly). i have been taking vyvanse for 1 year now and im 43. my daughter who has had attention with focusing since 2nd grade struggled all the way through high school with no medicine to help. she started college 1 year ago (when we both started taking vyvanse) and she now is enjoying college with excellent grades even winning awards for student of the quarter and being selected for some honor club! oh by the way in high school she was making c,d and fs and dropped out her senior year but did get her ged. she says she never new she was smart but now realizes she just couldnt pay attention.\"',\n",
              " '\"i have been on escitalopram for 10 years, i am in full blown menopause, and my anxiety and depression has increased, the doc has put me on sertraline 50mg, im on day 4 and feel sick and keep having bouts of tearfulness, just wandering how long it has took for this to pass, i hate having this all over again\"',\n",
              " '\"i honestly dont know how many stars to give this medication as much as ive never had such an experience. i was in a coma light sleep when my therapist came, i heard myself say &quot;we need to go to the airport&quot; when actually i never said anything at all. i felt drunk waking up, started losing my hearing, it got cloudy. i only took it a month but being in that state of mind frightened me.i gave it up and my hearing is mostly back about 98 percent but my balance and coordination still suffers from the medication but has improved since i stopped it. i was so upset that i called the fda and reported my experience, i would hate for anyone to go through that.on the plus side? when i was awake and aware and not &quot;drunk&quot; it did help my manic episodes.\"',\n",
              " '\"this is the only medicine that totally helps me. i seldom have to take alprazolam or valium with the effexor. i tried switching to cymbalta for nerve pain what a mistake. i am back on effexor. \"',\n",
              " '\"ive been taking 15 mg of mirtapazine and 10 mg of zolpidem about 2 hrs before bedtime for over 6 years. i rarely have the vivid nightmares and generally get about 6 hours of good sleep followed by an hour or two of drowsiness. before i was on this regimen, i was lucky to have 3 hours of sleep, so i am pretty happy with it.\"',\n",
              " '\"i am married and just 2 months ago had a baby girl. i wanted a way to wait a good amount of time without being worried about taking a pill or getting pregnant. when i had this done i took 2 tylonol before i went in and it did not hurt one bit. i went when i was on my period so this way my cervix would be slightly opened. all ive experience is a bit of cramps and some back pain. my period stop right when it was put in, i was amazed. i love this type of birth control and my husband doesnt feel it so its perfect.\"',\n",
              " '\"i have major depression. also i have a spinal fusion.i have tried many depression drugs. i also suffer from a sleep disorder that makes me sleep through a lot of the day. with pristiq i definitely feel better in the morning and that was the worst time of day for me. i am still suffering from excessive sleepiness during the day. i have been on pristiq for about three months now. so far its been pretty good. i would recommend it, but it is not a miracle drug for me. i still have depression.i was hoping for a bigger difference.\"',\n",
              " '\"i got on this med due to breakthrough bleeding and periods on my last med(ortho-try-cylen) . so far ive had no issues with bleeding. but ive been nauseous every time i take it with a headache almost daily, more depressed and anxious, i feel angry a lot of the time, and my sex drive is almost completely gone. i get shooting pains through my right ovary and recently took a trip to the er due to unbearable tearing pains in my ovaries. needless to say im not going to continue this med. maybe its just me but i wouldnt suggest this one if you dont want to vomit almost daily.\"',\n",
              " '\"ive got strep throat probably about 4 times in the last 12 months, ive usually got amoxicillin for strep (what my dr always prescribes) a couple months ago when i got strep throat, i went to my dr and it was after hours so i seen someone i never seen before. she gave me a steroid shot for swelling and also a antibiotic shot, prescribed cefdinir two times daily for ten days. it worked great! i felt better after two pills the first night. well i got it again a few days ago and was prescribed cefdinir again and im so glad because it works super fast! better than amoxicillin in my opinion. the only side affect is diarrhea. i havent really had it this time but i did the first time i took it. love this medicine. i recommend it.\"',\n",
              " '\"tried several consecutive doses of guaifenesin syrup as an expectorant in the later stages of a cold. it may have lessened coughing slightly for a couple of hours after each dose (hard to tell). definitely no detectable effect on the amount or consistency of the mucus i coughed up. but the syrup does taste very much like medicine, so the placebo effect is great!\"',\n",
              " '\"i am on my 9th day today , and only quit smoking yesterday, was on 2 for the past 3 days before my quit day (to be completely honest , unless it was social pressure i wouldnt even had them ). i woke up today excited about life. my sense are going through a new phase as well, i can finally enjoy the taste of my food and smell the wet grass in the park. its all new for me but i am just loving it , and since champix is blocking all your cravings you start wondering why didnt i do this earlier? there are side effects for sure, its completely worth it. i realized that the side effects that i had are the same ones when i tried to quit not using champix, i did have terrible dreams back then , and would wake up sweating.\"',\n",
              " '\"this birth control is the best. no weight gain it makes my breasts a lot fuller and no bad side effects. i would recommend it to everyone out there. just make sure you eat right when you are on it, meaning healthy and plenty of fluids.\"',\n",
              " '\"this medicine was effective in curing a uti during pregnancy but it was also effective as causing upset stomach and vomiting. i am allergic to penicillin and had no allergic reactions to keflex but it did cause me to feel very ill by the second pill of the day. i took this medicine 3x a day for 8 days and by the second day, i knew we would have stomach issues. i took plenty of probiotics but its just a very powerful medicine.\"',\n",
              " '\"works well on me and my children. i have found it works in a few days. i have used it for chest infections and middle ear, and had great results with all my family.\"',\n",
              " '\"my daughter had a tbi and used to for muscle spasm .she had previously received botox injections for several years which became ineffective due to her body building up antibodies to it. she has received several injections of myobloc which were very positive in helping with contractions in her limbs.it increased her mobility and helped her use her arms and hands. myobloc improved her quality of life and function with her adls. myobloc peaks with in a day of injection and wanes throughout several weeks. she has not had adverse side effects. receiving insurance coverage for myobloc took an enormous amount of effort and perseverance on both my part and the doctors.\"',\n",
              " '\"started otezla 7 days ago, i usually tolerate new drugs well but this was different, the nausea was the worst on the first three days but i think my body is starting to adjust. i have spent the last week in bed but im starting to see my plaque starting to clear . i will update in a week hopefully my body will be fully adjusted to otezla\"',\n",
              " '\"ive been on contrave for a month. i see no difference in my appetite and im having no side effects. ive lost nothing. i am so sad! i really need this to work.\"',\n",
              " '\"works but i have the lining of the patch still and it looks like a scar! its been 3 weeks and it still hasnt gone away!\"',\n",
              " '\"obviously, i only relate my personal experience, but this medication has been miraculously helpful on more than one occasion when nothing else made any significant difference!\"',\n",
              " '\"fantastic experience. 9 months on seasonique and never had breakthrough bleeding. slight appetite increase, but no acne or crazy mood swings. my last 2 birth control pills gave me insane mood swings. my fiance is thrilled with my choice in seasonique.\"',\n",
              " '\"lost my virginity on the 28 of november at 6:30pm and didnt use protection (stupid i know) he said he didnt cum but i was worried of pre cum. took the pill on the 29 8:30pm (about 26 hrs after sex) and i didnt have any side effects just a little tired. my last period started on nov.9 and after 11 long dreadful days my period came on dec.9. happiest day of my life. learned my lesson for sure.\"',\n",
              " '\"omg! why did it take this long (15-20) years for a doctor to prescribe this amazing medicine! i am on day 3 days, wait almost a week!, without a valium or zanax and i feel great! its like the devil has left me from being a slave to my benzos. driving around on a sunday night trying to get a too soon script filled by saying i have no health insurance. it doesnt work! i feel so amazing! i do have a script for valium but i dont even want to fill it (im due ), but i dont freaking need it! im so happy! i just want to know why i only received 10pills? he also prescribed me clonidine .1mg 4 times a day and gabapentin 300mg twice a day. i am being compliant but librium is a benzo! am i going to have benzo withdrawal when i dont take librium?\"',\n",
              " '\"i had taken adderal for years. 90mg daily. it was suggested by my psychiatrist to start taking the vyvanse. i have really noticed a decrease in my energy level, and sometimes i struggle with motivation issues. i take 70mg daily. i sometimes have to check to make sure that i did remember to take it that day.\"',\n",
              " '\"my psych suggested using trazodone (50mg) for my insomnia issues along with my antidepressant prozac (20 then 40mg) the first night i took it i couldnt get to sleep for a few hours but once i was sleep i was knocked out. when i woke up i was groggy all day. so i didnt take it the next night. then the night after that i tried it again and i slept like a baby that night and the next two nights after that. my only issue with it is my dreams are very vivid and are on the nightmare side. but i like the meds. if my dreams continue to be bad i may try something else\"',\n",
              " '\"i was diagnosed with cervical dystonia in 2000 a little after a car accident. i went back to work and worked fast and hard as usual and the dystonia got worse. shortly after, i developed panic attacks. dr. prescribed generic xanax and it really helped. i dont remember how much it was- 2005. the xanax not only took the panic attacks away but my neck pulling would go away for a long time. since 2013 dystonia came back w/vengance. no one has prescribed xanax and keeps prescribing crappy medications-baclofen, flexiril and now atarax. im scared to take the atarax. i know xanax works and i only used it maybe 4 times a month. no habit forming for me. kids ruined it for folks that need it :(\"',\n",
              " '\"currently on day 4/7 100mg bid. i went from feeling like my back was being ripped open and sobbing until i couldnt anymore from the pain to waking up the next day after my first dose feeling like a new person, this antibiotic is ok in my book! mild gi issues, decreased appetite, and headaches are my only side effects. nothing in comparison to what i was feeling before. all antibiotics arent fun to be on, so keep that in mind before writing scary negative reviews. hopeful that the macrobid clears this up.\"',\n",
              " '\"this medicine worked. took my akathesia away the moment i took it.\"',\n",
              " '\"i had stopped taking birth control all together for about a month and lost a ton of weight and my breasts got smaller and then my doctor put me on apri. easily one of the worst things to happen to me. ive never had such bad acne in my life and it seems like it never stops. ive also gained at least 10 pounds in addition to my normal weight and thats being modest. i feel bloated all the time and i cant tell if i look fat because im bloated or because its the weight being distributed right into my stomach. im switching back to my old birth control. apri sucks.\"',\n",
              " '\"based on 200 mg 1 per day; only thing i got was heart burn, no pain relief. tried to take everyother day, didnt make any difference still got horrible heart burn. switched to mobic.\"',\n",
              " '\"episodic incidences of serious back spasms and pain due to having herniated discs of l4 and l5. skelaxin relieves the spasms so i get back to somewhat normal in as short as time as possible without feeling drugged out and tired. it works so far as to what it was prescibed for.\"',\n",
              " '\"i was on lutera for 9 months. it was great. the only side effects i experienced were my acne clearing up and my breasts increasing a cup size. i am extremely active in my sex life and i didnt get pregnant; i trust this pill a lot. but for my last two periods i started spotting for the whole third week of pills and then having a very heavy period, so my doctor is putting me on a higher dose of a similar medicine, im just hoping it is exactly the same but with a normal period. other than that i would highly recommend this birth control.\"',\n",
              " '\"side effects for the first five weeks were unpleasant for me. i would get extremely tired and irritable and it upset my stomach. then i started to feel great after about 8 weeks at 20mg and i was always extremely happy. then at around 10 weeks i leveled off and just felt normal. my moods were blah and still are. but i must say i have come a long way and it is working. would like to come off of it just to remind myself that i need to be on it.\"',\n",
              " '\"complete relief for 6 months now. i have taken the shot 4 times every 6 months.no side effects\"',\n",
              " '\"ive had 3 series of euflexxa with good relief from bone on bone pain as long as i dont overdo. they make it easier to walk and reduce general pain and stiffness. they also help significulty with preventing my knee from going into a sublux position. the injections themselves arent painful, just uncomfortable. my doctor uses a topical anesthetic and is very gentle. any pain is brief. i have some very minimal bleeding and swelling at the injection site and take it easy afterward. im so grateful for euflexxa. i received injections of synvisc (similar but with actual rooster comb as opposed to a synthetic) before. they worked great and i needed only 1 shot, not 3, but like many, i had a severe painful reaction with repeat injections.\"',\n",
              " '\"ive been on sprintec for almost 3 years now, (im 19) and i love it! ive never tried anything else, but this seems to work perfect. i started taking it for acne, which it does help with, but no ones skin will ever be perfect. i still have small breakouts. ive never been pregnant, so it definitely works for its intended purposes! ive never gained weight on sprintec. my breasts have never been really swollen or painful from my pills like some people experience, (although id be alright with them growing a size) haha. i do think they impact your sex drive though. i find it difficult to become naturally ready for sex. i always have to use lubricants. other than that, i recommend sprintec!!\"',\n",
              " '\"i just started taking this drug as a trial for avascular necrosis to try and reestablished blood flow to my left hip. i have been tested and found genetically prone to have vascular disease and blood clots so i was approved to use this. after 3 days, i have a very sore tummy, 1 black bruise and a headache but a lot of hope that as the 2nd person to try this drug, in this area, to save a hip joint from replacement, that all will be well. all your words gave me hope. thank you.\"',\n",
              " '\"i was diagnosed with atypical pneumonia. they put me on doxycycline, 1 pill twice a day, for nine days. i still havent noticed a change. when i got to the tenth day, i took an amoxicillin pill that i had left over from before, and noticed a change within a few hours. wish i had more!\"',\n",
              " '\"i have had good luck with this medicine but as i age it appears to be less effective, or it may be that my tremors are getting worse and the dosage needs to be increased. i have tried an increase in the medication and have become very sluggish. all in all it is working rather well and the cost is low.\"',\n",
              " '\"im a 51yr old male prescribed 10mg of atorvastatin. i sleep much better with little leg cramps if any at all. i drink plenty of water which helps with cramps and dehydration which is my cause of leg cramps. i have no side effects of nightmares only good dreams that i can remember.\"',\n",
              " '\"had extreme hives all over my body from an allergic reaction. took a single 25mg tablet of hydroxyzine about an hour before i went to sleep, and i was no longer itching by bedtime. when i woke up, there were no hives. they started to return at night time, so i took another tablet, and the cycle continued.\"',\n",
              " '\"im a 38 yr old female. i was prescribed amlodopine 10 mg in april bc my bp was 150/99. after taking it for a week, i woke up one morning and i was having trouble walking. the doctor told me that i had achilles tendinitis. my achilles (back both of ankles) had swollen knots on them. im an active person, and i knew that i hadnt injured both of my ankles at the same time. 1 month later, i went to the sports medicine doctor who also told me that i had achilles tendinitis. he sent me to physical therapy for 6 weeks. pt did not help me at all. i googled achilles tendinitis &amp; amlodipine together. a doctor did a study in 1999 that connected the 2. i stopped the amlo &amp; 2 weeks later my ankles were 70% back to normal.\"',\n",
              " '\"i always had acne through adolescence, &amp; in my early 20s started developing painful cystic acne on my jawline and neck, particularly worsening prior to menstruation. all otc treatments were completely useless to treat &amp; manage this form of acne, &amp; i was seriously considering accutane. my dermatologist prescribed aczone, &amp; once i started regularly using once a day, after about a month (ie, not right away- it takes time to assess whether its effective for you) i noticed a huge difference in my skin- less oily, essentially no acne. while the initial &quot;wow&quot; effect has tapered off- im starting to get an occasional pimple prior to my period- my skin is still substantially improved. worth a shot before going to accutane.\"',\n",
              " '\"a friend recommended so i thought i would give it a try. she never mentioned severe pain. just that your stomach hurts a bit because that means its working. i took 3 pills around 9:30 pm and at 11:30 pm the severe cramping began. i also became extremely nauseous. i was doubled over in pain, it was so painful i had no idea what to do with myself. on a scale from 1-10 the cramping was a 12! it did do its job but the severe pain is not worth it at all.\"',\n",
              " '\"when used properly and appropriately and for the purpose prescribed this medicine is extremely effective. i have very intense chronic back pain following two failed surgeries and after trying many different medicines to help with the pain (as well as non-drug therapies) oxycodone is the only medicine that allows me to have even close to a decent quality of life. \"',\n",
              " '\"last night i googled over the counter medicine for mild to moderate anxiety and depression. found st johns wort. today i went to walgreens and the pharmacist recommended the exact same thing! i knew this would be perfect. im so thrilled that its a natural herbal supplement too! the pharmacist said it would take 6 weeks to work. its already working great. my mood is more stable i dont feel sad or anxious about anything. i feel relaxed. my mind doesnt feel heavy. it feels clear and its great! i would totally recommend this product. the price was right too!\"',\n",
              " '\"it was the sole cause of my painful cystic acne. as soon as i got off of it it went away. it also led to longer periods.\"',\n",
              " '\"seasonique made my face break out, i had a lot of spotting and abdominal cramps. i was prescribed seasonique to regulate my periods, and it did the exact opposite! since day one of starting this product i have had to wear a pad because of the spotting.\"',\n",
              " '\"i have been using levsin sl for many years for crohns (severe spasms). it is very effective. two years ago i started having severe spasms and leg cramps due to some unknown disease that is effecting my legs. i have constant pain in my leg muscles and long bones. i also have severe leg spasms/cramps at night. i discovered one night when having both colon and leg spasms that the levsin sl stopped the leg muscle spasms. i discussed with my doctor and i started using at night to treat my leg spasms. the spasms are quite severe with a pain level of up to 9 out of 10. levsin is the only medication that i have found that is effective. the half-life for me is around 2-2.5 hours.\"',\n",
              " '\"first month was awful, with 3 week period and constant crying and mood swings. 2days into the second pack, my menstrual stopped, along with the mood swings. i was on nuba ring before this and gained 20lbs \"',\n",
              " '\"had to use this for the final step of the bowel prep for colonoscopy. i tolerated a miralax and gatorade combination for three hours. i started that at 5 oclock. was finished by 7:30. at 9 oclock i was instructed to take two tiny ducolax pills. i awoke at 11 to severe nausea. i dry heaved for about a half hour and then started vomiting violently. i broke out in a cold sweat and my hands went numb. i thought my husband was going to have to take me to the emergency room . the vomiting lasted for an hour. i finally fell asleep at 1:30 in the morning. i informed my g.i. prior to the call anoscopy about my horrible experience with this drug. i will never take it again.\"',\n",
              " '\"i was taken off etodolac recently because labs indicated elevated blood urea nitrogen test (bun) &amp; creatinine. i had been on etodolac for about 20 years with no side effects and manageable discomfort. i was walking 5 miles a day and lifting weights for 3 hours a week. i felt great. over the counters did nothing for me except discovering an allergy to acetaminophen. im taking 4 mg methylprednisolone a day and hurt all over; age 72, female and really aggravated.\"',\n",
              " '\"this medicine clears up bronchitis quickly and i give it two thumbs up.\"',\n",
              " '\"i have chronic constipation. nothing has helped including amitiza.\"',\n",
              " '\"i had injections jan 2015 in knee where i previously tore the cartilige and had it debrided. degeneration is bad but im too young for knee replacement and really dont want it. i had several steriod shots prior and they worked but very limited time. it did take some time for the euflexxa to &quot;kick in&quot;. i think it was about a month before i kind of stopped noticing my knee. its now oct 2016 and im just now noticing my knee again because i have degenerative problems in all my joints and now its the spine. the physical therapy is putting a strain on my knees (leg press, quad stretches) so now its owie again. until now ive been able to cycle daily about 10 miles without too much problem unless we are talking steep hill.\"',\n",
              " '\"i was originally on concerta for my add and got extremely depressed and almost suicidal. i then switched to adderall which i took for 4 years without many problems, until i developed a tolerance to it and my dose got so high that i was getting a bunch of side effects. i tried strattera, which i did absolutely nothing and made me really sleepy. then i switched to vyvanse which worked about the same as the adderall but i wasnt as irritable and didnt have the same loss of appetite. however, i did start to develop acne, which i didnt realize until recently was being caused by the vyvanse. ive also developed a major dependency, if i dont take it, i have trouble doing daily tasks and im really tired.\"',\n",
              " '\"this has been my life saver medicine.\"',\n",
              " '\"i was put on 300 mg at bedtime for better sleep with spinal pinched nerve, along with chiropractor care. at first the sleep effect was awesome - no crazy dreams like trazadone, and no super quick tolerance built like ambien, just good and regular sleep. however, after a month and going up to 600mg for nerve pain it bizarrely started to cause insomnia! the worst part about this med is the brain-erasing characteristic. i thought ambien damaged my memory, but this far surpassed that because it lasted in the day to the point where i couldnt remember where things were or what day it was. my father takes it for spinal stenosis too and has no issues. also, the posts about withdrawal syndrome are very real! it was hard to wean off.\"',\n",
              " '\"ive had nexplanon implant for two and a half years. it wasnt so much a bad experience, ive had my period every couple months for at least 2 weeks. just recently my period has lasted me about a month. not necessarily heavy but really annoying. when i first got on nexlpanon i weighed about 125 - 130, and now im around 110. ive tried everything i could to gain weight from eating more to taking mass gainers. my body feels extremely weak and im always tired. i feel as if its been getting worse.\"',\n",
              " '\"was mortified when i found out i had chlamydia day before yesterday. doc gave me 4 of these tablets told me to take one hour before food, took all 4 waited an hour then started to eat my tea, started to feel nauseous but managed to hold it down. about another hour later had to run to the toilet and had violent diarrhea once. apart from feeling very drowsy and odd i slept through the night and woke up feeling back to normal. hopefully they have worked! never again!\"',\n",
              " '\"5th day on buproprion xl150. i am supposed to take this once a week and then double the dose. right now i am feeling i should not double up as i dont like the side effects. first few days i felt like heart was racing a little, jittery, clenching on teeth, trouble falling asleep. am i still as depressed? no. am i laying in bed and not getting my work done? no.i wouldnt say i am motivated, but i am getting done what needs to. lost weight. no real appetite but at night i get hungry. my main concern is i feel anxious and self-conscious. i am in school and i have a job where i need to work with superiors and be able to listen and perform. i feel like i am just going through the motions; an out of body experience. will this end soon?\"',\n",
              " '\"this stuff smells disgusting. i gave up after two days. what kind of idiots would want their product to smell like this ??? if youve got stock in this company sell it quickly.\"',\n",
              " '\"been suffering from hyperhidrosis since many years but it has been coming on worse during the more recent years. started to socially distance myself and was always thinking about what to wear and how to lay out the day to avoid sweating. after taking oxybutynin for one day i noticed a change. while exercising i start to sweat but kind of in a normal way. in everyday life no more sweating. it has changed my life! thanks for all the help from all of you thats on here. felt like i got my life back!! im super happy!\"',\n",
              " '\"have not had a yeast infection in years but due to antibiotics, got one. purchased the monistat 1 egg with wipes ect. inserted egg at 10pm. woke up at 2am due to fire and itching in my lady parts! used the cream and wipes with no relief. it is now 3:34am and it feels like ive been up for 5 hours. i can not keep still due to the itching and burning. this is not o.k. should have read the reviews beforehand. itching so bad, i may have more than one use for my backscratcher! lol\"',\n",
              " '\"it works, but gave me bad, bad nausea to the point that i threw up afterwards. i had to take it with some food because of how bad it would irritate my stomach. but other than that, it worked fine for my infection.\"',\n",
              " '\"good thing i read the reviews after i took it bc i wouldve been scared lol. but definitely on the toilet right now and my stomach was in a lot of pain, thought it was barfing pain but it wasnt . your stomach will hurt after dosage .\"',\n",
              " '\"used twice under walking boot for broken fibula, use for rotator cuff sprain for six weeks, used for left knee pain for three years prior to replacement of knee. way better than an opiate, i could work! more effective too most of the time.\"',\n",
              " '\"ive tried absolutely everything from nerve pills to antidepressants to help my pain and this is the only thing that works. of course my doctors. want to take it away after 11 years because of all of the recent headlines.\"',\n",
              " '\"ive been taking saphris for four days now, and im not sure what i think yet. im still having major anxiety at night, and its not helping that much at all. also feel sedated when i take it in the morning, so its difficult to care for my two year old. hopefully this will wear off as my body adjusts to the medication. i have been eating more, which im not happy about, since i just lost a lot of weight. i wish my doctor would put me on something for the anxiety, then maybe it wouldnt be so bad. \"',\n",
              " '\"i am a 19 year old college student and just got prescribed vyvanse about 2 days ago. when i take it i mainly feel relaxed and sometimes excited. ive never been on any stimulant or add medication before. my main concern is losing weight on this medicine. im about 59&quot; and weigh about 135lbs. i eat a lot and im still fairly skinny. ive always worried about my weight and the last thing i want is to get skinnier.\"',\n",
              " '\"i went from mylan to portia. ever since i switched ive been getting massive headaches, horrible cramping/bloating when on my cycles and just overall been feeling terrible for the past 2 months of taking it. still works but not the type of pill for me.\"',\n",
              " '\"i am 49 and have been on this medication for one cycle. the side effects have not been as bad as i had anticipated. i had a few mild headaches, and bit of bloating, tender breasts and a mild acne breakout, and was a bit tired a few days. i am taking it for a proliferative endometrium and after 4 days being off the medicine, i am getting a period, so it seems to be working as planned. i am taking 200 mg.\"',\n",
              " '\"fibro is different for us all. so this works good if your nerves are really freaking out. with me, i ache like the flu and stiff more than anything. have tried it several different times and nothing that i can write home about good to say about it.\"',\n",
              " '\"this by far was the worst experience of my entire life  the pain was immediate after inserting the medication, it burns and itches like hell!! within 5 minutes after use i was crying in pain, and after 10 minutes i was in the shower trying to wash it out. now im stuck here with an ice pack on my vagina and even more pain than i was in. do not use this! i wish i had read the reviews before i used this instead of just taking someones word for it, ill never make that mistake again!\"',\n",
              " '\"i had very bad acne problem, especially my on my face. i had it for a long time and nothing helped much. then i started having them on my hair, i bought oxigel and it has since worked miracles for me. all my acne is gone and also the scars though some times mild acne come back though it has almost cleared up.\"',\n",
              " '\"i have been taking depakote er for approximately 4 weeks now with good results. prior to this medication, i was experiencing frequent dull pressure type headaches, some lasting several days, and occasional short duration sharp migraines. since using depakote er, i have had no migraines and only a couple of very mild and short duration pressure headaches. i realize its only been a short amount of time on this medication, but the relief has been quite noticeable for me. i have also not experienced any sudden weight gain side effects, however, just prior to starting this medication, i commenced a health eating regimen, which has actually caused me to lose several pounds, and which may be contributing to my weight situation.\"',\n",
              " '\"i tried everything yesterday to stop throwing up acid. i went from nexium to zantac to pepto to tums, nothing helped and it all just came back up an hour later. thankfully my brother is a paramedic and told me about how they use benedryl for their nausea patients so i took 3 of the 25mg tablets and it worked!!\"',\n",
              " '\"xanax works almost immediately when im having a panic attack. i have tried a lot of different &quot;newer&quot; antidepressants and they always have weird side effects. then the doctor says to keep taking them for weeks to work. \"',\n",
              " '\"i took paxil for a total of 10 years for anxiety and panic attacks. i was put on it at a young age, but i dont see how i could have gotten through those ten years without it. paxil is great and works wonders for anxiety, but i didnt want to be on it my whole life. im now 20 and doing great without it. i think the medicine gave me a sense of confidence after a while that made me realize i could get through my anxiety on my own. a confidence that helped me find my own coping mechanisms for my anxiety so that i no longer needed to rely on the paxil anymore. i highly suggest paxil to anyone with anxiety disorder looking for a medication to help.\"',\n",
              " '\"ever since starting on this drug ive had trouble controlling my bp. ive started taking another bp med in addition to the 2 i was already taking. plus the dosage has already been increased. my last bp this morning was 135/100. i still get headaches and have the pounding in my ears. i also have unexplained bruises all over. i will definitely be calling my dr again to check out alternatives.\"',\n",
              " '\"i have a spine injury l5-s1 area for first 6 months i was on every anti-inflammatory and made me sick. in addition, i was on heavy dose of tramadol with no effect on pain what so ever and just made me high, then percocet and it only made me high and very addictive. then i read about lyrica, talked to my doctor got some and stopped my flair-ups. it saved me. lyrica cut my pain by about 40% and stopped my flair-ups by about 80%. it kind of acts like an anti-depressant for me and makes me a bit hyper-(good thing) but kills my sex drive and i stopped it for a week, it was hard on me and pain and flair-ups came back. i built a fast resistance to lyrica fast, i went from 100mg to now 600 mg. gave me back my hunger and im gaining weight-(good thing) you have to realize nothing but hard work and meds will cut your pain down, nothing will cut your pain 100% i know its depressing, we all just want our doctor to put their hand on our injury and be healed. you have to try some home to exercise, eat well and seek mental help along with pain meds and help from you doctor. chronic pain, you need mental and physical help and most of all its you that has to push yourself to recover.\"',\n",
              " '\"i was prescribed 10 mg ketorolac tablets following a kidney stone diagnosis 3 weeks ago. the medicine is very effective for my renal colic, causing acute pain to vanish within 5-10 minutes.\"',\n",
              " '\"lamictal gave me two ulcers, failed a drug screen for one of the best jobs around (said i had pcp in my system), debilitating headaches and gained an immense amount of weight. i was hospitalized for attempted suicide and my doc got mad when i weaned myself off. having said that, i know lots of people that has had great success with it. i guess it all depends on the individual. not all bipolar cases are the same.\"',\n",
              " '\"im only on 2.5 my along with celexa. ive had weird, disjointed dreams but they dont bother me much. no nausea as many people have seen. but i have had an increase in energy but it comes at a price i feel like every muscle is tight. ive also experienced painful gas bubbles &amp; a pinching in my chest &amp; a feeling like my heart is pounding but my bp &amp; pulse are fine. ive also been breaking out on my face. even with the side effects its made enough of a difference (3 years in a severe depression including suicide attempt) that ill put up with them to feel this good.\"',\n",
              " '\"so i work at a hospital and am constantly on my feet, walking/running for 12+ hrs straight. somehow i injured my foot and started limping by the end of my shifts. went to the dr on friday and she gave me a packet  its monday morning and my foot feels a ton better. the swelling is almost gone completely. no side effects, no redness of the face, nothing  give it a 10 for working great for me!\"',\n",
              " '\"i was initially diagnosed with adhd-combined hyperactive and implulsive when i was 16. up until that point, i struggled with my attention issues and excessive energy and it became increasingly difficult to cope with the symptoms as i got older. my doctor prescribed me concerta 54 mg once a day. i immediately noticed significant improvements. i was able to think more clearly and communicate coherently. at the same time i noticed that i had a better ability to control my attention and remain focused over a more prolonged period of time. my grades improved and my relationship with friends and family became much better. im now 26 and still taking the medication. the therapeutic effects are still evident.\"',\n",
              " '\"baclofen saved my life. i had been drinking and drugging and other addictions for thirty five years and after a few mos getting dosage correct w occasional relapse, i am now booze free. it is a miracle. you must fight through the side effects (sleepiness, lethargy, etc) as it will eventually work. i now take it five times/ day total 225mg but will slowly reduce now that have reached threshold (amiesen). i had tried years of aa, rehab, moving to alcohol free countries, yoga, meditation, extreme fitness routines, years of therapy; nothing worked. several duis, lost jobs, marriages, relationships  and then, baclofen! thank you dr. amiesen,, i love you!\"',\n",
              " '\"i got the nexplanon implanted in april of 2016. i had long periods that were pretty heavy so i needed a bc to help regulate things. im bad at remembering to take pills every day at the same time so when my dr recommended this iud i happily accepted. after insertion i didnt get a period until month 4 and it was about 5 days long and really light. havent seen one since and i love that part but now im completely done and want it removed. i have horrible cystic acne on my face, neck, back and shoulders that ive never had and it hurts like hell. my skin has gone from smooth to bumpy and rough all over my body. i get headaches all the time and my anxiety and depression have sky rocketed due to this terrible acne and the 30 pounds ive gained\"',\n",
              " '\"mononessa has been the worst birth control i have ever been on. i was on this pill for three days and thought i would die.severe nausea, nightmares, mood swings, insomnia,headaches and chest pain. i stopped taking it after the third day. my body really does not like this birth control. i would not recommend this pill at all.\"',\n",
              " '\"fantastic! takes all anxiety away and give your muscles relaxation as well. best pill ive tried. and ive tried some thousands.\"',\n",
              " '\"id been on restoril 30mg for years, had to stop taking it for 3-5 days/month. it seemed very harsh. doctor prescribed librax for stomach problem and every time i took one, i got sleepy. i asked him to prescribe high-dose librium for sleep instead of restoril. i now take 25mg at bedtime and it works great.\"',\n",
              " '\"ladies calm down!! it will be ok!! i had unprotected sex with my boyfriend on february 17. the next day within the 24 hour period i got my way. i had very bad back pains and abdominal pains. that last a few days. the next day i took my way i had some spotting. i was expecting my period on february 25 but i didnt get it until today! i was so stressed out i even took a test. ladies, your period may be late. its normal. dont worry. youll be ok!! such a weight off of my shoulders.\"',\n",
              " '\"i feel like, based on all these reviews you either love it or you hate it. this works wonders for me. the first inactive week, the first period o had on it was horrible. but after that as my body adjust it really helped. also i know its terrible but when i was younger i had unprotected sex and i never worried because i always get my period on the 3rd-4th day of the inactive. been on them for about three years now, would recommend if you have very little medical history to worry about.\"',\n",
              " '\"ive dealt with chronic nerve/back/arthritis pain for 17 years. ive taken just about everything there is to take including patches and an implanted neurostimulator. oxy worked best but isnt available any more due to misuse. belbucca has been good for me. i do get occasional migraines-excederin migraine works. i dont have the problem others have, i stick it on my cheek near my molars and it never falls off. there are trial blank films available to practice with. my biggest side effect after 6 months is quickened tooth decay. i have also had to learn how to deal with not having the euphoria effect of the other meds that gets you moving and effects mood. its like the old days taking advil and pain just leaves. im me again-i like that.\"',\n",
              " '\"for my sleep anxiety depression i have been on many different benzos there are different compounds in the benzo family the ones ive tried at least one in every compound the ones ive tried; ativan, clonazepam, oxazepam, temazepam, valium, triazolam, and even midazolam which is used in iv sedation all which have done nothing i have severe troubles staying asleep through the night. even on first night of all listed above no improvement i woke up every hour to hour and a half. and people say midazolam puts them out not me. but i got xanax and wow what a difference its made so far instead of waking up every hr on the hr out of 8 hrs gone to waking up only 1-2 times. my dr prescribed 1-2mg at bedtime been on only .5mg for 3 days but wow\"',\n",
              " '\"becomes ineffective after sometime. one of the side effects is extreme swelling which is very unfortunate.\"',\n",
              " '\"ive been taking 2.5mg for a month with great results and no side effects, until the weather got colder so the doctor increased dose to 5mg, partly because he wanted a better result to my high blood pressure as well. the sudden increase has caused severe sleepiness and a tight chest. i cut back to 3mg for now to ease into it and will increase to 5mg if/when the side effects decrease. i believe in caution and i know my doctor takes the same stand.\"',\n",
              " '\"i only tried this when my insurance refused to allow victoza anymore after two years of positive results. my bs have been much higher, headaches, blurred vision and inability to concentrate. driving has become hazardous for me. i am not using another dose.\"',\n",
              " '\"works wonders for relaxing my muscles and helps me go to sleep.\"',\n",
              " '\"i have been taking birth control pills for 7 years now. was on tri-sprintec for most of that time and my breasts would get really sore once a month, so the doctor switched me to levora. i had no problems with levora. however, for the past 4 months, the pharmacist switched me to portia and i have horrible breakouts one week a month. kind of embarrassing when youre 27. to make matters worse, i have had perfect skin my entire life up until this point. that was the one thing i have always received compliments on, so its especially heartbreaking to now go through this. i need to switch asap.\"',\n",
              " '\"no medicine has ever worked for my insomnia besides this one. it keeps my mind from racing, and keeps my emotions steady so im able to fall to sleep with no problems. i usually take it an hour before bedtime and then lay down, read a little bit until im feeling tired enough, and just close me eyes. before this medicine i couldnt tell you the last time that i was able to fall asleep without remembering but now i dont remember falling asleep and have to worry about hours of tossing and turning. highly recommend.\"',\n",
              " '\"i am a rn who suffers from severe social anxiety and moderate depression. symptoms associated with sad have included inability to write in front of others, eat in public, public speaking. even drinking in front of others was difficult for me. i hated the shaking, heart racing/pounding, and everything else that went along with this horrible affliction! i remember it all starting around 15 years old but never could understand why. im 41 yrs old today and my anxieties have affected my life negatively and held me back in so many ways. i never felt normal. many years and meds later, i came to believe my life would never change. that i would never feel &quot;normal&quot; around people. then i found cymbalta changed my life!\"',\n",
              " '\"it never lost potency been on it a long time it works everytime pefer this restoril to xanax\"',\n",
              " '\"terrible rash, headaches, body aches, profuse sweating and nausea.\"',\n",
              " '\"in the beginning i had severe headaches and spotting. now i take the pill in the evenings and have not experienced any side effects.\"',\n",
              " '\"i was in hospital for some time with chest pains, and when i was given codeine phosphate it took the pain straight away. i also suffer from back pain and codeine phosphate really works. i would recommend it.\"',\n",
              " '\"im on week three of the patch and i cant wait for it to be over. this is the second time this year ive used the patch and i remember the same same side effects as before. headache during most of the first week coupled with constant nausea. the only thing that seems to make the nausea subside is eating! needless to say ive noticed some weight gain!!!!!! i suppose youve got to try these things  in theory its a great idea, unfortunately it doesnt work for me.\"',\n",
              " '\"56 year old male. i had several horrendous gout attacks in my early 50s. one kept me off my feet for a week. shortly after this bad attack i was diagnosed with gout and started on 300mg allopurinol daily. i have been gout and symptom free and no discernible side effects since taking this for the last 4-5 years.\"',\n",
              " '\"i have been on benicar for about a year now and i have to say it has helped my blood pressure. blood pressure is 120-130 and over 70-75 average. my pressure was not dangerously high but my doctor recommended i go on it since it is in my family history, i am 40.\"',\n",
              " '\"so, this is the only pill ive ever been on, so i dont have much to compare it too. however, after reading all the negative reviews, i felt i should chime in. im on my second month of this pill and im almost done with it. so far, its actually helped regulate my weight which is awesome. the first month was kind of rough, i was spotty the entire pack. once i started up the second pack, everything cleared up and ive been good since! worst part of this pill: no sex drive. it really does dry you up. im hoping this clears up after the 3rd pack because my doctor told me to give it until then.\"',\n",
              " '\"this medicine helps with my schizophrenia, calms me down but thats about it. but the worst things about it are the freaking side effects! look i took this medicine in first grade for irritability, took it again in middle school now im 20 and started back up again a few months ago it makes me soooooo sleepy that im falling into things, i get severe panic attacks and im hungry as hell hence why i gained 11 lbs. oh and i have this funny, unbearable feeling in my right leg and its sooo uncomfortable omg! but on the other hand its not as bad as latuda or haldol but its worth it i guess\"',\n",
              " '\"have been diagnosed with rosacea that i have had apparently for years, was not willing to seek medical advice and treatment due to money concerns. two and 1/2 years since my last consulting with dr. and all i can say is i am amazed at the results topically applied metronidazole gel has given me. i am grateful for being able to shave my face without feeling like it was a blood sacrifice. only one regret, why didnt i do it sooner. :) happier now\"',\n",
              " '\"does what its supposed to do, but dont stop taking it cold turkey. you definitely need to ween yourself off if youve been taking it for awhile.\"',\n",
              " '\"this medicine is wonderful but the taste is awful \"',\n",
              " '\"had to take it temporarily. i had increased spasms of arms and legs from an abscess in my butt, did not know at the time why the spasms were so bad. im a spinal cord injured paraplegic. anyhow, while on this i saw a puppet fly though the doorway and footballs on the ceiling. a lot of crazy stuff. ive been on a lot of medicines but never anything like this.\"',\n",
              " '\"ive had chronic dry eyes for years as a consequence of an ongoing eye condition. ive used eye drops for years seeking relief includes another systane product, generic eye lubricants and prescription restasis. this is the first product that has provided real ongoing relief. the only negative is it cannot be used while contacts are in place, but this is minor when compared to the relief provided.\"',\n",
              " '\"this drug has changed my life. i have severe panic disorder and derealization. i was having debilitating panic attacks daily. i felt like i was living in hell. my new doctor decided to switch me to this after ativan seemed to not be helping. it has helped me live a normal life for the first time in years. after the first dose i was already feeling more calm, my racing thoughts have pretty much vanished. i still feel anxiety, but i am able to shut it down very quickly before it has the chance the turn into a full blown panic attack. i am so glad to have found this drug and have it work so well for me. the only downside is that it makes you drowsy, but i feel like you get used to it over time.\"',\n",
              " '\"it has been about two weeks since ive been taking nuedexta. i went to my doctor back then as i was having angry outbursts as well as increased thoughts of hurting myself or others. additionally, my anger was taking over any type of rational decision making. my doctor prescribed nuedexta just more recently, ive felt somewhat of a change. i dont feel as angry and if im in an anger-provoking situation, i know i have to &quot;step aside&quot; and take time out. this never happened until i took nuedexta. the only complaint i have about the medicine is that since its new on the market--as far as i know, as the pharmacist had never heard of it--the cost was high and i had to wait a day for the prescription to be delivered.\"',\n",
              " '\"ive only been taking trinessa for a month, but so far i love it. i was getting very self conscious with my acne and i was originally going to take ortho tri cyclen, but my doctor recommended trinessa. i was very worried after reading some of these comments but im so glad i gave it a try! sure, my skin is not perfect (its not a magic pill), but its considerably clearer, and i have not had any nausea, headaches, or dizziness. my breasts have gotten a little sore (a couple of times) but its a small price to pay for clear skin. try trinessa.\"',\n",
              " '\"i currently take zonegran --i love love love it!!!--- prior to this i took depakote--for me this drug sucked-- i was lethargic, my hair fell out in clumps i went from weighing 225lbs to 389lbs and i developed sleep apnea. i was taking 500 mg of depakote four times per day---2000mg of this stuff-- i had several seizures in my sleep one where i fractured my ankle on the bed frame. the weight was the worst i could not control it. i wish i could submit a picture of myself while being on this stuff. after i got off this drug i lost 160lbs. my dad saw the b4 pic and didnt know who i was. maybe this works for some, but not for me i would never take this again!!!\"',\n",
              " '\"i cannot take antidepressants, so i was put n xanax and then ativan as needed. i have general anxiety without anxiety attacks and sleep okay but wake early. dr. recommended clonazepam to take as needed. i take 0.5 mg. most days plus at night. takes the edge of daytime anxiety and helps me sleep well at night. dr. said that the low dose i take should not cause problems if i stop and i have no withdrawal symptoms if i do not take any. i also do regular exercise which greatly helps my anxiety and a drink at night can help too.\"',\n",
              " '\"19 year old female. ive been taking bupropion 75 mg for 3 days. the first day i took it and i felt like i was having a non-convulsive seizure. i kept zoning in and out of a tv show i was actually interested in. my sleep schedule is also very weird, but anyways, i took it yesterday and it didnt really change anything. but at the end of the day i felt this kind of mix of euphoria and dysphoria at the same time? then went to bed at 10 which isnt normal for me at all. i usually dont sleep at night. i woke up this morning and took it again and its giving me the worst headache. im laying in the dark with a blanket over my head and my ears are ringing but im gonna try to push through to the good part:)\"',\n",
              " '\"i started taking cymbalta approx. 4 weeks ago. its a miracle far as im concerned. i have low back pain, fibromyalgia and increasing anxiety disorder. within 4 days i felt immediate relief from pain all over. i havent felt this good in years. i am also on lyrica and am going to see if i can lower my dose or even discontinue it and see if im still pain free. my anxiety is starting to lessen now as well. i dont have many side effects, mostly more tired so i will take it at night. definitely try it. its worth it!\"',\n",
              " '\"hands down, the very best medication ive ever been on. my horrific cystic acne and litchen complex completely cleared in 4 months. mostly clear within 2 weeks. the rest was just getting the dark spots to fade and some steroid cream for the litchen/eczema i had that surrounded all my acne. i suffered for 18 years with acne and did accutane 4 times and every other oral and topical medicine on the market. this is the only thing that really worked. i have no side effects whatsoever. it is the miracle cure that i wish my other dermatologists had recommended. i take one bactrim ds once a day- doctor says i can continue indefinitely. i likely will. my skin is stunning for the first time since ive been 19. if others dont work try this!\"',\n",
              " '\"as an adult with adhd concerta is the way to go. focused and able to complete tasks. although the lack of appetite and sleep come into play the time released 18mg work better for me then the 27mg with 27 mgs i was tired and moody.\"',\n",
              " '\"i would never recommend implanon (the rod) as a form of contraception to anybody, i have had mine in almost for the full 3 year term as i was on the pill and kept forgetting to take it, as i was only 18 at the time i needed some form of contraception so i came across implanon. it all sounded well and good but the whole time its given me nothing but grief. i have put on 10kgs, sometimes i dont have my period for 2 months then other times it will be every week on and off heavy bleeding, i am so lethargic and never feel like going anywhere or doing anything and ive also been diagnosed with anxiety since being on this. the headaches are constant! i can not wait to get it out! wouldnt reccomend to anybody! especially young girls!\"',\n",
              " '\"this medicine should not be stored where it receives direct sunlight, changing temperatures, or humidity changes (i.e. bathrooms). i learned this the hard way recently. my prescription sat on my bedside table in front of a window with morning sun exposure and when i took a dose recently i felt lethargic, incoherent, and outside of my body. my husband told me i fought in my sleep and cried out for my children, i tossed and turned for several hours but he couldnt wake me up. i was not told how to store this medicine and i didnt think i was doing anything wrong.\"',\n",
              " '\"on my 5th month of microgestin. for the first 3 months, i experienced some side effect. i gained 5-10 lbs and felt &quot;headachy&quot; at times. after 3 months, my weight has returned to normal and no more headachy. no changes to libido or any other side effects.\"',\n",
              " '\"i was prescribed a low dosage of risperidone and it was effective at eliminating my paranoid thoughts. however, after 1 year, this medication caused me to gain weight to a level i had never been in my life. i went from 178 lbs to 218 lbs with no changes in diet or exercise. my doctor took me off the medication in july 2009 and by christmas 2009, my weight dropped to 169 lbs, with some dietary changes. \"',\n",
              " '\"having suffered migraines for many, many years i was without my medication and found one coming on. i stopped in the airport gift store and found some excedrin. it was a life saver. if taken early and will save a lot of money from my higher priced remedy. \"',\n",
              " '\"my doctor prescribed the syrup formula to treat my occasional insomnia (1 tablespoon in a large glass of water). it puts me into a deep sleep in approximately 15 minutes. it is less habit forming than other sleeping medications and i love the fact that it doesnt leave me drowsy in the morning. i have noticed that it does make normal weight loss difficult (despite regular daily exercise and healthy eating), but so far it has not caused weight gain like some sleeping medications tend to do. \"',\n",
              " '\"actemra is the best medicine! i was diagnosed with polyarticular jia when i was 13 years old. now i am 19 years old. i tried many medicines: methotrexate, sulfasalazine, leflunomide, enbrel, remicade. and my arthritis was always active  but after my first actemra infusion i felt the difference. now i get these infusions since may. and i dont feel any pain, stiffness or swelling. i remember that i have arthritis not because my joints hurt but just because i need to go to the hospital for iv infusions. now i feel like a healthy person! and i feel like that just because actemra! oh, and i also want to say that i dont have any side effects! p.s. sorry, i can write with some mistakes because english is not my first language, im from europe.\"',\n",
              " '\"i was on lutera from october 2011 - october 2013 and it was amazing. my periods were on time every month, i had no severe cramping, my mood swings died down a lot and it protected me. in the 2 years i took lutera every day and it was the best birth control i ever took. no weight gain, no acne, it was perfect. unfortunately, i had to stop taking it as i didnt have enough money to afford another years worth of birth control. and 3 months later i found out i was pregnant with my son who is now 5 months old! my obgyn prescribed me microgestion fe 1.5/20 bc and im trying to switch back to it and lutera is the birth control i know that worked for me\"',\n",
              " '\"im just finishing my second month of pills. i had a crazy increase in appetite the first month, but its evened out now. but now ive been experiencing breakthrough bleeding for about nine days. i really hope it stops.\"',\n",
              " '\"this medicine has been a game changer for me. i stopped stress eating and lost weight, my mood stabilized and i have been incredibly productive and achieved great things on it. it does wonders for my anxiety. i have been on it for a year and could not be happier with the product. it is expensive but worth it! highly recommend.\"',\n",
              " '\"in the 6th grade i missed two consecutive days, then took my pill as i would any other day. throughout the day i felt terrible and eventually i went to the nurse. she took my heart rate and said it wouldve been okay if i had just sprinted a mile, but i had been sitting in class. she checked again 10 minutes later and my heart rate was slower than it should have been at a resting state. she called my parents and i went to the doctor immediately. i had to be hooked up to machines and monitored. the nurse said i was lucky not to have a heart attack that day. ive been scared of stratera/adderall/ritalin ever since.\"',\n",
              " '\"the first week on the pill was terrible. i had bad headaches and general sick to the stomach feeling, then it subsided. i was never hungry the whole time but so tired. this pill made me feel drained sun up to sun down. i couldnt bring myself to exercise the way i wanted because of the fatigue. i didnt continue belviq after the first month due to the tired feeling. im sure i could have lost much more weight if not for the fatigue.\"',\n",
              " '\"i started taking xenical 2 weeks ago. been hard to stick to a healthy diet. ive seen it all, the oily etc. but have lost 4 pounds. i have managed to eat healthier the past 2 days. am going to stick to eating healthy. i need to lose at least 2 stones in the next 3 months.\"',\n",
              " '\"i started on pregabalin 18mths ago, on 50mg twice daily then 75mg twice daily. its been 12 mths on twice daily 75mg and they have stopped working my anxiety and panic is back. going back to gp today hoping to increase it. i dont want to stop it. i dont want anti depressants i am not depressed. i have come so far on pregabalin i dont want to stop. but i do think my body has got used to it.\"',\n",
              " '\"works great!\"',\n",
              " '\"ive taken plan b twice in my life. the first time was right after the incident, literally not even an hour after in the wee hours of the night we ran out to walmart, came home took the pill and went to sleep. cant say i remember anything crazy to that experience. i do remember my period came a bit early and the cramps were pretty severe and so was the bleeding. it took a bit for my period to get back to normal, but it did! this time around is a whole other story! i took it about three days ago, day of taking it was good, next day was good, yesterday midday i experienced nausea and vomiting, and now today diarrhea and cramps. suppose to get my period anywhere from 3-5 days from now.\"',\n",
              " '\"i was prescribed clonidine for my blood pressure. i was also prescribed 10 mg norco for a female issues. i became addicted to norco for almost 5 years when i said enough is enough. i had read about clonidine being with opiate withdrawal so i gave it a shot and boy i have had zero withdrawl symptoms and like before where i always ended up using again im on day three i slept good im up having coffee which i havent done in a long time i cant even remember. it made me drowsy the first few days. i was able to lower the dose and havent taken a dose in the last 12 hours and i feel fine. if you have the opportunity please use clonidine i swear it works.\"',\n",
              " '\"saved the vision in both my right and left eyes when i had a herpes outbreak in the retina.\"',\n",
              " '\"prescribed for anxiety, gad, mdd. after being on zoloft for several years, when my depression and anxiety spectrum returned we decided to try lexapro. it just never felt right from day 1. after several months, i noticed the feelings did not improve and i figured i would need to live with it. now almost a year since starting, ive made the switch back to a low dose of zoloft. within weeks, i again feel normal and i am not plagued by the overall unease i felt on lexapro (specifically increased anxiety, developing agoraphobia, extreme laziness and no motivation, obsessive thoughts and headaches). being mindfull now, everyone is different. we all are wired uniquely. i know many people who love lexapro. not for me, though.\"',\n",
              " '\"i started latuda about a week and a half ago and for once, my husband noticed i had a brighter mood. the nausea hits me a little bit but its not so severe that i would stop the medication. for those who take verapamil for migraines (etc) should be warned - my psychiatric nurse practitioner did not say there is a moderate interaction between these two medications. verapamil potentiates latuda, thus making latuda stronger. i havent had any other nasty side effects. no eps. good sign.\"',\n",
              " '\"not a cure, but it sure does lower the amount of intrusive thoughts i get from ocd. this, in turn, leads to lower anxiety levels. its helping depression, as well.\"',\n",
              " '\"i have been taking propanalol 30mg daily to aid in migraine prevention and hypertension. i love the fact that it has greatly helped with the headaches and blood pressure, but i am having great difficulty with some side effects. my pulse rate used to run around 90-100 and has dropped to 45-49 making me extremely lethargic ready to pass out at any time, even sitting. i have also noticed my feet swelling at night and this is definitely new. i have never had issues with my feet swelling before i started this medication. i am a very active person and working out on the treadmill i cant get my heart rate over 100. i think we need to decrease the dosage even more. got a call out to the doctor.\"',\n",
              " '\"i have suffered with anxiety and depression a number of years now. finally over coming for the most part depression i was left with horrible anxiety. it built up month after month - i tried everything nothing worked. until one day my doctor prescribed me beta blockers. my life has turned around! i take them as needed. never more than 2 xs 40mg per day. usually just one - rare 2 and some days none at all. it did give me insomnia at first but that has leveled out. im so much calmer - my work output is up and im feeling better than i have in years! propranolol has been a total life changer for me in the positive. big thumbs up!\"',\n",
              " '\"my mother received this medication for a ut bacteria and it almost killed her. prior to this medication, she did not have problems w/her kidney and then she was one hour away from dialysis. her levels of bun went up to 111 and her creatinine was 7.6. since then her bun has not been normal. it is drug of double edge sword.\"',\n",
              " '\"so, i used this pill 3 times in one month. i already know that it was stupid and trust me dont do what i did. i also had all the side effects that were not what you would want times 3. i will tell you this, this is very strong and yes it works. even with taking 3 pills in one month i still got my period although it was a couple days late i still got it. have no fear it will work for you just dont stress yourself out.\"',\n",
              " '\"i have been on depo for about 7 years and am now just switching over to kyleena (iud). this was the best birth control for what i needed at the time. at the start i had severe cramps and highly abnormal bleeding. this was the ultimate lifesaver! after about 6 months of abnormal bleeding (this is very common when first starting depo), i stopped having a period all together. i would have given this a 10 if not for the more recent side effects i started experiencing. in the last year or so, i started experiencing a steady state of feeling down/low, easily agitated/quick to anger, and low libido. after some research i found other testimonials of people experiencing the same mood changes after being on depo for 5+ years. only reason im switching.\"',\n",
              " '\"i tried verapamil 180mg one a day for just over 8 weeks. after trying metoprolol, i couldnt the side effects of metoprolol. i didnt feel as many side effects on verapamil but it didnt work for me. unfortunately heart still beat abnormally. also blood pressure went up then down on standing.\"',\n",
              " '\"this birth control has gotten bad reviews and it scared me when my doctor perscribed me to it. ive been taking it for a month. im moody but i havent spotted or gained weight. im pretty sure my sex drive has increased. i havent really gotten any side effects. i hope it stays that way.\"',\n",
              " '\"i have been using soolantra for 2 months and honestly it is the best thing i have tried so far. i had papulopustular rosacea (mostly on my cheeks) and now it is almost completely gone. the bumps were gone after roughly 1 month and now the redness is also more than 90% gone. i am just so happy i gave this a try. also, one thing that you have to keep in mind: give it time. i did see progress from the beginning but also some occasional flare ups. just stick with it. its worth it!\"',\n",
              " '\"im 39 and my last period was on 12/14/16. my cycle is usually 27 days and always on time. had unprotected sex once this month on the 17th day of my cycle which shows 2 days after ovulation (dec 30th 5am). he pulled out. wasnt sure about taking a map but took the &quot;my way&quot; pill anyway on jan 2nd (lil over 72 hrs) for my own sanity. ive been crampy, clear discharge w/white strings (sorry tmi), gassy, felt slight nausea. ep was yesterday 1/10, so im 1 day late. i plan on testing on 1/13. i will post results. i read that it could be up to 48-56 days before i see a period with negative tests. paranoid.\"',\n",
              " '\"i was diagnosed with bv and took this medicine perfectly for 5 days. after the first day i got severe, crippling anxiety attacks which are very uncommon for me. i also had an upset stomach, cramps, and diarrhea for a week. the symptoms of bv never cleared up. i started my period after day 5 of medicine and after that, i was back to square one. it did not work at all for any of the symptoms, except the smell of the discharge was less bad, so thats why i gave it a two instead of a one. still trying to find a medicine that helps me! this is so frustrating.\"',\n",
              " '\"i had a very alarming adverse reaction to ativan (lorazepam), that i never had with any other benzodiazepine, that id like to share. my doctor prescribed me 0.5mg of ativan for my anxiety that ive had since a child. within an hour of taking my first dose i began to experience scary hallucinations, delusions, and paranoia. this never happened whenever i took xanax, valium, or klopin, so i dont know what made ativan different. not only did ativan increase my anxiety, but it also caused these disturbing adverse side effects! i personally did not have a good experience with this drug, and threw the rest away. please be very careful with it!\"',\n",
              " '\"i would not advise this type of coil. any coil in fact  i have had my non hormonal coil in for 3 y ears. im 28 years old with a 8 year old son and 6 year old twins. got this type of coil as my mum had breast cancer so they advise any women whos immediate family have had cancer to not put any form off contraception as that lots of hormones. my mum had advised me not to get this done and she always blamed this on her still born. i took mine out after three years as it was giving me a 9 day period and period pains. bearing in mine i have never suffered with period pains. cut long story short ive been trying for 2 years for a baby and have got pregnant 3 times and have had continuous failing pregnancies. i really dont recommend this coil\"',\n",
              " '\"i was switched to microgestin last may after years on yaz. i have extremely heavy bleeding/pain/fatigue that lasted 21+ days with 1 week break, then repeat. yaz stopped my periods for years, but they started again, so i switched. microgestin seemed like overkill, but it has stopped the bleeding and i was instructed to skip the placebos. i have gained 15 lbs that wont budge, but as ive never been overweight, dr. dismissed this concern. mood-wise, i&rsquo;ve always been laid-back but i find that it&rsquo;s easier to become overwhelmed. however, i have more worry about in general so i cannot solely attribute anxiety to it. over all, it&rsquo;s doing what i need it to do, but as i continue to sort out my lady problems, i would like to back down.\"',\n",
              " '\"before i took this i was suffering from constipation and diarrhea. the drug helps settle my stomach, i take it twice a day. the pills are very small and disintegrate fast with liquid, which make them extremely easy to swallow. i use to dread using the bathroom before i started taking this drug. now i dont even think twice about it and my stress level has decreased dramatically.\"',\n",
              " '\"after taking doxylamine for over 8 months for severe insomnia, i have gained over 15lbs. im only 51 &amp; 15lbs is a significant weight gain. ive never been overweight, ive been consuming less calories &amp; no change in weight. the doxylamine helps with my insomnia but i can not continue using it because of weight gain.\"',\n",
              " '\"had my nexplanon inserted on march 24th, 2015 after my friends giving me great reviews. starting may 2015 i bled for 6 months straight. the bleeding ended up leading to vaginitis which put me in the er for the first time in my life! doctor said to give it six months to see if it would stop, it did and i havent had a real period since august 2015. during this time i noticed weight gain, which i thought was my new relationship. i started to eat healthy in january 2016 and since then i have put on another 20 pounds, which in total puts me at 40 pounds! no amount of diet or exercise will take it off! not even a stomach virus i had for two days! im depressed, anxious, and full of angst. i go on friday to have it removed! thank god!\"',\n",
              " '\"this stuff just makes the burn and itch a million times worse. definitely not worth it. would much rather deal with the yeast infection than endure this suffering right now. i cant believe this stuff is still on the market. it sucks.\"',\n",
              " '\"i started zyprexa 6 months ago after i was hospitalized to the psych ward and diagnosed schitzoaffective, im also bipolar. it has been pretty darn good, makes me sleepy which is good for bedtime, i get between 8-15 hours of sleep a night. in july when i was in the hospital i weighed 98 pounds, i have gained 30 pounds since, but im worried ill keep gaining more weight, which is why i am thinking of looking for other medications that can treat both the ups and downs and the delusions and hallucinations. other than the the major weight gain, its good.\"',\n",
              " '\"fentora gave me my life back! but it is very hard to get it covered. they do, however, offer a coupon program for those who cant. our cost out of pocket was going to be just about $5,000 per month. insane! thankfully my pharmacist told me about the coupon program. this brought our co-pay to $5 per month! i have been on fentora for years now. probably 5-7 years. ive been through 3 insurance companies. ive always gotten my fentora, after long battles. the only negatives to fentora are: 1) if your mouth is too wet it will dissolve almost instantly and it wont give you the same help so i try to dry my mouth out first. 2) if you put them in the same spot you will get sores 3) hard to cut in half; they disintegrate otherwise, miracle med\"',\n",
              " '\"i had a lumbar fusion and discectomy and the neurosurgeon discharged me from the hospital with norco 10/325. that was not a good post-op medicine. i went to my pcp and he prescribed oxycontin 40mg 3xs a day and that didnt help. it made me itch all of the time. finally, he started me on vicodin hp 10/660 4xs a day and it has helped tremendously! two thumbs up!\"',\n",
              " '\"i recently had a lumbar disectomy on my l4, l5 and l5-s1. i have had terrible nausea and motion sickness after anesthesia in the past to the point of losing consciousness on my way home. i made sure to ask for something to keep me from feeling so terrible, if they could. aside from iv medications provided, they also put the scopolomine patch on me. it has done wonderful things! i have had no nausea or motion sickness. i have been really sleepy but, other than that, i couldnt be happier! my doctor said i can take off the patch tomorrow and i will be leaving it in place until then :)\"',\n",
              " '\"side affects are to severe long term.\"',\n",
              " '\"in 2008 i found out that i had copd and asthma. my doctor had me on a ton of different medications. prednisone being one of them. as time when on he kept me on the steroids for over a year. during that year i gained over 100 pounds from them. finally, i told him that i was taking myself off of them because with gaining weight they are not helping my breathing. just taking myself off i lost 30 pounds within 2 months. i was 283. i switched doctors and he put me on adipex. within 2 months i had lost another 30. now 2 years later i weigh 155. my breathing problems have since gone away. i never changed what i ate, it just controlled how much i ate. i never had any side effects. it gave me great energy at first, but now i feel nothing.\"',\n",
              " '\"at first i had a very light period but after that i didnt have another (no more periods). i never had a birth control like this one. i fell in love with it with in the first 3 months. ive had it for 8 and i was told that i would have a normal flow every month but i havent had a normal period. well i havent even had a period not once since i got. didnt every woman dream of not having this. \"',\n",
              " '\"my husband and i experienced a broken condom mishap. i took it an hour after the incident.this happened 3 days before i expected my period. my period finally came 5 days late, but it was effective. i did not experience any side effects.\"',\n",
              " '\"i was prescribed oxycodone 8 months ago due chronic pain from lumbar stenosis and, also, osteoarthritis of the knees. my prescription is for 5 to 10 mg as needed every 12 hrs for severe pain. so far, this is the only medication that has made a difference. it has made it less painful to walk and move around. i take a teaspoon of metamucil or ground psyllium powder every other day or so to keep my stool soft and regular. my doctor now suggests switching to the extended release version, oxycontin, but i am hesitant to do so until i do more reading of the experiences of others.\"',\n",
              " '\"so ive had my paragard for 6 mos now, after being on yasmin till pregnancy and then no birth control for a year. lemme break it down. i consider myself to have a pretty high pain tolerance. i disregarded the advice to take pain meds prior to insertion, and that was a bad move! the pain during insertion and immediately after was prrrrretty horrible. after that, there was some mildly irritating cramping the rest of the day, but nothing horrible. now, my first period after the iud - holy moly. it came in the night, and i was not prepared it looked like a massacre occurred on my couch. my next 3 to 4 periods were heavy. like, super plus tampon every couple hours. im happy to say that after 6 months, its not like that anymore!!\"',\n",
              " '\"i like this medication because it seems to last longer than others and without it i couldnt make it through the day.\"',\n",
              " '\"i was diagnosed with sjogrens and systemic lupus some 5 years ago after 3 years of tests etc. initially was on 40mg plaquenil and 30 mg predisinole(steroids). after 2 year was weaned of the steroids, i gained so much weight and the moon face was terrible. have had several flare ups when i take 10-15mg steroids for a couple of days. plaquenil has helped me a lot, initially i had a job to get out of bed, so tired, every joint and muscle ached and hurt, but this has reduced over time, i still get terrible pains in my joints, suffer severe reaction if i dont use 50 sunscreeen all the time, but my quality of life has increased 65%, i am now on reduced plaquenil of 200mg per day, steroids as and when i get a flare up.\"',\n",
              " '\"was on this pill for two years. gained about 15 pounds, had cystic acne around my periods, and my mood swings were unbelievable. i would find myself getting so angry and irritated at everyone and everything for absolutely no reason. perks were i didnt get pregnant and my periods were short and light, with no cramping. this was my 6th pill i tried and after this i gave up and switched to an iud. couldnt be happier.\"',\n",
              " '\"i have been off anti-depressants for about 7 months then i needed to go back on when i entered a very heavy ward (im a nurse) because i was becoming very anxious and could not work as well as i was. i was on zoloft but now am trying pristiq. i have been on pristiq for 2 weeks now, the first few days i had side effects - increased anxiety, insomnia, nausea and increased sweating but all side effects have now subsided. positives: - i have not had any anxiety this week and have been confident at work - no depressive symptoms - i have lost weight (not meant to be good but im happy about it). negatives: - i have noticed a slight decrease in libido which might turn out to be a problem and thats what i was scared of.\"',\n",
              " '\"ive been taking lutera tablets for about a month now. ive never felt this bad. everyday i feel nauseas, weak, headaches, heart palpitations and somewhat down. ive been a lot more sensitive with things that i would normally be able to handle without a hassle. i feel dizzy and weak most of the day and with two kids to care for, we all know that it doesnt matter if we are sick; we still have to be responsible and care for them. i am waiting on my doctor to call me back tmrw to see if its best that i switch to a lighter dosage or to my previous birth control pills, to which i had no side effects with. hopes this helps someone out there. god bless you!!!\"',\n",
              " '\"i have been on enbrel for about 2 1/2 years &amp; have really had no relief. prior i was on methotrexate &amp; ended up having to see a liver transplant doctor because of an acute drug injury to my liver. i now have to see the transplant doctor every 3 months so id rather be on enbrel than methotrexate. but honestly i feel the enbrel is just a waste of my time. ive also tried cimzia, celebrex, vioxx, etc. yet here i am at 42 unable to lift my grandchild &amp; 2 shoulder surgeries &amp; 2 toe replacements while on enbrel.\"',\n",
              " '\"this birth control is probably the best one. its the first one i tried and i love it. no side effects at all. i am exactly the same as when i was not on it. i have now been on it for 2 months and it has been perfect. definitely recommend it!\"',\n",
              " '\"excellent med. tolerate perfectly. very much improves my glucose intolerance. improves my mood as well and high improvement in my quality of life.\"',\n",
              " '\"im 32 and have had 2 children. i had this implant inserted at the end of march and i have gained 20 lbs despite increasing my exercise and decreasing my caloric intake. it doesnt help that all the weight is in my belly - it looks like im 4-5 months pregnant on any given day. my ob insists that the nexplanon shouldnt be the cause of my weight gain, but ive changed nothing else during this time frame. ive also been breaking out a lot more often than i used to. i realize that its a very fail proof birth control, but i cant take this weight gain any longer. i cant wait to get it removed!!\"',\n",
              " '\"i just wanna share this with girls who are worrying and freaking out cause i sure did. i took plan b cause i messed up on my birth control but also took a new pack of birth control the day after plan b, i didnt get my period for the month in february at all which freaked me out but i ended up getting old blood a couple weeks later and finally a month later after finishing my birth control, during my placebo week i am on my period right now. so i wanna say i know its hard not worrying about if plan b works or not but it really does. if you take it with birth control i would say it throws off your cycle.\"',\n",
              " '\"i have been using panlor ss since it came on the market, needing no more mgs years later than i did at inception, and have been pleased with an almost total abatement of migraine pain and suffering. for all of my life i have suffered with migraine pain and tried many medications with a laundry list of awful side effects. panlor ss gave me my life back and i am horrified that this medication is off the market.\"',\n",
              " '\"been on 1 mg for two weeks. depression has lifted quickly. no weight gain as of yet. had headaches for the first three days. overall a promising start\"',\n",
              " '\"i have had varying success with this drug. on one hand it has been a big help. it was able to flick the switch off and bring me out of a very bad gad and major depressive episode. but i wonder about the tolerance and how long it will be effective. i use it basically as an emergency tool when im spiralling down the rabbit hole.\"',\n",
              " '\"ive been on the patch for a month now. so far so good. my breasts look great ive even have a butt now which im happy about it. my only complaint is that the first day putting it on it itches. i have a lot of sex drive. loving the patch so far.\"',\n",
              " '\"i have been on belviq for 9 days now and have lost 7 lbs. the first day i had a severe headache and some dizziness. i only took one pill that day. my headache and dizziness went away once the pill wore off. started again the next day and no headache so i kept going and took the two pills that day. i have had no side effects since that first day. it does curb my appetite and i havent been hungry. i am using my fitbit and the myfitnesspal app to keep up with my exercise, calories and water intake. i need to lose around 65 pounds. belviq costs me $75 a month, i got the discount coupon from my doctor. update one month 15 pounds down. no problems at all, its working for me.\"',\n",
              " '\"my father had keytruda and now he is dead . stay away from this form of treatment!!!! it does not lengthen your life it shortens it. it also stops all the good in your immunity. please stay away from this drug!\"',\n",
              " '\"at first it was extremely helpful but after the first year or so of extended use, the effects begin to diminish. not dramatically but enough to be noticed.\"',\n",
              " '\"i have been taking trinessa for about two months now and have had zero issues. the first couple weeks i had slight nausea and mood swings, nothing crazy, probably my body getting used to it. i havent gained any weight (but i am a college athlete so i do exercise quite a bit). i have noticed my hunger is more often than before but i just snack a little to relieve it. i watch what i eat so i dont gain weight. all in all everythings been perfect no complaints.\"',\n",
              " '\"i took temazepam 15 mg for over a month with no results. i combined it with zzzquill about halfway through the month which still didnt help. ive now upped my dose to 30 mg per night combined with zzzquill for the last two weeks and its still not getting me to sleep. once i finally fall asleep, which can take hours, i still wake up several times throughout the night.\"',\n",
              " '\"i was taking carvedilol 3.125mg bid and it stopped working shortly after starting a stressful job and a death in my family. i wasnt able to get it under control so my cardiologist started me on bystolic 10mg qd. i was pleased with its quick results bringing my bp down to the normal range. now i have realized that i am tired all the time, i have no sex drive and i dont really care about much of anything. i can sleep all day on my days off. i have gained 30 lbs over the last year! i got my old rx filled today for the carvedilol and along with diet and exercise, im hoping to get back to my old self again. i cant deal with the fatigue anymore. not to mention the price of $60 per month.\"',\n",
              " '\"i have been on pristiq for 3 weeks and it is wonderful! the only side effect i have suffered is nausea, but well well worth it! i was on low dose of wellbutrin for almost a year and started suffering severe depression, my husband and 3 kids were definitely suffering from this as i was! i am very thankful for pristiq, just wish it wasnt so expensive. i am only having to take 50mg once a day and hope to be able to get off completely soon. there is hope!\"',\n",
              " '\"i have been on the depo for 6 1/2 years. i love it! it works. and no periods. no weight issues. no crazyness. about a week before i am due for my three month shot i will spot but it is no big deal. my doctor has recommended that i switch to a different birth control since i have been on this for so long and there is debate about bone mass being impacted after long term use. i am sad to switch honestly. i will be switching to mirena and am very nervous to try something different. i am only 22 so hopefully my body will adapt to mirena alright.\"',\n",
              " '\"i am 24 and had nexplanon put in around january of 2016. the first year was fantastic. normal period, light bleeding. this year has been awful! i was depressed all of the time, sore boobs, feeling fluttering pregnancy movements in my belly, acne all of the time and i had a very heavy 8 wk long period before i had enough. told my doctor to take it out asap. at the time of having it taken out is when my doc told me it tricks your body into thinking its pregnant. thats why all of the symptoms are so terrible! ive been 3 weeks without it and im still working to get my energy back. period is back to normal. ladies, beware. just do your homework.\"',\n",
              " '\"7.5mg i truly didnt find very helpful at all i probably could have taken 3 tylenols and got the same relief.\"',\n",
              " '\"i was on effexor xr for almost 4 months for major depression and anxiety. it caused stomach upset which got worse with every increase in dosage.( i also suffer with ibs so it was hard to tell for a while if it was the effexor or not.)the worst part however, was yet to come. i started spotting the 3rd month i was on it and by the 4th month on 150mg, i was bleeding as if i had my period every single day. my psychiatrist is tapering me off it and at 75mg now, i have less stomach pain and no bleeding. we will try zoloft next.\"',\n",
              " '\"i have been taking narcotics for chronic pain for about 25 years now. i started with tylenol with codeine and have progressed through just about everything (morphine, oxycodone, dilaudid, oxycontin, fentanyl patches, etc.). my pain management doctor had me on 60 mg of oxycontin 3 x daily and it worked (somewhat) for a while until i developed a tolerance and it too became ineffective. so the doctor switched me to 16 mg. exalgo 2 x daily. i was resistant at first, mainly because of reducing the number of doses per day but after i took it for a few days i was amazed. i dont wake up in excruciating pain anymore and, even though the effects are subtle and come on slowly, it works better in controlling my pain than anything else ive used.\"',\n",
              " '\"for years i suffered from anxiety attacks, depression and severe insomnia. i was prescribed many different drugs in the past but nothing helped me sleep. i was started on 30mgs at bedtime. it helped me sleep a bit better but still not all night. after 1 month of taking 30mg of remeron my doctor decreased dosage to 15mgs. amazing. a full nights sleep. waking near sunrise! what a gift! the increased appetite was much worse on 30mgs. since the dosage is now 15mgs the increased appetite is not nearly as bad. my anxiety attacks are few and far between and i dont feel groggy when i wake now. in the beginning i did. i have been on the medicines for about 4 months and am very happy with it. just wish a doctor had prescribed it to me a long time ago. best of luck!\"',\n",
              " '\"i have just been diagnosed with raynauds syndrome due to my very insufficient vascular blood flow in my legs. i have been nifedipine for 2 days and my feet toes and upper legs are already warmer.\"',\n",
              " '\"i have used the lidocaine patches by watson for years for osteoporosis in my neck and back and they decreased my pain from a 10 to a 3. no narcotics needed. now i have been given the lidocaine patch made by milan and they are absolutely horrible. .waste of money  useless. not only are they nearly impossible to separate from the plastic backing once you finally get them on they start peeling up immediately. . these are a total waste of money and someone should do something about this because the mylan company surely doesnt care.   now i will need to take a pill to help with the pain \"',\n",
              " '\"i take truimeq 600mg/50mg/300mg just had test shows that back being detectable again. i dont understand why i take on time every night, any ideas why. thanks\"',\n",
              " '\"i have been on microgestin fe 1/20 for about 4 months now, and i could not be more happy with this bc! this is my first time taking any type of bc pill, and i was honestly scared to start one due to many bad stories ive heard about &quot;the pill&quot;. the first month i had a very heavy period, along with terrible cramps, a breakout of acne and no more sex drive. after that first month, my periods have been extremely light and short with no cramps, my skin is super clear, but my sex drive is still nowhere to be found. i do experience irritability, but no weight gain (or loss!) i am not sexually active so ive had no scares, or any experience of how well this pill works with preventing pregnancy. overall im very happy with this pill!\"',\n",
              " '\"i got the mirena implanted two days ago (wednesday june 17, 2015) and so far it has been close to the easiest thing ive ever had to do. im 18 years old and ive never had a baby, i got the mirena to use as a form of birth control. i took 880 mg of aleve 1 hour before my appointment and the whole process took maybe 10 minutes. ive only had one pap smear before and she even had to dilate me a little bit but it didnt hurt worse than my worst period cramps- you just have to breathe through it. i had light spotting for the rest of the day and some mild cramps that felt better when i laid down and used a heating pad. now im in no pain at all and i am happy and have energy and am very happy that i got this done!\"',\n",
              " '\"i had paragard inserted in july 2016. iread reviews online &amp; expected the worst. i took 3 aleve beforehand. during the procedure i had 3 intense cramps &amp; it was done. i had a small amount of spotting that day, no cramping, felt fine the next day. my 1st period came with the paragard i had brown spotting a few day before it actually started, it was a little hard to tell when it actually started. read online that many users had bloody masacres on their periods, mine was suprisingly light. few weeks later i noticed foul fishy odor, went to my ob &amp; had bv (never had this before). the next month i got bv again was told it was normal. flash forward dec 16, i had horrible stabbing pains, had an ultrasound, was told my iud was falling out, so they took it out &amp; i was given plan b.\"',\n",
              " '\"i was on this for a little over one month. took 15 mg per day. it greatly reduced my anxiety, but i experienced nausea about an hour after i took this. its a great medication but my body could not get used to the side effects.\"',\n",
              " '\"this was my 3rd time having a colonoscopy and this was my worst experience in prepping ever. i ended up throwing up after drinking half of the mixture and had to end up going to drugstore to get something else. i used the cherry flavor pack, but the thickness and the sodium taste was more than i could bare. i will definitely ask for something different in 5 years when i have to have another one!\"',\n",
              " '\"it did hurt but it was quick. it was pretty uncomfortable, like any obgyn visit. the part that hurt the most was when they pinched the cervix. it was sharp and crampy. but it only last like a 30 seconds. i did feel cramps the rest of the day. my period is now very light and i get mild cramps. they are not as bad as they used to be. i thought my periods were going to be gone for good tho :( lol oh well. it is a great feeling knowing i will not be pregnant at least before i am 22. :)\"',\n",
              " '\"i took lisinopril for approximately five months and could no longer take the coughing. initially i was tired all the time. it had been prescribed to take every morning. i called my doctor and we switched to taking in the evenings so i would sleep better and that cleared the lethargy. however the cough never went away. it was violent and painful (headaches and feeling like ribs were bruised), caused huge disruptions at work, interrupted my sleep, and caused me to pee - even if i had just emptied my bladder. i found out this was a common side effect and called my doctor today to switch to something new. i start losartan tomorrow.\"',\n",
              " '\"i have suffered from migraines since an auto accident in 2009, sometime as many as 15 a month. i was prescribed maxalt this past year (after trying a whole bag of other medicines). it has given me my life back  within thirty minutes after taking maxalt the symptoms decrease by 50% and are gone within an hour. several side effects, very drowsy and increased nausea but after several hours of sleep all is good.\"',\n",
              " '\"taken in combination with a stool softener. long term daily use.\"',\n",
              " '\"switched from topamax 15 mg to zanisamide 50 mg for 1 1/2 month. had one migraine so far. very bad upset stomach, acid, and burping sensation. will hold on a little longer to see. topamax made me lose hair. foggy memory from both medicines.\"',\n",
              " '\"i was prescribed this yesterday at urgent care for a very slow growing allergic reaction since it was starting to affect my throat. i felt instantly better during the first day and dealt with the common side effects with appetite change and sweating which i was okay with. when i woke up though on the second day though, my chest had unusual palpitations and its making me lethargic and my mood is pretty numbed. my doctor warned me of all the side effects, but the palpitations arent a part of it so im worried. if it doesnt get better before i take my second pill for the second day im going back. it sucks because this medication was really working. id rather have prednisone instead, that worked before and less effects.\"',\n",
              " '\"i have been taking 1600 mg for 35 years. it is the only medicine that my doctor tried that really worked to relieve my panic disorder. however, it is only currently being produced by one drug company, and they are really expensive. it is considered an &quot;old fashioned&quot; medicine. right now my insurance is covering it with a $50 copay. i dont know of any other medicine that is similar, so i guess im stuck for now.\"',\n",
              " '\"i was having trouble with drainage into my throat, practically choking and gagging. this worked really well. it cleared that up and took care of the drainage. it did keep me awake at night, but i found that if i took the two daytime doses, i didnt really need the nighttime one.\"',\n",
              " '\"good. its only been two days, but i feel much better already. my foggy head feels like its clearing, my eyes feel clearer, my headaches are minimal and i feel great. ill come back and update in a few months, but i just wanted to offer my positive experience, because all you ever see here are negative reviews. yeah, ive had a bit of tingling, but its really nothing - just like normal pins and needles, which i was getting anyway, so i cant even tell if its this or not; even if it is, its not distressing in the least. i think im coping well because my neurologist said to me the people that dont do well on this medicine usually misinterpret the side effects as dangerous. theyre not. now, i feel perfectly safe with the side effects.\"',\n",
              " '\"my gp saved my life by (a) getting me to admit to alcohol problems ( three bottles of wine daily seven days a week ) (b) sending me for a biopsy for potential cirrhosis ( clear ) but being in the hospital ward for two days showed me the effects of alcohol abuse and realising i wanted my life back. this was the first two days in over twenty years of not drinking alcohol. (c) the real life saver chlordiazepoxide prescribed to me. now alcohol free over three years, got my life back, no more dry vomits each day all day, no more obvious signs externally; the sweating or panics. do not ignore the medical offer of this drug if prescribed to you it could save your life as it has mine. aged 53 - male.\"',\n",
              " '\"i was so scared at first to start this med!!!! but i was so tired of feeling tired the first 2 weeks were rough!!!! now almost 8 week in i feel great so much energy thank god and gilead for this med. oh iam gentype 2 for over 20 years having this crap. god bless and good luck to all.(:\"',\n",
              " '\"took this for nerve pain and it helped! except i would rather ache &amp; have nerve pain than deal with the side effects i experienced. i kept getting nightmares that were so horrific, i eventually started sleeping with the lights on &amp; thus not sleeping as good. within 6 months i gained 20 lbs without changing my eating habits nor physical activity. looking back, there was a short period of time when my vision was affected as i had trouble focusing. at the time, i just thought my contacts prescription was getting too strong for me. i decided to revisit the list of side effects and sure enough there they all were. i quit taking nortriptyline that day and eventually the nightmares, blurred vision, &amp; weight gain went away.\"',\n",
              " '\"this drug has changed my life. my migraines used to leave me in pain for days along with vomiting, sensitivity to light etc. the nasal spray works within half hour and usually provides full relief. i cant even believe it- migraine gone. leaves me w a sore throat but i dont mind it. first couple of times it made me sleepy but i got used to it. zomig allows me to move on with my life instead of living my life in pain. if you are debating, definitely give this a try!\"',\n",
              " '\"i was on effexor xr for over 9 years and it finally pooped out on me. my anxiety and panic attacks came back with a vengeance! i was barely functioning, always afraid that i was going to drop dead. my psychiatrist recommended a tricyclic antidepressant but i am afraid of those medications. he then recommended lexapro. so ive been on lexapro generic 10 mgs for 2 and half weeks now. i have mixed feelings about it right now. the first week i felt no difference in my anxiety. the second week, i felt great! hardly felt anxious and hardly reached for the ativan. i was sure this was the med for me. now i feel out of and a bit anxious again\"',\n",
              " '\"i am 22 and i have always had moderate acne on my forehead since i was 13. i first started with 100mg of spiro which caused a horrible initial breakout. i stopped taking it for 1 month and started it again but on 50mg and it really cleared my skin. within one month i started getting a terrible headache that lasted 1 week it was so unbearable i stopped taking the pill for a week now and my headache is completely gone. i dont know if this happened because my diet consists of mostly salt food, but i was seriously scared i thought i had a brain tumor. this pill is a diuretic so maybe itll work well to those whom have a well balanced diet, but as soon as you feel side effects you should stop it immediately!!! :(\"',\n",
              " '\"neurontin 800mg is the best medication i have ever taken for any kind of nerve pain and it especially works with back pain and restless leg syndrome.\"',\n",
              " '\"opana is the most effective of all the opiates i have taken for my osteoarthritis. what used to make my life a living hell is now under control. thats not to say that i dont have bad days, but compared to all the other meds ive been prescribed, opana definitely ranks #1. it took a few weeks for me to feel a positive effect, but im glad i suck with it. its the best.\"',\n",
              " '\"has helped me drop my numbers by almost 100. took awhile to get used to side effects. sometimes they rear up and show me whos boss. i havent lost any weight but havent gained either. my average blood sugars were 210 now they are 130\"',\n",
              " '\"im on day 3 of wellbutrin for pretty much everything- depression, anxiety, adhd and smoking. today, i smoked a cigarette and it tasted awful. they tasted &quot;normal&quot; yesterday. i tried a couple more and each tasted worse. i was not expecting this effect but am very excited. at this rate ill be done tomorrow! and the adhd and depression seem much better. no side effects except for first day (i just felt anxious and weird, but fine since then). maybe a miracle?\"',\n",
              " '\"i have had mirena in for about a year, getting it put in was painful for me and the whole first day it felt awkward. i had some spotting, and slight cramping for weeks after so i went back to the gyno to have a follow up to make sure it was in right, they said it was. 7 months into having this until now i have experienced some intense cramping, and a couple of months i have had spotting at the beginning of the month and at the end. not sure if this has happened to anyone else and i also feel like i spot just as long as i would have had a period.\"',\n",
              " '\"i have been on campral for over a year now and wish that it worked for me as well as it has for others. unfortunately i still want to drink every day and did so daily for at least four months on the medication. \"',\n",
              " '\"dermatologist put me on bactrim ds, to be taken twice a day with food. no side effects in the first few days and did a good job at clearing up my face. currently i am on the 9th day and experiencing severe side effects. fever, chills, extreme joint pain, muscle weakness and overall sluggishness. also experiencing difficulty breathing, a tight chest, headache, and dizziness to the point of almost falling over, for no reason. the most severe of the side effects is the joint paint. can hardly take a step on my right leg and cannot lift anything with my right arm. bactrim does its job however at the expense of your health. please do your research before starting this drug!\"',\n",
              " '\"this cleared up my cystic hormonal acne. its only been 2 weeks since i began using it. i have no active spots. i have had constant breakouts for 2 years with usually 3\\\\4 cysts at once! i tried everything i could get my hands on, topical creams, antibiotics, going gluten and dairy free for 5 months, sunbeds, tea tree oil, aztecs healing clay, i took tetracycline for almost a year, tried sacilyic acid, vichy normaderm range, clerasil, clean and clear, honey masks, soo much more i cant even remember! hundreds of euro spent and not one worked within 2 weeks all my spots flattened and began to heal, now my skin is 90% clear all i have is scars. i remove my makeup with micellar water, then wash my face with cetaphil cleanser, and use duac.\"',\n",
              " '\"i take this 20mg of this rotten drug at lunch &amp; might as well write off the rest of the day as i am a zombie. i take diltiazem with b/d &amp; it never leaves me in a stupor as lisinopril does. i am not a diabetic nor am i suffering from congestive heart failure which lisinopril is commonly used for. i despise this drug but for some reason my doctor feels i need it.\"',\n",
              " '\"my mother took it for uti. after the fouth dose, she had shaking chills, fever, chest pain and upper back pain. i am not sure whether this is caused by uti itself or from the medication, hope that she recovers\"',\n",
              " '\"this product is strong. i mean strong. i only use it as a last resort when other, gentler remedies fail. i never need to take more than one pill, even though the box suggests up to 3. and i only take it if i expect to be near a bathroom for the entirety of the next day, because the laxative effect lasts about 24 hours. i make sure to drink plenty of water (or one of those sports/electrolyte drinks) to avoid dehydration. the only side effect ive noticed is chills. many of the pink &quot;womens laxatives&quot; contain the exact same active ingredient as dulcolax, so if youre avoiding one, check the labels very carefully before you buy the other.\"',\n",
              " '\"i suffered from gerd for over 4 years and have tried everything. i was eating tums like candy and taking prilosec. then i started with the acid reflux in my sleep and woke up gagging and vomiting. i had a scope 2 months ago and was told i have high-grade dysplasia barretts. doctor put me on 60 mg dexilant daily. within 2 days i was in heaven! works wonders but now i have diarrhea that is constant. it started a few days after i started to take it. other than that, it works wonders. i can actually sleep in my bed instead of the recliner.\"',\n",
              " '\"been taking zomig for about a year for common migraines (without aura, i think). i never know if a serious migraine is coming on, but zomig seems to work for it all. i break the 5mg pill in half at first if its not bad, then take a whole 5mg pill if i wake up to a headache the next day. my headaches used to last 2-5 days switching sides. imetrex seemed to work but it made my arms and chest feel heavy. zomig has less side effects and seems to work just as well. i do have a few side effects, but i associate them with relief so they dont really bother me. a pill will put me out and ill sleep really well, my skin gets sensitive to temperature (showers will sting a little), and as soon as the headache subsides ill feel a little euphoric.\"',\n",
              " '\"i was prescribed simvastatin for high ldl cholesterol. after taking it as prescribed for several months, my cholesterol levels did reduce to healthy levels. i continued the treatment, until i realized that nothing i was eating tasted right. i consulted my pharmacist because i take other medications, and he said it was the statin that had this side-effect. i stopped taking it immediately, and my taste has returned to normal, and my cholesterol is elevated again. i will be trying other methods to increase hdl and reduce ldl. after much research, it is clear that statins are dangerous.\"',\n",
              " '\"suffered from anxiety and depression for 3 months with over 20 side effects. took citalopram and prozac but both only worsened my side effects. finally doctor gave me mirtazapine and almost overnight i seemed to improve. had my first full sleep in 3 months and felt like eating again. slowly over the course of 1 week all side effects left me and within 2 weeks i was more or less off the medicine. 3 months later i lead my old life again. if you suffer from sleep and have lost your appetite due to anxiety give this a go. good luck\"',\n",
              " '\"i was giving this medication for a uti. by day 2, i honestly thought i was dying. i had severe back pain and headache, both unrelieved by excedrin which usually works great. i felt spaced out and unable to concentrate achy all over like i had the flu. last night my heart started racing and my chest felt so tight, i felt l was going into anaphylaxis. i have never had an allergic reaction to a medication, so no sure if these symptoms are side effects or allergic reaction, but $30 worth of medication went in the trash because it isnt worth the risk. i have a call into my doctor who will hopefully call in something different.\"',\n",
              " '\"i have had chronic cluster headaches since 1978. of the dozens of medications i have been prescribed, the only one that has brought me sustained relief over the years is cyproheptadine. i have been on it since 1984, 8-mg twice a day every day (except during my pregnancies when i stopped all medicines, reverting to indescribable pain). my cluster headaches are not cured by cyproheptadine, but the severity of pain is reduced to a tolerable level. no side effects. also, i had an occipital nerve stimulator implanted in 2007, which continues to help tremendously. best abortive for me has been ultram, 3 tablets taken at onset of pain (i try to limit this to 1 or 2 times per day, taken at the times i most need to function well).\"',\n",
              " '\"this was the 1st night in months i actually slept 8-9 hours. took this little pill at midnight. actually, woke up at 5 am due to pain in left knee area due to previous medial/lateral meniscus tear. had arthroscopic surgery approximately 2 months ago but still painful especially at night. doctor claims pain is due to arthritis so i sleep with a moist heating pad wrapped around the knee to ease the pain. after waking at approx 5 am, re-wrapped the heating pad around knee and fell back to sleep within minutes. ive never been able to return to sleep in the past. i used to walk the floors after sleeping 3-4 hrs. slept until 9:30 this morning.\"',\n",
              " '\"had the depo shot for about 60 weeks now. i too, experiened bleeding for quite a while until my 3rd shot (very light) but it look like a normal side effect! now i am completely fine, not gained any weight, no migraines, no pms. sometimes bleeding a week before im due for my next shot but i was assured that is common.\"',\n",
              " '\"ive been on nexaplon for 6 months now and i can say its been very affective, i have unprotected sex without pulling out and ive had no trouble, so thats good. but i have gained quite a bit of weight, i went from a flat stomach to a little bit of a pudge. i also have experienced slight mood swings and acne, but the weight gain is by far the worst and most noticeable. i really like nexaplon because of not having to take a pill, or get a shot every 3 months, and its awesome to not have to wear condoms lol. besides, i love how its a lot more affective than pills or anything else, but i am in fact insecure about my figure now  at least im not pregnant. :-) hope this helps\"',\n",
              " '\"i had been off birth control for about a year when i decided i wanted to go back on it. my doctor recommended reclipsen; she believe it would clear up the little bit of acne that i had on my cheeks and forehead. i took reclipsen for 4 months in total and it was a nightmare. the first month my breasts were extremely tender. they were tender to the point that it was painful to sleep in various positions and i could hardly exercise due to the pain. by month 2 i started to feel like my whole body was swollen. my face also looked swollen, and my acne actually became much worse! i lost my sex drive and felt miserable. i stopped taking it because i felt like i was becoming a monster! lutera was much better for me, so im back to that!\"',\n",
              " '\"psoriasis diagnosis: i received my first injection the end of december 2009 and i saw an immediate difference within the first two weeks. the second injection was due; however, i was ill with an upper respiratory virus in which my doctor indicated to wait until it was resolved. i was about 1.5 weeks late with the 2nd injection. i was flared and received the 2nd injection with itching down 50% and cleared approximately 40%. two weeks after the 2nd injection, i developed moderate arthritis symptoms in my shoulder, right knee and my finger joints. it was time for the 3rd injection after waiting 3 months. i remained at the 40% clearing. i discontinued this medicine due to joint issues and flaring increase by the end of 3rd month.\"',\n",
              " '\"just rating.\"',\n",
              " '\"i am 63 years old. feel as if i have lost out on many years of living. always had mental health issues. i managed to work for twenty-five years, off and on. never was able to articulate my physical and emotional well being very well to a doctor. i was just handed an antidepressant and a sleeping pill. i gave up trying to find an answer to my severe fatigue, insomnia and deep depressions. i would beat myself up, since there has never been any reason, i could pin point as to why i suffered so much. i feel i have slept my life away. now i am finally hopeful. on low dose dex for one week. i slept a full 8 hours and have a positive feeling of a wonderful 25 years to come! thanks for all the comments, which have given me a renewed strength!\"',\n",
              " '\"i hate it i am been bleeding on it\"',\n",
              " '\"i took 2 advil for 5 yrs to alleviate arthritis pain. my hip/groin pain got so bad, i finally went to see a doc. he prescribed celebrex  it works great for my hands  but not my hip. someone suggested taking tylenol with the celebrex -- much better results. i take l,000 mg of tylenol and 200 mg celebrex, daily. i hope by summer the heat will help my arthritis and i can cut back on the tylenol. celebrex is very expensive. i wish the results had been a lot better for me but as a professional pianist, im so grateful that it works great on my hands.\"',\n",
              " '\"i have been on trilipix for 5 weeks and it has lowered my triglycerides from 881 to 475 in just 28 days with a slight change in diet. i have not yet noticed any side effects other than having more energy.\"',\n",
              " '\"after having had bilateral hip arthritis for over 16 years with osteopenia and herniated disk at 4 locations (l2- l3, l3-l4, l4-l5, and l5-s1) but found otc drugs (ibuprofen, advil, motrin, meloxicam) not really effective. found physical therapy comforting on lumbar disks but not at all on arthritis. i have been coping with increasing pain since 2016. my primary care physician sent me to a pain intervention specialist who prescribed me to 25mcg butrans 4 patches (out of pocket and very expensive) with tramadol 50mg to catch up with in 7 days. its been over 3 days on butrans with absolutely no effect at all. very disappointed. i am calling my doc first thing in the monday morning.\"',\n",
              " '\"i was prescribed this medication for bv (500mg 2x a day/7) &amp; it was the worsttt experience ever! i got freaking little bumps/sores on my lips!! on top of that i had the worsttt pain radiating from my sides to my back, my urine was really dark, i was light headed &amp; felt like i was going to pass out which led to panic attacks. my neck hurt, my throat was killing me. i had no relief &amp; in fact it made me feel more like i had a uti as i also experienced frequency, urgency &amp; burning when i urinated. i stopped taking it after 3 days &amp; called my dr.\"',\n",
              " '\"i was given this for my horrible migraine and for my insomnia. i was prescribe 20 ml every night and i must say is a life saver, im a full time student and i had a tumor removed from my spine and after that i wasnt able to sleep like before and my migraine went five level up, horrible, but this medicine is the best thing ever. the first week i tried it made me soooo hungry so i stopped it for like a month but my migraine was killing me i started it again no more side effects, i have energy for my day, it worked out great for me\"',\n",
              " '\"i started taking prozac 5 yrs ago due to a panic attacks. i then stopped taking it for 2 months, felt ok for the first 6 weeks apart from withdrawal symptoms. i have now started taking prozac again as my depression has come back, my panic attacks are getting worse. i feel like cant leave the house and i cry all the time. i decided that i should try taking them again. \"',\n",
              " '\"works well.\"',\n",
              " '\"only reason why the mirena gets a star is because i didnt get pregnant. extreme pain on implantation, and i have a high pain tolerance. i experienced extreme dizziness, headaches, mood swings to the point of breaking down once a month, cystic acne, headaches, and extreme bleeding. constant cervical irritation and bloating with no sex drive. would never recommend it, even though it did its job. i was convinced it was misplaced based on the horrible constant symptoms. when i went to have it removed the nurse acted as if my symptoms were crazy, she had never heard such a thing and my iud was placed &quot;beautifully&quot; and tried to convince me to keep it. i could have killed her. final got it removed and back im back to being a healthy 28yo.\"',\n",
              " '\"although im paying a kings ransom for this thanks to my garbage insurance, this immediately improved my asthma. im not sure why so many people seem to have a problem with it but im having great success. im actually sleeping now, and im not rasping all the time. im not even kidding it made a difference after the first dose. to be fair i was also enjoying good results with advair, but this seems more effective.\"',\n",
              " '\"i was inpatient in the hospital for a 5 day migraine. i was given reglan and benadryl thru iv several times over a 4 day hospital stay and it helped the migraines in mins. i want you to understand how miserable i was. i had to have the curtains always drawn, couldnt watch tv or listen to music, and the room always felt like it was spinning. l noticed that when they administer the benadryl, it burns when given thru iv. i had competent nurses who administered it slowly to prevent intense burning. i also noticed after both were administered, i felt like i needed to move around, so my fingers and legs twitched a little, but not too much. it helped more than anything, and im really happy it was there as an option.\"',\n",
              " '\"i got the implant 3/31/16, first period came as normal but instead of my normal 4 days it was 10. my next period started 4 days before it normally would have, and hasnt stopped yet. mostly spotting, but its all been about black. i thought that meant it was old blood lining, but obviously my uterus must be larger than myself, or so it seems! i want to cut the damn thing out of my arm myself. if i had any idea my period was going to be like this, i would have kept the 4 day and just used condoms! now, i just get nothing! not happy!\"',\n",
              " '\"im 20 and i got nexplanon 8 months ago. first 6 months i bled constantly (although it was light it was still a huge pain in the ass) but i stuck it out because my gp said it would take 4-6 months for my body to fully adjust. ive gained about 30lbs. i have terrible mood swings, i get angry very easily, and i also have a very low sex drive, so my relationship is suffering. since the initial 4-6 month period, ive had terrible acne which ive never suffered from before, and ive had discharge and regular spotting. at least it has been effective, since the weight gain, low sex drive and acne has pretty much made me never want to have sex again, but i cannot wait to get it taken out of my arm  although i hear thats the worst bit!!\"',\n",
              " '\"upped dose from 5mg to 10mg and again was scared. still no signs of pain relief but it has only been about 6 days since starting. as for side effects - a bit of a dry mouth and slight grogginess for an hour. nothing that i cant deal with. the dry mouth only lasts for ten minutes. not sure what if i will have to increase dose but so far so good.\"',\n",
              " '\"i took this about 45 years ago in my 20s, for several years for anxiety, when it was called stelazine. now it is only available as the generic trifluoperazine. ive had a prostate and bladder condition for s few years now and often suffer nocturia, needing to go every 20 minutes once i go to bed at night. this often can last the entire night until 8am-9am. in desparation i tried this drug again and found that 1mg quiets my bladder within an hour and lets me sleep. even if i do get up every hour or two, i can get back to sleep. other overactive bladder meds have unacceptable side effects on me of dry mouth, and greatly lowered bp. this has no side effects, calms me down, reduces the frequency about 75% and lets me sleep.\"',\n",
              " '\"my migraines are primarily abdominal, but i get daily tension&quot; type headaches as well. but my nausea &quot;attacks&quot; are totally debilitating and the headaches get more so every day. i took topamax starting at 25 mgs then increased. i noticed it really helping my symptoms, way less nausea, headaches stopped and i could sleep well. unfortunately, i am one of the people who react with a rare side effect of an acute onset closed angle glaucoma attack and my vision got very blurry and got so bad i could not see anything but blobs if it was more that 12 inches from my face. if you get blurred vision go to the er and show them the letter from the topamax website, because er had never heard of that reaction. i gave it a 5 because it worked until then.\"',\n",
              " '\"hi everyone this is my second update, its been 2 weeks on phen. my starting weight on 4\\\\22 was a big 226. my first weigh in i was down to 214 and as of today 5\\\\7, i weigh 207. 19 pounds in 2 weeks!! but more importantly i wanted to make sure that everyone please please do not take dry mouth lightly it causes cavities  i developed my first cavity ever in 22 years , because of dry mouth   please drink\\\\sip on water all the time and chew sugar free gum or suck on candies. brush your teeth after every meal, it will help keep the bad bacteria out . i hope i do not get any more cavities and i am hoping you dont either. other than that im pleased with the weight loss and continue to work towards my goal (140lbs)\"',\n",
              " '\"i have anxiety and slight depression due to stress. this is my first week on lexapro and i was given 10mg which i couldnt take as it made me very out of sorts, dizzy, stomach issues. so cut it down to 5mg symptoms are still there with the &quot;out of it&quot; feeling dazed and my body feels kinda tingly/numb and i have a headache which i dont know if its lexapro related or allergy related. also makes me jittery. im really sleepy too and i take it at night. not sure im going to keep taking it. i dont like this out of it feeling. but i am calmer and not so quick to yell at my kids.\"',\n",
              " '\"no noticeable side effects.\"',\n",
              " '\"omg!!!! i guess this medicine is just really strong  i read a side affect could be itchiness  didnt expect this though  maybe 3 hours after i put it in and noticed what kinda looked like the capsule came out extremely gooey and right after i am itching so bad i dont know how to stand it i cant even sleep   i hope this goes away soon\"',\n",
              " '\"not good at all\"',\n",
              " '\"my doctor gave me wellbutrin xl as an experiment. i was hyper, couldnt focus or stay still for very long. my mind raced and i was easily distracted. and like many other i had projects that were started but never finished. my shrink told me that my childhood characteristics were those of and add kid. as an adult in my 40s i still had the hyper and difficulty staying focused on one thing at a time. wellbutrin starting at 100 mg and going up to 300mg once daily had a calming effect on me and i was more able to focus on one thing at a time instead of my thoughts being scattered and drifting. it did not have any effect on my erectile dysfunction problem though. if anything, it decreased my sexual drive. wellbutrin has helped with my add symptoms and i feel calmer.\"',\n",
              " ...]"
            ]
          },
          "metadata": {},
          "execution_count": 8
        }
      ],
      "source": [
        "X_test = X_test.values.astype(str).tolist()\n",
        "X_test"
      ]
    },
    {
      "cell_type": "code",
      "execution_count": 11,
      "metadata": {
        "id": "SfVDeNHNh50l"
      },
      "outputs": [],
      "source": [
        "X_train = X_train.values.astype(str).tolist()"
      ]
    },
    {
      "cell_type": "code",
      "execution_count": 12,
      "metadata": {
        "id": "Yl9SZNzlveyx"
      },
      "outputs": [],
      "source": [
        "# Drop missing or empty values in X_train\n",
        "#X_train = [text for text in X_train if text.strip()]\n",
        "#X_test = [text for text in X_test if text.strip()]"
      ]
    },
    {
      "cell_type": "code",
      "execution_count": 13,
      "metadata": {
        "colab": {
          "base_uri": "https://localhost:8080/",
          "height": 459
        },
        "id": "qaIr1dZnJ7_-",
        "outputId": "169d053d-9f18-41f8-eb63-1657ea4066c1"
      },
      "outputs": [
        {
          "output_type": "execute_result",
          "data": {
            "text/plain": [
              "28970     2\n",
              "100957    2\n",
              "108596    0\n",
              "5119      0\n",
              "98525     2\n",
              "         ..\n",
              "128106    0\n",
              "103694    2\n",
              "860       2\n",
              "15795     0\n",
              "121958    2\n",
              "Name: rating, Length: 104228, dtype: int64"
            ],
            "text/html": [
              "<div>\n",
              "<style scoped>\n",
              "    .dataframe tbody tr th:only-of-type {\n",
              "        vertical-align: middle;\n",
              "    }\n",
              "\n",
              "    .dataframe tbody tr th {\n",
              "        vertical-align: top;\n",
              "    }\n",
              "\n",
              "    .dataframe thead th {\n",
              "        text-align: right;\n",
              "    }\n",
              "</style>\n",
              "<table border=\"1\" class=\"dataframe\">\n",
              "  <thead>\n",
              "    <tr style=\"text-align: right;\">\n",
              "      <th></th>\n",
              "      <th>rating</th>\n",
              "    </tr>\n",
              "  </thead>\n",
              "  <tbody>\n",
              "    <tr>\n",
              "      <th>28970</th>\n",
              "      <td>2</td>\n",
              "    </tr>\n",
              "    <tr>\n",
              "      <th>100957</th>\n",
              "      <td>2</td>\n",
              "    </tr>\n",
              "    <tr>\n",
              "      <th>108596</th>\n",
              "      <td>0</td>\n",
              "    </tr>\n",
              "    <tr>\n",
              "      <th>5119</th>\n",
              "      <td>0</td>\n",
              "    </tr>\n",
              "    <tr>\n",
              "      <th>98525</th>\n",
              "      <td>2</td>\n",
              "    </tr>\n",
              "    <tr>\n",
              "      <th>...</th>\n",
              "      <td>...</td>\n",
              "    </tr>\n",
              "    <tr>\n",
              "      <th>128106</th>\n",
              "      <td>0</td>\n",
              "    </tr>\n",
              "    <tr>\n",
              "      <th>103694</th>\n",
              "      <td>2</td>\n",
              "    </tr>\n",
              "    <tr>\n",
              "      <th>860</th>\n",
              "      <td>2</td>\n",
              "    </tr>\n",
              "    <tr>\n",
              "      <th>15795</th>\n",
              "      <td>0</td>\n",
              "    </tr>\n",
              "    <tr>\n",
              "      <th>121958</th>\n",
              "      <td>2</td>\n",
              "    </tr>\n",
              "  </tbody>\n",
              "</table>\n",
              "<p>104228 rows × 1 columns</p>\n",
              "</div><br><label><b>dtype:</b> int64</label>"
            ]
          },
          "metadata": {},
          "execution_count": 13
        }
      ],
      "source": [
        "y_train"
      ]
    },
    {
      "cell_type": "code",
      "execution_count": 14,
      "metadata": {
        "colab": {
          "base_uri": "https://localhost:8080/",
          "height": 275,
          "referenced_widgets": [
            "e030ccdcfd9a49008536d6a5b990515a",
            "1f74f2896161402b9b1581a978508cde",
            "67754efb5bac4532bcdc6eb44b0a43b1",
            "6d6ddb4bd63c4079ae5b3b0360a464de",
            "801f13c0d91b4b0cb3d7ebb653bcd23f",
            "8b003d62ecd942ab83b031fc35adcfbc",
            "6aa648c54e1d4e53bce7f74b2eafeb77",
            "33af6f64785d48c7bf5dd3d7b208cd23",
            "90cf669d17f948f3b4ff7f635fd61631",
            "74711bb3bd37494bbf703e311852ebf6",
            "fd961db4338947b9a6138294999b13c8",
            "83cd0a0af1454a22b9bdbd134502518a",
            "7b907f9b79714727a6c42cb379df42ea",
            "ec055ad50eec443e8daf9c542d515954",
            "3f0708a3f02649d3ad4a95bc90d9196b",
            "41084acc7d7f4690a07928bd3736083e",
            "4e74a62429014000978044fe09d5f669",
            "f8c5e2baf4dc4d78aca51d3b0a3e5e37",
            "eda2b1a6c4804b1f8f110aa411045436",
            "f0e150f64156451381ed4155ae14b8fd",
            "b63e52ce5f4c4e18b4d1222a235da56f",
            "86c759e44fde48418b26903e8228862c",
            "87aa3c63544c44699e43ccbaabb191c9",
            "171bf73618284b02b5dff8510f06818d",
            "fb1f6e4f16fb4aa29d840b8586baab91",
            "56c601b497064fb3aebc49cbf20cdc04",
            "f01e563958ea40c3976901111a6c82a6",
            "9f65dddd061246d2a090fe7935a2450d",
            "ecce20f2c6344f2884f1a10b1a9329b2",
            "5dbbdfeb049740b69ba8a295952e760b",
            "ded75f7507294d70866b87a54036d776",
            "4e6a131a992a4db097a49ed7a0dbc7fe",
            "2e4fe9c9033f461ab993e8f4b063d8e7",
            "d6a4f1ad6dba4cd4912ddf753406935b",
            "c0e320c2827440058e7cad0b7e0d8c32",
            "ca77296e24f14849b7991b0a7d262e2a",
            "f1a8973b2c4a4349a370372f789848d5",
            "891965e8b02f43a1ba3d8ebd004f188e",
            "ec6f40e0a0604d17a0fba825f9e12289",
            "1c2995097486463891887346fc33dfa3",
            "c8e826360b194ea78979da7ba6990278",
            "9613e8278b0d41399c2f8481a489c62e",
            "50843ea20a304850bd4e8427baca83f4",
            "e7c80652c0de48ddabd21bc5240a6faf"
          ]
        },
        "id": "iuyyqP0NfDc8",
        "outputId": "f48e317e-7777-48f2-9bb3-af054a34b850"
      },
      "outputs": [
        {
          "output_type": "stream",
          "name": "stderr",
          "text": [
            "/usr/local/lib/python3.10/dist-packages/huggingface_hub/utils/_auth.py:94: UserWarning: \n",
            "The secret `HF_TOKEN` does not exist in your Colab secrets.\n",
            "To authenticate with the Hugging Face Hub, create a token in your settings tab (https://huggingface.co/settings/tokens), set it as secret in your Google Colab and restart your session.\n",
            "You will be able to reuse this secret in all of your notebooks.\n",
            "Please note that authentication is recommended but still optional to access public models or datasets.\n",
            "  warnings.warn(\n"
          ]
        },
        {
          "output_type": "display_data",
          "data": {
            "text/plain": [
              "tokenizer_config.json:   0%|          | 0.00/48.0 [00:00<?, ?B/s]"
            ],
            "application/vnd.jupyter.widget-view+json": {
              "version_major": 2,
              "version_minor": 0,
              "model_id": "e030ccdcfd9a49008536d6a5b990515a"
            }
          },
          "metadata": {}
        },
        {
          "output_type": "display_data",
          "data": {
            "text/plain": [
              "vocab.txt:   0%|          | 0.00/232k [00:00<?, ?B/s]"
            ],
            "application/vnd.jupyter.widget-view+json": {
              "version_major": 2,
              "version_minor": 0,
              "model_id": "83cd0a0af1454a22b9bdbd134502518a"
            }
          },
          "metadata": {}
        },
        {
          "output_type": "display_data",
          "data": {
            "text/plain": [
              "tokenizer.json:   0%|          | 0.00/466k [00:00<?, ?B/s]"
            ],
            "application/vnd.jupyter.widget-view+json": {
              "version_major": 2,
              "version_minor": 0,
              "model_id": "87aa3c63544c44699e43ccbaabb191c9"
            }
          },
          "metadata": {}
        },
        {
          "output_type": "display_data",
          "data": {
            "text/plain": [
              "config.json:   0%|          | 0.00/570 [00:00<?, ?B/s]"
            ],
            "application/vnd.jupyter.widget-view+json": {
              "version_major": 2,
              "version_minor": 0,
              "model_id": "d6a4f1ad6dba4cd4912ddf753406935b"
            }
          },
          "metadata": {}
        }
      ],
      "source": [
        "from transformers import BertTokenizer\n",
        "\n",
        "# Load the BERT tokenizer\n",
        "tokenizer = BertTokenizer.from_pretrained(\"bert-base-uncased\")\n",
        "\n",
        "# Tokenize training data\n",
        "train_encodings = tokenizer(\n",
        "    X_train,\n",
        "    truncation=True,\n",
        "    padding=True,\n",
        "    max_length=128,  # CONIDER CHANGING\n",
        "    return_tensors=\"pt\"  # PyTorch tensors\n",
        ")\n",
        "\n",
        "# Tokenize test data\n",
        "test_encodings = tokenizer(\n",
        "    X_test,\n",
        "    truncation=True,\n",
        "    padding=True,\n",
        "    max_length=128, # CONIDER CHANGING\n",
        "    return_tensors=\"pt\"\n",
        ")"
      ]
    },
    {
      "cell_type": "code",
      "execution_count": 15,
      "metadata": {
        "id": "UAsDa-aAfI3L"
      },
      "outputs": [],
      "source": [
        "import torch\n",
        "\n",
        "# Convert labels to tensors\n",
        "train_labels = torch.tensor(y_train.values, dtype=torch.long)\n",
        "test_labels = torch.tensor(y_test.values, dtype=torch.long)\n",
        "\n",
        "# Create PyTorch datasets\n",
        "train_dataset = torch.utils.data.TensorDataset(\n",
        "    train_encodings[\"input_ids\"], train_encodings[\"attention_mask\"], train_labels\n",
        ")\n",
        "test_dataset = torch.utils.data.TensorDataset(\n",
        "    test_encodings[\"input_ids\"], test_encodings[\"attention_mask\"], test_labels\n",
        ")\n"
      ]
    },
    {
      "cell_type": "code",
      "execution_count": 16,
      "metadata": {
        "colab": {
          "base_uri": "https://localhost:8080/"
        },
        "id": "jkyl7Cl4yBcZ",
        "outputId": "5a348f4f-6177-4294-b116-d58d4aaf03a3"
      },
      "outputs": [
        {
          "output_type": "execute_result",
          "data": {
            "text/plain": [
              "<torch.utils.data.dataset.TensorDataset at 0x78933c9da620>"
            ]
          },
          "metadata": {},
          "execution_count": 16
        }
      ],
      "source": [
        "test_dataset"
      ]
    },
    {
      "cell_type": "code",
      "execution_count": 17,
      "metadata": {
        "id": "nsSkiHKDyEqi"
      },
      "outputs": [],
      "source": [
        "from torch.utils.data import DataLoader\n",
        "\n",
        "# Create dataloaders\n",
        "batch_size = 16 # ****Experiment with 32 or 64*****\n",
        "train_loader = DataLoader(train_dataset, batch_size=batch_size, shuffle=True)\n",
        "test_loader = DataLoader(test_dataset, batch_size=batch_size)\n"
      ]
    },
    {
      "cell_type": "code",
      "execution_count": 18,
      "metadata": {
        "colab": {
          "base_uri": "https://localhost:8080/",
          "height": 106,
          "referenced_widgets": [
            "799fab9706874ad4af499f4618327f77",
            "3deeb9f353944048b9212064e627c173",
            "b89cf3518bd245adadd87e0b54ffc1d1",
            "04a7cc1de7c1498697f79184f2cfada9",
            "2eb86d93309a413783af2825a1bf579b",
            "5e84e18ef09f44a8844e561e326e94ce",
            "1242969bc11540529ca2eb1af048d983",
            "bb8854e835584f1a885568888de396b5",
            "268a3c4dcacd42e1836d0d4118458763",
            "37b6e6855f6e4ca4a1d393e22a3e5442",
            "3d569b8663b64eceb981087d135eb77e"
          ]
        },
        "id": "3R64X1bpyudT",
        "outputId": "d3937008-4506-4846-93c6-a849b42fcaf7"
      },
      "outputs": [
        {
          "output_type": "display_data",
          "data": {
            "text/plain": [
              "model.safetensors:   0%|          | 0.00/440M [00:00<?, ?B/s]"
            ],
            "application/vnd.jupyter.widget-view+json": {
              "version_major": 2,
              "version_minor": 0,
              "model_id": "799fab9706874ad4af499f4618327f77"
            }
          },
          "metadata": {}
        },
        {
          "output_type": "stream",
          "name": "stderr",
          "text": [
            "Some weights of BertForSequenceClassification were not initialized from the model checkpoint at bert-base-uncased and are newly initialized: ['classifier.bias', 'classifier.weight']\n",
            "You should probably TRAIN this model on a down-stream task to be able to use it for predictions and inference.\n"
          ]
        }
      ],
      "source": [
        "from transformers import BertForSequenceClassification\n",
        "\n",
        "# Load BERT model for classification\n",
        "model = BertForSequenceClassification.from_pretrained(\"bert-base-uncased\", num_labels=len(set(y_train)))"
      ]
    },
    {
      "cell_type": "code",
      "execution_count": 19,
      "metadata": {
        "colab": {
          "base_uri": "https://localhost:8080/"
        },
        "id": "vwaqHjk4Kltg",
        "outputId": "227204ad-4167-44c5-e910-cf64295bd800"
      },
      "outputs": [
        {
          "output_type": "execute_result",
          "data": {
            "text/plain": [
              "3"
            ]
          },
          "metadata": {},
          "execution_count": 19
        }
      ],
      "source": [
        "len(set(y_train))"
      ]
    },
    {
      "cell_type": "code",
      "execution_count": 20,
      "metadata": {
        "colab": {
          "base_uri": "https://localhost:8080/"
        },
        "id": "cRW1HF9CFGuC",
        "outputId": "edd53a9d-f660-4b8e-e85f-35296a8f577d"
      },
      "outputs": [
        {
          "output_type": "stream",
          "name": "stderr",
          "text": [
            "/usr/local/lib/python3.10/dist-packages/transformers/optimization.py:591: FutureWarning: This implementation of AdamW is deprecated and will be removed in a future version. Use the PyTorch implementation torch.optim.AdamW instead, or set `no_deprecation_warning=True` to disable this warning\n",
            "  warnings.warn(\n"
          ]
        }
      ],
      "source": [
        "from transformers import AdamW\n",
        "\n",
        "# Define optimizer\n",
        "optimizer = AdamW(model.parameters(), lr=5e-5)"
      ]
    },
    {
      "cell_type": "code",
      "execution_count": null,
      "metadata": {
        "colab": {
          "background_save": true,
          "base_uri": "https://localhost:8080/"
        },
        "id": "jCyyNcrCelvU",
        "outputId": "27922f3f-72e6-418a-fa2b-0645e5b25afb"
      },
      "outputs": [
        {
          "name": "stderr",
          "output_type": "stream",
          "text": [
            "Epoch 1/3:   0%|          | 1/6515 [00:24<44:21:51, 24.52s/it]"
          ]
        },
        {
          "name": "stdout",
          "output_type": "stream",
          "text": [
            "Batch 0, Loss: 1.1235449314117432\n",
            "Epoch 1/3 completed. Loss: 1.1235449314117432\n"
          ]
        },
        {
          "name": "stderr",
          "output_type": "stream",
          "text": [
            "\rEpoch 1/3:   0%|          | 2/6515 [00:56<52:03:30, 28.77s/it]"
          ]
        },
        {
          "name": "stdout",
          "output_type": "stream",
          "text": [
            "Epoch 1/3 completed. Loss: 1.039085030555725\n"
          ]
        },
        {
          "name": "stderr",
          "output_type": "stream",
          "text": [
            "\rEpoch 1/3:   0%|          | 3/6515 [01:21<49:07:55, 27.16s/it]"
          ]
        },
        {
          "name": "stdout",
          "output_type": "stream",
          "text": [
            "Epoch 1/3 completed. Loss: 0.8176665306091309\n"
          ]
        },
        {
          "name": "stderr",
          "output_type": "stream",
          "text": [
            "\rEpoch 1/3:   0%|          | 4/6515 [01:42<44:38:33, 24.68s/it]"
          ]
        },
        {
          "name": "stdout",
          "output_type": "stream",
          "text": [
            "Epoch 1/3 completed. Loss: 0.8041162490844727\n"
          ]
        },
        {
          "name": "stderr",
          "output_type": "stream",
          "text": [
            "\rEpoch 1/3:   0%|          | 5/6515 [02:07<44:54:03, 24.83s/it]"
          ]
        },
        {
          "name": "stdout",
          "output_type": "stream",
          "text": [
            "Epoch 1/3 completed. Loss: 0.674541711807251\n"
          ]
        },
        {
          "name": "stderr",
          "output_type": "stream",
          "text": [
            "\rEpoch 1/3:   0%|          | 6/6515 [02:28<42:23:30, 23.45s/it]"
          ]
        },
        {
          "name": "stdout",
          "output_type": "stream",
          "text": [
            "Epoch 1/3 completed. Loss: 0.9134945869445801\n"
          ]
        },
        {
          "name": "stderr",
          "output_type": "stream",
          "text": [
            "\rEpoch 1/3:   0%|          | 7/6515 [02:49<41:18:18, 22.85s/it]"
          ]
        },
        {
          "name": "stdout",
          "output_type": "stream",
          "text": [
            "Epoch 1/3 completed. Loss: 0.8260206580162048\n"
          ]
        },
        {
          "name": "stderr",
          "output_type": "stream",
          "text": [
            "\rEpoch 1/3:   0%|          | 8/6515 [03:11<40:52:17, 22.61s/it]"
          ]
        },
        {
          "name": "stdout",
          "output_type": "stream",
          "text": [
            "Epoch 1/3 completed. Loss: 0.8441578149795532\n"
          ]
        },
        {
          "name": "stderr",
          "output_type": "stream",
          "text": [
            "\rEpoch 1/3:   0%|          | 9/6515 [03:32<39:51:37, 22.06s/it]"
          ]
        },
        {
          "name": "stdout",
          "output_type": "stream",
          "text": [
            "Epoch 1/3 completed. Loss: 1.1897146701812744\n"
          ]
        },
        {
          "name": "stderr",
          "output_type": "stream",
          "text": [
            "\rEpoch 1/3:   0%|          | 10/6515 [04:01<43:45:51, 24.22s/it]"
          ]
        },
        {
          "name": "stdout",
          "output_type": "stream",
          "text": [
            "Epoch 1/3 completed. Loss: 1.0020458698272705\n"
          ]
        },
        {
          "name": "stderr",
          "output_type": "stream",
          "text": [
            "\rEpoch 1/3:   0%|          | 11/6515 [04:35<48:44:52, 26.98s/it]"
          ]
        },
        {
          "name": "stdout",
          "output_type": "stream",
          "text": [
            "Epoch 1/3 completed. Loss: 1.0074021816253662\n"
          ]
        },
        {
          "name": "stderr",
          "output_type": "stream",
          "text": [
            "\rEpoch 1/3:   0%|          | 12/6515 [05:02<49:11:16, 27.23s/it]"
          ]
        },
        {
          "name": "stdout",
          "output_type": "stream",
          "text": [
            "Epoch 1/3 completed. Loss: 0.9706214666366577\n"
          ]
        },
        {
          "name": "stderr",
          "output_type": "stream",
          "text": [
            "\rEpoch 1/3:   0%|          | 13/6515 [05:23<45:42:26, 25.31s/it]"
          ]
        },
        {
          "name": "stdout",
          "output_type": "stream",
          "text": [
            "Epoch 1/3 completed. Loss: 0.8376992344856262\n"
          ]
        },
        {
          "name": "stderr",
          "output_type": "stream",
          "text": [
            "\rEpoch 1/3:   0%|          | 14/6515 [05:46<44:30:40, 24.65s/it]"
          ]
        },
        {
          "name": "stdout",
          "output_type": "stream",
          "text": [
            "Epoch 1/3 completed. Loss: 0.8885964155197144\n"
          ]
        },
        {
          "name": "stderr",
          "output_type": "stream",
          "text": [
            "\rEpoch 1/3:   0%|          | 15/6515 [06:07<42:30:33, 23.54s/it]"
          ]
        },
        {
          "name": "stdout",
          "output_type": "stream",
          "text": [
            "Epoch 1/3 completed. Loss: 0.832125186920166\n"
          ]
        },
        {
          "name": "stderr",
          "output_type": "stream",
          "text": [
            "\rEpoch 1/3:   0%|          | 16/6515 [06:28<41:02:30, 22.73s/it]"
          ]
        },
        {
          "name": "stdout",
          "output_type": "stream",
          "text": [
            "Epoch 1/3 completed. Loss: 0.9677500128746033\n"
          ]
        },
        {
          "name": "stderr",
          "output_type": "stream",
          "text": [
            "\rEpoch 1/3:   0%|          | 17/6515 [06:51<41:13:57, 22.84s/it]"
          ]
        },
        {
          "name": "stdout",
          "output_type": "stream",
          "text": [
            "Epoch 1/3 completed. Loss: 0.941764235496521\n"
          ]
        },
        {
          "name": "stderr",
          "output_type": "stream",
          "text": [
            "\rEpoch 1/3:   0%|          | 18/6515 [07:12<40:01:22, 22.18s/it]"
          ]
        },
        {
          "name": "stdout",
          "output_type": "stream",
          "text": [
            "Epoch 1/3 completed. Loss: 0.9865740537643433\n"
          ]
        },
        {
          "name": "stderr",
          "output_type": "stream",
          "text": [
            "\rEpoch 1/3:   0%|          | 19/6515 [07:34<40:01:25, 22.18s/it]"
          ]
        },
        {
          "name": "stdout",
          "output_type": "stream",
          "text": [
            "Epoch 1/3 completed. Loss: 0.8539319634437561\n"
          ]
        },
        {
          "name": "stderr",
          "output_type": "stream",
          "text": [
            "\rEpoch 1/3:   0%|          | 20/6515 [07:56<39:41:02, 22.00s/it]"
          ]
        },
        {
          "name": "stdout",
          "output_type": "stream",
          "text": [
            "Epoch 1/3 completed. Loss: 0.7319563627243042\n"
          ]
        },
        {
          "name": "stderr",
          "output_type": "stream",
          "text": [
            "\rEpoch 1/3:   0%|          | 21/6515 [08:17<39:07:19, 21.69s/it]"
          ]
        },
        {
          "name": "stdout",
          "output_type": "stream",
          "text": [
            "Epoch 1/3 completed. Loss: 1.0077030658721924\n"
          ]
        },
        {
          "name": "stderr",
          "output_type": "stream",
          "text": [
            "\rEpoch 1/3:   0%|          | 22/6515 [08:40<39:52:08, 22.11s/it]"
          ]
        },
        {
          "name": "stdout",
          "output_type": "stream",
          "text": [
            "Epoch 1/3 completed. Loss: 0.7589287757873535\n"
          ]
        },
        {
          "name": "stderr",
          "output_type": "stream",
          "text": [
            "\rEpoch 1/3:   0%|          | 23/6515 [09:01<39:13:38, 21.75s/it]"
          ]
        },
        {
          "name": "stdout",
          "output_type": "stream",
          "text": [
            "Epoch 1/3 completed. Loss: 0.5341182351112366\n"
          ]
        },
        {
          "name": "stderr",
          "output_type": "stream",
          "text": [
            "\rEpoch 1/3:   0%|          | 24/6515 [09:22<39:05:02, 21.68s/it]"
          ]
        },
        {
          "name": "stdout",
          "output_type": "stream",
          "text": [
            "Epoch 1/3 completed. Loss: 1.0606814622879028\n"
          ]
        },
        {
          "name": "stderr",
          "output_type": "stream",
          "text": [
            "\rEpoch 1/3:   0%|          | 25/6515 [09:45<39:26:42, 21.88s/it]"
          ]
        },
        {
          "name": "stdout",
          "output_type": "stream",
          "text": [
            "Epoch 1/3 completed. Loss: 0.899131715297699\n"
          ]
        },
        {
          "name": "stderr",
          "output_type": "stream",
          "text": [
            "\rEpoch 1/3:   0%|          | 26/6515 [10:05<38:53:55, 21.58s/it]"
          ]
        },
        {
          "name": "stdout",
          "output_type": "stream",
          "text": [
            "Epoch 1/3 completed. Loss: 1.2742128372192383\n"
          ]
        },
        {
          "name": "stderr",
          "output_type": "stream",
          "text": [
            "\rEpoch 1/3:   0%|          | 27/6515 [10:28<39:26:20, 21.88s/it]"
          ]
        },
        {
          "name": "stdout",
          "output_type": "stream",
          "text": [
            "Epoch 1/3 completed. Loss: 0.8709059953689575\n"
          ]
        },
        {
          "name": "stderr",
          "output_type": "stream",
          "text": [
            "\rEpoch 1/3:   0%|          | 28/6515 [10:49<39:03:55, 21.68s/it]"
          ]
        },
        {
          "name": "stdout",
          "output_type": "stream",
          "text": [
            "Epoch 1/3 completed. Loss: 0.7794967889785767\n"
          ]
        },
        {
          "name": "stderr",
          "output_type": "stream",
          "text": [
            "\rEpoch 1/3:   0%|          | 29/6515 [11:10<38:38:21, 21.45s/it]"
          ]
        },
        {
          "name": "stdout",
          "output_type": "stream",
          "text": [
            "Epoch 1/3 completed. Loss: 0.8481132984161377\n"
          ]
        },
        {
          "name": "stderr",
          "output_type": "stream",
          "text": [
            "\rEpoch 1/3:   0%|          | 30/6515 [11:33<39:26:31, 21.90s/it]"
          ]
        },
        {
          "name": "stdout",
          "output_type": "stream",
          "text": [
            "Epoch 1/3 completed. Loss: 0.7552574872970581\n"
          ]
        },
        {
          "name": "stderr",
          "output_type": "stream",
          "text": [
            "\rEpoch 1/3:   0%|          | 31/6515 [11:54<38:50:03, 21.56s/it]"
          ]
        },
        {
          "name": "stdout",
          "output_type": "stream",
          "text": [
            "Epoch 1/3 completed. Loss: 0.8202388286590576\n"
          ]
        },
        {
          "name": "stderr",
          "output_type": "stream",
          "text": [
            "\rEpoch 1/3:   0%|          | 32/6515 [12:16<38:55:19, 21.61s/it]"
          ]
        },
        {
          "name": "stdout",
          "output_type": "stream",
          "text": [
            "Epoch 1/3 completed. Loss: 0.6936577558517456\n"
          ]
        },
        {
          "name": "stderr",
          "output_type": "stream",
          "text": [
            "\rEpoch 1/3:   1%|          | 33/6515 [12:37<39:00:30, 21.66s/it]"
          ]
        },
        {
          "name": "stdout",
          "output_type": "stream",
          "text": [
            "Epoch 1/3 completed. Loss: 0.7770745754241943\n"
          ]
        },
        {
          "name": "stderr",
          "output_type": "stream",
          "text": [
            "\rEpoch 1/3:   1%|          | 34/6515 [12:58<38:35:37, 21.44s/it]"
          ]
        },
        {
          "name": "stdout",
          "output_type": "stream",
          "text": [
            "Epoch 1/3 completed. Loss: 0.583914577960968\n"
          ]
        },
        {
          "name": "stderr",
          "output_type": "stream",
          "text": [
            "\rEpoch 1/3:   1%|          | 35/6515 [13:21<39:28:57, 21.93s/it]"
          ]
        },
        {
          "name": "stdout",
          "output_type": "stream",
          "text": [
            "Epoch 1/3 completed. Loss: 1.0219875574111938\n"
          ]
        },
        {
          "name": "stderr",
          "output_type": "stream",
          "text": [
            "\rEpoch 1/3:   1%|          | 36/6515 [13:42<38:53:48, 21.61s/it]"
          ]
        },
        {
          "name": "stdout",
          "output_type": "stream",
          "text": [
            "Epoch 1/3 completed. Loss: 0.6811760067939758\n"
          ]
        },
        {
          "name": "stderr",
          "output_type": "stream",
          "text": [
            "\rEpoch 1/3:   1%|          | 37/6515 [14:05<39:38:42, 22.03s/it]"
          ]
        },
        {
          "name": "stdout",
          "output_type": "stream",
          "text": [
            "Epoch 1/3 completed. Loss: 0.6127874255180359\n"
          ]
        },
        {
          "name": "stderr",
          "output_type": "stream",
          "text": [
            "\rEpoch 1/3:   1%|          | 38/6515 [14:28<39:55:48, 22.19s/it]"
          ]
        },
        {
          "name": "stdout",
          "output_type": "stream",
          "text": [
            "Epoch 1/3 completed. Loss: 0.9931932091712952\n"
          ]
        },
        {
          "name": "stderr",
          "output_type": "stream",
          "text": [
            "\rEpoch 1/3:   1%|          | 39/6515 [14:49<39:15:12, 21.82s/it]"
          ]
        },
        {
          "name": "stdout",
          "output_type": "stream",
          "text": [
            "Epoch 1/3 completed. Loss: 0.5898425579071045\n"
          ]
        },
        {
          "name": "stderr",
          "output_type": "stream",
          "text": [
            "\rEpoch 1/3:   1%|          | 40/6515 [15:12<39:51:22, 22.16s/it]"
          ]
        },
        {
          "name": "stdout",
          "output_type": "stream",
          "text": [
            "Epoch 1/3 completed. Loss: 0.7724684476852417\n"
          ]
        },
        {
          "name": "stderr",
          "output_type": "stream",
          "text": [
            "\rEpoch 1/3:   1%|          | 41/6515 [15:33<39:13:30, 21.81s/it]"
          ]
        },
        {
          "name": "stdout",
          "output_type": "stream",
          "text": [
            "Epoch 1/3 completed. Loss: 0.8075945377349854\n"
          ]
        },
        {
          "name": "stderr",
          "output_type": "stream",
          "text": [
            "\rEpoch 1/3:   1%|          | 42/6515 [15:54<38:48:26, 21.58s/it]"
          ]
        },
        {
          "name": "stdout",
          "output_type": "stream",
          "text": [
            "Epoch 1/3 completed. Loss: 0.6708077192306519\n"
          ]
        },
        {
          "name": "stderr",
          "output_type": "stream",
          "text": [
            "\rEpoch 1/3:   1%|          | 43/6515 [16:17<39:30:57, 21.98s/it]"
          ]
        },
        {
          "name": "stdout",
          "output_type": "stream",
          "text": [
            "Epoch 1/3 completed. Loss: 1.0232360363006592\n"
          ]
        },
        {
          "name": "stderr",
          "output_type": "stream",
          "text": [
            "\rEpoch 1/3:   1%|          | 44/6515 [16:37<38:48:06, 21.59s/it]"
          ]
        },
        {
          "name": "stdout",
          "output_type": "stream",
          "text": [
            "Epoch 1/3 completed. Loss: 0.8991785645484924\n"
          ]
        },
        {
          "name": "stderr",
          "output_type": "stream",
          "text": [
            "\rEpoch 1/3:   1%|          | 45/6515 [17:00<39:19:32, 21.88s/it]"
          ]
        },
        {
          "name": "stdout",
          "output_type": "stream",
          "text": [
            "Epoch 1/3 completed. Loss: 0.518359363079071\n"
          ]
        },
        {
          "name": "stderr",
          "output_type": "stream",
          "text": [
            "\rEpoch 1/3:   1%|          | 46/6515 [17:21<39:05:26, 21.75s/it]"
          ]
        },
        {
          "name": "stdout",
          "output_type": "stream",
          "text": [
            "Epoch 1/3 completed. Loss: 0.7736198902130127\n"
          ]
        },
        {
          "name": "stderr",
          "output_type": "stream",
          "text": [
            "\rEpoch 1/3:   1%|          | 47/6515 [17:42<38:35:08, 21.48s/it]"
          ]
        },
        {
          "name": "stdout",
          "output_type": "stream",
          "text": [
            "Epoch 1/3 completed. Loss: 0.7105857133865356\n"
          ]
        },
        {
          "name": "stderr",
          "output_type": "stream",
          "text": [
            "\rEpoch 1/3:   1%|          | 48/6515 [18:05<39:29:30, 21.98s/it]"
          ]
        },
        {
          "name": "stdout",
          "output_type": "stream",
          "text": [
            "Epoch 1/3 completed. Loss: 0.49334853887557983\n"
          ]
        },
        {
          "name": "stderr",
          "output_type": "stream",
          "text": [
            "\rEpoch 1/3:   1%|          | 49/6515 [18:26<38:55:24, 21.67s/it]"
          ]
        },
        {
          "name": "stdout",
          "output_type": "stream",
          "text": [
            "Epoch 1/3 completed. Loss: 0.7647601962089539\n"
          ]
        },
        {
          "name": "stderr",
          "output_type": "stream",
          "text": [
            "\rEpoch 1/3:   1%|          | 50/6515 [18:48<39:00:56, 21.73s/it]"
          ]
        },
        {
          "name": "stdout",
          "output_type": "stream",
          "text": [
            "Epoch 1/3 completed. Loss: 0.6120333075523376\n"
          ]
        },
        {
          "name": "stderr",
          "output_type": "stream",
          "text": [
            "\rEpoch 1/3:   1%|          | 51/6515 [19:10<38:58:35, 21.71s/it]"
          ]
        },
        {
          "name": "stdout",
          "output_type": "stream",
          "text": [
            "Epoch 1/3 completed. Loss: 0.6170433163642883\n"
          ]
        },
        {
          "name": "stderr",
          "output_type": "stream",
          "text": [
            "\rEpoch 1/3:   1%|          | 52/6515 [19:31<38:27:15, 21.42s/it]"
          ]
        },
        {
          "name": "stdout",
          "output_type": "stream",
          "text": [
            "Epoch 1/3 completed. Loss: 0.5033501982688904\n"
          ]
        },
        {
          "name": "stderr",
          "output_type": "stream",
          "text": [
            "\rEpoch 1/3:   1%|          | 53/6515 [19:54<39:24:24, 21.95s/it]"
          ]
        },
        {
          "name": "stdout",
          "output_type": "stream",
          "text": [
            "Epoch 1/3 completed. Loss: 0.3931226432323456\n"
          ]
        },
        {
          "name": "stderr",
          "output_type": "stream",
          "text": [
            "\rEpoch 1/3:   1%|          | 54/6515 [20:15<38:46:11, 21.60s/it]"
          ]
        },
        {
          "name": "stdout",
          "output_type": "stream",
          "text": [
            "Epoch 1/3 completed. Loss: 0.44281506538391113\n"
          ]
        },
        {
          "name": "stderr",
          "output_type": "stream",
          "text": [
            "\rEpoch 1/3:   1%|          | 55/6515 [20:36<38:38:35, 21.53s/it]"
          ]
        },
        {
          "name": "stdout",
          "output_type": "stream",
          "text": [
            "Epoch 1/3 completed. Loss: 0.6131770610809326\n"
          ]
        },
        {
          "name": "stderr",
          "output_type": "stream",
          "text": [
            "\rEpoch 1/3:   1%|          | 56/6515 [20:58<39:08:01, 21.81s/it]"
          ]
        },
        {
          "name": "stdout",
          "output_type": "stream",
          "text": [
            "Epoch 1/3 completed. Loss: 0.6341174244880676\n"
          ]
        },
        {
          "name": "stderr",
          "output_type": "stream",
          "text": [
            "\rEpoch 1/3:   1%|          | 57/6515 [21:19<38:41:26, 21.57s/it]"
          ]
        },
        {
          "name": "stdout",
          "output_type": "stream",
          "text": [
            "Epoch 1/3 completed. Loss: 0.9405187964439392\n"
          ]
        },
        {
          "name": "stderr",
          "output_type": "stream",
          "text": [
            "\rEpoch 1/3:   1%|          | 58/6515 [21:42<39:25:26, 21.98s/it]"
          ]
        },
        {
          "name": "stdout",
          "output_type": "stream",
          "text": [
            "Epoch 1/3 completed. Loss: 0.18177810311317444\n"
          ]
        },
        {
          "name": "stderr",
          "output_type": "stream",
          "text": [
            "\rEpoch 1/3:   1%|          | 59/6515 [22:03<38:50:20, 21.66s/it]"
          ]
        },
        {
          "name": "stdout",
          "output_type": "stream",
          "text": [
            "Epoch 1/3 completed. Loss: 0.49573493003845215\n"
          ]
        },
        {
          "name": "stderr",
          "output_type": "stream",
          "text": [
            "\rEpoch 1/3:   1%|          | 60/6515 [22:24<38:32:19, 21.49s/it]"
          ]
        },
        {
          "name": "stdout",
          "output_type": "stream",
          "text": [
            "Epoch 1/3 completed. Loss: 0.8930438756942749\n"
          ]
        },
        {
          "name": "stderr",
          "output_type": "stream",
          "text": [
            "\rEpoch 1/3:   1%|          | 61/6515 [22:47<39:18:06, 21.92s/it]"
          ]
        },
        {
          "name": "stdout",
          "output_type": "stream",
          "text": [
            "Epoch 1/3 completed. Loss: 0.7245047688484192\n"
          ]
        },
        {
          "name": "stderr",
          "output_type": "stream",
          "text": [
            "\rEpoch 1/3:   1%|          | 62/6515 [23:08<38:46:57, 21.64s/it]"
          ]
        },
        {
          "name": "stdout",
          "output_type": "stream",
          "text": [
            "Epoch 1/3 completed. Loss: 0.23829571902751923\n"
          ]
        },
        {
          "name": "stderr",
          "output_type": "stream",
          "text": [
            "\rEpoch 1/3:   1%|          | 63/6515 [23:31<39:10:36, 21.86s/it]"
          ]
        },
        {
          "name": "stdout",
          "output_type": "stream",
          "text": [
            "Epoch 1/3 completed. Loss: 0.825309693813324\n"
          ]
        },
        {
          "name": "stderr",
          "output_type": "stream",
          "text": [
            "\rEpoch 1/3:   1%|          | 64/6515 [23:52<38:58:41, 21.75s/it]"
          ]
        },
        {
          "name": "stdout",
          "output_type": "stream",
          "text": [
            "Epoch 1/3 completed. Loss: 0.6015684604644775\n"
          ]
        },
        {
          "name": "stderr",
          "output_type": "stream",
          "text": [
            "\rEpoch 1/3:   1%|          | 65/6515 [24:13<38:33:13, 21.52s/it]"
          ]
        },
        {
          "name": "stdout",
          "output_type": "stream",
          "text": [
            "Epoch 1/3 completed. Loss: 0.6115118861198425\n"
          ]
        },
        {
          "name": "stderr",
          "output_type": "stream",
          "text": [
            "\rEpoch 1/3:   1%|          | 66/6515 [24:36<39:22:33, 21.98s/it]"
          ]
        },
        {
          "name": "stdout",
          "output_type": "stream",
          "text": [
            "Epoch 1/3 completed. Loss: 0.6932762265205383\n"
          ]
        },
        {
          "name": "stderr",
          "output_type": "stream",
          "text": [
            "\rEpoch 1/3:   1%|          | 67/6515 [24:57<38:51:43, 21.70s/it]"
          ]
        },
        {
          "name": "stdout",
          "output_type": "stream",
          "text": [
            "Epoch 1/3 completed. Loss: 0.6844244003295898\n"
          ]
        },
        {
          "name": "stderr",
          "output_type": "stream",
          "text": [
            "\rEpoch 1/3:   1%|          | 68/6515 [25:19<39:05:02, 21.82s/it]"
          ]
        },
        {
          "name": "stdout",
          "output_type": "stream",
          "text": [
            "Epoch 1/3 completed. Loss: 0.7661283016204834\n"
          ]
        },
        {
          "name": "stderr",
          "output_type": "stream",
          "text": [
            "\rEpoch 1/3:   1%|          | 69/6515 [25:41<39:06:19, 21.84s/it]"
          ]
        },
        {
          "name": "stdout",
          "output_type": "stream",
          "text": [
            "Epoch 1/3 completed. Loss: 0.9162303805351257\n"
          ]
        },
        {
          "name": "stderr",
          "output_type": "stream",
          "text": [
            "\rEpoch 1/3:   1%|          | 70/6515 [26:02<38:37:24, 21.57s/it]"
          ]
        },
        {
          "name": "stdout",
          "output_type": "stream",
          "text": [
            "Epoch 1/3 completed. Loss: 1.1074564456939697\n"
          ]
        },
        {
          "name": "stderr",
          "output_type": "stream",
          "text": [
            "\rEpoch 1/3:   1%|          | 71/6515 [26:27<40:27:37, 22.60s/it]"
          ]
        },
        {
          "name": "stdout",
          "output_type": "stream",
          "text": [
            "Epoch 1/3 completed. Loss: 0.3505483865737915\n"
          ]
        },
        {
          "name": "stderr",
          "output_type": "stream",
          "text": [
            "\rEpoch 1/3:   1%|          | 72/6515 [26:48<39:33:28, 22.10s/it]"
          ]
        },
        {
          "name": "stdout",
          "output_type": "stream",
          "text": [
            "Epoch 1/3 completed. Loss: 0.5455446243286133\n"
          ]
        },
        {
          "name": "stderr",
          "output_type": "stream",
          "text": [
            "\rEpoch 1/3:   1%|          | 73/6515 [27:11<39:52:10, 22.28s/it]"
          ]
        },
        {
          "name": "stdout",
          "output_type": "stream",
          "text": [
            "Epoch 1/3 completed. Loss: 1.2753677368164062\n"
          ]
        },
        {
          "name": "stderr",
          "output_type": "stream",
          "text": [
            "\rEpoch 1/3:   1%|          | 74/6515 [27:32<39:09:09, 21.88s/it]"
          ]
        },
        {
          "name": "stdout",
          "output_type": "stream",
          "text": [
            "Epoch 1/3 completed. Loss: 0.7676957249641418\n"
          ]
        },
        {
          "name": "stderr",
          "output_type": "stream",
          "text": [
            "\rEpoch 1/3:   1%|          | 75/6515 [27:53<38:46:28, 21.68s/it]"
          ]
        },
        {
          "name": "stdout",
          "output_type": "stream",
          "text": [
            "Epoch 1/3 completed. Loss: 0.6842259764671326\n"
          ]
        },
        {
          "name": "stderr",
          "output_type": "stream",
          "text": [
            "\rEpoch 1/3:   1%|          | 76/6515 [28:16<39:25:02, 22.04s/it]"
          ]
        },
        {
          "name": "stdout",
          "output_type": "stream",
          "text": [
            "Epoch 1/3 completed. Loss: 0.4995114505290985\n"
          ]
        },
        {
          "name": "stderr",
          "output_type": "stream",
          "text": [
            "\rEpoch 1/3:   1%|          | 77/6515 [28:37<38:44:53, 21.67s/it]"
          ]
        },
        {
          "name": "stdout",
          "output_type": "stream",
          "text": [
            "Epoch 1/3 completed. Loss: 0.8029087781906128\n"
          ]
        },
        {
          "name": "stderr",
          "output_type": "stream",
          "text": [
            "\rEpoch 1/3:   1%|          | 78/6515 [28:59<39:06:02, 21.87s/it]"
          ]
        },
        {
          "name": "stdout",
          "output_type": "stream",
          "text": [
            "Epoch 1/3 completed. Loss: 0.5667734146118164\n"
          ]
        },
        {
          "name": "stderr",
          "output_type": "stream",
          "text": [
            "\rEpoch 1/3:   1%|          | 79/6515 [29:21<39:01:31, 21.83s/it]"
          ]
        },
        {
          "name": "stdout",
          "output_type": "stream",
          "text": [
            "Epoch 1/3 completed. Loss: 0.7853019833564758\n"
          ]
        },
        {
          "name": "stderr",
          "output_type": "stream",
          "text": [
            "\rEpoch 1/3:   1%|          | 80/6515 [29:42<38:28:53, 21.53s/it]"
          ]
        },
        {
          "name": "stdout",
          "output_type": "stream",
          "text": [
            "Epoch 1/3 completed. Loss: 0.6649140119552612\n"
          ]
        },
        {
          "name": "stderr",
          "output_type": "stream",
          "text": [
            "\rEpoch 1/3:   1%|          | 81/6515 [30:05<39:15:51, 21.97s/it]"
          ]
        },
        {
          "name": "stdout",
          "output_type": "stream",
          "text": [
            "Epoch 1/3 completed. Loss: 0.4087024927139282\n"
          ]
        },
        {
          "name": "stderr",
          "output_type": "stream",
          "text": [
            "\rEpoch 1/3:   1%|▏         | 82/6515 [30:25<38:38:50, 21.63s/it]"
          ]
        },
        {
          "name": "stdout",
          "output_type": "stream",
          "text": [
            "Epoch 1/3 completed. Loss: 0.7776867151260376\n"
          ]
        },
        {
          "name": "stderr",
          "output_type": "stream",
          "text": [
            "\rEpoch 1/3:   1%|▏         | 83/6515 [30:47<38:30:30, 21.55s/it]"
          ]
        },
        {
          "name": "stdout",
          "output_type": "stream",
          "text": [
            "Epoch 1/3 completed. Loss: 0.24723155796527863\n"
          ]
        },
        {
          "name": "stderr",
          "output_type": "stream",
          "text": [
            "\rEpoch 1/3:   1%|▏         | 84/6515 [31:09<38:58:40, 21.82s/it]"
          ]
        },
        {
          "name": "stdout",
          "output_type": "stream",
          "text": [
            "Epoch 1/3 completed. Loss: 0.7205564379692078\n"
          ]
        },
        {
          "name": "stderr",
          "output_type": "stream",
          "text": [
            "\rEpoch 1/3:   1%|▏         | 85/6515 [31:30<38:25:09, 21.51s/it]"
          ]
        },
        {
          "name": "stdout",
          "output_type": "stream",
          "text": [
            "Epoch 1/3 completed. Loss: 0.45668891072273254\n"
          ]
        },
        {
          "name": "stderr",
          "output_type": "stream",
          "text": [
            "\rEpoch 1/3:   1%|▏         | 86/6515 [31:53<39:08:32, 21.92s/it]"
          ]
        },
        {
          "name": "stdout",
          "output_type": "stream",
          "text": [
            "Epoch 1/3 completed. Loss: 1.071610927581787\n"
          ]
        },
        {
          "name": "stderr",
          "output_type": "stream",
          "text": [
            "\rEpoch 1/3:   1%|▏         | 87/6515 [32:14<38:33:14, 21.59s/it]"
          ]
        },
        {
          "name": "stdout",
          "output_type": "stream",
          "text": [
            "Epoch 1/3 completed. Loss: 0.7248885631561279\n"
          ]
        },
        {
          "name": "stderr",
          "output_type": "stream",
          "text": [
            "\rEpoch 1/3:   1%|▏         | 88/6515 [32:35<38:09:51, 21.38s/it]"
          ]
        },
        {
          "name": "stdout",
          "output_type": "stream",
          "text": [
            "Epoch 1/3 completed. Loss: 1.0009194612503052\n"
          ]
        },
        {
          "name": "stderr",
          "output_type": "stream",
          "text": [
            "\rEpoch 1/3:   1%|▏         | 89/6515 [32:57<38:56:23, 21.82s/it]"
          ]
        },
        {
          "name": "stdout",
          "output_type": "stream",
          "text": [
            "Epoch 1/3 completed. Loss: 0.7638118267059326\n"
          ]
        },
        {
          "name": "stderr",
          "output_type": "stream",
          "text": [
            "\rEpoch 1/3:   1%|▏         | 90/6515 [33:18<38:30:23, 21.58s/it]"
          ]
        },
        {
          "name": "stdout",
          "output_type": "stream",
          "text": [
            "Epoch 1/3 completed. Loss: 0.8668352961540222\n"
          ]
        },
        {
          "name": "stderr",
          "output_type": "stream",
          "text": [
            "\rEpoch 1/3:   1%|▏         | 91/6515 [33:41<38:51:20, 21.77s/it]"
          ]
        },
        {
          "name": "stdout",
          "output_type": "stream",
          "text": [
            "Epoch 1/3 completed. Loss: 0.609646737575531\n"
          ]
        },
        {
          "name": "stderr",
          "output_type": "stream",
          "text": [
            "\rEpoch 1/3:   1%|▏         | 92/6515 [34:02<38:46:34, 21.73s/it]"
          ]
        },
        {
          "name": "stdout",
          "output_type": "stream",
          "text": [
            "Epoch 1/3 completed. Loss: 0.6097562313079834\n"
          ]
        },
        {
          "name": "stderr",
          "output_type": "stream",
          "text": [
            "\rEpoch 1/3:   1%|▏         | 93/6515 [34:23<38:20:09, 21.49s/it]"
          ]
        },
        {
          "name": "stdout",
          "output_type": "stream",
          "text": [
            "Epoch 1/3 completed. Loss: 0.8129594922065735\n"
          ]
        },
        {
          "name": "stderr",
          "output_type": "stream",
          "text": [
            "\rEpoch 1/3:   1%|▏         | 94/6515 [34:46<39:10:51, 21.97s/it]"
          ]
        },
        {
          "name": "stdout",
          "output_type": "stream",
          "text": [
            "Epoch 1/3 completed. Loss: 0.7673467993736267\n"
          ]
        },
        {
          "name": "stderr",
          "output_type": "stream",
          "text": [
            "\rEpoch 1/3:   1%|▏         | 95/6515 [35:07<38:40:09, 21.68s/it]"
          ]
        },
        {
          "name": "stdout",
          "output_type": "stream",
          "text": [
            "Epoch 1/3 completed. Loss: 1.0780900716781616\n"
          ]
        },
        {
          "name": "stderr",
          "output_type": "stream",
          "text": [
            "\rEpoch 1/3:   1%|▏         | 96/6515 [35:29<38:48:23, 21.76s/it]"
          ]
        },
        {
          "name": "stdout",
          "output_type": "stream",
          "text": [
            "Epoch 1/3 completed. Loss: 0.754352331161499\n"
          ]
        },
        {
          "name": "stderr",
          "output_type": "stream",
          "text": [
            "\rEpoch 1/3:   1%|▏         | 97/6515 [35:51<38:50:56, 21.79s/it]"
          ]
        },
        {
          "name": "stdout",
          "output_type": "stream",
          "text": [
            "Epoch 1/3 completed. Loss: 0.7204530239105225\n"
          ]
        },
        {
          "name": "stderr",
          "output_type": "stream",
          "text": [
            "\rEpoch 1/3:   2%|▏         | 98/6515 [36:12<38:25:08, 21.55s/it]"
          ]
        },
        {
          "name": "stdout",
          "output_type": "stream",
          "text": [
            "Epoch 1/3 completed. Loss: 0.5272495150566101\n"
          ]
        },
        {
          "name": "stderr",
          "output_type": "stream",
          "text": [
            "\rEpoch 1/3:   2%|▏         | 99/6515 [36:35<39:16:14, 22.03s/it]"
          ]
        },
        {
          "name": "stdout",
          "output_type": "stream",
          "text": [
            "Epoch 1/3 completed. Loss: 0.9470347762107849\n"
          ]
        },
        {
          "name": "stderr",
          "output_type": "stream",
          "text": [
            "\rEpoch 1/3:   2%|▏         | 100/6515 [36:56<38:44:18, 21.74s/it]"
          ]
        },
        {
          "name": "stdout",
          "output_type": "stream",
          "text": [
            "Epoch 1/3 completed. Loss: 0.4790908694267273\n"
          ]
        },
        {
          "name": "stderr",
          "output_type": "stream",
          "text": [
            "\rEpoch 1/3:   2%|▏         | 101/6515 [37:18<38:34:23, 21.65s/it]"
          ]
        },
        {
          "name": "stdout",
          "output_type": "stream",
          "text": [
            "Batch 100, Loss: 1.0297962427139282\n",
            "Epoch 1/3 completed. Loss: 1.0297962427139282\n"
          ]
        },
        {
          "name": "stderr",
          "output_type": "stream",
          "text": [
            "\rEpoch 1/3:   2%|▏         | 102/6515 [37:40<39:04:50, 21.94s/it]"
          ]
        },
        {
          "name": "stdout",
          "output_type": "stream",
          "text": [
            "Epoch 1/3 completed. Loss: 0.6578674912452698\n"
          ]
        },
        {
          "name": "stderr",
          "output_type": "stream",
          "text": [
            "\rEpoch 1/3:   2%|▏         | 103/6515 [38:01<38:31:44, 21.63s/it]"
          ]
        },
        {
          "name": "stdout",
          "output_type": "stream",
          "text": [
            "Epoch 1/3 completed. Loss: 0.608304500579834\n"
          ]
        },
        {
          "name": "stderr",
          "output_type": "stream",
          "text": [
            "\rEpoch 1/3:   2%|▏         | 104/6515 [38:24<39:05:26, 21.95s/it]"
          ]
        },
        {
          "name": "stdout",
          "output_type": "stream",
          "text": [
            "Epoch 1/3 completed. Loss: 0.4707101583480835\n"
          ]
        },
        {
          "name": "stderr",
          "output_type": "stream",
          "text": [
            "\rEpoch 1/3:   2%|▏         | 105/6515 [38:45<38:43:35, 21.75s/it]"
          ]
        },
        {
          "name": "stdout",
          "output_type": "stream",
          "text": [
            "Epoch 1/3 completed. Loss: 0.7674777507781982\n"
          ]
        },
        {
          "name": "stderr",
          "output_type": "stream",
          "text": [
            "\rEpoch 1/3:   2%|▏         | 106/6515 [39:06<38:15:33, 21.49s/it]"
          ]
        },
        {
          "name": "stdout",
          "output_type": "stream",
          "text": [
            "Epoch 1/3 completed. Loss: 0.7083179354667664\n"
          ]
        },
        {
          "name": "stderr",
          "output_type": "stream",
          "text": [
            "\rEpoch 1/3:   2%|▏         | 107/6515 [39:29<38:53:44, 21.85s/it]"
          ]
        },
        {
          "name": "stdout",
          "output_type": "stream",
          "text": [
            "Epoch 1/3 completed. Loss: 0.7235764861106873\n"
          ]
        },
        {
          "name": "stderr",
          "output_type": "stream",
          "text": [
            "\rEpoch 1/3:   2%|▏         | 108/6515 [39:50<38:19:17, 21.53s/it]"
          ]
        },
        {
          "name": "stdout",
          "output_type": "stream",
          "text": [
            "Epoch 1/3 completed. Loss: 0.8625478744506836\n"
          ]
        },
        {
          "name": "stderr",
          "output_type": "stream",
          "text": [
            "\rEpoch 1/3:   2%|▏         | 109/6515 [40:12<38:31:42, 21.65s/it]"
          ]
        },
        {
          "name": "stdout",
          "output_type": "stream",
          "text": [
            "Epoch 1/3 completed. Loss: 0.5282353758811951\n"
          ]
        },
        {
          "name": "stderr",
          "output_type": "stream",
          "text": [
            "\rEpoch 1/3:   2%|▏         | 110/6515 [40:33<38:34:17, 21.68s/it]"
          ]
        },
        {
          "name": "stdout",
          "output_type": "stream",
          "text": [
            "Epoch 1/3 completed. Loss: 0.44133856892585754\n"
          ]
        },
        {
          "name": "stderr",
          "output_type": "stream",
          "text": [
            "\rEpoch 1/3:   2%|▏         | 111/6515 [40:54<38:12:48, 21.48s/it]"
          ]
        },
        {
          "name": "stdout",
          "output_type": "stream",
          "text": [
            "Epoch 1/3 completed. Loss: 0.9724833965301514\n"
          ]
        },
        {
          "name": "stderr",
          "output_type": "stream",
          "text": [
            "\rEpoch 1/3:   2%|▏         | 112/6515 [41:17<39:04:48, 21.97s/it]"
          ]
        },
        {
          "name": "stdout",
          "output_type": "stream",
          "text": [
            "Epoch 1/3 completed. Loss: 0.3777138292789459\n"
          ]
        },
        {
          "name": "stderr",
          "output_type": "stream",
          "text": [
            "\rEpoch 1/3:   2%|▏         | 113/6515 [41:38<38:28:13, 21.63s/it]"
          ]
        },
        {
          "name": "stdout",
          "output_type": "stream",
          "text": [
            "Epoch 1/3 completed. Loss: 0.6142370700836182\n"
          ]
        },
        {
          "name": "stderr",
          "output_type": "stream",
          "text": [
            "\rEpoch 1/3:   2%|▏         | 114/6515 [41:59<38:14:43, 21.51s/it]"
          ]
        },
        {
          "name": "stdout",
          "output_type": "stream",
          "text": [
            "Epoch 1/3 completed. Loss: 0.7855368852615356\n"
          ]
        },
        {
          "name": "stderr",
          "output_type": "stream",
          "text": [
            "\rEpoch 1/3:   2%|▏         | 115/6515 [42:22<38:45:51, 21.80s/it]"
          ]
        },
        {
          "name": "stdout",
          "output_type": "stream",
          "text": [
            "Epoch 1/3 completed. Loss: 0.46763792634010315\n"
          ]
        },
        {
          "name": "stderr",
          "output_type": "stream",
          "text": [
            "\rEpoch 1/3:   2%|▏         | 116/6515 [42:43<38:20:25, 21.57s/it]"
          ]
        },
        {
          "name": "stdout",
          "output_type": "stream",
          "text": [
            "Epoch 1/3 completed. Loss: 0.789888858795166\n"
          ]
        },
        {
          "name": "stderr",
          "output_type": "stream",
          "text": [
            "\rEpoch 1/3:   2%|▏         | 117/6515 [43:06<39:09:09, 22.03s/it]"
          ]
        },
        {
          "name": "stdout",
          "output_type": "stream",
          "text": [
            "Epoch 1/3 completed. Loss: 0.568621039390564\n"
          ]
        },
        {
          "name": "stderr",
          "output_type": "stream",
          "text": [
            "\rEpoch 1/3:   2%|▏         | 118/6515 [43:27<38:41:11, 21.77s/it]"
          ]
        },
        {
          "name": "stdout",
          "output_type": "stream",
          "text": [
            "Epoch 1/3 completed. Loss: 0.70989990234375\n"
          ]
        },
        {
          "name": "stderr",
          "output_type": "stream",
          "text": [
            "\rEpoch 1/3:   2%|▏         | 119/6515 [43:48<38:18:34, 21.56s/it]"
          ]
        },
        {
          "name": "stdout",
          "output_type": "stream",
          "text": [
            "Epoch 1/3 completed. Loss: 0.646256148815155\n"
          ]
        },
        {
          "name": "stderr",
          "output_type": "stream",
          "text": [
            "\rEpoch 1/3:   2%|▏         | 120/6515 [44:11<39:01:05, 21.96s/it]"
          ]
        },
        {
          "name": "stdout",
          "output_type": "stream",
          "text": [
            "Epoch 1/3 completed. Loss: 0.7577176690101624\n"
          ]
        },
        {
          "name": "stderr",
          "output_type": "stream",
          "text": [
            "\rEpoch 1/3:   2%|▏         | 121/6515 [44:32<38:28:24, 21.66s/it]"
          ]
        },
        {
          "name": "stdout",
          "output_type": "stream",
          "text": [
            "Epoch 1/3 completed. Loss: 0.8418416380882263\n"
          ]
        },
        {
          "name": "stderr",
          "output_type": "stream",
          "text": [
            "\rEpoch 1/3:   2%|▏         | 122/6515 [44:55<38:55:12, 21.92s/it]"
          ]
        },
        {
          "name": "stdout",
          "output_type": "stream",
          "text": [
            "Epoch 1/3 completed. Loss: 0.4255807101726532\n"
          ]
        },
        {
          "name": "stderr",
          "output_type": "stream",
          "text": [
            "\rEpoch 1/3:   2%|▏         | 123/6515 [45:16<38:42:35, 21.80s/it]"
          ]
        },
        {
          "name": "stdout",
          "output_type": "stream",
          "text": [
            "Epoch 1/3 completed. Loss: 0.6718248724937439\n"
          ]
        },
        {
          "name": "stderr",
          "output_type": "stream",
          "text": [
            "\rEpoch 1/3:   2%|▏         | 124/6515 [45:37<38:12:18, 21.52s/it]"
          ]
        },
        {
          "name": "stdout",
          "output_type": "stream",
          "text": [
            "Epoch 1/3 completed. Loss: 1.0197484493255615\n"
          ]
        },
        {
          "name": "stderr",
          "output_type": "stream",
          "text": [
            "\rEpoch 1/3:   2%|▏         | 125/6515 [46:00<39:07:56, 22.05s/it]"
          ]
        },
        {
          "name": "stdout",
          "output_type": "stream",
          "text": [
            "Epoch 1/3 completed. Loss: 0.7252529859542847\n"
          ]
        },
        {
          "name": "stderr",
          "output_type": "stream",
          "text": [
            "\rEpoch 1/3:   2%|▏         | 126/6515 [46:21<38:30:05, 21.69s/it]"
          ]
        },
        {
          "name": "stdout",
          "output_type": "stream",
          "text": [
            "Epoch 1/3 completed. Loss: 1.064375877380371\n"
          ]
        },
        {
          "name": "stderr",
          "output_type": "stream",
          "text": [
            "\rEpoch 1/3:   2%|▏         | 127/6515 [46:43<38:26:05, 21.66s/it]"
          ]
        },
        {
          "name": "stdout",
          "output_type": "stream",
          "text": [
            "Epoch 1/3 completed. Loss: 0.5514078140258789\n"
          ]
        },
        {
          "name": "stderr",
          "output_type": "stream",
          "text": [
            "\rEpoch 1/3:   2%|▏         | 128/6515 [47:05<38:49:10, 21.88s/it]"
          ]
        },
        {
          "name": "stdout",
          "output_type": "stream",
          "text": [
            "Epoch 1/3 completed. Loss: 0.9000087976455688\n"
          ]
        },
        {
          "name": "stderr",
          "output_type": "stream",
          "text": [
            "\rEpoch 1/3:   2%|▏         | 129/6515 [47:26<38:16:57, 21.58s/it]"
          ]
        },
        {
          "name": "stdout",
          "output_type": "stream",
          "text": [
            "Epoch 1/3 completed. Loss: 0.7662623524665833\n"
          ]
        },
        {
          "name": "stderr",
          "output_type": "stream",
          "text": [
            "\rEpoch 1/3:   2%|▏         | 130/6515 [47:49<38:46:06, 21.86s/it]"
          ]
        },
        {
          "name": "stdout",
          "output_type": "stream",
          "text": [
            "Epoch 1/3 completed. Loss: 0.48772168159484863\n"
          ]
        },
        {
          "name": "stderr",
          "output_type": "stream",
          "text": [
            "\rEpoch 1/3:   2%|▏         | 131/6515 [48:10<38:17:06, 21.59s/it]"
          ]
        },
        {
          "name": "stdout",
          "output_type": "stream",
          "text": [
            "Epoch 1/3 completed. Loss: 0.719189465045929\n"
          ]
        },
        {
          "name": "stderr",
          "output_type": "stream",
          "text": [
            "\rEpoch 1/3:   2%|▏         | 132/6515 [48:30<37:53:14, 21.37s/it]"
          ]
        },
        {
          "name": "stdout",
          "output_type": "stream",
          "text": [
            "Epoch 1/3 completed. Loss: 0.6035684943199158\n"
          ]
        },
        {
          "name": "stderr",
          "output_type": "stream",
          "text": [
            "\rEpoch 1/3:   2%|▏         | 133/6515 [48:54<38:46:40, 21.87s/it]"
          ]
        },
        {
          "name": "stdout",
          "output_type": "stream",
          "text": [
            "Epoch 1/3 completed. Loss: 0.73846435546875\n"
          ]
        },
        {
          "name": "stderr",
          "output_type": "stream",
          "text": [
            "\rEpoch 1/3:   2%|▏         | 134/6515 [49:14<38:17:44, 21.61s/it]"
          ]
        },
        {
          "name": "stdout",
          "output_type": "stream",
          "text": [
            "Epoch 1/3 completed. Loss: 0.8996473550796509\n"
          ]
        },
        {
          "name": "stderr",
          "output_type": "stream",
          "text": [
            "\rEpoch 1/3:   2%|▏         | 135/6515 [49:37<38:37:51, 21.80s/it]"
          ]
        },
        {
          "name": "stdout",
          "output_type": "stream",
          "text": [
            "Epoch 1/3 completed. Loss: 0.5777526497840881\n"
          ]
        },
        {
          "name": "stderr",
          "output_type": "stream",
          "text": [
            "\rEpoch 1/3:   2%|▏         | 136/6515 [49:58<38:34:28, 21.77s/it]"
          ]
        },
        {
          "name": "stdout",
          "output_type": "stream",
          "text": [
            "Epoch 1/3 completed. Loss: 0.8474506139755249\n"
          ]
        },
        {
          "name": "stderr",
          "output_type": "stream",
          "text": [
            "\rEpoch 1/3:   2%|▏         | 137/6515 [50:19<38:04:17, 21.49s/it]"
          ]
        },
        {
          "name": "stdout",
          "output_type": "stream",
          "text": [
            "Epoch 1/3 completed. Loss: 0.48185595870018005\n"
          ]
        },
        {
          "name": "stderr",
          "output_type": "stream",
          "text": [
            "\rEpoch 1/3:   2%|▏         | 138/6515 [50:43<39:06:18, 22.08s/it]"
          ]
        },
        {
          "name": "stdout",
          "output_type": "stream",
          "text": [
            "Epoch 1/3 completed. Loss: 0.6459155082702637\n"
          ]
        },
        {
          "name": "stderr",
          "output_type": "stream",
          "text": [
            "\rEpoch 1/3:   2%|▏         | 139/6515 [51:04<38:29:42, 21.73s/it]"
          ]
        },
        {
          "name": "stdout",
          "output_type": "stream",
          "text": [
            "Epoch 1/3 completed. Loss: 0.41186079382896423\n"
          ]
        },
        {
          "name": "stderr",
          "output_type": "stream",
          "text": [
            "\rEpoch 1/3:   2%|▏         | 140/6515 [51:25<38:25:13, 21.70s/it]"
          ]
        },
        {
          "name": "stdout",
          "output_type": "stream",
          "text": [
            "Epoch 1/3 completed. Loss: 0.6073529720306396\n"
          ]
        },
        {
          "name": "stderr",
          "output_type": "stream",
          "text": [
            "\rEpoch 1/3:   2%|▏         | 141/6515 [51:47<38:28:50, 21.73s/it]"
          ]
        },
        {
          "name": "stdout",
          "output_type": "stream",
          "text": [
            "Epoch 1/3 completed. Loss: 0.47106078267097473\n"
          ]
        },
        {
          "name": "stderr",
          "output_type": "stream",
          "text": [
            "\rEpoch 1/3:   2%|▏         | 142/6515 [52:08<37:56:24, 21.43s/it]"
          ]
        },
        {
          "name": "stdout",
          "output_type": "stream",
          "text": [
            "Epoch 1/3 completed. Loss: 0.7067680954933167\n"
          ]
        },
        {
          "name": "stderr",
          "output_type": "stream",
          "text": [
            "\rEpoch 1/3:   2%|▏         | 143/6515 [52:30<38:26:15, 21.72s/it]"
          ]
        },
        {
          "name": "stdout",
          "output_type": "stream",
          "text": [
            "Epoch 1/3 completed. Loss: 0.46935606002807617\n"
          ]
        },
        {
          "name": "stderr",
          "output_type": "stream",
          "text": [
            "\rEpoch 1/3:   2%|▏         | 144/6515 [52:51<38:08:12, 21.55s/it]"
          ]
        },
        {
          "name": "stdout",
          "output_type": "stream",
          "text": [
            "Epoch 1/3 completed. Loss: 0.4116370975971222\n"
          ]
        },
        {
          "name": "stderr",
          "output_type": "stream",
          "text": [
            "\rEpoch 1/3:   2%|▏         | 145/6515 [53:12<37:50:19, 21.38s/it]"
          ]
        },
        {
          "name": "stdout",
          "output_type": "stream",
          "text": [
            "Epoch 1/3 completed. Loss: 0.3377973735332489\n"
          ]
        },
        {
          "name": "stderr",
          "output_type": "stream",
          "text": [
            "\rEpoch 1/3:   2%|▏         | 146/6515 [53:35<38:42:29, 21.88s/it]"
          ]
        },
        {
          "name": "stdout",
          "output_type": "stream",
          "text": [
            "Epoch 1/3 completed. Loss: 0.581428587436676\n"
          ]
        },
        {
          "name": "stderr",
          "output_type": "stream",
          "text": [
            "\rEpoch 1/3:   2%|▏         | 147/6515 [53:56<38:11:47, 21.59s/it]"
          ]
        },
        {
          "name": "stdout",
          "output_type": "stream",
          "text": [
            "Epoch 1/3 completed. Loss: 1.154302954673767\n"
          ]
        },
        {
          "name": "stderr",
          "output_type": "stream",
          "text": [
            "\rEpoch 1/3:   2%|▏         | 148/6515 [54:18<38:28:44, 21.76s/it]"
          ]
        },
        {
          "name": "stdout",
          "output_type": "stream",
          "text": [
            "Epoch 1/3 completed. Loss: 0.5301939845085144\n"
          ]
        },
        {
          "name": "stderr",
          "output_type": "stream",
          "text": [
            "\rEpoch 1/3:   2%|▏         | 149/6515 [54:40<38:27:24, 21.75s/it]"
          ]
        },
        {
          "name": "stdout",
          "output_type": "stream",
          "text": [
            "Epoch 1/3 completed. Loss: 0.7192261815071106\n"
          ]
        },
        {
          "name": "stderr",
          "output_type": "stream",
          "text": [
            "\rEpoch 1/3:   2%|▏         | 150/6515 [55:01<38:02:01, 21.51s/it]"
          ]
        },
        {
          "name": "stdout",
          "output_type": "stream",
          "text": [
            "Epoch 1/3 completed. Loss: 0.44342756271362305\n"
          ]
        },
        {
          "name": "stderr",
          "output_type": "stream",
          "text": [
            "\rEpoch 1/3:   2%|▏         | 151/6515 [55:24<38:49:06, 21.96s/it]"
          ]
        },
        {
          "name": "stdout",
          "output_type": "stream",
          "text": [
            "Epoch 1/3 completed. Loss: 0.39460277557373047\n"
          ]
        },
        {
          "name": "stderr",
          "output_type": "stream",
          "text": [
            "\rEpoch 1/3:   2%|▏         | 152/6515 [55:45<38:18:42, 21.68s/it]"
          ]
        },
        {
          "name": "stdout",
          "output_type": "stream",
          "text": [
            "Epoch 1/3 completed. Loss: 0.7511111497879028\n"
          ]
        },
        {
          "name": "stderr",
          "output_type": "stream",
          "text": [
            "\rEpoch 1/3:   2%|▏         | 153/6515 [56:07<38:24:19, 21.73s/it]"
          ]
        },
        {
          "name": "stdout",
          "output_type": "stream",
          "text": [
            "Epoch 1/3 completed. Loss: 0.972413957118988\n"
          ]
        },
        {
          "name": "stderr",
          "output_type": "stream",
          "text": [
            "\rEpoch 1/3:   2%|▏         | 154/6515 [56:29<38:34:20, 21.83s/it]"
          ]
        },
        {
          "name": "stdout",
          "output_type": "stream",
          "text": [
            "Epoch 1/3 completed. Loss: 0.8259487748146057\n"
          ]
        },
        {
          "name": "stderr",
          "output_type": "stream",
          "text": [
            "\rEpoch 1/3:   2%|▏         | 155/6515 [56:50<38:05:18, 21.56s/it]"
          ]
        },
        {
          "name": "stdout",
          "output_type": "stream",
          "text": [
            "Epoch 1/3 completed. Loss: 0.6276695132255554\n"
          ]
        },
        {
          "name": "stderr",
          "output_type": "stream",
          "text": [
            "\rEpoch 1/3:   2%|▏         | 156/6515 [57:13<38:57:59, 22.06s/it]"
          ]
        },
        {
          "name": "stdout",
          "output_type": "stream",
          "text": [
            "Epoch 1/3 completed. Loss: 0.9158370494842529\n"
          ]
        },
        {
          "name": "stderr",
          "output_type": "stream",
          "text": [
            "\rEpoch 1/3:   2%|▏         | 157/6515 [57:34<38:22:57, 21.73s/it]"
          ]
        },
        {
          "name": "stdout",
          "output_type": "stream",
          "text": [
            "Epoch 1/3 completed. Loss: 0.3968198299407959\n"
          ]
        },
        {
          "name": "stderr",
          "output_type": "stream",
          "text": [
            "\rEpoch 1/3:   2%|▏         | 158/6515 [57:56<38:19:04, 21.70s/it]"
          ]
        },
        {
          "name": "stdout",
          "output_type": "stream",
          "text": [
            "Epoch 1/3 completed. Loss: 0.5128701329231262\n"
          ]
        },
        {
          "name": "stderr",
          "output_type": "stream",
          "text": [
            "\rEpoch 1/3:   2%|▏         | 159/6515 [58:18<38:32:32, 21.83s/it]"
          ]
        },
        {
          "name": "stdout",
          "output_type": "stream",
          "text": [
            "Epoch 1/3 completed. Loss: 0.296908438205719\n"
          ]
        },
        {
          "name": "stderr",
          "output_type": "stream",
          "text": [
            "\rEpoch 1/3:   2%|▏         | 160/6515 [58:39<37:56:45, 21.50s/it]"
          ]
        },
        {
          "name": "stdout",
          "output_type": "stream",
          "text": [
            "Epoch 1/3 completed. Loss: 0.4909774363040924\n"
          ]
        },
        {
          "name": "stderr",
          "output_type": "stream",
          "text": [
            "\rEpoch 1/3:   2%|▏         | 161/6515 [59:02<38:39:04, 21.90s/it]"
          ]
        },
        {
          "name": "stdout",
          "output_type": "stream",
          "text": [
            "Epoch 1/3 completed. Loss: 0.46369796991348267\n"
          ]
        },
        {
          "name": "stderr",
          "output_type": "stream",
          "text": [
            "\rEpoch 1/3:   2%|▏         | 162/6515 [59:23<38:10:16, 21.63s/it]"
          ]
        },
        {
          "name": "stdout",
          "output_type": "stream",
          "text": [
            "Epoch 1/3 completed. Loss: 0.43187713623046875\n"
          ]
        },
        {
          "name": "stderr",
          "output_type": "stream",
          "text": [
            "\rEpoch 1/3:   3%|▎         | 163/6515 [59:43<37:44:32, 21.39s/it]"
          ]
        },
        {
          "name": "stdout",
          "output_type": "stream",
          "text": [
            "Epoch 1/3 completed. Loss: 0.4140380918979645\n"
          ]
        },
        {
          "name": "stderr",
          "output_type": "stream",
          "text": [
            "\rEpoch 1/3:   3%|▎         | 164/6515 [1:00:06<38:38:15, 21.90s/it]"
          ]
        },
        {
          "name": "stdout",
          "output_type": "stream",
          "text": [
            "Epoch 1/3 completed. Loss: 0.4615972638130188\n"
          ]
        },
        {
          "name": "stderr",
          "output_type": "stream",
          "text": [
            "\rEpoch 1/3:   3%|▎         | 165/6515 [1:00:27<38:05:05, 21.59s/it]"
          ]
        },
        {
          "name": "stdout",
          "output_type": "stream",
          "text": [
            "Epoch 1/3 completed. Loss: 0.7553237080574036\n"
          ]
        },
        {
          "name": "stderr",
          "output_type": "stream",
          "text": [
            "\rEpoch 1/3:   3%|▎         | 166/6515 [1:00:49<38:06:49, 21.61s/it]"
          ]
        },
        {
          "name": "stdout",
          "output_type": "stream",
          "text": [
            "Epoch 1/3 completed. Loss: 0.7866888046264648\n"
          ]
        },
        {
          "name": "stderr",
          "output_type": "stream",
          "text": [
            "\rEpoch 1/3:   3%|▎         | 167/6515 [1:01:11<38:23:07, 21.77s/it]"
          ]
        },
        {
          "name": "stdout",
          "output_type": "stream",
          "text": [
            "Epoch 1/3 completed. Loss: 0.5877137780189514\n"
          ]
        },
        {
          "name": "stderr",
          "output_type": "stream",
          "text": [
            "\rEpoch 1/3:   3%|▎         | 168/6515 [1:01:32<37:54:55, 21.51s/it]"
          ]
        },
        {
          "name": "stdout",
          "output_type": "stream",
          "text": [
            "Epoch 1/3 completed. Loss: 0.5871749520301819\n"
          ]
        },
        {
          "name": "stderr",
          "output_type": "stream",
          "text": [
            "\rEpoch 1/3:   3%|▎         | 169/6515 [1:01:55<38:45:35, 21.99s/it]"
          ]
        },
        {
          "name": "stdout",
          "output_type": "stream",
          "text": [
            "Epoch 1/3 completed. Loss: 0.6441239714622498\n"
          ]
        },
        {
          "name": "stderr",
          "output_type": "stream",
          "text": [
            "\rEpoch 1/3:   3%|▎         | 170/6515 [1:02:16<38:09:44, 21.65s/it]"
          ]
        },
        {
          "name": "stdout",
          "output_type": "stream",
          "text": [
            "Epoch 1/3 completed. Loss: 0.8478566408157349\n"
          ]
        },
        {
          "name": "stderr",
          "output_type": "stream",
          "text": [
            "\rEpoch 1/3:   3%|▎         | 171/6515 [1:02:37<37:56:03, 21.53s/it]"
          ]
        },
        {
          "name": "stdout",
          "output_type": "stream",
          "text": [
            "Epoch 1/3 completed. Loss: 0.33294567465782166\n"
          ]
        },
        {
          "name": "stderr",
          "output_type": "stream",
          "text": [
            "\rEpoch 1/3:   3%|▎         | 172/6515 [1:03:00<38:30:58, 21.86s/it]"
          ]
        },
        {
          "name": "stdout",
          "output_type": "stream",
          "text": [
            "Epoch 1/3 completed. Loss: 0.6052591800689697\n"
          ]
        },
        {
          "name": "stderr",
          "output_type": "stream",
          "text": [
            "\rEpoch 1/3:   3%|▎         | 173/6515 [1:03:21<38:01:42, 21.59s/it]"
          ]
        },
        {
          "name": "stdout",
          "output_type": "stream",
          "text": [
            "Epoch 1/3 completed. Loss: 0.3931771516799927\n"
          ]
        },
        {
          "name": "stderr",
          "output_type": "stream",
          "text": [
            "\rEpoch 1/3:   3%|▎         | 174/6515 [1:03:44<38:38:24, 21.94s/it]"
          ]
        },
        {
          "name": "stdout",
          "output_type": "stream",
          "text": [
            "Epoch 1/3 completed. Loss: 0.7622441649436951\n"
          ]
        },
        {
          "name": "stderr",
          "output_type": "stream",
          "text": [
            "\rEpoch 1/3:   3%|▎         | 175/6515 [1:04:04<38:05:26, 21.63s/it]"
          ]
        },
        {
          "name": "stdout",
          "output_type": "stream",
          "text": [
            "Epoch 1/3 completed. Loss: 0.7329207062721252\n"
          ]
        },
        {
          "name": "stderr",
          "output_type": "stream",
          "text": [
            "\rEpoch 1/3:   3%|▎         | 176/6515 [1:04:25<37:43:10, 21.42s/it]"
          ]
        },
        {
          "name": "stdout",
          "output_type": "stream",
          "text": [
            "Epoch 1/3 completed. Loss: 0.9400224685668945\n"
          ]
        },
        {
          "name": "stderr",
          "output_type": "stream",
          "text": [
            "\rEpoch 1/3:   3%|▎         | 177/6515 [1:04:48<38:34:04, 21.91s/it]"
          ]
        },
        {
          "name": "stdout",
          "output_type": "stream",
          "text": [
            "Epoch 1/3 completed. Loss: 0.5092929601669312\n"
          ]
        },
        {
          "name": "stderr",
          "output_type": "stream",
          "text": [
            "\rEpoch 1/3:   3%|▎         | 178/6515 [1:05:09<38:03:06, 21.62s/it]"
          ]
        },
        {
          "name": "stdout",
          "output_type": "stream",
          "text": [
            "Epoch 1/3 completed. Loss: 0.9228670597076416\n"
          ]
        },
        {
          "name": "stderr",
          "output_type": "stream",
          "text": [
            "\rEpoch 1/3:   3%|▎         | 179/6515 [1:05:32<38:22:00, 21.80s/it]"
          ]
        },
        {
          "name": "stdout",
          "output_type": "stream",
          "text": [
            "Epoch 1/3 completed. Loss: 0.4048807919025421\n"
          ]
        },
        {
          "name": "stderr",
          "output_type": "stream",
          "text": [
            "\rEpoch 1/3:   3%|▎         | 180/6515 [1:05:53<38:17:16, 21.76s/it]"
          ]
        },
        {
          "name": "stdout",
          "output_type": "stream",
          "text": [
            "Epoch 1/3 completed. Loss: 0.5939960479736328\n"
          ]
        },
        {
          "name": "stderr",
          "output_type": "stream",
          "text": [
            "\rEpoch 1/3:   3%|▎         | 181/6515 [1:06:14<37:52:57, 21.53s/it]"
          ]
        },
        {
          "name": "stdout",
          "output_type": "stream",
          "text": [
            "Epoch 1/3 completed. Loss: 0.7716711759567261\n"
          ]
        },
        {
          "name": "stderr",
          "output_type": "stream",
          "text": [
            "\rEpoch 1/3:   3%|▎         | 182/6515 [1:06:37<38:41:50, 22.00s/it]"
          ]
        },
        {
          "name": "stdout",
          "output_type": "stream",
          "text": [
            "Epoch 1/3 completed. Loss: 0.7251042127609253\n"
          ]
        },
        {
          "name": "stderr",
          "output_type": "stream",
          "text": [
            "\rEpoch 1/3:   3%|▎         | 183/6515 [1:06:58<38:12:55, 21.73s/it]"
          ]
        },
        {
          "name": "stdout",
          "output_type": "stream",
          "text": [
            "Epoch 1/3 completed. Loss: 0.5861430764198303\n"
          ]
        },
        {
          "name": "stderr",
          "output_type": "stream",
          "text": [
            "\rEpoch 1/3:   3%|▎         | 184/6515 [1:07:20<38:03:08, 21.64s/it]"
          ]
        },
        {
          "name": "stdout",
          "output_type": "stream",
          "text": [
            "Epoch 1/3 completed. Loss: 0.6162430644035339\n"
          ]
        },
        {
          "name": "stderr",
          "output_type": "stream",
          "text": [
            "\rEpoch 1/3:   3%|▎         | 185/6515 [1:07:42<38:25:59, 21.86s/it]"
          ]
        },
        {
          "name": "stdout",
          "output_type": "stream",
          "text": [
            "Epoch 1/3 completed. Loss: 0.6181721091270447\n"
          ]
        },
        {
          "name": "stderr",
          "output_type": "stream",
          "text": [
            "\rEpoch 1/3:   3%|▎         | 186/6515 [1:08:03<37:52:54, 21.55s/it]"
          ]
        },
        {
          "name": "stdout",
          "output_type": "stream",
          "text": [
            "Epoch 1/3 completed. Loss: 0.8197234869003296\n"
          ]
        },
        {
          "name": "stderr",
          "output_type": "stream",
          "text": [
            "\rEpoch 1/3:   3%|▎         | 187/6515 [1:08:26<38:24:25, 21.85s/it]"
          ]
        },
        {
          "name": "stdout",
          "output_type": "stream",
          "text": [
            "Epoch 1/3 completed. Loss: 0.6601302027702332\n"
          ]
        },
        {
          "name": "stderr",
          "output_type": "stream",
          "text": [
            "\rEpoch 1/3:   3%|▎         | 188/6515 [1:08:47<37:55:54, 21.58s/it]"
          ]
        },
        {
          "name": "stdout",
          "output_type": "stream",
          "text": [
            "Epoch 1/3 completed. Loss: 0.8314033150672913\n"
          ]
        },
        {
          "name": "stderr",
          "output_type": "stream",
          "text": [
            "\rEpoch 1/3:   3%|▎         | 189/6515 [1:09:08<37:37:19, 21.41s/it]"
          ]
        },
        {
          "name": "stdout",
          "output_type": "stream",
          "text": [
            "Epoch 1/3 completed. Loss: 0.49180078506469727\n"
          ]
        },
        {
          "name": "stderr",
          "output_type": "stream",
          "text": [
            "\rEpoch 1/3:   3%|▎         | 190/6515 [1:09:31<38:34:15, 21.95s/it]"
          ]
        },
        {
          "name": "stdout",
          "output_type": "stream",
          "text": [
            "Epoch 1/3 completed. Loss: 0.5990554094314575\n"
          ]
        },
        {
          "name": "stderr",
          "output_type": "stream",
          "text": [
            "\rEpoch 1/3:   3%|▎         | 191/6515 [1:09:52<38:01:31, 21.65s/it]"
          ]
        },
        {
          "name": "stdout",
          "output_type": "stream",
          "text": [
            "Epoch 1/3 completed. Loss: 0.7855291962623596\n"
          ]
        },
        {
          "name": "stderr",
          "output_type": "stream",
          "text": [
            "\rEpoch 1/3:   3%|▎         | 192/6515 [1:10:14<38:22:16, 21.85s/it]"
          ]
        },
        {
          "name": "stdout",
          "output_type": "stream",
          "text": [
            "Epoch 1/3 completed. Loss: 0.8094491958618164\n"
          ]
        },
        {
          "name": "stderr",
          "output_type": "stream",
          "text": [
            "\rEpoch 1/3:   3%|▎         | 193/6515 [1:10:36<38:11:22, 21.75s/it]"
          ]
        },
        {
          "name": "stdout",
          "output_type": "stream",
          "text": [
            "Epoch 1/3 completed. Loss: 0.4593384861946106\n"
          ]
        },
        {
          "name": "stderr",
          "output_type": "stream",
          "text": [
            "\rEpoch 1/3:   3%|▎         | 194/6515 [1:10:57<37:47:46, 21.53s/it]"
          ]
        },
        {
          "name": "stdout",
          "output_type": "stream",
          "text": [
            "Epoch 1/3 completed. Loss: 0.5034554600715637\n"
          ]
        },
        {
          "name": "stderr",
          "output_type": "stream",
          "text": [
            "\rEpoch 1/3:   3%|▎         | 195/6515 [1:11:20<38:39:52, 22.02s/it]"
          ]
        },
        {
          "name": "stdout",
          "output_type": "stream",
          "text": [
            "Epoch 1/3 completed. Loss: 0.5222878456115723\n"
          ]
        },
        {
          "name": "stderr",
          "output_type": "stream",
          "text": [
            "\rEpoch 1/3:   3%|▎         | 196/6515 [1:11:41<38:07:29, 21.72s/it]"
          ]
        },
        {
          "name": "stdout",
          "output_type": "stream",
          "text": [
            "Epoch 1/3 completed. Loss: 0.7608279585838318\n"
          ]
        },
        {
          "name": "stderr",
          "output_type": "stream",
          "text": [
            "\rEpoch 1/3:   3%|▎         | 197/6515 [1:12:03<38:08:27, 21.73s/it]"
          ]
        },
        {
          "name": "stdout",
          "output_type": "stream",
          "text": [
            "Epoch 1/3 completed. Loss: 0.6050071120262146\n"
          ]
        },
        {
          "name": "stderr",
          "output_type": "stream",
          "text": [
            "\rEpoch 1/3:   3%|▎         | 198/6515 [1:12:24<38:14:25, 21.79s/it]"
          ]
        },
        {
          "name": "stdout",
          "output_type": "stream",
          "text": [
            "Epoch 1/3 completed. Loss: 0.6510347723960876\n"
          ]
        },
        {
          "name": "stderr",
          "output_type": "stream",
          "text": [
            "\rEpoch 1/3:   3%|▎         | 199/6515 [1:12:45<37:49:04, 21.56s/it]"
          ]
        },
        {
          "name": "stdout",
          "output_type": "stream",
          "text": [
            "Epoch 1/3 completed. Loss: 0.5422112345695496\n"
          ]
        },
        {
          "name": "stderr",
          "output_type": "stream",
          "text": [
            "\rEpoch 1/3:   3%|▎         | 200/6515 [1:13:09<38:42:18, 22.06s/it]"
          ]
        },
        {
          "name": "stdout",
          "output_type": "stream",
          "text": [
            "Epoch 1/3 completed. Loss: 0.478160560131073\n"
          ]
        },
        {
          "name": "stderr",
          "output_type": "stream",
          "text": [
            "\rEpoch 1/3:   3%|▎         | 201/6515 [1:13:30<38:06:24, 21.73s/it]"
          ]
        },
        {
          "name": "stdout",
          "output_type": "stream",
          "text": [
            "Batch 200, Loss: 0.5712713599205017\n",
            "Epoch 1/3 completed. Loss: 0.5712713599205017\n"
          ]
        },
        {
          "name": "stderr",
          "output_type": "stream",
          "text": [
            "\rEpoch 1/3:   3%|▎         | 202/6515 [1:13:51<37:55:31, 21.63s/it]"
          ]
        },
        {
          "name": "stdout",
          "output_type": "stream",
          "text": [
            "Epoch 1/3 completed. Loss: 0.4825044274330139\n"
          ]
        },
        {
          "name": "stderr",
          "output_type": "stream",
          "text": [
            "\rEpoch 1/3:   3%|▎         | 203/6515 [1:14:13<38:19:42, 21.86s/it]"
          ]
        },
        {
          "name": "stdout",
          "output_type": "stream",
          "text": [
            "Epoch 1/3 completed. Loss: 0.43455541133880615\n"
          ]
        },
        {
          "name": "stderr",
          "output_type": "stream",
          "text": [
            "\rEpoch 1/3:   3%|▎         | 204/6515 [1:14:34<37:47:45, 21.56s/it]"
          ]
        },
        {
          "name": "stdout",
          "output_type": "stream",
          "text": [
            "Epoch 1/3 completed. Loss: 0.659285843372345\n"
          ]
        },
        {
          "name": "stderr",
          "output_type": "stream",
          "text": [
            "\rEpoch 1/3:   3%|▎         | 205/6515 [1:14:57<38:22:57, 21.90s/it]"
          ]
        },
        {
          "name": "stdout",
          "output_type": "stream",
          "text": [
            "Epoch 1/3 completed. Loss: 0.4777485132217407\n"
          ]
        },
        {
          "name": "stderr",
          "output_type": "stream",
          "text": [
            "\rEpoch 1/3:   3%|▎         | 206/6515 [1:15:18<37:54:40, 21.63s/it]"
          ]
        },
        {
          "name": "stdout",
          "output_type": "stream",
          "text": [
            "Epoch 1/3 completed. Loss: 0.57436203956604\n"
          ]
        },
        {
          "name": "stderr",
          "output_type": "stream",
          "text": [
            "\rEpoch 1/3:   3%|▎         | 207/6515 [1:15:39<37:42:01, 21.52s/it]"
          ]
        },
        {
          "name": "stdout",
          "output_type": "stream",
          "text": [
            "Epoch 1/3 completed. Loss: 1.058732509613037\n"
          ]
        },
        {
          "name": "stderr",
          "output_type": "stream",
          "text": [
            "\rEpoch 1/3:   3%|▎         | 208/6515 [1:16:02<38:20:40, 21.89s/it]"
          ]
        },
        {
          "name": "stdout",
          "output_type": "stream",
          "text": [
            "Epoch 1/3 completed. Loss: 0.49003857374191284\n"
          ]
        },
        {
          "name": "stderr",
          "output_type": "stream",
          "text": [
            "\rEpoch 1/3:   3%|▎         | 209/6515 [1:16:23<37:47:00, 21.57s/it]"
          ]
        },
        {
          "name": "stdout",
          "output_type": "stream",
          "text": [
            "Epoch 1/3 completed. Loss: 0.5690212845802307\n"
          ]
        },
        {
          "name": "stderr",
          "output_type": "stream",
          "text": [
            "\rEpoch 1/3:   3%|▎         | 210/6515 [1:16:45<38:14:44, 21.84s/it]"
          ]
        },
        {
          "name": "stdout",
          "output_type": "stream",
          "text": [
            "Epoch 1/3 completed. Loss: 0.6350588798522949\n"
          ]
        },
        {
          "name": "stderr",
          "output_type": "stream",
          "text": [
            "\rEpoch 1/3:   3%|▎         | 211/6515 [1:17:07<38:00:59, 21.71s/it]"
          ]
        },
        {
          "name": "stdout",
          "output_type": "stream",
          "text": [
            "Epoch 1/3 completed. Loss: 0.6529938578605652\n"
          ]
        },
        {
          "name": "stderr",
          "output_type": "stream",
          "text": [
            "\rEpoch 1/3:   3%|▎         | 212/6515 [1:17:28<37:37:30, 21.49s/it]"
          ]
        },
        {
          "name": "stdout",
          "output_type": "stream",
          "text": [
            "Epoch 1/3 completed. Loss: 0.4987374544143677\n"
          ]
        },
        {
          "name": "stderr",
          "output_type": "stream",
          "text": [
            "\rEpoch 1/3:   3%|▎         | 213/6515 [1:17:51<38:30:05, 21.99s/it]"
          ]
        },
        {
          "name": "stdout",
          "output_type": "stream",
          "text": [
            "Epoch 1/3 completed. Loss: 0.7728152275085449\n"
          ]
        },
        {
          "name": "stderr",
          "output_type": "stream",
          "text": [
            "\rEpoch 1/3:   3%|▎         | 214/6515 [1:18:12<37:57:17, 21.69s/it]"
          ]
        },
        {
          "name": "stdout",
          "output_type": "stream",
          "text": [
            "Epoch 1/3 completed. Loss: 0.6320608854293823\n"
          ]
        },
        {
          "name": "stderr",
          "output_type": "stream",
          "text": [
            "\rEpoch 1/3:   3%|▎         | 215/6515 [1:18:34<38:04:39, 21.76s/it]"
          ]
        },
        {
          "name": "stdout",
          "output_type": "stream",
          "text": [
            "Epoch 1/3 completed. Loss: 0.6656560301780701\n"
          ]
        },
        {
          "name": "stderr",
          "output_type": "stream",
          "text": [
            "\rEpoch 1/3:   3%|▎         | 216/6515 [1:18:56<38:13:11, 21.84s/it]"
          ]
        },
        {
          "name": "stdout",
          "output_type": "stream",
          "text": [
            "Epoch 1/3 completed. Loss: 0.498440682888031\n"
          ]
        },
        {
          "name": "stderr",
          "output_type": "stream",
          "text": [
            "\rEpoch 1/3:   3%|▎         | 217/6515 [1:19:17<37:46:30, 21.59s/it]"
          ]
        },
        {
          "name": "stdout",
          "output_type": "stream",
          "text": [
            "Epoch 1/3 completed. Loss: 0.5554282665252686\n"
          ]
        },
        {
          "name": "stderr",
          "output_type": "stream",
          "text": [
            "\rEpoch 1/3:   3%|▎         | 218/6515 [1:19:40<38:34:46, 22.06s/it]"
          ]
        },
        {
          "name": "stdout",
          "output_type": "stream",
          "text": [
            "Epoch 1/3 completed. Loss: 0.7474016547203064\n"
          ]
        },
        {
          "name": "stderr",
          "output_type": "stream",
          "text": [
            "\rEpoch 1/3:   3%|▎         | 219/6515 [1:20:01<37:57:02, 21.70s/it]"
          ]
        },
        {
          "name": "stdout",
          "output_type": "stream",
          "text": [
            "Epoch 1/3 completed. Loss: 0.45163580775260925\n"
          ]
        },
        {
          "name": "stderr",
          "output_type": "stream",
          "text": [
            "\rEpoch 1/3:   3%|▎         | 220/6515 [1:20:22<37:49:41, 21.63s/it]"
          ]
        },
        {
          "name": "stdout",
          "output_type": "stream",
          "text": [
            "Epoch 1/3 completed. Loss: 0.5948373079299927\n"
          ]
        },
        {
          "name": "stderr",
          "output_type": "stream",
          "text": [
            "\rEpoch 1/3:   3%|▎         | 221/6515 [1:20:45<38:07:54, 21.81s/it]"
          ]
        },
        {
          "name": "stdout",
          "output_type": "stream",
          "text": [
            "Epoch 1/3 completed. Loss: 0.7041847705841064\n"
          ]
        },
        {
          "name": "stderr",
          "output_type": "stream",
          "text": [
            "\rEpoch 1/3:   3%|▎         | 222/6515 [1:21:05<37:37:02, 21.52s/it]"
          ]
        },
        {
          "name": "stdout",
          "output_type": "stream",
          "text": [
            "Epoch 1/3 completed. Loss: 0.7412469387054443\n"
          ]
        },
        {
          "name": "stderr",
          "output_type": "stream",
          "text": [
            "\rEpoch 1/3:   3%|▎         | 223/6515 [1:21:28<38:21:44, 21.95s/it]"
          ]
        },
        {
          "name": "stdout",
          "output_type": "stream",
          "text": [
            "Epoch 1/3 completed. Loss: 0.5910623073577881\n"
          ]
        },
        {
          "name": "stderr",
          "output_type": "stream",
          "text": [
            "\rEpoch 1/3:   3%|▎         | 224/6515 [1:21:49<37:55:55, 21.71s/it]"
          ]
        },
        {
          "name": "stdout",
          "output_type": "stream",
          "text": [
            "Epoch 1/3 completed. Loss: 0.6524829268455505\n"
          ]
        },
        {
          "name": "stderr",
          "output_type": "stream",
          "text": [
            "\rEpoch 1/3:   3%|▎         | 225/6515 [1:22:10<37:29:21, 21.46s/it]"
          ]
        },
        {
          "name": "stdout",
          "output_type": "stream",
          "text": [
            "Epoch 1/3 completed. Loss: 0.635616660118103\n"
          ]
        },
        {
          "name": "stderr",
          "output_type": "stream",
          "text": [
            "\rEpoch 1/3:   3%|▎         | 226/6515 [1:22:33<38:04:05, 21.79s/it]"
          ]
        },
        {
          "name": "stdout",
          "output_type": "stream",
          "text": [
            "Epoch 1/3 completed. Loss: 0.8002196550369263\n"
          ]
        },
        {
          "name": "stderr",
          "output_type": "stream",
          "text": [
            "\rEpoch 1/3:   3%|▎         | 227/6515 [1:22:54<37:39:35, 21.56s/it]"
          ]
        },
        {
          "name": "stdout",
          "output_type": "stream",
          "text": [
            "Epoch 1/3 completed. Loss: 0.3196401000022888\n"
          ]
        },
        {
          "name": "stderr",
          "output_type": "stream",
          "text": [
            "\rEpoch 1/3:   3%|▎         | 228/6515 [1:23:17<38:15:31, 21.91s/it]"
          ]
        },
        {
          "name": "stdout",
          "output_type": "stream",
          "text": [
            "Epoch 1/3 completed. Loss: 0.7423520088195801\n"
          ]
        },
        {
          "name": "stderr",
          "output_type": "stream",
          "text": [
            "\rEpoch 1/3:   4%|▎         | 229/6515 [1:23:38<37:54:27, 21.71s/it]"
          ]
        },
        {
          "name": "stdout",
          "output_type": "stream",
          "text": [
            "Epoch 1/3 completed. Loss: 0.6029523611068726\n"
          ]
        },
        {
          "name": "stderr",
          "output_type": "stream",
          "text": [
            "\rEpoch 1/3:   4%|▎         | 230/6515 [1:23:59<37:30:32, 21.48s/it]"
          ]
        },
        {
          "name": "stdout",
          "output_type": "stream",
          "text": [
            "Epoch 1/3 completed. Loss: 0.5198823809623718\n"
          ]
        },
        {
          "name": "stderr",
          "output_type": "stream",
          "text": [
            "\rEpoch 1/3:   4%|▎         | 231/6515 [1:24:22<38:22:05, 21.98s/it]"
          ]
        },
        {
          "name": "stdout",
          "output_type": "stream",
          "text": [
            "Epoch 1/3 completed. Loss: 0.5283522009849548\n"
          ]
        },
        {
          "name": "stderr",
          "output_type": "stream",
          "text": [
            "\rEpoch 1/3:   4%|▎         | 232/6515 [1:24:43<37:49:15, 21.67s/it]"
          ]
        },
        {
          "name": "stdout",
          "output_type": "stream",
          "text": [
            "Epoch 1/3 completed. Loss: 0.9477860927581787\n"
          ]
        },
        {
          "name": "stderr",
          "output_type": "stream",
          "text": [
            "\rEpoch 1/3:   4%|▎         | 233/6515 [1:25:05<38:00:23, 21.78s/it]"
          ]
        },
        {
          "name": "stdout",
          "output_type": "stream",
          "text": [
            "Epoch 1/3 completed. Loss: 0.7362891435623169\n"
          ]
        },
        {
          "name": "stderr",
          "output_type": "stream",
          "text": [
            "\rEpoch 1/3:   4%|▎         | 234/6515 [1:25:27<38:01:09, 21.79s/it]"
          ]
        },
        {
          "name": "stdout",
          "output_type": "stream",
          "text": [
            "Epoch 1/3 completed. Loss: 0.5782259702682495\n"
          ]
        },
        {
          "name": "stderr",
          "output_type": "stream",
          "text": [
            "\rEpoch 1/3:   4%|▎         | 235/6515 [1:25:48<37:32:31, 21.52s/it]"
          ]
        },
        {
          "name": "stdout",
          "output_type": "stream",
          "text": [
            "Epoch 1/3 completed. Loss: 0.6245317459106445\n"
          ]
        },
        {
          "name": "stderr",
          "output_type": "stream",
          "text": [
            "\rEpoch 1/3:   4%|▎         | 236/6515 [1:26:11<38:24:12, 22.02s/it]"
          ]
        },
        {
          "name": "stdout",
          "output_type": "stream",
          "text": [
            "Epoch 1/3 completed. Loss: 0.49467286467552185\n"
          ]
        },
        {
          "name": "stderr",
          "output_type": "stream",
          "text": [
            "\rEpoch 1/3:   4%|▎         | 237/6515 [1:26:32<37:45:49, 21.65s/it]"
          ]
        },
        {
          "name": "stdout",
          "output_type": "stream",
          "text": [
            "Epoch 1/3 completed. Loss: 0.47821134328842163\n"
          ]
        },
        {
          "name": "stderr",
          "output_type": "stream",
          "text": [
            "\rEpoch 1/3:   4%|▎         | 238/6515 [1:26:53<37:33:41, 21.54s/it]"
          ]
        },
        {
          "name": "stdout",
          "output_type": "stream",
          "text": [
            "Epoch 1/3 completed. Loss: 0.8006619215011597\n"
          ]
        },
        {
          "name": "stderr",
          "output_type": "stream",
          "text": [
            "\rEpoch 1/3:   4%|▎         | 239/6515 [1:27:15<38:04:54, 21.84s/it]"
          ]
        },
        {
          "name": "stdout",
          "output_type": "stream",
          "text": [
            "Epoch 1/3 completed. Loss: 0.4783575236797333\n"
          ]
        },
        {
          "name": "stderr",
          "output_type": "stream",
          "text": [
            "\rEpoch 1/3:   4%|▎         | 240/6515 [1:27:36<37:37:00, 21.58s/it]"
          ]
        },
        {
          "name": "stdout",
          "output_type": "stream",
          "text": [
            "Epoch 1/3 completed. Loss: 0.3516443073749542\n"
          ]
        },
        {
          "name": "stderr",
          "output_type": "stream",
          "text": [
            "\rEpoch 1/3:   4%|▎         | 241/6515 [1:27:59<38:14:51, 21.95s/it]"
          ]
        },
        {
          "name": "stdout",
          "output_type": "stream",
          "text": [
            "Epoch 1/3 completed. Loss: 0.5467008352279663\n"
          ]
        },
        {
          "name": "stderr",
          "output_type": "stream",
          "text": [
            "\rEpoch 1/3:   4%|▎         | 242/6515 [1:28:20<37:51:21, 21.73s/it]"
          ]
        },
        {
          "name": "stdout",
          "output_type": "stream",
          "text": [
            "Epoch 1/3 completed. Loss: 0.8716626167297363\n"
          ]
        },
        {
          "name": "stderr",
          "output_type": "stream",
          "text": [
            "\rEpoch 1/3:   4%|▎         | 243/6515 [1:28:41<37:22:00, 21.45s/it]"
          ]
        },
        {
          "name": "stdout",
          "output_type": "stream",
          "text": [
            "Epoch 1/3 completed. Loss: 0.645766019821167\n"
          ]
        },
        {
          "name": "stderr",
          "output_type": "stream",
          "text": [
            "\rEpoch 1/3:   4%|▎         | 244/6515 [1:29:04<38:14:47, 21.96s/it]"
          ]
        },
        {
          "name": "stdout",
          "output_type": "stream",
          "text": [
            "Epoch 1/3 completed. Loss: 0.6992489695549011\n"
          ]
        },
        {
          "name": "stderr",
          "output_type": "stream",
          "text": [
            "\rEpoch 1/3:   4%|▍         | 245/6515 [1:29:25<37:42:23, 21.65s/it]"
          ]
        },
        {
          "name": "stdout",
          "output_type": "stream",
          "text": [
            "Epoch 1/3 completed. Loss: 0.5942800045013428\n"
          ]
        },
        {
          "name": "stderr",
          "output_type": "stream",
          "text": [
            "\rEpoch 1/3:   4%|▍         | 246/6515 [1:29:48<37:59:32, 21.82s/it]"
          ]
        },
        {
          "name": "stdout",
          "output_type": "stream",
          "text": [
            "Epoch 1/3 completed. Loss: 0.5955119729042053\n"
          ]
        },
        {
          "name": "stderr",
          "output_type": "stream",
          "text": [
            "\rEpoch 1/3:   4%|▍         | 247/6515 [1:30:09<37:52:34, 21.75s/it]"
          ]
        },
        {
          "name": "stdout",
          "output_type": "stream",
          "text": [
            "Epoch 1/3 completed. Loss: 0.6822503805160522\n"
          ]
        },
        {
          "name": "stderr",
          "output_type": "stream",
          "text": [
            "\rEpoch 1/3:   4%|▍         | 248/6515 [1:30:30<37:23:43, 21.48s/it]"
          ]
        },
        {
          "name": "stdout",
          "output_type": "stream",
          "text": [
            "Epoch 1/3 completed. Loss: 0.5011250376701355\n"
          ]
        },
        {
          "name": "stderr",
          "output_type": "stream",
          "text": [
            "\rEpoch 1/3:   4%|▍         | 249/6515 [1:30:53<38:17:44, 22.00s/it]"
          ]
        },
        {
          "name": "stdout",
          "output_type": "stream",
          "text": [
            "Epoch 1/3 completed. Loss: 0.4857523441314697\n"
          ]
        },
        {
          "name": "stderr",
          "output_type": "stream",
          "text": [
            "\rEpoch 1/3:   4%|▍         | 250/6515 [1:31:14<37:42:02, 21.66s/it]"
          ]
        },
        {
          "name": "stdout",
          "output_type": "stream",
          "text": [
            "Epoch 1/3 completed. Loss: 0.4974687397480011\n"
          ]
        },
        {
          "name": "stderr",
          "output_type": "stream",
          "text": [
            "\rEpoch 1/3:   4%|▍         | 251/6515 [1:31:35<37:28:02, 21.53s/it]"
          ]
        },
        {
          "name": "stdout",
          "output_type": "stream",
          "text": [
            "Epoch 1/3 completed. Loss: 0.4706140458583832\n"
          ]
        },
        {
          "name": "stderr",
          "output_type": "stream",
          "text": [
            "\rEpoch 1/3:   4%|▍         | 252/6515 [1:31:58<37:49:30, 21.74s/it]"
          ]
        },
        {
          "name": "stdout",
          "output_type": "stream",
          "text": [
            "Epoch 1/3 completed. Loss: 0.8014620542526245\n"
          ]
        },
        {
          "name": "stderr",
          "output_type": "stream",
          "text": [
            "\rEpoch 1/3:   4%|▍         | 253/6515 [1:32:19<37:24:35, 21.51s/it]"
          ]
        },
        {
          "name": "stdout",
          "output_type": "stream",
          "text": [
            "Epoch 1/3 completed. Loss: 0.4163144826889038\n"
          ]
        },
        {
          "name": "stderr",
          "output_type": "stream",
          "text": [
            "\rEpoch 1/3:   4%|▍         | 254/6515 [1:32:41<38:06:36, 21.91s/it]"
          ]
        },
        {
          "name": "stdout",
          "output_type": "stream",
          "text": [
            "Epoch 1/3 completed. Loss: 0.7211509943008423\n"
          ]
        },
        {
          "name": "stderr",
          "output_type": "stream",
          "text": [
            "\rEpoch 1/3:   4%|▍         | 255/6515 [1:33:08<40:28:40, 23.28s/it]"
          ]
        },
        {
          "name": "stdout",
          "output_type": "stream",
          "text": [
            "Epoch 1/3 completed. Loss: 0.438782274723053\n"
          ]
        },
        {
          "name": "stderr",
          "output_type": "stream",
          "text": [
            "\rEpoch 1/3:   4%|▍         | 256/6515 [1:33:36<43:00:37, 24.74s/it]"
          ]
        },
        {
          "name": "stdout",
          "output_type": "stream",
          "text": [
            "Epoch 1/3 completed. Loss: 0.5194423794746399\n"
          ]
        },
        {
          "name": "stderr",
          "output_type": "stream",
          "text": [
            "\rEpoch 1/3:   4%|▍         | 257/6515 [1:33:58<41:27:38, 23.85s/it]"
          ]
        },
        {
          "name": "stdout",
          "output_type": "stream",
          "text": [
            "Epoch 1/3 completed. Loss: 0.5403671860694885\n"
          ]
        },
        {
          "name": "stderr",
          "output_type": "stream",
          "text": [
            "\rEpoch 1/3:   4%|▍         | 258/6515 [1:34:20<40:26:38, 23.27s/it]"
          ]
        },
        {
          "name": "stdout",
          "output_type": "stream",
          "text": [
            "Epoch 1/3 completed. Loss: 0.8608328700065613\n"
          ]
        },
        {
          "name": "stderr",
          "output_type": "stream",
          "text": [
            "\rEpoch 1/3:   4%|▍         | 259/6515 [1:34:41<39:13:53, 22.58s/it]"
          ]
        },
        {
          "name": "stdout",
          "output_type": "stream",
          "text": [
            "Epoch 1/3 completed. Loss: 0.5342035293579102\n"
          ]
        },
        {
          "name": "stderr",
          "output_type": "stream",
          "text": [
            "\rEpoch 1/3:   4%|▍         | 260/6515 [1:35:04<39:32:24, 22.76s/it]"
          ]
        },
        {
          "name": "stdout",
          "output_type": "stream",
          "text": [
            "Epoch 1/3 completed. Loss: 0.6695153713226318\n"
          ]
        },
        {
          "name": "stderr",
          "output_type": "stream",
          "text": [
            "\rEpoch 1/3:   4%|▍         | 261/6515 [1:35:25<38:33:12, 22.19s/it]"
          ]
        },
        {
          "name": "stdout",
          "output_type": "stream",
          "text": [
            "Epoch 1/3 completed. Loss: 0.5755721926689148\n"
          ]
        },
        {
          "name": "stderr",
          "output_type": "stream",
          "text": [
            "\rEpoch 1/3:   4%|▍         | 262/6515 [1:35:46<37:55:37, 21.84s/it]"
          ]
        },
        {
          "name": "stdout",
          "output_type": "stream",
          "text": [
            "Epoch 1/3 completed. Loss: 0.8110591173171997\n"
          ]
        },
        {
          "name": "stderr",
          "output_type": "stream",
          "text": [
            "\rEpoch 1/3:   4%|▍         | 263/6515 [1:36:08<38:19:45, 22.07s/it]"
          ]
        },
        {
          "name": "stdout",
          "output_type": "stream",
          "text": [
            "Epoch 1/3 completed. Loss: 0.3409518003463745\n"
          ]
        },
        {
          "name": "stderr",
          "output_type": "stream",
          "text": [
            "\rEpoch 1/3:   4%|▍         | 264/6515 [1:36:29<37:39:41, 21.69s/it]"
          ]
        },
        {
          "name": "stdout",
          "output_type": "stream",
          "text": [
            "Epoch 1/3 completed. Loss: 0.7192014455795288\n"
          ]
        },
        {
          "name": "stderr",
          "output_type": "stream",
          "text": [
            "\rEpoch 1/3:   4%|▍         | 265/6515 [1:36:52<38:03:05, 21.92s/it]"
          ]
        },
        {
          "name": "stdout",
          "output_type": "stream",
          "text": [
            "Epoch 1/3 completed. Loss: 0.30558884143829346\n"
          ]
        },
        {
          "name": "stderr",
          "output_type": "stream",
          "text": [
            "\rEpoch 1/3:   4%|▍         | 266/6515 [1:37:13<37:49:20, 21.79s/it]"
          ]
        },
        {
          "name": "stdout",
          "output_type": "stream",
          "text": [
            "Epoch 1/3 completed. Loss: 0.3497454524040222\n"
          ]
        },
        {
          "name": "stderr",
          "output_type": "stream",
          "text": [
            "\rEpoch 1/3:   4%|▍         | 267/6515 [1:37:34<37:20:03, 21.51s/it]"
          ]
        },
        {
          "name": "stdout",
          "output_type": "stream",
          "text": [
            "Epoch 1/3 completed. Loss: 0.6181996464729309\n"
          ]
        },
        {
          "name": "stderr",
          "output_type": "stream",
          "text": [
            "\rEpoch 1/3:   4%|▍         | 268/6515 [1:37:57<38:08:59, 21.98s/it]"
          ]
        },
        {
          "name": "stdout",
          "output_type": "stream",
          "text": [
            "Epoch 1/3 completed. Loss: 0.630842387676239\n"
          ]
        },
        {
          "name": "stderr",
          "output_type": "stream",
          "text": [
            "\rEpoch 1/3:   4%|▍         | 269/6515 [1:38:18<37:31:48, 21.63s/it]"
          ]
        },
        {
          "name": "stdout",
          "output_type": "stream",
          "text": [
            "Epoch 1/3 completed. Loss: 0.46874889731407166\n"
          ]
        },
        {
          "name": "stderr",
          "output_type": "stream",
          "text": [
            "\rEpoch 1/3:   4%|▍         | 270/6515 [1:38:40<37:38:06, 21.70s/it]"
          ]
        },
        {
          "name": "stdout",
          "output_type": "stream",
          "text": [
            "Epoch 1/3 completed. Loss: 0.43715476989746094\n"
          ]
        },
        {
          "name": "stderr",
          "output_type": "stream",
          "text": [
            "\rEpoch 1/3:   4%|▍         | 271/6515 [1:39:02<37:46:52, 21.78s/it]"
          ]
        },
        {
          "name": "stdout",
          "output_type": "stream",
          "text": [
            "Epoch 1/3 completed. Loss: 0.8804665207862854\n"
          ]
        },
        {
          "name": "stderr",
          "output_type": "stream",
          "text": [
            "\rEpoch 1/3:   4%|▍         | 272/6515 [1:39:22<37:16:55, 21.50s/it]"
          ]
        },
        {
          "name": "stdout",
          "output_type": "stream",
          "text": [
            "Epoch 1/3 completed. Loss: 0.38693904876708984\n"
          ]
        },
        {
          "name": "stderr",
          "output_type": "stream",
          "text": [
            "\rEpoch 1/3:   4%|▍         | 273/6515 [1:39:45<38:03:34, 21.95s/it]"
          ]
        },
        {
          "name": "stdout",
          "output_type": "stream",
          "text": [
            "Epoch 1/3 completed. Loss: 0.2849820554256439\n"
          ]
        },
        {
          "name": "stderr",
          "output_type": "stream",
          "text": [
            "\rEpoch 1/3:   4%|▍         | 274/6515 [1:40:06<37:26:19, 21.60s/it]"
          ]
        },
        {
          "name": "stdout",
          "output_type": "stream",
          "text": [
            "Epoch 1/3 completed. Loss: 0.4097699224948883\n"
          ]
        },
        {
          "name": "stderr",
          "output_type": "stream",
          "text": [
            "\rEpoch 1/3:   4%|▍         | 275/6515 [1:40:27<37:09:28, 21.44s/it]"
          ]
        },
        {
          "name": "stdout",
          "output_type": "stream",
          "text": [
            "Epoch 1/3 completed. Loss: 0.5044620037078857\n"
          ]
        },
        {
          "name": "stderr",
          "output_type": "stream",
          "text": [
            "\rEpoch 1/3:   4%|▍         | 276/6515 [1:40:50<37:43:02, 21.76s/it]"
          ]
        },
        {
          "name": "stdout",
          "output_type": "stream",
          "text": [
            "Epoch 1/3 completed. Loss: 0.23296886682510376\n"
          ]
        },
        {
          "name": "stderr",
          "output_type": "stream",
          "text": [
            "\rEpoch 1/3:   4%|▍         | 277/6515 [1:41:11<37:14:35, 21.49s/it]"
          ]
        },
        {
          "name": "stdout",
          "output_type": "stream",
          "text": [
            "Epoch 1/3 completed. Loss: 0.43569323420524597\n"
          ]
        },
        {
          "name": "stderr",
          "output_type": "stream",
          "text": [
            "\rEpoch 1/3:   4%|▍         | 278/6515 [1:41:33<37:47:56, 21.82s/it]"
          ]
        },
        {
          "name": "stdout",
          "output_type": "stream",
          "text": [
            "Epoch 1/3 completed. Loss: 0.4203018546104431\n"
          ]
        },
        {
          "name": "stderr",
          "output_type": "stream",
          "text": [
            "\rEpoch 1/3:   4%|▍         | 279/6515 [1:41:54<37:18:40, 21.54s/it]"
          ]
        },
        {
          "name": "stdout",
          "output_type": "stream",
          "text": [
            "Epoch 1/3 completed. Loss: 0.4018697142601013\n"
          ]
        },
        {
          "name": "stderr",
          "output_type": "stream",
          "text": [
            "\rEpoch 1/3:   4%|▍         | 280/6515 [1:42:15<36:56:12, 21.33s/it]"
          ]
        },
        {
          "name": "stdout",
          "output_type": "stream",
          "text": [
            "Epoch 1/3 completed. Loss: 0.51360684633255\n"
          ]
        },
        {
          "name": "stderr",
          "output_type": "stream",
          "text": [
            "\rEpoch 1/3:   4%|▍         | 281/6515 [1:42:38<37:42:32, 21.78s/it]"
          ]
        },
        {
          "name": "stdout",
          "output_type": "stream",
          "text": [
            "Epoch 1/3 completed. Loss: 0.7688233256340027\n"
          ]
        },
        {
          "name": "stderr",
          "output_type": "stream",
          "text": [
            "\rEpoch 1/3:   4%|▍         | 282/6515 [1:42:59<37:15:44, 21.52s/it]"
          ]
        },
        {
          "name": "stdout",
          "output_type": "stream",
          "text": [
            "Epoch 1/3 completed. Loss: 0.33014151453971863\n"
          ]
        },
        {
          "name": "stderr",
          "output_type": "stream",
          "text": [
            "\rEpoch 1/3:   4%|▍         | 283/6515 [1:43:21<37:33:35, 21.70s/it]"
          ]
        },
        {
          "name": "stdout",
          "output_type": "stream",
          "text": [
            "Epoch 1/3 completed. Loss: 0.18268615007400513\n"
          ]
        },
        {
          "name": "stderr",
          "output_type": "stream",
          "text": [
            "\rEpoch 1/3:   4%|▍         | 284/6515 [1:43:42<37:23:25, 21.60s/it]"
          ]
        },
        {
          "name": "stdout",
          "output_type": "stream",
          "text": [
            "Epoch 1/3 completed. Loss: 0.767326831817627\n"
          ]
        },
        {
          "name": "stderr",
          "output_type": "stream",
          "text": [
            "\rEpoch 1/3:   4%|▍         | 285/6515 [1:44:03<36:54:52, 21.33s/it]"
          ]
        },
        {
          "name": "stdout",
          "output_type": "stream",
          "text": [
            "Epoch 1/3 completed. Loss: 0.4631458818912506\n"
          ]
        },
        {
          "name": "stderr",
          "output_type": "stream",
          "text": [
            "\rEpoch 1/3:   4%|▍         | 286/6515 [1:44:26<37:42:04, 21.79s/it]"
          ]
        },
        {
          "name": "stdout",
          "output_type": "stream",
          "text": [
            "Epoch 1/3 completed. Loss: 0.49641817808151245\n"
          ]
        },
        {
          "name": "stderr",
          "output_type": "stream",
          "text": [
            "\rEpoch 1/3:   4%|▍         | 287/6515 [1:44:47<37:10:44, 21.49s/it]"
          ]
        },
        {
          "name": "stdout",
          "output_type": "stream",
          "text": [
            "Epoch 1/3 completed. Loss: 0.4969610571861267\n"
          ]
        },
        {
          "name": "stderr",
          "output_type": "stream",
          "text": [
            "\rEpoch 1/3:   4%|▍         | 288/6515 [1:45:08<37:07:25, 21.46s/it]"
          ]
        },
        {
          "name": "stdout",
          "output_type": "stream",
          "text": [
            "Epoch 1/3 completed. Loss: 0.43024709820747375\n"
          ]
        },
        {
          "name": "stderr",
          "output_type": "stream",
          "text": [
            "\rEpoch 1/3:   4%|▍         | 289/6515 [1:45:30<37:30:20, 21.69s/it]"
          ]
        },
        {
          "name": "stdout",
          "output_type": "stream",
          "text": [
            "Epoch 1/3 completed. Loss: 0.7572004199028015\n"
          ]
        },
        {
          "name": "stderr",
          "output_type": "stream",
          "text": [
            "\rEpoch 1/3:   4%|▍         | 290/6515 [1:45:51<37:01:49, 21.42s/it]"
          ]
        },
        {
          "name": "stdout",
          "output_type": "stream",
          "text": [
            "Epoch 1/3 completed. Loss: 0.619177520275116\n"
          ]
        },
        {
          "name": "stderr",
          "output_type": "stream",
          "text": [
            "\rEpoch 1/3:   4%|▍         | 291/6515 [1:46:14<37:36:32, 21.75s/it]"
          ]
        },
        {
          "name": "stdout",
          "output_type": "stream",
          "text": [
            "Epoch 1/3 completed. Loss: 0.46836379170417786\n"
          ]
        },
        {
          "name": "stderr",
          "output_type": "stream",
          "text": [
            "\rEpoch 1/3:   4%|▍         | 292/6515 [1:46:35<37:20:47, 21.60s/it]"
          ]
        },
        {
          "name": "stdout",
          "output_type": "stream",
          "text": [
            "Epoch 1/3 completed. Loss: 0.5848714709281921\n"
          ]
        },
        {
          "name": "stderr",
          "output_type": "stream",
          "text": [
            "\rEpoch 1/3:   4%|▍         | 293/6515 [1:46:56<36:54:38, 21.36s/it]"
          ]
        },
        {
          "name": "stdout",
          "output_type": "stream",
          "text": [
            "Epoch 1/3 completed. Loss: 0.8647997975349426\n"
          ]
        },
        {
          "name": "stderr",
          "output_type": "stream",
          "text": [
            "\rEpoch 1/3:   5%|▍         | 294/6515 [1:47:19<37:47:31, 21.87s/it]"
          ]
        },
        {
          "name": "stdout",
          "output_type": "stream",
          "text": [
            "Epoch 1/3 completed. Loss: 0.7481465339660645\n"
          ]
        },
        {
          "name": "stderr",
          "output_type": "stream",
          "text": [
            "\rEpoch 1/3:   5%|▍         | 295/6515 [1:47:39<37:13:03, 21.54s/it]"
          ]
        },
        {
          "name": "stdout",
          "output_type": "stream",
          "text": [
            "Epoch 1/3 completed. Loss: 0.6228037476539612\n"
          ]
        },
        {
          "name": "stderr",
          "output_type": "stream",
          "text": [
            "\rEpoch 1/3:   5%|▍         | 296/6515 [1:48:01<37:13:50, 21.55s/it]"
          ]
        },
        {
          "name": "stdout",
          "output_type": "stream",
          "text": [
            "Epoch 1/3 completed. Loss: 0.6639078259468079\n"
          ]
        },
        {
          "name": "stderr",
          "output_type": "stream",
          "text": [
            "\rEpoch 1/3:   5%|▍         | 297/6515 [1:48:23<37:27:20, 21.69s/it]"
          ]
        },
        {
          "name": "stdout",
          "output_type": "stream",
          "text": [
            "Epoch 1/3 completed. Loss: 0.6450307965278625\n"
          ]
        },
        {
          "name": "stderr",
          "output_type": "stream",
          "text": [
            "\rEpoch 1/3:   5%|▍         | 298/6515 [1:48:44<37:01:48, 21.44s/it]"
          ]
        },
        {
          "name": "stdout",
          "output_type": "stream",
          "text": [
            "Epoch 1/3 completed. Loss: 0.7078894972801208\n"
          ]
        },
        {
          "name": "stderr",
          "output_type": "stream",
          "text": [
            "\rEpoch 1/3:   5%|▍         | 299/6515 [1:49:07<37:53:07, 21.94s/it]"
          ]
        },
        {
          "name": "stdout",
          "output_type": "stream",
          "text": [
            "Epoch 1/3 completed. Loss: 0.8565835356712341\n"
          ]
        },
        {
          "name": "stderr",
          "output_type": "stream",
          "text": [
            "\rEpoch 1/3:   5%|▍         | 300/6515 [1:49:28<37:16:44, 21.59s/it]"
          ]
        },
        {
          "name": "stdout",
          "output_type": "stream",
          "text": [
            "Epoch 1/3 completed. Loss: 0.7450042366981506\n"
          ]
        },
        {
          "name": "stderr",
          "output_type": "stream",
          "text": [
            "\rEpoch 1/3:   5%|▍         | 301/6515 [1:49:49<37:00:58, 21.44s/it]"
          ]
        },
        {
          "name": "stdout",
          "output_type": "stream",
          "text": [
            "Batch 300, Loss: 0.383377343416214\n",
            "Epoch 1/3 completed. Loss: 0.383377343416214\n"
          ]
        },
        {
          "name": "stderr",
          "output_type": "stream",
          "text": [
            "\rEpoch 1/3:   5%|▍         | 302/6515 [1:50:11<37:30:36, 21.73s/it]"
          ]
        },
        {
          "name": "stdout",
          "output_type": "stream",
          "text": [
            "Epoch 1/3 completed. Loss: 0.8141492605209351\n"
          ]
        },
        {
          "name": "stderr",
          "output_type": "stream",
          "text": [
            "\rEpoch 1/3:   5%|▍         | 303/6515 [1:50:32<36:59:28, 21.44s/it]"
          ]
        },
        {
          "name": "stdout",
          "output_type": "stream",
          "text": [
            "Epoch 1/3 completed. Loss: 0.6908743381500244\n"
          ]
        },
        {
          "name": "stderr",
          "output_type": "stream",
          "text": [
            "\rEpoch 1/3:   5%|▍         | 304/6515 [1:50:54<37:26:12, 21.70s/it]"
          ]
        },
        {
          "name": "stdout",
          "output_type": "stream",
          "text": [
            "Epoch 1/3 completed. Loss: 0.6103516221046448\n"
          ]
        },
        {
          "name": "stderr",
          "output_type": "stream",
          "text": [
            "\rEpoch 1/3:   5%|▍         | 305/6515 [1:51:16<37:16:32, 21.61s/it]"
          ]
        },
        {
          "name": "stdout",
          "output_type": "stream",
          "text": [
            "Epoch 1/3 completed. Loss: 0.8038570284843445\n"
          ]
        },
        {
          "name": "stderr",
          "output_type": "stream",
          "text": [
            "\rEpoch 1/3:   5%|▍         | 306/6515 [1:51:36<36:49:43, 21.35s/it]"
          ]
        },
        {
          "name": "stdout",
          "output_type": "stream",
          "text": [
            "Epoch 1/3 completed. Loss: 0.6290931105613708\n"
          ]
        },
        {
          "name": "stderr",
          "output_type": "stream",
          "text": [
            "\rEpoch 1/3:   5%|▍         | 307/6515 [1:51:59<37:41:04, 21.85s/it]"
          ]
        },
        {
          "name": "stdout",
          "output_type": "stream",
          "text": [
            "Epoch 1/3 completed. Loss: 0.5544032454490662\n"
          ]
        },
        {
          "name": "stderr",
          "output_type": "stream",
          "text": [
            "\rEpoch 1/3:   5%|▍         | 308/6515 [1:52:20<37:03:21, 21.49s/it]"
          ]
        },
        {
          "name": "stdout",
          "output_type": "stream",
          "text": [
            "Epoch 1/3 completed. Loss: 0.30398938059806824\n"
          ]
        },
        {
          "name": "stderr",
          "output_type": "stream",
          "text": [
            "\rEpoch 1/3:   5%|▍         | 309/6515 [1:52:42<37:18:48, 21.64s/it]"
          ]
        },
        {
          "name": "stdout",
          "output_type": "stream",
          "text": [
            "Epoch 1/3 completed. Loss: 0.7212156653404236\n"
          ]
        },
        {
          "name": "stderr",
          "output_type": "stream",
          "text": [
            "\rEpoch 1/3:   5%|▍         | 310/6515 [1:53:07<39:09:59, 22.72s/it]"
          ]
        },
        {
          "name": "stdout",
          "output_type": "stream",
          "text": [
            "Epoch 1/3 completed. Loss: 0.6520066261291504\n"
          ]
        },
        {
          "name": "stderr",
          "output_type": "stream",
          "text": [
            "\rEpoch 1/3:   5%|▍         | 311/6515 [1:53:29<38:40:43, 22.44s/it]"
          ]
        },
        {
          "name": "stdout",
          "output_type": "stream",
          "text": [
            "Epoch 1/3 completed. Loss: 0.6165336966514587\n"
          ]
        },
        {
          "name": "stderr",
          "output_type": "stream",
          "text": [
            "\rEpoch 1/3:   5%|▍         | 312/6515 [1:53:51<38:12:41, 22.18s/it]"
          ]
        },
        {
          "name": "stdout",
          "output_type": "stream",
          "text": [
            "Epoch 1/3 completed. Loss: 0.721966028213501\n"
          ]
        },
        {
          "name": "stderr",
          "output_type": "stream",
          "text": [
            "\rEpoch 1/3:   5%|▍         | 313/6515 [1:54:11<37:26:22, 21.73s/it]"
          ]
        },
        {
          "name": "stdout",
          "output_type": "stream",
          "text": [
            "Epoch 1/3 completed. Loss: 0.7995083332061768\n"
          ]
        },
        {
          "name": "stderr",
          "output_type": "stream",
          "text": [
            "\rEpoch 1/3:   5%|▍         | 314/6515 [1:54:34<37:56:11, 22.02s/it]"
          ]
        },
        {
          "name": "stdout",
          "output_type": "stream",
          "text": [
            "Epoch 1/3 completed. Loss: 0.654859721660614\n"
          ]
        },
        {
          "name": "stderr",
          "output_type": "stream",
          "text": [
            "\rEpoch 1/3:   5%|▍         | 315/6515 [1:54:55<37:17:36, 21.65s/it]"
          ]
        },
        {
          "name": "stdout",
          "output_type": "stream",
          "text": [
            "Epoch 1/3 completed. Loss: 0.41933003067970276\n"
          ]
        },
        {
          "name": "stderr",
          "output_type": "stream",
          "text": [
            "\rEpoch 1/3:   5%|▍         | 316/6515 [1:55:17<37:26:16, 21.74s/it]"
          ]
        },
        {
          "name": "stdout",
          "output_type": "stream",
          "text": [
            "Epoch 1/3 completed. Loss: 0.6465301513671875\n"
          ]
        },
        {
          "name": "stderr",
          "output_type": "stream",
          "text": [
            "\rEpoch 1/3:   5%|▍         | 317/6515 [1:55:38<37:14:48, 21.63s/it]"
          ]
        },
        {
          "name": "stdout",
          "output_type": "stream",
          "text": [
            "Epoch 1/3 completed. Loss: 0.5521314740180969\n"
          ]
        },
        {
          "name": "stderr",
          "output_type": "stream",
          "text": [
            "\rEpoch 1/3:   5%|▍         | 318/6515 [1:55:59<36:45:32, 21.35s/it]"
          ]
        },
        {
          "name": "stdout",
          "output_type": "stream",
          "text": [
            "Epoch 1/3 completed. Loss: 0.9001606106758118\n"
          ]
        },
        {
          "name": "stderr",
          "output_type": "stream",
          "text": [
            "\rEpoch 1/3:   5%|▍         | 319/6515 [1:56:22<37:29:35, 21.78s/it]"
          ]
        },
        {
          "name": "stdout",
          "output_type": "stream",
          "text": [
            "Epoch 1/3 completed. Loss: 0.36853039264678955\n"
          ]
        },
        {
          "name": "stderr",
          "output_type": "stream",
          "text": [
            "\rEpoch 1/3:   5%|▍         | 320/6515 [1:56:42<36:57:18, 21.48s/it]"
          ]
        },
        {
          "name": "stdout",
          "output_type": "stream",
          "text": [
            "Epoch 1/3 completed. Loss: 0.4332142472267151\n"
          ]
        },
        {
          "name": "stderr",
          "output_type": "stream",
          "text": [
            "\rEpoch 1/3:   5%|▍         | 321/6515 [1:57:04<37:12:29, 21.63s/it]"
          ]
        },
        {
          "name": "stdout",
          "output_type": "stream",
          "text": [
            "Epoch 1/3 completed. Loss: 0.44668567180633545\n"
          ]
        },
        {
          "name": "stderr",
          "output_type": "stream",
          "text": [
            "\rEpoch 1/3:   5%|▍         | 322/6515 [1:57:26<37:05:42, 21.56s/it]"
          ]
        },
        {
          "name": "stdout",
          "output_type": "stream",
          "text": [
            "Epoch 1/3 completed. Loss: 0.7041422724723816\n"
          ]
        },
        {
          "name": "stderr",
          "output_type": "stream",
          "text": [
            "\rEpoch 1/3:   5%|▍         | 323/6515 [1:57:47<36:39:32, 21.31s/it]"
          ]
        },
        {
          "name": "stdout",
          "output_type": "stream",
          "text": [
            "Epoch 1/3 completed. Loss: 0.671580970287323\n"
          ]
        },
        {
          "name": "stderr",
          "output_type": "stream",
          "text": [
            "\rEpoch 1/3:   5%|▍         | 324/6515 [1:58:09<37:26:57, 21.78s/it]"
          ]
        },
        {
          "name": "stdout",
          "output_type": "stream",
          "text": [
            "Epoch 1/3 completed. Loss: 0.9792348146438599\n"
          ]
        },
        {
          "name": "stderr",
          "output_type": "stream",
          "text": [
            "\rEpoch 1/3:   5%|▍         | 325/6515 [1:58:30<36:52:38, 21.45s/it]"
          ]
        },
        {
          "name": "stdout",
          "output_type": "stream",
          "text": [
            "Epoch 1/3 completed. Loss: 0.5345523953437805\n"
          ]
        },
        {
          "name": "stderr",
          "output_type": "stream",
          "text": [
            "\rEpoch 1/3:   5%|▌         | 326/6515 [1:58:52<37:06:27, 21.58s/it]"
          ]
        },
        {
          "name": "stdout",
          "output_type": "stream",
          "text": [
            "Epoch 1/3 completed. Loss: 0.8254601955413818\n"
          ]
        },
        {
          "name": "stderr",
          "output_type": "stream",
          "text": [
            "\rEpoch 1/3:   5%|▌         | 327/6515 [1:59:13<37:01:35, 21.54s/it]"
          ]
        },
        {
          "name": "stdout",
          "output_type": "stream",
          "text": [
            "Epoch 1/3 completed. Loss: 0.7733684182167053\n"
          ]
        },
        {
          "name": "stderr",
          "output_type": "stream",
          "text": [
            "\rEpoch 1/3:   5%|▌         | 328/6515 [1:59:34<36:31:20, 21.25s/it]"
          ]
        },
        {
          "name": "stdout",
          "output_type": "stream",
          "text": [
            "Epoch 1/3 completed. Loss: 0.5835710167884827\n"
          ]
        },
        {
          "name": "stderr",
          "output_type": "stream",
          "text": [
            "\rEpoch 1/3:   5%|▌         | 329/6515 [1:59:57<37:18:45, 21.71s/it]"
          ]
        },
        {
          "name": "stdout",
          "output_type": "stream",
          "text": [
            "Epoch 1/3 completed. Loss: 0.44695916771888733\n"
          ]
        },
        {
          "name": "stderr",
          "output_type": "stream",
          "text": [
            "\rEpoch 1/3:   5%|▌         | 330/6515 [2:00:17<36:43:42, 21.38s/it]"
          ]
        },
        {
          "name": "stdout",
          "output_type": "stream",
          "text": [
            "Epoch 1/3 completed. Loss: 0.3671213686466217\n"
          ]
        },
        {
          "name": "stderr",
          "output_type": "stream",
          "text": [
            "\rEpoch 1/3:   5%|▌         | 331/6515 [2:00:39<37:00:16, 21.54s/it]"
          ]
        },
        {
          "name": "stdout",
          "output_type": "stream",
          "text": [
            "Epoch 1/3 completed. Loss: 0.5391665101051331\n"
          ]
        },
        {
          "name": "stderr",
          "output_type": "stream",
          "text": [
            "\rEpoch 1/3:   5%|▌         | 332/6515 [2:01:01<36:52:41, 21.47s/it]"
          ]
        },
        {
          "name": "stdout",
          "output_type": "stream",
          "text": [
            "Epoch 1/3 completed. Loss: 0.7718892097473145\n"
          ]
        },
        {
          "name": "stderr",
          "output_type": "stream",
          "text": [
            "\rEpoch 1/3:   5%|▌         | 333/6515 [2:01:21<36:26:08, 21.22s/it]"
          ]
        },
        {
          "name": "stdout",
          "output_type": "stream",
          "text": [
            "Epoch 1/3 completed. Loss: 0.42959681153297424\n"
          ]
        },
        {
          "name": "stderr",
          "output_type": "stream",
          "text": [
            "\rEpoch 1/3:   5%|▌         | 334/6515 [2:01:44<37:13:34, 21.68s/it]"
          ]
        },
        {
          "name": "stdout",
          "output_type": "stream",
          "text": [
            "Epoch 1/3 completed. Loss: 0.5293524861335754\n"
          ]
        },
        {
          "name": "stderr",
          "output_type": "stream",
          "text": [
            "\rEpoch 1/3:   5%|▌         | 335/6515 [2:02:05<36:36:34, 21.33s/it]"
          ]
        },
        {
          "name": "stdout",
          "output_type": "stream",
          "text": [
            "Epoch 1/3 completed. Loss: 0.4595494866371155\n"
          ]
        },
        {
          "name": "stderr",
          "output_type": "stream",
          "text": [
            "\rEpoch 1/3:   5%|▌         | 336/6515 [2:02:26<36:51:10, 21.47s/it]"
          ]
        },
        {
          "name": "stdout",
          "output_type": "stream",
          "text": [
            "Epoch 1/3 completed. Loss: 0.5029891729354858\n"
          ]
        },
        {
          "name": "stderr",
          "output_type": "stream",
          "text": [
            "\rEpoch 1/3:   5%|▌         | 337/6515 [2:02:48<36:48:15, 21.45s/it]"
          ]
        },
        {
          "name": "stdout",
          "output_type": "stream",
          "text": [
            "Epoch 1/3 completed. Loss: 0.8455060720443726\n"
          ]
        },
        {
          "name": "stderr",
          "output_type": "stream",
          "text": [
            "\rEpoch 1/3:   5%|▌         | 338/6515 [2:03:08<36:23:21, 21.21s/it]"
          ]
        },
        {
          "name": "stdout",
          "output_type": "stream",
          "text": [
            "Epoch 1/3 completed. Loss: 0.40075981616973877\n"
          ]
        },
        {
          "name": "stderr",
          "output_type": "stream",
          "text": [
            "\rEpoch 1/3:   5%|▌         | 339/6515 [2:03:31<37:09:02, 21.66s/it]"
          ]
        },
        {
          "name": "stdout",
          "output_type": "stream",
          "text": [
            "Epoch 1/3 completed. Loss: 1.0291560888290405\n"
          ]
        },
        {
          "name": "stderr",
          "output_type": "stream",
          "text": [
            "\rEpoch 1/3:   5%|▌         | 340/6515 [2:03:52<36:39:53, 21.38s/it]"
          ]
        },
        {
          "name": "stdout",
          "output_type": "stream",
          "text": [
            "Epoch 1/3 completed. Loss: 0.6758484840393066\n"
          ]
        },
        {
          "name": "stderr",
          "output_type": "stream",
          "text": [
            "\rEpoch 1/3:   5%|▌         | 341/6515 [2:04:14<37:02:52, 21.60s/it]"
          ]
        },
        {
          "name": "stdout",
          "output_type": "stream",
          "text": [
            "Epoch 1/3 completed. Loss: 0.8750581741333008\n"
          ]
        },
        {
          "name": "stderr",
          "output_type": "stream",
          "text": [
            "\rEpoch 1/3:   5%|▌         | 342/6515 [2:04:35<36:51:28, 21.49s/it]"
          ]
        },
        {
          "name": "stdout",
          "output_type": "stream",
          "text": [
            "Epoch 1/3 completed. Loss: 0.6051601767539978\n"
          ]
        },
        {
          "name": "stderr",
          "output_type": "stream",
          "text": [
            "\rEpoch 1/3:   5%|▌         | 343/6515 [2:04:56<36:28:23, 21.27s/it]"
          ]
        },
        {
          "name": "stdout",
          "output_type": "stream",
          "text": [
            "Epoch 1/3 completed. Loss: 0.6930993795394897\n"
          ]
        },
        {
          "name": "stderr",
          "output_type": "stream",
          "text": [
            "\rEpoch 1/3:   5%|▌         | 344/6515 [2:05:19<37:17:54, 21.76s/it]"
          ]
        },
        {
          "name": "stdout",
          "output_type": "stream",
          "text": [
            "Epoch 1/3 completed. Loss: 0.4091995060443878\n"
          ]
        },
        {
          "name": "stderr",
          "output_type": "stream",
          "text": [
            "\rEpoch 1/3:   5%|▌         | 345/6515 [2:05:40<36:46:55, 21.46s/it]"
          ]
        },
        {
          "name": "stdout",
          "output_type": "stream",
          "text": [
            "Epoch 1/3 completed. Loss: 0.5281502604484558\n"
          ]
        },
        {
          "name": "stderr",
          "output_type": "stream",
          "text": [
            "\rEpoch 1/3:   5%|▌         | 346/6515 [2:06:02<37:06:49, 21.66s/it]"
          ]
        },
        {
          "name": "stdout",
          "output_type": "stream",
          "text": [
            "Epoch 1/3 completed. Loss: 0.5394139289855957\n"
          ]
        },
        {
          "name": "stderr",
          "output_type": "stream",
          "text": [
            "\rEpoch 1/3:   5%|▌         | 347/6515 [2:06:23<36:46:14, 21.46s/it]"
          ]
        },
        {
          "name": "stdout",
          "output_type": "stream",
          "text": [
            "Epoch 1/3 completed. Loss: 0.5744020938873291\n"
          ]
        },
        {
          "name": "stderr",
          "output_type": "stream",
          "text": [
            "\rEpoch 1/3:   5%|▌         | 348/6515 [2:06:43<36:20:56, 21.22s/it]"
          ]
        },
        {
          "name": "stdout",
          "output_type": "stream",
          "text": [
            "Epoch 1/3 completed. Loss: 0.395393967628479\n"
          ]
        },
        {
          "name": "stderr",
          "output_type": "stream",
          "text": [
            "\rEpoch 1/3:   5%|▌         | 349/6515 [2:07:06<37:10:51, 21.71s/it]"
          ]
        },
        {
          "name": "stdout",
          "output_type": "stream",
          "text": [
            "Epoch 1/3 completed. Loss: 0.7129987478256226\n"
          ]
        },
        {
          "name": "stderr",
          "output_type": "stream",
          "text": [
            "\rEpoch 1/3:   5%|▌         | 350/6515 [2:07:27<36:40:18, 21.41s/it]"
          ]
        },
        {
          "name": "stdout",
          "output_type": "stream",
          "text": [
            "Epoch 1/3 completed. Loss: 0.6132006049156189\n"
          ]
        },
        {
          "name": "stderr",
          "output_type": "stream",
          "text": [
            "\rEpoch 1/3:   5%|▌         | 351/6515 [2:07:49<37:10:23, 21.71s/it]"
          ]
        },
        {
          "name": "stdout",
          "output_type": "stream",
          "text": [
            "Epoch 1/3 completed. Loss: 0.63312166929245\n"
          ]
        },
        {
          "name": "stderr",
          "output_type": "stream",
          "text": [
            "\rEpoch 1/3:   5%|▌         | 352/6515 [2:08:10<36:44:33, 21.46s/it]"
          ]
        },
        {
          "name": "stdout",
          "output_type": "stream",
          "text": [
            "Epoch 1/3 completed. Loss: 0.5147560238838196\n"
          ]
        },
        {
          "name": "stderr",
          "output_type": "stream",
          "text": [
            "\rEpoch 1/3:   5%|▌         | 353/6515 [2:08:31<36:21:50, 21.24s/it]"
          ]
        },
        {
          "name": "stdout",
          "output_type": "stream",
          "text": [
            "Epoch 1/3 completed. Loss: 0.6372953653335571\n"
          ]
        },
        {
          "name": "stderr",
          "output_type": "stream",
          "text": [
            "\rEpoch 1/3:   5%|▌         | 354/6515 [2:08:54<37:04:35, 21.66s/it]"
          ]
        },
        {
          "name": "stdout",
          "output_type": "stream",
          "text": [
            "Epoch 1/3 completed. Loss: 0.5441174507141113\n"
          ]
        },
        {
          "name": "stderr",
          "output_type": "stream",
          "text": [
            "\rEpoch 1/3:   5%|▌         | 355/6515 [2:09:14<36:37:33, 21.40s/it]"
          ]
        },
        {
          "name": "stdout",
          "output_type": "stream",
          "text": [
            "Epoch 1/3 completed. Loss: 0.5833498239517212\n"
          ]
        },
        {
          "name": "stderr",
          "output_type": "stream",
          "text": [
            "\rEpoch 1/3:   5%|▌         | 356/6515 [2:09:37<37:12:15, 21.75s/it]"
          ]
        },
        {
          "name": "stdout",
          "output_type": "stream",
          "text": [
            "Epoch 1/3 completed. Loss: 0.6202360391616821\n"
          ]
        },
        {
          "name": "stderr",
          "output_type": "stream",
          "text": [
            "\rEpoch 1/3:   5%|▌         | 357/6515 [2:09:58<36:42:44, 21.46s/it]"
          ]
        },
        {
          "name": "stdout",
          "output_type": "stream",
          "text": [
            "Epoch 1/3 completed. Loss: 0.5305197238922119\n"
          ]
        },
        {
          "name": "stderr",
          "output_type": "stream",
          "text": [
            "\rEpoch 1/3:   5%|▌         | 358/6515 [2:10:18<36:15:55, 21.20s/it]"
          ]
        },
        {
          "name": "stdout",
          "output_type": "stream",
          "text": [
            "Epoch 1/3 completed. Loss: 0.5621384978294373\n"
          ]
        },
        {
          "name": "stderr",
          "output_type": "stream",
          "text": [
            "\rEpoch 1/3:   6%|▌         | 359/6515 [2:10:41<37:03:24, 21.67s/it]"
          ]
        },
        {
          "name": "stdout",
          "output_type": "stream",
          "text": [
            "Epoch 1/3 completed. Loss: 0.6049675941467285\n"
          ]
        },
        {
          "name": "stderr",
          "output_type": "stream",
          "text": [
            "\rEpoch 1/3:   6%|▌         | 360/6515 [2:11:02<36:34:37, 21.39s/it]"
          ]
        },
        {
          "name": "stdout",
          "output_type": "stream",
          "text": [
            "Epoch 1/3 completed. Loss: 0.5572478175163269\n"
          ]
        },
        {
          "name": "stderr",
          "output_type": "stream",
          "text": [
            "\rEpoch 1/3:   6%|▌         | 361/6515 [2:11:24<37:10:37, 21.75s/it]"
          ]
        },
        {
          "name": "stdout",
          "output_type": "stream",
          "text": [
            "Epoch 1/3 completed. Loss: 0.3892214596271515\n"
          ]
        },
        {
          "name": "stderr",
          "output_type": "stream",
          "text": [
            "\rEpoch 1/3:   6%|▌         | 362/6515 [2:11:45<36:39:26, 21.45s/it]"
          ]
        },
        {
          "name": "stdout",
          "output_type": "stream",
          "text": [
            "Epoch 1/3 completed. Loss: 0.364164263010025\n"
          ]
        },
        {
          "name": "stderr",
          "output_type": "stream",
          "text": [
            "\rEpoch 1/3:   6%|▌         | 363/6515 [2:12:06<36:22:03, 21.28s/it]"
          ]
        },
        {
          "name": "stdout",
          "output_type": "stream",
          "text": [
            "Epoch 1/3 completed. Loss: 0.38522469997406006\n"
          ]
        },
        {
          "name": "stderr",
          "output_type": "stream",
          "text": [
            "\rEpoch 1/3:   6%|▌         | 364/6515 [2:12:28<36:55:06, 21.61s/it]"
          ]
        },
        {
          "name": "stdout",
          "output_type": "stream",
          "text": [
            "Epoch 1/3 completed. Loss: 0.631727933883667\n"
          ]
        },
        {
          "name": "stderr",
          "output_type": "stream",
          "text": [
            "\rEpoch 1/3:   6%|▌         | 365/6515 [2:12:49<36:29:24, 21.36s/it]"
          ]
        },
        {
          "name": "stdout",
          "output_type": "stream",
          "text": [
            "Epoch 1/3 completed. Loss: 0.4331952929496765\n"
          ]
        },
        {
          "name": "stderr",
          "output_type": "stream",
          "text": [
            "\rEpoch 1/3:   6%|▌         | 366/6515 [2:13:12<37:14:25, 21.80s/it]"
          ]
        },
        {
          "name": "stdout",
          "output_type": "stream",
          "text": [
            "Epoch 1/3 completed. Loss: 0.3584554195404053\n"
          ]
        },
        {
          "name": "stderr",
          "output_type": "stream",
          "text": [
            "\rEpoch 1/3:   6%|▌         | 367/6515 [2:13:33<36:38:55, 21.46s/it]"
          ]
        },
        {
          "name": "stdout",
          "output_type": "stream",
          "text": [
            "Epoch 1/3 completed. Loss: 0.3765498399734497\n"
          ]
        },
        {
          "name": "stderr",
          "output_type": "stream",
          "text": [
            "\rEpoch 1/3:   6%|▌         | 368/6515 [2:13:54<36:19:56, 21.28s/it]"
          ]
        },
        {
          "name": "stdout",
          "output_type": "stream",
          "text": [
            "Epoch 1/3 completed. Loss: 0.4632023274898529\n"
          ]
        },
        {
          "name": "stderr",
          "output_type": "stream",
          "text": [
            "\rEpoch 1/3:   6%|▌         | 369/6515 [2:14:16<36:54:34, 21.62s/it]"
          ]
        },
        {
          "name": "stdout",
          "output_type": "stream",
          "text": [
            "Epoch 1/3 completed. Loss: 0.5957115888595581\n"
          ]
        },
        {
          "name": "stderr",
          "output_type": "stream",
          "text": [
            "\rEpoch 1/3:   6%|▌         | 370/6515 [2:14:37<36:24:30, 21.33s/it]"
          ]
        },
        {
          "name": "stdout",
          "output_type": "stream",
          "text": [
            "Epoch 1/3 completed. Loss: 0.7676570415496826\n"
          ]
        },
        {
          "name": "stderr",
          "output_type": "stream",
          "text": [
            "\rEpoch 1/3:   6%|▌         | 371/6515 [2:14:59<36:59:33, 21.68s/it]"
          ]
        },
        {
          "name": "stdout",
          "output_type": "stream",
          "text": [
            "Epoch 1/3 completed. Loss: 0.4317982792854309\n"
          ]
        },
        {
          "name": "stderr",
          "output_type": "stream",
          "text": [
            "\rEpoch 1/3:   6%|▌         | 372/6515 [2:15:20<36:31:29, 21.40s/it]"
          ]
        },
        {
          "name": "stdout",
          "output_type": "stream",
          "text": [
            "Epoch 1/3 completed. Loss: 0.7224943041801453\n"
          ]
        },
        {
          "name": "stderr",
          "output_type": "stream",
          "text": [
            "\rEpoch 1/3:   6%|▌         | 373/6515 [2:15:41<36:22:40, 21.32s/it]"
          ]
        },
        {
          "name": "stdout",
          "output_type": "stream",
          "text": [
            "Epoch 1/3 completed. Loss: 0.7315474152565002\n"
          ]
        },
        {
          "name": "stderr",
          "output_type": "stream",
          "text": [
            "\rEpoch 1/3:   6%|▌         | 374/6515 [2:16:03<36:53:10, 21.62s/it]"
          ]
        },
        {
          "name": "stdout",
          "output_type": "stream",
          "text": [
            "Epoch 1/3 completed. Loss: 0.5848118662834167\n"
          ]
        },
        {
          "name": "stderr",
          "output_type": "stream",
          "text": [
            "\rEpoch 1/3:   6%|▌         | 375/6515 [2:16:24<36:25:41, 21.36s/it]"
          ]
        },
        {
          "name": "stdout",
          "output_type": "stream",
          "text": [
            "Epoch 1/3 completed. Loss: 0.38649335503578186\n"
          ]
        },
        {
          "name": "stderr",
          "output_type": "stream",
          "text": [
            "\rEpoch 1/3:   6%|▌         | 376/6515 [2:16:47<37:11:43, 21.81s/it]"
          ]
        },
        {
          "name": "stdout",
          "output_type": "stream",
          "text": [
            "Epoch 1/3 completed. Loss: 1.0518685579299927\n"
          ]
        },
        {
          "name": "stderr",
          "output_type": "stream",
          "text": [
            "\rEpoch 1/3:   6%|▌         | 377/6515 [2:17:08<36:38:12, 21.49s/it]"
          ]
        },
        {
          "name": "stdout",
          "output_type": "stream",
          "text": [
            "Epoch 1/3 completed. Loss: 0.86733078956604\n"
          ]
        },
        {
          "name": "stderr",
          "output_type": "stream",
          "text": [
            "\rEpoch 1/3:   6%|▌         | 378/6515 [2:17:29<36:32:01, 21.43s/it]"
          ]
        },
        {
          "name": "stdout",
          "output_type": "stream",
          "text": [
            "Epoch 1/3 completed. Loss: 0.7717773914337158\n"
          ]
        },
        {
          "name": "stderr",
          "output_type": "stream",
          "text": [
            "\rEpoch 1/3:   6%|▌         | 379/6515 [2:17:51<36:52:11, 21.63s/it]"
          ]
        },
        {
          "name": "stdout",
          "output_type": "stream",
          "text": [
            "Epoch 1/3 completed. Loss: 0.22040630877017975\n"
          ]
        },
        {
          "name": "stderr",
          "output_type": "stream",
          "text": [
            "\rEpoch 1/3:   6%|▌         | 380/6515 [2:18:12<36:21:58, 21.34s/it]"
          ]
        },
        {
          "name": "stdout",
          "output_type": "stream",
          "text": [
            "Epoch 1/3 completed. Loss: 0.5068638324737549\n"
          ]
        },
        {
          "name": "stderr",
          "output_type": "stream",
          "text": [
            "\rEpoch 1/3:   6%|▌         | 381/6515 [2:18:34<37:03:19, 21.75s/it]"
          ]
        },
        {
          "name": "stdout",
          "output_type": "stream",
          "text": [
            "Epoch 1/3 completed. Loss: 0.362297385931015\n"
          ]
        },
        {
          "name": "stderr",
          "output_type": "stream",
          "text": [
            "\rEpoch 1/3:   6%|▌         | 382/6515 [2:18:55<36:28:48, 21.41s/it]"
          ]
        },
        {
          "name": "stdout",
          "output_type": "stream",
          "text": [
            "Epoch 1/3 completed. Loss: 0.6700140833854675\n"
          ]
        },
        {
          "name": "stderr",
          "output_type": "stream",
          "text": [
            "\rEpoch 1/3:   6%|▌         | 383/6515 [2:19:17<36:31:44, 21.45s/it]"
          ]
        },
        {
          "name": "stdout",
          "output_type": "stream",
          "text": [
            "Epoch 1/3 completed. Loss: 0.6901420950889587\n"
          ]
        },
        {
          "name": "stderr",
          "output_type": "stream",
          "text": [
            "\rEpoch 1/3:   6%|▌         | 384/6515 [2:19:39<36:56:05, 21.69s/it]"
          ]
        },
        {
          "name": "stdout",
          "output_type": "stream",
          "text": [
            "Epoch 1/3 completed. Loss: 0.7458276152610779\n"
          ]
        },
        {
          "name": "stderr",
          "output_type": "stream",
          "text": [
            "\rEpoch 1/3:   6%|▌         | 385/6515 [2:19:59<36:20:33, 21.34s/it]"
          ]
        },
        {
          "name": "stdout",
          "output_type": "stream",
          "text": [
            "Epoch 1/3 completed. Loss: 0.44148969650268555\n"
          ]
        },
        {
          "name": "stderr",
          "output_type": "stream",
          "text": [
            "\rEpoch 1/3:   6%|▌         | 386/6515 [2:20:22<36:57:20, 21.71s/it]"
          ]
        },
        {
          "name": "stdout",
          "output_type": "stream",
          "text": [
            "Epoch 1/3 completed. Loss: 0.6494929790496826\n"
          ]
        },
        {
          "name": "stderr",
          "output_type": "stream",
          "text": [
            "\rEpoch 1/3:   6%|▌         | 387/6515 [2:20:43<36:24:09, 21.39s/it]"
          ]
        },
        {
          "name": "stdout",
          "output_type": "stream",
          "text": [
            "Epoch 1/3 completed. Loss: 0.4312222898006439\n"
          ]
        },
        {
          "name": "stderr",
          "output_type": "stream",
          "text": [
            "\rEpoch 1/3:   6%|▌         | 388/6515 [2:21:04<36:35:37, 21.50s/it]"
          ]
        },
        {
          "name": "stdout",
          "output_type": "stream",
          "text": [
            "Epoch 1/3 completed. Loss: 0.4281136691570282\n"
          ]
        },
        {
          "name": "stderr",
          "output_type": "stream",
          "text": [
            "\rEpoch 1/3:   6%|▌         | 389/6515 [2:21:26<36:36:58, 21.52s/it]"
          ]
        },
        {
          "name": "stdout",
          "output_type": "stream",
          "text": [
            "Epoch 1/3 completed. Loss: 0.41845184564590454\n"
          ]
        },
        {
          "name": "stderr",
          "output_type": "stream",
          "text": [
            "\rEpoch 1/3:   6%|▌         | 390/6515 [2:21:47<36:10:33, 21.26s/it]"
          ]
        },
        {
          "name": "stdout",
          "output_type": "stream",
          "text": [
            "Epoch 1/3 completed. Loss: 0.3449685871601105\n"
          ]
        },
        {
          "name": "stderr",
          "output_type": "stream",
          "text": [
            "\rEpoch 1/3:   6%|▌         | 391/6515 [2:22:09<36:53:41, 21.69s/it]"
          ]
        },
        {
          "name": "stdout",
          "output_type": "stream",
          "text": [
            "Epoch 1/3 completed. Loss: 0.3786773383617401\n"
          ]
        },
        {
          "name": "stderr",
          "output_type": "stream",
          "text": [
            "\rEpoch 1/3:   6%|▌         | 392/6515 [2:22:30<36:17:53, 21.34s/it]"
          ]
        },
        {
          "name": "stdout",
          "output_type": "stream",
          "text": [
            "Epoch 1/3 completed. Loss: 0.32721737027168274\n"
          ]
        },
        {
          "name": "stderr",
          "output_type": "stream",
          "text": [
            "\rEpoch 1/3:   6%|▌         | 393/6515 [2:22:52<36:36:53, 21.53s/it]"
          ]
        },
        {
          "name": "stdout",
          "output_type": "stream",
          "text": [
            "Epoch 1/3 completed. Loss: 0.38913530111312866\n"
          ]
        },
        {
          "name": "stderr",
          "output_type": "stream",
          "text": [
            "\rEpoch 1/3:   6%|▌         | 394/6515 [2:23:13<36:29:50, 21.47s/it]"
          ]
        },
        {
          "name": "stdout",
          "output_type": "stream",
          "text": [
            "Epoch 1/3 completed. Loss: 0.10503298044204712\n"
          ]
        },
        {
          "name": "stderr",
          "output_type": "stream",
          "text": [
            "\rEpoch 1/3:   6%|▌         | 395/6515 [2:23:34<36:06:49, 21.24s/it]"
          ]
        },
        {
          "name": "stdout",
          "output_type": "stream",
          "text": [
            "Epoch 1/3 completed. Loss: 0.24886438250541687\n"
          ]
        },
        {
          "name": "stderr",
          "output_type": "stream",
          "text": [
            "\rEpoch 1/3:   6%|▌         | 396/6515 [2:23:57<36:56:00, 21.73s/it]"
          ]
        },
        {
          "name": "stdout",
          "output_type": "stream",
          "text": [
            "Epoch 1/3 completed. Loss: 0.6245598196983337\n"
          ]
        },
        {
          "name": "stderr",
          "output_type": "stream",
          "text": [
            "\rEpoch 1/3:   6%|▌         | 397/6515 [2:24:17<36:26:47, 21.45s/it]"
          ]
        },
        {
          "name": "stdout",
          "output_type": "stream",
          "text": [
            "Epoch 1/3 completed. Loss: 0.5568105578422546\n"
          ]
        },
        {
          "name": "stderr",
          "output_type": "stream",
          "text": [
            "\rEpoch 1/3:   6%|▌         | 398/6515 [2:24:40<36:55:23, 21.73s/it]"
          ]
        },
        {
          "name": "stdout",
          "output_type": "stream",
          "text": [
            "Epoch 1/3 completed. Loss: 0.5895810723304749\n"
          ]
        },
        {
          "name": "stderr",
          "output_type": "stream",
          "text": [
            "\rEpoch 1/3:   6%|▌         | 399/6515 [2:25:01<36:41:36, 21.60s/it]"
          ]
        },
        {
          "name": "stdout",
          "output_type": "stream",
          "text": [
            "Epoch 1/3 completed. Loss: 0.3783549964427948\n"
          ]
        },
        {
          "name": "stderr",
          "output_type": "stream",
          "text": [
            "\rEpoch 1/3:   6%|▌         | 400/6515 [2:25:22<36:24:16, 21.43s/it]"
          ]
        },
        {
          "name": "stdout",
          "output_type": "stream",
          "text": [
            "Epoch 1/3 completed. Loss: 0.5975696444511414\n"
          ]
        },
        {
          "name": "stderr",
          "output_type": "stream",
          "text": [
            "\rEpoch 1/3:   6%|▌         | 401/6515 [2:25:45<37:05:30, 21.84s/it]"
          ]
        },
        {
          "name": "stdout",
          "output_type": "stream",
          "text": [
            "Batch 400, Loss: 0.23928551375865936\n",
            "Epoch 1/3 completed. Loss: 0.23928551375865936\n"
          ]
        },
        {
          "name": "stderr",
          "output_type": "stream",
          "text": [
            "\rEpoch 1/3:   6%|▌         | 402/6515 [2:26:06<36:39:00, 21.58s/it]"
          ]
        },
        {
          "name": "stdout",
          "output_type": "stream",
          "text": [
            "Epoch 1/3 completed. Loss: 0.7239009141921997\n"
          ]
        },
        {
          "name": "stderr",
          "output_type": "stream",
          "text": [
            "\rEpoch 1/3:   6%|▌         | 403/6515 [2:26:29<37:24:31, 22.03s/it]"
          ]
        },
        {
          "name": "stdout",
          "output_type": "stream",
          "text": [
            "Epoch 1/3 completed. Loss: 0.9051907062530518\n"
          ]
        },
        {
          "name": "stderr",
          "output_type": "stream",
          "text": [
            "\rEpoch 1/3:   6%|▌         | 404/6515 [2:26:50<36:51:44, 21.72s/it]"
          ]
        },
        {
          "name": "stdout",
          "output_type": "stream",
          "text": [
            "Epoch 1/3 completed. Loss: 0.961373507976532\n"
          ]
        },
        {
          "name": "stderr",
          "output_type": "stream",
          "text": [
            "\rEpoch 1/3:   6%|▌         | 405/6515 [2:27:12<36:48:00, 21.68s/it]"
          ]
        },
        {
          "name": "stdout",
          "output_type": "stream",
          "text": [
            "Epoch 1/3 completed. Loss: 0.6217362880706787\n"
          ]
        },
        {
          "name": "stderr",
          "output_type": "stream",
          "text": [
            "\rEpoch 1/3:   6%|▌         | 406/6515 [2:27:34<36:52:53, 21.73s/it]"
          ]
        },
        {
          "name": "stdout",
          "output_type": "stream",
          "text": [
            "Epoch 1/3 completed. Loss: 0.8563264012336731\n"
          ]
        },
        {
          "name": "stderr",
          "output_type": "stream",
          "text": [
            "\rEpoch 1/3:   6%|▌         | 407/6515 [2:27:54<36:25:37, 21.47s/it]"
          ]
        },
        {
          "name": "stdout",
          "output_type": "stream",
          "text": [
            "Epoch 1/3 completed. Loss: 0.4041995108127594\n"
          ]
        },
        {
          "name": "stderr",
          "output_type": "stream",
          "text": [
            "\rEpoch 1/3:   6%|▋         | 408/6515 [2:28:17<37:10:35, 21.92s/it]"
          ]
        },
        {
          "name": "stdout",
          "output_type": "stream",
          "text": [
            "Epoch 1/3 completed. Loss: 0.498575359582901\n"
          ]
        },
        {
          "name": "stderr",
          "output_type": "stream",
          "text": [
            "\rEpoch 1/3:   6%|▋         | 409/6515 [2:28:38<36:35:04, 21.57s/it]"
          ]
        },
        {
          "name": "stdout",
          "output_type": "stream",
          "text": [
            "Epoch 1/3 completed. Loss: 1.118355631828308\n"
          ]
        },
        {
          "name": "stderr",
          "output_type": "stream",
          "text": [
            "\rEpoch 1/3:   6%|▋         | 410/6515 [2:29:00<36:57:34, 21.79s/it]"
          ]
        },
        {
          "name": "stdout",
          "output_type": "stream",
          "text": [
            "Epoch 1/3 completed. Loss: 0.5237822532653809\n"
          ]
        },
        {
          "name": "stderr",
          "output_type": "stream",
          "text": [
            "\rEpoch 1/3:   6%|▋         | 411/6515 [2:29:22<36:38:38, 21.61s/it]"
          ]
        },
        {
          "name": "stdout",
          "output_type": "stream",
          "text": [
            "Epoch 1/3 completed. Loss: 0.3926612436771393\n"
          ]
        },
        {
          "name": "stderr",
          "output_type": "stream",
          "text": [
            "\rEpoch 1/3:   6%|▋         | 412/6515 [2:29:42<36:11:04, 21.34s/it]"
          ]
        },
        {
          "name": "stdout",
          "output_type": "stream",
          "text": [
            "Epoch 1/3 completed. Loss: 0.3900102972984314\n"
          ]
        },
        {
          "name": "stderr",
          "output_type": "stream",
          "text": [
            "\rEpoch 1/3:   6%|▋         | 413/6515 [2:30:06<37:19:25, 22.02s/it]"
          ]
        },
        {
          "name": "stdout",
          "output_type": "stream",
          "text": [
            "Epoch 1/3 completed. Loss: 0.32024842500686646\n"
          ]
        },
        {
          "name": "stderr",
          "output_type": "stream",
          "text": [
            "\rEpoch 1/3:   6%|▋         | 414/6515 [2:30:27<37:04:39, 21.88s/it]"
          ]
        },
        {
          "name": "stdout",
          "output_type": "stream",
          "text": [
            "Epoch 1/3 completed. Loss: 0.9829297661781311\n"
          ]
        },
        {
          "name": "stderr",
          "output_type": "stream",
          "text": [
            "\rEpoch 1/3:   6%|▋         | 415/6515 [2:30:50<37:35:06, 22.18s/it]"
          ]
        },
        {
          "name": "stdout",
          "output_type": "stream",
          "text": [
            "Epoch 1/3 completed. Loss: 0.4997377097606659\n"
          ]
        },
        {
          "name": "stderr",
          "output_type": "stream",
          "text": [
            "\rEpoch 1/3:   6%|▋         | 416/6515 [2:31:11<36:51:32, 21.76s/it]"
          ]
        },
        {
          "name": "stdout",
          "output_type": "stream",
          "text": [
            "Epoch 1/3 completed. Loss: 0.634792149066925\n"
          ]
        },
        {
          "name": "stderr",
          "output_type": "stream",
          "text": [
            "\rEpoch 1/3:   6%|▋         | 417/6515 [2:31:33<36:46:25, 21.71s/it]"
          ]
        },
        {
          "name": "stdout",
          "output_type": "stream",
          "text": [
            "Epoch 1/3 completed. Loss: 0.46376699209213257\n"
          ]
        },
        {
          "name": "stderr",
          "output_type": "stream",
          "text": [
            "\rEpoch 1/3:   6%|▋         | 418/6515 [2:31:55<36:51:57, 21.77s/it]"
          ]
        },
        {
          "name": "stdout",
          "output_type": "stream",
          "text": [
            "Epoch 1/3 completed. Loss: 0.9294896721839905\n"
          ]
        },
        {
          "name": "stderr",
          "output_type": "stream",
          "text": [
            "\rEpoch 1/3:   6%|▋         | 419/6515 [2:32:15<36:20:17, 21.46s/it]"
          ]
        },
        {
          "name": "stdout",
          "output_type": "stream",
          "text": [
            "Epoch 1/3 completed. Loss: 0.5190365314483643\n"
          ]
        },
        {
          "name": "stderr",
          "output_type": "stream",
          "text": [
            "\rEpoch 1/3:   6%|▋         | 420/6515 [2:32:38<37:01:15, 21.87s/it]"
          ]
        },
        {
          "name": "stdout",
          "output_type": "stream",
          "text": [
            "Epoch 1/3 completed. Loss: 0.4630186855792999\n"
          ]
        },
        {
          "name": "stderr",
          "output_type": "stream",
          "text": [
            "\rEpoch 1/3:   6%|▋         | 421/6515 [2:32:59<36:29:57, 21.56s/it]"
          ]
        },
        {
          "name": "stdout",
          "output_type": "stream",
          "text": [
            "Epoch 1/3 completed. Loss: 0.5272253155708313\n"
          ]
        },
        {
          "name": "stderr",
          "output_type": "stream",
          "text": [
            "\rEpoch 1/3:   6%|▋         | 422/6515 [2:33:21<36:43:02, 21.69s/it]"
          ]
        },
        {
          "name": "stdout",
          "output_type": "stream",
          "text": [
            "Epoch 1/3 completed. Loss: 0.524608850479126\n"
          ]
        },
        {
          "name": "stderr",
          "output_type": "stream",
          "text": [
            "\rEpoch 1/3:   6%|▋         | 423/6515 [2:33:43<36:37:32, 21.64s/it]"
          ]
        },
        {
          "name": "stdout",
          "output_type": "stream",
          "text": [
            "Epoch 1/3 completed. Loss: 0.6827487945556641\n"
          ]
        },
        {
          "name": "stderr",
          "output_type": "stream",
          "text": [
            "\rEpoch 1/3:   7%|▋         | 424/6515 [2:34:03<36:09:01, 21.37s/it]"
          ]
        },
        {
          "name": "stdout",
          "output_type": "stream",
          "text": [
            "Epoch 1/3 completed. Loss: 0.7385607957839966\n"
          ]
        },
        {
          "name": "stderr",
          "output_type": "stream",
          "text": [
            "\rEpoch 1/3:   7%|▋         | 425/6515 [2:34:26<36:50:03, 21.77s/it]"
          ]
        },
        {
          "name": "stdout",
          "output_type": "stream",
          "text": [
            "Epoch 1/3 completed. Loss: 0.4423326551914215\n"
          ]
        },
        {
          "name": "stderr",
          "output_type": "stream",
          "text": [
            "\rEpoch 1/3:   7%|▋         | 426/6515 [2:34:47<36:18:37, 21.47s/it]"
          ]
        },
        {
          "name": "stdout",
          "output_type": "stream",
          "text": [
            "Epoch 1/3 completed. Loss: 0.4172299802303314\n"
          ]
        },
        {
          "name": "stderr",
          "output_type": "stream",
          "text": [
            "\rEpoch 1/3:   7%|▋         | 427/6515 [2:35:09<36:32:31, 21.61s/it]"
          ]
        },
        {
          "name": "stdout",
          "output_type": "stream",
          "text": [
            "Epoch 1/3 completed. Loss: 0.31846705079078674\n"
          ]
        },
        {
          "name": "stderr",
          "output_type": "stream",
          "text": [
            "\rEpoch 1/3:   7%|▋         | 428/6515 [2:35:30<36:29:34, 21.58s/it]"
          ]
        },
        {
          "name": "stdout",
          "output_type": "stream",
          "text": [
            "Epoch 1/3 completed. Loss: 0.41930466890335083\n"
          ]
        },
        {
          "name": "stderr",
          "output_type": "stream",
          "text": [
            "\rEpoch 1/3:   7%|▋         | 429/6515 [2:35:51<36:05:16, 21.35s/it]"
          ]
        },
        {
          "name": "stdout",
          "output_type": "stream",
          "text": [
            "Epoch 1/3 completed. Loss: 0.30554550886154175\n"
          ]
        },
        {
          "name": "stderr",
          "output_type": "stream",
          "text": [
            "\rEpoch 1/3:   7%|▋         | 430/6515 [2:36:14<36:47:14, 21.76s/it]"
          ]
        },
        {
          "name": "stdout",
          "output_type": "stream",
          "text": [
            "Epoch 1/3 completed. Loss: 0.5742537379264832\n"
          ]
        },
        {
          "name": "stderr",
          "output_type": "stream",
          "text": [
            "\rEpoch 1/3:   7%|▋         | 431/6515 [2:36:34<36:14:46, 21.45s/it]"
          ]
        },
        {
          "name": "stdout",
          "output_type": "stream",
          "text": [
            "Epoch 1/3 completed. Loss: 0.34676963090896606\n"
          ]
        },
        {
          "name": "stderr",
          "output_type": "stream",
          "text": [
            "\rEpoch 1/3:   7%|▋         | 432/6515 [2:36:56<36:17:01, 21.47s/it]"
          ]
        },
        {
          "name": "stdout",
          "output_type": "stream",
          "text": [
            "Epoch 1/3 completed. Loss: 0.1416853815317154\n"
          ]
        },
        {
          "name": "stderr",
          "output_type": "stream",
          "text": [
            "\rEpoch 1/3:   7%|▋         | 433/6515 [2:37:18<36:24:34, 21.55s/it]"
          ]
        },
        {
          "name": "stdout",
          "output_type": "stream",
          "text": [
            "Epoch 1/3 completed. Loss: 0.6593742966651917\n"
          ]
        },
        {
          "name": "stderr",
          "output_type": "stream",
          "text": [
            "\rEpoch 1/3:   7%|▋         | 434/6515 [2:37:39<36:01:30, 21.33s/it]"
          ]
        },
        {
          "name": "stdout",
          "output_type": "stream",
          "text": [
            "Epoch 1/3 completed. Loss: 0.5789220333099365\n"
          ]
        },
        {
          "name": "stderr",
          "output_type": "stream",
          "text": [
            "\rEpoch 1/3:   7%|▋         | 435/6515 [2:38:01<36:46:29, 21.77s/it]"
          ]
        },
        {
          "name": "stdout",
          "output_type": "stream",
          "text": [
            "Epoch 1/3 completed. Loss: 0.34101614356040955\n"
          ]
        },
        {
          "name": "stderr",
          "output_type": "stream",
          "text": [
            "\rEpoch 1/3:   7%|▋         | 436/6515 [2:38:22<36:13:42, 21.45s/it]"
          ]
        },
        {
          "name": "stdout",
          "output_type": "stream",
          "text": [
            "Epoch 1/3 completed. Loss: 0.9273096919059753\n"
          ]
        },
        {
          "name": "stderr",
          "output_type": "stream",
          "text": [
            "\rEpoch 1/3:   7%|▋         | 437/6515 [2:38:44<36:22:39, 21.55s/it]"
          ]
        },
        {
          "name": "stdout",
          "output_type": "stream",
          "text": [
            "Epoch 1/3 completed. Loss: 0.46195515990257263\n"
          ]
        },
        {
          "name": "stderr",
          "output_type": "stream",
          "text": [
            "\rEpoch 1/3:   7%|▋         | 438/6515 [2:39:05<36:24:52, 21.57s/it]"
          ]
        },
        {
          "name": "stdout",
          "output_type": "stream",
          "text": [
            "Epoch 1/3 completed. Loss: 0.7019628882408142\n"
          ]
        },
        {
          "name": "stderr",
          "output_type": "stream",
          "text": [
            "\rEpoch 1/3:   7%|▋         | 439/6515 [2:39:26<35:59:07, 21.32s/it]"
          ]
        },
        {
          "name": "stdout",
          "output_type": "stream",
          "text": [
            "Epoch 1/3 completed. Loss: 0.4129470884799957\n"
          ]
        },
        {
          "name": "stderr",
          "output_type": "stream",
          "text": [
            "\rEpoch 1/3:   7%|▋         | 440/6515 [2:39:49<36:43:33, 21.76s/it]"
          ]
        },
        {
          "name": "stdout",
          "output_type": "stream",
          "text": [
            "Epoch 1/3 completed. Loss: 0.38863617181777954\n"
          ]
        },
        {
          "name": "stderr",
          "output_type": "stream",
          "text": [
            "\rEpoch 1/3:   7%|▋         | 441/6515 [2:40:10<36:13:24, 21.47s/it]"
          ]
        },
        {
          "name": "stdout",
          "output_type": "stream",
          "text": [
            "Epoch 1/3 completed. Loss: 0.478628933429718\n"
          ]
        },
        {
          "name": "stderr",
          "output_type": "stream",
          "text": [
            "\rEpoch 1/3:   7%|▋         | 442/6515 [2:40:32<36:34:13, 21.68s/it]"
          ]
        },
        {
          "name": "stdout",
          "output_type": "stream",
          "text": [
            "Epoch 1/3 completed. Loss: 0.8382906913757324\n"
          ]
        },
        {
          "name": "stderr",
          "output_type": "stream",
          "text": [
            "\rEpoch 1/3:   7%|▋         | 443/6515 [2:40:53<36:24:37, 21.59s/it]"
          ]
        },
        {
          "name": "stdout",
          "output_type": "stream",
          "text": [
            "Epoch 1/3 completed. Loss: 0.5969191789627075\n"
          ]
        },
        {
          "name": "stderr",
          "output_type": "stream",
          "text": [
            "\rEpoch 1/3:   7%|▋         | 444/6515 [2:41:14<35:59:43, 21.34s/it]"
          ]
        },
        {
          "name": "stdout",
          "output_type": "stream",
          "text": [
            "Epoch 1/3 completed. Loss: 0.766729474067688\n"
          ]
        },
        {
          "name": "stderr",
          "output_type": "stream",
          "text": [
            "\rEpoch 1/3:   7%|▋         | 445/6515 [2:41:37<36:45:23, 21.80s/it]"
          ]
        },
        {
          "name": "stdout",
          "output_type": "stream",
          "text": [
            "Epoch 1/3 completed. Loss: 0.7841378450393677\n"
          ]
        },
        {
          "name": "stderr",
          "output_type": "stream",
          "text": [
            "\rEpoch 1/3:   7%|▋         | 446/6515 [2:41:58<36:10:40, 21.46s/it]"
          ]
        },
        {
          "name": "stdout",
          "output_type": "stream",
          "text": [
            "Epoch 1/3 completed. Loss: 0.7496304512023926\n"
          ]
        },
        {
          "name": "stderr",
          "output_type": "stream",
          "text": [
            "\rEpoch 1/3:   7%|▋         | 447/6515 [2:42:20<36:34:29, 21.70s/it]"
          ]
        },
        {
          "name": "stdout",
          "output_type": "stream",
          "text": [
            "Epoch 1/3 completed. Loss: 0.4177568554878235\n"
          ]
        },
        {
          "name": "stderr",
          "output_type": "stream",
          "text": [
            "\rEpoch 1/3:   7%|▋         | 448/6515 [2:42:41<36:10:23, 21.46s/it]"
          ]
        },
        {
          "name": "stdout",
          "output_type": "stream",
          "text": [
            "Epoch 1/3 completed. Loss: 0.6808404326438904\n"
          ]
        },
        {
          "name": "stderr",
          "output_type": "stream",
          "text": [
            "\rEpoch 1/3:   7%|▋         | 449/6515 [2:43:02<35:52:04, 21.29s/it]"
          ]
        },
        {
          "name": "stdout",
          "output_type": "stream",
          "text": [
            "Epoch 1/3 completed. Loss: 0.1989538073539734\n"
          ]
        },
        {
          "name": "stderr",
          "output_type": "stream",
          "text": [
            "\rEpoch 1/3:   7%|▋         | 450/6515 [2:43:24<36:28:05, 21.65s/it]"
          ]
        },
        {
          "name": "stdout",
          "output_type": "stream",
          "text": [
            "Epoch 1/3 completed. Loss: 0.36960986256599426\n"
          ]
        },
        {
          "name": "stderr",
          "output_type": "stream",
          "text": [
            "\rEpoch 1/3:   7%|▋         | 451/6515 [2:43:45<35:59:53, 21.37s/it]"
          ]
        },
        {
          "name": "stdout",
          "output_type": "stream",
          "text": [
            "Epoch 1/3 completed. Loss: 0.6500647068023682\n"
          ]
        },
        {
          "name": "stderr",
          "output_type": "stream",
          "text": [
            "\rEpoch 1/3:   7%|▋         | 452/6515 [2:44:08<36:50:24, 21.87s/it]"
          ]
        },
        {
          "name": "stdout",
          "output_type": "stream",
          "text": [
            "Epoch 1/3 completed. Loss: 0.9173839688301086\n"
          ]
        },
        {
          "name": "stderr",
          "output_type": "stream",
          "text": [
            "\rEpoch 1/3:   7%|▋         | 453/6515 [2:44:29<36:14:54, 21.53s/it]"
          ]
        },
        {
          "name": "stdout",
          "output_type": "stream",
          "text": [
            "Epoch 1/3 completed. Loss: 0.4761044681072235\n"
          ]
        },
        {
          "name": "stderr",
          "output_type": "stream",
          "text": [
            "\rEpoch 1/3:   7%|▋         | 454/6515 [2:44:50<35:59:23, 21.38s/it]"
          ]
        },
        {
          "name": "stdout",
          "output_type": "stream",
          "text": [
            "Epoch 1/3 completed. Loss: 0.5822347402572632\n"
          ]
        },
        {
          "name": "stderr",
          "output_type": "stream",
          "text": [
            "\rEpoch 1/3:   7%|▋         | 455/6515 [2:45:12<36:27:46, 21.66s/it]"
          ]
        },
        {
          "name": "stdout",
          "output_type": "stream",
          "text": [
            "Epoch 1/3 completed. Loss: 0.6165691018104553\n"
          ]
        },
        {
          "name": "stderr",
          "output_type": "stream",
          "text": [
            "\rEpoch 1/3:   7%|▋         | 456/6515 [2:45:33<36:00:05, 21.39s/it]"
          ]
        },
        {
          "name": "stdout",
          "output_type": "stream",
          "text": [
            "Epoch 1/3 completed. Loss: 0.47967618703842163\n"
          ]
        },
        {
          "name": "stderr",
          "output_type": "stream",
          "text": [
            "\rEpoch 1/3:   7%|▋         | 457/6515 [2:45:56<36:46:33, 21.85s/it]"
          ]
        },
        {
          "name": "stdout",
          "output_type": "stream",
          "text": [
            "Epoch 1/3 completed. Loss: 0.6838018894195557\n"
          ]
        },
        {
          "name": "stderr",
          "output_type": "stream",
          "text": [
            "\rEpoch 1/3:   7%|▋         | 458/6515 [2:46:16<36:14:02, 21.54s/it]"
          ]
        },
        {
          "name": "stdout",
          "output_type": "stream",
          "text": [
            "Epoch 1/3 completed. Loss: 0.8110186457633972\n"
          ]
        },
        {
          "name": "stderr",
          "output_type": "stream",
          "text": [
            "\rEpoch 1/3:   7%|▋         | 459/6515 [2:46:38<36:02:30, 21.43s/it]"
          ]
        },
        {
          "name": "stdout",
          "output_type": "stream",
          "text": [
            "Epoch 1/3 completed. Loss: 0.4961506128311157\n"
          ]
        },
        {
          "name": "stderr",
          "output_type": "stream",
          "text": [
            "\rEpoch 1/3:   7%|▋         | 460/6515 [2:47:00<36:19:58, 21.60s/it]"
          ]
        },
        {
          "name": "stdout",
          "output_type": "stream",
          "text": [
            "Epoch 1/3 completed. Loss: 0.6225042939186096\n"
          ]
        },
        {
          "name": "stderr",
          "output_type": "stream",
          "text": [
            "\rEpoch 1/3:   7%|▋         | 461/6515 [2:47:20<35:53:12, 21.34s/it]"
          ]
        },
        {
          "name": "stdout",
          "output_type": "stream",
          "text": [
            "Epoch 1/3 completed. Loss: 0.40040504932403564\n"
          ]
        },
        {
          "name": "stderr",
          "output_type": "stream",
          "text": [
            "\rEpoch 1/3:   7%|▋         | 462/6515 [2:47:43<36:39:10, 21.80s/it]"
          ]
        },
        {
          "name": "stdout",
          "output_type": "stream",
          "text": [
            "Epoch 1/3 completed. Loss: 0.5084201097488403\n"
          ]
        },
        {
          "name": "stderr",
          "output_type": "stream",
          "text": [
            "\rEpoch 1/3:   7%|▋         | 463/6515 [2:48:04<36:05:26, 21.47s/it]"
          ]
        },
        {
          "name": "stdout",
          "output_type": "stream",
          "text": [
            "Epoch 1/3 completed. Loss: 0.47602710127830505\n"
          ]
        },
        {
          "name": "stderr",
          "output_type": "stream",
          "text": [
            "\rEpoch 1/3:   7%|▋         | 464/6515 [2:48:26<36:10:21, 21.52s/it]"
          ]
        },
        {
          "name": "stdout",
          "output_type": "stream",
          "text": [
            "Epoch 1/3 completed. Loss: 0.5843677520751953\n"
          ]
        },
        {
          "name": "stderr",
          "output_type": "stream",
          "text": [
            "\rEpoch 1/3:   7%|▋         | 465/6515 [2:48:47<36:15:48, 21.58s/it]"
          ]
        },
        {
          "name": "stdout",
          "output_type": "stream",
          "text": [
            "Epoch 1/3 completed. Loss: 0.5607778429985046\n"
          ]
        },
        {
          "name": "stderr",
          "output_type": "stream",
          "text": [
            "\rEpoch 1/3:   7%|▋         | 466/6515 [2:49:08<35:52:13, 21.35s/it]"
          ]
        },
        {
          "name": "stdout",
          "output_type": "stream",
          "text": [
            "Epoch 1/3 completed. Loss: 0.18440663814544678\n"
          ]
        },
        {
          "name": "stderr",
          "output_type": "stream",
          "text": [
            "\rEpoch 1/3:   7%|▋         | 467/6515 [2:49:31<36:33:50, 21.76s/it]"
          ]
        },
        {
          "name": "stdout",
          "output_type": "stream",
          "text": [
            "Epoch 1/3 completed. Loss: 0.47870102524757385\n"
          ]
        },
        {
          "name": "stderr",
          "output_type": "stream",
          "text": [
            "\rEpoch 1/3:   7%|▋         | 468/6515 [2:49:52<36:03:34, 21.47s/it]"
          ]
        },
        {
          "name": "stdout",
          "output_type": "stream",
          "text": [
            "Epoch 1/3 completed. Loss: 0.492944598197937\n"
          ]
        },
        {
          "name": "stderr",
          "output_type": "stream",
          "text": [
            "\rEpoch 1/3:   7%|▋         | 469/6515 [2:50:13<36:12:44, 21.56s/it]"
          ]
        },
        {
          "name": "stdout",
          "output_type": "stream",
          "text": [
            "Epoch 1/3 completed. Loss: 0.21675586700439453\n"
          ]
        },
        {
          "name": "stderr",
          "output_type": "stream",
          "text": [
            "\rEpoch 1/3:   7%|▋         | 470/6515 [2:50:35<36:12:03, 21.56s/it]"
          ]
        },
        {
          "name": "stdout",
          "output_type": "stream",
          "text": [
            "Epoch 1/3 completed. Loss: 0.4667234718799591\n"
          ]
        },
        {
          "name": "stderr",
          "output_type": "stream",
          "text": [
            "\rEpoch 1/3:   7%|▋         | 471/6515 [2:50:56<35:47:25, 21.32s/it]"
          ]
        },
        {
          "name": "stdout",
          "output_type": "stream",
          "text": [
            "Epoch 1/3 completed. Loss: 0.5069769620895386\n"
          ]
        },
        {
          "name": "stderr",
          "output_type": "stream",
          "text": [
            "\rEpoch 1/3:   7%|▋         | 472/6515 [2:51:19<36:33:52, 21.78s/it]"
          ]
        },
        {
          "name": "stdout",
          "output_type": "stream",
          "text": [
            "Epoch 1/3 completed. Loss: 0.7918965220451355\n"
          ]
        },
        {
          "name": "stderr",
          "output_type": "stream",
          "text": [
            "\rEpoch 1/3:   7%|▋         | 473/6515 [2:51:39<36:02:10, 21.47s/it]"
          ]
        },
        {
          "name": "stdout",
          "output_type": "stream",
          "text": [
            "Epoch 1/3 completed. Loss: 0.2207494080066681\n"
          ]
        },
        {
          "name": "stderr",
          "output_type": "stream",
          "text": [
            "\rEpoch 1/3:   7%|▋         | 474/6515 [2:52:01<36:19:38, 21.65s/it]"
          ]
        },
        {
          "name": "stdout",
          "output_type": "stream",
          "text": [
            "Epoch 1/3 completed. Loss: 0.4226854145526886\n"
          ]
        },
        {
          "name": "stderr",
          "output_type": "stream",
          "text": [
            "\rEpoch 1/3:   7%|▋         | 475/6515 [2:52:23<36:12:02, 21.58s/it]"
          ]
        },
        {
          "name": "stdout",
          "output_type": "stream",
          "text": [
            "Epoch 1/3 completed. Loss: 0.32387495040893555\n"
          ]
        },
        {
          "name": "stderr",
          "output_type": "stream",
          "text": [
            "\rEpoch 1/3:   7%|▋         | 476/6515 [2:52:44<35:47:04, 21.33s/it]"
          ]
        },
        {
          "name": "stdout",
          "output_type": "stream",
          "text": [
            "Epoch 1/3 completed. Loss: 0.7811778783798218\n"
          ]
        },
        {
          "name": "stderr",
          "output_type": "stream",
          "text": [
            "\rEpoch 1/3:   7%|▋         | 477/6515 [2:53:06<36:33:52, 21.80s/it]"
          ]
        },
        {
          "name": "stdout",
          "output_type": "stream",
          "text": [
            "Epoch 1/3 completed. Loss: 0.2874218821525574\n"
          ]
        },
        {
          "name": "stderr",
          "output_type": "stream",
          "text": [
            "\rEpoch 1/3:   7%|▋         | 478/6515 [2:53:27<36:01:57, 21.49s/it]"
          ]
        },
        {
          "name": "stdout",
          "output_type": "stream",
          "text": [
            "Epoch 1/3 completed. Loss: 0.7952091693878174\n"
          ]
        },
        {
          "name": "stderr",
          "output_type": "stream",
          "text": [
            "\rEpoch 1/3:   7%|▋         | 479/6515 [2:53:49<36:23:06, 21.70s/it]"
          ]
        },
        {
          "name": "stdout",
          "output_type": "stream",
          "text": [
            "Epoch 1/3 completed. Loss: 0.5808776617050171\n"
          ]
        },
        {
          "name": "stderr",
          "output_type": "stream",
          "text": [
            "\rEpoch 1/3:   7%|▋         | 480/6515 [2:54:10<36:03:23, 21.51s/it]"
          ]
        },
        {
          "name": "stdout",
          "output_type": "stream",
          "text": [
            "Epoch 1/3 completed. Loss: 1.0705833435058594\n"
          ]
        },
        {
          "name": "stderr",
          "output_type": "stream",
          "text": [
            "\rEpoch 1/3:   7%|▋         | 481/6515 [2:54:31<35:38:15, 21.26s/it]"
          ]
        },
        {
          "name": "stdout",
          "output_type": "stream",
          "text": [
            "Epoch 1/3 completed. Loss: 0.4149843454360962\n"
          ]
        },
        {
          "name": "stderr",
          "output_type": "stream",
          "text": [
            "\rEpoch 1/3:   7%|▋         | 482/6515 [2:54:54<36:22:34, 21.71s/it]"
          ]
        },
        {
          "name": "stdout",
          "output_type": "stream",
          "text": [
            "Epoch 1/3 completed. Loss: 0.6952108144760132\n"
          ]
        },
        {
          "name": "stderr",
          "output_type": "stream",
          "text": [
            "\rEpoch 1/3:   7%|▋         | 483/6515 [2:55:15<35:53:44, 21.42s/it]"
          ]
        },
        {
          "name": "stdout",
          "output_type": "stream",
          "text": [
            "Epoch 1/3 completed. Loss: 0.3629873991012573\n"
          ]
        },
        {
          "name": "stderr",
          "output_type": "stream",
          "text": [
            "\rEpoch 1/3:   7%|▋         | 484/6515 [2:55:37<36:22:23, 21.71s/it]"
          ]
        },
        {
          "name": "stdout",
          "output_type": "stream",
          "text": [
            "Epoch 1/3 completed. Loss: 0.3977694809436798\n"
          ]
        },
        {
          "name": "stderr",
          "output_type": "stream",
          "text": [
            "\rEpoch 1/3:   7%|▋         | 485/6515 [2:55:58<35:59:31, 21.49s/it]"
          ]
        },
        {
          "name": "stdout",
          "output_type": "stream",
          "text": [
            "Epoch 1/3 completed. Loss: 0.6166256070137024\n"
          ]
        },
        {
          "name": "stderr",
          "output_type": "stream",
          "text": [
            "\rEpoch 1/3:   7%|▋         | 486/6515 [2:56:19<35:41:01, 21.31s/it]"
          ]
        },
        {
          "name": "stdout",
          "output_type": "stream",
          "text": [
            "Epoch 1/3 completed. Loss: 0.4153296947479248\n"
          ]
        },
        {
          "name": "stderr",
          "output_type": "stream",
          "text": [
            "\rEpoch 1/3:   7%|▋         | 487/6515 [2:56:42<36:22:44, 21.73s/it]"
          ]
        },
        {
          "name": "stdout",
          "output_type": "stream",
          "text": [
            "Epoch 1/3 completed. Loss: 0.45223987102508545\n"
          ]
        },
        {
          "name": "stderr",
          "output_type": "stream",
          "text": [
            "\rEpoch 1/3:   7%|▋         | 488/6515 [2:57:02<35:53:43, 21.44s/it]"
          ]
        },
        {
          "name": "stdout",
          "output_type": "stream",
          "text": [
            "Epoch 1/3 completed. Loss: 0.6766480207443237\n"
          ]
        },
        {
          "name": "stderr",
          "output_type": "stream",
          "text": [
            "\rEpoch 1/3:   8%|▊         | 489/6515 [2:57:25<36:24:22, 21.75s/it]"
          ]
        },
        {
          "name": "stdout",
          "output_type": "stream",
          "text": [
            "Epoch 1/3 completed. Loss: 0.21806031465530396\n"
          ]
        },
        {
          "name": "stderr",
          "output_type": "stream",
          "text": [
            "\rEpoch 1/3:   8%|▊         | 490/6515 [2:57:45<35:50:18, 21.41s/it]"
          ]
        },
        {
          "name": "stdout",
          "output_type": "stream",
          "text": [
            "Epoch 1/3 completed. Loss: 0.3543415367603302\n"
          ]
        },
        {
          "name": "stderr",
          "output_type": "stream",
          "text": [
            "\rEpoch 1/3:   8%|▊         | 491/6515 [2:58:06<35:36:00, 21.27s/it]"
          ]
        },
        {
          "name": "stdout",
          "output_type": "stream",
          "text": [
            "Epoch 1/3 completed. Loss: 0.3604041635990143\n"
          ]
        },
        {
          "name": "stderr",
          "output_type": "stream",
          "text": [
            "\rEpoch 1/3:   8%|▊         | 492/6515 [2:58:29<36:05:27, 21.57s/it]"
          ]
        },
        {
          "name": "stdout",
          "output_type": "stream",
          "text": [
            "Epoch 1/3 completed. Loss: 0.7328429222106934\n"
          ]
        },
        {
          "name": "stderr",
          "output_type": "stream",
          "text": [
            "\rEpoch 1/3:   8%|▊         | 493/6515 [2:58:49<35:42:30, 21.35s/it]"
          ]
        },
        {
          "name": "stdout",
          "output_type": "stream",
          "text": [
            "Epoch 1/3 completed. Loss: 0.9762678146362305\n"
          ]
        },
        {
          "name": "stderr",
          "output_type": "stream",
          "text": [
            "\rEpoch 1/3:   8%|▊         | 494/6515 [2:59:12<36:27:58, 21.80s/it]"
          ]
        },
        {
          "name": "stdout",
          "output_type": "stream",
          "text": [
            "Epoch 1/3 completed. Loss: 0.530652642250061\n"
          ]
        },
        {
          "name": "stderr",
          "output_type": "stream",
          "text": [
            "\rEpoch 1/3:   8%|▊         | 495/6515 [2:59:33<35:43:58, 21.37s/it]"
          ]
        },
        {
          "name": "stdout",
          "output_type": "stream",
          "text": [
            "Epoch 1/3 completed. Loss: 0.7640665173530579\n"
          ]
        },
        {
          "name": "stderr",
          "output_type": "stream",
          "text": [
            "\rEpoch 1/3:   8%|▊         | 496/6515 [2:59:54<35:49:24, 21.43s/it]"
          ]
        },
        {
          "name": "stdout",
          "output_type": "stream",
          "text": [
            "Epoch 1/3 completed. Loss: 1.0021100044250488\n"
          ]
        }
      ],
      "source": [
        "# fitting: modified version\n",
        "\n",
        "from tqdm import tqdm  # for progress bars\n",
        "from torch.nn import CrossEntropyLoss\n",
        "from torch.nn.functional import softmax\n",
        "\n",
        "device = torch.device(\"cuda\") if torch.cuda.is_available() else torch.device(\"cpu\")\n",
        "model.to(device)\n",
        "\n",
        "epochs = 3 #If the model underfits (validation accuracy is low or loss is high), increase to 5 epochs.\n",
        "\n",
        "for epoch in range(epochs):\n",
        "    model.train()\n",
        "    epoch_loss = 0  # Track loss for the epoch\n",
        "    for step, batch in enumerate(tqdm(train_loader, desc=f\"Epoch {epoch + 1}/{epochs}\")):\n",
        "        # Move data to GPU/CPU\n",
        "        input_ids, attention_mask, labels = [x.to(device) for x in batch]\n",
        "\n",
        "        # Forward pass\n",
        "        outputs = model(input_ids, attention_mask=attention_mask, labels=labels)\n",
        "        loss = outputs.loss\n",
        "        logits = outputs.logits\n",
        "\n",
        "        # Backward pass\n",
        "        optimizer.zero_grad()\n",
        "        loss.backward()\n",
        "        optimizer.step()\n",
        "\n",
        "        epoch_loss += loss.item()\n",
        "\n",
        "        # Print every N batches\n",
        "        if step % 100 == 0:\n",
        "            print(f\"Batch {step}, Loss: {loss.item()}\")\n",
        "\n",
        "    #print(f\"Epoch {epoch + 1} completed. Average Loss: {epoch_loss / len(train_loader)}\")\n",
        "        print(f\"Epoch {epoch + 1}/{epochs} completed. Loss: {loss.item()}\")\n"
      ]
    },
    {
      "cell_type": "code",
      "execution_count": null,
      "metadata": {
        "colab": {
          "base_uri": "https://localhost:8080/",
          "height": 410
        },
        "id": "ruCdNEeOFdyD",
        "outputId": "054b6ea1-68f2-42f4-b86c-8d94e1710a88"
      },
      "outputs": [
        {
          "ename": "KeyboardInterrupt",
          "evalue": "",
          "output_type": "error",
          "traceback": [
            "\u001b[0;31m---------------------------------------------------------------------------\u001b[0m",
            "\u001b[0;31mKeyboardInterrupt\u001b[0m                         Traceback (most recent call last)",
            "\u001b[0;32m<ipython-input-51-becf8199ebf6>\u001b[0m in \u001b[0;36m<cell line: 9>\u001b[0;34m()\u001b[0m\n\u001b[1;32m     14\u001b[0m \u001b[0;34m\u001b[0m\u001b[0m\n\u001b[1;32m     15\u001b[0m         \u001b[0;31m# Forward pass\u001b[0m\u001b[0;34m\u001b[0m\u001b[0;34m\u001b[0m\u001b[0m\n\u001b[0;32m---> 16\u001b[0;31m         \u001b[0moutputs\u001b[0m \u001b[0;34m=\u001b[0m \u001b[0mmodel\u001b[0m\u001b[0;34m(\u001b[0m\u001b[0minput_ids\u001b[0m\u001b[0;34m,\u001b[0m \u001b[0mattention_mask\u001b[0m\u001b[0;34m=\u001b[0m\u001b[0mattention_mask\u001b[0m\u001b[0;34m,\u001b[0m \u001b[0mlabels\u001b[0m\u001b[0;34m=\u001b[0m\u001b[0mlabels\u001b[0m\u001b[0;34m)\u001b[0m\u001b[0;34m\u001b[0m\u001b[0;34m\u001b[0m\u001b[0m\n\u001b[0m\u001b[1;32m     17\u001b[0m         \u001b[0mloss\u001b[0m \u001b[0;34m=\u001b[0m \u001b[0moutputs\u001b[0m\u001b[0;34m.\u001b[0m\u001b[0mloss\u001b[0m\u001b[0;34m\u001b[0m\u001b[0;34m\u001b[0m\u001b[0m\n\u001b[1;32m     18\u001b[0m         \u001b[0mlogits\u001b[0m \u001b[0;34m=\u001b[0m \u001b[0moutputs\u001b[0m\u001b[0;34m.\u001b[0m\u001b[0mlogits\u001b[0m\u001b[0;34m\u001b[0m\u001b[0;34m\u001b[0m\u001b[0m\n",
            "\u001b[0;32m/usr/local/lib/python3.10/dist-packages/torch/nn/modules/module.py\u001b[0m in \u001b[0;36m_wrapped_call_impl\u001b[0;34m(self, *args, **kwargs)\u001b[0m\n\u001b[1;32m   1734\u001b[0m             \u001b[0;32mreturn\u001b[0m \u001b[0mself\u001b[0m\u001b[0;34m.\u001b[0m\u001b[0m_compiled_call_impl\u001b[0m\u001b[0;34m(\u001b[0m\u001b[0;34m*\u001b[0m\u001b[0margs\u001b[0m\u001b[0;34m,\u001b[0m \u001b[0;34m**\u001b[0m\u001b[0mkwargs\u001b[0m\u001b[0;34m)\u001b[0m  \u001b[0;31m# type: ignore[misc]\u001b[0m\u001b[0;34m\u001b[0m\u001b[0;34m\u001b[0m\u001b[0m\n\u001b[1;32m   1735\u001b[0m         \u001b[0;32melse\u001b[0m\u001b[0;34m:\u001b[0m\u001b[0;34m\u001b[0m\u001b[0;34m\u001b[0m\u001b[0m\n\u001b[0;32m-> 1736\u001b[0;31m             \u001b[0;32mreturn\u001b[0m \u001b[0mself\u001b[0m\u001b[0;34m.\u001b[0m\u001b[0m_call_impl\u001b[0m\u001b[0;34m(\u001b[0m\u001b[0;34m*\u001b[0m\u001b[0margs\u001b[0m\u001b[0;34m,\u001b[0m \u001b[0;34m**\u001b[0m\u001b[0mkwargs\u001b[0m\u001b[0;34m)\u001b[0m\u001b[0;34m\u001b[0m\u001b[0;34m\u001b[0m\u001b[0m\n\u001b[0m\u001b[1;32m   1737\u001b[0m \u001b[0;34m\u001b[0m\u001b[0m\n\u001b[1;32m   1738\u001b[0m     \u001b[0;31m# torchrec tests the code consistency with the following code\u001b[0m\u001b[0;34m\u001b[0m\u001b[0;34m\u001b[0m\u001b[0m\n",
            "\u001b[0;32m/usr/local/lib/python3.10/dist-packages/torch/nn/modules/module.py\u001b[0m in \u001b[0;36m_call_impl\u001b[0;34m(self, *args, **kwargs)\u001b[0m\n\u001b[1;32m   1745\u001b[0m                 \u001b[0;32mor\u001b[0m \u001b[0m_global_backward_pre_hooks\u001b[0m \u001b[0;32mor\u001b[0m \u001b[0m_global_backward_hooks\u001b[0m\u001b[0;34m\u001b[0m\u001b[0;34m\u001b[0m\u001b[0m\n\u001b[1;32m   1746\u001b[0m                 or _global_forward_hooks or _global_forward_pre_hooks):\n\u001b[0;32m-> 1747\u001b[0;31m             \u001b[0;32mreturn\u001b[0m \u001b[0mforward_call\u001b[0m\u001b[0;34m(\u001b[0m\u001b[0;34m*\u001b[0m\u001b[0margs\u001b[0m\u001b[0;34m,\u001b[0m \u001b[0;34m**\u001b[0m\u001b[0mkwargs\u001b[0m\u001b[0;34m)\u001b[0m\u001b[0;34m\u001b[0m\u001b[0;34m\u001b[0m\u001b[0m\n\u001b[0m\u001b[1;32m   1748\u001b[0m \u001b[0;34m\u001b[0m\u001b[0m\n\u001b[1;32m   1749\u001b[0m         \u001b[0mresult\u001b[0m \u001b[0;34m=\u001b[0m \u001b[0;32mNone\u001b[0m\u001b[0;34m\u001b[0m\u001b[0;34m\u001b[0m\u001b[0m\n",
            "\u001b[0;32m/usr/local/lib/python3.10/dist-packages/transformers/models/bert/modeling_bert.py\u001b[0m in \u001b[0;36mforward\u001b[0;34m(self, input_ids, attention_mask, token_type_ids, position_ids, head_mask, inputs_embeds, labels, output_attentions, output_hidden_states, return_dict)\u001b[0m\n\u001b[1;32m   1663\u001b[0m         \u001b[0mreturn_dict\u001b[0m \u001b[0;34m=\u001b[0m \u001b[0mreturn_dict\u001b[0m \u001b[0;32mif\u001b[0m \u001b[0mreturn_dict\u001b[0m \u001b[0;32mis\u001b[0m \u001b[0;32mnot\u001b[0m \u001b[0;32mNone\u001b[0m \u001b[0;32melse\u001b[0m \u001b[0mself\u001b[0m\u001b[0;34m.\u001b[0m\u001b[0mconfig\u001b[0m\u001b[0;34m.\u001b[0m\u001b[0muse_return_dict\u001b[0m\u001b[0;34m\u001b[0m\u001b[0;34m\u001b[0m\u001b[0m\n\u001b[1;32m   1664\u001b[0m \u001b[0;34m\u001b[0m\u001b[0m\n\u001b[0;32m-> 1665\u001b[0;31m         outputs = self.bert(\n\u001b[0m\u001b[1;32m   1666\u001b[0m             \u001b[0minput_ids\u001b[0m\u001b[0;34m,\u001b[0m\u001b[0;34m\u001b[0m\u001b[0;34m\u001b[0m\u001b[0m\n\u001b[1;32m   1667\u001b[0m             \u001b[0mattention_mask\u001b[0m\u001b[0;34m=\u001b[0m\u001b[0mattention_mask\u001b[0m\u001b[0;34m,\u001b[0m\u001b[0;34m\u001b[0m\u001b[0;34m\u001b[0m\u001b[0m\n",
            "\u001b[0;32m/usr/local/lib/python3.10/dist-packages/torch/nn/modules/module.py\u001b[0m in \u001b[0;36m_wrapped_call_impl\u001b[0;34m(self, *args, **kwargs)\u001b[0m\n\u001b[1;32m   1734\u001b[0m             \u001b[0;32mreturn\u001b[0m \u001b[0mself\u001b[0m\u001b[0;34m.\u001b[0m\u001b[0m_compiled_call_impl\u001b[0m\u001b[0;34m(\u001b[0m\u001b[0;34m*\u001b[0m\u001b[0margs\u001b[0m\u001b[0;34m,\u001b[0m \u001b[0;34m**\u001b[0m\u001b[0mkwargs\u001b[0m\u001b[0;34m)\u001b[0m  \u001b[0;31m# type: ignore[misc]\u001b[0m\u001b[0;34m\u001b[0m\u001b[0;34m\u001b[0m\u001b[0m\n\u001b[1;32m   1735\u001b[0m         \u001b[0;32melse\u001b[0m\u001b[0;34m:\u001b[0m\u001b[0;34m\u001b[0m\u001b[0;34m\u001b[0m\u001b[0m\n\u001b[0;32m-> 1736\u001b[0;31m             \u001b[0;32mreturn\u001b[0m \u001b[0mself\u001b[0m\u001b[0;34m.\u001b[0m\u001b[0m_call_impl\u001b[0m\u001b[0;34m(\u001b[0m\u001b[0;34m*\u001b[0m\u001b[0margs\u001b[0m\u001b[0;34m,\u001b[0m \u001b[0;34m**\u001b[0m\u001b[0mkwargs\u001b[0m\u001b[0;34m)\u001b[0m\u001b[0;34m\u001b[0m\u001b[0;34m\u001b[0m\u001b[0m\n\u001b[0m\u001b[1;32m   1737\u001b[0m \u001b[0;34m\u001b[0m\u001b[0m\n\u001b[1;32m   1738\u001b[0m     \u001b[0;31m# torchrec tests the code consistency with the following code\u001b[0m\u001b[0;34m\u001b[0m\u001b[0;34m\u001b[0m\u001b[0m\n",
            "\u001b[0;32m/usr/local/lib/python3.10/dist-packages/torch/nn/modules/module.py\u001b[0m in \u001b[0;36m_call_impl\u001b[0;34m(self, *args, **kwargs)\u001b[0m\n\u001b[1;32m   1745\u001b[0m                 \u001b[0;32mor\u001b[0m \u001b[0m_global_backward_pre_hooks\u001b[0m \u001b[0;32mor\u001b[0m \u001b[0m_global_backward_hooks\u001b[0m\u001b[0;34m\u001b[0m\u001b[0;34m\u001b[0m\u001b[0m\n\u001b[1;32m   1746\u001b[0m                 or _global_forward_hooks or _global_forward_pre_hooks):\n\u001b[0;32m-> 1747\u001b[0;31m             \u001b[0;32mreturn\u001b[0m \u001b[0mforward_call\u001b[0m\u001b[0;34m(\u001b[0m\u001b[0;34m*\u001b[0m\u001b[0margs\u001b[0m\u001b[0;34m,\u001b[0m \u001b[0;34m**\u001b[0m\u001b[0mkwargs\u001b[0m\u001b[0;34m)\u001b[0m\u001b[0;34m\u001b[0m\u001b[0;34m\u001b[0m\u001b[0m\n\u001b[0m\u001b[1;32m   1748\u001b[0m \u001b[0;34m\u001b[0m\u001b[0m\n\u001b[1;32m   1749\u001b[0m         \u001b[0mresult\u001b[0m \u001b[0;34m=\u001b[0m \u001b[0;32mNone\u001b[0m\u001b[0;34m\u001b[0m\u001b[0;34m\u001b[0m\u001b[0m\n",
            "\u001b[0;32m/usr/local/lib/python3.10/dist-packages/transformers/models/bert/modeling_bert.py\u001b[0m in \u001b[0;36mforward\u001b[0;34m(self, input_ids, attention_mask, token_type_ids, position_ids, head_mask, inputs_embeds, encoder_hidden_states, encoder_attention_mask, past_key_values, use_cache, output_attentions, output_hidden_states, return_dict)\u001b[0m\n\u001b[1;32m   1140\u001b[0m         \u001b[0mhead_mask\u001b[0m \u001b[0;34m=\u001b[0m \u001b[0mself\u001b[0m\u001b[0;34m.\u001b[0m\u001b[0mget_head_mask\u001b[0m\u001b[0;34m(\u001b[0m\u001b[0mhead_mask\u001b[0m\u001b[0;34m,\u001b[0m \u001b[0mself\u001b[0m\u001b[0;34m.\u001b[0m\u001b[0mconfig\u001b[0m\u001b[0;34m.\u001b[0m\u001b[0mnum_hidden_layers\u001b[0m\u001b[0;34m)\u001b[0m\u001b[0;34m\u001b[0m\u001b[0;34m\u001b[0m\u001b[0m\n\u001b[1;32m   1141\u001b[0m \u001b[0;34m\u001b[0m\u001b[0m\n\u001b[0;32m-> 1142\u001b[0;31m         encoder_outputs = self.encoder(\n\u001b[0m\u001b[1;32m   1143\u001b[0m             \u001b[0membedding_output\u001b[0m\u001b[0;34m,\u001b[0m\u001b[0;34m\u001b[0m\u001b[0;34m\u001b[0m\u001b[0m\n\u001b[1;32m   1144\u001b[0m             \u001b[0mattention_mask\u001b[0m\u001b[0;34m=\u001b[0m\u001b[0mextended_attention_mask\u001b[0m\u001b[0;34m,\u001b[0m\u001b[0;34m\u001b[0m\u001b[0;34m\u001b[0m\u001b[0m\n",
            "\u001b[0;32m/usr/local/lib/python3.10/dist-packages/torch/nn/modules/module.py\u001b[0m in \u001b[0;36m_wrapped_call_impl\u001b[0;34m(self, *args, **kwargs)\u001b[0m\n\u001b[1;32m   1734\u001b[0m             \u001b[0;32mreturn\u001b[0m \u001b[0mself\u001b[0m\u001b[0;34m.\u001b[0m\u001b[0m_compiled_call_impl\u001b[0m\u001b[0;34m(\u001b[0m\u001b[0;34m*\u001b[0m\u001b[0margs\u001b[0m\u001b[0;34m,\u001b[0m \u001b[0;34m**\u001b[0m\u001b[0mkwargs\u001b[0m\u001b[0;34m)\u001b[0m  \u001b[0;31m# type: ignore[misc]\u001b[0m\u001b[0;34m\u001b[0m\u001b[0;34m\u001b[0m\u001b[0m\n\u001b[1;32m   1735\u001b[0m         \u001b[0;32melse\u001b[0m\u001b[0;34m:\u001b[0m\u001b[0;34m\u001b[0m\u001b[0;34m\u001b[0m\u001b[0m\n\u001b[0;32m-> 1736\u001b[0;31m             \u001b[0;32mreturn\u001b[0m \u001b[0mself\u001b[0m\u001b[0;34m.\u001b[0m\u001b[0m_call_impl\u001b[0m\u001b[0;34m(\u001b[0m\u001b[0;34m*\u001b[0m\u001b[0margs\u001b[0m\u001b[0;34m,\u001b[0m \u001b[0;34m**\u001b[0m\u001b[0mkwargs\u001b[0m\u001b[0;34m)\u001b[0m\u001b[0;34m\u001b[0m\u001b[0;34m\u001b[0m\u001b[0m\n\u001b[0m\u001b[1;32m   1737\u001b[0m \u001b[0;34m\u001b[0m\u001b[0m\n\u001b[1;32m   1738\u001b[0m     \u001b[0;31m# torchrec tests the code consistency with the following code\u001b[0m\u001b[0;34m\u001b[0m\u001b[0;34m\u001b[0m\u001b[0m\n",
            "\u001b[0;32m/usr/local/lib/python3.10/dist-packages/torch/nn/modules/module.py\u001b[0m in \u001b[0;36m_call_impl\u001b[0;34m(self, *args, **kwargs)\u001b[0m\n\u001b[1;32m   1745\u001b[0m                 \u001b[0;32mor\u001b[0m \u001b[0m_global_backward_pre_hooks\u001b[0m \u001b[0;32mor\u001b[0m \u001b[0m_global_backward_hooks\u001b[0m\u001b[0;34m\u001b[0m\u001b[0;34m\u001b[0m\u001b[0m\n\u001b[1;32m   1746\u001b[0m                 or _global_forward_hooks or _global_forward_pre_hooks):\n\u001b[0;32m-> 1747\u001b[0;31m             \u001b[0;32mreturn\u001b[0m \u001b[0mforward_call\u001b[0m\u001b[0;34m(\u001b[0m\u001b[0;34m*\u001b[0m\u001b[0margs\u001b[0m\u001b[0;34m,\u001b[0m \u001b[0;34m**\u001b[0m\u001b[0mkwargs\u001b[0m\u001b[0;34m)\u001b[0m\u001b[0;34m\u001b[0m\u001b[0;34m\u001b[0m\u001b[0m\n\u001b[0m\u001b[1;32m   1748\u001b[0m \u001b[0;34m\u001b[0m\u001b[0m\n\u001b[1;32m   1749\u001b[0m         \u001b[0mresult\u001b[0m \u001b[0;34m=\u001b[0m \u001b[0;32mNone\u001b[0m\u001b[0;34m\u001b[0m\u001b[0;34m\u001b[0m\u001b[0m\n",
            "\u001b[0;32m/usr/local/lib/python3.10/dist-packages/transformers/models/bert/modeling_bert.py\u001b[0m in \u001b[0;36mforward\u001b[0;34m(self, hidden_states, attention_mask, head_mask, encoder_hidden_states, encoder_attention_mask, past_key_values, use_cache, output_attentions, output_hidden_states, return_dict)\u001b[0m\n\u001b[1;32m    693\u001b[0m                 )\n\u001b[1;32m    694\u001b[0m             \u001b[0;32melse\u001b[0m\u001b[0;34m:\u001b[0m\u001b[0;34m\u001b[0m\u001b[0;34m\u001b[0m\u001b[0m\n\u001b[0;32m--> 695\u001b[0;31m                 layer_outputs = layer_module(\n\u001b[0m\u001b[1;32m    696\u001b[0m                     \u001b[0mhidden_states\u001b[0m\u001b[0;34m,\u001b[0m\u001b[0;34m\u001b[0m\u001b[0;34m\u001b[0m\u001b[0m\n\u001b[1;32m    697\u001b[0m                     \u001b[0mattention_mask\u001b[0m\u001b[0;34m,\u001b[0m\u001b[0;34m\u001b[0m\u001b[0;34m\u001b[0m\u001b[0m\n",
            "\u001b[0;32m/usr/local/lib/python3.10/dist-packages/torch/nn/modules/module.py\u001b[0m in \u001b[0;36m_wrapped_call_impl\u001b[0;34m(self, *args, **kwargs)\u001b[0m\n\u001b[1;32m   1734\u001b[0m             \u001b[0;32mreturn\u001b[0m \u001b[0mself\u001b[0m\u001b[0;34m.\u001b[0m\u001b[0m_compiled_call_impl\u001b[0m\u001b[0;34m(\u001b[0m\u001b[0;34m*\u001b[0m\u001b[0margs\u001b[0m\u001b[0;34m,\u001b[0m \u001b[0;34m**\u001b[0m\u001b[0mkwargs\u001b[0m\u001b[0;34m)\u001b[0m  \u001b[0;31m# type: ignore[misc]\u001b[0m\u001b[0;34m\u001b[0m\u001b[0;34m\u001b[0m\u001b[0m\n\u001b[1;32m   1735\u001b[0m         \u001b[0;32melse\u001b[0m\u001b[0;34m:\u001b[0m\u001b[0;34m\u001b[0m\u001b[0;34m\u001b[0m\u001b[0m\n\u001b[0;32m-> 1736\u001b[0;31m             \u001b[0;32mreturn\u001b[0m \u001b[0mself\u001b[0m\u001b[0;34m.\u001b[0m\u001b[0m_call_impl\u001b[0m\u001b[0;34m(\u001b[0m\u001b[0;34m*\u001b[0m\u001b[0margs\u001b[0m\u001b[0;34m,\u001b[0m \u001b[0;34m**\u001b[0m\u001b[0mkwargs\u001b[0m\u001b[0;34m)\u001b[0m\u001b[0;34m\u001b[0m\u001b[0;34m\u001b[0m\u001b[0m\n\u001b[0m\u001b[1;32m   1737\u001b[0m \u001b[0;34m\u001b[0m\u001b[0m\n\u001b[1;32m   1738\u001b[0m     \u001b[0;31m# torchrec tests the code consistency with the following code\u001b[0m\u001b[0;34m\u001b[0m\u001b[0;34m\u001b[0m\u001b[0m\n",
            "\u001b[0;32m/usr/local/lib/python3.10/dist-packages/torch/nn/modules/module.py\u001b[0m in \u001b[0;36m_call_impl\u001b[0;34m(self, *args, **kwargs)\u001b[0m\n\u001b[1;32m   1745\u001b[0m                 \u001b[0;32mor\u001b[0m \u001b[0m_global_backward_pre_hooks\u001b[0m \u001b[0;32mor\u001b[0m \u001b[0m_global_backward_hooks\u001b[0m\u001b[0;34m\u001b[0m\u001b[0;34m\u001b[0m\u001b[0m\n\u001b[1;32m   1746\u001b[0m                 or _global_forward_hooks or _global_forward_pre_hooks):\n\u001b[0;32m-> 1747\u001b[0;31m             \u001b[0;32mreturn\u001b[0m \u001b[0mforward_call\u001b[0m\u001b[0;34m(\u001b[0m\u001b[0;34m*\u001b[0m\u001b[0margs\u001b[0m\u001b[0;34m,\u001b[0m \u001b[0;34m**\u001b[0m\u001b[0mkwargs\u001b[0m\u001b[0;34m)\u001b[0m\u001b[0;34m\u001b[0m\u001b[0;34m\u001b[0m\u001b[0m\n\u001b[0m\u001b[1;32m   1748\u001b[0m \u001b[0;34m\u001b[0m\u001b[0m\n\u001b[1;32m   1749\u001b[0m         \u001b[0mresult\u001b[0m \u001b[0;34m=\u001b[0m \u001b[0;32mNone\u001b[0m\u001b[0;34m\u001b[0m\u001b[0;34m\u001b[0m\u001b[0m\n",
            "\u001b[0;32m/usr/local/lib/python3.10/dist-packages/transformers/models/bert/modeling_bert.py\u001b[0m in \u001b[0;36mforward\u001b[0;34m(self, hidden_states, attention_mask, head_mask, encoder_hidden_states, encoder_attention_mask, past_key_value, output_attentions)\u001b[0m\n\u001b[1;32m    583\u001b[0m         \u001b[0;31m# decoder uni-directional self-attention cached key/values tuple is at positions 1,2\u001b[0m\u001b[0;34m\u001b[0m\u001b[0;34m\u001b[0m\u001b[0m\n\u001b[1;32m    584\u001b[0m         \u001b[0mself_attn_past_key_value\u001b[0m \u001b[0;34m=\u001b[0m \u001b[0mpast_key_value\u001b[0m\u001b[0;34m[\u001b[0m\u001b[0;34m:\u001b[0m\u001b[0;36m2\u001b[0m\u001b[0;34m]\u001b[0m \u001b[0;32mif\u001b[0m \u001b[0mpast_key_value\u001b[0m \u001b[0;32mis\u001b[0m \u001b[0;32mnot\u001b[0m \u001b[0;32mNone\u001b[0m \u001b[0;32melse\u001b[0m \u001b[0;32mNone\u001b[0m\u001b[0;34m\u001b[0m\u001b[0;34m\u001b[0m\u001b[0m\n\u001b[0;32m--> 585\u001b[0;31m         self_attention_outputs = self.attention(\n\u001b[0m\u001b[1;32m    586\u001b[0m             \u001b[0mhidden_states\u001b[0m\u001b[0;34m,\u001b[0m\u001b[0;34m\u001b[0m\u001b[0;34m\u001b[0m\u001b[0m\n\u001b[1;32m    587\u001b[0m             \u001b[0mattention_mask\u001b[0m\u001b[0;34m,\u001b[0m\u001b[0;34m\u001b[0m\u001b[0;34m\u001b[0m\u001b[0m\n",
            "\u001b[0;32m/usr/local/lib/python3.10/dist-packages/torch/nn/modules/module.py\u001b[0m in \u001b[0;36m_wrapped_call_impl\u001b[0;34m(self, *args, **kwargs)\u001b[0m\n\u001b[1;32m   1734\u001b[0m             \u001b[0;32mreturn\u001b[0m \u001b[0mself\u001b[0m\u001b[0;34m.\u001b[0m\u001b[0m_compiled_call_impl\u001b[0m\u001b[0;34m(\u001b[0m\u001b[0;34m*\u001b[0m\u001b[0margs\u001b[0m\u001b[0;34m,\u001b[0m \u001b[0;34m**\u001b[0m\u001b[0mkwargs\u001b[0m\u001b[0;34m)\u001b[0m  \u001b[0;31m# type: ignore[misc]\u001b[0m\u001b[0;34m\u001b[0m\u001b[0;34m\u001b[0m\u001b[0m\n\u001b[1;32m   1735\u001b[0m         \u001b[0;32melse\u001b[0m\u001b[0;34m:\u001b[0m\u001b[0;34m\u001b[0m\u001b[0;34m\u001b[0m\u001b[0m\n\u001b[0;32m-> 1736\u001b[0;31m             \u001b[0;32mreturn\u001b[0m \u001b[0mself\u001b[0m\u001b[0;34m.\u001b[0m\u001b[0m_call_impl\u001b[0m\u001b[0;34m(\u001b[0m\u001b[0;34m*\u001b[0m\u001b[0margs\u001b[0m\u001b[0;34m,\u001b[0m \u001b[0;34m**\u001b[0m\u001b[0mkwargs\u001b[0m\u001b[0;34m)\u001b[0m\u001b[0;34m\u001b[0m\u001b[0;34m\u001b[0m\u001b[0m\n\u001b[0m\u001b[1;32m   1737\u001b[0m \u001b[0;34m\u001b[0m\u001b[0m\n\u001b[1;32m   1738\u001b[0m     \u001b[0;31m# torchrec tests the code consistency with the following code\u001b[0m\u001b[0;34m\u001b[0m\u001b[0;34m\u001b[0m\u001b[0m\n",
            "\u001b[0;32m/usr/local/lib/python3.10/dist-packages/torch/nn/modules/module.py\u001b[0m in \u001b[0;36m_call_impl\u001b[0;34m(self, *args, **kwargs)\u001b[0m\n\u001b[1;32m   1745\u001b[0m                 \u001b[0;32mor\u001b[0m \u001b[0m_global_backward_pre_hooks\u001b[0m \u001b[0;32mor\u001b[0m \u001b[0m_global_backward_hooks\u001b[0m\u001b[0;34m\u001b[0m\u001b[0;34m\u001b[0m\u001b[0m\n\u001b[1;32m   1746\u001b[0m                 or _global_forward_hooks or _global_forward_pre_hooks):\n\u001b[0;32m-> 1747\u001b[0;31m             \u001b[0;32mreturn\u001b[0m \u001b[0mforward_call\u001b[0m\u001b[0;34m(\u001b[0m\u001b[0;34m*\u001b[0m\u001b[0margs\u001b[0m\u001b[0;34m,\u001b[0m \u001b[0;34m**\u001b[0m\u001b[0mkwargs\u001b[0m\u001b[0;34m)\u001b[0m\u001b[0;34m\u001b[0m\u001b[0;34m\u001b[0m\u001b[0m\n\u001b[0m\u001b[1;32m   1748\u001b[0m \u001b[0;34m\u001b[0m\u001b[0m\n\u001b[1;32m   1749\u001b[0m         \u001b[0mresult\u001b[0m \u001b[0;34m=\u001b[0m \u001b[0;32mNone\u001b[0m\u001b[0;34m\u001b[0m\u001b[0;34m\u001b[0m\u001b[0m\n",
            "\u001b[0;32m/usr/local/lib/python3.10/dist-packages/transformers/models/bert/modeling_bert.py\u001b[0m in \u001b[0;36mforward\u001b[0;34m(self, hidden_states, attention_mask, head_mask, encoder_hidden_states, encoder_attention_mask, past_key_value, output_attentions)\u001b[0m\n\u001b[1;32m    513\u001b[0m         \u001b[0moutput_attentions\u001b[0m\u001b[0;34m:\u001b[0m \u001b[0mOptional\u001b[0m\u001b[0;34m[\u001b[0m\u001b[0mbool\u001b[0m\u001b[0;34m]\u001b[0m \u001b[0;34m=\u001b[0m \u001b[0;32mFalse\u001b[0m\u001b[0;34m,\u001b[0m\u001b[0;34m\u001b[0m\u001b[0;34m\u001b[0m\u001b[0m\n\u001b[1;32m    514\u001b[0m     ) -> Tuple[torch.Tensor]:\n\u001b[0;32m--> 515\u001b[0;31m         self_outputs = self.self(\n\u001b[0m\u001b[1;32m    516\u001b[0m             \u001b[0mhidden_states\u001b[0m\u001b[0;34m,\u001b[0m\u001b[0;34m\u001b[0m\u001b[0;34m\u001b[0m\u001b[0m\n\u001b[1;32m    517\u001b[0m             \u001b[0mattention_mask\u001b[0m\u001b[0;34m,\u001b[0m\u001b[0;34m\u001b[0m\u001b[0;34m\u001b[0m\u001b[0m\n",
            "\u001b[0;32m/usr/local/lib/python3.10/dist-packages/torch/nn/modules/module.py\u001b[0m in \u001b[0;36m_wrapped_call_impl\u001b[0;34m(self, *args, **kwargs)\u001b[0m\n\u001b[1;32m   1734\u001b[0m             \u001b[0;32mreturn\u001b[0m \u001b[0mself\u001b[0m\u001b[0;34m.\u001b[0m\u001b[0m_compiled_call_impl\u001b[0m\u001b[0;34m(\u001b[0m\u001b[0;34m*\u001b[0m\u001b[0margs\u001b[0m\u001b[0;34m,\u001b[0m \u001b[0;34m**\u001b[0m\u001b[0mkwargs\u001b[0m\u001b[0;34m)\u001b[0m  \u001b[0;31m# type: ignore[misc]\u001b[0m\u001b[0;34m\u001b[0m\u001b[0;34m\u001b[0m\u001b[0m\n\u001b[1;32m   1735\u001b[0m         \u001b[0;32melse\u001b[0m\u001b[0;34m:\u001b[0m\u001b[0;34m\u001b[0m\u001b[0;34m\u001b[0m\u001b[0m\n\u001b[0;32m-> 1736\u001b[0;31m             \u001b[0;32mreturn\u001b[0m \u001b[0mself\u001b[0m\u001b[0;34m.\u001b[0m\u001b[0m_call_impl\u001b[0m\u001b[0;34m(\u001b[0m\u001b[0;34m*\u001b[0m\u001b[0margs\u001b[0m\u001b[0;34m,\u001b[0m \u001b[0;34m**\u001b[0m\u001b[0mkwargs\u001b[0m\u001b[0;34m)\u001b[0m\u001b[0;34m\u001b[0m\u001b[0;34m\u001b[0m\u001b[0m\n\u001b[0m\u001b[1;32m   1737\u001b[0m \u001b[0;34m\u001b[0m\u001b[0m\n\u001b[1;32m   1738\u001b[0m     \u001b[0;31m# torchrec tests the code consistency with the following code\u001b[0m\u001b[0;34m\u001b[0m\u001b[0;34m\u001b[0m\u001b[0m\n",
            "\u001b[0;32m/usr/local/lib/python3.10/dist-packages/torch/nn/modules/module.py\u001b[0m in \u001b[0;36m_call_impl\u001b[0;34m(self, *args, **kwargs)\u001b[0m\n\u001b[1;32m   1745\u001b[0m                 \u001b[0;32mor\u001b[0m \u001b[0m_global_backward_pre_hooks\u001b[0m \u001b[0;32mor\u001b[0m \u001b[0m_global_backward_hooks\u001b[0m\u001b[0;34m\u001b[0m\u001b[0;34m\u001b[0m\u001b[0m\n\u001b[1;32m   1746\u001b[0m                 or _global_forward_hooks or _global_forward_pre_hooks):\n\u001b[0;32m-> 1747\u001b[0;31m             \u001b[0;32mreturn\u001b[0m \u001b[0mforward_call\u001b[0m\u001b[0;34m(\u001b[0m\u001b[0;34m*\u001b[0m\u001b[0margs\u001b[0m\u001b[0;34m,\u001b[0m \u001b[0;34m**\u001b[0m\u001b[0mkwargs\u001b[0m\u001b[0;34m)\u001b[0m\u001b[0;34m\u001b[0m\u001b[0;34m\u001b[0m\u001b[0m\n\u001b[0m\u001b[1;32m   1748\u001b[0m \u001b[0;34m\u001b[0m\u001b[0m\n\u001b[1;32m   1749\u001b[0m         \u001b[0mresult\u001b[0m \u001b[0;34m=\u001b[0m \u001b[0;32mNone\u001b[0m\u001b[0;34m\u001b[0m\u001b[0;34m\u001b[0m\u001b[0m\n",
            "\u001b[0;32m/usr/local/lib/python3.10/dist-packages/transformers/models/bert/modeling_bert.py\u001b[0m in \u001b[0;36mforward\u001b[0;34m(self, hidden_states, attention_mask, head_mask, encoder_hidden_states, encoder_attention_mask, past_key_value, output_attentions)\u001b[0m\n\u001b[1;32m    438\u001b[0m         )\n\u001b[1;32m    439\u001b[0m \u001b[0;34m\u001b[0m\u001b[0m\n\u001b[0;32m--> 440\u001b[0;31m         attn_output = torch.nn.functional.scaled_dot_product_attention(\n\u001b[0m\u001b[1;32m    441\u001b[0m             \u001b[0mquery_layer\u001b[0m\u001b[0;34m,\u001b[0m\u001b[0;34m\u001b[0m\u001b[0;34m\u001b[0m\u001b[0m\n\u001b[1;32m    442\u001b[0m             \u001b[0mkey_layer\u001b[0m\u001b[0;34m,\u001b[0m\u001b[0;34m\u001b[0m\u001b[0;34m\u001b[0m\u001b[0m\n",
            "\u001b[0;31mKeyboardInterrupt\u001b[0m: "
          ]
        }
      ],
      "source": [
        "# fitting: original (chatGPT) version\n",
        "\n",
        "from torch.nn import CrossEntropyLoss\n",
        "from torch.nn.functional import softmax\n",
        "\n",
        "device = torch.device(\"cuda\") if torch.cuda.is_available() else torch.device(\"cpu\")\n",
        "model.to(device)\n",
        "\n",
        "# Training loop\n",
        "epochs = 3 #If the model underfits (validation accuracy is low or loss is high), increase to 5 epochs.\n",
        "for epoch in range(epochs):\n",
        "    model.train()\n",
        "    for batch in train_loader:\n",
        "        # Move data to GPU/CPU\n",
        "        input_ids, attention_mask, labels = [x.to(device) for x in batch]\n",
        "\n",
        "        # Forward pass\n",
        "        outputs = model(input_ids, attention_mask=attention_mask, labels=labels)\n",
        "        loss = outputs.loss\n",
        "        logits = outputs.logits\n",
        "\n",
        "        # Backward pass\n",
        "        optimizer.zero_grad()\n",
        "        loss.backward()\n",
        "        optimizer.step()\n",
        "\n",
        "    print(f\"Epoch {epoch + 1}/{epochs} completed. Loss: {loss.item()}\")"
      ]
    },
    {
      "cell_type": "code",
      "execution_count": null,
      "metadata": {
        "id": "TNrtfHz-HBSc"
      },
      "outputs": [],
      "source": [
        "model.eval()\n",
        "correct = 0\n",
        "total = 0\n",
        "\n",
        "with torch.no_grad():\n",
        "    for batch in test_loader:\n",
        "        input_ids, attention_mask, labels = [x.to(device) for x in batch]\n",
        "        outputs = model(input_ids, attention_mask=attention_mask)\n",
        "        logits = outputs.logits\n",
        "        predictions = torch.argmax(softmax(logits, dim=1), dim=1)\n",
        "        correct += (predictions == labels).sum().item()\n",
        "        total += labels.size(0)\n",
        "\n",
        "accuracy = correct / total\n",
        "print(f\"Test Accuracy: {accuracy:.4f}\")\n"
      ]
    },
    {
      "cell_type": "code",
      "execution_count": null,
      "metadata": {
        "id": "HVNugEyUNIU3"
      },
      "outputs": [],
      "source": [
        "model.save_pretrained(\"bert_sentiment_model\")\n",
        "tokenizer.save_pretrained(\"bert_sentiment_model\")\n"
      ]
    },
    {
      "cell_type": "code",
      "execution_count": null,
      "metadata": {
        "id": "cnA1UJ4KNLV2"
      },
      "outputs": [],
      "source": []
    }
  ],
  "metadata": {
    "colab": {
      "provenance": [],
      "mount_file_id": "1-sru49_EaT7LFz9JQAcI7SZsvluRTTIe",
      "authorship_tag": "ABX9TyMTjRm6AL1mCuk4nlrcyh2A",
      "include_colab_link": true
    },
    "kernelspec": {
      "display_name": "Python 3",
      "name": "python3"
    },
    "language_info": {
      "name": "python"
    },
    "widgets": {
      "application/vnd.jupyter.widget-state+json": {
        "132e487f196643b7b880783f9a3fdd82": {
          "model_module": "@jupyter-widgets/controls",
          "model_module_version": "1.5.0",
          "model_name": "HTMLModel",
          "state": {
            "_dom_classes": [],
            "_model_module": "@jupyter-widgets/controls",
            "_model_module_version": "1.5.0",
            "_model_name": "HTMLModel",
            "_view_count": null,
            "_view_module": "@jupyter-widgets/controls",
            "_view_module_version": "1.5.0",
            "_view_name": "HTMLView",
            "description": "",
            "description_tooltip": null,
            "layout": "IPY_MODEL_a7feec18f76b48e3a83a29d77073a921",
            "placeholder": "​",
            "style": "IPY_MODEL_b2e9af2e6fb747b09982574b23f38dbd",
            "value": " 629/629 [00:00&lt;00:00, 36.6kB/s]"
          }
        },
        "19bcf9b53c4f43c6bdb7466434a158fd": {
          "model_module": "@jupyter-widgets/controls",
          "model_module_version": "1.5.0",
          "model_name": "ProgressStyleModel",
          "state": {
            "_model_module": "@jupyter-widgets/controls",
            "_model_module_version": "1.5.0",
            "_model_name": "ProgressStyleModel",
            "_view_count": null,
            "_view_module": "@jupyter-widgets/base",
            "_view_module_version": "1.2.0",
            "_view_name": "StyleView",
            "bar_color": null,
            "description_width": ""
          }
        },
        "1a5b629ee35a4197a12b5d6fdce7f6a3": {
          "model_module": "@jupyter-widgets/controls",
          "model_module_version": "1.5.0",
          "model_name": "HBoxModel",
          "state": {
            "_dom_classes": [],
            "_model_module": "@jupyter-widgets/controls",
            "_model_module_version": "1.5.0",
            "_model_name": "HBoxModel",
            "_view_count": null,
            "_view_module": "@jupyter-widgets/controls",
            "_view_module_version": "1.5.0",
            "_view_name": "HBoxView",
            "box_style": "",
            "children": [
              "IPY_MODEL_6370dfcfca174ff18eecc5fcdc048248",
              "IPY_MODEL_3f05c73e191642bb829dbf3fa384174c",
              "IPY_MODEL_964e01fcffc64af3b917ce5fedb57748"
            ],
            "layout": "IPY_MODEL_54cf60967cbf4f389a1aa41968d4dc9a"
          }
        },
        "1bbac05a81ea485f8434dfc13b75f1f3": {
          "model_module": "@jupyter-widgets/controls",
          "model_module_version": "1.5.0",
          "model_name": "HTMLModel",
          "state": {
            "_dom_classes": [],
            "_model_module": "@jupyter-widgets/controls",
            "_model_module_version": "1.5.0",
            "_model_name": "HTMLModel",
            "_view_count": null,
            "_view_module": "@jupyter-widgets/controls",
            "_view_module_version": "1.5.0",
            "_view_name": "HTMLView",
            "description": "",
            "description_tooltip": null,
            "layout": "IPY_MODEL_bf75de5483914889a4a3c6794b25679e",
            "placeholder": "​",
            "style": "IPY_MODEL_205833cf0aa141309713d9f1975790b5",
            "value": "config.json: 100%"
          }
        },
        "1becbce208984d8794e39cc2fab4a27e": {
          "model_module": "@jupyter-widgets/base",
          "model_module_version": "1.2.0",
          "model_name": "LayoutModel",
          "state": {
            "_model_module": "@jupyter-widgets/base",
            "_model_module_version": "1.2.0",
            "_model_name": "LayoutModel",
            "_view_count": null,
            "_view_module": "@jupyter-widgets/base",
            "_view_module_version": "1.2.0",
            "_view_name": "LayoutView",
            "align_content": null,
            "align_items": null,
            "align_self": null,
            "border": null,
            "bottom": null,
            "display": null,
            "flex": null,
            "flex_flow": null,
            "grid_area": null,
            "grid_auto_columns": null,
            "grid_auto_flow": null,
            "grid_auto_rows": null,
            "grid_column": null,
            "grid_gap": null,
            "grid_row": null,
            "grid_template_areas": null,
            "grid_template_columns": null,
            "grid_template_rows": null,
            "height": null,
            "justify_content": null,
            "justify_items": null,
            "left": null,
            "margin": null,
            "max_height": null,
            "max_width": null,
            "min_height": null,
            "min_width": null,
            "object_fit": null,
            "object_position": null,
            "order": null,
            "overflow": null,
            "overflow_x": null,
            "overflow_y": null,
            "padding": null,
            "right": null,
            "top": null,
            "visibility": null,
            "width": null
          }
        },
        "205833cf0aa141309713d9f1975790b5": {
          "model_module": "@jupyter-widgets/controls",
          "model_module_version": "1.5.0",
          "model_name": "DescriptionStyleModel",
          "state": {
            "_model_module": "@jupyter-widgets/controls",
            "_model_module_version": "1.5.0",
            "_model_name": "DescriptionStyleModel",
            "_view_count": null,
            "_view_module": "@jupyter-widgets/base",
            "_view_module_version": "1.2.0",
            "_view_name": "StyleView",
            "description_width": ""
          }
        },
        "3bf725d0736c45d49d669f4b88bf6f3f": {
          "model_module": "@jupyter-widgets/controls",
          "model_module_version": "1.5.0",
          "model_name": "HBoxModel",
          "state": {
            "_dom_classes": [],
            "_model_module": "@jupyter-widgets/controls",
            "_model_module_version": "1.5.0",
            "_model_name": "HBoxModel",
            "_view_count": null,
            "_view_module": "@jupyter-widgets/controls",
            "_view_module_version": "1.5.0",
            "_view_name": "HBoxView",
            "box_style": "",
            "children": [
              "IPY_MODEL_69698057a22243be92910b06d7c340bb",
              "IPY_MODEL_575d169cb8c642bba9735467d3065387",
              "IPY_MODEL_59eb76d884bc4b2abfd7cb50aba3fdb7"
            ],
            "layout": "IPY_MODEL_4d0df47e2b864781883901feef1a701b"
          }
        },
        "3f05c73e191642bb829dbf3fa384174c": {
          "model_module": "@jupyter-widgets/controls",
          "model_module_version": "1.5.0",
          "model_name": "FloatProgressModel",
          "state": {
            "_dom_classes": [],
            "_model_module": "@jupyter-widgets/controls",
            "_model_module_version": "1.5.0",
            "_model_name": "FloatProgressModel",
            "_view_count": null,
            "_view_module": "@jupyter-widgets/controls",
            "_view_module_version": "1.5.0",
            "_view_name": "ProgressView",
            "bar_style": "success",
            "description": "",
            "description_tooltip": null,
            "layout": "IPY_MODEL_a97a2004ac854b0d99c62cd673d411db",
            "max": 267832558,
            "min": 0,
            "orientation": "horizontal",
            "style": "IPY_MODEL_19bcf9b53c4f43c6bdb7466434a158fd",
            "value": 267832558
          }
        },
        "4289a2a3039e4127b95e67f1e38d7e27": {
          "model_module": "@jupyter-widgets/controls",
          "model_module_version": "1.5.0",
          "model_name": "DescriptionStyleModel",
          "state": {
            "_model_module": "@jupyter-widgets/controls",
            "_model_module_version": "1.5.0",
            "_model_name": "DescriptionStyleModel",
            "_view_count": null,
            "_view_module": "@jupyter-widgets/base",
            "_view_module_version": "1.2.0",
            "_view_name": "StyleView",
            "description_width": ""
          }
        },
        "49602f4c08ee4547b9953e77d7838cd8": {
          "model_module": "@jupyter-widgets/base",
          "model_module_version": "1.2.0",
          "model_name": "LayoutModel",
          "state": {
            "_model_module": "@jupyter-widgets/base",
            "_model_module_version": "1.2.0",
            "_model_name": "LayoutModel",
            "_view_count": null,
            "_view_module": "@jupyter-widgets/base",
            "_view_module_version": "1.2.0",
            "_view_name": "LayoutView",
            "align_content": null,
            "align_items": null,
            "align_self": null,
            "border": null,
            "bottom": null,
            "display": null,
            "flex": null,
            "flex_flow": null,
            "grid_area": null,
            "grid_auto_columns": null,
            "grid_auto_flow": null,
            "grid_auto_rows": null,
            "grid_column": null,
            "grid_gap": null,
            "grid_row": null,
            "grid_template_areas": null,
            "grid_template_columns": null,
            "grid_template_rows": null,
            "height": null,
            "justify_content": null,
            "justify_items": null,
            "left": null,
            "margin": null,
            "max_height": null,
            "max_width": null,
            "min_height": null,
            "min_width": null,
            "object_fit": null,
            "object_position": null,
            "order": null,
            "overflow": null,
            "overflow_x": null,
            "overflow_y": null,
            "padding": null,
            "right": null,
            "top": null,
            "visibility": null,
            "width": null
          }
        },
        "4d0df47e2b864781883901feef1a701b": {
          "model_module": "@jupyter-widgets/base",
          "model_module_version": "1.2.0",
          "model_name": "LayoutModel",
          "state": {
            "_model_module": "@jupyter-widgets/base",
            "_model_module_version": "1.2.0",
            "_model_name": "LayoutModel",
            "_view_count": null,
            "_view_module": "@jupyter-widgets/base",
            "_view_module_version": "1.2.0",
            "_view_name": "LayoutView",
            "align_content": null,
            "align_items": null,
            "align_self": null,
            "border": null,
            "bottom": null,
            "display": null,
            "flex": null,
            "flex_flow": null,
            "grid_area": null,
            "grid_auto_columns": null,
            "grid_auto_flow": null,
            "grid_auto_rows": null,
            "grid_column": null,
            "grid_gap": null,
            "grid_row": null,
            "grid_template_areas": null,
            "grid_template_columns": null,
            "grid_template_rows": null,
            "height": null,
            "justify_content": null,
            "justify_items": null,
            "left": null,
            "margin": null,
            "max_height": null,
            "max_width": null,
            "min_height": null,
            "min_width": null,
            "object_fit": null,
            "object_position": null,
            "order": null,
            "overflow": null,
            "overflow_x": null,
            "overflow_y": null,
            "padding": null,
            "right": null,
            "top": null,
            "visibility": null,
            "width": null
          }
        },
        "54cf60967cbf4f389a1aa41968d4dc9a": {
          "model_module": "@jupyter-widgets/base",
          "model_module_version": "1.2.0",
          "model_name": "LayoutModel",
          "state": {
            "_model_module": "@jupyter-widgets/base",
            "_model_module_version": "1.2.0",
            "_model_name": "LayoutModel",
            "_view_count": null,
            "_view_module": "@jupyter-widgets/base",
            "_view_module_version": "1.2.0",
            "_view_name": "LayoutView",
            "align_content": null,
            "align_items": null,
            "align_self": null,
            "border": null,
            "bottom": null,
            "display": null,
            "flex": null,
            "flex_flow": null,
            "grid_area": null,
            "grid_auto_columns": null,
            "grid_auto_flow": null,
            "grid_auto_rows": null,
            "grid_column": null,
            "grid_gap": null,
            "grid_row": null,
            "grid_template_areas": null,
            "grid_template_columns": null,
            "grid_template_rows": null,
            "height": null,
            "justify_content": null,
            "justify_items": null,
            "left": null,
            "margin": null,
            "max_height": null,
            "max_width": null,
            "min_height": null,
            "min_width": null,
            "object_fit": null,
            "object_position": null,
            "order": null,
            "overflow": null,
            "overflow_x": null,
            "overflow_y": null,
            "padding": null,
            "right": null,
            "top": null,
            "visibility": null,
            "width": null
          }
        },
        "575d169cb8c642bba9735467d3065387": {
          "model_module": "@jupyter-widgets/controls",
          "model_module_version": "1.5.0",
          "model_name": "FloatProgressModel",
          "state": {
            "_dom_classes": [],
            "_model_module": "@jupyter-widgets/controls",
            "_model_module_version": "1.5.0",
            "_model_name": "FloatProgressModel",
            "_view_count": null,
            "_view_module": "@jupyter-widgets/controls",
            "_view_module_version": "1.5.0",
            "_view_name": "ProgressView",
            "bar_style": "success",
            "description": "",
            "description_tooltip": null,
            "layout": "IPY_MODEL_acea1d962a9048ec852bf3e4847efcbd",
            "max": 48,
            "min": 0,
            "orientation": "horizontal",
            "style": "IPY_MODEL_6d5f744a65ab4311a40a760a7bc8ce5a",
            "value": 48
          }
        },
        "59eb76d884bc4b2abfd7cb50aba3fdb7": {
          "model_module": "@jupyter-widgets/controls",
          "model_module_version": "1.5.0",
          "model_name": "HTMLModel",
          "state": {
            "_dom_classes": [],
            "_model_module": "@jupyter-widgets/controls",
            "_model_module_version": "1.5.0",
            "_model_name": "HTMLModel",
            "_view_count": null,
            "_view_module": "@jupyter-widgets/controls",
            "_view_module_version": "1.5.0",
            "_view_name": "HTMLView",
            "description": "",
            "description_tooltip": null,
            "layout": "IPY_MODEL_49602f4c08ee4547b9953e77d7838cd8",
            "placeholder": "​",
            "style": "IPY_MODEL_ac02157ed4ce43838e45b548f070f6e6",
            "value": " 48.0/48.0 [00:00&lt;00:00, 533B/s]"
          }
        },
        "6370dfcfca174ff18eecc5fcdc048248": {
          "model_module": "@jupyter-widgets/controls",
          "model_module_version": "1.5.0",
          "model_name": "HTMLModel",
          "state": {
            "_dom_classes": [],
            "_model_module": "@jupyter-widgets/controls",
            "_model_module_version": "1.5.0",
            "_model_name": "HTMLModel",
            "_view_count": null,
            "_view_module": "@jupyter-widgets/controls",
            "_view_module_version": "1.5.0",
            "_view_name": "HTMLView",
            "description": "",
            "description_tooltip": null,
            "layout": "IPY_MODEL_ce76e512a0a042be907c19d741f3dc29",
            "placeholder": "​",
            "style": "IPY_MODEL_cf7aeddbd55348acb9ec2407a9575ba9",
            "value": "model.safetensors: 100%"
          }
        },
        "69698057a22243be92910b06d7c340bb": {
          "model_module": "@jupyter-widgets/controls",
          "model_module_version": "1.5.0",
          "model_name": "HTMLModel",
          "state": {
            "_dom_classes": [],
            "_model_module": "@jupyter-widgets/controls",
            "_model_module_version": "1.5.0",
            "_model_name": "HTMLModel",
            "_view_count": null,
            "_view_module": "@jupyter-widgets/controls",
            "_view_module_version": "1.5.0",
            "_view_name": "HTMLView",
            "description": "",
            "description_tooltip": null,
            "layout": "IPY_MODEL_bbdace57030a43aca499b6577f3cdaae",
            "placeholder": "​",
            "style": "IPY_MODEL_4289a2a3039e4127b95e67f1e38d7e27",
            "value": "tokenizer_config.json: 100%"
          }
        },
        "6d5f744a65ab4311a40a760a7bc8ce5a": {
          "model_module": "@jupyter-widgets/controls",
          "model_module_version": "1.5.0",
          "model_name": "ProgressStyleModel",
          "state": {
            "_model_module": "@jupyter-widgets/controls",
            "_model_module_version": "1.5.0",
            "_model_name": "ProgressStyleModel",
            "_view_count": null,
            "_view_module": "@jupyter-widgets/base",
            "_view_module_version": "1.2.0",
            "_view_name": "StyleView",
            "bar_color": null,
            "description_width": ""
          }
        },
        "7daf56ea971f4eceab3e6fc02d2184f7": {
          "model_module": "@jupyter-widgets/controls",
          "model_module_version": "1.5.0",
          "model_name": "HBoxModel",
          "state": {
            "_dom_classes": [],
            "_model_module": "@jupyter-widgets/controls",
            "_model_module_version": "1.5.0",
            "_model_name": "HBoxModel",
            "_view_count": null,
            "_view_module": "@jupyter-widgets/controls",
            "_view_module_version": "1.5.0",
            "_view_name": "HBoxView",
            "box_style": "",
            "children": [
              "IPY_MODEL_dafdf83263a74fcea91d329e6911cbe0",
              "IPY_MODEL_833b28c77bca4146ac8809e55f6b7b62",
              "IPY_MODEL_d24f48067a3c4568aa14d97de242998f"
            ],
            "layout": "IPY_MODEL_cab05b2c10b14028bfa924ea63332042"
          }
        },
        "81033c604f9d4e3a92f64e35db77a388": {
          "model_module": "@jupyter-widgets/controls",
          "model_module_version": "1.5.0",
          "model_name": "HBoxModel",
          "state": {
            "_dom_classes": [],
            "_model_module": "@jupyter-widgets/controls",
            "_model_module_version": "1.5.0",
            "_model_name": "HBoxModel",
            "_view_count": null,
            "_view_module": "@jupyter-widgets/controls",
            "_view_module_version": "1.5.0",
            "_view_name": "HBoxView",
            "box_style": "",
            "children": [
              "IPY_MODEL_1bbac05a81ea485f8434dfc13b75f1f3",
              "IPY_MODEL_cf9f497ffb0145e0abf30305adf78b42",
              "IPY_MODEL_132e487f196643b7b880783f9a3fdd82"
            ],
            "layout": "IPY_MODEL_f044df18b3a047daab5f6fced799d943"
          }
        },
        "82d7c157d9e142c084fe717fa8ecd6e7": {
          "model_module": "@jupyter-widgets/controls",
          "model_module_version": "1.5.0",
          "model_name": "DescriptionStyleModel",
          "state": {
            "_model_module": "@jupyter-widgets/controls",
            "_model_module_version": "1.5.0",
            "_model_name": "DescriptionStyleModel",
            "_view_count": null,
            "_view_module": "@jupyter-widgets/base",
            "_view_module_version": "1.2.0",
            "_view_name": "StyleView",
            "description_width": ""
          }
        },
        "833b28c77bca4146ac8809e55f6b7b62": {
          "model_module": "@jupyter-widgets/controls",
          "model_module_version": "1.5.0",
          "model_name": "FloatProgressModel",
          "state": {
            "_dom_classes": [],
            "_model_module": "@jupyter-widgets/controls",
            "_model_module_version": "1.5.0",
            "_model_name": "FloatProgressModel",
            "_view_count": null,
            "_view_module": "@jupyter-widgets/controls",
            "_view_module_version": "1.5.0",
            "_view_name": "ProgressView",
            "bar_style": "success",
            "description": "",
            "description_tooltip": null,
            "layout": "IPY_MODEL_1becbce208984d8794e39cc2fab4a27e",
            "max": 231508,
            "min": 0,
            "orientation": "horizontal",
            "style": "IPY_MODEL_9fe2e3124e4d4865b6cacf48c5324ccb",
            "value": 231508
          }
        },
        "84855dfb8f9645f2bffa11f0ed991fd7": {
          "model_module": "@jupyter-widgets/controls",
          "model_module_version": "1.5.0",
          "model_name": "DescriptionStyleModel",
          "state": {
            "_model_module": "@jupyter-widgets/controls",
            "_model_module_version": "1.5.0",
            "_model_name": "DescriptionStyleModel",
            "_view_count": null,
            "_view_module": "@jupyter-widgets/base",
            "_view_module_version": "1.2.0",
            "_view_name": "StyleView",
            "description_width": ""
          }
        },
        "964e01fcffc64af3b917ce5fedb57748": {
          "model_module": "@jupyter-widgets/controls",
          "model_module_version": "1.5.0",
          "model_name": "HTMLModel",
          "state": {
            "_dom_classes": [],
            "_model_module": "@jupyter-widgets/controls",
            "_model_module_version": "1.5.0",
            "_model_name": "HTMLModel",
            "_view_count": null,
            "_view_module": "@jupyter-widgets/controls",
            "_view_module_version": "1.5.0",
            "_view_name": "HTMLView",
            "description": "",
            "description_tooltip": null,
            "layout": "IPY_MODEL_b060f7480f844c35bb9144a8545aa7e6",
            "placeholder": "​",
            "style": "IPY_MODEL_84855dfb8f9645f2bffa11f0ed991fd7",
            "value": " 268M/268M [00:02&lt;00:00, 113MB/s]"
          }
        },
        "9e3a73d61bb34b70813271bfb3ab0c26": {
          "model_module": "@jupyter-widgets/controls",
          "model_module_version": "1.5.0",
          "model_name": "DescriptionStyleModel",
          "state": {
            "_model_module": "@jupyter-widgets/controls",
            "_model_module_version": "1.5.0",
            "_model_name": "DescriptionStyleModel",
            "_view_count": null,
            "_view_module": "@jupyter-widgets/base",
            "_view_module_version": "1.2.0",
            "_view_name": "StyleView",
            "description_width": ""
          }
        },
        "9fe2e3124e4d4865b6cacf48c5324ccb": {
          "model_module": "@jupyter-widgets/controls",
          "model_module_version": "1.5.0",
          "model_name": "ProgressStyleModel",
          "state": {
            "_model_module": "@jupyter-widgets/controls",
            "_model_module_version": "1.5.0",
            "_model_name": "ProgressStyleModel",
            "_view_count": null,
            "_view_module": "@jupyter-widgets/base",
            "_view_module_version": "1.2.0",
            "_view_name": "StyleView",
            "bar_color": null,
            "description_width": ""
          }
        },
        "a7feec18f76b48e3a83a29d77073a921": {
          "model_module": "@jupyter-widgets/base",
          "model_module_version": "1.2.0",
          "model_name": "LayoutModel",
          "state": {
            "_model_module": "@jupyter-widgets/base",
            "_model_module_version": "1.2.0",
            "_model_name": "LayoutModel",
            "_view_count": null,
            "_view_module": "@jupyter-widgets/base",
            "_view_module_version": "1.2.0",
            "_view_name": "LayoutView",
            "align_content": null,
            "align_items": null,
            "align_self": null,
            "border": null,
            "bottom": null,
            "display": null,
            "flex": null,
            "flex_flow": null,
            "grid_area": null,
            "grid_auto_columns": null,
            "grid_auto_flow": null,
            "grid_auto_rows": null,
            "grid_column": null,
            "grid_gap": null,
            "grid_row": null,
            "grid_template_areas": null,
            "grid_template_columns": null,
            "grid_template_rows": null,
            "height": null,
            "justify_content": null,
            "justify_items": null,
            "left": null,
            "margin": null,
            "max_height": null,
            "max_width": null,
            "min_height": null,
            "min_width": null,
            "object_fit": null,
            "object_position": null,
            "order": null,
            "overflow": null,
            "overflow_x": null,
            "overflow_y": null,
            "padding": null,
            "right": null,
            "top": null,
            "visibility": null,
            "width": null
          }
        },
        "a97a2004ac854b0d99c62cd673d411db": {
          "model_module": "@jupyter-widgets/base",
          "model_module_version": "1.2.0",
          "model_name": "LayoutModel",
          "state": {
            "_model_module": "@jupyter-widgets/base",
            "_model_module_version": "1.2.0",
            "_model_name": "LayoutModel",
            "_view_count": null,
            "_view_module": "@jupyter-widgets/base",
            "_view_module_version": "1.2.0",
            "_view_name": "LayoutView",
            "align_content": null,
            "align_items": null,
            "align_self": null,
            "border": null,
            "bottom": null,
            "display": null,
            "flex": null,
            "flex_flow": null,
            "grid_area": null,
            "grid_auto_columns": null,
            "grid_auto_flow": null,
            "grid_auto_rows": null,
            "grid_column": null,
            "grid_gap": null,
            "grid_row": null,
            "grid_template_areas": null,
            "grid_template_columns": null,
            "grid_template_rows": null,
            "height": null,
            "justify_content": null,
            "justify_items": null,
            "left": null,
            "margin": null,
            "max_height": null,
            "max_width": null,
            "min_height": null,
            "min_width": null,
            "object_fit": null,
            "object_position": null,
            "order": null,
            "overflow": null,
            "overflow_x": null,
            "overflow_y": null,
            "padding": null,
            "right": null,
            "top": null,
            "visibility": null,
            "width": null
          }
        },
        "ac02157ed4ce43838e45b548f070f6e6": {
          "model_module": "@jupyter-widgets/controls",
          "model_module_version": "1.5.0",
          "model_name": "DescriptionStyleModel",
          "state": {
            "_model_module": "@jupyter-widgets/controls",
            "_model_module_version": "1.5.0",
            "_model_name": "DescriptionStyleModel",
            "_view_count": null,
            "_view_module": "@jupyter-widgets/base",
            "_view_module_version": "1.2.0",
            "_view_name": "StyleView",
            "description_width": ""
          }
        },
        "acea1d962a9048ec852bf3e4847efcbd": {
          "model_module": "@jupyter-widgets/base",
          "model_module_version": "1.2.0",
          "model_name": "LayoutModel",
          "state": {
            "_model_module": "@jupyter-widgets/base",
            "_model_module_version": "1.2.0",
            "_model_name": "LayoutModel",
            "_view_count": null,
            "_view_module": "@jupyter-widgets/base",
            "_view_module_version": "1.2.0",
            "_view_name": "LayoutView",
            "align_content": null,
            "align_items": null,
            "align_self": null,
            "border": null,
            "bottom": null,
            "display": null,
            "flex": null,
            "flex_flow": null,
            "grid_area": null,
            "grid_auto_columns": null,
            "grid_auto_flow": null,
            "grid_auto_rows": null,
            "grid_column": null,
            "grid_gap": null,
            "grid_row": null,
            "grid_template_areas": null,
            "grid_template_columns": null,
            "grid_template_rows": null,
            "height": null,
            "justify_content": null,
            "justify_items": null,
            "left": null,
            "margin": null,
            "max_height": null,
            "max_width": null,
            "min_height": null,
            "min_width": null,
            "object_fit": null,
            "object_position": null,
            "order": null,
            "overflow": null,
            "overflow_x": null,
            "overflow_y": null,
            "padding": null,
            "right": null,
            "top": null,
            "visibility": null,
            "width": null
          }
        },
        "b060f7480f844c35bb9144a8545aa7e6": {
          "model_module": "@jupyter-widgets/base",
          "model_module_version": "1.2.0",
          "model_name": "LayoutModel",
          "state": {
            "_model_module": "@jupyter-widgets/base",
            "_model_module_version": "1.2.0",
            "_model_name": "LayoutModel",
            "_view_count": null,
            "_view_module": "@jupyter-widgets/base",
            "_view_module_version": "1.2.0",
            "_view_name": "LayoutView",
            "align_content": null,
            "align_items": null,
            "align_self": null,
            "border": null,
            "bottom": null,
            "display": null,
            "flex": null,
            "flex_flow": null,
            "grid_area": null,
            "grid_auto_columns": null,
            "grid_auto_flow": null,
            "grid_auto_rows": null,
            "grid_column": null,
            "grid_gap": null,
            "grid_row": null,
            "grid_template_areas": null,
            "grid_template_columns": null,
            "grid_template_rows": null,
            "height": null,
            "justify_content": null,
            "justify_items": null,
            "left": null,
            "margin": null,
            "max_height": null,
            "max_width": null,
            "min_height": null,
            "min_width": null,
            "object_fit": null,
            "object_position": null,
            "order": null,
            "overflow": null,
            "overflow_x": null,
            "overflow_y": null,
            "padding": null,
            "right": null,
            "top": null,
            "visibility": null,
            "width": null
          }
        },
        "b2e9af2e6fb747b09982574b23f38dbd": {
          "model_module": "@jupyter-widgets/controls",
          "model_module_version": "1.5.0",
          "model_name": "DescriptionStyleModel",
          "state": {
            "_model_module": "@jupyter-widgets/controls",
            "_model_module_version": "1.5.0",
            "_model_name": "DescriptionStyleModel",
            "_view_count": null,
            "_view_module": "@jupyter-widgets/base",
            "_view_module_version": "1.2.0",
            "_view_name": "StyleView",
            "description_width": ""
          }
        },
        "bbdace57030a43aca499b6577f3cdaae": {
          "model_module": "@jupyter-widgets/base",
          "model_module_version": "1.2.0",
          "model_name": "LayoutModel",
          "state": {
            "_model_module": "@jupyter-widgets/base",
            "_model_module_version": "1.2.0",
            "_model_name": "LayoutModel",
            "_view_count": null,
            "_view_module": "@jupyter-widgets/base",
            "_view_module_version": "1.2.0",
            "_view_name": "LayoutView",
            "align_content": null,
            "align_items": null,
            "align_self": null,
            "border": null,
            "bottom": null,
            "display": null,
            "flex": null,
            "flex_flow": null,
            "grid_area": null,
            "grid_auto_columns": null,
            "grid_auto_flow": null,
            "grid_auto_rows": null,
            "grid_column": null,
            "grid_gap": null,
            "grid_row": null,
            "grid_template_areas": null,
            "grid_template_columns": null,
            "grid_template_rows": null,
            "height": null,
            "justify_content": null,
            "justify_items": null,
            "left": null,
            "margin": null,
            "max_height": null,
            "max_width": null,
            "min_height": null,
            "min_width": null,
            "object_fit": null,
            "object_position": null,
            "order": null,
            "overflow": null,
            "overflow_x": null,
            "overflow_y": null,
            "padding": null,
            "right": null,
            "top": null,
            "visibility": null,
            "width": null
          }
        },
        "bf75de5483914889a4a3c6794b25679e": {
          "model_module": "@jupyter-widgets/base",
          "model_module_version": "1.2.0",
          "model_name": "LayoutModel",
          "state": {
            "_model_module": "@jupyter-widgets/base",
            "_model_module_version": "1.2.0",
            "_model_name": "LayoutModel",
            "_view_count": null,
            "_view_module": "@jupyter-widgets/base",
            "_view_module_version": "1.2.0",
            "_view_name": "LayoutView",
            "align_content": null,
            "align_items": null,
            "align_self": null,
            "border": null,
            "bottom": null,
            "display": null,
            "flex": null,
            "flex_flow": null,
            "grid_area": null,
            "grid_auto_columns": null,
            "grid_auto_flow": null,
            "grid_auto_rows": null,
            "grid_column": null,
            "grid_gap": null,
            "grid_row": null,
            "grid_template_areas": null,
            "grid_template_columns": null,
            "grid_template_rows": null,
            "height": null,
            "justify_content": null,
            "justify_items": null,
            "left": null,
            "margin": null,
            "max_height": null,
            "max_width": null,
            "min_height": null,
            "min_width": null,
            "object_fit": null,
            "object_position": null,
            "order": null,
            "overflow": null,
            "overflow_x": null,
            "overflow_y": null,
            "padding": null,
            "right": null,
            "top": null,
            "visibility": null,
            "width": null
          }
        },
        "c3a74577539f499bac0a5f176af2b51a": {
          "model_module": "@jupyter-widgets/base",
          "model_module_version": "1.2.0",
          "model_name": "LayoutModel",
          "state": {
            "_model_module": "@jupyter-widgets/base",
            "_model_module_version": "1.2.0",
            "_model_name": "LayoutModel",
            "_view_count": null,
            "_view_module": "@jupyter-widgets/base",
            "_view_module_version": "1.2.0",
            "_view_name": "LayoutView",
            "align_content": null,
            "align_items": null,
            "align_self": null,
            "border": null,
            "bottom": null,
            "display": null,
            "flex": null,
            "flex_flow": null,
            "grid_area": null,
            "grid_auto_columns": null,
            "grid_auto_flow": null,
            "grid_auto_rows": null,
            "grid_column": null,
            "grid_gap": null,
            "grid_row": null,
            "grid_template_areas": null,
            "grid_template_columns": null,
            "grid_template_rows": null,
            "height": null,
            "justify_content": null,
            "justify_items": null,
            "left": null,
            "margin": null,
            "max_height": null,
            "max_width": null,
            "min_height": null,
            "min_width": null,
            "object_fit": null,
            "object_position": null,
            "order": null,
            "overflow": null,
            "overflow_x": null,
            "overflow_y": null,
            "padding": null,
            "right": null,
            "top": null,
            "visibility": null,
            "width": null
          }
        },
        "cab05b2c10b14028bfa924ea63332042": {
          "model_module": "@jupyter-widgets/base",
          "model_module_version": "1.2.0",
          "model_name": "LayoutModel",
          "state": {
            "_model_module": "@jupyter-widgets/base",
            "_model_module_version": "1.2.0",
            "_model_name": "LayoutModel",
            "_view_count": null,
            "_view_module": "@jupyter-widgets/base",
            "_view_module_version": "1.2.0",
            "_view_name": "LayoutView",
            "align_content": null,
            "align_items": null,
            "align_self": null,
            "border": null,
            "bottom": null,
            "display": null,
            "flex": null,
            "flex_flow": null,
            "grid_area": null,
            "grid_auto_columns": null,
            "grid_auto_flow": null,
            "grid_auto_rows": null,
            "grid_column": null,
            "grid_gap": null,
            "grid_row": null,
            "grid_template_areas": null,
            "grid_template_columns": null,
            "grid_template_rows": null,
            "height": null,
            "justify_content": null,
            "justify_items": null,
            "left": null,
            "margin": null,
            "max_height": null,
            "max_width": null,
            "min_height": null,
            "min_width": null,
            "object_fit": null,
            "object_position": null,
            "order": null,
            "overflow": null,
            "overflow_x": null,
            "overflow_y": null,
            "padding": null,
            "right": null,
            "top": null,
            "visibility": null,
            "width": null
          }
        },
        "ce76e512a0a042be907c19d741f3dc29": {
          "model_module": "@jupyter-widgets/base",
          "model_module_version": "1.2.0",
          "model_name": "LayoutModel",
          "state": {
            "_model_module": "@jupyter-widgets/base",
            "_model_module_version": "1.2.0",
            "_model_name": "LayoutModel",
            "_view_count": null,
            "_view_module": "@jupyter-widgets/base",
            "_view_module_version": "1.2.0",
            "_view_name": "LayoutView",
            "align_content": null,
            "align_items": null,
            "align_self": null,
            "border": null,
            "bottom": null,
            "display": null,
            "flex": null,
            "flex_flow": null,
            "grid_area": null,
            "grid_auto_columns": null,
            "grid_auto_flow": null,
            "grid_auto_rows": null,
            "grid_column": null,
            "grid_gap": null,
            "grid_row": null,
            "grid_template_areas": null,
            "grid_template_columns": null,
            "grid_template_rows": null,
            "height": null,
            "justify_content": null,
            "justify_items": null,
            "left": null,
            "margin": null,
            "max_height": null,
            "max_width": null,
            "min_height": null,
            "min_width": null,
            "object_fit": null,
            "object_position": null,
            "order": null,
            "overflow": null,
            "overflow_x": null,
            "overflow_y": null,
            "padding": null,
            "right": null,
            "top": null,
            "visibility": null,
            "width": null
          }
        },
        "cf7aeddbd55348acb9ec2407a9575ba9": {
          "model_module": "@jupyter-widgets/controls",
          "model_module_version": "1.5.0",
          "model_name": "DescriptionStyleModel",
          "state": {
            "_model_module": "@jupyter-widgets/controls",
            "_model_module_version": "1.5.0",
            "_model_name": "DescriptionStyleModel",
            "_view_count": null,
            "_view_module": "@jupyter-widgets/base",
            "_view_module_version": "1.2.0",
            "_view_name": "StyleView",
            "description_width": ""
          }
        },
        "cf9f497ffb0145e0abf30305adf78b42": {
          "model_module": "@jupyter-widgets/controls",
          "model_module_version": "1.5.0",
          "model_name": "FloatProgressModel",
          "state": {
            "_dom_classes": [],
            "_model_module": "@jupyter-widgets/controls",
            "_model_module_version": "1.5.0",
            "_model_name": "FloatProgressModel",
            "_view_count": null,
            "_view_module": "@jupyter-widgets/controls",
            "_view_module_version": "1.5.0",
            "_view_name": "ProgressView",
            "bar_style": "success",
            "description": "",
            "description_tooltip": null,
            "layout": "IPY_MODEL_d77075569f094a38bae817a062ce67ff",
            "max": 629,
            "min": 0,
            "orientation": "horizontal",
            "style": "IPY_MODEL_d3b7c0f7be2646f8a340c8d7eac185de",
            "value": 629
          }
        },
        "d24f48067a3c4568aa14d97de242998f": {
          "model_module": "@jupyter-widgets/controls",
          "model_module_version": "1.5.0",
          "model_name": "HTMLModel",
          "state": {
            "_dom_classes": [],
            "_model_module": "@jupyter-widgets/controls",
            "_model_module_version": "1.5.0",
            "_model_name": "HTMLModel",
            "_view_count": null,
            "_view_module": "@jupyter-widgets/controls",
            "_view_module_version": "1.5.0",
            "_view_name": "HTMLView",
            "description": "",
            "description_tooltip": null,
            "layout": "IPY_MODEL_e4ac8a23c29946c6a371313552735e12",
            "placeholder": "​",
            "style": "IPY_MODEL_9e3a73d61bb34b70813271bfb3ab0c26",
            "value": " 232k/232k [00:00&lt;00:00, 4.75MB/s]"
          }
        },
        "d3b7c0f7be2646f8a340c8d7eac185de": {
          "model_module": "@jupyter-widgets/controls",
          "model_module_version": "1.5.0",
          "model_name": "ProgressStyleModel",
          "state": {
            "_model_module": "@jupyter-widgets/controls",
            "_model_module_version": "1.5.0",
            "_model_name": "ProgressStyleModel",
            "_view_count": null,
            "_view_module": "@jupyter-widgets/base",
            "_view_module_version": "1.2.0",
            "_view_name": "StyleView",
            "bar_color": null,
            "description_width": ""
          }
        },
        "d77075569f094a38bae817a062ce67ff": {
          "model_module": "@jupyter-widgets/base",
          "model_module_version": "1.2.0",
          "model_name": "LayoutModel",
          "state": {
            "_model_module": "@jupyter-widgets/base",
            "_model_module_version": "1.2.0",
            "_model_name": "LayoutModel",
            "_view_count": null,
            "_view_module": "@jupyter-widgets/base",
            "_view_module_version": "1.2.0",
            "_view_name": "LayoutView",
            "align_content": null,
            "align_items": null,
            "align_self": null,
            "border": null,
            "bottom": null,
            "display": null,
            "flex": null,
            "flex_flow": null,
            "grid_area": null,
            "grid_auto_columns": null,
            "grid_auto_flow": null,
            "grid_auto_rows": null,
            "grid_column": null,
            "grid_gap": null,
            "grid_row": null,
            "grid_template_areas": null,
            "grid_template_columns": null,
            "grid_template_rows": null,
            "height": null,
            "justify_content": null,
            "justify_items": null,
            "left": null,
            "margin": null,
            "max_height": null,
            "max_width": null,
            "min_height": null,
            "min_width": null,
            "object_fit": null,
            "object_position": null,
            "order": null,
            "overflow": null,
            "overflow_x": null,
            "overflow_y": null,
            "padding": null,
            "right": null,
            "top": null,
            "visibility": null,
            "width": null
          }
        },
        "dafdf83263a74fcea91d329e6911cbe0": {
          "model_module": "@jupyter-widgets/controls",
          "model_module_version": "1.5.0",
          "model_name": "HTMLModel",
          "state": {
            "_dom_classes": [],
            "_model_module": "@jupyter-widgets/controls",
            "_model_module_version": "1.5.0",
            "_model_name": "HTMLModel",
            "_view_count": null,
            "_view_module": "@jupyter-widgets/controls",
            "_view_module_version": "1.5.0",
            "_view_name": "HTMLView",
            "description": "",
            "description_tooltip": null,
            "layout": "IPY_MODEL_c3a74577539f499bac0a5f176af2b51a",
            "placeholder": "​",
            "style": "IPY_MODEL_82d7c157d9e142c084fe717fa8ecd6e7",
            "value": "vocab.txt: 100%"
          }
        },
        "e4ac8a23c29946c6a371313552735e12": {
          "model_module": "@jupyter-widgets/base",
          "model_module_version": "1.2.0",
          "model_name": "LayoutModel",
          "state": {
            "_model_module": "@jupyter-widgets/base",
            "_model_module_version": "1.2.0",
            "_model_name": "LayoutModel",
            "_view_count": null,
            "_view_module": "@jupyter-widgets/base",
            "_view_module_version": "1.2.0",
            "_view_name": "LayoutView",
            "align_content": null,
            "align_items": null,
            "align_self": null,
            "border": null,
            "bottom": null,
            "display": null,
            "flex": null,
            "flex_flow": null,
            "grid_area": null,
            "grid_auto_columns": null,
            "grid_auto_flow": null,
            "grid_auto_rows": null,
            "grid_column": null,
            "grid_gap": null,
            "grid_row": null,
            "grid_template_areas": null,
            "grid_template_columns": null,
            "grid_template_rows": null,
            "height": null,
            "justify_content": null,
            "justify_items": null,
            "left": null,
            "margin": null,
            "max_height": null,
            "max_width": null,
            "min_height": null,
            "min_width": null,
            "object_fit": null,
            "object_position": null,
            "order": null,
            "overflow": null,
            "overflow_x": null,
            "overflow_y": null,
            "padding": null,
            "right": null,
            "top": null,
            "visibility": null,
            "width": null
          }
        },
        "f044df18b3a047daab5f6fced799d943": {
          "model_module": "@jupyter-widgets/base",
          "model_module_version": "1.2.0",
          "model_name": "LayoutModel",
          "state": {
            "_model_module": "@jupyter-widgets/base",
            "_model_module_version": "1.2.0",
            "_model_name": "LayoutModel",
            "_view_count": null,
            "_view_module": "@jupyter-widgets/base",
            "_view_module_version": "1.2.0",
            "_view_name": "LayoutView",
            "align_content": null,
            "align_items": null,
            "align_self": null,
            "border": null,
            "bottom": null,
            "display": null,
            "flex": null,
            "flex_flow": null,
            "grid_area": null,
            "grid_auto_columns": null,
            "grid_auto_flow": null,
            "grid_auto_rows": null,
            "grid_column": null,
            "grid_gap": null,
            "grid_row": null,
            "grid_template_areas": null,
            "grid_template_columns": null,
            "grid_template_rows": null,
            "height": null,
            "justify_content": null,
            "justify_items": null,
            "left": null,
            "margin": null,
            "max_height": null,
            "max_width": null,
            "min_height": null,
            "min_width": null,
            "object_fit": null,
            "object_position": null,
            "order": null,
            "overflow": null,
            "overflow_x": null,
            "overflow_y": null,
            "padding": null,
            "right": null,
            "top": null,
            "visibility": null,
            "width": null
          }
        },
        "e030ccdcfd9a49008536d6a5b990515a": {
          "model_module": "@jupyter-widgets/controls",
          "model_name": "HBoxModel",
          "model_module_version": "1.5.0",
          "state": {
            "_dom_classes": [],
            "_model_module": "@jupyter-widgets/controls",
            "_model_module_version": "1.5.0",
            "_model_name": "HBoxModel",
            "_view_count": null,
            "_view_module": "@jupyter-widgets/controls",
            "_view_module_version": "1.5.0",
            "_view_name": "HBoxView",
            "box_style": "",
            "children": [
              "IPY_MODEL_1f74f2896161402b9b1581a978508cde",
              "IPY_MODEL_67754efb5bac4532bcdc6eb44b0a43b1",
              "IPY_MODEL_6d6ddb4bd63c4079ae5b3b0360a464de"
            ],
            "layout": "IPY_MODEL_801f13c0d91b4b0cb3d7ebb653bcd23f"
          }
        },
        "1f74f2896161402b9b1581a978508cde": {
          "model_module": "@jupyter-widgets/controls",
          "model_name": "HTMLModel",
          "model_module_version": "1.5.0",
          "state": {
            "_dom_classes": [],
            "_model_module": "@jupyter-widgets/controls",
            "_model_module_version": "1.5.0",
            "_model_name": "HTMLModel",
            "_view_count": null,
            "_view_module": "@jupyter-widgets/controls",
            "_view_module_version": "1.5.0",
            "_view_name": "HTMLView",
            "description": "",
            "description_tooltip": null,
            "layout": "IPY_MODEL_8b003d62ecd942ab83b031fc35adcfbc",
            "placeholder": "​",
            "style": "IPY_MODEL_6aa648c54e1d4e53bce7f74b2eafeb77",
            "value": "tokenizer_config.json: 100%"
          }
        },
        "67754efb5bac4532bcdc6eb44b0a43b1": {
          "model_module": "@jupyter-widgets/controls",
          "model_name": "FloatProgressModel",
          "model_module_version": "1.5.0",
          "state": {
            "_dom_classes": [],
            "_model_module": "@jupyter-widgets/controls",
            "_model_module_version": "1.5.0",
            "_model_name": "FloatProgressModel",
            "_view_count": null,
            "_view_module": "@jupyter-widgets/controls",
            "_view_module_version": "1.5.0",
            "_view_name": "ProgressView",
            "bar_style": "success",
            "description": "",
            "description_tooltip": null,
            "layout": "IPY_MODEL_33af6f64785d48c7bf5dd3d7b208cd23",
            "max": 48,
            "min": 0,
            "orientation": "horizontal",
            "style": "IPY_MODEL_90cf669d17f948f3b4ff7f635fd61631",
            "value": 48
          }
        },
        "6d6ddb4bd63c4079ae5b3b0360a464de": {
          "model_module": "@jupyter-widgets/controls",
          "model_name": "HTMLModel",
          "model_module_version": "1.5.0",
          "state": {
            "_dom_classes": [],
            "_model_module": "@jupyter-widgets/controls",
            "_model_module_version": "1.5.0",
            "_model_name": "HTMLModel",
            "_view_count": null,
            "_view_module": "@jupyter-widgets/controls",
            "_view_module_version": "1.5.0",
            "_view_name": "HTMLView",
            "description": "",
            "description_tooltip": null,
            "layout": "IPY_MODEL_74711bb3bd37494bbf703e311852ebf6",
            "placeholder": "​",
            "style": "IPY_MODEL_fd961db4338947b9a6138294999b13c8",
            "value": " 48.0/48.0 [00:00&lt;00:00, 1.45kB/s]"
          }
        },
        "801f13c0d91b4b0cb3d7ebb653bcd23f": {
          "model_module": "@jupyter-widgets/base",
          "model_name": "LayoutModel",
          "model_module_version": "1.2.0",
          "state": {
            "_model_module": "@jupyter-widgets/base",
            "_model_module_version": "1.2.0",
            "_model_name": "LayoutModel",
            "_view_count": null,
            "_view_module": "@jupyter-widgets/base",
            "_view_module_version": "1.2.0",
            "_view_name": "LayoutView",
            "align_content": null,
            "align_items": null,
            "align_self": null,
            "border": null,
            "bottom": null,
            "display": null,
            "flex": null,
            "flex_flow": null,
            "grid_area": null,
            "grid_auto_columns": null,
            "grid_auto_flow": null,
            "grid_auto_rows": null,
            "grid_column": null,
            "grid_gap": null,
            "grid_row": null,
            "grid_template_areas": null,
            "grid_template_columns": null,
            "grid_template_rows": null,
            "height": null,
            "justify_content": null,
            "justify_items": null,
            "left": null,
            "margin": null,
            "max_height": null,
            "max_width": null,
            "min_height": null,
            "min_width": null,
            "object_fit": null,
            "object_position": null,
            "order": null,
            "overflow": null,
            "overflow_x": null,
            "overflow_y": null,
            "padding": null,
            "right": null,
            "top": null,
            "visibility": null,
            "width": null
          }
        },
        "8b003d62ecd942ab83b031fc35adcfbc": {
          "model_module": "@jupyter-widgets/base",
          "model_name": "LayoutModel",
          "model_module_version": "1.2.0",
          "state": {
            "_model_module": "@jupyter-widgets/base",
            "_model_module_version": "1.2.0",
            "_model_name": "LayoutModel",
            "_view_count": null,
            "_view_module": "@jupyter-widgets/base",
            "_view_module_version": "1.2.0",
            "_view_name": "LayoutView",
            "align_content": null,
            "align_items": null,
            "align_self": null,
            "border": null,
            "bottom": null,
            "display": null,
            "flex": null,
            "flex_flow": null,
            "grid_area": null,
            "grid_auto_columns": null,
            "grid_auto_flow": null,
            "grid_auto_rows": null,
            "grid_column": null,
            "grid_gap": null,
            "grid_row": null,
            "grid_template_areas": null,
            "grid_template_columns": null,
            "grid_template_rows": null,
            "height": null,
            "justify_content": null,
            "justify_items": null,
            "left": null,
            "margin": null,
            "max_height": null,
            "max_width": null,
            "min_height": null,
            "min_width": null,
            "object_fit": null,
            "object_position": null,
            "order": null,
            "overflow": null,
            "overflow_x": null,
            "overflow_y": null,
            "padding": null,
            "right": null,
            "top": null,
            "visibility": null,
            "width": null
          }
        },
        "6aa648c54e1d4e53bce7f74b2eafeb77": {
          "model_module": "@jupyter-widgets/controls",
          "model_name": "DescriptionStyleModel",
          "model_module_version": "1.5.0",
          "state": {
            "_model_module": "@jupyter-widgets/controls",
            "_model_module_version": "1.5.0",
            "_model_name": "DescriptionStyleModel",
            "_view_count": null,
            "_view_module": "@jupyter-widgets/base",
            "_view_module_version": "1.2.0",
            "_view_name": "StyleView",
            "description_width": ""
          }
        },
        "33af6f64785d48c7bf5dd3d7b208cd23": {
          "model_module": "@jupyter-widgets/base",
          "model_name": "LayoutModel",
          "model_module_version": "1.2.0",
          "state": {
            "_model_module": "@jupyter-widgets/base",
            "_model_module_version": "1.2.0",
            "_model_name": "LayoutModel",
            "_view_count": null,
            "_view_module": "@jupyter-widgets/base",
            "_view_module_version": "1.2.0",
            "_view_name": "LayoutView",
            "align_content": null,
            "align_items": null,
            "align_self": null,
            "border": null,
            "bottom": null,
            "display": null,
            "flex": null,
            "flex_flow": null,
            "grid_area": null,
            "grid_auto_columns": null,
            "grid_auto_flow": null,
            "grid_auto_rows": null,
            "grid_column": null,
            "grid_gap": null,
            "grid_row": null,
            "grid_template_areas": null,
            "grid_template_columns": null,
            "grid_template_rows": null,
            "height": null,
            "justify_content": null,
            "justify_items": null,
            "left": null,
            "margin": null,
            "max_height": null,
            "max_width": null,
            "min_height": null,
            "min_width": null,
            "object_fit": null,
            "object_position": null,
            "order": null,
            "overflow": null,
            "overflow_x": null,
            "overflow_y": null,
            "padding": null,
            "right": null,
            "top": null,
            "visibility": null,
            "width": null
          }
        },
        "90cf669d17f948f3b4ff7f635fd61631": {
          "model_module": "@jupyter-widgets/controls",
          "model_name": "ProgressStyleModel",
          "model_module_version": "1.5.0",
          "state": {
            "_model_module": "@jupyter-widgets/controls",
            "_model_module_version": "1.5.0",
            "_model_name": "ProgressStyleModel",
            "_view_count": null,
            "_view_module": "@jupyter-widgets/base",
            "_view_module_version": "1.2.0",
            "_view_name": "StyleView",
            "bar_color": null,
            "description_width": ""
          }
        },
        "74711bb3bd37494bbf703e311852ebf6": {
          "model_module": "@jupyter-widgets/base",
          "model_name": "LayoutModel",
          "model_module_version": "1.2.0",
          "state": {
            "_model_module": "@jupyter-widgets/base",
            "_model_module_version": "1.2.0",
            "_model_name": "LayoutModel",
            "_view_count": null,
            "_view_module": "@jupyter-widgets/base",
            "_view_module_version": "1.2.0",
            "_view_name": "LayoutView",
            "align_content": null,
            "align_items": null,
            "align_self": null,
            "border": null,
            "bottom": null,
            "display": null,
            "flex": null,
            "flex_flow": null,
            "grid_area": null,
            "grid_auto_columns": null,
            "grid_auto_flow": null,
            "grid_auto_rows": null,
            "grid_column": null,
            "grid_gap": null,
            "grid_row": null,
            "grid_template_areas": null,
            "grid_template_columns": null,
            "grid_template_rows": null,
            "height": null,
            "justify_content": null,
            "justify_items": null,
            "left": null,
            "margin": null,
            "max_height": null,
            "max_width": null,
            "min_height": null,
            "min_width": null,
            "object_fit": null,
            "object_position": null,
            "order": null,
            "overflow": null,
            "overflow_x": null,
            "overflow_y": null,
            "padding": null,
            "right": null,
            "top": null,
            "visibility": null,
            "width": null
          }
        },
        "fd961db4338947b9a6138294999b13c8": {
          "model_module": "@jupyter-widgets/controls",
          "model_name": "DescriptionStyleModel",
          "model_module_version": "1.5.0",
          "state": {
            "_model_module": "@jupyter-widgets/controls",
            "_model_module_version": "1.5.0",
            "_model_name": "DescriptionStyleModel",
            "_view_count": null,
            "_view_module": "@jupyter-widgets/base",
            "_view_module_version": "1.2.0",
            "_view_name": "StyleView",
            "description_width": ""
          }
        },
        "83cd0a0af1454a22b9bdbd134502518a": {
          "model_module": "@jupyter-widgets/controls",
          "model_name": "HBoxModel",
          "model_module_version": "1.5.0",
          "state": {
            "_dom_classes": [],
            "_model_module": "@jupyter-widgets/controls",
            "_model_module_version": "1.5.0",
            "_model_name": "HBoxModel",
            "_view_count": null,
            "_view_module": "@jupyter-widgets/controls",
            "_view_module_version": "1.5.0",
            "_view_name": "HBoxView",
            "box_style": "",
            "children": [
              "IPY_MODEL_7b907f9b79714727a6c42cb379df42ea",
              "IPY_MODEL_ec055ad50eec443e8daf9c542d515954",
              "IPY_MODEL_3f0708a3f02649d3ad4a95bc90d9196b"
            ],
            "layout": "IPY_MODEL_41084acc7d7f4690a07928bd3736083e"
          }
        },
        "7b907f9b79714727a6c42cb379df42ea": {
          "model_module": "@jupyter-widgets/controls",
          "model_name": "HTMLModel",
          "model_module_version": "1.5.0",
          "state": {
            "_dom_classes": [],
            "_model_module": "@jupyter-widgets/controls",
            "_model_module_version": "1.5.0",
            "_model_name": "HTMLModel",
            "_view_count": null,
            "_view_module": "@jupyter-widgets/controls",
            "_view_module_version": "1.5.0",
            "_view_name": "HTMLView",
            "description": "",
            "description_tooltip": null,
            "layout": "IPY_MODEL_4e74a62429014000978044fe09d5f669",
            "placeholder": "​",
            "style": "IPY_MODEL_f8c5e2baf4dc4d78aca51d3b0a3e5e37",
            "value": "vocab.txt: 100%"
          }
        },
        "ec055ad50eec443e8daf9c542d515954": {
          "model_module": "@jupyter-widgets/controls",
          "model_name": "FloatProgressModel",
          "model_module_version": "1.5.0",
          "state": {
            "_dom_classes": [],
            "_model_module": "@jupyter-widgets/controls",
            "_model_module_version": "1.5.0",
            "_model_name": "FloatProgressModel",
            "_view_count": null,
            "_view_module": "@jupyter-widgets/controls",
            "_view_module_version": "1.5.0",
            "_view_name": "ProgressView",
            "bar_style": "success",
            "description": "",
            "description_tooltip": null,
            "layout": "IPY_MODEL_eda2b1a6c4804b1f8f110aa411045436",
            "max": 231508,
            "min": 0,
            "orientation": "horizontal",
            "style": "IPY_MODEL_f0e150f64156451381ed4155ae14b8fd",
            "value": 231508
          }
        },
        "3f0708a3f02649d3ad4a95bc90d9196b": {
          "model_module": "@jupyter-widgets/controls",
          "model_name": "HTMLModel",
          "model_module_version": "1.5.0",
          "state": {
            "_dom_classes": [],
            "_model_module": "@jupyter-widgets/controls",
            "_model_module_version": "1.5.0",
            "_model_name": "HTMLModel",
            "_view_count": null,
            "_view_module": "@jupyter-widgets/controls",
            "_view_module_version": "1.5.0",
            "_view_name": "HTMLView",
            "description": "",
            "description_tooltip": null,
            "layout": "IPY_MODEL_b63e52ce5f4c4e18b4d1222a235da56f",
            "placeholder": "​",
            "style": "IPY_MODEL_86c759e44fde48418b26903e8228862c",
            "value": " 232k/232k [00:00&lt;00:00, 3.19MB/s]"
          }
        },
        "41084acc7d7f4690a07928bd3736083e": {
          "model_module": "@jupyter-widgets/base",
          "model_name": "LayoutModel",
          "model_module_version": "1.2.0",
          "state": {
            "_model_module": "@jupyter-widgets/base",
            "_model_module_version": "1.2.0",
            "_model_name": "LayoutModel",
            "_view_count": null,
            "_view_module": "@jupyter-widgets/base",
            "_view_module_version": "1.2.0",
            "_view_name": "LayoutView",
            "align_content": null,
            "align_items": null,
            "align_self": null,
            "border": null,
            "bottom": null,
            "display": null,
            "flex": null,
            "flex_flow": null,
            "grid_area": null,
            "grid_auto_columns": null,
            "grid_auto_flow": null,
            "grid_auto_rows": null,
            "grid_column": null,
            "grid_gap": null,
            "grid_row": null,
            "grid_template_areas": null,
            "grid_template_columns": null,
            "grid_template_rows": null,
            "height": null,
            "justify_content": null,
            "justify_items": null,
            "left": null,
            "margin": null,
            "max_height": null,
            "max_width": null,
            "min_height": null,
            "min_width": null,
            "object_fit": null,
            "object_position": null,
            "order": null,
            "overflow": null,
            "overflow_x": null,
            "overflow_y": null,
            "padding": null,
            "right": null,
            "top": null,
            "visibility": null,
            "width": null
          }
        },
        "4e74a62429014000978044fe09d5f669": {
          "model_module": "@jupyter-widgets/base",
          "model_name": "LayoutModel",
          "model_module_version": "1.2.0",
          "state": {
            "_model_module": "@jupyter-widgets/base",
            "_model_module_version": "1.2.0",
            "_model_name": "LayoutModel",
            "_view_count": null,
            "_view_module": "@jupyter-widgets/base",
            "_view_module_version": "1.2.0",
            "_view_name": "LayoutView",
            "align_content": null,
            "align_items": null,
            "align_self": null,
            "border": null,
            "bottom": null,
            "display": null,
            "flex": null,
            "flex_flow": null,
            "grid_area": null,
            "grid_auto_columns": null,
            "grid_auto_flow": null,
            "grid_auto_rows": null,
            "grid_column": null,
            "grid_gap": null,
            "grid_row": null,
            "grid_template_areas": null,
            "grid_template_columns": null,
            "grid_template_rows": null,
            "height": null,
            "justify_content": null,
            "justify_items": null,
            "left": null,
            "margin": null,
            "max_height": null,
            "max_width": null,
            "min_height": null,
            "min_width": null,
            "object_fit": null,
            "object_position": null,
            "order": null,
            "overflow": null,
            "overflow_x": null,
            "overflow_y": null,
            "padding": null,
            "right": null,
            "top": null,
            "visibility": null,
            "width": null
          }
        },
        "f8c5e2baf4dc4d78aca51d3b0a3e5e37": {
          "model_module": "@jupyter-widgets/controls",
          "model_name": "DescriptionStyleModel",
          "model_module_version": "1.5.0",
          "state": {
            "_model_module": "@jupyter-widgets/controls",
            "_model_module_version": "1.5.0",
            "_model_name": "DescriptionStyleModel",
            "_view_count": null,
            "_view_module": "@jupyter-widgets/base",
            "_view_module_version": "1.2.0",
            "_view_name": "StyleView",
            "description_width": ""
          }
        },
        "eda2b1a6c4804b1f8f110aa411045436": {
          "model_module": "@jupyter-widgets/base",
          "model_name": "LayoutModel",
          "model_module_version": "1.2.0",
          "state": {
            "_model_module": "@jupyter-widgets/base",
            "_model_module_version": "1.2.0",
            "_model_name": "LayoutModel",
            "_view_count": null,
            "_view_module": "@jupyter-widgets/base",
            "_view_module_version": "1.2.0",
            "_view_name": "LayoutView",
            "align_content": null,
            "align_items": null,
            "align_self": null,
            "border": null,
            "bottom": null,
            "display": null,
            "flex": null,
            "flex_flow": null,
            "grid_area": null,
            "grid_auto_columns": null,
            "grid_auto_flow": null,
            "grid_auto_rows": null,
            "grid_column": null,
            "grid_gap": null,
            "grid_row": null,
            "grid_template_areas": null,
            "grid_template_columns": null,
            "grid_template_rows": null,
            "height": null,
            "justify_content": null,
            "justify_items": null,
            "left": null,
            "margin": null,
            "max_height": null,
            "max_width": null,
            "min_height": null,
            "min_width": null,
            "object_fit": null,
            "object_position": null,
            "order": null,
            "overflow": null,
            "overflow_x": null,
            "overflow_y": null,
            "padding": null,
            "right": null,
            "top": null,
            "visibility": null,
            "width": null
          }
        },
        "f0e150f64156451381ed4155ae14b8fd": {
          "model_module": "@jupyter-widgets/controls",
          "model_name": "ProgressStyleModel",
          "model_module_version": "1.5.0",
          "state": {
            "_model_module": "@jupyter-widgets/controls",
            "_model_module_version": "1.5.0",
            "_model_name": "ProgressStyleModel",
            "_view_count": null,
            "_view_module": "@jupyter-widgets/base",
            "_view_module_version": "1.2.0",
            "_view_name": "StyleView",
            "bar_color": null,
            "description_width": ""
          }
        },
        "b63e52ce5f4c4e18b4d1222a235da56f": {
          "model_module": "@jupyter-widgets/base",
          "model_name": "LayoutModel",
          "model_module_version": "1.2.0",
          "state": {
            "_model_module": "@jupyter-widgets/base",
            "_model_module_version": "1.2.0",
            "_model_name": "LayoutModel",
            "_view_count": null,
            "_view_module": "@jupyter-widgets/base",
            "_view_module_version": "1.2.0",
            "_view_name": "LayoutView",
            "align_content": null,
            "align_items": null,
            "align_self": null,
            "border": null,
            "bottom": null,
            "display": null,
            "flex": null,
            "flex_flow": null,
            "grid_area": null,
            "grid_auto_columns": null,
            "grid_auto_flow": null,
            "grid_auto_rows": null,
            "grid_column": null,
            "grid_gap": null,
            "grid_row": null,
            "grid_template_areas": null,
            "grid_template_columns": null,
            "grid_template_rows": null,
            "height": null,
            "justify_content": null,
            "justify_items": null,
            "left": null,
            "margin": null,
            "max_height": null,
            "max_width": null,
            "min_height": null,
            "min_width": null,
            "object_fit": null,
            "object_position": null,
            "order": null,
            "overflow": null,
            "overflow_x": null,
            "overflow_y": null,
            "padding": null,
            "right": null,
            "top": null,
            "visibility": null,
            "width": null
          }
        },
        "86c759e44fde48418b26903e8228862c": {
          "model_module": "@jupyter-widgets/controls",
          "model_name": "DescriptionStyleModel",
          "model_module_version": "1.5.0",
          "state": {
            "_model_module": "@jupyter-widgets/controls",
            "_model_module_version": "1.5.0",
            "_model_name": "DescriptionStyleModel",
            "_view_count": null,
            "_view_module": "@jupyter-widgets/base",
            "_view_module_version": "1.2.0",
            "_view_name": "StyleView",
            "description_width": ""
          }
        },
        "87aa3c63544c44699e43ccbaabb191c9": {
          "model_module": "@jupyter-widgets/controls",
          "model_name": "HBoxModel",
          "model_module_version": "1.5.0",
          "state": {
            "_dom_classes": [],
            "_model_module": "@jupyter-widgets/controls",
            "_model_module_version": "1.5.0",
            "_model_name": "HBoxModel",
            "_view_count": null,
            "_view_module": "@jupyter-widgets/controls",
            "_view_module_version": "1.5.0",
            "_view_name": "HBoxView",
            "box_style": "",
            "children": [
              "IPY_MODEL_171bf73618284b02b5dff8510f06818d",
              "IPY_MODEL_fb1f6e4f16fb4aa29d840b8586baab91",
              "IPY_MODEL_56c601b497064fb3aebc49cbf20cdc04"
            ],
            "layout": "IPY_MODEL_f01e563958ea40c3976901111a6c82a6"
          }
        },
        "171bf73618284b02b5dff8510f06818d": {
          "model_module": "@jupyter-widgets/controls",
          "model_name": "HTMLModel",
          "model_module_version": "1.5.0",
          "state": {
            "_dom_classes": [],
            "_model_module": "@jupyter-widgets/controls",
            "_model_module_version": "1.5.0",
            "_model_name": "HTMLModel",
            "_view_count": null,
            "_view_module": "@jupyter-widgets/controls",
            "_view_module_version": "1.5.0",
            "_view_name": "HTMLView",
            "description": "",
            "description_tooltip": null,
            "layout": "IPY_MODEL_9f65dddd061246d2a090fe7935a2450d",
            "placeholder": "​",
            "style": "IPY_MODEL_ecce20f2c6344f2884f1a10b1a9329b2",
            "value": "tokenizer.json: 100%"
          }
        },
        "fb1f6e4f16fb4aa29d840b8586baab91": {
          "model_module": "@jupyter-widgets/controls",
          "model_name": "FloatProgressModel",
          "model_module_version": "1.5.0",
          "state": {
            "_dom_classes": [],
            "_model_module": "@jupyter-widgets/controls",
            "_model_module_version": "1.5.0",
            "_model_name": "FloatProgressModel",
            "_view_count": null,
            "_view_module": "@jupyter-widgets/controls",
            "_view_module_version": "1.5.0",
            "_view_name": "ProgressView",
            "bar_style": "success",
            "description": "",
            "description_tooltip": null,
            "layout": "IPY_MODEL_5dbbdfeb049740b69ba8a295952e760b",
            "max": 466062,
            "min": 0,
            "orientation": "horizontal",
            "style": "IPY_MODEL_ded75f7507294d70866b87a54036d776",
            "value": 466062
          }
        },
        "56c601b497064fb3aebc49cbf20cdc04": {
          "model_module": "@jupyter-widgets/controls",
          "model_name": "HTMLModel",
          "model_module_version": "1.5.0",
          "state": {
            "_dom_classes": [],
            "_model_module": "@jupyter-widgets/controls",
            "_model_module_version": "1.5.0",
            "_model_name": "HTMLModel",
            "_view_count": null,
            "_view_module": "@jupyter-widgets/controls",
            "_view_module_version": "1.5.0",
            "_view_name": "HTMLView",
            "description": "",
            "description_tooltip": null,
            "layout": "IPY_MODEL_4e6a131a992a4db097a49ed7a0dbc7fe",
            "placeholder": "​",
            "style": "IPY_MODEL_2e4fe9c9033f461ab993e8f4b063d8e7",
            "value": " 466k/466k [00:00&lt;00:00, 9.23MB/s]"
          }
        },
        "f01e563958ea40c3976901111a6c82a6": {
          "model_module": "@jupyter-widgets/base",
          "model_name": "LayoutModel",
          "model_module_version": "1.2.0",
          "state": {
            "_model_module": "@jupyter-widgets/base",
            "_model_module_version": "1.2.0",
            "_model_name": "LayoutModel",
            "_view_count": null,
            "_view_module": "@jupyter-widgets/base",
            "_view_module_version": "1.2.0",
            "_view_name": "LayoutView",
            "align_content": null,
            "align_items": null,
            "align_self": null,
            "border": null,
            "bottom": null,
            "display": null,
            "flex": null,
            "flex_flow": null,
            "grid_area": null,
            "grid_auto_columns": null,
            "grid_auto_flow": null,
            "grid_auto_rows": null,
            "grid_column": null,
            "grid_gap": null,
            "grid_row": null,
            "grid_template_areas": null,
            "grid_template_columns": null,
            "grid_template_rows": null,
            "height": null,
            "justify_content": null,
            "justify_items": null,
            "left": null,
            "margin": null,
            "max_height": null,
            "max_width": null,
            "min_height": null,
            "min_width": null,
            "object_fit": null,
            "object_position": null,
            "order": null,
            "overflow": null,
            "overflow_x": null,
            "overflow_y": null,
            "padding": null,
            "right": null,
            "top": null,
            "visibility": null,
            "width": null
          }
        },
        "9f65dddd061246d2a090fe7935a2450d": {
          "model_module": "@jupyter-widgets/base",
          "model_name": "LayoutModel",
          "model_module_version": "1.2.0",
          "state": {
            "_model_module": "@jupyter-widgets/base",
            "_model_module_version": "1.2.0",
            "_model_name": "LayoutModel",
            "_view_count": null,
            "_view_module": "@jupyter-widgets/base",
            "_view_module_version": "1.2.0",
            "_view_name": "LayoutView",
            "align_content": null,
            "align_items": null,
            "align_self": null,
            "border": null,
            "bottom": null,
            "display": null,
            "flex": null,
            "flex_flow": null,
            "grid_area": null,
            "grid_auto_columns": null,
            "grid_auto_flow": null,
            "grid_auto_rows": null,
            "grid_column": null,
            "grid_gap": null,
            "grid_row": null,
            "grid_template_areas": null,
            "grid_template_columns": null,
            "grid_template_rows": null,
            "height": null,
            "justify_content": null,
            "justify_items": null,
            "left": null,
            "margin": null,
            "max_height": null,
            "max_width": null,
            "min_height": null,
            "min_width": null,
            "object_fit": null,
            "object_position": null,
            "order": null,
            "overflow": null,
            "overflow_x": null,
            "overflow_y": null,
            "padding": null,
            "right": null,
            "top": null,
            "visibility": null,
            "width": null
          }
        },
        "ecce20f2c6344f2884f1a10b1a9329b2": {
          "model_module": "@jupyter-widgets/controls",
          "model_name": "DescriptionStyleModel",
          "model_module_version": "1.5.0",
          "state": {
            "_model_module": "@jupyter-widgets/controls",
            "_model_module_version": "1.5.0",
            "_model_name": "DescriptionStyleModel",
            "_view_count": null,
            "_view_module": "@jupyter-widgets/base",
            "_view_module_version": "1.2.0",
            "_view_name": "StyleView",
            "description_width": ""
          }
        },
        "5dbbdfeb049740b69ba8a295952e760b": {
          "model_module": "@jupyter-widgets/base",
          "model_name": "LayoutModel",
          "model_module_version": "1.2.0",
          "state": {
            "_model_module": "@jupyter-widgets/base",
            "_model_module_version": "1.2.0",
            "_model_name": "LayoutModel",
            "_view_count": null,
            "_view_module": "@jupyter-widgets/base",
            "_view_module_version": "1.2.0",
            "_view_name": "LayoutView",
            "align_content": null,
            "align_items": null,
            "align_self": null,
            "border": null,
            "bottom": null,
            "display": null,
            "flex": null,
            "flex_flow": null,
            "grid_area": null,
            "grid_auto_columns": null,
            "grid_auto_flow": null,
            "grid_auto_rows": null,
            "grid_column": null,
            "grid_gap": null,
            "grid_row": null,
            "grid_template_areas": null,
            "grid_template_columns": null,
            "grid_template_rows": null,
            "height": null,
            "justify_content": null,
            "justify_items": null,
            "left": null,
            "margin": null,
            "max_height": null,
            "max_width": null,
            "min_height": null,
            "min_width": null,
            "object_fit": null,
            "object_position": null,
            "order": null,
            "overflow": null,
            "overflow_x": null,
            "overflow_y": null,
            "padding": null,
            "right": null,
            "top": null,
            "visibility": null,
            "width": null
          }
        },
        "ded75f7507294d70866b87a54036d776": {
          "model_module": "@jupyter-widgets/controls",
          "model_name": "ProgressStyleModel",
          "model_module_version": "1.5.0",
          "state": {
            "_model_module": "@jupyter-widgets/controls",
            "_model_module_version": "1.5.0",
            "_model_name": "ProgressStyleModel",
            "_view_count": null,
            "_view_module": "@jupyter-widgets/base",
            "_view_module_version": "1.2.0",
            "_view_name": "StyleView",
            "bar_color": null,
            "description_width": ""
          }
        },
        "4e6a131a992a4db097a49ed7a0dbc7fe": {
          "model_module": "@jupyter-widgets/base",
          "model_name": "LayoutModel",
          "model_module_version": "1.2.0",
          "state": {
            "_model_module": "@jupyter-widgets/base",
            "_model_module_version": "1.2.0",
            "_model_name": "LayoutModel",
            "_view_count": null,
            "_view_module": "@jupyter-widgets/base",
            "_view_module_version": "1.2.0",
            "_view_name": "LayoutView",
            "align_content": null,
            "align_items": null,
            "align_self": null,
            "border": null,
            "bottom": null,
            "display": null,
            "flex": null,
            "flex_flow": null,
            "grid_area": null,
            "grid_auto_columns": null,
            "grid_auto_flow": null,
            "grid_auto_rows": null,
            "grid_column": null,
            "grid_gap": null,
            "grid_row": null,
            "grid_template_areas": null,
            "grid_template_columns": null,
            "grid_template_rows": null,
            "height": null,
            "justify_content": null,
            "justify_items": null,
            "left": null,
            "margin": null,
            "max_height": null,
            "max_width": null,
            "min_height": null,
            "min_width": null,
            "object_fit": null,
            "object_position": null,
            "order": null,
            "overflow": null,
            "overflow_x": null,
            "overflow_y": null,
            "padding": null,
            "right": null,
            "top": null,
            "visibility": null,
            "width": null
          }
        },
        "2e4fe9c9033f461ab993e8f4b063d8e7": {
          "model_module": "@jupyter-widgets/controls",
          "model_name": "DescriptionStyleModel",
          "model_module_version": "1.5.0",
          "state": {
            "_model_module": "@jupyter-widgets/controls",
            "_model_module_version": "1.5.0",
            "_model_name": "DescriptionStyleModel",
            "_view_count": null,
            "_view_module": "@jupyter-widgets/base",
            "_view_module_version": "1.2.0",
            "_view_name": "StyleView",
            "description_width": ""
          }
        },
        "d6a4f1ad6dba4cd4912ddf753406935b": {
          "model_module": "@jupyter-widgets/controls",
          "model_name": "HBoxModel",
          "model_module_version": "1.5.0",
          "state": {
            "_dom_classes": [],
            "_model_module": "@jupyter-widgets/controls",
            "_model_module_version": "1.5.0",
            "_model_name": "HBoxModel",
            "_view_count": null,
            "_view_module": "@jupyter-widgets/controls",
            "_view_module_version": "1.5.0",
            "_view_name": "HBoxView",
            "box_style": "",
            "children": [
              "IPY_MODEL_c0e320c2827440058e7cad0b7e0d8c32",
              "IPY_MODEL_ca77296e24f14849b7991b0a7d262e2a",
              "IPY_MODEL_f1a8973b2c4a4349a370372f789848d5"
            ],
            "layout": "IPY_MODEL_891965e8b02f43a1ba3d8ebd004f188e"
          }
        },
        "c0e320c2827440058e7cad0b7e0d8c32": {
          "model_module": "@jupyter-widgets/controls",
          "model_name": "HTMLModel",
          "model_module_version": "1.5.0",
          "state": {
            "_dom_classes": [],
            "_model_module": "@jupyter-widgets/controls",
            "_model_module_version": "1.5.0",
            "_model_name": "HTMLModel",
            "_view_count": null,
            "_view_module": "@jupyter-widgets/controls",
            "_view_module_version": "1.5.0",
            "_view_name": "HTMLView",
            "description": "",
            "description_tooltip": null,
            "layout": "IPY_MODEL_ec6f40e0a0604d17a0fba825f9e12289",
            "placeholder": "​",
            "style": "IPY_MODEL_1c2995097486463891887346fc33dfa3",
            "value": "config.json: 100%"
          }
        },
        "ca77296e24f14849b7991b0a7d262e2a": {
          "model_module": "@jupyter-widgets/controls",
          "model_name": "FloatProgressModel",
          "model_module_version": "1.5.0",
          "state": {
            "_dom_classes": [],
            "_model_module": "@jupyter-widgets/controls",
            "_model_module_version": "1.5.0",
            "_model_name": "FloatProgressModel",
            "_view_count": null,
            "_view_module": "@jupyter-widgets/controls",
            "_view_module_version": "1.5.0",
            "_view_name": "ProgressView",
            "bar_style": "success",
            "description": "",
            "description_tooltip": null,
            "layout": "IPY_MODEL_c8e826360b194ea78979da7ba6990278",
            "max": 570,
            "min": 0,
            "orientation": "horizontal",
            "style": "IPY_MODEL_9613e8278b0d41399c2f8481a489c62e",
            "value": 570
          }
        },
        "f1a8973b2c4a4349a370372f789848d5": {
          "model_module": "@jupyter-widgets/controls",
          "model_name": "HTMLModel",
          "model_module_version": "1.5.0",
          "state": {
            "_dom_classes": [],
            "_model_module": "@jupyter-widgets/controls",
            "_model_module_version": "1.5.0",
            "_model_name": "HTMLModel",
            "_view_count": null,
            "_view_module": "@jupyter-widgets/controls",
            "_view_module_version": "1.5.0",
            "_view_name": "HTMLView",
            "description": "",
            "description_tooltip": null,
            "layout": "IPY_MODEL_50843ea20a304850bd4e8427baca83f4",
            "placeholder": "​",
            "style": "IPY_MODEL_e7c80652c0de48ddabd21bc5240a6faf",
            "value": " 570/570 [00:00&lt;00:00, 19.3kB/s]"
          }
        },
        "891965e8b02f43a1ba3d8ebd004f188e": {
          "model_module": "@jupyter-widgets/base",
          "model_name": "LayoutModel",
          "model_module_version": "1.2.0",
          "state": {
            "_model_module": "@jupyter-widgets/base",
            "_model_module_version": "1.2.0",
            "_model_name": "LayoutModel",
            "_view_count": null,
            "_view_module": "@jupyter-widgets/base",
            "_view_module_version": "1.2.0",
            "_view_name": "LayoutView",
            "align_content": null,
            "align_items": null,
            "align_self": null,
            "border": null,
            "bottom": null,
            "display": null,
            "flex": null,
            "flex_flow": null,
            "grid_area": null,
            "grid_auto_columns": null,
            "grid_auto_flow": null,
            "grid_auto_rows": null,
            "grid_column": null,
            "grid_gap": null,
            "grid_row": null,
            "grid_template_areas": null,
            "grid_template_columns": null,
            "grid_template_rows": null,
            "height": null,
            "justify_content": null,
            "justify_items": null,
            "left": null,
            "margin": null,
            "max_height": null,
            "max_width": null,
            "min_height": null,
            "min_width": null,
            "object_fit": null,
            "object_position": null,
            "order": null,
            "overflow": null,
            "overflow_x": null,
            "overflow_y": null,
            "padding": null,
            "right": null,
            "top": null,
            "visibility": null,
            "width": null
          }
        },
        "ec6f40e0a0604d17a0fba825f9e12289": {
          "model_module": "@jupyter-widgets/base",
          "model_name": "LayoutModel",
          "model_module_version": "1.2.0",
          "state": {
            "_model_module": "@jupyter-widgets/base",
            "_model_module_version": "1.2.0",
            "_model_name": "LayoutModel",
            "_view_count": null,
            "_view_module": "@jupyter-widgets/base",
            "_view_module_version": "1.2.0",
            "_view_name": "LayoutView",
            "align_content": null,
            "align_items": null,
            "align_self": null,
            "border": null,
            "bottom": null,
            "display": null,
            "flex": null,
            "flex_flow": null,
            "grid_area": null,
            "grid_auto_columns": null,
            "grid_auto_flow": null,
            "grid_auto_rows": null,
            "grid_column": null,
            "grid_gap": null,
            "grid_row": null,
            "grid_template_areas": null,
            "grid_template_columns": null,
            "grid_template_rows": null,
            "height": null,
            "justify_content": null,
            "justify_items": null,
            "left": null,
            "margin": null,
            "max_height": null,
            "max_width": null,
            "min_height": null,
            "min_width": null,
            "object_fit": null,
            "object_position": null,
            "order": null,
            "overflow": null,
            "overflow_x": null,
            "overflow_y": null,
            "padding": null,
            "right": null,
            "top": null,
            "visibility": null,
            "width": null
          }
        },
        "1c2995097486463891887346fc33dfa3": {
          "model_module": "@jupyter-widgets/controls",
          "model_name": "DescriptionStyleModel",
          "model_module_version": "1.5.0",
          "state": {
            "_model_module": "@jupyter-widgets/controls",
            "_model_module_version": "1.5.0",
            "_model_name": "DescriptionStyleModel",
            "_view_count": null,
            "_view_module": "@jupyter-widgets/base",
            "_view_module_version": "1.2.0",
            "_view_name": "StyleView",
            "description_width": ""
          }
        },
        "c8e826360b194ea78979da7ba6990278": {
          "model_module": "@jupyter-widgets/base",
          "model_name": "LayoutModel",
          "model_module_version": "1.2.0",
          "state": {
            "_model_module": "@jupyter-widgets/base",
            "_model_module_version": "1.2.0",
            "_model_name": "LayoutModel",
            "_view_count": null,
            "_view_module": "@jupyter-widgets/base",
            "_view_module_version": "1.2.0",
            "_view_name": "LayoutView",
            "align_content": null,
            "align_items": null,
            "align_self": null,
            "border": null,
            "bottom": null,
            "display": null,
            "flex": null,
            "flex_flow": null,
            "grid_area": null,
            "grid_auto_columns": null,
            "grid_auto_flow": null,
            "grid_auto_rows": null,
            "grid_column": null,
            "grid_gap": null,
            "grid_row": null,
            "grid_template_areas": null,
            "grid_template_columns": null,
            "grid_template_rows": null,
            "height": null,
            "justify_content": null,
            "justify_items": null,
            "left": null,
            "margin": null,
            "max_height": null,
            "max_width": null,
            "min_height": null,
            "min_width": null,
            "object_fit": null,
            "object_position": null,
            "order": null,
            "overflow": null,
            "overflow_x": null,
            "overflow_y": null,
            "padding": null,
            "right": null,
            "top": null,
            "visibility": null,
            "width": null
          }
        },
        "9613e8278b0d41399c2f8481a489c62e": {
          "model_module": "@jupyter-widgets/controls",
          "model_name": "ProgressStyleModel",
          "model_module_version": "1.5.0",
          "state": {
            "_model_module": "@jupyter-widgets/controls",
            "_model_module_version": "1.5.0",
            "_model_name": "ProgressStyleModel",
            "_view_count": null,
            "_view_module": "@jupyter-widgets/base",
            "_view_module_version": "1.2.0",
            "_view_name": "StyleView",
            "bar_color": null,
            "description_width": ""
          }
        },
        "50843ea20a304850bd4e8427baca83f4": {
          "model_module": "@jupyter-widgets/base",
          "model_name": "LayoutModel",
          "model_module_version": "1.2.0",
          "state": {
            "_model_module": "@jupyter-widgets/base",
            "_model_module_version": "1.2.0",
            "_model_name": "LayoutModel",
            "_view_count": null,
            "_view_module": "@jupyter-widgets/base",
            "_view_module_version": "1.2.0",
            "_view_name": "LayoutView",
            "align_content": null,
            "align_items": null,
            "align_self": null,
            "border": null,
            "bottom": null,
            "display": null,
            "flex": null,
            "flex_flow": null,
            "grid_area": null,
            "grid_auto_columns": null,
            "grid_auto_flow": null,
            "grid_auto_rows": null,
            "grid_column": null,
            "grid_gap": null,
            "grid_row": null,
            "grid_template_areas": null,
            "grid_template_columns": null,
            "grid_template_rows": null,
            "height": null,
            "justify_content": null,
            "justify_items": null,
            "left": null,
            "margin": null,
            "max_height": null,
            "max_width": null,
            "min_height": null,
            "min_width": null,
            "object_fit": null,
            "object_position": null,
            "order": null,
            "overflow": null,
            "overflow_x": null,
            "overflow_y": null,
            "padding": null,
            "right": null,
            "top": null,
            "visibility": null,
            "width": null
          }
        },
        "e7c80652c0de48ddabd21bc5240a6faf": {
          "model_module": "@jupyter-widgets/controls",
          "model_name": "DescriptionStyleModel",
          "model_module_version": "1.5.0",
          "state": {
            "_model_module": "@jupyter-widgets/controls",
            "_model_module_version": "1.5.0",
            "_model_name": "DescriptionStyleModel",
            "_view_count": null,
            "_view_module": "@jupyter-widgets/base",
            "_view_module_version": "1.2.0",
            "_view_name": "StyleView",
            "description_width": ""
          }
        },
        "799fab9706874ad4af499f4618327f77": {
          "model_module": "@jupyter-widgets/controls",
          "model_name": "HBoxModel",
          "model_module_version": "1.5.0",
          "state": {
            "_dom_classes": [],
            "_model_module": "@jupyter-widgets/controls",
            "_model_module_version": "1.5.0",
            "_model_name": "HBoxModel",
            "_view_count": null,
            "_view_module": "@jupyter-widgets/controls",
            "_view_module_version": "1.5.0",
            "_view_name": "HBoxView",
            "box_style": "",
            "children": [
              "IPY_MODEL_3deeb9f353944048b9212064e627c173",
              "IPY_MODEL_b89cf3518bd245adadd87e0b54ffc1d1",
              "IPY_MODEL_04a7cc1de7c1498697f79184f2cfada9"
            ],
            "layout": "IPY_MODEL_2eb86d93309a413783af2825a1bf579b"
          }
        },
        "3deeb9f353944048b9212064e627c173": {
          "model_module": "@jupyter-widgets/controls",
          "model_name": "HTMLModel",
          "model_module_version": "1.5.0",
          "state": {
            "_dom_classes": [],
            "_model_module": "@jupyter-widgets/controls",
            "_model_module_version": "1.5.0",
            "_model_name": "HTMLModel",
            "_view_count": null,
            "_view_module": "@jupyter-widgets/controls",
            "_view_module_version": "1.5.0",
            "_view_name": "HTMLView",
            "description": "",
            "description_tooltip": null,
            "layout": "IPY_MODEL_5e84e18ef09f44a8844e561e326e94ce",
            "placeholder": "​",
            "style": "IPY_MODEL_1242969bc11540529ca2eb1af048d983",
            "value": "model.safetensors: 100%"
          }
        },
        "b89cf3518bd245adadd87e0b54ffc1d1": {
          "model_module": "@jupyter-widgets/controls",
          "model_name": "FloatProgressModel",
          "model_module_version": "1.5.0",
          "state": {
            "_dom_classes": [],
            "_model_module": "@jupyter-widgets/controls",
            "_model_module_version": "1.5.0",
            "_model_name": "FloatProgressModel",
            "_view_count": null,
            "_view_module": "@jupyter-widgets/controls",
            "_view_module_version": "1.5.0",
            "_view_name": "ProgressView",
            "bar_style": "success",
            "description": "",
            "description_tooltip": null,
            "layout": "IPY_MODEL_bb8854e835584f1a885568888de396b5",
            "max": 440449768,
            "min": 0,
            "orientation": "horizontal",
            "style": "IPY_MODEL_268a3c4dcacd42e1836d0d4118458763",
            "value": 440449768
          }
        },
        "04a7cc1de7c1498697f79184f2cfada9": {
          "model_module": "@jupyter-widgets/controls",
          "model_name": "HTMLModel",
          "model_module_version": "1.5.0",
          "state": {
            "_dom_classes": [],
            "_model_module": "@jupyter-widgets/controls",
            "_model_module_version": "1.5.0",
            "_model_name": "HTMLModel",
            "_view_count": null,
            "_view_module": "@jupyter-widgets/controls",
            "_view_module_version": "1.5.0",
            "_view_name": "HTMLView",
            "description": "",
            "description_tooltip": null,
            "layout": "IPY_MODEL_37b6e6855f6e4ca4a1d393e22a3e5442",
            "placeholder": "​",
            "style": "IPY_MODEL_3d569b8663b64eceb981087d135eb77e",
            "value": " 440M/440M [00:06&lt;00:00, 17.9MB/s]"
          }
        },
        "2eb86d93309a413783af2825a1bf579b": {
          "model_module": "@jupyter-widgets/base",
          "model_name": "LayoutModel",
          "model_module_version": "1.2.0",
          "state": {
            "_model_module": "@jupyter-widgets/base",
            "_model_module_version": "1.2.0",
            "_model_name": "LayoutModel",
            "_view_count": null,
            "_view_module": "@jupyter-widgets/base",
            "_view_module_version": "1.2.0",
            "_view_name": "LayoutView",
            "align_content": null,
            "align_items": null,
            "align_self": null,
            "border": null,
            "bottom": null,
            "display": null,
            "flex": null,
            "flex_flow": null,
            "grid_area": null,
            "grid_auto_columns": null,
            "grid_auto_flow": null,
            "grid_auto_rows": null,
            "grid_column": null,
            "grid_gap": null,
            "grid_row": null,
            "grid_template_areas": null,
            "grid_template_columns": null,
            "grid_template_rows": null,
            "height": null,
            "justify_content": null,
            "justify_items": null,
            "left": null,
            "margin": null,
            "max_height": null,
            "max_width": null,
            "min_height": null,
            "min_width": null,
            "object_fit": null,
            "object_position": null,
            "order": null,
            "overflow": null,
            "overflow_x": null,
            "overflow_y": null,
            "padding": null,
            "right": null,
            "top": null,
            "visibility": null,
            "width": null
          }
        },
        "5e84e18ef09f44a8844e561e326e94ce": {
          "model_module": "@jupyter-widgets/base",
          "model_name": "LayoutModel",
          "model_module_version": "1.2.0",
          "state": {
            "_model_module": "@jupyter-widgets/base",
            "_model_module_version": "1.2.0",
            "_model_name": "LayoutModel",
            "_view_count": null,
            "_view_module": "@jupyter-widgets/base",
            "_view_module_version": "1.2.0",
            "_view_name": "LayoutView",
            "align_content": null,
            "align_items": null,
            "align_self": null,
            "border": null,
            "bottom": null,
            "display": null,
            "flex": null,
            "flex_flow": null,
            "grid_area": null,
            "grid_auto_columns": null,
            "grid_auto_flow": null,
            "grid_auto_rows": null,
            "grid_column": null,
            "grid_gap": null,
            "grid_row": null,
            "grid_template_areas": null,
            "grid_template_columns": null,
            "grid_template_rows": null,
            "height": null,
            "justify_content": null,
            "justify_items": null,
            "left": null,
            "margin": null,
            "max_height": null,
            "max_width": null,
            "min_height": null,
            "min_width": null,
            "object_fit": null,
            "object_position": null,
            "order": null,
            "overflow": null,
            "overflow_x": null,
            "overflow_y": null,
            "padding": null,
            "right": null,
            "top": null,
            "visibility": null,
            "width": null
          }
        },
        "1242969bc11540529ca2eb1af048d983": {
          "model_module": "@jupyter-widgets/controls",
          "model_name": "DescriptionStyleModel",
          "model_module_version": "1.5.0",
          "state": {
            "_model_module": "@jupyter-widgets/controls",
            "_model_module_version": "1.5.0",
            "_model_name": "DescriptionStyleModel",
            "_view_count": null,
            "_view_module": "@jupyter-widgets/base",
            "_view_module_version": "1.2.0",
            "_view_name": "StyleView",
            "description_width": ""
          }
        },
        "bb8854e835584f1a885568888de396b5": {
          "model_module": "@jupyter-widgets/base",
          "model_name": "LayoutModel",
          "model_module_version": "1.2.0",
          "state": {
            "_model_module": "@jupyter-widgets/base",
            "_model_module_version": "1.2.0",
            "_model_name": "LayoutModel",
            "_view_count": null,
            "_view_module": "@jupyter-widgets/base",
            "_view_module_version": "1.2.0",
            "_view_name": "LayoutView",
            "align_content": null,
            "align_items": null,
            "align_self": null,
            "border": null,
            "bottom": null,
            "display": null,
            "flex": null,
            "flex_flow": null,
            "grid_area": null,
            "grid_auto_columns": null,
            "grid_auto_flow": null,
            "grid_auto_rows": null,
            "grid_column": null,
            "grid_gap": null,
            "grid_row": null,
            "grid_template_areas": null,
            "grid_template_columns": null,
            "grid_template_rows": null,
            "height": null,
            "justify_content": null,
            "justify_items": null,
            "left": null,
            "margin": null,
            "max_height": null,
            "max_width": null,
            "min_height": null,
            "min_width": null,
            "object_fit": null,
            "object_position": null,
            "order": null,
            "overflow": null,
            "overflow_x": null,
            "overflow_y": null,
            "padding": null,
            "right": null,
            "top": null,
            "visibility": null,
            "width": null
          }
        },
        "268a3c4dcacd42e1836d0d4118458763": {
          "model_module": "@jupyter-widgets/controls",
          "model_name": "ProgressStyleModel",
          "model_module_version": "1.5.0",
          "state": {
            "_model_module": "@jupyter-widgets/controls",
            "_model_module_version": "1.5.0",
            "_model_name": "ProgressStyleModel",
            "_view_count": null,
            "_view_module": "@jupyter-widgets/base",
            "_view_module_version": "1.2.0",
            "_view_name": "StyleView",
            "bar_color": null,
            "description_width": ""
          }
        },
        "37b6e6855f6e4ca4a1d393e22a3e5442": {
          "model_module": "@jupyter-widgets/base",
          "model_name": "LayoutModel",
          "model_module_version": "1.2.0",
          "state": {
            "_model_module": "@jupyter-widgets/base",
            "_model_module_version": "1.2.0",
            "_model_name": "LayoutModel",
            "_view_count": null,
            "_view_module": "@jupyter-widgets/base",
            "_view_module_version": "1.2.0",
            "_view_name": "LayoutView",
            "align_content": null,
            "align_items": null,
            "align_self": null,
            "border": null,
            "bottom": null,
            "display": null,
            "flex": null,
            "flex_flow": null,
            "grid_area": null,
            "grid_auto_columns": null,
            "grid_auto_flow": null,
            "grid_auto_rows": null,
            "grid_column": null,
            "grid_gap": null,
            "grid_row": null,
            "grid_template_areas": null,
            "grid_template_columns": null,
            "grid_template_rows": null,
            "height": null,
            "justify_content": null,
            "justify_items": null,
            "left": null,
            "margin": null,
            "max_height": null,
            "max_width": null,
            "min_height": null,
            "min_width": null,
            "object_fit": null,
            "object_position": null,
            "order": null,
            "overflow": null,
            "overflow_x": null,
            "overflow_y": null,
            "padding": null,
            "right": null,
            "top": null,
            "visibility": null,
            "width": null
          }
        },
        "3d569b8663b64eceb981087d135eb77e": {
          "model_module": "@jupyter-widgets/controls",
          "model_name": "DescriptionStyleModel",
          "model_module_version": "1.5.0",
          "state": {
            "_model_module": "@jupyter-widgets/controls",
            "_model_module_version": "1.5.0",
            "_model_name": "DescriptionStyleModel",
            "_view_count": null,
            "_view_module": "@jupyter-widgets/base",
            "_view_module_version": "1.2.0",
            "_view_name": "StyleView",
            "description_width": ""
          }
        }
      }
    }
  },
  "nbformat": 4,
  "nbformat_minor": 0
}