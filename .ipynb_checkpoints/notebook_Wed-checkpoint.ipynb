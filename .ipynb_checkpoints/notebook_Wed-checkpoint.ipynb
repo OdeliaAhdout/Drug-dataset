{
 "cells": [
  {
   "cell_type": "markdown",
   "id": "33ac23d2",
   "metadata": {},
   "source": [
    "# Drugs dataset"
   ]
  },
  {
   "cell_type": "code",
   "execution_count": 1,
   "id": "46ce7110",
   "metadata": {},
   "outputs": [
    {
     "name": "stderr",
     "output_type": "stream",
     "text": [
      "[nltk_data] Downloading package punkt to /Users/odelia/nltk_data...\n",
      "[nltk_data]   Package punkt is already up-to-date!\n",
      "[nltk_data] Downloading package stopwords to\n",
      "[nltk_data]     /Users/odelia/nltk_data...\n",
      "[nltk_data]   Package stopwords is already up-to-date!\n",
      "[nltk_data] Downloading package wordnet to /Users/odelia/nltk_data...\n",
      "[nltk_data]   Package wordnet is already up-to-date!\n",
      "[nltk_data] Downloading package tagsets to /Users/odelia/nltk_data...\n",
      "[nltk_data]   Package tagsets is already up-to-date!\n",
      "[nltk_data] Downloading package averaged_perceptron_tagger to\n",
      "[nltk_data]     /Users/odelia/nltk_data...\n",
      "[nltk_data]   Package averaged_perceptron_tagger is already up-to-\n",
      "[nltk_data]       date!\n"
     ]
    },
    {
     "data": {
      "text/plain": [
       "True"
      ]
     },
     "execution_count": 1,
     "metadata": {},
     "output_type": "execute_result"
    }
   ],
   "source": [
    "import numpy as np\n",
    "import pandas as pd\n",
    "from bs4 import BeautifulSoup\n",
    "import matplotlib.pyplot as plt\n",
    "import seaborn as sns\n",
    "import re\n",
    "import nltk\n",
    "from sklearn.model_selection import train_test_split\n",
    "from sklearn import metrics\n",
    "from nltk.corpus import stopwords\n",
    "from collections import Counter\n",
    "import warnings; warnings.simplefilter('ignore')\n",
    "import nltk\n",
    "import string\n",
    "from nltk import ngrams\n",
    "from nltk.tokenize import word_tokenize \n",
    "from nltk.stem import SnowballStemmer\n",
    "from sklearn.datasets import make_classification\n",
    "from sklearn.metrics import RocCurveDisplay, plot_roc_curve\n",
    "from sklearn.svm import SVC\n",
    "nltk.download('punkt')\n",
    "nltk.download('stopwords')\n",
    "nltk.download('wordnet')\n",
    "nltk.download('tagsets')\n",
    "nltk.download('averaged_perceptron_tagger')"
   ]
  },
  {
   "cell_type": "code",
   "execution_count": 2,
   "id": "772ff94a",
   "metadata": {},
   "outputs": [],
   "source": [
    "df_train = pd.read_csv(\"data/drugsComTrain_raw.tsv\", sep='\\t', index_col=[0])\n",
    "df_test = pd.read_csv(\"data/drugsComTest_raw.tsv\", sep='\\t', index_col=[0])"
   ]
  },
  {
   "cell_type": "markdown",
   "id": "6b1c7908",
   "metadata": {},
   "source": [
    "## Preliminary data exploration"
   ]
  },
  {
   "cell_type": "code",
   "execution_count": 3,
   "id": "6692c8dc",
   "metadata": {},
   "outputs": [],
   "source": [
    "df_train['length'] = list(map(lambda x: len(str(x).split()), df_train['review']))\n",
    "df_test['length'] = list(map(lambda x: len(str(x).split()), df_test['review']))"
   ]
  },
  {
   "cell_type": "code",
   "execution_count": 4,
   "id": "d8b5ffee",
   "metadata": {},
   "outputs": [],
   "source": [
    "# Merge train and test sets\n",
    "df = pd.concat([df_train, df_test]).reset_index(drop=True)"
   ]
  },
  {
   "cell_type": "markdown",
   "id": "a45e866d",
   "metadata": {},
   "source": [
    "### Removal of duplicates!"
   ]
  },
  {
   "cell_type": "code",
   "execution_count": 5,
   "id": "586cd063",
   "metadata": {},
   "outputs": [],
   "source": [
    "df = df.drop_duplicates(subset=[\"condition\" ,\"review\", \"rating\"]).reset_index(drop=True)"
   ]
  },
  {
   "cell_type": "code",
   "execution_count": 6,
   "id": "6612c743",
   "metadata": {},
   "outputs": [
    {
     "data": {
      "text/plain": [
       "Levonorgestrel                       2533\n",
       "Etonogestrel                         2245\n",
       "Ethinyl estradiol / norethindrone    1945\n",
       "Phentermine                          1813\n",
       "Ethinyl estradiol / norgestimate     1519\n",
       "                                     ... \n",
       "Motofen                                 1\n",
       "Dextrostat                              1\n",
       "Oxymetholone                            1\n",
       "Locoid Lipocream                        1\n",
       "Fluorometholone                         1\n",
       "Name: drugName, Length: 3199, dtype: int64"
      ]
     },
     "execution_count": 6,
     "metadata": {},
     "output_type": "execute_result"
    }
   ],
   "source": [
    "df.drugName.value_counts()"
   ]
  },
  {
   "cell_type": "code",
   "execution_count": 7,
   "id": "1f13f6d2",
   "metadata": {},
   "outputs": [
    {
     "data": {
      "text/plain": [
       "Birth Control                                   19524\n",
       "Depression                                       7113\n",
       "Pain                                             5193\n",
       "Anxiety                                          5091\n",
       "Acne                                             4551\n",
       "                                                ...  \n",
       "Somatoform Pain Disorde                             1\n",
       "Esophageal Spasm                                    1\n",
       "Campylobacter Gastroenteritis                       1\n",
       "Peyronie's Disease                                  1\n",
       "105</span> users found this comment helpful.        1\n",
       "Name: condition, Length: 916, dtype: int64"
      ]
     },
     "execution_count": 7,
     "metadata": {},
     "output_type": "execute_result"
    }
   ],
   "source": [
    "df.condition.value_counts()"
   ]
  },
  {
   "cell_type": "code",
   "execution_count": 8,
   "id": "0bbf7c41",
   "metadata": {},
   "outputs": [
    {
     "data": {
      "text/html": [
       "<div>\n",
       "<style scoped>\n",
       "    .dataframe tbody tr th:only-of-type {\n",
       "        vertical-align: middle;\n",
       "    }\n",
       "\n",
       "    .dataframe tbody tr th {\n",
       "        vertical-align: top;\n",
       "    }\n",
       "\n",
       "    .dataframe thead th {\n",
       "        text-align: right;\n",
       "    }\n",
       "</style>\n",
       "<table border=\"1\" class=\"dataframe\">\n",
       "  <thead>\n",
       "    <tr style=\"text-align: right;\">\n",
       "      <th></th>\n",
       "      <th>rating</th>\n",
       "      <th>usefulCount</th>\n",
       "      <th>length</th>\n",
       "    </tr>\n",
       "  </thead>\n",
       "  <tbody>\n",
       "    <tr>\n",
       "      <th>count</th>\n",
       "      <td>130285.000000</td>\n",
       "      <td>130285.000000</td>\n",
       "      <td>130285.000000</td>\n",
       "    </tr>\n",
       "    <tr>\n",
       "      <th>mean</th>\n",
       "      <td>6.997582</td>\n",
       "      <td>26.924059</td>\n",
       "      <td>84.258242</td>\n",
       "    </tr>\n",
       "    <tr>\n",
       "      <th>std</th>\n",
       "      <td>3.274199</td>\n",
       "      <td>35.135337</td>\n",
       "      <td>44.962225</td>\n",
       "    </tr>\n",
       "    <tr>\n",
       "      <th>min</th>\n",
       "      <td>1.000000</td>\n",
       "      <td>0.000000</td>\n",
       "      <td>1.000000</td>\n",
       "    </tr>\n",
       "    <tr>\n",
       "      <th>25%</th>\n",
       "      <td>5.000000</td>\n",
       "      <td>6.000000</td>\n",
       "      <td>48.000000</td>\n",
       "    </tr>\n",
       "    <tr>\n",
       "      <th>50%</th>\n",
       "      <td>8.000000</td>\n",
       "      <td>15.000000</td>\n",
       "      <td>84.000000</td>\n",
       "    </tr>\n",
       "    <tr>\n",
       "      <th>75%</th>\n",
       "      <td>10.000000</td>\n",
       "      <td>35.000000</td>\n",
       "      <td>126.000000</td>\n",
       "    </tr>\n",
       "    <tr>\n",
       "      <th>max</th>\n",
       "      <td>10.000000</td>\n",
       "      <td>1291.000000</td>\n",
       "      <td>1894.000000</td>\n",
       "    </tr>\n",
       "  </tbody>\n",
       "</table>\n",
       "</div>"
      ],
      "text/plain": [
       "              rating    usefulCount         length\n",
       "count  130285.000000  130285.000000  130285.000000\n",
       "mean        6.997582      26.924059      84.258242\n",
       "std         3.274199      35.135337      44.962225\n",
       "min         1.000000       0.000000       1.000000\n",
       "25%         5.000000       6.000000      48.000000\n",
       "50%         8.000000      15.000000      84.000000\n",
       "75%        10.000000      35.000000     126.000000\n",
       "max        10.000000    1291.000000    1894.000000"
      ]
     },
     "execution_count": 8,
     "metadata": {},
     "output_type": "execute_result"
    }
   ],
   "source": [
    "df.describe()"
   ]
  },
  {
   "cell_type": "code",
   "execution_count": 9,
   "id": "6f24d724",
   "metadata": {
    "scrolled": true
   },
   "outputs": [
    {
     "name": "stdout",
     "output_type": "stream",
     "text": [
      "<class 'pandas.core.frame.DataFrame'>\n",
      "RangeIndex: 130285 entries, 0 to 130284\n",
      "Data columns (total 7 columns):\n",
      " #   Column       Non-Null Count   Dtype \n",
      "---  ------       --------------   ----- \n",
      " 0   drugName     130285 non-null  object\n",
      " 1   condition    129091 non-null  object\n",
      " 2   review       130285 non-null  object\n",
      " 3   rating       130285 non-null  int64 \n",
      " 4   date         130285 non-null  object\n",
      " 5   usefulCount  130285 non-null  int64 \n",
      " 6   length       130285 non-null  int64 \n",
      "dtypes: int64(3), object(4)\n",
      "memory usage: 7.0+ MB\n"
     ]
    }
   ],
   "source": [
    "# Convert rating from float to int\n",
    "\n",
    "df.rating = df.rating.astype(int)\n",
    "df.info()"
   ]
  },
  {
   "cell_type": "markdown",
   "id": "c5d1fb40",
   "metadata": {},
   "source": [
    "### 'Rating' column"
   ]
  },
  {
   "cell_type": "code",
   "execution_count": 10,
   "id": "fbd20ab7",
   "metadata": {},
   "outputs": [
    {
     "data": {
      "image/png": "[encoded data removed]",
      "text/plain": [
       "<Figure size 432x288 with 1 Axes>"
      ]
     },
     "metadata": {
      "needs_background": "light"
     },
     "output_type": "display_data"
    }
   ],
   "source": [
    "sns.countplot(df['rating'], color=\"orange\")\n",
    "plt.savefig('rating.png', transparent=True)"
   ]
  },
  {
   "cell_type": "code",
   "execution_count": 11,
   "id": "3ea6655c",
   "metadata": {},
   "outputs": [],
   "source": [
    "# data is skewed, imalanced towards positive ratings"
   ]
  },
  {
   "cell_type": "code",
   "execution_count": 12,
   "id": "0cd42e38",
   "metadata": {},
   "outputs": [
    {
     "data": {
      "text/plain": [
       "0    0.32\n",
       "1    0.17\n",
       "2    0.14\n",
       "3    0.12\n",
       "4    0.06\n",
       "5    0.05\n",
       "6    0.04\n",
       "7    0.04\n",
       "8    0.04\n",
       "9    0.03\n",
       "Name: rating, dtype: float64"
      ]
     },
     "execution_count": 12,
     "metadata": {},
     "output_type": "execute_result"
    }
   ],
   "source": [
    "rating = df.rating.value_counts(normalize=True).reset_index()\n",
    "round(rating.rating, 2)"
   ]
  },
  {
   "cell_type": "code",
   "execution_count": 77,
   "id": "46af9385",
   "metadata": {},
   "outputs": [
    {
     "data": {
      "image/png": "[encoded data removed]",
      "text/plain": [
       "<Figure size 576x576 with 1 Axes>"
      ]
     },
     "metadata": {},
     "output_type": "display_data"
    }
   ],
   "source": [
    "ax = sns.barplot(x=rating.iloc[:,0], y=rating.iloc[:,1], color=\"orange\")\n",
    "ax.set(xlabel='Rating', ylabel='Percentage from all reviews')\n",
    "sns.set(style = 'darkgrid', font_scale = 1.6)\n",
    "plt.rcParams['figure.figsize'] = [8, 8]\n",
    "plt.title(\"Proportion of Reviews per Condition\", fontsize = 20)\n",
    "plt.savefig('rating.png', transparent=True)"
   ]
  },
  {
   "cell_type": "markdown",
   "id": "0d38927f",
   "metadata": {},
   "source": [
    "### 'usefulCount' column"
   ]
  },
  {
   "cell_type": "code",
   "execution_count": 14,
   "id": "861e8ce1",
   "metadata": {},
   "outputs": [
    {
     "data": {
      "text/plain": [
       "<AxesSubplot:xlabel='usefulCount', ylabel='count'>"
      ]
     },
     "execution_count": 14,
     "metadata": {},
     "output_type": "execute_result"
    },
    {
     "data": {
      "image/png": "[encoded data removed]",
      "text/plain": [
       "<Figure size 432x288 with 1 Axes>"
      ]
     },
     "metadata": {
      "needs_background": "light"
     },
     "output_type": "display_data"
    }
   ],
   "source": [
    "sns.countplot(df['usefulCount'])"
   ]
  },
  {
   "cell_type": "code",
   "execution_count": 15,
   "id": "c0616615",
   "metadata": {},
   "outputs": [
    {
     "data": {
      "text/plain": [
       "<AxesSubplot:xlabel='usefulCount'>"
      ]
     },
     "execution_count": 15,
     "metadata": {},
     "output_type": "execute_result"
    },
    {
     "data": {
      "image/png": "[encoded data removed]",
      "text/plain": [
       "<Figure size 432x288 with 1 Axes>"
      ]
     },
     "metadata": {
      "needs_background": "light"
     },
     "output_type": "display_data"
    }
   ],
   "source": [
    "sns.boxplot(x=df['usefulCount'])"
   ]
  },
  {
   "cell_type": "code",
   "execution_count": 16,
   "id": "1ca20643",
   "metadata": {},
   "outputs": [
    {
     "data": {
      "image/png": "[encoded data removed]",
      "text/plain": [
       "<Figure size 576x432 with 1 Axes>"
      ]
     },
     "metadata": {
      "needs_background": "light"
     },
     "output_type": "display_data"
    }
   ],
   "source": [
    "fig, ax = plt.subplots(figsize=(8,6))\n",
    "use_rating = sns.lineplot(x='rating',y='usefulCount',data=df)\n",
    "ax.set_xticks(range(1,11))\n",
    "plt.savefig('use_rating.png', transparent=True)"
   ]
  },
  {
   "cell_type": "code",
   "execution_count": 17,
   "id": "b9c15430",
   "metadata": {
    "scrolled": true
   },
   "outputs": [
    {
     "data": {
      "text/plain": [
       "count    130285.000000\n",
       "mean         26.924059\n",
       "std          35.135337\n",
       "min           0.000000\n",
       "25%           6.000000\n",
       "50%          15.000000\n",
       "75%          35.000000\n",
       "max        1291.000000\n",
       "Name: usefulCount, dtype: float64"
      ]
     },
     "execution_count": 17,
     "metadata": {},
     "output_type": "execute_result"
    }
   ],
   "source": [
    "df['usefulCount'].describe()"
   ]
  },
  {
   "cell_type": "code",
   "execution_count": 18,
   "id": "dda5ebb5",
   "metadata": {},
   "outputs": [
    {
     "data": {
      "text/plain": [
       "5510"
      ]
     },
     "execution_count": 18,
     "metadata": {},
     "output_type": "execute_result"
    }
   ],
   "source": [
    "df.loc[df['usefulCount'] == 0, 'usefulCount'].count()"
   ]
  },
  {
   "cell_type": "code",
   "execution_count": 19,
   "id": "5530a22b",
   "metadata": {},
   "outputs": [
    {
     "data": {
      "text/plain": [
       "0      5510\n",
       "3      5340\n",
       "2      5332\n",
       "1      5251\n",
       "4      5156\n",
       "       ... \n",
       "357       1\n",
       "331       1\n",
       "307       1\n",
       "301       1\n",
       "324       1\n",
       "Name: usefulCount, Length: 397, dtype: int64"
      ]
     },
     "execution_count": 19,
     "metadata": {},
     "output_type": "execute_result"
    }
   ],
   "source": [
    "df.usefulCount.value_counts()"
   ]
  },
  {
   "cell_type": "markdown",
   "id": "a14c57d0",
   "metadata": {},
   "source": [
    "### General trends in the data"
   ]
  },
  {
   "cell_type": "markdown",
   "id": "b6373e0c",
   "metadata": {},
   "source": [
    "### [done] MARK PLOT"
   ]
  },
  {
   "cell_type": "code",
   "execution_count": 66,
   "id": "ad5a1af9",
   "metadata": {
    "scrolled": true
   },
   "outputs": [
    {
     "data": {
      "image/png": "[encoded data removed]",
      "text/plain": [
       "<Figure size 792x792 with 1 Axes>"
      ]
     },
     "metadata": {},
     "output_type": "display_data"
    }
   ],
   "source": [
    "cond = dict(df['condition'].value_counts(normalize=True))\n",
    "top_condition = list(cond.keys())[0:10]\n",
    "values = list(cond.values())[0:10]\n",
    "sns.set(style = 'darkgrid', font_scale = 1.6)\n",
    "plt.rcParams['figure.figsize'] = [11, 11]\n",
    "plt.xticks(rotation=25)\n",
    "sns_ = sns.barplot(x = top_condition, y = values, color=\"orange\")\n",
    "sns_.set_title(\"Top 10: Reviews per Condition\", fontsize = 30)\n",
    "sns_.set_xlabel(\"Condition\")\n",
    "sns_.set_ylabel(\"Precentage from all reviews\");\n",
    "plt.savefig('review_cond.png', transparent=True)"
   ]
  },
  {
   "cell_type": "code",
   "execution_count": 84,
   "id": "b817eb0d",
   "metadata": {},
   "outputs": [
    {
     "data": {
      "image/png": "[encoded data removed]",
      "text/plain": [
       "<Figure size 720x576 with 1 Axes>"
      ]
     },
     "metadata": {},
     "output_type": "display_data"
    }
   ],
   "source": [
    "sns.set(font_scale = 1.2, style = 'darkgrid')\n",
    "plt.rcParams['figure.figsize'] = [10, 8]\n",
    "\n",
    "rating = dict(df.loc[df.rating == 10, \"drugName\"].value_counts())\n",
    "drugname = list(rating.keys())\n",
    "drug_rating = list(rating.values())\n",
    "\n",
    "sns_rating = sns.barplot(x = drugname[0:20], y = drug_rating[0:20])\n",
    "\n",
    "sns_rating.set_title('Top 20 drugs with 10/10 rating')\n",
    "sns_rating.set_ylabel(\"Number of Ratings\")\n",
    "sns_rating.set_xlabel(\"Drug Names\")\n",
    "plt.setp(sns_rating.get_xticklabels(), rotation=90);"
   ]
  },
  {
   "cell_type": "code",
   "execution_count": 85,
   "id": "306d29e1",
   "metadata": {},
   "outputs": [
    {
     "data": {
      "image/png": "[encoded data removed]",
      "text/plain": [
       "<Figure size 720x576 with 1 Axes>"
      ]
     },
     "metadata": {},
     "output_type": "display_data"
    }
   ],
   "source": [
    "sns.set(font_scale = 1.2, style = 'darkgrid')\n",
    "plt.rcParams['figure.figsize'] = [10, 8]\n",
    "\n",
    "rating = dict(df.loc[df.rating == 1, \"drugName\"].value_counts())\n",
    "drugname = list(rating.keys())\n",
    "drug_rating = list(rating.values())\n",
    "\n",
    "sns_rating = sns.barplot(x = drugname[0:20], y = drug_rating[0:20], palette = 'winter')\n",
    "\n",
    "sns_rating.set_title('Top 20 drugs with 1/10 rating')\n",
    "sns_rating.set_ylabel(\"Number of Ratings\")\n",
    "sns_rating.set_xlabel(\"Drug Names\")\n",
    "plt.setp(sns_rating.get_xticklabels(), rotation=90);"
   ]
  },
  {
   "cell_type": "markdown",
   "id": "211aa51e",
   "metadata": {},
   "source": [
    "### MARK PLOT"
   ]
  },
  {
   "cell_type": "code",
   "execution_count": 126,
   "id": "a0098915",
   "metadata": {},
   "outputs": [
    {
     "data": {
      "text/plain": [
       "Text(0.5, 1.0, 'Top 10 : Number of Drugs per Condition')"
      ]
     },
     "execution_count": 126,
     "metadata": {},
     "output_type": "execute_result"
    },
    {
     "data": {
      "image/png": "[encoded data removed]",
      "text/plain": [
       "<Figure size 720x432 with 1 Axes>"
      ]
     },
     "metadata": {},
     "output_type": "display_data"
    }
   ],
   "source": [
    "\n",
    "condition_dn = df.groupby(['condition_clean'])['drugName'].nunique().sort_values(ascending=False)\n",
    "condition_dn[0:10].plot(kind=\"bar\", figsize = (10,6), fontsize = 12,color=\"orange\")\n",
    "plt.xlabel(\"\", fontsize = 20)\n",
    "plt.ylabel(\"\", fontsize = 20)\n",
    "#plt.xticks(rotation=25)\n",
    "plt.title(\"Top 10 : Number of Drugs per Condition\", fontsize = 20)"
   ]
  },
  {
   "cell_type": "markdown",
   "id": "5d25a87f",
   "metadata": {},
   "source": [
    "## Data Cleaning"
   ]
  },
  {
   "cell_type": "markdown",
   "id": "caea6071",
   "metadata": {},
   "source": [
    "### Clean 'condition' column"
   ]
  },
  {
   "cell_type": "code",
   "execution_count": 87,
   "id": "44bb4b33",
   "metadata": {},
   "outputs": [],
   "source": [
    "df[\"condition_clean\"] = df.condition.apply(lambda x: \"Unknown\" if str(x).__contains__(\"users found this comment helpful.\") else x)"
   ]
  },
  {
   "cell_type": "code",
   "execution_count": 88,
   "id": "331f2c43",
   "metadata": {},
   "outputs": [
    {
     "data": {
      "text/plain": [
       "1171"
      ]
     },
     "execution_count": 88,
     "metadata": {},
     "output_type": "execute_result"
    }
   ],
   "source": [
    "df.loc[df[\"condition_clean\"] == \"Unknown\", \"condition_clean\"].count() "
   ]
  },
  {
   "cell_type": "code",
   "execution_count": 89,
   "id": "1b06d2f1",
   "metadata": {},
   "outputs": [
    {
     "data": {
      "text/plain": [
       "838"
      ]
     },
     "execution_count": 89,
     "metadata": {},
     "output_type": "execute_result"
    }
   ],
   "source": [
    "df[\"condition_clean\"].apply(lambda x: str(x).lower()).nunique()"
   ]
  },
  {
   "cell_type": "code",
   "execution_count": 90,
   "id": "ef1208e5",
   "metadata": {},
   "outputs": [
    {
     "data": {
      "text/plain": [
       "array(['Left Ventricular Dysfunction', 'ADHD', 'Birth Control',\n",
       "       'Opiate Dependence', 'Benign Prostatic Hyperplasia',\n",
       "       'Emergency Contraception', 'Bipolar Disorde', 'Epilepsy',\n",
       "       'Migraine Prevention', 'Depression', \"Crohn's Disease\", 'Cough',\n",
       "       'Obesity', 'Urinary Tract Infection', 'ibromyalgia',\n",
       "       'Chronic Myelogenous Leukemia', 'HIV Infection', 'Insomnia',\n",
       "       'Rheumatoid Arthritis', 'Vaginal Yeast Infection',\n",
       "       'Chlamydia Infection', 'Hirsutism', 'Panic Disorde', 'Migraine',\n",
       "       nan, 'Pain', 'Irritable Bowel Syndrome', 'Osteoarthritis',\n",
       "       'Constipation', 'Bowel Preparation', 'Psychosis', 'Muscle Spasm',\n",
       "       'Hepatitis C', 'Overactive Bladde', 'Diabetes, Type 2',\n",
       "       'Asthma, Maintenance', 'Non-Small Cell Lung Cance',\n",
       "       'Schizophrenia', 'Dysuria', 'Smoking Cessation', 'Anxiety', 'Acne',\n",
       "       'emale Infertility', 'Constipation, Acute',\n",
       "       'Constipation, Drug Induced', 'Erectile Dysfunction',\n",
       "       'Trigeminal Neuralgia', 'Underactive Thyroid', 'Chronic Pain',\n",
       "       'Atrophic Vaginitis', 'Skin and Structure Infection', 'Tinnitus',\n",
       "       'Major Depressive Disorde', 'Anxiety and Stress', 'Rosacea',\n",
       "       'High Blood Pressure', 'Unknown', 'Restless Legs Syndrome',\n",
       "       'Osteolytic Bone Metastases of Solid Tumors', 'Bronchitis',\n",
       "       'Skin or Soft Tissue Infection', 'Obsessive Compulsive Disorde',\n",
       "       'Endometriosis', 'Keratoconjunctivitis Sicca', 'Breakthrough Pain',\n",
       "       'Seizures', 'Neuropathic Pain', 'Sedation', 'Menstrual Disorders',\n",
       "       'Allergic Rhinitis', 'Anesthesia',\n",
       "       'Undifferentiated Connective Tissue Disease', 'Diabetes, Type 1',\n",
       "       'Abnormal Uterine Bleeding', 'Weight Loss',\n",
       "       'Constipation, Chronic', 'Breast Cancer, Metastatic',\n",
       "       'Period Pain', 'Helicobacter Pylori Infection',\n",
       "       'Atrial Fibrillation', 'Uterine Fibroids', 'Kidney Infections',\n",
       "       'Generalized Anxiety Disorde', 'Asthma', 'Postmenopausal Symptoms',\n",
       "       'High Cholesterol', 'Hypogonadism, Male', 'Hyperthyroidism',\n",
       "       'Back Pain', 'Anaplastic Oligodendroglioma', \"Sjogren's Syndrome\",\n",
       "       'Asthma, acute', 'Hot Flashes', 'Herpes Simplex, Suppression',\n",
       "       'Bacterial Infection', 'Bursitis', 'Diaper Rash',\n",
       "       'Systemic Mastocytosis', 'Trichotillomania', \"Hashimoto's disease\",\n",
       "       'Eczema', 'Dental Abscess', 'Headache', 'Hypersomnia',\n",
       "       'Xerostomia', 'Breast Cance', 'Sore Throat', \"Barrett's Esophagus\",\n",
       "       'Pain/Feve', 'Diverticulitis', 'Sinusitis',\n",
       "       'Polycystic Ovary Syndrome', 'Influenza',\n",
       "       'Hypothyroidism, After Thyroid Removal', 'Onychomycosis, Toenail',\n",
       "       'Progesterone Insufficiency', 'GERD',\n",
       "       'Nausea/Vomiting, Postoperative', 'Herpes Simplex',\n",
       "       'Gastroparesis', 'Gout, Acute', 'Motion Sickness',\n",
       "       'Multiple Sclerosis', 'Autism', 'Otitis Media',\n",
       "       'Upper Respiratory Tract Infection', 'Surgical Prophylaxis',\n",
       "       'Psoriatic Arthritis', 'Erosive Esophagitis',\n",
       "       'Premature Ventricular Depolarizations', 'Stomach Ulce',\n",
       "       'Nausea/Vomiting', 'Light Anesthesia',\n",
       "       'Angina Pectoris Prophylaxis', 'Paranoid Disorde', 'Prostatitis',\n",
       "       'Extrapyramidal Reaction', 'mance Anxiety', 'Night Terrors',\n",
       "       'High Cholesterol, Familial Heterozygous', 'Spondyloarthritis',\n",
       "       'Clostridial Infection', 'Dermatomyositis', 'Bronchiectasis',\n",
       "       'Nasal Congestion', 'Benign Essential Trem', 'Angina',\n",
       "       'moterol / mometasone)', 'Impetig', 'Conjunctivitis, Bacterial',\n",
       "       'Post Traumatic Stress Disorde', 'Alcohol Withdrawal', 'Psoriasis',\n",
       "       'Cold Sores', 'Hyperhidrosis', 'Ankylosing Spondylitis',\n",
       "       'Hemorrhoids', 'Schizoaffective Disorde', 'Not Listed / Othe',\n",
       "       'Rhinitis', 'Oral Thrush', 'Hyperlipoproteinemia',\n",
       "       'Neutropenia Associated with Chemotherapy', 'Osteoporosis',\n",
       "       'Reflex Sympathetic Dystrophy Syndrome', 'Urticaria', 'Narcolepsy',\n",
       "       'Systemic Lupus Erythematosus', 'Ulcerative Colitis',\n",
       "       'Adult Human Growth Hormone Deficiency', 'Bacterial Vaginitis',\n",
       "       'COPD, Maintenance', 'Anorexia', 'TSH Suppression',\n",
       "       'Breast Cancer, Adjuvant', 'Glaucoma',\n",
       "       'Cough and Nasal Congestion', 'Inflammatory Conditions',\n",
       "       'Urinary Incontinence', 'Gout', 'Bladder Infection',\n",
       "       'Human Papillomavirus Prophylaxis', 'Glioblastoma Multiforme',\n",
       "       'Strep Throat', 'Bacterial Skin Infection',\n",
       "       'Hereditary Angioedema', 'Cold Symptoms', 'Labor Pain', 'Dry Skin',\n",
       "       'Diabetes Insipidus',\n",
       "       'Methicillin-Resistant Staphylococcus Aureus Infection',\n",
       "       'Borderline Personality Disorde', 'Amenorrhea', 'Pneumonia',\n",
       "       'Seborrheic Dermatitis', 'Interstitial Cystitis',\n",
       "       'Malaria Prevention', 'Prevention of Dental Caries',\n",
       "       'Herbal Supplementation', 'Plaque Psoriasis', \"Raynaud's Syndrome\",\n",
       "       \"Addison's Disease\", 'Prostate Cance', 'Allergies',\n",
       "       'Opioid-Induced Constipation', 'moterol)', 'Diarrhea',\n",
       "       'Seasonal Allergic Conjunctivitis', 'Opioid Overdose',\n",
       "       'Spondylolisthesis', 'Shift Work Sleep Disorde',\n",
       "       'Obstructive Sleep Apnea/Hypopnea Syndrome',\n",
       "       'Nausea/Vomiting of Pregnancy', 'Mucositis',\n",
       "       'Ulcerative Colitis, Active', 'Head Lice',\n",
       "       'Tonsillitis/Pharyngitis', 'Pseudotumor Cerebri',\n",
       "       \"Parkinson's Disease\", 'Sciatica', 'Cance',\n",
       "       'Bacterial Endocarditis Prevention', 'Diarrhea, Chronic',\n",
       "       'Hypertensive Emergency', 'Keratosis', 'Ovarian Cysts',\n",
       "       \"Behcet's Disease\", 'Chronic Idiopathic Constipation',\n",
       "       'lic Acid Deficiency', 'Chronic Fatigue Syndrome',\n",
       "       'Basal Cell Carcinoma', 'Cataplexy',\n",
       "       \"Crohn's Disease, Maintenance\", 'Diabetic Peripheral Neuropathy',\n",
       "       'Arrhythmia', 'Primary Ovarian Failure', 'Influenza Prophylaxis',\n",
       "       'Agitated State', 'Heart Failure', 'atigue', 'Opiate Withdrawal',\n",
       "       'Endometrial Hyperplasia, Prophylaxis', 'Immunosuppression',\n",
       "       'Dystonia', 'Alopecia', 'Vulvodynia',\n",
       "       'Premenstrual Dysphoric Disorde', 'Alcohol Dependence',\n",
       "       'Myasthenia Gravis', 'Social Anxiety Disorde', 'Atopic Dermatitis',\n",
       "       'Schistosoma japonicum', 'Sinus Symptoms', 'min / sitagliptin)',\n",
       "       'Dermatitis', 'Eye Redness', 'Warts', 'Menorrhagia',\n",
       "       'Seizure Prevention', 'Ophthalmic Surgery', 'Skin Rash',\n",
       "       'Condylomata Acuminata', 'NSAID-Induced Ulcer Prophylaxis',\n",
       "       'Tinea Versicol', 'Peripheral Neuropathy', 'Deep Vein Thrombosis',\n",
       "       'Heart Attack', 'Pulmonary Embolism, Recurrent Event',\n",
       "       'Light Sedation', 'Acute Lymphoblastic Leukemia',\n",
       "       'Hyperprolactinemia', 'Indigestion', 'Hepatitis B', 'Dysautonomia',\n",
       "       'Status Epilepticus', 'Postpartum Depression', 'Multiple Myeloma',\n",
       "       'Prevention of Hypokalemia', 'Edema', 'Urinary Retention',\n",
       "       'Prevention of Thromboembolism in Atrial Fibrillation',\n",
       "       'Cluster Headaches', 'Sexual Dysfunction, SSRI Induced',\n",
       "       'Dermatitis Herpetiformis', 'Temporomandibular Joint Disorde',\n",
       "       'Burns, External', 'Actinic Keratosis', 'Pharyngitis',\n",
       "       'Melanoma, Metastatic', 'Atrial Flutte', 'Lyme Disease',\n",
       "       'Dry Eye Disease', 'Allergic Reactions', 'Hypertriglyceridemia',\n",
       "       'Pruritus', 'Carcinoid Tum', 'Muscle Pain', 'Colorectal Cance',\n",
       "       'Vitamin/Mineral Supplementation during Pregnancy/Lactation',\n",
       "       'Nausea/Vomiting, Chemotherapy Induced', 'Women (oxybutynin)',\n",
       "       'Primary Immunodeficiency Syndrome',\n",
       "       'New Daily Persistent Headache',\n",
       "       'Pneumococcal Disease Prophylaxis', 'Burning Mouth Syndrome',\n",
       "       'Urinary Tract Stones', 'Pseudobulbar Affect',\n",
       "       'Eye Redness/Itching', 'Deep Vein Thrombosis, First Event',\n",
       "       'Pulmonary Hypertension', 'Malaria', 'Sarcoidosis',\n",
       "       'Dietary Supplementation', 'Bulimia', 'Tendonitis', 'Nasal Polyps',\n",
       "       'Hypokalemia', 'Anemia, Sickle Cell', 'Uveitis',\n",
       "       'Streptococcal Infection', 'Perimenopausal Symptoms',\n",
       "       'Asperger Syndrome', 'Tinea Corporis', 'Mania',\n",
       "       'Renal Cell Carcinoma', 'COPD', 'Biliary Cirrhosis', 'Vertig',\n",
       "       'Reversal of Opioid Sedation', \"Non-Hodgkin's Lymphoma\",\n",
       "       'High Cholesterol, Familial Homozygous',\n",
       "       'Periodic Limb Movement Disorde', 'Supraventricular Tachycardia',\n",
       "       'Hypoestrogenism', 'Juvenile Idiopathic Arthritis', 'Swine Flu',\n",
       "       'Giardiasis', 'Binge Eating Disorde', \"Tourette's Syndrome\",\n",
       "       'Trichomoniasis', 'acial Wrinkles', 'Pulmonary Embolism',\n",
       "       'Conjunctivitis, Allergic', 'Avian Influenza', 'Hemangioma',\n",
       "       'Nocturnal Leg Cramps', 'Thyroid Suppression Test',\n",
       "       'Muscle Twitching', 'Pupillary Dilation',\n",
       "       'Lennox-Gastaut Syndrome', 'Opiate Adjunct', 'Postoperative Pain',\n",
       "       'Candida Urinary Tract Infection', 'Cerebral Spasticity',\n",
       "       'Lipodystrophy', 'Androgenetic Alopecia', 'Computed Tomography',\n",
       "       'Mitral Valve Prolapse', 'Vitamin D Deficiency',\n",
       "       'Glaucoma, Open Angle', 'Endoscopy or Radiology Premedication',\n",
       "       \"Alzheimer's Disease\", 'Gouty Arthritis',\n",
       "       'Paroxysmal Supraventricular Tachycardia',\n",
       "       'Deep Vein Thrombosis, Prophylaxis', 'Gaucher Disease',\n",
       "       'Lymphocytic Colitis', 'Pancreatic Cance', 'Cystic Fibrosis',\n",
       "       'Noninfectious Colitis', 'Nephrocalcinosis',\n",
       "       'Iron Deficiency Anemia', 'mulation) (phenylephrine)', 'Hiccups',\n",
       "       'Bronchospasm Prophylaxis', 'Chronic Spasticity',\n",
       "       'min / saxagliptin)', 'Post-Cholecystectomy Diarrhea',\n",
       "       'Postherpetic Neuralgia', 'Insomnia, Stimulant-Associated',\n",
       "       'COPD, Acute', 'Herpes Simplex Dendritic Keratitis',\n",
       "       'Oophorectomy', 'Cyclic Vomiting Syndrome',\n",
       "       'Chronic Lymphocytic Leukemia', 'Lyme Disease, Arthritis',\n",
       "       'Pseudomembranous Colitis', 'Conjunctivitis', 'min)',\n",
       "       'Intraocular Hypertension', 'Aphthous Ulce',\n",
       "       'Ulcerative Colitis, Maintenance', 'Melasma',\n",
       "       'Lyme Disease, Neurologic', 'ge (amlodipine / valsartan)',\n",
       "       'Herpes Zoste', 'Cervical Dystonia', 'Labor Induction',\n",
       "       'Human Papilloma Virus', 'Chronic Pancreatitis',\n",
       "       'Polycythemia Vera', 'Dermatological Disorders',\n",
       "       'Lewy Body Dementia', 'amilial Mediterranean Feve', 'Neurosurgery',\n",
       "       'Gastroenteritis', 'Macular Edema', 'Tinea Pedis',\n",
       "       'Diagnosis and Investigation', 'Gas', 'Neuralgia',\n",
       "       'Local Anesthesia', 'Acute Coronary Syndrome',\n",
       "       'Aspiration Pneumonia', 'Idiopathic Thrombocytopenic Purpura',\n",
       "       'Onychomycosis, Fingernail', 'Photoaging of the Skin',\n",
       "       'Premature Lab', 'Precocious Puberty',\n",
       "       'Prevention of Bladder infection', 'Seasonal Affective Disorde',\n",
       "       'Diabetic Kidney Disease', \"Crohn's Disease, Acute\",\n",
       "       'Insulin Resistance Syndrome', 'Pudendal Neuralgia',\n",
       "       \"Reiter's Syndrome\", 'Amyotrophic Lateral Sclerosis',\n",
       "       'Body Dysmorphic Disorde',\n",
       "       'Prosthetic Heart Valves, Mechanical Valves - Thrombosis Prophylaxis',\n",
       "       'Dandruff', 'Vitamin B12 Deficiency', 'Bone infection',\n",
       "       'Prosthetic Heart Valves, Tissue Valves - Thrombosis Prophylaxis',\n",
       "       'Iritis', 'Allergic Urticaria', 'Cardiovascular Risk Reduction',\n",
       "       'Giant Cell Tumor of Bone', 'Babesiosis',\n",
       "       'Secondary Hyperparathyroidism', 'Hypoparathyroidism',\n",
       "       'Performance Anxiety', 'Abortion', 'Skin Cance',\n",
       "       'Ovulation Induction', 'Liver Magnetic Resonance Imaging',\n",
       "       'Vitamin/Mineral Supplementation and Deficiency',\n",
       "       'Herpes Simplex, Mucocutaneous/Immunocompetent Host',\n",
       "       'Anemia Associated with Chronic Renal Failure',\n",
       "       'Hyperphosphatemia of Renal Failure',\n",
       "       'Dissociative Identity Disorde', 'Anal Fissure and Fistula',\n",
       "       'Herpes Simplex, Mucocutaneous/Immunocompromised Host', 'Scabies',\n",
       "       'Endometrial Cance', 'Transient Ischemic Attack',\n",
       "       'Granuloma Annulare', \"Traveler's Diarrhea\", 'Candidemia',\n",
       "       't Pac with Cyclobenzaprine (cyclobenzaprine)',\n",
       "       'Hypoactive Sexual Desire Disorde', 'Epicondylitis, Tennis Elbow',\n",
       "       'Nightmares', 'Dientamoeba fragilis', 'Ventricular Tachycardia',\n",
       "       'Dumping Syndrome', 'Myelodysplastic Syndrome', 'Hypodermoclysis',\n",
       "       'zen Shoulde', 'Topical Disinfection', 'Perioral Dermatitis',\n",
       "       'Agitation', 'Intermittent Claudication',\n",
       "       'Prevention of Osteoporosis', 'Leukemia', 'Dermatitis Herpeti',\n",
       "       'mis', 'Eosinophilic Esophagitis',\n",
       "       'Hyperlipoproteinemia Type IIa, Elevated LDL',\n",
       "       'Endometrial Hyperplasia', 'Peptic Ulce',\n",
       "       'Chronic Myofascial Pain', 'Enterocolitis',\n",
       "       'Secondary Cutaneous Bacterial Infections', 'Syringomyelia',\n",
       "       'Postoperative Ocular Inflammation',\n",
       "       'Persistent Depressive Disorde', 'Otitis Externa',\n",
       "       'Organ Transplant, Rejection Prophylaxis',\n",
       "       'Intermittent Explosive Disorde', 'Dermatophytosis',\n",
       "       'Inflammatory Bowel Disease', 'Porphyria', 'Anemia',\n",
       "       'Hyperuricemia Secondary to Chemotherapy',\n",
       "       'Wolff-Parkinson-White Syndrome', 'eve', 'Ectopic Pregnancy',\n",
       "       'Thyroid Cance', 'Tuberculosis, Latent',\n",
       "       'Nasal Carriage of Staphylococcus aureus', 'Systemic Candidiasis',\n",
       "       'Ear Wax Impaction', 'Hepatocellular Carcinoma', 'Dyspareunia',\n",
       "       'Tic Disorde', 'Head and Neck Cance', 'Klinefelter Syndrome',\n",
       "       'Rhinorrhea', 'Soft Tissue Sarcoma', 'Diabetic Macular Edema',\n",
       "       'Menopausal Disorders', 'Anesthetic Adjunct', 'Tinea Cruris',\n",
       "       'tic (mycophenolic acid)', 'Ischemic Stroke', 'Malignant Glioma',\n",
       "       'Thrombocythemia', 'Atrophic Urethritis', 'Systemic Sclerosis',\n",
       "       'Macular Degeneration', 'AIDS Related Wasting', 'Hemophilia A',\n",
       "       'Osteolytic Bone Lesions of Multiple Myeloma',\n",
       "       'Autoimmune Hemolytic Anemia', 'ailure to Thrive',\n",
       "       'Strongyloidiasis', 'Vitamin K Deficiency', 'Ulcerative Proctitis',\n",
       "       'Premenstrual Syndrome', 'Primary Hyperaldosteronism',\n",
       "       'Lactose Intolerance', 'Anal Itching',\n",
       "       'amilial Cold Autoinflammatory Syndrome', 'Duodenal Ulce',\n",
       "       'Tuberculosis, Prophylaxis', 'Neurosis', \"Turner's Syndrome\",\n",
       "       'NSAID-Induced Gastric Ulce', 'CNS Magnetic Resonance Imaging',\n",
       "       'Atherosclerosis',\n",
       "       'Deep Vein Thrombosis Prophylaxis after Hip Replacement Surgery',\n",
       "       'Gastritis/Duodenitis', 'Diarrhea, Acute', 'Costochondritis',\n",
       "       'Portal Hypertension', 'Glaucoma/Intraocular Hypertension',\n",
       "       'Toothache', 'Benzodiazepine Withdrawal', 'm Pain Disorde',\n",
       "       'Esophageal Candidiasis',\n",
       "       'Deep Vein Thrombosis Prophylaxis after Knee Replacement Surgery',\n",
       "       'Peripheral Arterial Disease',\n",
       "       'Deep Vein Thrombosis, Recurrent Event', 'Pseudogout, Prophylaxis',\n",
       "       'Lichen Planus', 'CMV Prophylaxis', 'Neuritis', 'Typhoid Feve',\n",
       "       'Tardive Dyskinesia', 'Ichthyosis',\n",
       "       'Juvenile Rheumatoid Arthritis', 'B12 Nutritional Deficiency',\n",
       "       'Primary Nocturnal Enuresis', \"Dercum's Disease\",\n",
       "       'Cutaneous Candidiasis', 'Gingivitis', 'Q Feve', 'Hyperekplexia',\n",
       "       'Niacin Deficiency', 'Dietary Fiber Supplementation',\n",
       "       'Nephrotic Syndrome',\n",
       "       'Pinworm Infection (Enterobius vermicularis)',\n",
       "       'Pancreatic Exocrine Dysfunction',\n",
       "       'Nausea/Vomiting, Radiation Induced', 'Schilling Test',\n",
       "       'Mild Cognitive Impairment', 'Ischemic Stroke, Prophylaxis',\n",
       "       'Gonococcal Infection, Uncomplicated', 'Ovarian Cance',\n",
       "       'Eyelash Hypotrichosis', \"Meniere's Disease\", 'Tinea Capitis',\n",
       "       'Lichen Sclerosus', 'min / pioglitazone)', 'Renal Transplant',\n",
       "       'Gout, Prophylaxis', \"von Willebrand's Disease\",\n",
       "       'Prevention of Atherothrombotic Events', 'Small Fiber Neuropathy',\n",
       "       'min / rosiglitazone)', \"Peyronie's Disease\",\n",
       "       'Autoimmune Hepatitis', 'llicular Lymphoma',\n",
       "       'Auditory Processing Disorde', 'Herpes Zoster, Prophylaxis',\n",
       "       'Submental Fullness', 'Lactation Augmentation',\n",
       "       'Radionuclide Myocardial Perfusion Study',\n",
       "       'Prevention of Cardiovascular Disease', 'Varicella-Zoste',\n",
       "       'Pelvic Inflammatory Disease', 'Intraabdominal Infection', 'Croup',\n",
       "       'Dermatologic Lesion',\n",
       "       'Hyperlipoproteinemia Type IV, Elevated VLDL', 'Expectoration',\n",
       "       'Primary Hyperaldosteronism Diagnosis', 'Abdominal Distension',\n",
       "       'Salivary Gland Cance', 'Pulmonary Embolism, First Event',\n",
       "       'Postpartum Breast Pain',\n",
       "       'Postural Orthostatic Tachycardia Syndrome',\n",
       "       'Pediatric Growth Hormone Deficiency', 'Hypomagnesemia',\n",
       "       'ge HCT (amlodipine / hydrochlorothiazide / valsartan)',\n",
       "       'Hairy Cell Leukemia', 'Histoplasmosis', 'Hypoglycemia',\n",
       "       'Brain Tum', 'Gastrointestinal Stromal Tum', 'Tetanus',\n",
       "       'Breast Cancer, Prevention', 'ICU Agitation', 'Women (minoxidil)',\n",
       "       'Peripheral T-cell Lymphoma',\n",
       "       'Chronic Inflammatory Demyelinating Polyradiculoneuropathy',\n",
       "       'Pathological Hypersecretory Conditions',\n",
       "       'Oral and Dental Conditions', 'Antiphospholipid Syndrome',\n",
       "       'Ventricular Arrhythmia', 'Asystole', \"Wegener's Granulomatosis\",\n",
       "       'Thromboembolic Stroke Prophylaxis',\n",
       "       'Platelet Aggregation Inhibition', 'Sleep Paralysis',\n",
       "       'Rejection Prophylaxis', 'Delayed Puberty, Male', 'Ascariasis',\n",
       "       'Acute Promyelocytic Leukemia', 'Bartonellosis',\n",
       "       'Cyclothymic Disorde', 'Hypokalemic Periodic Paralysis',\n",
       "       'Varicose Veins', 'Mononucleosis', 'Cachexia', 'Hyperkalemia',\n",
       "       \"Still's Disease\", 'Dementia', 'Ocular Rosacea',\n",
       "       'Hidradenitis Suppurativa', 'SIADH', 'Bullous Pemphigoid',\n",
       "       'Angioedema', 'Mountain Sickness / Altitude Sickness',\n",
       "       'Severe Mood Dysregulation', 'Cutaneous T-cell Lymphoma',\n",
       "       'Adrenocortical Insufficiency', 'Myxedema Coma',\n",
       "       'Small Bowel Bacterial Overgrowth', 'Sunburn',\n",
       "       'Transverse Myelitis', 'Squamous Cell Carcinoma', 'Parkinsonism',\n",
       "       'Thyrotoxicosis', 'Epididymitis, Sexually Transmitted',\n",
       "       'Neck Pain', 'Bleeding Disorde', 'actor IX Deficiency', 'Melanoma',\n",
       "       'Thrombocytopenia', 'Esophageal Variceal Hemorrhage Prophylaxis',\n",
       "       'Glioblastoma Multi', 'Cholera', 'Anorexia/Feeding Problems',\n",
       "       'Peritonitis', 'AV Heart Block', 'Pe', \"Wilson's Disease\",\n",
       "       'Nonalcoholic Fatty Liver Disease', 'Sepsis', 'Anthrax',\n",
       "       'Body Imaging', 'Aggressive Behavi', 'Hepatic Tum', 'Ehrlichiosis',\n",
       "       'Hypopituitarism', 'Gender Dysphoria', 'Infectious Diarrhea',\n",
       "       'Ventricular Fibrillation', 'Anaphylaxis', 'Pemphigus',\n",
       "       'Multiple Endocrine Adenomas', 'Pre-Exposure Prophylaxis',\n",
       "       'Postoperative Increased Intraocular Pressure',\n",
       "       'Pruritus of Partial Biliary Obstruction', 'Pertussis',\n",
       "       'Periodontitis', 'Lymphoma', 'Hypercalcemia of Malignancy',\n",
       "       'Pityriasis rubra pilaris', 'Amebiasis', 't Care',\n",
       "       'Hepatic Encephalopathy', 'Deep Neck Infection',\n",
       "       'Meningitis, Meningococcal', 'Parkinsonian Trem',\n",
       "       'Rabies Prophylaxis', 'Hypotension', 'Myelofibrosis',\n",
       "       'cal Segmental Glomerulosclerosis',\n",
       "       'Gastric Ulcer Maintenance Treatment', \"Paget's Disease\",\n",
       "       'Infection Prophylaxis', 'Gastrointestinal Decontamination',\n",
       "       'Mixed Connective Tissue Disease', 'Somatoform Pain Disorde',\n",
       "       'Esophageal Spasm', 'Campylobacter Gastroenteritis',\n",
       "       'Hyperphosphatemia', 'Oligospermia', 'Wound Cleansing',\n",
       "       'Euvolemic Hyponatremia', 'Gallbladder Disease',\n",
       "       'Mycobacterium avium-intracellulare, Treatment',\n",
       "       'Oppositional Defiant Disorde', 'Legionella Pneumonia',\n",
       "       'Breast Cancer, Palliative', 'Hydrocephalus',\n",
       "       'Hyperlipoproteinemia Type III, Elevated beta-VLDL   IDL',\n",
       "       'Anaplastic Astrocytoma', \"Dupuytren's contracture\",\n",
       "       'Mumps Prophylaxis', 'Skin Disinfection, Preoperative',\n",
       "       'Hyperbilirubinemia', 'Meningitis', 'Corneal Ulce',\n",
       "       'acial Lipoatrophy', 'Percutaneous Coronary Intervention',\n",
       "       'Hepatitis B Prevention', 'Tuberculosis, Active',\n",
       "       'Cerebrovascular Insufficiency', 'Head Injury',\n",
       "       'Anti NMDA Receptor Encephalitis', 'Nonoccupational Exposure',\n",
       "       'Gonadotropin Inhibition', 'unctional Gastric Disorde',\n",
       "       'Chronic Eosinophilic Leukemia', 'Acetaminophen Overdose',\n",
       "       'Duodenal Ulcer Prophylaxis', 'Paragonimus westermani, Lung Fluke',\n",
       "       'Alpha-1 Proteinase Inhibitor Deficiency', \"Cogan's Syndrome\",\n",
       "       'Uterine Bleeding', 'Stomach Cance', 'Sporotrichosis',\n",
       "       'Cluster-Tic Syndrome', 'Gestational Diabetes',\n",
       "       'Stress Ulcer Prophylaxis',\n",
       "       'Reversal of Nondepolarizing Muscle Relaxants', 'Solid Tumors',\n",
       "       'mist (', 'Schnitzler Syndrome', 'Hypocalcemia',\n",
       "       'Meningococcal Meningitis Prophylaxis', 'Nocardiosis',\n",
       "       'Hemophilia B', 'Microscopic polyangiitis',\n",
       "       'Gonococcal Infection, Disseminated', 'Neurotic Depression',\n",
       "       'Keratitis', \"Hodgkin's Lymphoma\", 'me', 'STD Prophylaxis',\n",
       "       'Small Bowel or Pancreatic Fistula',\n",
       "       'Prevention of Perinatal Group B Streptococcal Disease',\n",
       "       'Cerebral Edema', 'Testicular Cance', 'Short Stature for Age',\n",
       "       'Aspergillosis, Aspergilloma', 'Pemphigoid',\n",
       "       'Hyperparathyroidism Secondary to Renal Impairment',\n",
       "       'Ramsay Hunt Syndrome', 'Cutaneous Larva Migrans',\n",
       "       'Occipital Neuralgia', 'Blepharitis', 'Patent Ductus Arteriosus',\n",
       "       'Joint Infection', 'Manscaping Pain', 'Strabismus',\n",
       "       'Organ Transplant, Rejection Reversal',\n",
       "       'Leukocytoclastic Vasculitis', 'Coronary Artery Disease',\n",
       "       'Gastric Cance', 'ibrocystic Breast Disease',\n",
       "       'ungal Infection Prophylaxis', 'Short Stature', 'Hypercalcemia',\n",
       "       'Coccidioidomycosis', 'Cyclitis', 'Anemia, Chemotherapy Induced',\n",
       "       'Upper Limb Spasticity', 'Diagnostic Bronchograms',\n",
       "       'Neoplastic Diseases', 'Mycoplasma Pneumonia',\n",
       "       'Linear IgA Disease', 'Subarachnoid Hemorrhage',\n",
       "       'Myeloproliferative Disorders', 'ungal Pneumonia', 'Scleroderma',\n",
       "       'Zollinger-Ellison Syndrome', 'Tinea Barbae',\n",
       "       'Acute Nonlymphocytic Leukemia', 'Neutropenia', 'Rat-bite Feve',\n",
       "       'Uveitis, Posteri', 'Premature Ejaculation',\n",
       "       'Polymyositis/Dermatomyositis', 'Corneal Refractive Surgery',\n",
       "       'Gastrointestinal Hemorrhage', 'Bacteremia', 'Jet Lag',\n",
       "       'llicle Stimulation', 'Myotonia Congenita', 'Aplastic Anemia',\n",
       "       'Hemorrhoids (pramoxine / zinc oxide)',\n",
       "       'Salmonella Gastroenteritis', 'Somat',\n",
       "       'Nausea (phosphorated carbohydrate solution)',\n",
       "       'Occupational Exposure', 'Tympanostomy Tube Placement Surgery',\n",
       "       'Pulmonary Edema', 'Mantle Cell Lymphoma',\n",
       "       'Lyme Disease, Erythema Chronicum Migrans',\n",
       "       'Renal Tubular Acidosis', 'Yellow Fever Prophylaxis',\n",
       "       'Acute Otitis Externa',\n",
       "       'Steroid Responsive Inflammatory Conditions',\n",
       "       'Pertussis Prophylaxis'], dtype=object)"
      ]
     },
     "execution_count": 90,
     "metadata": {},
     "output_type": "execute_result"
    }
   ],
   "source": [
    "df.condition_clean.unique()"
   ]
  },
  {
   "cell_type": "code",
   "execution_count": 91,
   "id": "8de95062",
   "metadata": {},
   "outputs": [
    {
     "data": {
      "text/plain": [
       "837"
      ]
     },
     "execution_count": 91,
     "metadata": {},
     "output_type": "execute_result"
    }
   ],
   "source": [
    "df[\"condition_clean\"].nunique()"
   ]
  },
  {
   "cell_type": "code",
   "execution_count": 92,
   "id": "477732f5",
   "metadata": {},
   "outputs": [
    {
     "data": {
      "text/plain": [
       "1194"
      ]
     },
     "execution_count": 92,
     "metadata": {},
     "output_type": "execute_result"
    }
   ],
   "source": [
    "df[\"condition_clean\"].isnull().sum()"
   ]
  },
  {
   "cell_type": "code",
   "execution_count": 93,
   "id": "f5d341d0",
   "metadata": {},
   "outputs": [
    {
     "data": {
      "text/html": [
       "<div>\n",
       "<style scoped>\n",
       "    .dataframe tbody tr th:only-of-type {\n",
       "        vertical-align: middle;\n",
       "    }\n",
       "\n",
       "    .dataframe tbody tr th {\n",
       "        vertical-align: top;\n",
       "    }\n",
       "\n",
       "    .dataframe thead th {\n",
       "        text-align: right;\n",
       "    }\n",
       "</style>\n",
       "<table border=\"1\" class=\"dataframe\">\n",
       "  <thead>\n",
       "    <tr style=\"text-align: right;\">\n",
       "      <th></th>\n",
       "      <th>drugName</th>\n",
       "      <th>condition</th>\n",
       "      <th>review</th>\n",
       "      <th>rating</th>\n",
       "      <th>date</th>\n",
       "      <th>usefulCount</th>\n",
       "      <th>length</th>\n",
       "      <th>condition_clean</th>\n",
       "    </tr>\n",
       "  </thead>\n",
       "  <tbody>\n",
       "    <tr>\n",
       "      <th>0</th>\n",
       "      <td>Valsartan</td>\n",
       "      <td>Left Ventricular Dysfunction</td>\n",
       "      <td>\"It has no side effect, I take it in combinati...</td>\n",
       "      <td>9</td>\n",
       "      <td>May 20, 2012</td>\n",
       "      <td>27</td>\n",
       "      <td>17</td>\n",
       "      <td>Left Ventricular Dysfunction</td>\n",
       "    </tr>\n",
       "    <tr>\n",
       "      <th>1</th>\n",
       "      <td>Guanfacine</td>\n",
       "      <td>ADHD</td>\n",
       "      <td>\"My son is halfway through his fourth week of ...</td>\n",
       "      <td>8</td>\n",
       "      <td>April 27, 2010</td>\n",
       "      <td>192</td>\n",
       "      <td>141</td>\n",
       "      <td>ADHD</td>\n",
       "    </tr>\n",
       "    <tr>\n",
       "      <th>2</th>\n",
       "      <td>Lybrel</td>\n",
       "      <td>Birth Control</td>\n",
       "      <td>\"I used to take another oral contraceptive, wh...</td>\n",
       "      <td>5</td>\n",
       "      <td>December 14, 2009</td>\n",
       "      <td>17</td>\n",
       "      <td>134</td>\n",
       "      <td>Birth Control</td>\n",
       "    </tr>\n",
       "    <tr>\n",
       "      <th>3</th>\n",
       "      <td>Ortho Evra</td>\n",
       "      <td>Birth Control</td>\n",
       "      <td>\"This is my first time using any form of birth...</td>\n",
       "      <td>8</td>\n",
       "      <td>November 3, 2015</td>\n",
       "      <td>10</td>\n",
       "      <td>89</td>\n",
       "      <td>Birth Control</td>\n",
       "    </tr>\n",
       "    <tr>\n",
       "      <th>4</th>\n",
       "      <td>Buprenorphine / naloxone</td>\n",
       "      <td>Opiate Dependence</td>\n",
       "      <td>\"Suboxone has completely turned my life around...</td>\n",
       "      <td>9</td>\n",
       "      <td>November 27, 2016</td>\n",
       "      <td>37</td>\n",
       "      <td>124</td>\n",
       "      <td>Opiate Dependence</td>\n",
       "    </tr>\n",
       "    <tr>\n",
       "      <th>...</th>\n",
       "      <td>...</td>\n",
       "      <td>...</td>\n",
       "      <td>...</td>\n",
       "      <td>...</td>\n",
       "      <td>...</td>\n",
       "      <td>...</td>\n",
       "      <td>...</td>\n",
       "      <td>...</td>\n",
       "    </tr>\n",
       "    <tr>\n",
       "      <th>130280</th>\n",
       "      <td>Methadone</td>\n",
       "      <td>Pain</td>\n",
       "      <td>\"Have been taking it for 6 years (120 milligra...</td>\n",
       "      <td>10</td>\n",
       "      <td>August 2, 2011</td>\n",
       "      <td>16</td>\n",
       "      <td>12</td>\n",
       "      <td>Pain</td>\n",
       "    </tr>\n",
       "    <tr>\n",
       "      <th>130281</th>\n",
       "      <td>Clomipramine</td>\n",
       "      <td>Panic Disorde</td>\n",
       "      <td>\"I&amp;#039;ve been on clomipramine 15 years now a...</td>\n",
       "      <td>10</td>\n",
       "      <td>February 19, 2013</td>\n",
       "      <td>28</td>\n",
       "      <td>49</td>\n",
       "      <td>Panic Disorde</td>\n",
       "    </tr>\n",
       "    <tr>\n",
       "      <th>130282</th>\n",
       "      <td>Levetiracetam</td>\n",
       "      <td>Epilepsy</td>\n",
       "      <td>\"I now suffer from excessive tiredness and lac...</td>\n",
       "      <td>8</td>\n",
       "      <td>July 21, 2016</td>\n",
       "      <td>5</td>\n",
       "      <td>20</td>\n",
       "      <td>Epilepsy</td>\n",
       "    </tr>\n",
       "    <tr>\n",
       "      <th>130283</th>\n",
       "      <td>Tamoxifen</td>\n",
       "      <td>Breast Cancer, Prevention</td>\n",
       "      <td>\"I have taken Tamoxifen for 5 years. Side effe...</td>\n",
       "      <td>10</td>\n",
       "      <td>September 13, 2014</td>\n",
       "      <td>43</td>\n",
       "      <td>97</td>\n",
       "      <td>Breast Cancer, Prevention</td>\n",
       "    </tr>\n",
       "    <tr>\n",
       "      <th>130284</th>\n",
       "      <td>Escitalopram</td>\n",
       "      <td>Anxiety</td>\n",
       "      <td>\"I&amp;#039;ve been taking Lexapro (escitaploprgra...</td>\n",
       "      <td>9</td>\n",
       "      <td>October 8, 2016</td>\n",
       "      <td>11</td>\n",
       "      <td>130</td>\n",
       "      <td>Anxiety</td>\n",
       "    </tr>\n",
       "  </tbody>\n",
       "</table>\n",
       "<p>130285 rows × 8 columns</p>\n",
       "</div>"
      ],
      "text/plain": [
       "                        drugName                     condition  \\\n",
       "0                      Valsartan  Left Ventricular Dysfunction   \n",
       "1                     Guanfacine                          ADHD   \n",
       "2                         Lybrel                 Birth Control   \n",
       "3                     Ortho Evra                 Birth Control   \n",
       "4       Buprenorphine / naloxone             Opiate Dependence   \n",
       "...                          ...                           ...   \n",
       "130280                 Methadone                          Pain   \n",
       "130281              Clomipramine                 Panic Disorde   \n",
       "130282             Levetiracetam                      Epilepsy   \n",
       "130283                 Tamoxifen     Breast Cancer, Prevention   \n",
       "130284              Escitalopram                       Anxiety   \n",
       "\n",
       "                                                   review  rating  \\\n",
       "0       \"It has no side effect, I take it in combinati...       9   \n",
       "1       \"My son is halfway through his fourth week of ...       8   \n",
       "2       \"I used to take another oral contraceptive, wh...       5   \n",
       "3       \"This is my first time using any form of birth...       8   \n",
       "4       \"Suboxone has completely turned my life around...       9   \n",
       "...                                                   ...     ...   \n",
       "130280  \"Have been taking it for 6 years (120 milligra...      10   \n",
       "130281  \"I&#039;ve been on clomipramine 15 years now a...      10   \n",
       "130282  \"I now suffer from excessive tiredness and lac...       8   \n",
       "130283  \"I have taken Tamoxifen for 5 years. Side effe...      10   \n",
       "130284  \"I&#039;ve been taking Lexapro (escitaploprgra...       9   \n",
       "\n",
       "                      date  usefulCount  length               condition_clean  \n",
       "0             May 20, 2012           27      17  Left Ventricular Dysfunction  \n",
       "1           April 27, 2010          192     141                          ADHD  \n",
       "2        December 14, 2009           17     134                 Birth Control  \n",
       "3         November 3, 2015           10      89                 Birth Control  \n",
       "4        November 27, 2016           37     124             Opiate Dependence  \n",
       "...                    ...          ...     ...                           ...  \n",
       "130280      August 2, 2011           16      12                          Pain  \n",
       "130281   February 19, 2013           28      49                 Panic Disorde  \n",
       "130282       July 21, 2016            5      20                      Epilepsy  \n",
       "130283  September 13, 2014           43      97     Breast Cancer, Prevention  \n",
       "130284     October 8, 2016           11     130                       Anxiety  \n",
       "\n",
       "[130285 rows x 8 columns]"
      ]
     },
     "execution_count": 93,
     "metadata": {},
     "output_type": "execute_result"
    }
   ],
   "source": [
    "df[\"condition_clean\"].fillna(\"Unknown\", axis=0, inplace=True)\n",
    "df"
   ]
  },
  {
   "cell_type": "code",
   "execution_count": 95,
   "id": "4e0e1e65",
   "metadata": {},
   "outputs": [
    {
     "data": {
      "text/plain": [
       "0"
      ]
     },
     "execution_count": 95,
     "metadata": {},
     "output_type": "execute_result"
    }
   ],
   "source": [
    "df[\"condition_clean\"].isnull().sum()"
   ]
  },
  {
   "cell_type": "code",
   "execution_count": 115,
   "id": "ef78eccb",
   "metadata": {},
   "outputs": [
    {
     "ename": "AttributeError",
     "evalue": "'Rectangle' object has no property 'rotate'",
     "output_type": "error",
     "traceback": [
      "\u001b[0;31m---------------------------------------------------------------------------\u001b[0m",
      "\u001b[0;31mAttributeError\u001b[0m                            Traceback (most recent call last)",
      "\u001b[0;32m/var/folders/nx/7crq4wx155z00jtfy6fbs9bw0000gn/T/ipykernel_35723/267392278.py\u001b[0m in \u001b[0;36m<module>\u001b[0;34m\u001b[0m\n\u001b[1;32m      1\u001b[0m \u001b[0mcondition_dn\u001b[0m \u001b[0;34m=\u001b[0m \u001b[0mdf\u001b[0m\u001b[0;34m.\u001b[0m\u001b[0mgroupby\u001b[0m\u001b[0;34m(\u001b[0m\u001b[0;34m[\u001b[0m\u001b[0;34m'condition_clean'\u001b[0m\u001b[0;34m]\u001b[0m\u001b[0;34m)\u001b[0m\u001b[0;34m[\u001b[0m\u001b[0;34m'drugName'\u001b[0m\u001b[0;34m]\u001b[0m\u001b[0;34m.\u001b[0m\u001b[0mnunique\u001b[0m\u001b[0;34m(\u001b[0m\u001b[0;34m)\u001b[0m\u001b[0;34m.\u001b[0m\u001b[0msort_values\u001b[0m\u001b[0;34m(\u001b[0m\u001b[0mascending\u001b[0m\u001b[0;34m=\u001b[0m\u001b[0;32mFalse\u001b[0m\u001b[0;34m)\u001b[0m\u001b[0;34m\u001b[0m\u001b[0;34m\u001b[0m\u001b[0m\n\u001b[0;32m----> 2\u001b[0;31m \u001b[0mcondition_dn\u001b[0m\u001b[0;34m[\u001b[0m\u001b[0;36m0\u001b[0m\u001b[0;34m:\u001b[0m\u001b[0;36m10\u001b[0m\u001b[0;34m]\u001b[0m\u001b[0;34m.\u001b[0m\u001b[0mplot\u001b[0m\u001b[0;34m(\u001b[0m\u001b[0mkind\u001b[0m\u001b[0;34m=\u001b[0m\u001b[0;34m\"bar\"\u001b[0m\u001b[0;34m,\u001b[0m \u001b[0mfigsize\u001b[0m \u001b[0;34m=\u001b[0m \u001b[0;34m(\u001b[0m\u001b[0;36m10\u001b[0m\u001b[0;34m,\u001b[0m\u001b[0;36m6\u001b[0m\u001b[0;34m)\u001b[0m\u001b[0;34m,\u001b[0m \u001b[0mfontsize\u001b[0m \u001b[0;34m=\u001b[0m \u001b[0;36m15\u001b[0m\u001b[0;34m,\u001b[0m \u001b[0mcolor\u001b[0m\u001b[0;34m=\u001b[0m\u001b[0;34m\"orange\"\u001b[0m\u001b[0;34m,\u001b[0m \u001b[0mrotate\u001b[0m\u001b[0;34m=\u001b[0m\u001b[0;36m25\u001b[0m\u001b[0;34m)\u001b[0m\u001b[0;34m\u001b[0m\u001b[0;34m\u001b[0m\u001b[0m\n\u001b[0m\u001b[1;32m      3\u001b[0m \u001b[0;31m#plt.xlabel(\"\", fontsize = 15)\u001b[0m\u001b[0;34m\u001b[0m\u001b[0;34m\u001b[0m\u001b[0m\n\u001b[1;32m      4\u001b[0m \u001b[0mplt\u001b[0m\u001b[0;34m.\u001b[0m\u001b[0mylabel\u001b[0m\u001b[0;34m(\u001b[0m\u001b[0;34m\"Count of Drugs\"\u001b[0m\u001b[0;34m,\u001b[0m \u001b[0mfontsize\u001b[0m \u001b[0;34m=\u001b[0m \u001b[0;36m15\u001b[0m\u001b[0;34m)\u001b[0m\u001b[0;34m\u001b[0m\u001b[0;34m\u001b[0m\u001b[0m\n\u001b[1;32m      5\u001b[0m \u001b[0mplt\u001b[0m\u001b[0;34m.\u001b[0m\u001b[0mtitle\u001b[0m\u001b[0;34m(\u001b[0m\u001b[0;34m\"Top 10 : Number of Drugs per Condition\"\u001b[0m\u001b[0;34m,\u001b[0m \u001b[0mfontsize\u001b[0m \u001b[0;34m=\u001b[0m \u001b[0;36m20\u001b[0m\u001b[0;34m)\u001b[0m\u001b[0;34m\u001b[0m\u001b[0;34m\u001b[0m\u001b[0m\n",
      "\u001b[0;32m/opt/anaconda3/envs/OA_DA_env/lib/python3.9/site-packages/pandas/plotting/_core.py\u001b[0m in \u001b[0;36m__call__\u001b[0;34m(self, *args, **kwargs)\u001b[0m\n\u001b[1;32m    970\u001b[0m                     \u001b[0mdata\u001b[0m\u001b[0;34m.\u001b[0m\u001b[0mcolumns\u001b[0m \u001b[0;34m=\u001b[0m \u001b[0mlabel_name\u001b[0m\u001b[0;34m\u001b[0m\u001b[0;34m\u001b[0m\u001b[0m\n\u001b[1;32m    971\u001b[0m \u001b[0;34m\u001b[0m\u001b[0m\n\u001b[0;32m--> 972\u001b[0;31m         \u001b[0;32mreturn\u001b[0m \u001b[0mplot_backend\u001b[0m\u001b[0;34m.\u001b[0m\u001b[0mplot\u001b[0m\u001b[0;34m(\u001b[0m\u001b[0mdata\u001b[0m\u001b[0;34m,\u001b[0m \u001b[0mkind\u001b[0m\u001b[0;34m=\u001b[0m\u001b[0mkind\u001b[0m\u001b[0;34m,\u001b[0m \u001b[0;34m**\u001b[0m\u001b[0mkwargs\u001b[0m\u001b[0;34m)\u001b[0m\u001b[0;34m\u001b[0m\u001b[0;34m\u001b[0m\u001b[0m\n\u001b[0m\u001b[1;32m    973\u001b[0m \u001b[0;34m\u001b[0m\u001b[0m\n\u001b[1;32m    974\u001b[0m     \u001b[0m__call__\u001b[0m\u001b[0;34m.\u001b[0m\u001b[0m__doc__\u001b[0m \u001b[0;34m=\u001b[0m \u001b[0m__doc__\u001b[0m\u001b[0;34m\u001b[0m\u001b[0;34m\u001b[0m\u001b[0m\n",
      "\u001b[0;32m/opt/anaconda3/envs/OA_DA_env/lib/python3.9/site-packages/pandas/plotting/_matplotlib/__init__.py\u001b[0m in \u001b[0;36mplot\u001b[0;34m(data, kind, **kwargs)\u001b[0m\n\u001b[1;32m     69\u001b[0m             \u001b[0mkwargs\u001b[0m\u001b[0;34m[\u001b[0m\u001b[0;34m\"ax\"\u001b[0m\u001b[0;34m]\u001b[0m \u001b[0;34m=\u001b[0m \u001b[0mgetattr\u001b[0m\u001b[0;34m(\u001b[0m\u001b[0max\u001b[0m\u001b[0;34m,\u001b[0m \u001b[0;34m\"left_ax\"\u001b[0m\u001b[0;34m,\u001b[0m \u001b[0max\u001b[0m\u001b[0;34m)\u001b[0m\u001b[0;34m\u001b[0m\u001b[0;34m\u001b[0m\u001b[0m\n\u001b[1;32m     70\u001b[0m     \u001b[0mplot_obj\u001b[0m \u001b[0;34m=\u001b[0m \u001b[0mPLOT_CLASSES\u001b[0m\u001b[0;34m[\u001b[0m\u001b[0mkind\u001b[0m\u001b[0;34m]\u001b[0m\u001b[0;34m(\u001b[0m\u001b[0mdata\u001b[0m\u001b[0;34m,\u001b[0m \u001b[0;34m**\u001b[0m\u001b[0mkwargs\u001b[0m\u001b[0;34m)\u001b[0m\u001b[0;34m\u001b[0m\u001b[0;34m\u001b[0m\u001b[0m\n\u001b[0;32m---> 71\u001b[0;31m     \u001b[0mplot_obj\u001b[0m\u001b[0;34m.\u001b[0m\u001b[0mgenerate\u001b[0m\u001b[0;34m(\u001b[0m\u001b[0;34m)\u001b[0m\u001b[0;34m\u001b[0m\u001b[0;34m\u001b[0m\u001b[0m\n\u001b[0m\u001b[1;32m     72\u001b[0m     \u001b[0mplot_obj\u001b[0m\u001b[0;34m.\u001b[0m\u001b[0mdraw\u001b[0m\u001b[0;34m(\u001b[0m\u001b[0;34m)\u001b[0m\u001b[0;34m\u001b[0m\u001b[0;34m\u001b[0m\u001b[0m\n\u001b[1;32m     73\u001b[0m     \u001b[0;32mreturn\u001b[0m \u001b[0mplot_obj\u001b[0m\u001b[0;34m.\u001b[0m\u001b[0mresult\u001b[0m\u001b[0;34m\u001b[0m\u001b[0;34m\u001b[0m\u001b[0m\n",
      "\u001b[0;32m/opt/anaconda3/envs/OA_DA_env/lib/python3.9/site-packages/pandas/plotting/_matplotlib/core.py\u001b[0m in \u001b[0;36mgenerate\u001b[0;34m(self)\u001b[0m\n\u001b[1;32m    286\u001b[0m         \u001b[0mself\u001b[0m\u001b[0;34m.\u001b[0m\u001b[0m_compute_plot_data\u001b[0m\u001b[0;34m(\u001b[0m\u001b[0;34m)\u001b[0m\u001b[0;34m\u001b[0m\u001b[0;34m\u001b[0m\u001b[0m\n\u001b[1;32m    287\u001b[0m         \u001b[0mself\u001b[0m\u001b[0;34m.\u001b[0m\u001b[0m_setup_subplots\u001b[0m\u001b[0;34m(\u001b[0m\u001b[0;34m)\u001b[0m\u001b[0;34m\u001b[0m\u001b[0;34m\u001b[0m\u001b[0m\n\u001b[0;32m--> 288\u001b[0;31m         \u001b[0mself\u001b[0m\u001b[0;34m.\u001b[0m\u001b[0m_make_plot\u001b[0m\u001b[0;34m(\u001b[0m\u001b[0;34m)\u001b[0m\u001b[0;34m\u001b[0m\u001b[0;34m\u001b[0m\u001b[0m\n\u001b[0m\u001b[1;32m    289\u001b[0m         \u001b[0mself\u001b[0m\u001b[0;34m.\u001b[0m\u001b[0m_add_table\u001b[0m\u001b[0;34m(\u001b[0m\u001b[0;34m)\u001b[0m\u001b[0;34m\u001b[0m\u001b[0;34m\u001b[0m\u001b[0m\n\u001b[1;32m    290\u001b[0m         \u001b[0mself\u001b[0m\u001b[0;34m.\u001b[0m\u001b[0m_make_legend\u001b[0m\u001b[0;34m(\u001b[0m\u001b[0;34m)\u001b[0m\u001b[0;34m\u001b[0m\u001b[0;34m\u001b[0m\u001b[0m\n",
      "\u001b[0;32m/opt/anaconda3/envs/OA_DA_env/lib/python3.9/site-packages/pandas/plotting/_matplotlib/core.py\u001b[0m in \u001b[0;36m_make_plot\u001b[0;34m(self)\u001b[0m\n\u001b[1;32m   1507\u001b[0m             \u001b[0;32melse\u001b[0m\u001b[0;34m:\u001b[0m\u001b[0;34m\u001b[0m\u001b[0;34m\u001b[0m\u001b[0m\n\u001b[1;32m   1508\u001b[0m                 \u001b[0mw\u001b[0m \u001b[0;34m=\u001b[0m \u001b[0mself\u001b[0m\u001b[0;34m.\u001b[0m\u001b[0mbar_width\u001b[0m \u001b[0;34m/\u001b[0m \u001b[0mK\u001b[0m\u001b[0;34m\u001b[0m\u001b[0;34m\u001b[0m\u001b[0m\n\u001b[0;32m-> 1509\u001b[0;31m                 rect = self._plot(\n\u001b[0m\u001b[1;32m   1510\u001b[0m                     \u001b[0max\u001b[0m\u001b[0;34m,\u001b[0m\u001b[0;34m\u001b[0m\u001b[0;34m\u001b[0m\u001b[0m\n\u001b[1;32m   1511\u001b[0m                     \u001b[0mself\u001b[0m\u001b[0;34m.\u001b[0m\u001b[0max_pos\u001b[0m \u001b[0;34m+\u001b[0m \u001b[0;34m(\u001b[0m\u001b[0mi\u001b[0m \u001b[0;34m+\u001b[0m \u001b[0;36m0.5\u001b[0m\u001b[0;34m)\u001b[0m \u001b[0;34m*\u001b[0m \u001b[0mw\u001b[0m\u001b[0;34m,\u001b[0m\u001b[0;34m\u001b[0m\u001b[0;34m\u001b[0m\u001b[0m\n",
      "\u001b[0;32m/opt/anaconda3/envs/OA_DA_env/lib/python3.9/site-packages/pandas/plotting/_matplotlib/core.py\u001b[0m in \u001b[0;36m_plot\u001b[0;34m(cls, ax, x, y, w, start, log, **kwds)\u001b[0m\n\u001b[1;32m   1437\u001b[0m     \u001b[0;34m@\u001b[0m\u001b[0mclassmethod\u001b[0m\u001b[0;34m\u001b[0m\u001b[0;34m\u001b[0m\u001b[0m\n\u001b[1;32m   1438\u001b[0m     \u001b[0;32mdef\u001b[0m \u001b[0m_plot\u001b[0m\u001b[0;34m(\u001b[0m\u001b[0mcls\u001b[0m\u001b[0;34m,\u001b[0m \u001b[0max\u001b[0m\u001b[0;34m:\u001b[0m \u001b[0mAxes\u001b[0m\u001b[0;34m,\u001b[0m \u001b[0mx\u001b[0m\u001b[0;34m,\u001b[0m \u001b[0my\u001b[0m\u001b[0;34m,\u001b[0m \u001b[0mw\u001b[0m\u001b[0;34m,\u001b[0m \u001b[0mstart\u001b[0m\u001b[0;34m=\u001b[0m\u001b[0;36m0\u001b[0m\u001b[0;34m,\u001b[0m \u001b[0mlog\u001b[0m\u001b[0;34m=\u001b[0m\u001b[0;32mFalse\u001b[0m\u001b[0;34m,\u001b[0m \u001b[0;34m**\u001b[0m\u001b[0mkwds\u001b[0m\u001b[0;34m)\u001b[0m\u001b[0;34m:\u001b[0m\u001b[0;34m\u001b[0m\u001b[0;34m\u001b[0m\u001b[0m\n\u001b[0;32m-> 1439\u001b[0;31m         \u001b[0;32mreturn\u001b[0m \u001b[0max\u001b[0m\u001b[0;34m.\u001b[0m\u001b[0mbar\u001b[0m\u001b[0;34m(\u001b[0m\u001b[0mx\u001b[0m\u001b[0;34m,\u001b[0m \u001b[0my\u001b[0m\u001b[0;34m,\u001b[0m \u001b[0mw\u001b[0m\u001b[0;34m,\u001b[0m \u001b[0mbottom\u001b[0m\u001b[0;34m=\u001b[0m\u001b[0mstart\u001b[0m\u001b[0;34m,\u001b[0m \u001b[0mlog\u001b[0m\u001b[0;34m=\u001b[0m\u001b[0mlog\u001b[0m\u001b[0;34m,\u001b[0m \u001b[0;34m**\u001b[0m\u001b[0mkwds\u001b[0m\u001b[0;34m)\u001b[0m\u001b[0;34m\u001b[0m\u001b[0;34m\u001b[0m\u001b[0m\n\u001b[0m\u001b[1;32m   1440\u001b[0m \u001b[0;34m\u001b[0m\u001b[0m\n\u001b[1;32m   1441\u001b[0m     \u001b[0;34m@\u001b[0m\u001b[0mproperty\u001b[0m\u001b[0;34m\u001b[0m\u001b[0;34m\u001b[0m\u001b[0m\n",
      "\u001b[0;32m/opt/anaconda3/envs/OA_DA_env/lib/python3.9/site-packages/matplotlib/__init__.py\u001b[0m in \u001b[0;36minner\u001b[0;34m(ax, data, *args, **kwargs)\u001b[0m\n\u001b[1;32m   1410\u001b[0m     \u001b[0;32mdef\u001b[0m \u001b[0minner\u001b[0m\u001b[0;34m(\u001b[0m\u001b[0max\u001b[0m\u001b[0;34m,\u001b[0m \u001b[0;34m*\u001b[0m\u001b[0margs\u001b[0m\u001b[0;34m,\u001b[0m \u001b[0mdata\u001b[0m\u001b[0;34m=\u001b[0m\u001b[0;32mNone\u001b[0m\u001b[0;34m,\u001b[0m \u001b[0;34m**\u001b[0m\u001b[0mkwargs\u001b[0m\u001b[0;34m)\u001b[0m\u001b[0;34m:\u001b[0m\u001b[0;34m\u001b[0m\u001b[0;34m\u001b[0m\u001b[0m\n\u001b[1;32m   1411\u001b[0m         \u001b[0;32mif\u001b[0m \u001b[0mdata\u001b[0m \u001b[0;32mis\u001b[0m \u001b[0;32mNone\u001b[0m\u001b[0;34m:\u001b[0m\u001b[0;34m\u001b[0m\u001b[0;34m\u001b[0m\u001b[0m\n\u001b[0;32m-> 1412\u001b[0;31m             \u001b[0;32mreturn\u001b[0m \u001b[0mfunc\u001b[0m\u001b[0;34m(\u001b[0m\u001b[0max\u001b[0m\u001b[0;34m,\u001b[0m \u001b[0;34m*\u001b[0m\u001b[0mmap\u001b[0m\u001b[0;34m(\u001b[0m\u001b[0msanitize_sequence\u001b[0m\u001b[0;34m,\u001b[0m \u001b[0margs\u001b[0m\u001b[0;34m)\u001b[0m\u001b[0;34m,\u001b[0m \u001b[0;34m**\u001b[0m\u001b[0mkwargs\u001b[0m\u001b[0;34m)\u001b[0m\u001b[0;34m\u001b[0m\u001b[0;34m\u001b[0m\u001b[0m\n\u001b[0m\u001b[1;32m   1413\u001b[0m \u001b[0;34m\u001b[0m\u001b[0m\n\u001b[1;32m   1414\u001b[0m         \u001b[0mbound\u001b[0m \u001b[0;34m=\u001b[0m \u001b[0mnew_sig\u001b[0m\u001b[0;34m.\u001b[0m\u001b[0mbind\u001b[0m\u001b[0;34m(\u001b[0m\u001b[0max\u001b[0m\u001b[0;34m,\u001b[0m \u001b[0;34m*\u001b[0m\u001b[0margs\u001b[0m\u001b[0;34m,\u001b[0m \u001b[0;34m**\u001b[0m\u001b[0mkwargs\u001b[0m\u001b[0;34m)\u001b[0m\u001b[0;34m\u001b[0m\u001b[0;34m\u001b[0m\u001b[0m\n",
      "\u001b[0;32m/opt/anaconda3/envs/OA_DA_env/lib/python3.9/site-packages/matplotlib/axes/_axes.py\u001b[0m in \u001b[0;36mbar\u001b[0;34m(self, x, height, width, bottom, align, **kwargs)\u001b[0m\n\u001b[1;32m   2401\u001b[0m                 \u001b[0mhatch\u001b[0m\u001b[0;34m=\u001b[0m\u001b[0mhtch\u001b[0m\u001b[0;34m,\u001b[0m\u001b[0;34m\u001b[0m\u001b[0;34m\u001b[0m\u001b[0m\n\u001b[1;32m   2402\u001b[0m                 )\n\u001b[0;32m-> 2403\u001b[0;31m             \u001b[0mr\u001b[0m\u001b[0;34m.\u001b[0m\u001b[0mupdate\u001b[0m\u001b[0;34m(\u001b[0m\u001b[0mkwargs\u001b[0m\u001b[0;34m)\u001b[0m\u001b[0;34m\u001b[0m\u001b[0;34m\u001b[0m\u001b[0m\n\u001b[0m\u001b[1;32m   2404\u001b[0m             \u001b[0mr\u001b[0m\u001b[0;34m.\u001b[0m\u001b[0mget_path\u001b[0m\u001b[0;34m(\u001b[0m\u001b[0;34m)\u001b[0m\u001b[0;34m.\u001b[0m\u001b[0m_interpolation_steps\u001b[0m \u001b[0;34m=\u001b[0m \u001b[0;36m100\u001b[0m\u001b[0;34m\u001b[0m\u001b[0;34m\u001b[0m\u001b[0m\n\u001b[1;32m   2405\u001b[0m             \u001b[0;32mif\u001b[0m \u001b[0morientation\u001b[0m \u001b[0;34m==\u001b[0m \u001b[0;34m'vertical'\u001b[0m\u001b[0;34m:\u001b[0m\u001b[0;34m\u001b[0m\u001b[0;34m\u001b[0m\u001b[0m\n",
      "\u001b[0;32m/opt/anaconda3/envs/OA_DA_env/lib/python3.9/site-packages/matplotlib/artist.py\u001b[0m in \u001b[0;36mupdate\u001b[0;34m(self, props)\u001b[0m\n\u001b[1;32m   1062\u001b[0m                     \u001b[0mfunc\u001b[0m \u001b[0;34m=\u001b[0m \u001b[0mgetattr\u001b[0m\u001b[0;34m(\u001b[0m\u001b[0mself\u001b[0m\u001b[0;34m,\u001b[0m \u001b[0;34mf\"set_{k}\"\u001b[0m\u001b[0;34m,\u001b[0m \u001b[0;32mNone\u001b[0m\u001b[0;34m)\u001b[0m\u001b[0;34m\u001b[0m\u001b[0;34m\u001b[0m\u001b[0m\n\u001b[1;32m   1063\u001b[0m                     \u001b[0;32mif\u001b[0m \u001b[0;32mnot\u001b[0m \u001b[0mcallable\u001b[0m\u001b[0;34m(\u001b[0m\u001b[0mfunc\u001b[0m\u001b[0;34m)\u001b[0m\u001b[0;34m:\u001b[0m\u001b[0;34m\u001b[0m\u001b[0;34m\u001b[0m\u001b[0m\n\u001b[0;32m-> 1064\u001b[0;31m                         raise AttributeError(f\"{type(self).__name__!r} object \"\n\u001b[0m\u001b[1;32m   1065\u001b[0m                                              f\"has no property {k!r}\")\n\u001b[1;32m   1066\u001b[0m                     \u001b[0mret\u001b[0m\u001b[0;34m.\u001b[0m\u001b[0mappend\u001b[0m\u001b[0;34m(\u001b[0m\u001b[0mfunc\u001b[0m\u001b[0;34m(\u001b[0m\u001b[0mv\u001b[0m\u001b[0;34m)\u001b[0m\u001b[0;34m)\u001b[0m\u001b[0;34m\u001b[0m\u001b[0;34m\u001b[0m\u001b[0m\n",
      "\u001b[0;31mAttributeError\u001b[0m: 'Rectangle' object has no property 'rotate'"
     ]
    },
    {
     "data": {
      "image/png": "[encoded data removed]",
      "text/plain": [
       "<Figure size 720x432 with 1 Axes>"
      ]
     },
     "metadata": {},
     "output_type": "display_data"
    }
   ],
   "source": [
    "condition_dn = df.groupby(['condition_clean'])['drugName'].nunique().sort_values(ascending=False)\n",
    "condition_dn[0:10].plot(kind=\"bar\", figsize = (10,6), fontsize = 15, color=\"orange\", rotate=25)\n",
    "#plt.xlabel(\"\", fontsize = 15)\n",
    "plt.ylabel(\"Count of Drugs\", fontsize = 15)\n",
    "plt.title(\"Top 10 : Number of Drugs per Condition\", fontsize = 20)"
   ]
  },
  {
   "cell_type": "markdown",
   "id": "8ae9bc2f",
   "metadata": {},
   "source": [
    "### Clean reviews (inplace)"
   ]
  },
  {
   "cell_type": "code",
   "execution_count": null,
   "id": "c9d319f3",
   "metadata": {},
   "outputs": [],
   "source": [
    "df.drop([\"date\", \"condition\"], axis=1, inplace=True)"
   ]
  },
  {
   "cell_type": "code",
   "execution_count": null,
   "id": "209fd9ef",
   "metadata": {},
   "outputs": [],
   "source": [
    "df[\"condition_clean\"].nunique()\n",
    "df[df[\"condition_clean\"] == \"unknown\"]"
   ]
  },
  {
   "cell_type": "code",
   "execution_count": null,
   "id": "74b85603",
   "metadata": {},
   "outputs": [],
   "source": [
    "condition_dn = df.groupby(['condition_clean'])['drugName'].nunique().sort_values(ascending=False)\n",
    "condition_dn[0:20].plot(kind=\"bar\", figsize = (14,6), fontsize = 10,color=\"orange\")\n",
    "plt.xlabel(\"\", fontsize = 20)\n",
    "plt.ylabel(\"\", fontsize = 20)\n",
    "plt.title(\"Top 10 : Drug count per condition.\", fontsize = 20)"
   ]
  },
  {
   "cell_type": "code",
   "execution_count": null,
   "id": "64bdb7c0",
   "metadata": {},
   "outputs": [],
   "source": [
    "df[\"review\"] = df.review.str.replace(\"&#039;\", \"\")\n",
    "df"
   ]
  },
  {
   "cell_type": "code",
   "execution_count": null,
   "id": "a3e58aa4",
   "metadata": {},
   "outputs": [],
   "source": [
    "#lower casing\n",
    "df.review = df.review.str.lower()\n",
    "\n",
    "# Removing special Characters\n",
    "#df.review = df.review.str.replace(r'[^\\w\\d\\s]',' ')\n",
    "\n",
    "# Removing all the non ASCII characters\n",
    "df.review = df.review.str.replace(r'[^\\x00-\\x7F]+',' ')\n",
    "\n",
    "# Removing the leading and trailing Whitespaces\n",
    "#df.review = df.review.str.replace(r'^\\s+|\\s+?$','')\n",
    "    \n",
    "# Replacing multiple Spaces with Single Space\n",
    "df.review = df.review.str.replace(r'\\s+',' ')\n",
    "    \n",
    "# Replacing Two or more dots with one\n",
    "df.review = df.review.str.replace(r'\\.{2,}', ' ')"
   ]
  },
  {
   "cell_type": "code",
   "execution_count": null,
   "id": "23b5cafe",
   "metadata": {},
   "outputs": [],
   "source": [
    "df"
   ]
  },
  {
   "cell_type": "code",
   "execution_count": null,
   "id": "9172e7f2",
   "metadata": {},
   "outputs": [],
   "source": [
    "column_names = [\"drugName\", \"condition_clean\", \"review\", \"usefulCount\", \"length\", \"rating\"]\n",
    "df_clean = df.reindex(columns=column_names)\n",
    "df_clean"
   ]
  },
  {
   "cell_type": "code",
   "execution_count": null,
   "id": "c3e6c02b",
   "metadata": {},
   "outputs": [],
   "source": [
    "# Exporting clean dataset with rating 1-10\n",
    "df_clean.drop([\"review\"], axis=1).to_excel(\"data/df_no_dups_totableau.xlsx\")"
   ]
  },
  {
   "cell_type": "markdown",
   "id": "6e56c667",
   "metadata": {},
   "source": [
    "### Feature engineering: 'rating'"
   ]
  },
  {
   "cell_type": "code",
   "execution_count": null,
   "id": "fc5aa827",
   "metadata": {},
   "outputs": [],
   "source": [
    "df = df_clean\n",
    "df"
   ]
  },
  {
   "cell_type": "code",
   "execution_count": null,
   "id": "72cc97f1",
   "metadata": {},
   "outputs": [],
   "source": [
    "df['rating'] = df.rating.apply(lambda x: 0 if x <= 6 else 1)\n",
    "df"
   ]
  },
  {
   "cell_type": "code",
   "execution_count": null,
   "id": "4083b5c6",
   "metadata": {},
   "outputs": [],
   "source": [
    "df['rating'].value_counts()"
   ]
  },
  {
   "cell_type": "markdown",
   "id": "974e3d53",
   "metadata": {},
   "source": [
    "## Creating the Corpus"
   ]
  },
  {
   "cell_type": "code",
   "execution_count": null,
   "id": "65733b80",
   "metadata": {},
   "outputs": [],
   "source": [
    "reviews = ['']\n",
    "corpus=[]\n",
    "for review in df['review']:\n",
    "    reviews.append(review)\n",
    "    corpus.append(nltk.sent_tokenize(review))\n",
    "corpus"
   ]
  },
  {
   "cell_type": "code",
   "execution_count": null,
   "id": "ac20d260",
   "metadata": {},
   "outputs": [],
   "source": [
    "len(corpus)"
   ]
  },
  {
   "cell_type": "code",
   "execution_count": null,
   "id": "1adc7804",
   "metadata": {},
   "outputs": [],
   "source": [
    "corpus=[sent for sublist in corpus for sent in sublist]\n",
    "corpus"
   ]
  },
  {
   "cell_type": "code",
   "execution_count": null,
   "id": "b66ac5f3",
   "metadata": {},
   "outputs": [],
   "source": [
    "len(corpus)"
   ]
  },
  {
   "cell_type": "markdown",
   "id": "2848ba4b",
   "metadata": {},
   "source": [
    "### Cleaning corpus"
   ]
  },
  {
   "cell_type": "code",
   "execution_count": null,
   "id": "97502915",
   "metadata": {},
   "outputs": [],
   "source": [
    "for i in range(len(corpus)):\n",
    "    corpus[i] = re.sub(r'\\d+','', corpus[i]) # Replace one or more digits by  ' '\n",
    "    corpus[i] = re.sub(r\"\\s*'\\s*\\w*\",\" \", corpus[i])\n",
    "    corpus[i] = re.sub(r'\\W+',' ',corpus[i]) # Replace everything non-alpahnumeric by ' '\n",
    "    corpus[i] = re.sub(r'\\s+',' ', corpus[i]) # Replace one or more whitespaces by  ' '    \n",
    "    corpus[i] = re.sub(r'^\\s+|\\s+?$','', corpus[i])\n",
    "corpus"
   ]
  },
  {
   "cell_type": "code",
   "execution_count": null,
   "id": "9b51d1aa",
   "metadata": {},
   "outputs": [],
   "source": [
    "corpus_pre_tok = corpus.copy()\n",
    "corpus_pre_tok"
   ]
  },
  {
   "cell_type": "code",
   "execution_count": null,
   "id": "341faf85",
   "metadata": {},
   "outputs": [],
   "source": [
    "# Tokenizing the corpus"
   ]
  },
  {
   "cell_type": "code",
   "execution_count": null,
   "id": "c732228f",
   "metadata": {},
   "outputs": [],
   "source": [
    "wordfreq = {}\n",
    "for sentence in corpus:\n",
    "    words = sentence.split()\n",
    "    #tokens = nltk.word_tokenize(sentence) # To get the words, it can be also done with sentence.split()\n",
    "    for word in words:\n",
    "        if ( word not in wordfreq.keys() ): ## first time appearnce in the sentence\n",
    "            wordfreq[word] = 1 # We initialize the corresponding counter\n",
    "        else: ## if the world is already existed in the dictionalry \n",
    "            wordfreq[word] += 1 # We increase the corresponding counter"
   ]
  },
  {
   "cell_type": "code",
   "execution_count": null,
   "id": "a737935a",
   "metadata": {},
   "outputs": [],
   "source": [
    "len(list(wordfreq.keys()))"
   ]
  },
  {
   "cell_type": "code",
   "execution_count": null,
   "id": "e9f7312c",
   "metadata": {},
   "outputs": [],
   "source": [
    "wordfreq"
   ]
  },
  {
   "cell_type": "markdown",
   "id": "2b189ffd",
   "metadata": {},
   "source": [
    "### Reducing the corpus"
   ]
  },
  {
   "cell_type": "markdown",
   "id": "f3a14d46",
   "metadata": {},
   "source": [
    "#### Stopwords"
   ]
  },
  {
   "cell_type": "code",
   "execution_count": null,
   "id": "8ada6155",
   "metadata": {},
   "outputs": [],
   "source": [
    "from nltk.corpus import stopwords\n",
    "\n",
    "stop_words = list(stopwords.words('english')) \n",
    "stop_words"
   ]
  },
  {
   "cell_type": "code",
   "execution_count": null,
   "id": "d4e43457",
   "metadata": {},
   "outputs": [],
   "source": [
    "for i in range(len(stop_words)):\n",
    "    stop_words[i] = re.sub(r\"\\s*'\\s*\\w*\",\"\",stop_words[i])\n",
    "stop_words"
   ]
  },
  {
   "cell_type": "code",
   "execution_count": null,
   "id": "b5648d0a",
   "metadata": {},
   "outputs": [],
   "source": [
    "stop_words.extend(['im', 'ive', 'it', 'mg', 'quot'])\n",
    "stop_words"
   ]
  },
  {
   "cell_type": "code",
   "execution_count": null,
   "id": "44101ec0",
   "metadata": {},
   "outputs": [],
   "source": [
    "corpus = [(wordfreq[key],key) for key in list(wordfreq.keys()) if key not in stop_words]\n",
    "corpus"
   ]
  },
  {
   "cell_type": "code",
   "execution_count": null,
   "id": "991e3377",
   "metadata": {},
   "outputs": [],
   "source": [
    "# Keeping 30 most preq words\n",
    "\n",
    "corpus.sort(reverse = True)\n",
    "corpus_freq = [(word[1],word[0]) for word in corpus[:31]] \n",
    "corpus_freq = corpus_freq[1:]\n",
    "corpus_freq"
   ]
  },
  {
   "cell_type": "code",
   "execution_count": null,
   "id": "9f68719d",
   "metadata": {},
   "outputs": [],
   "source": [
    "from nltk.stem import WordNetLemmatizer\n",
    "nltk.download('omw-1.4')\n",
    "lem = WordNetLemmatizer()\n",
    "\n",
    "corpus_freq = [(lem.lemmatize(word[0]),word[1]) for word in corpus_freq]\n",
    "corpus_freq"
   ]
  },
  {
   "cell_type": "markdown",
   "id": "fba2739a",
   "metadata": {},
   "source": [
    "#### LIST 1 [FULL]"
   ]
  },
  {
   "cell_type": "code",
   "execution_count": null,
   "id": "960359f9",
   "metadata": {},
   "outputs": [],
   "source": [
    "cols = {word[0]: [] for word in corpus_freq}\n",
    "reviews = pd.DataFrame(cols)\n",
    "\n",
    "reviews.columns"
   ]
  },
  {
   "cell_type": "code",
   "execution_count": null,
   "id": "33afb7c6",
   "metadata": {},
   "outputs": [],
   "source": [
    "def review_inpector(sentence, stop_words, words):\n",
    "\n",
    "    import re\n",
    "\n",
    "    # Decompose the review in words -> tokens\n",
    "    tokens = nltk.word_tokenize(sentence)\n",
    "    # Cleanup the tokenp\n",
    "    for i in range(len(tokens)):\n",
    "        tokens[i] = tokens[i].lower()\n",
    "        tokens[i] = re.sub(r'\\W',' ',tokens[i]) # Replace everything non-alpahnumeric by ' '\n",
    "        tokens[i] = re.sub(r'\\s+','',tokens[i]) # Replace one or more whitespaces by  ' '\n",
    "        tokens[i] = re.sub(r'\\d+','',tokens[i]) # Replace one or more digits by  ' '\n",
    "        tokens[i] = lem.lemmatize(tokens[i])\n",
    "        \n",
    "    # Dropping tokens which are \"stopwords\" or empty\n",
    "    tokens = [ token for token in tokens if (token not in stop_words and token != '')]\n",
    "\n",
    "    # Initializing an empty dictionary of word frequencies for the corresponding review\n",
    "    col_freq = {col:0 for col in words}\n",
    "    \n",
    "    # Filling the dictionary with word frequencies in the review\n",
    "    for token in tokens:\n",
    "        if token in words:\n",
    "            col_freq[token] += 1\n",
    "\n",
    "    return col_freq"
   ]
  },
  {
   "cell_type": "code",
   "execution_count": null,
   "id": "1b07ac0f",
   "metadata": {},
   "outputs": [],
   "source": [
    "my_list = list(map(review_inpector, df['review'], \n",
    "                    [stop_words]*df.shape[0], [list(cols.keys())]*df.shape[0] ) )\n",
    "\n",
    "my_list[:2]"
   ]
  },
  {
   "cell_type": "code",
   "execution_count": null,
   "id": "7200c79a",
   "metadata": {},
   "outputs": [],
   "source": [
    "reviews = pd.DataFrame(my_list)"
   ]
  },
  {
   "cell_type": "code",
   "execution_count": null,
   "id": "8b06fc56",
   "metadata": {},
   "outputs": [],
   "source": [
    "reviews"
   ]
  },
  {
   "cell_type": "code",
   "execution_count": null,
   "id": "25044406",
   "metadata": {
    "scrolled": true
   },
   "outputs": [],
   "source": [
    "reviews['rating'] = df['rating'].reset_index(drop=True)\n",
    "reviews"
   ]
  },
  {
   "cell_type": "markdown",
   "id": "ccc66028",
   "metadata": {},
   "source": [
    "#### LIST 3: stopwords incl. negation"
   ]
  },
  {
   "cell_type": "code",
   "execution_count": null,
   "id": "1817fe6f",
   "metadata": {},
   "outputs": [],
   "source": [
    "stop_words = set(nltk.corpus.stopwords.words('english'))\n",
    "exclude_words = set((\"aren't\",\"couldn't\",\"didn't\",\"doesn't\",\"don't\",\"hadn't\",\"hasn't\",\"haven't\",\"isn't\",\"mightn't\",\"mustn't\",\"needn't\",\"no\",\"nor\",\"not\",\"shan't\",\"shouldn't\",\"wasn't\",\"weren't\",\"wouldn't\"))\n",
    "new_stop_words = stop_words.difference(exclude_words)"
   ]
  },
  {
   "cell_type": "code",
   "execution_count": null,
   "id": "96a42999",
   "metadata": {},
   "outputs": [],
   "source": [
    "new_stop_words = list(new_stop_words)"
   ]
  },
  {
   "cell_type": "code",
   "execution_count": null,
   "id": "3244db7b",
   "metadata": {},
   "outputs": [],
   "source": [
    "new_stop_words.extend(['im', 'ive', 'it', 'mg', 'quot'])\n",
    "new_stop_words"
   ]
  },
  {
   "cell_type": "code",
   "execution_count": null,
   "id": "b515e633",
   "metadata": {},
   "outputs": [],
   "source": [
    "for i in range(len(new_stop_words)):\n",
    "    new_stop_words[i] = re.sub(r\"\\s*'\\s*\\w*\",\"\",new_stop_words[i])\n",
    "new_stop_words"
   ]
  },
  {
   "cell_type": "code",
   "execution_count": null,
   "id": "6e74c881",
   "metadata": {},
   "outputs": [],
   "source": [
    "corpus4 = [(wordfreq[key],key) for key in list(wordfreq.keys()) if key not in new_stop_words]\n",
    "corpus4"
   ]
  },
  {
   "cell_type": "code",
   "execution_count": null,
   "id": "a74eae30",
   "metadata": {},
   "outputs": [],
   "source": [
    "corpus4.sort(reverse = True)\n",
    "corpus_freq4 = [(word[1],word[0]) for word in corpus4[:31]] \n",
    "corpus_freq4 = corpus_freq4[1:]\n",
    "corpus_freq4"
   ]
  },
  {
   "cell_type": "code",
   "execution_count": null,
   "id": "c3c7a763",
   "metadata": {},
   "outputs": [],
   "source": [
    "from nltk.stem import WordNetLemmatizer\n",
    "nltk.download('omw-1.4')\n",
    "lem = WordNetLemmatizer()\n",
    "\n",
    "corpus_freq = [(lem.lemmatize(word[0]),word[1]) for word in corpus_freq]\n",
    "corpus_freq"
   ]
  },
  {
   "cell_type": "markdown",
   "id": "6d0ef4e6",
   "metadata": {},
   "source": [
    "# Modeling (FULL SAMPLE)"
   ]
  },
  {
   "cell_type": "markdown",
   "id": "62eee3ab",
   "metadata": {},
   "source": [
    "### Cross-validation?"
   ]
  },
  {
   "cell_type": "markdown",
   "id": "f1a7b8f0",
   "metadata": {},
   "source": [
    "from sklearn.model_selection import StratifiedKFold\n",
    "\n",
    "cv = StratifiedKFold(n_splits=5, random_state=123, shuffle=True)\n",
    "results = pd.DataFrame(columns=['training_score', 'test_score'])\n",
    "fprs, tprs, scores = [], [], []"
   ]
  },
  {
   "cell_type": "markdown",
   "id": "afdfdf82",
   "metadata": {},
   "source": [
    "for (train, test), i in zip(cv.split(X, y), range(5)):\n",
    "    rf.fit(X.iloc[train], y.iloc[train])\n",
    "    _, _, auc_score_train = compute_roc_auc(train)\n",
    "    fpr, tpr, auc_score = compute_roc_auc(test)\n",
    "    scores.append((auc_score_train, auc_score))\n",
    "    fprs.append(fpr)\n",
    "    tprs.append(tpr)\n",
    "\n",
    "plot_roc_curve(fprs, tprs);\n",
    "pd.DataFrame(scores, columns=['AUC Train', 'AUC Test'])"
   ]
  },
  {
   "cell_type": "markdown",
   "id": "c58b69af",
   "metadata": {},
   "source": [
    "## Running the RanFor Model with n-grams"
   ]
  },
  {
   "cell_type": "code",
   "execution_count": null,
   "id": "69f69bd7",
   "metadata": {},
   "outputs": [],
   "source": [
    "X = reviews.drop(columns='rating')\n",
    "y = reviews['rating']\n",
    "X\n",
    "y"
   ]
  },
  {
   "cell_type": "code",
   "execution_count": null,
   "id": "c9b0e4ef",
   "metadata": {},
   "outputs": [],
   "source": [
    "X_train, X_test, y_train, y_test = train_test_split(X, y, test_size=0.20, random_state=42)\n",
    "\n",
    "X_train = pd.DataFrame(X_train, columns=X.columns)\n",
    "X_test  = pd.DataFrame(X_test, columns=X.columns)\n",
    "\n",
    "y_train = pd.DataFrame(y_train, columns =['rating'])\n",
    "y_test  = pd.DataFrame(y_test, columns =['rating'])"
   ]
  },
  {
   "cell_type": "code",
   "execution_count": null,
   "id": "01bbe798",
   "metadata": {
    "scrolled": false
   },
   "outputs": [],
   "source": [
    "X_train\n",
    "#y_train"
   ]
  },
  {
   "cell_type": "code",
   "execution_count": null,
   "id": "fefa8159",
   "metadata": {},
   "outputs": [],
   "source": [
    "y_test.value_counts()"
   ]
  },
  {
   "cell_type": "code",
   "execution_count": null,
   "id": "25f1d34f",
   "metadata": {},
   "outputs": [],
   "source": [
    "from sklearn.naive_bayes import CategoricalNB\n",
    "from sklearn.ensemble import RandomForestClassifier\n",
    "\n",
    "rf = RandomForestClassifier()\n",
    "rf.fit(X_train, y_train['rating'])"
   ]
  },
  {
   "cell_type": "markdown",
   "id": "30f8420c",
   "metadata": {},
   "source": [
    "### Making predictions with RF"
   ]
  },
  {
   "cell_type": "code",
   "execution_count": null,
   "id": "2ff3fb3a",
   "metadata": {},
   "outputs": [],
   "source": [
    "y_train_pred_rf = rf.predict(X_train)\n",
    "y_test_pred_rf  = rf.predict(X_test)"
   ]
  },
  {
   "cell_type": "code",
   "execution_count": null,
   "id": "2af8efbf",
   "metadata": {},
   "outputs": [],
   "source": [
    "def model_performance_class(y_train, y_pred_train, y_test, y_pred_test):\n",
    "\n",
    "    from sklearn.metrics import cohen_kappa_score, classification_report \n",
    "\n",
    "\n",
    "    print(\"Results obtained for the TRAIN SET\")\n",
    "    print(\"==================================\")\n",
    "    print(\"The Cohen's Kappa is: {:.2f}\".format(cohen_kappa_score(y_train, y_pred_train)))\n",
    "    print(classification_report(y_train, y_pred_train))\n",
    "    print(\"==================================\")\n",
    "    print(\"Results obtained for the TEST SET\")\n",
    "    print(\"The Cohen's Kappa is: {:.2f}\".format(cohen_kappa_score(y_test, y_pred_test)))\n",
    "    print(classification_report(y_test, y_pred_test))"
   ]
  },
  {
   "cell_type": "markdown",
   "id": "c4e8861a",
   "metadata": {},
   "source": [
    "### Model performance"
   ]
  },
  {
   "cell_type": "code",
   "execution_count": null,
   "id": "27cb2a79",
   "metadata": {},
   "outputs": [],
   "source": [
    "model_performance_class(y_train, y_train_pred_rf, y_test, y_test_pred_rf)"
   ]
  },
  {
   "cell_type": "markdown",
   "id": "4aefc4cd",
   "metadata": {},
   "source": [
    "#### Tuning the hyper paramters with gridsearch"
   ]
  },
  {
   "cell_type": "code",
   "execution_count": null,
   "id": "d1f9f936",
   "metadata": {},
   "outputs": [],
   "source": [
    "from sklearn.model_selection import GridSearchCV\n",
    "param_grid = {\n",
    "    'n_estimators': [50, 100],\n",
    "    'max_depth': [5, 8, 10],\n",
    "    'bootstrap': [True, False],\n",
    "    'min_samples_leaf' : [1, 2],\n",
    "    'max_features': ['sqrt', 'log2']\n",
    "    #'max_samples' : ['None', 0.5]\n",
    "    }\n",
    "clf = RandomForestClassifier(random_state=42)"
   ]
  },
  {
   "cell_type": "code",
   "execution_count": null,
   "id": "cd9061de",
   "metadata": {},
   "outputs": [],
   "source": [
    "grid_search = GridSearchCV(clf, param_grid, cv=5,return_train_score=True,n_jobs=-1,)"
   ]
  },
  {
   "cell_type": "code",
   "execution_count": null,
   "id": "1fc558bc",
   "metadata": {},
   "outputs": [],
   "source": [
    "#grid_search.fit(X_train,y_train)"
   ]
  },
  {
   "cell_type": "code",
   "execution_count": null,
   "id": "8bfb45ea",
   "metadata": {
    "scrolled": false
   },
   "outputs": [],
   "source": [
    "#grid_search.best_params_"
   ]
  },
  {
   "cell_type": "code",
   "execution_count": null,
   "id": "6a98c909",
   "metadata": {},
   "outputs": [],
   "source": [
    "## Rerunning model"
   ]
  },
  {
   "cell_type": "code",
   "execution_count": null,
   "id": "5f4bfc0f",
   "metadata": {},
   "outputs": [],
   "source": [
    "clf = RandomForestClassifier(max_depth=10, max_features=\"sqrt\",n_estimators=50, min_samples_leaf =1, bootstrap=False ,random_state=42)\n",
    "clf.fit(X_train, y_train)\n",
    "print(clf.score(X_train, y_train))\n",
    "print(clf.score(X_test, y_test))"
   ]
  },
  {
   "cell_type": "code",
   "execution_count": null,
   "id": "fe31cc48",
   "metadata": {},
   "outputs": [],
   "source": [
    "pd.DataFrame(grid_search.cv_results_)"
   ]
  },
  {
   "cell_type": "code",
   "execution_count": null,
   "id": "d12a04eb",
   "metadata": {},
   "outputs": [],
   "source": [
    "from sklearn.model_selection import cross_val_score\n",
    "#clf = RandomForestClassifier(random_state=42, max_features='sqrt', \n",
    "                             #min_samples_leaf=1, min_samples_split=2, n_estimators=100)\n",
    "clf = RandomForestClassifier(max_depth=10, max_features=\"sqrt\",n_estimators=50, min_samples_leaf =1, bootstrap=False ,random_state=42)\n",
    "cross_val_scores = cross_val_score(clf, X_train, y_train, cv=10, scoring=\"recall_samples\")\n",
    "print(np.mean(cross_val_scores))"
   ]
  },
  {
   "cell_type": "code",
   "execution_count": null,
   "id": "4aeacd1a",
   "metadata": {},
   "outputs": [],
   "source": [
    "print(cross_val_scores)"
   ]
  },
  {
   "cell_type": "markdown",
   "id": "4643ddfd",
   "metadata": {},
   "source": [
    "#### Running the Naive Bayes model"
   ]
  },
  {
   "cell_type": "code",
   "execution_count": null,
   "id": "af785118",
   "metadata": {},
   "outputs": [],
   "source": [
    "y_train\n",
    "X_train"
   ]
  },
  {
   "cell_type": "code",
   "execution_count": null,
   "id": "b6d4c6db",
   "metadata": {},
   "outputs": [],
   "source": [
    "#nb = CategoricalNB()\n",
    "#nb.fit(X_train, y_train['rating'])"
   ]
  },
  {
   "cell_type": "markdown",
   "id": "1c8936c0",
   "metadata": {},
   "source": [
    "(Not) Making predictions with NB"
   ]
  },
  {
   "cell_type": "code",
   "execution_count": null,
   "id": "ddf3dbe2",
   "metadata": {},
   "outputs": [],
   "source": [
    "#y_train_pred_nb = nb.predict(X_train)\n",
    "#y_test_pred_nb  = nb.predict(X_test)"
   ]
  },
  {
   "cell_type": "markdown",
   "id": "52fbf00f",
   "metadata": {},
   "source": [
    "Model performance"
   ]
  },
  {
   "cell_type": "code",
   "execution_count": null,
   "id": "a412a103",
   "metadata": {},
   "outputs": [],
   "source": [
    "#model_performance_class(y_train, y_train_pred_nb, y_test, y_test_pred_nb)"
   ]
  },
  {
   "cell_type": "markdown",
   "id": "20c74e37",
   "metadata": {},
   "source": [
    "### SVC instead of NB"
   ]
  },
  {
   "cell_type": "code",
   "execution_count": null,
   "id": "8c50f93f",
   "metadata": {},
   "outputs": [],
   "source": [
    "from sklearn.svm import LinearSVC\n",
    "svm = LinearSVC(random_state=42, tol=1e-2, max_iter=5000)"
   ]
  },
  {
   "cell_type": "code",
   "execution_count": null,
   "id": "c70b9200",
   "metadata": {},
   "outputs": [],
   "source": [
    "svm.fit(X_train, y_train)"
   ]
  },
  {
   "cell_type": "code",
   "execution_count": null,
   "id": "4ad8ccec",
   "metadata": {},
   "outputs": [],
   "source": [
    "y_train_pred_svm = svm.predict(X_train)\n",
    "y_test_pred_svm  = svm.predict(X_test)"
   ]
  },
  {
   "cell_type": "code",
   "execution_count": null,
   "id": "da64331b",
   "metadata": {},
   "outputs": [],
   "source": [
    "model_performance_class(y_train, y_train_pred_svm, y_test, y_test_pred_svm)"
   ]
  },
  {
   "cell_type": "code",
   "execution_count": null,
   "id": "2a58c0c4",
   "metadata": {},
   "outputs": [],
   "source": [
    "# terrible"
   ]
  },
  {
   "cell_type": "markdown",
   "id": "a40b3506",
   "metadata": {},
   "source": [
    "## TF-IDF (Term-Frequency Inverse Document-Frequency)"
   ]
  },
  {
   "cell_type": "markdown",
   "id": "13329fb1",
   "metadata": {},
   "source": [
    "### Dataset prep: re-cleaning reviews"
   ]
  },
  {
   "cell_type": "code",
   "execution_count": null,
   "id": "3e4f8814",
   "metadata": {},
   "outputs": [],
   "source": [
    "# Using Rafa's nice function from now on\n",
    "\n",
    "def clean_review(x):\n",
    "    x = str(x).lower().replace(\"\\\\\",\"\").replace(\"_\",\" \")\n",
    "    x = re.sub(r'\\W+',' ',x) # Replace everything non-alpahnumeric by ' '\n",
    "    x = re.sub(r'\\s+',' ',x) # Replace one or more whitespaces by  ' '\n",
    "    x = re.sub(r'\\d+',' ',x) # Replace one or more digits by  ' '\n",
    "    x = re.sub(r'([a-z0-9+._-]+@[a-z0-9+._-]+\\.[a-z0-9+_-]+)',\" \", x) # Replace e-mails by ''\n",
    "    # Replace urls by ''\n",
    "    x = re.sub(r'(http|https|ftp|ssh)://([\\w_-]+(?:(?:\\.[\\w_-]+)+))([\\w.,@?^=%&:/~+#-]*[\\w@?^=%&/~+#-])?', ' ' , x) \n",
    "    # Replace html tags by ''\n",
    "    x = BeautifulSoup(x, 'html.parser').get_text().strip()\n",
    "    x = x.replace(' br ',' ')\n",
    "\n",
    "    return x"
   ]
  },
  {
   "cell_type": "code",
   "execution_count": null,
   "id": "27f0e50a",
   "metadata": {},
   "outputs": [],
   "source": [
    "reviews_cleaned = df.copy()"
   ]
  },
  {
   "cell_type": "code",
   "execution_count": null,
   "id": "4e4fb75f",
   "metadata": {},
   "outputs": [],
   "source": [
    "reviews_cleaned = reviews_cleaned[['review','rating']]"
   ]
  },
  {
   "cell_type": "code",
   "execution_count": null,
   "id": "378eb946",
   "metadata": {},
   "outputs": [],
   "source": [
    "reviews_cleaned.head()"
   ]
  },
  {
   "cell_type": "code",
   "execution_count": null,
   "id": "3ff788ad",
   "metadata": {},
   "outputs": [],
   "source": [
    "reviews_cleaned['review'] = reviews_cleaned['review'].apply(lambda x: clean_review(x)) "
   ]
  },
  {
   "cell_type": "code",
   "execution_count": null,
   "id": "94cc1c26",
   "metadata": {},
   "outputs": [],
   "source": [
    "reviews_cleaned"
   ]
  },
  {
   "cell_type": "markdown",
   "id": "53b07e3f",
   "metadata": {},
   "source": [
    "### >>> Running the TF-IDF model: uni + bigrams"
   ]
  },
  {
   "cell_type": "code",
   "execution_count": null,
   "id": "c334912e",
   "metadata": {},
   "outputs": [],
   "source": [
    "from sklearn.feature_extraction.text import TfidfVectorizer\n",
    "\n",
    "tidf = TfidfVectorizer(max_features = 20000, ngram_range = (1,2), analyzer = 'word',\n",
    "                       stop_words = stop_words )"
   ]
  },
  {
   "cell_type": "code",
   "execution_count": null,
   "id": "b1854184",
   "metadata": {},
   "outputs": [],
   "source": [
    "X_TF = tidf.fit_transform(reviews_cleaned['review'])\n",
    "y_TF = reviews_cleaned['rating']"
   ]
  },
  {
   "cell_type": "code",
   "execution_count": null,
   "id": "8aac50ac",
   "metadata": {},
   "outputs": [],
   "source": [
    "tidf.get_feature_names()"
   ]
  },
  {
   "cell_type": "code",
   "execution_count": null,
   "id": "11ef0be9",
   "metadata": {
    "scrolled": true
   },
   "outputs": [],
   "source": [
    "tidf.get_feature_names_out(input_features=None)"
   ]
  },
  {
   "cell_type": "code",
   "execution_count": null,
   "id": "7baaa7da",
   "metadata": {},
   "outputs": [],
   "source": [
    "len(tidf.get_feature_names())"
   ]
  },
  {
   "cell_type": "code",
   "execution_count": null,
   "id": "30252b32",
   "metadata": {},
   "outputs": [],
   "source": [
    "X_TF[:2,:5]"
   ]
  },
  {
   "cell_type": "markdown",
   "id": "970c829f",
   "metadata": {},
   "source": [
    "#### Train test split"
   ]
  },
  {
   "cell_type": "code",
   "execution_count": null,
   "id": "4b5e88f5",
   "metadata": {},
   "outputs": [],
   "source": [
    "X_TF_train, X_TF_test, y_TF_train, y_TF_test = train_test_split(X_TF, y_TF, test_size=0.20, random_state=42)"
   ]
  },
  {
   "cell_type": "code",
   "execution_count": null,
   "id": "9680acd2",
   "metadata": {},
   "outputs": [],
   "source": [
    "type(X_TF_train)"
   ]
  },
  {
   "cell_type": "markdown",
   "id": "d15d7e6c",
   "metadata": {},
   "source": [
    "#### Generating the model"
   ]
  },
  {
   "cell_type": "code",
   "execution_count": null,
   "id": "aed4365f",
   "metadata": {},
   "outputs": [],
   "source": [
    "rf1 = RandomForestClassifier(max_depth=200, n_estimators=100)\n",
    "\n",
    "y_TF_train = y_TF_train.astype('int')\n",
    "y_TF_test  = y_TF_test.astype('int')\n",
    "\n",
    "rf1.fit(X_TF_train, y_TF_train)\n",
    "\n",
    "y_TF_train_pred_rf = rf1.predict(X_TF_train)\n",
    "y_TF_test_pred_rf  = rf1.predict(X_TF_test)"
   ]
  },
  {
   "cell_type": "markdown",
   "id": "c591951a",
   "metadata": {},
   "source": [
    "#### Model performance"
   ]
  },
  {
   "cell_type": "code",
   "execution_count": null,
   "id": "78e04b26",
   "metadata": {},
   "outputs": [],
   "source": [
    "model_performance_class(y_TF_train, y_TF_train_pred_rf, y_TF_test, y_TF_test_pred_rf)"
   ]
  },
  {
   "cell_type": "code",
   "execution_count": null,
   "id": "3ccb2f9f",
   "metadata": {},
   "outputs": [],
   "source": [
    "from sklearn.metrics import confusion_matrix\n",
    "from sklearn.metrics import accuracy_score, precision_score, recall_score, confusion_matrix\n",
    "from sklearn.metrics import plot_confusion_matrix\n",
    "\n",
    "performance_df = pd.DataFrame({'Error_metric': ['Accuracy','Precision','Recall'],\n",
    "                               'Train': [accuracy_score(y_TF_train, y_TF_train_pred_rf),\n",
    "                                         precision_score(y_TF_train, y_TF_train_pred_rf),\n",
    "                                         recall_score(y_TF_train, y_TF_train_pred_rf)],\n",
    "                               'Test': [accuracy_score(y_TF_test, y_TF_test_pred_rf),\n",
    "                                        precision_score(y_TF_test, y_TF_test_pred_rf),\n",
    "                                        recall_score(y_TF_test, y_TF_test_pred_rf)]})\n",
    "\n",
    "display(performance_df)\n",
    "\n",
    "print(\"Confusion matrix for the train set\")\n",
    "print(confusion_matrix(y_TF_train,y_TF_train_pred_rf).T)\n",
    "plot_confusion_matrix(rf1, X_TF_train, y_TF_train, values_format = 'd')\n",
    "plt.show()\n",
    "\n",
    "print()\n",
    "print()\n",
    "\n",
    "print(\"Confusion matrix for the test set\")\n",
    "print(confusion_matrix(y_TF_test,y_TF_test_pred_rf).T)\n",
    "plot_confusion_matrix(rf1, X_TF_test,y_TF_test, values_format = 'd')\n",
    "plt.show()"
   ]
  },
  {
   "cell_type": "code",
   "execution_count": null,
   "id": "80b436d0",
   "metadata": {},
   "outputs": [],
   "source": [
    "# What's wrong with the confusion matrix??"
   ]
  },
  {
   "cell_type": "code",
   "execution_count": null,
   "id": "67a1222d",
   "metadata": {},
   "outputs": [],
   "source": [
    "ax = sns.barplot(x=\"Error_metric\", y=\"Test\", data=performance_df)"
   ]
  },
  {
   "cell_type": "markdown",
   "id": "37b4c095",
   "metadata": {},
   "source": [
    "## Forming LIST 1: POS tagging instead of stopwords"
   ]
  },
  {
   "cell_type": "markdown",
   "id": "e6da5265",
   "metadata": {},
   "source": [
    "### Applying tags and filtering POS"
   ]
  },
  {
   "cell_type": "code",
   "execution_count": null,
   "id": "a1e5411b",
   "metadata": {
    "scrolled": false
   },
   "outputs": [],
   "source": [
    "nltk.help.upenn_tagset()"
   ]
  },
  {
   "cell_type": "markdown",
   "id": "c8dbb794",
   "metadata": {},
   "source": [
    "### Tokenizing"
   ]
  },
  {
   "cell_type": "code",
   "execution_count": null,
   "id": "284e450a",
   "metadata": {},
   "outputs": [],
   "source": [
    "def filter_review(x):\n",
    "    text = word_tokenize(x)\n",
    "    # Apply an steemer\n",
    "    tags = nltk.pos_tag(text)\n",
    "    words = []\n",
    "    for tag in tags:\n",
    "        # Include the type of words that you want to consider.\n",
    "        # It will be also better \n",
    "        if ( tag[1] in ['JJ','NN'] ):\n",
    "            words.append(tag[0])\n",
    "    return words[1:-1]"
   ]
  },
  {
   "cell_type": "code",
   "execution_count": null,
   "id": "e575a454",
   "metadata": {
    "scrolled": true
   },
   "outputs": [],
   "source": [
    "list_filtered = filter_review(str(corpus_pre_tok))"
   ]
  },
  {
   "cell_type": "code",
   "execution_count": null,
   "id": "62fd9194",
   "metadata": {},
   "outputs": [],
   "source": [
    "len(list_filtered)"
   ]
  },
  {
   "cell_type": "markdown",
   "id": "fc3e40c9",
   "metadata": {},
   "source": [
    "### Reducing the list"
   ]
  },
  {
   "cell_type": "code",
   "execution_count": null,
   "id": "7f3c26fd",
   "metadata": {},
   "outputs": [],
   "source": [
    "corpus = [(wordfreq[key],key) for key in list(wordfreq.keys()) if key not in stop_words]\n",
    "stop_words"
   ]
  },
  {
   "cell_type": "code",
   "execution_count": null,
   "id": "ecc6eb08",
   "metadata": {},
   "outputs": [],
   "source": [
    "corpus.sort(reverse = True)\n",
    "\n",
    "corpus_freq = [(word[1],word[0]) for word in corpus[:31]] \n",
    "corpus_freq = corpus_freq[1:]\n",
    "corpus_freq"
   ]
  },
  {
   "cell_type": "code",
   "execution_count": null,
   "id": "a6ecbae2",
   "metadata": {},
   "outputs": [],
   "source": [
    "# exact same set as without POS tagging and filtering... no need to re-run models."
   ]
  },
  {
   "cell_type": "markdown",
   "id": "4bfdcd79",
   "metadata": {},
   "source": [
    "# DOWNSAMPLE: to balance higher num of high rating"
   ]
  },
  {
   "cell_type": "code",
   "execution_count": null,
   "id": "60c16770",
   "metadata": {},
   "outputs": [],
   "source": [
    "reviews_cleaned"
   ]
  },
  {
   "cell_type": "code",
   "execution_count": null,
   "id": "03878b3c",
   "metadata": {},
   "outputs": [],
   "source": [
    "# Splitting df \n",
    "\n",
    "category_0 = reviews_cleaned[reviews_cleaned['rating'] == 0]\n",
    "category_1 = reviews_cleaned[reviews_cleaned['rating'] == 1]\n",
    "category_1\n",
    "category_0"
   ]
  },
  {
   "cell_type": "code",
   "execution_count": null,
   "id": "6de84a0d",
   "metadata": {},
   "outputs": [],
   "source": [
    "# Filtering df according to minority group \n",
    "\n",
    "category_1 = category_1.sample(len(category_0))\n",
    "print(category_0.shape)\n",
    "print(category_1.shape)"
   ]
  },
  {
   "cell_type": "code",
   "execution_count": null,
   "id": "a68d9f66",
   "metadata": {},
   "outputs": [],
   "source": [
    "# Putting together the two splits\n",
    "\n",
    "df_down = pd.concat([category_0, category_1], axis=0)\n",
    "df_down = df_down.sample(frac=1)\n",
    "df_down['rating'].value_counts()\n",
    "df_down.reset_index(drop=True, inplace=True)\n",
    "df_down"
   ]
  },
  {
   "cell_type": "markdown",
   "id": "8d59e0d5",
   "metadata": {},
   "source": [
    "### BOW"
   ]
  },
  {
   "cell_type": "code",
   "execution_count": null,
   "id": "eb3bef5e",
   "metadata": {},
   "outputs": [],
   "source": [
    "reviews2 = ['']\n",
    "corpus2=[]\n",
    "for review in df_down['review']:\n",
    "    reviews2.append(review)\n",
    "    corpus2.append(nltk.sent_tokenize(review))\n",
    "corpus2"
   ]
  },
  {
   "cell_type": "code",
   "execution_count": null,
   "id": "35c37f0d",
   "metadata": {},
   "outputs": [],
   "source": [
    "len(corpus2)"
   ]
  },
  {
   "cell_type": "code",
   "execution_count": null,
   "id": "d1281316",
   "metadata": {},
   "outputs": [],
   "source": [
    "corpus2=[sent for sublist in corpus2 for sent in sublist]\n",
    "corpus2"
   ]
  },
  {
   "cell_type": "code",
   "execution_count": null,
   "id": "dd49bd71",
   "metadata": {},
   "outputs": [],
   "source": [
    "len(corpus2)"
   ]
  },
  {
   "cell_type": "markdown",
   "id": "4d6c22de",
   "metadata": {},
   "source": [
    "### Cleaning corpus"
   ]
  },
  {
   "cell_type": "code",
   "execution_count": null,
   "id": "dd78ea80",
   "metadata": {},
   "outputs": [],
   "source": [
    "for i in range(len(corpus2)):\n",
    "    corpus2[i] = re.sub(r'\\d+','', corpus2[i]) # Replace one or more digits by  ' '\n",
    "    corpus2[i] = re.sub(r\"\\s*'\\s*\\w*\",\" \", corpus2[i])\n",
    "    corpus2[i] = re.sub(r'\\W+',' ',corpus2[i]) # Replace everything non-alpahnumeric by ' '\n",
    "    corpus2[i] = re.sub(r'\\s+',' ', corpus2[i]) # Replace one or more whitespaces by  ' '    \n",
    "    corpus2[i] = re.sub(r'^\\s+|\\s+?$','', corpus2[i])\n",
    "corpus2"
   ]
  },
  {
   "cell_type": "code",
   "execution_count": null,
   "id": "d49cc3f0",
   "metadata": {},
   "outputs": [],
   "source": [
    "corpus2_pre_tok = corpus2.copy()\n",
    "corpus2_pre_tok"
   ]
  },
  {
   "cell_type": "markdown",
   "id": "e1448377",
   "metadata": {},
   "source": [
    "### POS"
   ]
  },
  {
   "cell_type": "code",
   "execution_count": null,
   "id": "e56d0f48",
   "metadata": {},
   "outputs": [],
   "source": [
    "nltk.help.upenn_tagset()"
   ]
  },
  {
   "cell_type": "code",
   "execution_count": null,
   "id": "aa26a136",
   "metadata": {},
   "outputs": [],
   "source": [
    "def filter_review(x):\n",
    "    text = word_tokenize(x)\n",
    "    # Apply an steemer\n",
    "    tags = nltk.pos_tag(text)\n",
    "    words = []\n",
    "    for tag in tags:\n",
    "        # Include the type of words that you want to consider.\n",
    "        # It will be also better \n",
    "        if ( tag[1] in ['JJ','NN'] ):\n",
    "            words.append(tag[0])\n",
    "    return words[1:-1]"
   ]
  },
  {
   "cell_type": "code",
   "execution_count": null,
   "id": "7f4cd29c",
   "metadata": {},
   "outputs": [],
   "source": [
    "list_filtered2 = filter_review(str(corpus2_pre_tok))"
   ]
  },
  {
   "cell_type": "code",
   "execution_count": null,
   "id": "f47a18ec",
   "metadata": {},
   "outputs": [],
   "source": [
    "len(list_filtered2)"
   ]
  },
  {
   "cell_type": "code",
   "execution_count": null,
   "id": "d9afecea",
   "metadata": {},
   "outputs": [],
   "source": [
    "list_filtered2"
   ]
  },
  {
   "cell_type": "markdown",
   "id": "a5826a02",
   "metadata": {},
   "source": [
    "### Reducing the corpus"
   ]
  },
  {
   "cell_type": "markdown",
   "id": "dbf97e9c",
   "metadata": {},
   "source": [
    "#### Stopwords"
   ]
  },
  {
   "cell_type": "code",
   "execution_count": null,
   "id": "90e9403b",
   "metadata": {},
   "outputs": [],
   "source": [
    "stop_words = set(nltk.corpus.stopwords.words('english'))\n",
    "exclude_words = set((\"aren't\",\"couldn't\",\"didn't\",\"doesn't\",\"don't\",\"hadn't\",\"hasn't\",\"haven't\",\"isn't\",\"mightn't\",\"mustn't\",\"needn't\",\"no\",\"nor\",\"not\",\"shan't\",\"shouldn't\",\"wasn't\",\"weren't\",\"wouldn't\"))\n",
    "stop_words = stop_words.difference(exclude_words)\n",
    "stop_words = list(stop_words)"
   ]
  },
  {
   "cell_type": "code",
   "execution_count": null,
   "id": "48ed92db",
   "metadata": {},
   "outputs": [],
   "source": [
    "for i in range(len(stop_words)):\n",
    "    stop_words[i] = re.sub(r\"\\s*'\\s*\\w*\",\"\",stop_words[i])\n",
    "stop_words"
   ]
  },
  {
   "cell_type": "code",
   "execution_count": null,
   "id": "6935a490",
   "metadata": {},
   "outputs": [],
   "source": [
    "stop_words.extend(['im', 'ive', 'it', 'mg', 'quot'])\n",
    "stop_words"
   ]
  },
  {
   "cell_type": "code",
   "execution_count": null,
   "id": "757c73ae",
   "metadata": {},
   "outputs": [],
   "source": []
  },
  {
   "cell_type": "code",
   "execution_count": null,
   "id": "03773a03",
   "metadata": {},
   "outputs": [],
   "source": [
    "# Matching with frequencies?"
   ]
  },
  {
   "cell_type": "code",
   "execution_count": null,
   "id": "185e9640",
   "metadata": {},
   "outputs": [],
   "source": [
    "wordfreq2 = {}\n",
    "for word in list_filtered2:\n",
    "    if ( word not in wordfreq2.keys() ): ## first time appearnce in the sentence\n",
    "        wordfreq2[word] = 1 # We initialize the corresponding counter\n",
    "    else: ## if the world is already existed in the dictionalry \n",
    "        wordfreq2[word] += 1 # We increase the corresponding counter"
   ]
  },
  {
   "cell_type": "code",
   "execution_count": null,
   "id": "054d7d43",
   "metadata": {},
   "outputs": [],
   "source": [
    "list_filtered_again = [(wordfreq2[key],key) for key in list(wordfreq2.keys()) if key not in stop_words]\n",
    "list_filtered_again"
   ]
  },
  {
   "cell_type": "code",
   "execution_count": null,
   "id": "03831381",
   "metadata": {},
   "outputs": [],
   "source": [
    "len(list(wordfreq2.keys()))"
   ]
  },
  {
   "cell_type": "code",
   "execution_count": null,
   "id": "efdb9b70",
   "metadata": {},
   "outputs": [],
   "source": [
    "list_filtered_again.sort(reverse = True)\n",
    "corpus_freq2 = [(word[1],word[0]) for word in list_filtered_again[:31]] \n",
    "corpus_freq2 = corpus_freq2[1:]\n",
    "corpus_freq2"
   ]
  },
  {
   "cell_type": "code",
   "execution_count": null,
   "id": "5cd5a3c6",
   "metadata": {},
   "outputs": [],
   "source": [
    "from nltk.stem import WordNetLemmatizer\n",
    "nltk.download('omw-1.4')\n",
    "lem = WordNetLemmatizer()\n",
    "\n",
    "corpus_freq2 = [(lem.lemmatize(word[0]),word[1]) for word in corpus_freq2]\n",
    "corpus_freq2"
   ]
  },
  {
   "cell_type": "code",
   "execution_count": null,
   "id": "4a3ec635",
   "metadata": {},
   "outputs": [],
   "source": [
    "cols2 = {word[0]: [] for word in corpus_freq2}\n",
    "reviews2 = pd.DataFrame(cols2)\n",
    "\n",
    "reviews2"
   ]
  },
  {
   "cell_type": "code",
   "execution_count": null,
   "id": "6af23e13",
   "metadata": {},
   "outputs": [],
   "source": [
    "cols2"
   ]
  },
  {
   "cell_type": "code",
   "execution_count": null,
   "id": "df816905",
   "metadata": {},
   "outputs": [],
   "source": [
    "stop_words"
   ]
  },
  {
   "cell_type": "code",
   "execution_count": null,
   "id": "6082dee0",
   "metadata": {},
   "outputs": [],
   "source": [
    "my_list2 = list(map(review_inpector, df_down['review'], \n",
    "                    [stop_words]*df.shape[0], [list(cols2.keys())]*df.shape[0] ) )\n",
    "\n",
    "my_list2[:2]"
   ]
  },
  {
   "cell_type": "code",
   "execution_count": null,
   "id": "770835e6",
   "metadata": {},
   "outputs": [],
   "source": [
    "reviews2 = pd.DataFrame(my_list2)"
   ]
  },
  {
   "cell_type": "code",
   "execution_count": null,
   "id": "904996b8",
   "metadata": {},
   "outputs": [],
   "source": [
    "reviews2"
   ]
  },
  {
   "cell_type": "code",
   "execution_count": null,
   "id": "004be6e9",
   "metadata": {},
   "outputs": [],
   "source": [
    "reviews2['rating'] = df_down['rating'].reset_index(drop=True)\n",
    "reviews2"
   ]
  },
  {
   "cell_type": "markdown",
   "id": "c0204961",
   "metadata": {},
   "source": [
    "## Modeling (DOWNSAMPLE)"
   ]
  },
  {
   "cell_type": "markdown",
   "id": "9bb06574",
   "metadata": {},
   "source": [
    "### Cross-validation?"
   ]
  },
  {
   "cell_type": "markdown",
   "id": "de82ac94",
   "metadata": {},
   "source": [
    "from sklearn.model_selection import StratifiedKFold\n",
    "\n",
    "cv = StratifiedKFold(n_splits=5, random_state=42, shuffle=True)\n",
    "results = pd.DataFrame(columns=['training_score', 'test_score'])\n",
    "fprs, tprs, scores = [], [], []"
   ]
  },
  {
   "cell_type": "markdown",
   "id": "26891777",
   "metadata": {},
   "source": [
    "for (train, test), i in zip(cv.split(X, y), range(5)):\n",
    "    rf.fit(X.iloc[train], y.iloc[train])\n",
    "    _, _, auc_score_train = compute_roc_auc(train)\n",
    "    fpr, tpr, auc_score = compute_roc_auc(test)\n",
    "    scores.append((auc_score_train, auc_score))\n",
    "    fprs.append(fpr)\n",
    "    tprs.append(tpr)\n",
    "\n",
    "plot_roc_curve(fprs, tprs);\n",
    "pd.DataFrame(scores, columns=['AUC Train', 'AUC Test'])"
   ]
  },
  {
   "cell_type": "markdown",
   "id": "c8d8ee22",
   "metadata": {},
   "source": [
    "## >>> Running the RanFor Model with BOW"
   ]
  },
  {
   "cell_type": "code",
   "execution_count": null,
   "id": "00575380",
   "metadata": {},
   "outputs": [],
   "source": [
    "X2 = reviews2.drop(columns='rating')\n",
    "y2 = reviews2['rating']\n",
    "X2\n",
    "y2"
   ]
  },
  {
   "cell_type": "code",
   "execution_count": null,
   "id": "505362a4",
   "metadata": {},
   "outputs": [],
   "source": [
    "X_train2, X_test2, y_train2, y_test2 = train_test_split(X2, y2, test_size=0.20, random_state=42)\n",
    "\n",
    "X_train2 = pd.DataFrame(X_train2, columns=X2.columns)\n",
    "X_test2  = pd.DataFrame(X_test2, columns=X2.columns)\n",
    "\n",
    "y_train2 = pd.DataFrame(y_train2, columns =['rating'])\n",
    "y_test2  = pd.DataFrame(y_test2, columns =['rating'])"
   ]
  },
  {
   "cell_type": "code",
   "execution_count": null,
   "id": "3a453028",
   "metadata": {
    "scrolled": false
   },
   "outputs": [],
   "source": [
    "X_train2\n",
    "y_train2\n",
    "X_test2"
   ]
  },
  {
   "cell_type": "code",
   "execution_count": null,
   "id": "63a9862c",
   "metadata": {},
   "outputs": [],
   "source": [
    "y_test2.value_counts()"
   ]
  },
  {
   "cell_type": "code",
   "execution_count": null,
   "id": "e9073337",
   "metadata": {},
   "outputs": [],
   "source": [
    "rf2 = RandomForestClassifier()\n",
    "\n",
    "rf2.fit(X_train2, y_train2['rating'])"
   ]
  },
  {
   "cell_type": "markdown",
   "id": "eba1debb",
   "metadata": {},
   "source": [
    "### Making predictions with RF"
   ]
  },
  {
   "cell_type": "code",
   "execution_count": null,
   "id": "bc275f91",
   "metadata": {},
   "outputs": [],
   "source": [
    "y_train_pred_rf2 = rf2.predict(X_train2)\n",
    "y_test_pred_rf2  = rf2.predict(X_test2)"
   ]
  },
  {
   "cell_type": "code",
   "execution_count": null,
   "id": "9798b498",
   "metadata": {},
   "outputs": [],
   "source": [
    "def model_performance_class(y_train, y_pred_train, y_test, y_pred_test):\n",
    "\n",
    "    from sklearn.metrics import cohen_kappa_score, classification_report \n",
    "\n",
    "\n",
    "    print(\"Results obtained for the TRAIN SET\")\n",
    "    print(\"==================================\")\n",
    "    print(\"The Cohen's Kappa is: {:.2f}\".format(cohen_kappa_score(y_train, y_pred_train)))\n",
    "    print(classification_report(y_train, y_pred_train))\n",
    "    print(\"==================================\")\n",
    "    print(\"Results obtained for the TEST SET\")\n",
    "    print(\"The Cohen's Kappa is: {:.2f}\".format(cohen_kappa_score(y_test, y_pred_test)))\n",
    "    print(classification_report(y_test, y_pred_test))"
   ]
  },
  {
   "cell_type": "markdown",
   "id": "73304d53",
   "metadata": {},
   "source": [
    "### Model performance"
   ]
  },
  {
   "cell_type": "code",
   "execution_count": null,
   "id": "a0879d5c",
   "metadata": {},
   "outputs": [],
   "source": [
    "model_performance_class(y_train2, y_train_pred_rf2, y_test2, y_test_pred_rf2)"
   ]
  },
  {
   "cell_type": "markdown",
   "id": "aa5120e2",
   "metadata": {},
   "source": [
    "#### Tuning the hyper paramters with gridsearch"
   ]
  },
  {
   "cell_type": "code",
   "execution_count": null,
   "id": "922313f5",
   "metadata": {},
   "outputs": [],
   "source": [
    "from sklearn.model_selection import GridSearchCV\n",
    "param_grid = {\n",
    "    'n_estimators': [50, 100],\n",
    "    'max_depth': [5, 8, 10],\n",
    "    'bootstrap': [True, False],\n",
    "    'min_samples_leaf' : [1, 2],\n",
    "    'max_features': ['sqrt', 'log2']\n",
    "    #'max_samples' : ['None', 0.5]\n",
    "    }\n",
    "clf = RandomForestClassifier(random_state=42)"
   ]
  },
  {
   "cell_type": "code",
   "execution_count": null,
   "id": "ef36b58c",
   "metadata": {},
   "outputs": [],
   "source": [
    "grid_search = GridSearchCV(clf, param_grid, cv=5,return_train_score=True,n_jobs=-1,)"
   ]
  },
  {
   "cell_type": "code",
   "execution_count": null,
   "id": "dfaea4e3",
   "metadata": {},
   "outputs": [],
   "source": [
    "grid_search.fit(X_train2,y_train2)"
   ]
  },
  {
   "cell_type": "code",
   "execution_count": null,
   "id": "4475cc8c",
   "metadata": {},
   "outputs": [],
   "source": [
    "grid_search.best_params_"
   ]
  },
  {
   "cell_type": "code",
   "execution_count": null,
   "id": "d04be184",
   "metadata": {},
   "outputs": [],
   "source": [
    "clf = RandomForestClassifier(bootstrap=False, max_depth=10,max_features=\"sqrt\",n_estimators=100, min_samples_leaf = 2, random_state=42)\n",
    "clf.fit(X_train2, y_train2)\n",
    "print(clf.score(X_train2, y_train2))\n",
    "print(clf.score(X_test2, y_test2))"
   ]
  },
  {
   "cell_type": "code",
   "execution_count": null,
   "id": "a47b4281",
   "metadata": {},
   "outputs": [],
   "source": [
    "pd.DataFrame(grid_search.cv_results_)"
   ]
  },
  {
   "cell_type": "code",
   "execution_count": null,
   "id": "3d80e0f5",
   "metadata": {},
   "outputs": [],
   "source": [
    "cross_val_scores = cross_val_score(clf, X_train2, y_train2, cv=10)\n",
    "print(np.mean(cross_val_scores))"
   ]
  },
  {
   "cell_type": "markdown",
   "id": "dc6f8737",
   "metadata": {},
   "source": [
    "## TF_IDF DOWNSAMPLE"
   ]
  },
  {
   "cell_type": "markdown",
   "id": "32da4565",
   "metadata": {},
   "source": [
    "### >>> With uni + bigrams"
   ]
  },
  {
   "cell_type": "code",
   "execution_count": null,
   "id": "95dacff3",
   "metadata": {},
   "outputs": [],
   "source": [
    "df_down"
   ]
  },
  {
   "cell_type": "code",
   "execution_count": null,
   "id": "07f7ad81",
   "metadata": {},
   "outputs": [],
   "source": [
    "tidf = TfidfVectorizer(max_features = 20000, ngram_range = (1,2), analyzer = 'word',\n",
    "                       stop_words = stop_words, min_df=2 )"
   ]
  },
  {
   "cell_type": "code",
   "execution_count": null,
   "id": "42ce6881",
   "metadata": {},
   "outputs": [],
   "source": [
    "X_TF2 = tidf.fit_transform(df_down['review'])\n",
    "y_TF2 = df_down['rating']"
   ]
  },
  {
   "cell_type": "code",
   "execution_count": null,
   "id": "74a0451b",
   "metadata": {},
   "outputs": [],
   "source": [
    "table = pd.DataFrame(X_TF2.toarray(), columns=features)"
   ]
  },
  {
   "cell_type": "code",
   "execution_count": null,
   "id": "e83e902a",
   "metadata": {},
   "outputs": [],
   "source": [
    "list_score = []\n",
    "for column in table.columns:\n",
    "    list_score.append(table[column].mean())"
   ]
  },
  {
   "cell_type": "code",
   "execution_count": null,
   "id": "470fbd72",
   "metadata": {},
   "outputs": [],
   "source": [
    "text_plot = pd.DataFrame({\"feature\": features, \"score\": list_score})\n",
    "text_plot = text_plot.sort_values(by=\"score\", ascending=False)\n",
    "text_plot.iloc[-30:,:]"
   ]
  },
  {
   "cell_type": "code",
   "execution_count": null,
   "id": "4dc3132c",
   "metadata": {},
   "outputs": [],
   "source": [
    "features = tidf.get_feature_names()\n",
    "features"
   ]
  },
  {
   "cell_type": "code",
   "execution_count": null,
   "id": "237c34fb",
   "metadata": {},
   "outputs": [],
   "source": [
    "len(tidf.get_feature_names())"
   ]
  },
  {
   "cell_type": "code",
   "execution_count": null,
   "id": "605ebf63",
   "metadata": {},
   "outputs": [],
   "source": [
    "def top_tfidf_feats(row, features, top_n=25):\n",
    "    ''' Get top n tfidf values in row and return them with their corresponding feature names.'''\n",
    "    topn_ids = np.argsort(row)[::-1][:top_n]\n",
    "    top_feats = [(features[i], row[i]) for i in topn_ids]\n",
    "    df = pd.DataFrame(top_feats)\n",
    "    df.columns = ['feature', 'tfidf']\n",
    "    return df"
   ]
  },
  {
   "cell_type": "code",
   "execution_count": null,
   "id": "3064ae16",
   "metadata": {},
   "outputs": [],
   "source": [
    "X_TF2[:2,:5]"
   ]
  },
  {
   "cell_type": "markdown",
   "id": "d35d15b9",
   "metadata": {},
   "source": [
    "#### Train test split"
   ]
  },
  {
   "cell_type": "code",
   "execution_count": null,
   "id": "cce9b122",
   "metadata": {},
   "outputs": [],
   "source": [
    "X_TF_train2, X_TF_test2, y_TF_train2, y_TF_test2 = train_test_split(X_TF2, y_TF2, test_size=0.20, random_state=42)"
   ]
  },
  {
   "cell_type": "code",
   "execution_count": null,
   "id": "7ab1d33b",
   "metadata": {},
   "outputs": [],
   "source": [
    "type(X_TF_train2)"
   ]
  },
  {
   "cell_type": "markdown",
   "id": "66945b7b",
   "metadata": {},
   "source": [
    "#### Generating the model"
   ]
  },
  {
   "cell_type": "code",
   "execution_count": null,
   "id": "a3fc3415",
   "metadata": {},
   "outputs": [],
   "source": [
    "rf3 = RandomForestClassifier(max_depth=75, n_estimators=100)\n",
    "\n",
    "y_TF_train2 = y_TF_train2.astype('int')\n",
    "y_TF_test2  = y_TF_test2.astype('int')\n",
    "\n",
    "rf3.fit(X_TF_train2, y_TF_train2)\n",
    "\n",
    "y_TF_train_pred_rf2 = rf3.predict(X_TF_train2)\n",
    "y_TF_test_pred_rf2  = rf3.predict(X_TF_test2)"
   ]
  },
  {
   "cell_type": "markdown",
   "id": "84277257",
   "metadata": {},
   "source": [
    "#### Model performance"
   ]
  },
  {
   "cell_type": "code",
   "execution_count": null,
   "id": "f3d50874",
   "metadata": {
    "scrolled": true
   },
   "outputs": [],
   "source": [
    "model_performance_class(y_TF_train2, y_TF_train_pred_rf2, y_TF_test2, y_TF_test_pred_rf2)"
   ]
  },
  {
   "cell_type": "code",
   "execution_count": null,
   "id": "a90f5863",
   "metadata": {
    "scrolled": true
   },
   "outputs": [],
   "source": [
    "Xtr = TfidfVectorizer.fit_transform(X_TF2)\n",
    "vec = TfidfVectorizer.named_steps['vec']\n",
    "features = vec.get_feature_names()"
   ]
  },
  {
   "cell_type": "code",
   "execution_count": null,
   "id": "bce3d993",
   "metadata": {},
   "outputs": [],
   "source": [
    "param_grid = {\n",
    "    'n_estimators': [50, 100],\n",
    "    'max_depth': [5, 8, 10],\n",
    "    'bootstrap': [True, False],\n",
    "    'min_samples_leaf' : [1, 2],\n",
    "    'max_features': ['sqrt', 'log2']\n",
    "    #'max_samples' : ['None', 0.5]\n",
    "    }\n",
    "clf = RandomForestClassifier(random_state=42)"
   ]
  },
  {
   "cell_type": "code",
   "execution_count": null,
   "id": "1893019c",
   "metadata": {},
   "outputs": [],
   "source": [
    "grid_search = GridSearchCV(clf, param_grid, cv=5,return_train_score=True,n_jobs=-1,)"
   ]
  },
  {
   "cell_type": "code",
   "execution_count": null,
   "id": "3689ec24",
   "metadata": {},
   "outputs": [],
   "source": [
    "grid_search.fit(X_TF_train2,y_TF_train2)"
   ]
  },
  {
   "cell_type": "code",
   "execution_count": null,
   "id": "842770e5",
   "metadata": {},
   "outputs": [],
   "source": [
    "grid_search.best_params_"
   ]
  },
  {
   "cell_type": "code",
   "execution_count": null,
   "id": "156ab1dc",
   "metadata": {},
   "outputs": [],
   "source": [
    "from sklearn.metrics import confusion_matrix\n",
    "from sklearn.metrics import accuracy_score, precision_score, recall_score, confusion_matrix\n",
    "from sklearn.metrics import plot_confusion_matrix\n",
    "\n",
    "performance_df_best = pd.DataFrame({'Error_metric': ['Accuracy','Precision','Recall'],\n",
    "                               'Train': [accuracy_score(y_TF_train2, y_TF_train_pred_rf2),\n",
    "                                         precision_score(y_TF_train2, y_TF_train_pred_rf2),\n",
    "                                         recall_score(y_TF_train2, y_TF_train_pred_rf2)],\n",
    "                               'Test': [accuracy_score(y_TF_test2, y_TF_test_pred_rf2),\n",
    "                                        precision_score(y_TF_test2, y_TF_test_pred_rf2),\n",
    "                                        recall_score(y_TF_test2, y_TF_test_pred_rf2)]})\n",
    "\n",
    "display(performance_df_best)\n",
    "\n",
    "print(\"Confusion matrix for the train set\")\n",
    "print(confusion_matrix(y_TF_train2,y_TF_train_pred_rf2).T)\n",
    "plot_confusion_matrix(rf3, X_TF_train2, y_TF_train2, values_format = 'd')\n",
    "plt.show()\n",
    "\n",
    "print()\n",
    "print()\n",
    "\n",
    "print(\"Confusion matrix for the test set\")\n",
    "print(confusion_matrix(y_TF_test2,y_TF_test_pred_rf2).T)\n",
    "plot_confusion_matrix(rf3, X_TF_test2,y_TF_test2, values_format = 'd')\n",
    "plt.show()"
   ]
  },
  {
   "cell_type": "markdown",
   "id": "be75b536",
   "metadata": {},
   "source": [
    "### >>> With bigrams only"
   ]
  },
  {
   "cell_type": "code",
   "execution_count": null,
   "id": "dfbb04d0",
   "metadata": {},
   "outputs": [],
   "source": [
    "tidf = TfidfVectorizer(max_features = 20000, ngram_range = (2,2), analyzer = 'word',\n",
    "                       stop_words = stop_words, min_df=2 )"
   ]
  },
  {
   "cell_type": "code",
   "execution_count": null,
   "id": "a0481be3",
   "metadata": {},
   "outputs": [],
   "source": [
    "X_TF_down_bi = tidf.fit_transform(df_down['review'])\n",
    "y_TF_down_bi = df_down['rating']"
   ]
  },
  {
   "cell_type": "markdown",
   "id": "24e3a1b2",
   "metadata": {},
   "source": [
    "#### Train test split"
   ]
  },
  {
   "cell_type": "code",
   "execution_count": null,
   "id": "15a8b480",
   "metadata": {},
   "outputs": [],
   "source": [
    "X_TF_down_bi_train, X_TF_down_bi_test, y_TF_down_bi_train, y_TF_down_bi_test = train_test_split(X_TF_down_bi, y_TF_down_bi, test_size=0.20, random_state=42)"
   ]
  },
  {
   "cell_type": "code",
   "execution_count": null,
   "id": "566503af",
   "metadata": {},
   "outputs": [],
   "source": [
    "type(X_TF_down_bi_train)"
   ]
  },
  {
   "cell_type": "markdown",
   "id": "d862e066",
   "metadata": {},
   "source": [
    "#### Generating the model"
   ]
  },
  {
   "cell_type": "code",
   "execution_count": null,
   "id": "9d173e15",
   "metadata": {},
   "outputs": [],
   "source": [
    "rf4 = RandomForestClassifier(max_depth=200, n_estimators=50)\n",
    "\n",
    "y_TF_down_bi_train = y_TF_down_bi_train.astype('int')\n",
    "y_TF_down_bi_test  = y_TF_down_bi_test.astype('int')\n",
    "\n",
    "rf4.fit(X_TF_down_bi_train, y_TF_down_bi_train)\n",
    "\n",
    "y_TF_down_bi_train_pred_rf = rf4.predict(X_TF_down_bi_train)\n",
    "y_TF_down_bi_test_pred_rf  = rf4.predict(X_TF_down_bi_test)"
   ]
  },
  {
   "cell_type": "markdown",
   "id": "3062b94c",
   "metadata": {},
   "source": [
    "#### Model performance"
   ]
  },
  {
   "cell_type": "code",
   "execution_count": null,
   "id": "e71d2f39",
   "metadata": {
    "scrolled": true
   },
   "outputs": [],
   "source": [
    "model_performance_class(y_TF_down_bi_train, y_TF_down_bi_train_pred_rf, y_TF_down_bi_test, \n",
    "                        y_TF_down_bi_test_pred_rf)"
   ]
  },
  {
   "cell_type": "markdown",
   "id": "a56b5367",
   "metadata": {},
   "source": [
    "#### Tuning the hyper paramters with gridsearch"
   ]
  },
  {
   "cell_type": "code",
   "execution_count": null,
   "id": "93f74ac6",
   "metadata": {},
   "outputs": [],
   "source": [
    "from sklearn.model_selection import GridSearchCV\n",
    "param_grid = {\n",
    "    'n_estimators': [50, 100],\n",
    "    'max_depth': [150, 200],\n",
    "    'bootstrap': [True, False],\n",
    "    'min_samples_leaf' : [1, 2],\n",
    "    'max_features': ['sqrt', 'log2']\n",
    "    #'max_samples' : ['None', 0.5]\n",
    "    }\n",
    "clf = RandomForestClassifier(random_state=42)"
   ]
  },
  {
   "cell_type": "code",
   "execution_count": null,
   "id": "9d86e8e8",
   "metadata": {},
   "outputs": [],
   "source": [
    "grid_search = GridSearchCV(clf, param_grid, cv=5,return_train_score=True,n_jobs=-1,)"
   ]
  },
  {
   "cell_type": "code",
   "execution_count": null,
   "id": "63ee019f",
   "metadata": {},
   "outputs": [],
   "source": [
    "grid_search.fit(X_TF_train2,y_TF_train2)"
   ]
  },
  {
   "cell_type": "code",
   "execution_count": null,
   "id": "4d2b4ef7",
   "metadata": {},
   "outputs": [],
   "source": [
    "grid_search.best_params_"
   ]
  },
  {
   "cell_type": "code",
   "execution_count": null,
   "id": "820a0b95",
   "metadata": {
    "scrolled": false
   },
   "outputs": [],
   "source": [
    "#pd.DataFrame(grid_search.cv_results_)"
   ]
  },
  {
   "cell_type": "code",
   "execution_count": null,
   "id": "06e4893e",
   "metadata": {},
   "outputs": [],
   "source": [
    "cross_val_scores = cross_val_score(clf, X_train2, y_train2, cv=10)\n",
    "print(np.mean(cross_val_scores))"
   ]
  },
  {
   "cell_type": "code",
   "execution_count": null,
   "id": "e35567a7",
   "metadata": {
    "scrolled": true
   },
   "outputs": [],
   "source": [
    "metrics.RocCurveDisplay"
   ]
  },
  {
   "cell_type": "code",
   "execution_count": null,
   "id": "4cda4381",
   "metadata": {},
   "outputs": [],
   "source": [
    "metrics.RocCurveDisplay.from_estimator"
   ]
  },
  {
   "cell_type": "code",
   "execution_count": null,
   "id": "3df094bc",
   "metadata": {},
   "outputs": [],
   "source": [
    "# 1 - BOW, down\n",
    "disp = plot_roc_curve(rf2, X_test2, y_test2, name=\"BOW, balanced\", pos_label=0)\n",
    "plt.gcf().set_size_inches(12,6)\n",
    "#2 - TF-IDF down bi grams\n",
    "plot_roc_curve(rf4, X_TF_down_bi_test, y_TF_down_bi_test, name=\"TF-IDF, balanced, bigrams\", ax=disp.ax_, pos_label=0);\n",
    "\n",
    "#3 - TF-IDF down uni/bi grams\n",
    "plot_roc_curve(rf3, X_TF_test2, y_TF_test2, name=\"TF-IDF, balanced, uni+bigrams\", ax=disp.ax_, pos_label=0);\n",
    "\n",
    "#4 - TF-IDF full uni/bi grams\n",
    "plot_roc_curve(rf1, X_TF_test, y_TF_test, name=\"TF-IDF, imbalanced, uni+bigrams\", ax=disp.ax_, pos_label=0);\n",
    "plt.plot([0, 1], [0, 1],'r--')\n",
    "plt.savefig('demo.png', transparent=True)"
   ]
  },
  {
   "cell_type": "code",
   "execution_count": null,
   "id": "f2c60938",
   "metadata": {},
   "outputs": [],
   "source": [
    "# Plot recall (chose green option as recall for cat 1 is better)"
   ]
  },
  {
   "cell_type": "code",
   "execution_count": null,
   "id": "bd027fe7",
   "metadata": {},
   "outputs": [],
   "source": [
    "performance_df1 = pd.DataFrame({'Error_metric': ['Accuracy','Precision','Recall'],\n",
    "                               #'Train': [accuracy_score(y_TF_train, y_TF_train_pred_rf),\n",
    "                                #         precision_score(y_TF_train, y_TF_train_pred_rf),\n",
    "                                 #        recall_score(y_TF_train, y_TF_train_pred_rf)],\n",
    "                               'Test': [accuracy_score(y_TF_test, y_TF_test_pred_rf),\n",
    "                                        precision_score(y_TF_test, y_TF_test_pred_rf),\n",
    "                                        recall_score(y_TF_test, y_TF_test_pred_rf)]})\n",
    "performance_df_best1 = pd.DataFrame({'Error_metric': ['Accuracy','Precision','Recall'],\n",
    "                               #'Train': [accuracy_score(y_TF_train2, y_TF_train_pred_rf2),\n",
    "                               #          precision_score(y_TF_train2, y_TF_train_pred_rf2),\n",
    "                                #         recall_score(y_TF_train2, y_TF_train_pred_rf2)],\n",
    "                               'Test': [accuracy_score(y_TF_test2, y_TF_test_pred_rf2),\n",
    "                                        precision_score(y_TF_test2, y_TF_test_pred_rf2),\n",
    "                                        recall_score(y_TF_test2, y_TF_test_pred_rf2)]})\n"
   ]
  },
  {
   "cell_type": "code",
   "execution_count": null,
   "id": "b0649ee3",
   "metadata": {},
   "outputs": [],
   "source": [
    "performance_df1"
   ]
  },
  {
   "cell_type": "markdown",
   "id": "34737b5e",
   "metadata": {},
   "source": [
    "## Run best model on clean usefulnessCount"
   ]
  },
  {
   "cell_type": "code",
   "execution_count": null,
   "id": "d46640a8",
   "metadata": {},
   "outputs": [],
   "source": []
  }
 ],
 "metadata": {
  "kernelspec": {
   "display_name": "Python 3 (ipykernel)",
   "language": "python",
   "name": "python3"
  },
  "language_info": {
   "codemirror_mode": {
    "name": "ipython",
    "version": 3
   },
   "file_extension": ".py",
   "mimetype": "text/x-python",
   "name": "python",
   "nbconvert_exporter": "python",
   "pygments_lexer": "ipython3",
   "version": "3.9.7"
  },
  "toc": {
   "base_numbering": 1,
   "nav_menu": {},
   "number_sections": true,
   "sideBar": true,
   "skip_h1_title": false,
   "title_cell": "Table of Contents",
   "title_sidebar": "Contents",
   "toc_cell": false,
   "toc_position": {
    "height": "calc(100% - 180px)",
    "left": "10px",
    "top": "150px",
    "width": "328px"
   },
   "toc_section_display": true,
   "toc_window_display": true
  }
 },
 "nbformat": 4,
 "nbformat_minor": 5
}
