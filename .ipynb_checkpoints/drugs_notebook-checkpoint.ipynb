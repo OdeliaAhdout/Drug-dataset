{
 "cells": [
  {
   "cell_type": "markdown",
   "id": "36eab589",
   "metadata": {},
   "source": [
    "# Drug dataset - Sentiment Analysis "
   ]
  },
  {
   "cell_type": "code",
   "execution_count": 1,
   "id": "1d34f6d7",
   "metadata": {},
   "outputs": [],
   "source": [
    "import numpy as np\n",
    "import pandas as pd\n",
    "from bs4 import BeautifulSoup\n",
    "import matplotlib.pyplot as plt\n",
    "import seaborn as sns\n",
    "import re\n",
    "import nltk\n",
    "from sklearn.model_selection import train_test_split\n",
    "#from textblob import TextBlob\n",
    "from nltk.corpus import stopwords\n",
    "from collections import Counter\n",
    "import warnings; warnings.simplefilter('ignore')\n",
    "import nltk\n",
    "import string\n",
    "from nltk import ngrams\n",
    "from nltk.tokenize import word_tokenize \n",
    "from nltk.stem import SnowballStemmer"
   ]
  },
  {
   "cell_type": "code",
   "execution_count": 2,
   "id": "b7cfe149",
   "metadata": {},
   "outputs": [],
   "source": [
    "df_train = pd.read_csv(\"data/drugsComTrain_raw.tsv\", sep='\\t', encoding=\"UTF-8\")\n",
    "df_test = pd.read_csv(\"data/drugsComTest_raw.tsv\", sep='\\t', encoding=\"UTF-8\")"
   ]
  },
  {
   "cell_type": "markdown",
   "id": "fea727c9",
   "metadata": {},
   "source": [
    "## Preliminary data exploration"
   ]
  },
  {
   "cell_type": "code",
   "execution_count": 3,
   "id": "df4457e0",
   "metadata": {},
   "outputs": [],
   "source": [
    "df_train['length'] = list(map(lambda x: len(str(x).split()), df_train['review']))\n",
    "df_test['length'] = list(map(lambda x: len(str(x).split()), df_test['review']))"
   ]
  },
  {
   "cell_type": "code",
   "execution_count": 4,
   "id": "c09f1a92",
   "metadata": {},
   "outputs": [],
   "source": [
    "# Merge train and test sets"
   ]
  },
  {
   "cell_type": "code",
   "execution_count": 5,
   "id": "84d82170",
   "metadata": {},
   "outputs": [],
   "source": [
    "df = pd.concat([df_train, df_test])"
   ]
  },
  {
   "cell_type": "code",
   "execution_count": 6,
   "id": "86955c09",
   "metadata": {},
   "outputs": [],
   "source": [
    "#df.to_excel(\"drugs_df.xlsx\")"
   ]
  },
  {
   "cell_type": "code",
   "execution_count": 7,
   "id": "6612c743",
   "metadata": {},
   "outputs": [
    {
     "data": {
      "text/plain": [
       "Levonorgestrel                       4930\n",
       "Etonogestrel                         4421\n",
       "Ethinyl estradiol / norethindrone    3753\n",
       "Nexplanon                            2892\n",
       "Ethinyl estradiol / norgestimate     2790\n",
       "                                     ... \n",
       "Melpaque HP                             1\n",
       "Cortisone                               1\n",
       "Reyataz                                 1\n",
       "Striant                                 1\n",
       "Allergy DN PE                           1\n",
       "Name: drugName, Length: 3671, dtype: int64"
      ]
     },
     "execution_count": 7,
     "metadata": {},
     "output_type": "execute_result"
    }
   ],
   "source": [
    "df.drugName.value_counts()"
   ]
  },
  {
   "cell_type": "code",
   "execution_count": 8,
   "id": "1f13f6d2",
   "metadata": {},
   "outputs": [
    {
     "data": {
      "text/plain": [
       "Birth Control                                   38436\n",
       "Depression                                      12164\n",
       "Pain                                             8245\n",
       "Anxiety                                          7812\n",
       "Acne                                             7435\n",
       "                                                ...  \n",
       "Systemic Candidiasis                                1\n",
       "Wilson's Disease                                    1\n",
       "unctional Gastric Disorde                           1\n",
       "Sepsis                                              1\n",
       "105</span> users found this comment helpful.        1\n",
       "Name: condition, Length: 916, dtype: int64"
      ]
     },
     "execution_count": 8,
     "metadata": {},
     "output_type": "execute_result"
    }
   ],
   "source": [
    "df.condition.value_counts()"
   ]
  },
  {
   "cell_type": "code",
   "execution_count": 9,
   "id": "0bbf7c41",
   "metadata": {},
   "outputs": [
    {
     "data": {
      "text/html": [
       "<div>\n",
       "<style scoped>\n",
       "    .dataframe tbody tr th:only-of-type {\n",
       "        vertical-align: middle;\n",
       "    }\n",
       "\n",
       "    .dataframe tbody tr th {\n",
       "        vertical-align: top;\n",
       "    }\n",
       "\n",
       "    .dataframe thead th {\n",
       "        text-align: right;\n",
       "    }\n",
       "</style>\n",
       "<table border=\"1\" class=\"dataframe\">\n",
       "  <thead>\n",
       "    <tr style=\"text-align: right;\">\n",
       "      <th></th>\n",
       "      <th>Unnamed: 0</th>\n",
       "      <th>rating</th>\n",
       "      <th>usefulCount</th>\n",
       "      <th>length</th>\n",
       "    </tr>\n",
       "  </thead>\n",
       "  <tbody>\n",
       "    <tr>\n",
       "      <th>count</th>\n",
       "      <td>215063.000000</td>\n",
       "      <td>215063.000000</td>\n",
       "      <td>215063.000000</td>\n",
       "      <td>215063.000000</td>\n",
       "    </tr>\n",
       "    <tr>\n",
       "      <th>mean</th>\n",
       "      <td>116039.364814</td>\n",
       "      <td>6.990008</td>\n",
       "      <td>28.001004</td>\n",
       "      <td>84.682228</td>\n",
       "    </tr>\n",
       "    <tr>\n",
       "      <th>std</th>\n",
       "      <td>67007.913366</td>\n",
       "      <td>3.275554</td>\n",
       "      <td>36.346069</td>\n",
       "      <td>44.852532</td>\n",
       "    </tr>\n",
       "    <tr>\n",
       "      <th>min</th>\n",
       "      <td>0.000000</td>\n",
       "      <td>1.000000</td>\n",
       "      <td>0.000000</td>\n",
       "      <td>1.000000</td>\n",
       "    </tr>\n",
       "    <tr>\n",
       "      <th>25%</th>\n",
       "      <td>58115.500000</td>\n",
       "      <td>5.000000</td>\n",
       "      <td>6.000000</td>\n",
       "      <td>48.000000</td>\n",
       "    </tr>\n",
       "    <tr>\n",
       "      <th>50%</th>\n",
       "      <td>115867.000000</td>\n",
       "      <td>8.000000</td>\n",
       "      <td>16.000000</td>\n",
       "      <td>84.000000</td>\n",
       "    </tr>\n",
       "    <tr>\n",
       "      <th>75%</th>\n",
       "      <td>173963.500000</td>\n",
       "      <td>10.000000</td>\n",
       "      <td>36.000000</td>\n",
       "      <td>126.000000</td>\n",
       "    </tr>\n",
       "    <tr>\n",
       "      <th>max</th>\n",
       "      <td>232291.000000</td>\n",
       "      <td>10.000000</td>\n",
       "      <td>1291.000000</td>\n",
       "      <td>1894.000000</td>\n",
       "    </tr>\n",
       "  </tbody>\n",
       "</table>\n",
       "</div>"
      ],
      "text/plain": [
       "          Unnamed: 0         rating    usefulCount         length\n",
       "count  215063.000000  215063.000000  215063.000000  215063.000000\n",
       "mean   116039.364814       6.990008      28.001004      84.682228\n",
       "std     67007.913366       3.275554      36.346069      44.852532\n",
       "min         0.000000       1.000000       0.000000       1.000000\n",
       "25%     58115.500000       5.000000       6.000000      48.000000\n",
       "50%    115867.000000       8.000000      16.000000      84.000000\n",
       "75%    173963.500000      10.000000      36.000000     126.000000\n",
       "max    232291.000000      10.000000    1291.000000    1894.000000"
      ]
     },
     "execution_count": 9,
     "metadata": {},
     "output_type": "execute_result"
    }
   ],
   "source": [
    "df.describe()"
   ]
  },
  {
   "cell_type": "code",
   "execution_count": 10,
   "id": "55c70740",
   "metadata": {},
   "outputs": [],
   "source": [
    "df.drop_duplicates(inplace=True)"
   ]
  },
  {
   "cell_type": "code",
   "execution_count": 11,
   "id": "6f24d724",
   "metadata": {
    "scrolled": true
   },
   "outputs": [],
   "source": [
    "# Convert rating from float to int\n",
    "\n",
    "df.rating = df.rating.astype(int)"
   ]
  },
  {
   "cell_type": "code",
   "execution_count": 12,
   "id": "ed4de1d6",
   "metadata": {},
   "outputs": [
    {
     "name": "stdout",
     "output_type": "stream",
     "text": [
      "<class 'pandas.core.frame.DataFrame'>\n",
      "Int64Index: 215063 entries, 0 to 53765\n",
      "Data columns (total 8 columns):\n",
      " #   Column       Non-Null Count   Dtype \n",
      "---  ------       --------------   ----- \n",
      " 0   Unnamed: 0   215063 non-null  int64 \n",
      " 1   drugName     215063 non-null  object\n",
      " 2   condition    213869 non-null  object\n",
      " 3   review       215063 non-null  object\n",
      " 4   rating       215063 non-null  int64 \n",
      " 5   date         215063 non-null  object\n",
      " 6   usefulCount  215063 non-null  int64 \n",
      " 7   length       215063 non-null  int64 \n",
      "dtypes: int64(4), object(4)\n",
      "memory usage: 14.8+ MB\n"
     ]
    }
   ],
   "source": [
    "df.info()"
   ]
  },
  {
   "cell_type": "code",
   "execution_count": 13,
   "id": "12bdc6da",
   "metadata": {},
   "outputs": [
    {
     "data": {
      "text/plain": [
       "Unnamed: 0     False\n",
       "drugName       False\n",
       "condition       True\n",
       "review         False\n",
       "rating         False\n",
       "date           False\n",
       "usefulCount    False\n",
       "length         False\n",
       "dtype: bool"
      ]
     },
     "execution_count": 13,
     "metadata": {},
     "output_type": "execute_result"
    }
   ],
   "source": [
    "df.isnull().any()"
   ]
  },
  {
   "cell_type": "code",
   "execution_count": 14,
   "id": "ab2befbb",
   "metadata": {},
   "outputs": [
    {
     "data": {
      "text/plain": [
       "1194"
      ]
     },
     "execution_count": 14,
     "metadata": {},
     "output_type": "execute_result"
    }
   ],
   "source": [
    "sum(df.condition.isnull())"
   ]
  },
  {
   "cell_type": "code",
   "execution_count": 15,
   "id": "fbd20ab7",
   "metadata": {},
   "outputs": [
    {
     "data": {
      "text/plain": [
       "<AxesSubplot:xlabel='rating', ylabel='count'>"
      ]
     },
     "execution_count": 15,
     "metadata": {},
     "output_type": "execute_result"
    },
    {
     "data": {
      "image/png": "[encoded data removed]",
      "text/plain": [
       "<Figure size 432x288 with 1 Axes>"
      ]
     },
     "metadata": {
      "needs_background": "light"
     },
     "output_type": "display_data"
    }
   ],
   "source": [
    "sns.countplot(df['rating'])"
   ]
  },
  {
   "cell_type": "code",
   "execution_count": 16,
   "id": "ae0c817e",
   "metadata": {},
   "outputs": [
    {
     "data": {
      "text/plain": [
       "<AxesSubplot:xlabel='usefulCount', ylabel='count'>"
      ]
     },
     "execution_count": 16,
     "metadata": {},
     "output_type": "execute_result"
    },
    {
     "data": {
      "image/png": "[encoded data removed]",
      "text/plain": [
       "<Figure size 432x288 with 1 Axes>"
      ]
     },
     "metadata": {
      "needs_background": "light"
     },
     "output_type": "display_data"
    }
   ],
   "source": [
    "sns.countplot(df['usefulCount'])"
   ]
  },
  {
   "cell_type": "code",
   "execution_count": 17,
   "id": "b79e517a",
   "metadata": {},
   "outputs": [
    {
     "data": {
      "text/plain": [
       "<AxesSubplot:xlabel='usefulCount'>"
      ]
     },
     "execution_count": 17,
     "metadata": {},
     "output_type": "execute_result"
    },
    {
     "data": {
      "image/png": "[encoded data removed]",
      "text/plain": [
       "<Figure size 432x288 with 1 Axes>"
      ]
     },
     "metadata": {
      "needs_background": "light"
     },
     "output_type": "display_data"
    }
   ],
   "source": [
    "sns.boxplot(x=df['usefulCount'])"
   ]
  },
  {
   "cell_type": "code",
   "execution_count": 18,
   "id": "db9b7404",
   "metadata": {},
   "outputs": [
    {
     "data": {
      "text/plain": [
       "count    215063.000000\n",
       "mean         28.001004\n",
       "std          36.346069\n",
       "min           0.000000\n",
       "25%           6.000000\n",
       "50%          16.000000\n",
       "75%          36.000000\n",
       "max        1291.000000\n",
       "Name: usefulCount, dtype: float64"
      ]
     },
     "execution_count": 18,
     "metadata": {},
     "output_type": "execute_result"
    }
   ],
   "source": [
    "df['usefulCount'].describe()"
   ]
  },
  {
   "cell_type": "code",
   "execution_count": 23,
   "id": "184249a1",
   "metadata": {},
   "outputs": [
    {
     "data": {
      "text/plain": [
       "8402"
      ]
     },
     "execution_count": 23,
     "metadata": {},
     "output_type": "execute_result"
    }
   ],
   "source": [
    "df.loc[df['usefulCount'] == 0, 'usefulCount'].count()"
   ]
  },
  {
   "cell_type": "code",
   "execution_count": 24,
   "id": "b121177c",
   "metadata": {},
   "outputs": [
    {
     "data": {
      "text/plain": [
       "2      8543\n",
       "3      8525\n",
       "0      8402\n",
       "4      8301\n",
       "1      8237\n",
       "       ... \n",
       "309       1\n",
       "337       1\n",
       "400       1\n",
       "372       1\n",
       "288       1\n",
       "Name: usefulCount, Length: 397, dtype: int64"
      ]
     },
     "execution_count": 24,
     "metadata": {},
     "output_type": "execute_result"
    }
   ],
   "source": [
    "df.usefulCount.value_counts()\n",
    "                    "
   ]
  },
  {
   "cell_type": "code",
   "execution_count": null,
   "id": "56bd518f",
   "metadata": {},
   "outputs": [],
   "source": [
    "# data is skewed, imalanced towards positive ratings"
   ]
  },
  {
   "cell_type": "code",
   "execution_count": null,
   "id": "6c1b0e4b",
   "metadata": {},
   "outputs": [],
   "source": [
    "df.rating.value_counts(normalize=True)"
   ]
  },
  {
   "cell_type": "code",
   "execution_count": null,
   "id": "cac10ebe",
   "metadata": {},
   "outputs": [],
   "source": [
    "# General trends in the data"
   ]
  },
  {
   "cell_type": "code",
   "execution_count": null,
   "id": "ad5a1af9",
   "metadata": {},
   "outputs": [],
   "source": [
    "cond = dict(df['condition'].value_counts())\n",
    "top_condition = list(cond.keys())[0:10]\n",
    "values = list(cond.values())[0:10]\n",
    "sns.set(style = 'darkgrid', font_scale = 1.3)\n",
    "plt.rcParams['figure.figsize'] = [17, 7]\n",
    "\n",
    "sns_ = sns.barplot(x = top_condition, y = values, palette = 'winter')\n",
    "sns_.set_title(\"Top 10 conditions\")\n",
    "sns_.set_xlabel(\"Conditions\")\n",
    "sns_.set_ylabel(\"Count\");"
   ]
  },
  {
   "cell_type": "code",
   "execution_count": null,
   "id": "bfa3bdf1",
   "metadata": {},
   "outputs": [],
   "source": [
    "sns.set(font_scale = 1.2, style = 'darkgrid')\n",
    "plt.rcParams['figure.figsize'] = [10, 8]\n",
    "\n",
    "rating = dict(df.loc[df.rating == 10, \"drugName\"].value_counts())\n",
    "drugname = list(rating.keys())\n",
    "drug_rating = list(rating.values())\n",
    "\n",
    "sns_rating = sns.barplot(x = drugname[0:20], y = drug_rating[0:20])\n",
    "\n",
    "sns_rating.set_title('Top 20 drugs with 10/10 rating')\n",
    "sns_rating.set_ylabel(\"Number of Ratings\")\n",
    "sns_rating.set_xlabel(\"Drug Names\")\n",
    "plt.setp(sns_rating.get_xticklabels(), rotation=90);"
   ]
  },
  {
   "cell_type": "code",
   "execution_count": null,
   "id": "abd7e6ba",
   "metadata": {},
   "outputs": [],
   "source": [
    "sns.set(font_scale = 1.2, style = 'darkgrid')\n",
    "plt.rcParams['figure.figsize'] = [10, 8]\n",
    "\n",
    "rating = dict(df.loc[df.rating == 1, \"drugName\"].value_counts())\n",
    "drugname = list(rating.keys())\n",
    "drug_rating = list(rating.values())\n",
    "\n",
    "sns_rating = sns.barplot(x = drugname[0:20], y = drug_rating[0:20], palette = 'winter')\n",
    "\n",
    "sns_rating.set_title('Top 20 drugs with 1/10 rating')\n",
    "sns_rating.set_ylabel(\"Number of Ratings\")\n",
    "sns_rating.set_xlabel(\"Drug Names\")\n",
    "plt.setp(sns_rating.get_xticklabels(), rotation=90);"
   ]
  },
  {
   "cell_type": "markdown",
   "id": "5d25a87f",
   "metadata": {},
   "source": [
    "## Data Cleaning"
   ]
  },
  {
   "cell_type": "markdown",
   "id": "caea6071",
   "metadata": {},
   "source": [
    "### Clean 'condition' column"
   ]
  },
  {
   "cell_type": "code",
   "execution_count": null,
   "id": "44bb4b33",
   "metadata": {},
   "outputs": [],
   "source": [
    "#\n",
    "df[\"condition_clean\"] = df.condition.apply(lambda x: \"unknown\" if str(x).__contains__(\"users found this comment helpful.\") else x)"
   ]
  },
  {
   "cell_type": "code",
   "execution_count": null,
   "id": "331f2c43",
   "metadata": {},
   "outputs": [],
   "source": [
    "df.loc[df[\"condition_clean\"] == \"unknown\", \"condition_clean\"].count() "
   ]
  },
  {
   "cell_type": "code",
   "execution_count": null,
   "id": "1b06d2f1",
   "metadata": {},
   "outputs": [],
   "source": [
    "df[\"condition_clean\"].apply(lambda x: str(x).lower()).nunique()"
   ]
  },
  {
   "cell_type": "code",
   "execution_count": null,
   "id": "87fe9430",
   "metadata": {},
   "outputs": [],
   "source": [
    "df.condition_clean.unique()"
   ]
  },
  {
   "cell_type": "code",
   "execution_count": null,
   "id": "8de95062",
   "metadata": {},
   "outputs": [],
   "source": [
    "df[\"condition_clean\"].nunique()"
   ]
  },
  {
   "cell_type": "code",
   "execution_count": null,
   "id": "f5d341d0",
   "metadata": {},
   "outputs": [],
   "source": [
    "#df = df.dropna()\n",
    "df\n",
    "# -1194 records\n",
    "df.condition.fillna(\"unknown\", axis=0, inplace=True)"
   ]
  },
  {
   "cell_type": "markdown",
   "id": "8ae9bc2f",
   "metadata": {},
   "source": [
    "### Clean reviews"
   ]
  },
  {
   "cell_type": "code",
   "execution_count": null,
   "id": "c9d319f3",
   "metadata": {},
   "outputs": [],
   "source": [
    "df.drop([\"Unnamed: 0\",\"date\", \"condition\"], axis=1, inplace=True)"
   ]
  },
  {
   "cell_type": "code",
   "execution_count": null,
   "id": "64bdb7c0",
   "metadata": {},
   "outputs": [],
   "source": [
    "df[\"review\"] = df.review.str.replace(\"&#039;\", \"\")\n",
    "#df"
   ]
  },
  {
   "cell_type": "code",
   "execution_count": null,
   "id": "a3e58aa4",
   "metadata": {},
   "outputs": [],
   "source": [
    "#lower casing\n",
    "df.review = df.review.str.lower()\n",
    "\n",
    "# Removing special Characters\n",
    "#df.review = df.review.str.replace(r'[^\\w\\d\\s]',' ')\n",
    "\n",
    "# Removing all the non ASCII characters\n",
    "df.review = df.review.str.replace(r'[^\\x00-\\x7F]+',' ')\n",
    "\n",
    "# Removing the leading and trailing Whitespaces\n",
    "#df.review = df.review.str.replace(r'^\\s+|\\s+?$','')\n",
    "    \n",
    "# Replacing multiple Spaces with Single Space\n",
    "df.review = df.review.str.replace(r'\\s+',' ')\n",
    "    \n",
    "# Replacing Two or more dots with one\n",
    "df.review = df.review.str.replace(r'\\.{2,}', ' ')"
   ]
  },
  {
   "cell_type": "code",
   "execution_count": null,
   "id": "9b0a3fae",
   "metadata": {},
   "outputs": [],
   "source": [
    "df"
   ]
  },
  {
   "cell_type": "markdown",
   "id": "6e56c667",
   "metadata": {},
   "source": [
    "### Feature engineering: 'rating'"
   ]
  },
  {
   "cell_type": "code",
   "execution_count": 20,
   "id": "72cc97f1",
   "metadata": {},
   "outputs": [
    {
     "data": {
      "text/html": [
       "<div>\n",
       "<style scoped>\n",
       "    .dataframe tbody tr th:only-of-type {\n",
       "        vertical-align: middle;\n",
       "    }\n",
       "\n",
       "    .dataframe tbody tr th {\n",
       "        vertical-align: top;\n",
       "    }\n",
       "\n",
       "    .dataframe thead th {\n",
       "        text-align: right;\n",
       "    }\n",
       "</style>\n",
       "<table border=\"1\" class=\"dataframe\">\n",
       "  <thead>\n",
       "    <tr style=\"text-align: right;\">\n",
       "      <th></th>\n",
       "      <th>Unnamed: 0</th>\n",
       "      <th>drugName</th>\n",
       "      <th>condition</th>\n",
       "      <th>review</th>\n",
       "      <th>rating</th>\n",
       "      <th>date</th>\n",
       "      <th>usefulCount</th>\n",
       "      <th>length</th>\n",
       "    </tr>\n",
       "  </thead>\n",
       "  <tbody>\n",
       "    <tr>\n",
       "      <th>0</th>\n",
       "      <td>206461</td>\n",
       "      <td>Valsartan</td>\n",
       "      <td>Left Ventricular Dysfunction</td>\n",
       "      <td>\"It has no side effect, I take it in combinati...</td>\n",
       "      <td>1</td>\n",
       "      <td>May 20, 2012</td>\n",
       "      <td>27</td>\n",
       "      <td>17</td>\n",
       "    </tr>\n",
       "    <tr>\n",
       "      <th>1</th>\n",
       "      <td>95260</td>\n",
       "      <td>Guanfacine</td>\n",
       "      <td>ADHD</td>\n",
       "      <td>\"My son is halfway through his fourth week of ...</td>\n",
       "      <td>1</td>\n",
       "      <td>April 27, 2010</td>\n",
       "      <td>192</td>\n",
       "      <td>141</td>\n",
       "    </tr>\n",
       "    <tr>\n",
       "      <th>2</th>\n",
       "      <td>92703</td>\n",
       "      <td>Lybrel</td>\n",
       "      <td>Birth Control</td>\n",
       "      <td>\"I used to take another oral contraceptive, wh...</td>\n",
       "      <td>0</td>\n",
       "      <td>December 14, 2009</td>\n",
       "      <td>17</td>\n",
       "      <td>134</td>\n",
       "    </tr>\n",
       "    <tr>\n",
       "      <th>3</th>\n",
       "      <td>138000</td>\n",
       "      <td>Ortho Evra</td>\n",
       "      <td>Birth Control</td>\n",
       "      <td>\"This is my first time using any form of birth...</td>\n",
       "      <td>1</td>\n",
       "      <td>November 3, 2015</td>\n",
       "      <td>10</td>\n",
       "      <td>89</td>\n",
       "    </tr>\n",
       "    <tr>\n",
       "      <th>4</th>\n",
       "      <td>35696</td>\n",
       "      <td>Buprenorphine / naloxone</td>\n",
       "      <td>Opiate Dependence</td>\n",
       "      <td>\"Suboxone has completely turned my life around...</td>\n",
       "      <td>1</td>\n",
       "      <td>November 27, 2016</td>\n",
       "      <td>37</td>\n",
       "      <td>124</td>\n",
       "    </tr>\n",
       "    <tr>\n",
       "      <th>...</th>\n",
       "      <td>...</td>\n",
       "      <td>...</td>\n",
       "      <td>...</td>\n",
       "      <td>...</td>\n",
       "      <td>...</td>\n",
       "      <td>...</td>\n",
       "      <td>...</td>\n",
       "      <td>...</td>\n",
       "    </tr>\n",
       "    <tr>\n",
       "      <th>53761</th>\n",
       "      <td>159999</td>\n",
       "      <td>Tamoxifen</td>\n",
       "      <td>Breast Cancer, Prevention</td>\n",
       "      <td>\"I have taken Tamoxifen for 5 years. Side effe...</td>\n",
       "      <td>1</td>\n",
       "      <td>September 13, 2014</td>\n",
       "      <td>43</td>\n",
       "      <td>97</td>\n",
       "    </tr>\n",
       "    <tr>\n",
       "      <th>53762</th>\n",
       "      <td>140714</td>\n",
       "      <td>Escitalopram</td>\n",
       "      <td>Anxiety</td>\n",
       "      <td>\"I&amp;#039;ve been taking Lexapro (escitaploprgra...</td>\n",
       "      <td>1</td>\n",
       "      <td>October 8, 2016</td>\n",
       "      <td>11</td>\n",
       "      <td>130</td>\n",
       "    </tr>\n",
       "    <tr>\n",
       "      <th>53763</th>\n",
       "      <td>130945</td>\n",
       "      <td>Levonorgestrel</td>\n",
       "      <td>Birth Control</td>\n",
       "      <td>\"I&amp;#039;m married, 34 years old and I have no ...</td>\n",
       "      <td>1</td>\n",
       "      <td>November 15, 2010</td>\n",
       "      <td>7</td>\n",
       "      <td>149</td>\n",
       "    </tr>\n",
       "    <tr>\n",
       "      <th>53764</th>\n",
       "      <td>47656</td>\n",
       "      <td>Tapentadol</td>\n",
       "      <td>Pain</td>\n",
       "      <td>\"I was prescribed Nucynta for severe neck/shou...</td>\n",
       "      <td>0</td>\n",
       "      <td>November 28, 2011</td>\n",
       "      <td>20</td>\n",
       "      <td>34</td>\n",
       "    </tr>\n",
       "    <tr>\n",
       "      <th>53765</th>\n",
       "      <td>113712</td>\n",
       "      <td>Arthrotec</td>\n",
       "      <td>Sciatica</td>\n",
       "      <td>\"It works!!!\"</td>\n",
       "      <td>1</td>\n",
       "      <td>September 13, 2009</td>\n",
       "      <td>46</td>\n",
       "      <td>2</td>\n",
       "    </tr>\n",
       "  </tbody>\n",
       "</table>\n",
       "<p>215063 rows × 8 columns</p>\n",
       "</div>"
      ],
      "text/plain": [
       "       Unnamed: 0                  drugName                     condition  \\\n",
       "0          206461                 Valsartan  Left Ventricular Dysfunction   \n",
       "1           95260                Guanfacine                          ADHD   \n",
       "2           92703                    Lybrel                 Birth Control   \n",
       "3          138000                Ortho Evra                 Birth Control   \n",
       "4           35696  Buprenorphine / naloxone             Opiate Dependence   \n",
       "...           ...                       ...                           ...   \n",
       "53761      159999                 Tamoxifen     Breast Cancer, Prevention   \n",
       "53762      140714              Escitalopram                       Anxiety   \n",
       "53763      130945            Levonorgestrel                 Birth Control   \n",
       "53764       47656                Tapentadol                          Pain   \n",
       "53765      113712                 Arthrotec                      Sciatica   \n",
       "\n",
       "                                                  review  rating  \\\n",
       "0      \"It has no side effect, I take it in combinati...       1   \n",
       "1      \"My son is halfway through his fourth week of ...       1   \n",
       "2      \"I used to take another oral contraceptive, wh...       0   \n",
       "3      \"This is my first time using any form of birth...       1   \n",
       "4      \"Suboxone has completely turned my life around...       1   \n",
       "...                                                  ...     ...   \n",
       "53761  \"I have taken Tamoxifen for 5 years. Side effe...       1   \n",
       "53762  \"I&#039;ve been taking Lexapro (escitaploprgra...       1   \n",
       "53763  \"I&#039;m married, 34 years old and I have no ...       1   \n",
       "53764  \"I was prescribed Nucynta for severe neck/shou...       0   \n",
       "53765                                      \"It works!!!\"       1   \n",
       "\n",
       "                     date  usefulCount  length  \n",
       "0            May 20, 2012           27      17  \n",
       "1          April 27, 2010          192     141  \n",
       "2       December 14, 2009           17     134  \n",
       "3        November 3, 2015           10      89  \n",
       "4       November 27, 2016           37     124  \n",
       "...                   ...          ...     ...  \n",
       "53761  September 13, 2014           43      97  \n",
       "53762     October 8, 2016           11     130  \n",
       "53763   November 15, 2010            7     149  \n",
       "53764   November 28, 2011           20      34  \n",
       "53765  September 13, 2009           46       2  \n",
       "\n",
       "[215063 rows x 8 columns]"
      ]
     },
     "execution_count": 20,
     "metadata": {},
     "output_type": "execute_result"
    }
   ],
   "source": [
    "df['rating'] = df.rating.apply(lambda x: 0 if x <= 6 else 1)\n",
    "df"
   ]
  },
  {
   "cell_type": "code",
   "execution_count": null,
   "id": "07c86f5f",
   "metadata": {},
   "outputs": [],
   "source": [
    "column_names = [\"drugName\", \"condition_clean\", \"review\", \"usefulCount\", \"length\", \"rating\"]\n",
    "df = df.reindex(columns=column_names)\n",
    "df"
   ]
  },
  {
   "cell_type": "markdown",
   "id": "974e3d53",
   "metadata": {},
   "source": [
    "## Creating the Corpus"
   ]
  },
  {
   "cell_type": "code",
   "execution_count": null,
   "id": "65733b80",
   "metadata": {},
   "outputs": [],
   "source": [
    "reviews = ['']\n",
    "corpus=[]\n",
    "for review in df['review']:\n",
    "    reviews.append(review)\n",
    "    corpus.append(nltk.sent_tokenize(review))\n",
    "corpus"
   ]
  },
  {
   "cell_type": "code",
   "execution_count": null,
   "id": "ac20d260",
   "metadata": {},
   "outputs": [],
   "source": [
    "len(corpus)"
   ]
  },
  {
   "cell_type": "code",
   "execution_count": null,
   "id": "4158d2e8",
   "metadata": {},
   "outputs": [],
   "source": [
    "corpus=[sent for sublist in corpus for sent in sublist]\n",
    "corpus"
   ]
  },
  {
   "cell_type": "code",
   "execution_count": null,
   "id": "9795ef75",
   "metadata": {},
   "outputs": [],
   "source": [
    "len(corpus)"
   ]
  },
  {
   "cell_type": "code",
   "execution_count": null,
   "id": "030aefb1",
   "metadata": {},
   "outputs": [],
   "source": [
    "for i in range(len(corpus)):\n",
    "    corpus[i] = re.sub(r'\\d+','', corpus[i]) # Replace one or more digits by  ' '\n",
    "    corpus[i] = re.sub(r\"\\s*'\\s*\\w*\",\" \", corpus[i])\n",
    "    corpus[i] = re.sub(r'\\W+',' ',corpus[i]) # Replace everything non-alpahnumeric by ' '\n",
    "    corpus[i] = re.sub(r'\\s+',' ', corpus[i]) # Replace one or more whitespaces by  ' '    \n",
    "    corpus[i] = re.sub(r'^\\s+|\\s+?$','', corpus[i])\n",
    "corpus"
   ]
  },
  {
   "cell_type": "code",
   "execution_count": null,
   "id": "341faf85",
   "metadata": {},
   "outputs": [],
   "source": [
    "# Tokenizing the corpus"
   ]
  },
  {
   "cell_type": "code",
   "execution_count": null,
   "id": "c732228f",
   "metadata": {},
   "outputs": [],
   "source": [
    "wordfreq = {}\n",
    "for sentence in corpus:\n",
    "    words = sentence.split()\n",
    "    #tokens = nltk.word_tokenize(sentence) # To get the words, it can be also done with sentence.split()\n",
    "    for word in words:\n",
    "        if ( word not in wordfreq.keys() ): ## first time appearnce in the sentence\n",
    "            wordfreq[word] = 1 # We initialize the corresponding counter\n",
    "        else: ## if the world is already existed in the dictionalry \n",
    "            wordfreq[word] += 1 # We increase the corresponding counter"
   ]
  },
  {
   "cell_type": "code",
   "execution_count": null,
   "id": "044951ae",
   "metadata": {},
   "outputs": [],
   "source": [
    "len(list(wordfreq.keys()))"
   ]
  },
  {
   "cell_type": "code",
   "execution_count": null,
   "id": "90a0a57c",
   "metadata": {},
   "outputs": [],
   "source": [
    "wordfreq"
   ]
  },
  {
   "cell_type": "markdown",
   "id": "6ad72be9",
   "metadata": {},
   "source": [
    "### Reducing the corpus"
   ]
  },
  {
   "cell_type": "markdown",
   "id": "981106d0",
   "metadata": {},
   "source": [
    "#### Stopwords"
   ]
  },
  {
   "cell_type": "code",
   "execution_count": null,
   "id": "31dca52b",
   "metadata": {},
   "outputs": [],
   "source": [
    "# How to add or exclude words?\n",
    "\n",
    "from nltk.corpus import stopwords\n",
    "\n",
    "stop_words = list(stopwords.words('english')) \n",
    "stop_words"
   ]
  },
  {
   "cell_type": "code",
   "execution_count": null,
   "id": "1b1327d3",
   "metadata": {},
   "outputs": [],
   "source": [
    "for i in range(len(stop_words)):\n",
    "    stop_words[i] = re.sub(r\"\\s*'\\s*\\w*\",\"\",stop_words[i])\n",
    "stop_words"
   ]
  },
  {
   "cell_type": "code",
   "execution_count": null,
   "id": "b168067b",
   "metadata": {},
   "outputs": [],
   "source": [
    "stop_words.extend(['im', 'ive', 'it', 'mg'])"
   ]
  },
  {
   "cell_type": "code",
   "execution_count": null,
   "id": "958f0685",
   "metadata": {},
   "outputs": [],
   "source": [
    "corpus = [(wordfreq[key],key) for key in list(wordfreq.keys()) if key not in stop_words]\n",
    "corpus"
   ]
  },
  {
   "cell_type": "code",
   "execution_count": null,
   "id": "24a4eaba",
   "metadata": {},
   "outputs": [],
   "source": [
    "corpus.sort(reverse = True)\n",
    "\n",
    "# Here we keep only the 20 most frequent words but it can be changed to another bigger value\n",
    "corpus_freq = [(word[1],word[0]) for word in corpus[:31]] \n",
    "corpus_freq = corpus_freq[1:]\n",
    "corpus_freq\n"
   ]
  },
  {
   "cell_type": "code",
   "execution_count": null,
   "id": "a3d0871a",
   "metadata": {},
   "outputs": [],
   "source": [
    "from nltk.stem import WordNetLemmatizer\n",
    "nltk.download('omw-1.4')\n",
    "lem = WordNetLemmatizer()\n",
    "\n",
    "corpus_freq = [(lem.lemmatize(word[0]),word[1]) for word in corpus_freq]\n",
    "corpus_freq"
   ]
  },
  {
   "cell_type": "code",
   "execution_count": null,
   "id": "1e39ce4b",
   "metadata": {},
   "outputs": [],
   "source": [
    "# Updating the df"
   ]
  },
  {
   "cell_type": "code",
   "execution_count": null,
   "id": "800889ef",
   "metadata": {},
   "outputs": [],
   "source": [
    "cols = {word[0]: [] for word in corpus_freq}\n",
    "reviews = pd.DataFrame(cols)\n",
    "\n",
    "reviews"
   ]
  },
  {
   "cell_type": "code",
   "execution_count": null,
   "id": "8ab5c39a",
   "metadata": {},
   "outputs": [],
   "source": [
    "def review_inpector(sentence, stop_words, words):\n",
    "\n",
    "    import re\n",
    "\n",
    "    # Decompose the review in words -> tokens\n",
    "    tokens = nltk.word_tokenize(sentence)\n",
    "    # Cleanup the tokenp\n",
    "    for i in range(len(tokens)):\n",
    "        tokens[i] = tokens[i].lower()\n",
    "        tokens[i] = re.sub(r'\\W',' ',tokens[i]) # Replace everything non-alpahnumeric by ' '\n",
    "        tokens[i] = re.sub(r'\\s+','',tokens[i]) # Replace one or more whitespaces by  ' '\n",
    "        tokens[i] = re.sub(r'\\d+','',tokens[i]) # Replace one or more digits by  ' '\n",
    "        tokens[i] = lem.lemmatize(tokens[i])\n",
    "        \n",
    "    # Dropping tokens which are \"stopwords\" or empty\n",
    "    tokens = [ token for token in tokens if (token not in stop_words and token != '')]\n",
    "\n",
    "    # Initializing an empty dictionary of word frequencies for the corresponding review\n",
    "    col_freq = {col:0 for col in words}\n",
    "    \n",
    "    # Filling the dictionary with word frequencies in the review\n",
    "    for token in tokens:\n",
    "        if token in words:\n",
    "            col_freq[token] += 1\n",
    "\n",
    "    return col_freq"
   ]
  },
  {
   "cell_type": "code",
   "execution_count": null,
   "id": "7f8d4647",
   "metadata": {},
   "outputs": [],
   "source": [
    "my_list = list(map(review_inpector, df['review'], \n",
    "                    [stop_words]*df.shape[0], [list(cols.keys())]*df.shape[0] ) )\n",
    "\n",
    "my_list[:2]"
   ]
  },
  {
   "cell_type": "code",
   "execution_count": null,
   "id": "6e229a89",
   "metadata": {},
   "outputs": [],
   "source": [
    "reviews = pd.DataFrame(my_list)"
   ]
  },
  {
   "cell_type": "code",
   "execution_count": null,
   "id": "7f4a0c19",
   "metadata": {},
   "outputs": [],
   "source": [
    "reviews"
   ]
  },
  {
   "cell_type": "code",
   "execution_count": null,
   "id": "dfacf06b",
   "metadata": {},
   "outputs": [],
   "source": [
    "reviews['rating'] = df['rating'].reset_index(drop=True)\n",
    "reviews"
   ]
  },
  {
   "cell_type": "markdown",
   "id": "c58b69af",
   "metadata": {},
   "source": [
    "## Running the Models"
   ]
  },
  {
   "cell_type": "code",
   "execution_count": null,
   "id": "69f69bd7",
   "metadata": {},
   "outputs": [],
   "source": [
    "X = reviews.drop(columns='rating')\n",
    "y = reviews['rating']\n",
    "X\n",
    "y"
   ]
  },
  {
   "cell_type": "code",
   "execution_count": null,
   "id": "287885ec",
   "metadata": {},
   "outputs": [],
   "source": [
    "X_train, X_test, y_train, y_test = train_test_split(X, y, test_size=0.30, random_state=42)\n",
    "\n",
    "X_train = pd.DataFrame(X_train, columns=X.columns)\n",
    "X_test  = pd.DataFrame(X_test, columns=X.columns)\n",
    "\n",
    "y_train = pd.DataFrame(y_train, columns =['rating'])\n",
    "y_test  = pd.DataFrame(y_test, columns =['rating'])"
   ]
  },
  {
   "cell_type": "code",
   "execution_count": null,
   "id": "24b5b6c5",
   "metadata": {
    "scrolled": false
   },
   "outputs": [],
   "source": [
    "X_train\n",
    "y_train"
   ]
  },
  {
   "cell_type": "markdown",
   "id": "a6cbbd2f",
   "metadata": {},
   "source": [
    "### Calculating P of rating using Bayes "
   ]
  },
  {
   "cell_type": "markdown",
   "id": "f1539173",
   "metadata": {},
   "source": [
    "def bayes(df, rating, review): # rating = stars, review = X; P(R|X)\n",
    "    df2 = df.copy()\n",
    "    p_rating = len(df2[df2['rating'] == rating]) / len(df2)\n",
    "    m = ((df2.iloc[:,:-1] == review).apply(sum, axis=1)).tolist()\n",
    "    t = [index for index, value in enumerate(m) if value == 50]\n",
    "    p_review = len(t) / len(df2)\n",
    "    temp = df2[df2['rating'] == rating]\n",
    "    m = ((df2[df2['rating'] == rating].iloc[:,:-1] == review).apply(sum, axis=1)).tolist()\n",
    "    t = [index for index, value in enumerate(m) if value == 50]\n",
    "    p_rating_review = len(t) / len(temp)\n",
    "    p = ( p_rating * p_rating_review ) / p_review\n",
    "    return round(p,2)"
   ]
  },
  {
   "cell_type": "markdown",
   "id": "10ac60f5",
   "metadata": {},
   "source": [
    "Using a list comprehension to compute the probability of a given review to have a given rating\n",
    "prob = [bayes(reviews, i, reviews.iloc[0,:-1].tolist()) for i in ['0','1']]\n",
    "Normalizing the probabilities\n",
    "partition = np.sum(prob)\n",
    "#partition\n",
    "prob = [ ('Probability rating = ' + str(index+1),round(p/partition,2)) for index, p in enumerate(prob) ]\n",
    "prob   "
   ]
  },
  {
   "cell_type": "code",
   "execution_count": null,
   "id": "ffe39734",
   "metadata": {},
   "outputs": [],
   "source": [
    "#reviews.iloc[0,-1]"
   ]
  },
  {
   "cell_type": "code",
   "execution_count": null,
   "id": "ea988b47",
   "metadata": {},
   "outputs": [],
   "source": [
    "#y_train_res.shape"
   ]
  },
  {
   "cell_type": "code",
   "execution_count": null,
   "id": "2c9c3e71",
   "metadata": {},
   "outputs": [],
   "source": [
    "from sklearn.naive_bayes import CategoricalNB\n",
    "from sklearn.ensemble import RandomForestClassifier\n",
    "\n",
    "nb = CategoricalNB()\n",
    "rf = RandomForestClassifier()\n",
    "\n",
    "nb.fit(X_train_res, y_train_res['rating'])\n",
    "rf.fit(X_train_res, y_train_res['rating'])"
   ]
  },
  {
   "cell_type": "markdown",
   "id": "c084c1fd",
   "metadata": {},
   "source": [
    "### 2nd option?"
   ]
  },
  {
   "cell_type": "markdown",
   "id": "f75cd46d",
   "metadata": {},
   "source": [
    "Create a column with binary rating indicating the polarity of a review\n",
    "train['binary_rating'] = train['rating'] > 5\n",
    "\n",
    "y_train_rating = train.binary_rating\n",
    "clf = MultinomialNB().fit(X_train, y_train_rating)\n",
    "\n",
    "Evaluates model on test set\n",
    "test['binary_rating'] = test.rating > 5\n",
    "y_test_rating = test.binary_rating\n",
    "pred = clf.predict(X_test)\n",
    "\n",
    "print(\"Accuracy: %s\" % str(clf.score(X_test, y_test_rating)))\n",
    "print(\"Confusion Matrix\")\n",
    "print(confusion_matrix(pred, y_test_rating))"
   ]
  },
  {
   "cell_type": "markdown",
   "id": "2a14b9cd",
   "metadata": {},
   "source": [
    "#### Making predictions"
   ]
  },
  {
   "cell_type": "code",
   "execution_count": null,
   "id": "31cab33e",
   "metadata": {},
   "outputs": [],
   "source": [
    "y_train_res_pred_rf = rf.predict(X_train_res)\n",
    "y_test_pred_rf      = rf.predict(X_test)"
   ]
  },
  {
   "cell_type": "code",
   "execution_count": null,
   "id": "fb1f47e4",
   "metadata": {},
   "outputs": [],
   "source": [
    "def model_performance_class(y_train, y_pred_train, y_test, y_pred_test):\n",
    "\n",
    "    from sklearn.metrics import cohen_kappa_score, classification_report \n",
    "\n",
    "\n",
    "    print(\"Results obtained for the TRAIN SET\")\n",
    "    print(\"==================================\")\n",
    "    print(\"The Cohen's Kappa is: {:.2f}\".format(cohen_kappa_score(y_train, y_pred_train)))\n",
    "    print(classification_report(y_train, y_pred_train))\n",
    "    print(\"==================================\")\n",
    "    print(\"Results obtained for the TEST SET\")\n",
    "    print(\"The Cohen's Kappa is: {:.2f}\".format(cohen_kappa_score(y_test, y_pred_test)))\n",
    "    print(classification_report(y_test, y_pred_test))"
   ]
  },
  {
   "cell_type": "code",
   "execution_count": null,
   "id": "1e055700",
   "metadata": {},
   "outputs": [],
   "source": [
    "model_performance_class(y_train_res, y_train_res_pred_rf, y_test, y_test_pred_rf)"
   ]
  },
  {
   "cell_type": "markdown",
   "id": "a5af47bb",
   "metadata": {},
   "source": [
    "### TF-IDF (Term-Frequency Inverse Document-Frequency)"
   ]
  },
  {
   "cell_type": "code",
   "execution_count": null,
   "id": "87fc62cd",
   "metadata": {},
   "outputs": [],
   "source": [
    "from sklearn.feature_extraction.text import TfidfVectorizer\n",
    "\n",
    "tidf = TfidfVectorizer(max_features = 20000, ngram_range = (2,2), analyzer = 'word',\n",
    "                       stop_words = stop_words )"
   ]
  },
  {
   "cell_type": "code",
   "execution_count": null,
   "id": "12ca5c92",
   "metadata": {},
   "outputs": [],
   "source": [
    "X = tidf.fit_transform(reviews_cleaned['review'])\n",
    "y = reviews_cleaned['rating']"
   ]
  },
  {
   "cell_type": "code",
   "execution_count": null,
   "id": "68a49df6",
   "metadata": {},
   "outputs": [],
   "source": [
    "tidf.get_feature_names()"
   ]
  },
  {
   "cell_type": "code",
   "execution_count": null,
   "id": "f01eaedd",
   "metadata": {},
   "outputs": [],
   "source": [
    "len(tidf.get_feature_names())"
   ]
  },
  {
   "cell_type": "code",
   "execution_count": null,
   "id": "9f708d79",
   "metadata": {},
   "outputs": [],
   "source": [
    "X[:2,:5]"
   ]
  },
  {
   "cell_type": "markdown",
   "id": "673ebfdb",
   "metadata": {},
   "source": [
    "#### Train test split"
   ]
  },
  {
   "cell_type": "code",
   "execution_count": null,
   "id": "37898212",
   "metadata": {},
   "outputs": [],
   "source": [
    "X_train, X_test, y_train, y_test = train_test_split(X, y, test_size=0.30, random_state=42)"
   ]
  },
  {
   "cell_type": "code",
   "execution_count": null,
   "id": "4c539649",
   "metadata": {},
   "outputs": [],
   "source": [
    "type(X_train)"
   ]
  },
  {
   "cell_type": "markdown",
   "id": "a56b5ae9",
   "metadata": {},
   "source": [
    "#### Generating the model"
   ]
  },
  {
   "cell_type": "code",
   "execution_count": null,
   "id": "a98b683b",
   "metadata": {},
   "outputs": [],
   "source": [
    "from sklearn.ensemble import RandomForestClassifier\n",
    "\n",
    "# We can go with lots of features because our dataset contains 20K!!!\n",
    "rf = RandomForestClassifier(max_depth=100, n_estimators=50)\n",
    "\n",
    "y_train = y_train.astype('int')\n",
    "y_test  = y_test.astype('int')\n",
    "\n",
    "rf.fit(X_train, y_train)\n",
    "\n",
    "y_train_pred_rf = rf.predict(X_train)\n",
    "y_test_pred_rf  = rf.predict(X_test)"
   ]
  },
  {
   "cell_type": "code",
   "execution_count": null,
   "id": "6cd264ef",
   "metadata": {},
   "outputs": [],
   "source": [
    "model_performance_class(y_train, y_train_pred_rf, y_test, y_test_pred_rf)"
   ]
  },
  {
   "cell_type": "code",
   "execution_count": null,
   "id": "72783a3f",
   "metadata": {},
   "outputs": [],
   "source": [
    "# use nltk.tagger to tag each word\n",
    "# keep only nouns and adjectives"
   ]
  },
  {
   "cell_type": "code",
   "execution_count": null,
   "id": "6ba827e0",
   "metadata": {},
   "outputs": [],
   "source": [
    "nltk.help.upenn_tagset()"
   ]
  },
  {
   "cell_type": "code",
   "execution_count": null,
   "id": "358bdf6e",
   "metadata": {},
   "outputs": [],
   "source": [
    "def filter_review(x):\n",
    "    text = word_tokenize(x)\n",
    "    # Apply an steemer\n",
    "    tags = nltk.pos_tag(text)\n",
    "    words = []\n",
    "    for tag in tags:\n",
    "        # Include the type of words that you want to consider.\n",
    "        # It will be also better \n",
    "        if ( tag[1] in ['JJ','NN','VB'] ):\n",
    "            words.extend(tag[0])\n",
    "    return \" \".join(words)"
   ]
  }
 ],
 "metadata": {
  "kernelspec": {
   "display_name": "Python 3 (ipykernel)",
   "language": "python",
   "name": "python3"
  },
  "language_info": {
   "codemirror_mode": {
    "name": "ipython",
    "version": 3
   },
   "file_extension": ".py",
   "mimetype": "text/x-python",
   "name": "python",
   "nbconvert_exporter": "python",
   "pygments_lexer": "ipython3",
   "version": "3.9.7"
  },
  "toc": {
   "base_numbering": 1,
   "nav_menu": {},
   "number_sections": true,
   "sideBar": true,
   "skip_h1_title": false,
   "title_cell": "Table of Contents",
   "title_sidebar": "Contents",
   "toc_cell": false,
   "toc_position": {
    "height": "calc(100% - 180px)",
    "left": "10px",
    "top": "150px",
    "width": "182px"
   },
   "toc_section_display": true,
   "toc_window_display": true
  }
 },
 "nbformat": 4,
 "nbformat_minor": 5
}
